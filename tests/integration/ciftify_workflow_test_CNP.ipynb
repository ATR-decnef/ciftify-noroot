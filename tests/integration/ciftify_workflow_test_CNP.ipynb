{
 "cells": [
  {
   "cell_type": "code",
   "execution_count": 1,
   "metadata": {
    "collapsed": true
   },
   "outputs": [],
   "source": [
    "import ciftify\n",
    "from ciftify.utils import run\n",
    "import os\n",
    "import datetime\n",
    "import logging\n",
    "from glob import glob"
   ]
  },
  {
   "cell_type": "code",
   "execution_count": 2,
   "metadata": {
    "collapsed": true
   },
   "outputs": [],
   "source": [
    "#working_dir = '/home/edickie/Documents/ciftify_tests/'\n",
    "working_dir = '/scratch/edickie/ciftify_intergration_tests/'\n",
    "src_data_dir= os.path.join(working_dir,'src_data')\n",
    "#work_from = '/home/edickie/Documents/ciftify_tests/run_2017-09-08/'\n",
    "work_from = '/scratch/edickie/ciftify_intergration_tests/run_2018-04-16/'\n",
    "#work_from = None\n",
    "\n",
    "fixtures_dir = '/projects/edickie/code/ciftify/tests/integration/fixtures/'\n",
    "\n",
    "if work_from:\n",
    "    new_outputs = work_from\n",
    "else:\n",
    "    new_outputs= os.path.join(working_dir,'run_{}'.format(datetime.date.today()))\n",
    "DEBUG = True\n",
    "DRYRUN = True\n",
    "\n",
    "## getting the data\n",
    "\n",
    "freesurfer_webtgz = 'https://s3.amazonaws.com/openneuro/ds000030/ds000030_R1.0.4/compressed/ds000030_R1.0.4_derivatives_freesurfer_sub50004-50008.zip'\n",
    "func_webtgz = 'https://s3.amazonaws.com/openneuro/ds000030/ds000030_R1.0.4/compressed/ds000030_R1.0.4_derivatives_sub50004-50008.zip'\n",
    "\n",
    "subids = ['sub-50005','sub-50007']\n",
    "#subids = ['sub-50005','sub-50006']\n",
    "\n",
    "logger = logging.getLogger('ciftify')\n",
    "logger.setLevel(logging.DEBUG)\n",
    "ch = logging.StreamHandler()\n",
    "ch.setLevel(logging.INFO)\n",
    "formatter = logging.Formatter('%(message)s')\n",
    "ch.setFormatter(formatter)\n",
    "logger.addHandler(ch)\n",
    "\n",
    "# Get settings, and add an extra handler for the subject log\n",
    "fh = logging.FileHandler(os.path.join(working_dir, 'ciftify_tests.log'))\n",
    "logger.addHandler(fh)\n",
    "\n",
    "fs_subjects_dir = os.path.join(src_data_dir, 'ds000030_R1.0.4',\n",
    "                               'derivatives','freesurfer')\n",
    "hcp_data_dir = os.path.join(new_outputs, 'hcp')\n",
    "\n",
    "if not os.path.exists(hcp_data_dir):\n",
    "    run(['mkdir','-p',hcp_data_dir])"
   ]
  },
  {
   "cell_type": "code",
   "execution_count": 3,
   "metadata": {
    "collapsed": true
   },
   "outputs": [],
   "source": [
    "def download_file(web_address, local_filename):\n",
    "    '''download file if it does not exist'''\n",
    "    if not os.path.isfile(local_filename):\n",
    "        run(['wget', web_address, '-O', local_filename])\n",
    "    if not os.path.getsize(local_filename) > 0:\n",
    "        os.remove(local_filename)"
   ]
  },
  {
   "cell_type": "code",
   "execution_count": 4,
   "metadata": {
    "collapsed": true
   },
   "outputs": [],
   "source": [
    "def get_recon_all_outputs(hcp_data_dir, subid):\n",
    "    recon_all_out = folder_contents_list(os.path.join(hcp_data_dir, subid))\n",
    "    recon_all_out = [x.replace(subid, 'subid') for x in recon_all_out]\n",
    "    return(recon_all_out)"
   ]
  },
  {
   "cell_type": "code",
   "execution_count": 5,
   "metadata": {
    "collapsed": true
   },
   "outputs": [],
   "source": [
    "def folder_contents_list(path):\n",
    "    '''returns a list of folder contents'''\n",
    "    folder_contents = glob.glob(os.path.join(path, '**'), recursive = True)\n",
    "    folder_contents = [x.replace('{}/'.format(path),'') for x in folder_contents ]\n",
    "    folder_contents = folder_contents[1:] ## the first element is the path name\n",
    "    return(folder_contents)"
   ]
  },
  {
   "cell_type": "code",
   "execution_count": 6,
   "metadata": {
    "collapsed": true
   },
   "outputs": [],
   "source": [
    "def seed_corr_default_out(func, seed):\n",
    "    func = ciftify.meants.NibInput(func)\n",
    "    seed = ciftify.meants.NibInput(seed)\n",
    "    outputdir = os.path.dirname(func.path)\n",
    "    outbase = '{}_{}'.format(func.base, seed.base)\n",
    "    outputname = os.path.join(outputdir, outbase)\n",
    "    if func.type == \"nifti\": outputname = '{}.nii.gz'.format(outputname)\n",
    "    if func.type == \"cifti\": outputname = '{}.dscalar.nii'.format(outputname)\n",
    "    return(outputname)\n",
    "\n",
    "def run_vis_map(result_map, result_prefix, result_type):\n",
    "    run(['cifti_vis_map', '{}-snaps'.format(result_type), '--hcp-data-dir', hcp_data_dir, \n",
    "     result_map, subid, result_prefix])\n",
    "\n",
    "def run_seedcorr_peaktable(result_map):\n",
    "    run(['ciftify_peaktable',  \n",
    "         '--min-threshold', '-0.5', \n",
    "         '--max-threshold', '0.5', \n",
    "         '--no-cluster-dlabel', \n",
    "         result_map])\n",
    "\n",
    "def run_seed_corr_fmri_test(func_cifti, hcp_data_dir, roi_dir):\n",
    "    ''' runs one of the seed corrs and then peak table to get a csv to test for each dtseries'''\n",
    "    subid = os.path.basename(os.path.dirname(os.path.dirname(os.path.dirname(os.path.dirname(func_cifti)))))\n",
    "    atlas_vol =  os.path.join(hcp_data_dir, subid, 'MNINonLinear', 'wmparc.nii.gz')\n",
    "    struct = 'RIGHT-PUTAMEN'\n",
    "    putamen_vol_seed_mask = os.path.join(roi_dir, '{}_{}_vol.nii.gz'.format(subid, struct))\n",
    "    if not os.path.exists(putamen_vol_seed_mask):\n",
    "        run(['wb_command', '-volume-label-to-roi', atlas_vol, putamen_vol_seed_mask, '-name', struct])\n",
    "    run(['ciftify_seed_corr', func_cifti, putamen_vol_seed_mask])\n",
    "    run_seedcorr_peaktable(seed_corr_default_out(func_cifti, putamen_vol_seed_mask))"
   ]
  },
  {
   "cell_type": "code",
   "execution_count": 7,
   "metadata": {
    "collapsed": true
   },
   "outputs": [],
   "source": [
    "subids = ['sub-50005','sub-50007']\n",
    "\n",
    "if not os.path.exists(src_data_dir):\n",
    "    run(['mkdir','-p',src_data_dir])\n",
    "\n",
    "for subid in subids:\n",
    "    sub_fs_path = os.path.join('ds000030_R1.0.4','derivatives','freesurfer', subid)\n",
    "if not os.path.exists(os.path.join(src_data_dir, sub_fs_path)):\n",
    "    if not os.path.exists(os.path.join(src_data_dir, \n",
    "                                       os.path.basename(freesurfer_webtgz))):        \n",
    "        run(['wget', '-P', src_data_dir, freesurfer_webtgz])\n",
    "\n",
    "        run(['unzip', \n",
    "             os.path.join(src_data_dir, \n",
    "                          os.path.basename(freesurfer_webtgz)), \n",
    "             os.path.join(sub_fs_path,'*'),\n",
    "             '-d', src_data_dir])\n",
    "\n",
    "for subid in subids:\n",
    "    sub_file = os.path.join('ds000030_R1.0.4','derivatives',\n",
    "                            'fmriprep', subid,'func',\n",
    "                            '{}_task-rest_bold_space-T1w_preproc.nii.gz'.format(subid))\n",
    "    if not os.path.exists(os.path.join(src_data_dir,sub_file)):\n",
    "        if not os.path.exists(os.path.join(src_data_dir, \n",
    "                                           os.path.basename(func_webtgz))):\n",
    "            run(['wget', '-P', src_data_dir, func_webtgz])\n",
    "\n",
    "            run(['unzip', \n",
    "                 os.path.join(src_data_dir, \n",
    "                              os.path.basename(func_webtgz)), \n",
    "                 sub_file,\n",
    "                 '-d', src_data_dir])\n",
    "\n",
    "for subid in subids:\n",
    "    sub_file = os.path.join('ds000030_R1.0.4','derivatives',\n",
    "                            'fmriprep', subid,'func',\n",
    "                            '{}_task-rest_bold_space-MNI152NLin2009cAsym_preproc.nii.gz'.format(subid))\n",
    "    if not os.path.exists(os.path.join(src_data_dir,sub_file)):\n",
    "        if not os.path.exists(os.path.join(src_data_dir, \n",
    "                                           os.path.basename(func_webtgz))):\n",
    "            run(['wget', '-P', src_data_dir, func_webtgz])\n",
    "\n",
    "            run(['unzip', \n",
    "                 os.path.join(src_data_dir, \n",
    "                              os.path.basename(func_webtgz)), \n",
    "                 sub_file,\n",
    "                 '-d', src_data_dir])"
   ]
  },
  {
   "cell_type": "code",
   "execution_count": null,
   "metadata": {},
   "outputs": [],
   "source": [
    "run(['ciftify_recon_all', '--resample-to-T1w32k', '--surf-reg', 'MSMSulc', '--ciftify-work-dir', hcp_data_dir,\n",
    "    '--fs-subjects-dir', fs_subjects_dir, \n",
    "    subids[0]])"
   ]
  },
  {
   "cell_type": "code",
   "execution_count": null,
   "metadata": {},
   "outputs": [],
   "source": [
    "run(['ciftify_recon_all', '--surf-reg', 'FS', '--hcp-data-dir', hcp_data_dir,\n",
    "    '--fs-subjects-dir', fs_subjects_dir, \n",
    "    subids[1]])"
   ]
  },
  {
   "cell_type": "code",
   "execution_count": null,
   "metadata": {},
   "outputs": [],
   "source": [
    "run(['cifti_vis_recon_all', 'snaps', '--hcp-data-dir',hcp_data_dir, 'NYU_0050954'])\n",
    "run(['cifti_vis_recon_all', 'index', '--hcp-data-dir', hcp_data_dir])"
   ]
  },
  {
   "cell_type": "markdown",
   "metadata": {
    "collapsed": true
   },
   "source": [
    "# Running ciftify_subject_fmri"
   ]
  },
  {
   "cell_type": "code",
   "execution_count": 41,
   "metadata": {},
   "outputs": [
    {
     "name": "stderr",
     "output_type": "stream",
     "text": [
      "Running: ciftify_subject_fmri --SmoothingFWHM 12 --FLIRT-to-T1w --OutputSurfDiagnostics --hcp-data-dir /scratch/edickie/ciftify_intergration_tests/run_2018-04-16/hcp /scratch/edickie/ciftify_intergration_tests/src_data/ds000030_R1.0.4/derivatives/fmriprep/sub-50005/func/sub-50005_task-rest_bold_space-native_preproc.nii.gz sub-50005 rest_test1\n",
      "{'--DilateBelowPct': None,\n",
      " '--FLIRT-to-T1w': True,\n",
      " '--OutputSurfDiagnostics': True,\n",
      " '--SmoothingFWHM': '12',\n",
      " '--already-in-MNI': False,\n",
      " '--ciftify-conf': None,\n",
      " '--ciftify-work-dir': None,\n",
      " '--debug': False,\n",
      " '--dry-run': False,\n",
      " '--func-ref': 'first_vol',\n",
      " '--hcp-data-dir': '/scratch/edickie/ciftify_intergration_tests/run_2018-04-16/hcp',\n",
      " '--help': False,\n",
      " '--surf-reg': 'FS',\n",
      " '--verbose': False,\n",
      " '<func.nii.gz>': '/scratch/edickie/ciftify_intergration_tests/src_data/ds000030_R1.0.4/derivatives/fmriprep/sub-50005/func/sub-50005_task-rest_bold_space-native_preproc.nii.gz',\n",
      " '<subject>': 'sub-50005',\n",
      " '<task_label>': 'rest_test1'}\n",
      "\n",
      "Argument --hcp-data-dir has been deprecated. Please instead use --ciftify-work-dir in the future.\n",
      "Smoothing kernels greater than 6mm FWHM are not recommended by the HCP, 12.0 specified\n",
      "/mnt/tigrlab/scratch/edickie/ciftify_intergration_tests/run_2018-04-16/hcp/sub-50005/MNINonLinear/Results/rest_test1/RibbonVolumeToSurfaceMapping already exists\n",
      "\n"
     ]
    },
    {
     "data": {
      "text/plain": [
       "0"
      ]
     },
     "execution_count": 41,
     "metadata": {},
     "output_type": "execute_result"
    }
   ],
   "source": [
    "subid=subids[0]\n",
    "native_func = os.path.join(src_data_dir,'ds000030_R1.0.4','derivatives',\n",
    "                 'fmriprep', subid,'func',\n",
    "                 '{}_task-rest_bold_space-native_preproc.nii.gz'.format(subid))\n",
    "mat_file = os.path.join(src_data_dir, 'ds000030_R1.0.4','derivatives',\n",
    "                            'fmriprep', subid,'func',\n",
    "                            '{}_task-rest_bold_T1_to_EPI.mat'.format(subid))\n",
    "\n",
    "with open(mat_file, \"w\") as text_file:\n",
    "    text_file.write('''1.03  -0.015  0.0025  -15.0\n",
    "0.014  1.01  -0.005  -11.9\n",
    "-0.007 0.01  0.99  2\n",
    "0  0  0  1\n",
    "''')\n",
    "\n",
    "t1_func = os.path.join(src_data_dir,'ds000030_R1.0.4','derivatives',\n",
    "                 'fmriprep', subid,'func',\n",
    "                 '{}_task-rest_bold_space-T1w_preproc.nii.gz'.format(subid))\n",
    "if not os.path.exists(native_func):\n",
    "    run(['flirt', '-in', t1_func, '-ref', t1_func, \n",
    "         '-out', native_func, '-init', mat_file, '-applyxfm'])\n",
    "\n",
    "run(['ciftify_subject_fmri','--SmoothingFWHM', '12', '--FLIRT-to-T1w',\n",
    "     '--OutputSurfDiagnostics',\n",
    "    '--hcp-data-dir', hcp_data_dir, \n",
    "    native_func, subid, 'rest_test1'])"
   ]
  },
  {
   "cell_type": "code",
   "execution_count": 53,
   "metadata": {},
   "outputs": [
    {
     "name": "stderr",
     "output_type": "stream",
     "text": [
      "Running: cifti_vis_fmri snaps --SmoothingFWHM 12 --hcp-data-dir /scratch/edickie/ciftify_intergration_tests/run_2018-04-16/hcp rest_test1 sub-50005\n",
      "cmd: cifti_vis_fmri snaps --SmoothingFWHM 12 --hcp-data-dir /scratch/edickie/ciftify_intergration_tests/run_2018-04-16/hcp rest_test1 sub-50005 \n",
      " Failed with returncode 1\n",
      "[cifti_vis_fmri] WARNING: The 'snaps' argument has be deprecated. Please use 'subject' in the future.\n",
      "[ciftify.utils] WARNING: Argument --hcp-data-dir has been deprecated. Please instead use --ciftify-work-dir in the future.\n",
      "[cifti_vis_fmri] ERROR: Expected smoothed fmri file /mnt/tigrlab/scratch/edickie/ciftify_intergration_tests/run_2018-04-16/hcp/sub-50005/MNINonLinear/Results/rest_test1/rest_test1_Atlas_s12.dtseries.nii not found.To generate temporary smoothed file for visulizations use the --smooth-con flag instead\n",
      "\n"
     ]
    },
    {
     "data": {
      "text/plain": [
       "1"
      ]
     },
     "execution_count": 53,
     "metadata": {},
     "output_type": "execute_result"
    }
   ],
   "source": [
    "run(['cifti_vis_fmri', 'snaps', '--SmoothingFWHM', '12', '--hcp-data-dir',hcp_data_dir, 'rest_test1', subid])"
   ]
  },
  {
   "cell_type": "code",
   "execution_count": 52,
   "metadata": {},
   "outputs": [
    {
     "name": "stderr",
     "output_type": "stream",
     "text": [
      "Running: ciftify_subject_fmri --SmoothingFWHM 4 --hcp-data-dir /scratch/edickie/ciftify_intergration_tests/run_2018-04-16/hcp --OutputSurfDiagnostics --surf-reg MSMSulc /scratch/edickie/ciftify_intergration_tests/src_data/ds000030_R1.0.4/derivatives/fmriprep/sub-50005/func/sub-50005_task-rest_bold_space-T1w_preproc.nii.gz sub-50005 rest_t1first_MSMSulc\n",
      "{'--DilateBelowPct': None,\n",
      " '--FLIRT-to-T1w': False,\n",
      " '--OutputSurfDiagnostics': True,\n",
      " '--SmoothingFWHM': '4',\n",
      " '--already-in-MNI': False,\n",
      " '--ciftify-conf': None,\n",
      " '--ciftify-work-dir': None,\n",
      " '--debug': False,\n",
      " '--dry-run': False,\n",
      " '--func-ref': 'first_vol',\n",
      " '--hcp-data-dir': '/scratch/edickie/ciftify_intergration_tests/run_2018-04-16/hcp',\n",
      " '--help': False,\n",
      " '--surf-reg': 'MSMSulc',\n",
      " '--verbose': False,\n",
      " '<func.nii.gz>': '/scratch/edickie/ciftify_intergration_tests/src_data/ds000030_R1.0.4/derivatives/fmriprep/sub-50005/func/sub-50005_task-rest_bold_space-T1w_preproc.nii.gz',\n",
      " '<subject>': 'sub-50005',\n",
      " '<task_label>': 'rest_t1first_MSMSulc'}\n",
      "\n",
      "Argument --hcp-data-dir has been deprecated. Please instead use --ciftify-work-dir in the future.\n",
      "/mnt/tigrlab/scratch/edickie/ciftify_intergration_tests/run_2018-04-16/hcp/sub-50005/MNINonLinear/Results/rest_t1first_MSMSulc/RibbonVolumeToSurfaceMapping already exists\n",
      "\n"
     ]
    },
    {
     "data": {
      "text/plain": [
       "0"
      ]
     },
     "execution_count": 52,
     "metadata": {},
     "output_type": "execute_result"
    }
   ],
   "source": [
    "run(['ciftify_subject_fmri', '--SmoothingFWHM', '4', \n",
    "    '--hcp-data-dir', hcp_data_dir, '--OutputSurfDiagnostics',\n",
    "    '--surf-reg', 'MSMSulc', t1_func,\n",
    "    subid, 'rest_t1first_MSMSulc'])"
   ]
  },
  {
   "cell_type": "code",
   "execution_count": 54,
   "metadata": {},
   "outputs": [
    {
     "name": "stderr",
     "output_type": "stream",
     "text": [
      "Running: cifti_vis_fmri snaps --SmoothingFWHM 4 --hcp-data-dir /scratch/edickie/ciftify_intergration_tests/run_2018-04-16/hcp rest_t1first_MSMSulc sub-50005\n",
      "cmd: cifti_vis_fmri snaps --SmoothingFWHM 4 --hcp-data-dir /scratch/edickie/ciftify_intergration_tests/run_2018-04-16/hcp rest_t1first_MSMSulc sub-50005 \n",
      " Failed with returncode 1\n",
      "[cifti_vis_fmri] WARNING: The 'snaps' argument has be deprecated. Please use 'subject' in the future.\n",
      "[ciftify.utils] WARNING: Argument --hcp-data-dir has been deprecated. Please instead use --ciftify-work-dir in the future.\n",
      "[cifti_vis_fmri] ERROR: Expected smoothed fmri file /mnt/tigrlab/scratch/edickie/ciftify_intergration_tests/run_2018-04-16/hcp/sub-50005/MNINonLinear/Results/rest_t1first_MSMSulc/rest_t1first_MSMSulc_Atlas_s4.dtseries.nii not found.To generate temporary smoothed file for visulizations use the --smooth-con flag instead\n",
      "\n"
     ]
    },
    {
     "data": {
      "text/plain": [
       "1"
      ]
     },
     "execution_count": 54,
     "metadata": {},
     "output_type": "execute_result"
    }
   ],
   "source": [
    "run(['cifti_vis_fmri', 'snaps', '--SmoothingFWHM', '4', '--hcp-data-dir',hcp_data_dir, 'rest_t1first_MSMSulc', subid])"
   ]
  },
  {
   "cell_type": "code",
   "execution_count": 48,
   "metadata": {},
   "outputs": [
    {
     "name": "stderr",
     "output_type": "stream",
     "text": [
      "Running: ciftify_subject_fmri --already-in-MNI --SmoothingFWHM 6 --hcp-data-dir /scratch/edickie/ciftify_intergration_tests/run_2018-04-16/hcp --OutputSurfDiagnostics /scratch/edickie/ciftify_intergration_tests/src_data/ds000030_R1.0.4/derivatives/fmriprep/sub-50005/func/sub-50005_task-rest_bold_space-MNI152NLin2009cAsym_preproc.nii.gz sub-50005 rest_bad_transform\n",
      "{'--DilateBelowPct': None,\n",
      " '--FLIRT-to-T1w': False,\n",
      " '--OutputSurfDiagnostics': True,\n",
      " '--SmoothingFWHM': '6',\n",
      " '--already-in-MNI': True,\n",
      " '--ciftify-conf': None,\n",
      " '--ciftify-work-dir': None,\n",
      " '--debug': False,\n",
      " '--dry-run': False,\n",
      " '--func-ref': 'first_vol',\n",
      " '--hcp-data-dir': '/scratch/edickie/ciftify_intergration_tests/run_2018-04-16/hcp',\n",
      " '--help': False,\n",
      " '--surf-reg': 'FS',\n",
      " '--verbose': False,\n",
      " '<func.nii.gz>': '/scratch/edickie/ciftify_intergration_tests/src_data/ds000030_R1.0.4/derivatives/fmriprep/sub-50005/func/sub-50005_task-rest_bold_space-MNI152NLin2009cAsym_preproc.nii.gz',\n",
      " '<subject>': 'sub-50005',\n",
      " '<task_label>': 'rest_bad_transform'}\n",
      "\n",
      "Argument --hcp-data-dir has been deprecated. Please instead use --ciftify-work-dir in the future.\n",
      "\n"
     ]
    },
    {
     "data": {
      "text/plain": [
       "0"
      ]
     },
     "execution_count": 48,
     "metadata": {},
     "output_type": "execute_result"
    }
   ],
   "source": [
    "subid = subids[0]\n",
    "run(['ciftify_subject_fmri', '--already-in-MNI', '--SmoothingFWHM', '6', \n",
    "    '--hcp-data-dir', hcp_data_dir, '--OutputSurfDiagnostics',\n",
    "    os.path.join(src_data_dir,'ds000030_R1.0.4','derivatives',\n",
    "                 'fmriprep', subid,'func',\n",
    "                 '{}_task-rest_bold_space-MNI152NLin2009cAsym_preproc.nii.gz'.format(subid)),\n",
    "    subid, 'rest_bad_transform'])"
   ]
  }
 ],
 "metadata": {
  "kernelspec": {
   "display_name": "Python 3",
   "language": "python",
   "name": "python3"
  },
  "language_info": {
   "codemirror_mode": {
    "name": "ipython",
    "version": 3
   },
   "file_extension": ".py",
   "mimetype": "text/x-python",
   "name": "python",
   "nbconvert_exporter": "python",
   "pygments_lexer": "ipython3",
   "version": "3.6.1"
  }
 },
 "nbformat": 4,
 "nbformat_minor": 2
}
