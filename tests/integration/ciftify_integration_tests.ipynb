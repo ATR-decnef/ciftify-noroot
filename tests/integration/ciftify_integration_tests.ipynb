{
 "cells": [
  {
   "cell_type": "code",
   "execution_count": 1,
   "metadata": {
    "collapsed": true
   },
   "outputs": [],
   "source": [
    "import ciftify\n",
    "from ciftify.utils import run\n",
    "import os\n",
    "import datetime\n",
    "import logging\n",
    "import glob"
   ]
  },
  {
   "cell_type": "code",
   "execution_count": 3,
   "metadata": {},
   "outputs": [
    {
     "name": "stderr",
     "output_type": "stream",
     "text": [
      "Running: mkdir -p /home/edickie/Documents/ciftify_tests/run_2017-09-08/hcp\n",
      "Running: mkdir -p /home/edickie/Documents/ciftify_tests/run_2017-09-08/hcp\n"
     ]
    }
   ],
   "source": [
    "working_dir = '/home/edickie/Documents/ciftify_tests/'\n",
    "#working_dir = '/scratch/edickie/ciftify_intergration_tests/'\n",
    "src_data_dir= os.path.join(working_dir,'src_data')\n",
    "#work_from = '/home/edickie/Documents/ciftify_tests/run_2017-09-02/'\n",
    "#work_from = '/home/edickie/Documents/ciftify_tests/run_2017-09-02/'\n",
    "work_from = None\n",
    "\n",
    "if work_from:\n",
    "    new_outputs = work_from\n",
    "else:\n",
    "    new_outputs= os.path.join(working_dir,'run_{}'.format(datetime.date.today()))\n",
    "DEBUG = True\n",
    "DRYRUN = True\n",
    "\n",
    "## getting the data\n",
    "\n",
    "freesurfer_webtgz = 'https://s3.amazonaws.com/openneuro/ds000030/ds000030_R1.0.4/compressed/ds000030_R1.0.4_derivatives_freesurfer_sub50004-50008.zip'\n",
    "func_webtgz = 'https://s3.amazonaws.com/openneuro/ds000030/ds000030_R1.0.4/compressed/ds000030_R1.0.4_derivatives_sub50004-50008.zip'\n",
    "\n",
    "subids = ['sub-50005','sub-50007']\n",
    "#subids = ['sub-50005','sub-50006']\n",
    "\n",
    "logger = logging.getLogger('ciftify')\n",
    "logger.setLevel(logging.DEBUG)\n",
    "ch = logging.StreamHandler()\n",
    "ch.setLevel(logging.INFO)\n",
    "formatter = logging.Formatter('%(message)s')\n",
    "ch.setFormatter(formatter)\n",
    "logger.addHandler(ch)  \n",
    "\n",
    "fh = logging.FileHandler(os.path.join(working_dir, 'ciftify_tests.log'))\n",
    "fh.setLevel(logging.INFO)\n",
    "fh.setFormatter(formatter)\n",
    "logger.addHandler(fh)\n",
    "\n",
    "fs_subjects_dir = os.path.join(src_data_dir, 'ds000030_R1.0.4',\n",
    "                               'derivatives','freesurfer')\n",
    "hcp_data_dir = os.path.join(new_outputs, 'hcp')\n",
    "\n",
    "if not os.path.exists(hcp_data_dir):\n",
    "    run(['mkdir','-p',hcp_data_dir])"
   ]
  },
  {
   "cell_type": "code",
   "execution_count": 4,
   "metadata": {
    "collapsed": true
   },
   "outputs": [],
   "source": [
    "def download_file(web_address, local_filename):\n",
    "    '''download file if it does not exist'''\n",
    "    if not os.path.isfile(local_filename):\n",
    "        run(['wget', web_address, '-O', local_filename])\n",
    "    if not os.path.getsize(local_filename) > 0:\n",
    "        os.remove(local_filename)"
   ]
  },
  {
   "cell_type": "code",
   "execution_count": 5,
   "metadata": {
    "collapsed": true
   },
   "outputs": [],
   "source": [
    "def get_recon_all_outputs(hcp_data_dir, subid):\n",
    "    recon_all_out = folder_contents_list(os.path.join(hcp_data_dir, subid))\n",
    "    recon_all_out = [x.replace(subid, 'subid') for x in recon_all_out]\n",
    "    return(recon_all_out)"
   ]
  },
  {
   "cell_type": "code",
   "execution_count": 6,
   "metadata": {
    "collapsed": true
   },
   "outputs": [],
   "source": [
    "def folder_contents_list(path):\n",
    "    '''returns a list of folder contents'''\n",
    "    folder_contents = glob.glob(os.path.join(path, '**'), recursive = True)\n",
    "    folder_contents = [x.replace('{}/'.format(path),'') for x in folder_contents ]\n",
    "    folder_contents = folder_contents[1:] ## the first element is the path name\n",
    "    return(folder_contents)"
   ]
  },
  {
   "cell_type": "code",
   "execution_count": 86,
   "metadata": {
    "collapsed": true
   },
   "outputs": [],
   "source": [
    "def seed_corr_default_out(func, seed):\n",
    "    functype, funcbase = ciftify.io.determine_filetype(func)\n",
    "    _, seedbase = ciftify.io.determine_filetype(seed)\n",
    "    outputdir = os.path.dirname(func)\n",
    "    outbase = '{}_{}'.format(funcbase, seedbase)\n",
    "    outputname = os.path.join(outputdir, outbase)\n",
    "    if functype == \"nifti\": outputname = '{}.nii.gz'.format(outputname)\n",
    "    if functype == \"cifti\": outputname = '{}.dscalar.nii'.format(outputname)\n",
    "    return(outputname)\n",
    "\n",
    "def run_vis_map(result_map, result_prefix, result_type):\n",
    "    run(['cifti_vis_map', '{}-snaps'.format(result_type), '--hcp-data-dir', hcp_data_dir, \n",
    "     result_map, subid, result_prefix])\n",
    "\n",
    "def run_seedcorr_peaktable(result_map):\n",
    "    run(['ciftify_peaktable',  \n",
    "         '--min-threshold', '-0.5', \n",
    "         '--max-threshold', '0.5', \n",
    "         '--no-cluster-dlabel', \n",
    "         result_map])\n",
    "\n",
    "def run_seed_corr_fmri_test(func_cifti, hcp_data_dir):\n",
    "    ''' runs one of the seed corrs and then peak table to get a csv to test for each dtseries'''\n",
    "    subid = os.path.basename(os.path.dirname(os.path.dirname(os.path.dirname(os.path.dirname(func_cifti)))))\n",
    "    atlas_vol =  os.path.join(hcp_data_dir, subid, 'MNINonLinear', 'wmparc.nii.gz')\n",
    "    struct = 'RIGHT-PUTAMEN'\n",
    "    putamen_vol_seed_mask = os.path.join(seed_corr_dir, '{}_{}_vol.nii.gz'.format(subid, struct))\n",
    "    if not os.path.exists(putamen_vol_seed_mask):\n",
    "        run(['wb_command', '-volume-label-to-roi', atlas_vol, putamen_vol_seed_mask, '-name', struct])\n",
    "    run(['ciftify_seed_corr', func_cifti, putamen_vol_seed_mask])\n",
    "    run_seedcorr_peaktable(seed_corr_default_out(func_cifti, putamen_vol_seed_mask))"
   ]
  },
  {
   "cell_type": "markdown",
   "metadata": {},
   "source": [
    "# Getting ABIDE and running recon-all"
   ]
  },
  {
   "cell_type": "code",
   "execution_count": 7,
   "metadata": {},
   "outputs": [
    {
     "name": "stderr",
     "output_type": "stream",
     "text": [
      "Running: wget https://s3.amazonaws.com/fcp-indi/data/Projects/ABIDE_Initiative/Outputs/freesurfer/5.1/NYU_0050954/mri/aparc%20aseg.mgz -O /home/edickie/Documents/ciftify_tests/src_data/abide/freesurfer/NYU_0050954/mri/aparc+aseg.mgz\n",
      "Running: wget https://s3.amazonaws.com/fcp-indi/data/Projects/ABIDE_Initiative/Outputs/freesurfer/5.1/NYU_0050954/mri/aparc%20aseg.mgz -O /home/edickie/Documents/ciftify_tests/src_data/abide/freesurfer/NYU_0050954/mri/aparc+aseg.mgz\n",
      "cmd: wget https://s3.amazonaws.com/fcp-indi/data/Projects/ABIDE_Initiative/Outputs/freesurfer/5.1/NYU_0050954/mri/aparc%20aseg.mgz -O /home/edickie/Documents/ciftify_tests/src_data/abide/freesurfer/NYU_0050954/mri/aparc+aseg.mgz \n",
      " Failed with returncode 8\n",
      "cmd: wget https://s3.amazonaws.com/fcp-indi/data/Projects/ABIDE_Initiative/Outputs/freesurfer/5.1/NYU_0050954/mri/aparc%20aseg.mgz -O /home/edickie/Documents/ciftify_tests/src_data/abide/freesurfer/NYU_0050954/mri/aparc+aseg.mgz \n",
      " Failed with returncode 8\n",
      "--2017-09-08 21:27:14--  https://s3.amazonaws.com/fcp-indi/data/Projects/ABIDE_Initiative/Outputs/freesurfer/5.1/NYU_0050954/mri/aparc%20aseg.mgz\n",
      "Resolving s3.amazonaws.com (s3.amazonaws.com)... 52.216.81.107\n",
      "Connecting to s3.amazonaws.com (s3.amazonaws.com)|52.216.81.107|:443... connected.\n",
      "HTTP request sent, awaiting response... 404 Not Found\n",
      "2017-09-08 21:27:14 ERROR 404: Not Found.\n",
      "\n",
      "\n",
      "--2017-09-08 21:27:14--  https://s3.amazonaws.com/fcp-indi/data/Projects/ABIDE_Initiative/Outputs/freesurfer/5.1/NYU_0050954/mri/aparc%20aseg.mgz\n",
      "Resolving s3.amazonaws.com (s3.amazonaws.com)... 52.216.81.107\n",
      "Connecting to s3.amazonaws.com (s3.amazonaws.com)|52.216.81.107|:443... connected.\n",
      "HTTP request sent, awaiting response... 404 Not Found\n",
      "2017-09-08 21:27:14 ERROR 404: Not Found.\n",
      "\n",
      "\n",
      "Running: wget https://s3.amazonaws.com/fcp-indi/data/Projects/ABIDE_Initiative/Outputs/freesurfer/5.1/NYU_0050954/mri/aparc.a2009s%20aseg.mgz -O /home/edickie/Documents/ciftify_tests/src_data/abide/freesurfer/NYU_0050954/mri/aparc.a2009s+aseg.mgz\n",
      "Running: wget https://s3.amazonaws.com/fcp-indi/data/Projects/ABIDE_Initiative/Outputs/freesurfer/5.1/NYU_0050954/mri/aparc.a2009s%20aseg.mgz -O /home/edickie/Documents/ciftify_tests/src_data/abide/freesurfer/NYU_0050954/mri/aparc.a2009s+aseg.mgz\n",
      "cmd: wget https://s3.amazonaws.com/fcp-indi/data/Projects/ABIDE_Initiative/Outputs/freesurfer/5.1/NYU_0050954/mri/aparc.a2009s%20aseg.mgz -O /home/edickie/Documents/ciftify_tests/src_data/abide/freesurfer/NYU_0050954/mri/aparc.a2009s+aseg.mgz \n",
      " Failed with returncode 8\n",
      "cmd: wget https://s3.amazonaws.com/fcp-indi/data/Projects/ABIDE_Initiative/Outputs/freesurfer/5.1/NYU_0050954/mri/aparc.a2009s%20aseg.mgz -O /home/edickie/Documents/ciftify_tests/src_data/abide/freesurfer/NYU_0050954/mri/aparc.a2009s+aseg.mgz \n",
      " Failed with returncode 8\n",
      "--2017-09-08 21:27:14--  https://s3.amazonaws.com/fcp-indi/data/Projects/ABIDE_Initiative/Outputs/freesurfer/5.1/NYU_0050954/mri/aparc.a2009s%20aseg.mgz\n",
      "Resolving s3.amazonaws.com (s3.amazonaws.com)... 52.216.82.51\n",
      "Connecting to s3.amazonaws.com (s3.amazonaws.com)|52.216.82.51|:443... connected.\n",
      "HTTP request sent, awaiting response... 404 Not Found\n",
      "2017-09-08 21:27:15 ERROR 404: Not Found.\n",
      "\n",
      "\n",
      "--2017-09-08 21:27:14--  https://s3.amazonaws.com/fcp-indi/data/Projects/ABIDE_Initiative/Outputs/freesurfer/5.1/NYU_0050954/mri/aparc.a2009s%20aseg.mgz\n",
      "Resolving s3.amazonaws.com (s3.amazonaws.com)... 52.216.82.51\n",
      "Connecting to s3.amazonaws.com (s3.amazonaws.com)|52.216.82.51|:443... connected.\n",
      "HTTP request sent, awaiting response... 404 Not Found\n",
      "2017-09-08 21:27:15 ERROR 404: Not Found.\n",
      "\n",
      "\n"
     ]
    }
   ],
   "source": [
    "abide_amazon_addy = 'https://s3.amazonaws.com/fcp-indi/data/Projects/ABIDE_Initiative/Outputs/freesurfer/5.1'\n",
    "\n",
    "subid = 'NYU_0050954'\n",
    "abide_freesurfer = os.path.join(src_data_dir, 'abide', 'freesurfer')\n",
    "\n",
    "fs_subdir = os.path.join(abide_freesurfer, subid)\n",
    "if not os.path.exists(fs_subdir):    \n",
    "    run(['mkdir', '-p', fs_subdir])\n",
    "\n",
    "for subdir in ['mri', 'surf','label','scripts']:\n",
    "    localdir = os.path.join(fs_subdir, subdir)\n",
    "    if not os.path.exists(localdir):\n",
    "        run(['mkdir', '-p', localdir])\n",
    "    \n",
    "for filename in ['T1.mgz', 'aparc+aseg.mgz', 'aparc.a2009s+aseg.mgz', 'wmparc.mgz', 'brain.finalsurfs.mgz']:\n",
    "    download_file(os.path.join(abide_amazon_addy, subid, 'mri', filename.replace('+','%20')),\n",
    "                               os.path.join(fs_subdir, 'mri', filename))\n",
    "\n",
    "for surface in ['pial', 'white', 'sphere.reg', 'sphere', 'curv', 'sulc', 'thickness']:\n",
    "    for hemi in ['lh', 'rh']:\n",
    "        download_file(os.path.join(abide_amazon_addy, subid, 'surf', '{}.{}'.format(hemi,surface)),\n",
    "                      os.path.join(fs_subdir, 'surf', '{}.{}'.format(hemi,surface)))\n",
    "\n",
    "for labelname in ['aparc', 'aparc.a2009s', 'BA']:\n",
    "    for hemi in ['lh', 'rh']:\n",
    "        download_file(os.path.join(abide_amazon_addy, subid, 'label', '{}.{}.annot'.format(hemi,labelname)),\n",
    "                      os.path.join(fs_subdir, 'label', '{}.{}.annot'.format(hemi,labelname))) \n",
    "\n",
    "for script in ['recon-all.done', 'build-stamp.txt']:\n",
    "    download_file(os.path.join(abide_amazon_addy, subid, 'scripts', script), \n",
    "                  os.path.join(fs_subdir, 'scripts', script))"
   ]
  },
  {
   "cell_type": "code",
   "execution_count": 8,
   "metadata": {},
   "outputs": [
    {
     "name": "stderr",
     "output_type": "stream",
     "text": [
      "Running: ciftify_recon_all --hcp-data-dir /home/edickie/Documents/ciftify_tests/run_2017-09-08/hcp --fs-subjects-dir /home/edickie/Documents/ciftify_tests/src_data/abide/freesurfer NYU_0050954\n",
      "Running: ciftify_recon_all --hcp-data-dir /home/edickie/Documents/ciftify_tests/run_2017-09-08/hcp --fs-subjects-dir /home/edickie/Documents/ciftify_tests/src_data/abide/freesurfer NYU_0050954\n",
      "/home/edickie/Documents/ciftify_tests/src_data/abide/freesurfer/NYU_0050954/mri/aparc.a2009s+aseg.mgz not found\n",
      "/home/edickie/Documents/ciftify_tests/src_data/abide/freesurfer/NYU_0050954/mri/aparc+aseg.mgz not found\n",
      "\n",
      "/home/edickie/Documents/ciftify_tests/src_data/abide/freesurfer/NYU_0050954/mri/aparc.a2009s+aseg.mgz not found\n",
      "/home/edickie/Documents/ciftify_tests/src_data/abide/freesurfer/NYU_0050954/mri/aparc+aseg.mgz not found\n",
      "\n"
     ]
    },
    {
     "data": {
      "text/plain": [
       "0"
      ]
     },
     "execution_count": 8,
     "metadata": {},
     "output_type": "execute_result"
    }
   ],
   "source": [
    "run(['ciftify_recon_all', '--hcp-data-dir', hcp_data_dir,\n",
    "        '--fs-subjects-dir', abide_freesurfer, \n",
    "        'NYU_0050954'])"
   ]
  },
  {
   "cell_type": "code",
   "execution_count": 9,
   "metadata": {},
   "outputs": [
    {
     "name": "stderr",
     "output_type": "stream",
     "text": [
      "Running: cifti_vis_recon_all snaps --hcp-data-dir /home/edickie/Documents/ciftify_tests/run_2017-09-08/hcp NYU_0050954\n",
      "Running: cifti_vis_recon_all snaps --hcp-data-dir /home/edickie/Documents/ciftify_tests/run_2017-09-08/hcp NYU_0050954\n",
      "Running: cifti_vis_recon_all index --hcp-data-dir /home/edickie/Documents/ciftify_tests/run_2017-09-08/hcp\n",
      "Running: cifti_vis_recon_all index --hcp-data-dir /home/edickie/Documents/ciftify_tests/run_2017-09-08/hcp\n"
     ]
    },
    {
     "data": {
      "text/plain": [
       "0"
      ]
     },
     "execution_count": 9,
     "metadata": {},
     "output_type": "execute_result"
    }
   ],
   "source": [
    "\n",
    "run(['cifti_vis_recon_all', 'snaps', '--hcp-data-dir',hcp_data_dir, 'NYU_0050954'])\n",
    "run(['cifti_vis_recon_all', 'index', '--hcp-data-dir', hcp_data_dir])"
   ]
  },
  {
   "cell_type": "markdown",
   "metadata": {},
   "source": [
    "## Download ABIDE PCP data for ciftify_vol_result tests"
   ]
  },
  {
   "cell_type": "code",
   "execution_count": 10,
   "metadata": {
    "collapsed": true,
    "scrolled": true
   },
   "outputs": [],
   "source": [
    "def download_vmhc(subid):\n",
    "    amazon_addy = 'https://s3.amazonaws.com/fcp-indi/data/Projects/ABIDE_Initiative/Outputs/cpac/filt_global/vmhc/{}_vmhc.nii.gz'.format(subid)\n",
    "    sub_vmhc = os.path.join(src_vmhc, '{}_vmhc.nii.gz'.format(subid))\n",
    "    download_file(amazon_addy, sub_vmhc)        \n",
    "\n",
    "src_vmhc = os.path.join(src_data_dir, 'abide', 'vmhc')    \n",
    "if not os.path.exists(src_vmhc): \n",
    "    run(['mkdir', src_vmhc])\n",
    "\n",
    "subjects=['NYU_0050954','NYU_0050955']\n",
    "for subid in subjects:\n",
    "    download_vmhc(subid)"
   ]
  },
  {
   "cell_type": "code",
   "execution_count": null,
   "metadata": {
    "collapsed": true
   },
   "outputs": [],
   "source": [
    "result_map = os.path.join(seed_corr_dir, '{}_{}_ciftitocifti_masked.dscalar.nii'.format(subid, struct))\n",
    "result_type = 'cifti'\n",
    "result_prefix = '{}_{}_ciftitocifti_masked'.format(subid, struct)"
   ]
  },
  {
   "cell_type": "code",
   "execution_count": 11,
   "metadata": {},
   "outputs": [
    {
     "name": "stderr",
     "output_type": "stream",
     "text": [
      "Running: cifti_vis_map nifti-snaps --hcp-data-dir /home/edickie/Documents/ciftify_tests/run_2017-09-08/hcp --qcdir /home/edickie/Documents/ciftify_tests/run_2017-09-08/hcp/abide_vmhc_vis --resample-nifti --colour-palette fidl /home/edickie/Documents/ciftify_tests/src_data/abide/vmhc/NYU_0050954_vmhc.nii.gz NYU_0050954 NYU_0050954_vmhc\n",
      "Running: cifti_vis_map nifti-snaps --hcp-data-dir /home/edickie/Documents/ciftify_tests/run_2017-09-08/hcp --qcdir /home/edickie/Documents/ciftify_tests/run_2017-09-08/hcp/abide_vmhc_vis --resample-nifti --colour-palette fidl /home/edickie/Documents/ciftify_tests/src_data/abide/vmhc/NYU_0050954_vmhc.nii.gz NYU_0050954 NYU_0050954_vmhc\n"
     ]
    },
    {
     "data": {
      "text/plain": [
       "0"
      ]
     },
     "execution_count": 11,
     "metadata": {},
     "output_type": "execute_result"
    }
   ],
   "source": [
    "subject = 'NYU_0050954'\n",
    "run(['cifti_vis_map', 'nifti-snaps',\n",
    "        '--hcp-data-dir', hcp_data_dir,\n",
    "        '--qcdir', os.path.join(hcp_data_dir, 'abide_vmhc_vis'),\n",
    "        '--resample-nifti', '--colour-palette', 'fidl', \n",
    "        os.path.join(src_vmhc, '{}_vmhc.nii.gz'.format(subject)), subject, '{}_vmhc'.format(subject)])"
   ]
  },
  {
   "cell_type": "code",
   "execution_count": 12,
   "metadata": {},
   "outputs": [
    {
     "name": "stderr",
     "output_type": "stream",
     "text": [
      "Running: cifti_vis_map nifti-snaps --hcp-data-dir /home/edickie/Documents/ciftify_tests/run_2017-09-08/hcp --qcdir /home/edickie/Documents/ciftify_tests/run_2017-09-08/hcp/abide_vmhc_vis --resample-nifti /home/edickie/Documents/ciftify_tests/src_data/abide/vmhc/NYU_0050954_vmhc.nii.gz NYU_0050954 NYU_0050954_vmhc_dcol\n",
      "Running: cifti_vis_map nifti-snaps --hcp-data-dir /home/edickie/Documents/ciftify_tests/run_2017-09-08/hcp --qcdir /home/edickie/Documents/ciftify_tests/run_2017-09-08/hcp/abide_vmhc_vis --resample-nifti /home/edickie/Documents/ciftify_tests/src_data/abide/vmhc/NYU_0050954_vmhc.nii.gz NYU_0050954 NYU_0050954_vmhc_dcol\n"
     ]
    },
    {
     "data": {
      "text/plain": [
       "0"
      ]
     },
     "execution_count": 12,
     "metadata": {},
     "output_type": "execute_result"
    }
   ],
   "source": [
    "subject = 'NYU_0050954'\n",
    "run(['cifti_vis_map', 'nifti-snaps',\n",
    "        '--hcp-data-dir', hcp_data_dir,\n",
    "        '--qcdir', os.path.join(hcp_data_dir, 'abide_vmhc_vis'),\n",
    "        '--resample-nifti',  \n",
    "        os.path.join(src_vmhc, '{}_vmhc.nii.gz'.format(subject)), subject, '{}_vmhc_dcol'.format(subject)])"
   ]
  },
  {
   "cell_type": "code",
   "execution_count": 13,
   "metadata": {
    "scrolled": true
   },
   "outputs": [
    {
     "name": "stderr",
     "output_type": "stream",
     "text": [
      "Running: cifti_vis_map nifti-snaps --debug --qcdir /home/edickie/Documents/ciftify_tests/run_2017-09-08/hcp/abide_vmhc_vis --resample-nifti --colour-palette fidl /home/edickie/Documents/ciftify_tests/src_data/abide/vmhc/NYU_0050954_vmhc.nii.gz HCP_S1200_GroupAvg NYU_0050954_vmhc\n",
      "Running: cifti_vis_map nifti-snaps --debug --qcdir /home/edickie/Documents/ciftify_tests/run_2017-09-08/hcp/abide_vmhc_vis --resample-nifti --colour-palette fidl /home/edickie/Documents/ciftify_tests/src_data/abide/vmhc/NYU_0050954_vmhc.nii.gz HCP_S1200_GroupAvg NYU_0050954_vmhc\n",
      "[cifti_vis_map] DEBUG: {'--colour-palette': 'fidl',\n",
      " '--debug': True,\n",
      " '--hcp-data-dir': None,\n",
      " '--help': False,\n",
      " '--qcdir': '/home/edickie/Documents/ciftify_tests/run_2017-09-08/hcp/abide_vmhc_vis',\n",
      " '--resample-nifti': True,\n",
      " '--subjects-filter': None,\n",
      " '--verbose': False,\n",
      " '<map-name>': 'NYU_0050954_vmhc',\n",
      " '<map.dscalar.nii>': None,\n",
      " '<map.nii>': '/home/edickie/Documents/ciftify_tests/src_data/abide/vmhc/NYU_0050954_vmhc.nii.gz',\n",
      " '<subject>': 'HCP_S1200_GroupAvg',\n",
      " 'cifti-snaps': False,\n",
      " 'index': False,\n",
      " 'nifti-snaps': True}\n",
      "[cifti_vis_map] DEBUG: Creating temp dir:/tmp/tmponq7e12t on host:edickie-UX305FA\n",
      "[ciftify.utils] INFO: Running: ciftify_vol_result --debug --resample-nifti HCP_S1200_GroupAvg /home/edickie/Documents/ciftify_tests/src_data/abide/vmhc/NYU_0050954_vmhc.nii.gz /tmp/tmponq7e12t/NYU_0050954_vmhc.dscalar.nii\n",
      "[ciftify.utils] INFO: [ciftify_vol_result] INFO: {'--HCP-MSMAll': False,\n",
      " '--HCP-Pipelines': False,\n",
      " '--debug': True,\n",
      " '--dilate': None,\n",
      " '--dry-run': False,\n",
      " '--hcp-data-dir': None,\n",
      " '--help': False,\n",
      " '--integer-labels': False,\n",
      " '--resample-nifti': True,\n",
      " '--subcortical-vol': None,\n",
      " '--surface-vol': None,\n",
      " '<output.dscalar.nii>': '/tmp/tmponq7e12t/NYU_0050954_vmhc.dscalar.nii',\n",
      " '<subject>': 'HCP_S1200_GroupAvg',\n",
      " '<vol.nii.gz>': '/home/edickie/Documents/ciftify_tests/src_data/abide/vmhc/NYU_0050954_vmhc.nii.gz'}\n",
      "[ciftify_vol_result] INFO: Creating tempdir:/tmp/tmp9h9uwo58 on host:edickie-UX305FA\n",
      "[ciftify.utils] INFO: Running: wb_command -volume-to-surface-mapping /home/edickie/Documents/ciftify_tests/src_data/abide/vmhc/NYU_0050954_vmhc.nii.gz /home/edickie/code/ciftify/ciftify/data/HCP_S1200_GroupAvg_v1/S1200.L.midthickness_MSMAll.32k_fs_LR.surf.gii /tmp/tmp9h9uwo58/L.func.gii -ribbon-constrained /home/edickie/code/ciftify/ciftify/data/HCP_S1200_GroupAvg_v1/S1200.L.white_MSMAll.32k_fs_LR.surf.gii /home/edickie/code/ciftify/ciftify/data/HCP_S1200_GroupAvg_v1/S1200.L.pial_MSMAll.32k_fs_LR.surf.gii\n",
      "[ciftify.utils] INFO: Running: wb_command -volume-to-surface-mapping /home/edickie/Documents/ciftify_tests/src_data/abide/vmhc/NYU_0050954_vmhc.nii.gz /home/edickie/code/ciftify/ciftify/data/HCP_S1200_GroupAvg_v1/S1200.R.midthickness_MSMAll.32k_fs_LR.surf.gii /tmp/tmp9h9uwo58/R.func.gii -ribbon-constrained /home/edickie/code/ciftify/ciftify/data/HCP_S1200_GroupAvg_v1/S1200.R.white_MSMAll.32k_fs_LR.surf.gii /home/edickie/code/ciftify/ciftify/data/HCP_S1200_GroupAvg_v1/S1200.R.pial_MSMAll.32k_fs_LR.surf.gii\n",
      "[ciftify.utils] INFO: Running: wb_command -volume-affine-resample /home/edickie/Documents/ciftify_tests/src_data/abide/vmhc/NYU_0050954_vmhc.nii.gz /usr/share/fsl/5.0/etc/flirtsch/ident.mat /home/edickie/code/ciftify/ciftify/data/91282_Greyordinates/Atlas_ROIs.2.nii.gz CUBIC /tmp/tmp9h9uwo58/input_nii_r.nii.gz\n",
      "[ciftify.utils] INFO: Running: wb_command -cifti-create-dense-scalar /tmp/tmponq7e12t/NYU_0050954_vmhc.dscalar.nii -volume /tmp/tmp9h9uwo58/input_nii_r.nii.gz /home/edickie/code/ciftify/ciftify/data/91282_Greyordinates/Atlas_ROIs.2.nii.gz -left-metric /tmp/tmp9h9uwo58/L.func.gii -roi-left /home/edickie/code/ciftify/ciftify/data/91282_Greyordinates/L.atlasroi.32k_fs_LR.shape.gii -right-metric /tmp/tmp9h9uwo58/R.func.gii -roi-right /home/edickie/code/ciftify/ciftify/data/91282_Greyordinates/R.atlasroi.32k_fs_LR.shape.gii\n",
      "\n",
      "[ciftify.utils] INFO: Running: wb_command -cifti-palette /tmp/tmponq7e12t/NYU_0050954_vmhc.dscalar.nii MODE_AUTO_SCALE /tmp/tmponq7e12t/NYU_0050954_vmhc.dscalar.nii -palette-name fidl\n",
      "[cifti_vis_map] INFO: Making snaps for subject HCP_S1200_GroupAvg, Map: NYU_0050954_vmhc\n",
      "[ciftify.utils] INFO: Running: wb_command -logging INFO -show-scene /tmp/tmponq7e12t/HCP_S1200_GroupAvg_NYU_0050954_vmhc.scene 4 /tmp/tmplk_zhzlb/scene4.png 600 400\n",
      "[ciftify.utils] WARNING: \n",
      "Info: Time to read /home/edickie/code/ciftify/ciftify/data/HCP_S1200_GroupAvg_v1/S1200.L.very_inflated_MSMAll.32k_fs_LR.surf.gii was 0.075081 seconds.\n",
      "\n",
      "\n",
      "Info: Time to read /home/edickie/code/ciftify/ciftify/data/HCP_S1200_GroupAvg_v1/S1200.R.very_inflated_MSMAll.32k_fs_LR.surf.gii was 0.074515 seconds.\n",
      "\n",
      "\n",
      "Info: Time to read /home/edickie/code/ciftify/ciftify/data/HCP_S1200_GroupAvg_v1/S1200.sulc_MSMAll.32k_fs_LR.dscalar.nii was 0.057579 seconds.\n",
      "\n",
      "\n",
      "Info: Time to read /tmp/tmponq7e12t/NYU_0050954_vmhc.dscalar.nii was 0.137961 seconds.\n",
      "\n",
      "\n",
      "[ciftify.utils] INFO: Running: convert /tmp/tmplk_zhzlb/scene4.png -crop 100x50%+0+0 /tmp/tmplk_zhzlb/top.png\n",
      "[ciftify.utils] INFO: Running: convert /tmp/tmplk_zhzlb/scene4.png -crop 100x50%+0+200 /tmp/tmplk_zhzlb/bottom.png\n",
      "[ciftify.utils] INFO: Running: montage -mode concatenate -tile 2x1 /tmp/tmplk_zhzlb/top.png /tmp/tmplk_zhzlb/bottom.png /home/edickie/Documents/ciftify_tests/run_2017-09-08/hcp/abide_vmhc_vis/HCP_S1200_GroupAvg_NYU_0050954_vmhc/LM.png\n",
      "[ciftify.utils] INFO: Running: wb_command -logging INFO -show-scene /tmp/tmponq7e12t/HCP_S1200_GroupAvg_NYU_0050954_vmhc.scene 5 /tmp/tmp3_efsc3z/scene5.png 600 400\n",
      "[ciftify.utils] WARNING: \n",
      "Info: Time to read /home/edickie/code/ciftify/ciftify/data/HCP_S1200_GroupAvg_v1/S1200.L.very_inflated_MSMAll.32k_fs_LR.surf.gii was 0.077378 seconds.\n",
      "\n",
      "\n",
      "Info: Time to read /home/edickie/code/ciftify/ciftify/data/HCP_S1200_GroupAvg_v1/S1200.R.very_inflated_MSMAll.32k_fs_LR.surf.gii was 0.107391 seconds.\n",
      "\n",
      "\n",
      "Info: Time to read /home/edickie/code/ciftify/ciftify/data/HCP_S1200_GroupAvg_v1/S1200.sulc_MSMAll.32k_fs_LR.dscalar.nii was 0.08172 seconds.\n",
      "\n",
      "\n",
      "Info: Time to read /tmp/tmponq7e12t/NYU_0050954_vmhc.dscalar.nii was 0.184035 seconds.\n",
      "\n",
      "\n",
      "[ciftify.utils] INFO: Running: convert /tmp/tmp3_efsc3z/scene5.png -crop 100x50%+0+0 /tmp/tmp3_efsc3z/top.png\n",
      "[ciftify.utils] INFO: Running: convert /tmp/tmp3_efsc3z/scene5.png -crop 100x50%+0+200 /tmp/tmp3_efsc3z/bottom.png\n",
      "[ciftify.utils] INFO: Running: montage -mode concatenate -tile 2x1 /tmp/tmp3_efsc3z/top.png /tmp/tmp3_efsc3z/bottom.png /home/edickie/Documents/ciftify_tests/run_2017-09-08/hcp/abide_vmhc_vis/HCP_S1200_GroupAvg_NYU_0050954_vmhc/APDV.png\n",
      "[ciftify.utils] INFO: Running: wb_command -logging INFO -show-scene /tmp/tmponq7e12t/HCP_S1200_GroupAvg_NYU_0050954_vmhc.scene 1 /tmp/tmpo7uqia3e/scene1.png 600 400\n",
      "[ciftify.utils] WARNING: \n",
      "Info: Time to read /home/edickie/code/ciftify/ciftify/data/HCP_S1200_GroupAvg_v1/S1200.sulc_MSMAll.32k_fs_LR.dscalar.nii was 0.069073 seconds.\n",
      "\n",
      "\n",
      "Info: Time to read /tmp/tmponq7e12t/NYU_0050954_vmhc.dscalar.nii was 0.146543 seconds.\n",
      "\n",
      "\n",
      "Info: Time to color volume data is 0.362 seconds.\n",
      "\n",
      "\n",
      "Info: Time to read /usr/share/data/fsl-mni152-templates/MNI152_T1_1mm.nii.gz was 0.563507 seconds.\n",
      "\n",
      "\n",
      "[ciftify.utils] INFO: Running: convert /tmp/tmpo7uqia3e/scene1.png -crop 100x50%+0+0 /tmp/tmpo7uqia3e/top.png\n",
      "[ciftify.utils] INFO: Running: convert /tmp/tmpo7uqia3e/scene1.png -crop 100x50%+0+200 /tmp/tmpo7uqia3e/bottom.png\n",
      "[ciftify.utils] INFO: Running: montage -mode concatenate -tile 2x1 /tmp/tmpo7uqia3e/top.png /tmp/tmpo7uqia3e/bottom.png /home/edickie/Documents/ciftify_tests/run_2017-09-08/hcp/abide_vmhc_vis/HCP_S1200_GroupAvg_NYU_0050954_vmhc/VolAx.png\n",
      "[ciftify.utils] INFO: Running: wb_command -logging INFO -show-scene /tmp/tmponq7e12t/HCP_S1200_GroupAvg_NYU_0050954_vmhc.scene 2 /tmp/tmpqsfx1kee/scene2.png 600 400\n",
      "[ciftify.utils] WARNING: \n",
      "Info: Time to read /home/edickie/code/ciftify/ciftify/data/HCP_S1200_GroupAvg_v1/S1200.sulc_MSMAll.32k_fs_LR.dscalar.nii was 0.05841 seconds.\n",
      "\n",
      "\n",
      "Info: Time to read /tmp/tmponq7e12t/NYU_0050954_vmhc.dscalar.nii was 0.141293 seconds.\n",
      "\n",
      "\n",
      "Info: Time to color volume data is 0.353 seconds.\n",
      "\n",
      "\n",
      "Info: Time to read /usr/share/data/fsl-mni152-templates/MNI152_T1_1mm.nii.gz was 0.53256 seconds.\n",
      "\n",
      "\n",
      "[ciftify.utils] INFO: Running: convert /tmp/tmpqsfx1kee/scene2.png -crop 100x50%+0+0 /tmp/tmpqsfx1kee/top.png\n",
      "[ciftify.utils] INFO: Running: convert /tmp/tmpqsfx1kee/scene2.png -crop 100x50%+0+200 /tmp/tmpqsfx1kee/bottom.png\n",
      "[ciftify.utils] INFO: Running: montage -mode concatenate -tile 2x1 /tmp/tmpqsfx1kee/top.png /tmp/tmpqsfx1kee/bottom.png /home/edickie/Documents/ciftify_tests/run_2017-09-08/hcp/abide_vmhc_vis/HCP_S1200_GroupAvg_NYU_0050954_vmhc/VolSag.png\n",
      "[ciftify.utils] INFO: Running: wb_command -logging INFO -show-scene /tmp/tmponq7e12t/HCP_S1200_GroupAvg_NYU_0050954_vmhc.scene 3 /tmp/tmps7zs8whp/scene3.png 600 400\n",
      "[ciftify.utils] WARNING: \n",
      "Info: Time to read /home/edickie/code/ciftify/ciftify/data/HCP_S1200_GroupAvg_v1/S1200.sulc_MSMAll.32k_fs_LR.dscalar.nii was 0.058445 seconds.\n",
      "\n",
      "\n",
      "Info: Time to read /tmp/tmponq7e12t/NYU_0050954_vmhc.dscalar.nii was 0.140111 seconds.\n",
      "\n",
      "\n",
      "Info: Time to color volume data is 0.354 seconds.\n",
      "\n",
      "\n",
      "Info: Time to read /usr/share/data/fsl-mni152-templates/MNI152_T1_1mm.nii.gz was 0.532864 seconds.\n",
      "\n",
      "\n",
      "[ciftify.utils] INFO: Running: convert /tmp/tmps7zs8whp/scene3.png -crop 100x50%+0+0 /tmp/tmps7zs8whp/top.png\n",
      "[ciftify.utils] INFO: Running: convert /tmp/tmps7zs8whp/scene3.png -crop 100x50%+0+200 /tmp/tmps7zs8whp/bottom.png\n",
      "[ciftify.utils] INFO: Running: montage -mode concatenate -tile 2x1 /tmp/tmps7zs8whp/top.png /tmp/tmps7zs8whp/bottom.png /home/edickie/Documents/ciftify_tests/run_2017-09-08/hcp/abide_vmhc_vis/HCP_S1200_GroupAvg_NYU_0050954_vmhc/VolCor.png\n",
      "\n"
     ]
    },
    {
     "name": "stderr",
     "output_type": "stream",
     "text": [
      "[cifti_vis_map] DEBUG: {'--colour-palette': 'fidl',\n",
      " '--debug': True,\n",
      " '--hcp-data-dir': None,\n",
      " '--help': False,\n",
      " '--qcdir': '/home/edickie/Documents/ciftify_tests/run_2017-09-08/hcp/abide_vmhc_vis',\n",
      " '--resample-nifti': True,\n",
      " '--subjects-filter': None,\n",
      " '--verbose': False,\n",
      " '<map-name>': 'NYU_0050954_vmhc',\n",
      " '<map.dscalar.nii>': None,\n",
      " '<map.nii>': '/home/edickie/Documents/ciftify_tests/src_data/abide/vmhc/NYU_0050954_vmhc.nii.gz',\n",
      " '<subject>': 'HCP_S1200_GroupAvg',\n",
      " 'cifti-snaps': False,\n",
      " 'index': False,\n",
      " 'nifti-snaps': True}\n",
      "[cifti_vis_map] DEBUG: Creating temp dir:/tmp/tmponq7e12t on host:edickie-UX305FA\n",
      "[ciftify.utils] INFO: Running: ciftify_vol_result --debug --resample-nifti HCP_S1200_GroupAvg /home/edickie/Documents/ciftify_tests/src_data/abide/vmhc/NYU_0050954_vmhc.nii.gz /tmp/tmponq7e12t/NYU_0050954_vmhc.dscalar.nii\n",
      "[ciftify.utils] INFO: [ciftify_vol_result] INFO: {'--HCP-MSMAll': False,\n",
      " '--HCP-Pipelines': False,\n",
      " '--debug': True,\n",
      " '--dilate': None,\n",
      " '--dry-run': False,\n",
      " '--hcp-data-dir': None,\n",
      " '--help': False,\n",
      " '--integer-labels': False,\n",
      " '--resample-nifti': True,\n",
      " '--subcortical-vol': None,\n",
      " '--surface-vol': None,\n",
      " '<output.dscalar.nii>': '/tmp/tmponq7e12t/NYU_0050954_vmhc.dscalar.nii',\n",
      " '<subject>': 'HCP_S1200_GroupAvg',\n",
      " '<vol.nii.gz>': '/home/edickie/Documents/ciftify_tests/src_data/abide/vmhc/NYU_0050954_vmhc.nii.gz'}\n",
      "[ciftify_vol_result] INFO: Creating tempdir:/tmp/tmp9h9uwo58 on host:edickie-UX305FA\n",
      "[ciftify.utils] INFO: Running: wb_command -volume-to-surface-mapping /home/edickie/Documents/ciftify_tests/src_data/abide/vmhc/NYU_0050954_vmhc.nii.gz /home/edickie/code/ciftify/ciftify/data/HCP_S1200_GroupAvg_v1/S1200.L.midthickness_MSMAll.32k_fs_LR.surf.gii /tmp/tmp9h9uwo58/L.func.gii -ribbon-constrained /home/edickie/code/ciftify/ciftify/data/HCP_S1200_GroupAvg_v1/S1200.L.white_MSMAll.32k_fs_LR.surf.gii /home/edickie/code/ciftify/ciftify/data/HCP_S1200_GroupAvg_v1/S1200.L.pial_MSMAll.32k_fs_LR.surf.gii\n",
      "[ciftify.utils] INFO: Running: wb_command -volume-to-surface-mapping /home/edickie/Documents/ciftify_tests/src_data/abide/vmhc/NYU_0050954_vmhc.nii.gz /home/edickie/code/ciftify/ciftify/data/HCP_S1200_GroupAvg_v1/S1200.R.midthickness_MSMAll.32k_fs_LR.surf.gii /tmp/tmp9h9uwo58/R.func.gii -ribbon-constrained /home/edickie/code/ciftify/ciftify/data/HCP_S1200_GroupAvg_v1/S1200.R.white_MSMAll.32k_fs_LR.surf.gii /home/edickie/code/ciftify/ciftify/data/HCP_S1200_GroupAvg_v1/S1200.R.pial_MSMAll.32k_fs_LR.surf.gii\n",
      "[ciftify.utils] INFO: Running: wb_command -volume-affine-resample /home/edickie/Documents/ciftify_tests/src_data/abide/vmhc/NYU_0050954_vmhc.nii.gz /usr/share/fsl/5.0/etc/flirtsch/ident.mat /home/edickie/code/ciftify/ciftify/data/91282_Greyordinates/Atlas_ROIs.2.nii.gz CUBIC /tmp/tmp9h9uwo58/input_nii_r.nii.gz\n",
      "[ciftify.utils] INFO: Running: wb_command -cifti-create-dense-scalar /tmp/tmponq7e12t/NYU_0050954_vmhc.dscalar.nii -volume /tmp/tmp9h9uwo58/input_nii_r.nii.gz /home/edickie/code/ciftify/ciftify/data/91282_Greyordinates/Atlas_ROIs.2.nii.gz -left-metric /tmp/tmp9h9uwo58/L.func.gii -roi-left /home/edickie/code/ciftify/ciftify/data/91282_Greyordinates/L.atlasroi.32k_fs_LR.shape.gii -right-metric /tmp/tmp9h9uwo58/R.func.gii -roi-right /home/edickie/code/ciftify/ciftify/data/91282_Greyordinates/R.atlasroi.32k_fs_LR.shape.gii\n",
      "\n",
      "[ciftify.utils] INFO: Running: wb_command -cifti-palette /tmp/tmponq7e12t/NYU_0050954_vmhc.dscalar.nii MODE_AUTO_SCALE /tmp/tmponq7e12t/NYU_0050954_vmhc.dscalar.nii -palette-name fidl\n",
      "[cifti_vis_map] INFO: Making snaps for subject HCP_S1200_GroupAvg, Map: NYU_0050954_vmhc\n",
      "[ciftify.utils] INFO: Running: wb_command -logging INFO -show-scene /tmp/tmponq7e12t/HCP_S1200_GroupAvg_NYU_0050954_vmhc.scene 4 /tmp/tmplk_zhzlb/scene4.png 600 400\n",
      "[ciftify.utils] WARNING: \n",
      "Info: Time to read /home/edickie/code/ciftify/ciftify/data/HCP_S1200_GroupAvg_v1/S1200.L.very_inflated_MSMAll.32k_fs_LR.surf.gii was 0.075081 seconds.\n",
      "\n",
      "\n",
      "Info: Time to read /home/edickie/code/ciftify/ciftify/data/HCP_S1200_GroupAvg_v1/S1200.R.very_inflated_MSMAll.32k_fs_LR.surf.gii was 0.074515 seconds.\n",
      "\n",
      "\n",
      "Info: Time to read /home/edickie/code/ciftify/ciftify/data/HCP_S1200_GroupAvg_v1/S1200.sulc_MSMAll.32k_fs_LR.dscalar.nii was 0.057579 seconds.\n",
      "\n",
      "\n",
      "Info: Time to read /tmp/tmponq7e12t/NYU_0050954_vmhc.dscalar.nii was 0.137961 seconds.\n",
      "\n",
      "\n",
      "[ciftify.utils] INFO: Running: convert /tmp/tmplk_zhzlb/scene4.png -crop 100x50%+0+0 /tmp/tmplk_zhzlb/top.png\n",
      "[ciftify.utils] INFO: Running: convert /tmp/tmplk_zhzlb/scene4.png -crop 100x50%+0+200 /tmp/tmplk_zhzlb/bottom.png\n",
      "[ciftify.utils] INFO: Running: montage -mode concatenate -tile 2x1 /tmp/tmplk_zhzlb/top.png /tmp/tmplk_zhzlb/bottom.png /home/edickie/Documents/ciftify_tests/run_2017-09-08/hcp/abide_vmhc_vis/HCP_S1200_GroupAvg_NYU_0050954_vmhc/LM.png\n",
      "[ciftify.utils] INFO: Running: wb_command -logging INFO -show-scene /tmp/tmponq7e12t/HCP_S1200_GroupAvg_NYU_0050954_vmhc.scene 5 /tmp/tmp3_efsc3z/scene5.png 600 400\n",
      "[ciftify.utils] WARNING: \n",
      "Info: Time to read /home/edickie/code/ciftify/ciftify/data/HCP_S1200_GroupAvg_v1/S1200.L.very_inflated_MSMAll.32k_fs_LR.surf.gii was 0.077378 seconds.\n",
      "\n",
      "\n",
      "Info: Time to read /home/edickie/code/ciftify/ciftify/data/HCP_S1200_GroupAvg_v1/S1200.R.very_inflated_MSMAll.32k_fs_LR.surf.gii was 0.107391 seconds.\n",
      "\n",
      "\n",
      "Info: Time to read /home/edickie/code/ciftify/ciftify/data/HCP_S1200_GroupAvg_v1/S1200.sulc_MSMAll.32k_fs_LR.dscalar.nii was 0.08172 seconds.\n",
      "\n",
      "\n",
      "Info: Time to read /tmp/tmponq7e12t/NYU_0050954_vmhc.dscalar.nii was 0.184035 seconds.\n",
      "\n",
      "\n",
      "[ciftify.utils] INFO: Running: convert /tmp/tmp3_efsc3z/scene5.png -crop 100x50%+0+0 /tmp/tmp3_efsc3z/top.png\n",
      "[ciftify.utils] INFO: Running: convert /tmp/tmp3_efsc3z/scene5.png -crop 100x50%+0+200 /tmp/tmp3_efsc3z/bottom.png\n",
      "[ciftify.utils] INFO: Running: montage -mode concatenate -tile 2x1 /tmp/tmp3_efsc3z/top.png /tmp/tmp3_efsc3z/bottom.png /home/edickie/Documents/ciftify_tests/run_2017-09-08/hcp/abide_vmhc_vis/HCP_S1200_GroupAvg_NYU_0050954_vmhc/APDV.png\n",
      "[ciftify.utils] INFO: Running: wb_command -logging INFO -show-scene /tmp/tmponq7e12t/HCP_S1200_GroupAvg_NYU_0050954_vmhc.scene 1 /tmp/tmpo7uqia3e/scene1.png 600 400\n",
      "[ciftify.utils] WARNING: \n",
      "Info: Time to read /home/edickie/code/ciftify/ciftify/data/HCP_S1200_GroupAvg_v1/S1200.sulc_MSMAll.32k_fs_LR.dscalar.nii was 0.069073 seconds.\n",
      "\n",
      "\n",
      "Info: Time to read /tmp/tmponq7e12t/NYU_0050954_vmhc.dscalar.nii was 0.146543 seconds.\n",
      "\n",
      "\n",
      "Info: Time to color volume data is 0.362 seconds.\n",
      "\n",
      "\n",
      "Info: Time to read /usr/share/data/fsl-mni152-templates/MNI152_T1_1mm.nii.gz was 0.563507 seconds.\n",
      "\n",
      "\n",
      "[ciftify.utils] INFO: Running: convert /tmp/tmpo7uqia3e/scene1.png -crop 100x50%+0+0 /tmp/tmpo7uqia3e/top.png\n",
      "[ciftify.utils] INFO: Running: convert /tmp/tmpo7uqia3e/scene1.png -crop 100x50%+0+200 /tmp/tmpo7uqia3e/bottom.png\n",
      "[ciftify.utils] INFO: Running: montage -mode concatenate -tile 2x1 /tmp/tmpo7uqia3e/top.png /tmp/tmpo7uqia3e/bottom.png /home/edickie/Documents/ciftify_tests/run_2017-09-08/hcp/abide_vmhc_vis/HCP_S1200_GroupAvg_NYU_0050954_vmhc/VolAx.png\n",
      "[ciftify.utils] INFO: Running: wb_command -logging INFO -show-scene /tmp/tmponq7e12t/HCP_S1200_GroupAvg_NYU_0050954_vmhc.scene 2 /tmp/tmpqsfx1kee/scene2.png 600 400\n",
      "[ciftify.utils] WARNING: \n",
      "Info: Time to read /home/edickie/code/ciftify/ciftify/data/HCP_S1200_GroupAvg_v1/S1200.sulc_MSMAll.32k_fs_LR.dscalar.nii was 0.05841 seconds.\n",
      "\n",
      "\n",
      "Info: Time to read /tmp/tmponq7e12t/NYU_0050954_vmhc.dscalar.nii was 0.141293 seconds.\n",
      "\n",
      "\n",
      "Info: Time to color volume data is 0.353 seconds.\n",
      "\n",
      "\n",
      "Info: Time to read /usr/share/data/fsl-mni152-templates/MNI152_T1_1mm.nii.gz was 0.53256 seconds.\n",
      "\n",
      "\n",
      "[ciftify.utils] INFO: Running: convert /tmp/tmpqsfx1kee/scene2.png -crop 100x50%+0+0 /tmp/tmpqsfx1kee/top.png\n",
      "[ciftify.utils] INFO: Running: convert /tmp/tmpqsfx1kee/scene2.png -crop 100x50%+0+200 /tmp/tmpqsfx1kee/bottom.png\n",
      "[ciftify.utils] INFO: Running: montage -mode concatenate -tile 2x1 /tmp/tmpqsfx1kee/top.png /tmp/tmpqsfx1kee/bottom.png /home/edickie/Documents/ciftify_tests/run_2017-09-08/hcp/abide_vmhc_vis/HCP_S1200_GroupAvg_NYU_0050954_vmhc/VolSag.png\n",
      "[ciftify.utils] INFO: Running: wb_command -logging INFO -show-scene /tmp/tmponq7e12t/HCP_S1200_GroupAvg_NYU_0050954_vmhc.scene 3 /tmp/tmps7zs8whp/scene3.png 600 400\n",
      "[ciftify.utils] WARNING: \n",
      "Info: Time to read /home/edickie/code/ciftify/ciftify/data/HCP_S1200_GroupAvg_v1/S1200.sulc_MSMAll.32k_fs_LR.dscalar.nii was 0.058445 seconds.\n",
      "\n",
      "\n",
      "Info: Time to read /tmp/tmponq7e12t/NYU_0050954_vmhc.dscalar.nii was 0.140111 seconds.\n",
      "\n",
      "\n",
      "Info: Time to color volume data is 0.354 seconds.\n",
      "\n",
      "\n",
      "Info: Time to read /usr/share/data/fsl-mni152-templates/MNI152_T1_1mm.nii.gz was 0.532864 seconds.\n",
      "\n",
      "\n",
      "[ciftify.utils] INFO: Running: convert /tmp/tmps7zs8whp/scene3.png -crop 100x50%+0+0 /tmp/tmps7zs8whp/top.png\n",
      "[ciftify.utils] INFO: Running: convert /tmp/tmps7zs8whp/scene3.png -crop 100x50%+0+200 /tmp/tmps7zs8whp/bottom.png\n",
      "[ciftify.utils] INFO: Running: montage -mode concatenate -tile 2x1 /tmp/tmps7zs8whp/top.png /tmp/tmps7zs8whp/bottom.png /home/edickie/Documents/ciftify_tests/run_2017-09-08/hcp/abide_vmhc_vis/HCP_S1200_GroupAvg_NYU_0050954_vmhc/VolCor.png\n",
      "\n"
     ]
    },
    {
     "data": {
      "text/plain": [
       "0"
      ]
     },
     "execution_count": 13,
     "metadata": {},
     "output_type": "execute_result"
    }
   ],
   "source": [
    "subject = 'NYU_0050954'\n",
    "run(['cifti_vis_map', 'nifti-snaps', '--debug',\n",
    "        '--qcdir', os.path.join(hcp_data_dir, 'abide_vmhc_vis'),\n",
    "        '--resample-nifti', '--colour-palette', 'fidl', \n",
    "        os.path.join(src_vmhc, '{}_vmhc.nii.gz'.format(subject)), 'HCP_S1200_GroupAvg', '{}_vmhc'.format(subject)])"
   ]
  },
  {
   "cell_type": "code",
   "execution_count": 14,
   "metadata": {},
   "outputs": [
    {
     "name": "stderr",
     "output_type": "stream",
     "text": [
      "Running: cifti_vis_map nifti-snaps --qcdir /home/edickie/Documents/ciftify_tests/run_2017-09-08/hcp/abide_vmhc_vis --resample-nifti /home/edickie/Documents/ciftify_tests/src_data/abide/vmhc/NYU_0050955_vmhc.nii.gz HCP_S1200_GroupAvg NYU_0050955_vmhc\n",
      "Running: cifti_vis_map nifti-snaps --qcdir /home/edickie/Documents/ciftify_tests/run_2017-09-08/hcp/abide_vmhc_vis --resample-nifti /home/edickie/Documents/ciftify_tests/src_data/abide/vmhc/NYU_0050955_vmhc.nii.gz HCP_S1200_GroupAvg NYU_0050955_vmhc\n"
     ]
    },
    {
     "data": {
      "text/plain": [
       "0"
      ]
     },
     "execution_count": 14,
     "metadata": {},
     "output_type": "execute_result"
    }
   ],
   "source": [
    "subject = 'NYU_0050955'\n",
    "run(['cifti_vis_map', 'nifti-snaps',\n",
    "        '--qcdir', os.path.join(hcp_data_dir, 'abide_vmhc_vis'),\n",
    "        '--resample-nifti',\n",
    "        os.path.join(src_vmhc, '{}_vmhc.nii.gz'.format(subject)), 'HCP_S1200_GroupAvg', '{}_vmhc'.format(subject)])"
   ]
  },
  {
   "cell_type": "code",
   "execution_count": 15,
   "metadata": {},
   "outputs": [
    {
     "name": "stderr",
     "output_type": "stream",
     "text": [
      "Running: cifti_vis_map index --hcp-data-dir /tmp --qcdir /home/edickie/Documents/ciftify_tests/run_2017-09-08/hcp/abide_vmhc_vis\n",
      "Running: cifti_vis_map index --hcp-data-dir /tmp --qcdir /home/edickie/Documents/ciftify_tests/run_2017-09-08/hcp/abide_vmhc_vis\n"
     ]
    },
    {
     "data": {
      "text/plain": [
       "0"
      ]
     },
     "execution_count": 15,
     "metadata": {},
     "output_type": "execute_result"
    }
   ],
   "source": [
    "run(['cifti_vis_map', 'index',\n",
    "        '--hcp-data-dir', '/tmp',\n",
    "        '--qcdir', os.path.join(hcp_data_dir, 'abide_vmhc_vis')])"
   ]
  },
  {
   "cell_type": "markdown",
   "metadata": {},
   "source": [
    "# Download the main dataset"
   ]
  },
  {
   "cell_type": "code",
   "execution_count": 16,
   "metadata": {
    "collapsed": true
   },
   "outputs": [],
   "source": [
    "subids = ['sub-50005','sub-50007']\n",
    "\n",
    "if not os.path.exists(src_data_dir):\n",
    "    run(['mkdir','-p',src_data_dir])\n",
    "\n",
    "for subid in subids:\n",
    "    sub_fs_path = os.path.join('ds000030_R1.0.4','derivatives','freesurfer', subid)\n",
    "if not os.path.exists(os.path.join(src_data_dir, sub_fs_path)):\n",
    "    if not os.path.exists(os.path.join(src_data_dir, \n",
    "                                       os.path.basename(freesurfer_webtgz))):        \n",
    "        run(['wget', '-P', src_data_dir, freesurfer_webtgz])\n",
    "\n",
    "    run(['unzip', \n",
    "         os.path.join(src_data_dir, \n",
    "                      os.path.basename(freesurfer_webtgz)), \n",
    "         os.path.join(sub_fs_path,'*'),\n",
    "         '-d', src_data_dir])\n",
    "\n",
    "for subid in subids:\n",
    "    sub_file = os.path.join('ds000030_R1.0.4','derivatives',\n",
    "                            'fmriprep', subid,'func',\n",
    "                            '{}_task-rest_bold_space-T1w_preproc.nii.gz'.format(subid))\n",
    "    if not os.path.exists(os.path.join(src_data_dir,sub_file)):\n",
    "        if not os.path.exists(os.path.join(src_data_dir, \n",
    "                                           os.path.basename(func_webtgz))):\n",
    "            run(['wget', '-P', src_data_dir, func_webtgz])\n",
    "\n",
    "        run(['unzip', \n",
    "             os.path.join(src_data_dir, \n",
    "                          os.path.basename(func_webtgz)), \n",
    "             sub_file,\n",
    "             '-d', src_data_dir])\n",
    "\n",
    "for subid in subids:\n",
    "    sub_file = os.path.join('ds000030_R1.0.4','derivatives',\n",
    "                            'fmriprep', subid,'func',\n",
    "                            '{}_task-rest_bold_space-MNI152NLin2009cAsym_preproc.nii.gz'.format(subid))\n",
    "    if not os.path.exists(os.path.join(src_data_dir,sub_file)):\n",
    "        if not os.path.exists(os.path.join(src_data_dir, \n",
    "                                           os.path.basename(func_webtgz))):\n",
    "            run(['wget', '-P', src_data_dir, func_webtgz])\n",
    "\n",
    "        run(['unzip', \n",
    "             os.path.join(src_data_dir, \n",
    "                          os.path.basename(func_webtgz)), \n",
    "             sub_file,\n",
    "             '-d', src_data_dir])"
   ]
  },
  {
   "cell_type": "code",
   "execution_count": 17,
   "metadata": {},
   "outputs": [
    {
     "name": "stderr",
     "output_type": "stream",
     "text": [
      "Running: ciftify_recon_all --resample-to-T1w32k --hcp-data-dir /home/edickie/Documents/ciftify_tests/run_2017-09-08/hcp --fs-subjects-dir /home/edickie/Documents/ciftify_tests/src_data/ds000030_R1.0.4/derivatives/freesurfer sub-50005\n",
      "Running: ciftify_recon_all --resample-to-T1w32k --hcp-data-dir /home/edickie/Documents/ciftify_tests/run_2017-09-08/hcp --fs-subjects-dir /home/edickie/Documents/ciftify_tests/src_data/ds000030_R1.0.4/derivatives/freesurfer sub-50005\n"
     ]
    },
    {
     "data": {
      "text/plain": [
       "0"
      ]
     },
     "execution_count": 17,
     "metadata": {},
     "output_type": "execute_result"
    }
   ],
   "source": [
    "run(['ciftify_recon_all', '--resample-to-T1w32k', '--hcp-data-dir', hcp_data_dir,\n",
    "    '--fs-subjects-dir', fs_subjects_dir, \n",
    "    subids[0]])"
   ]
  },
  {
   "cell_type": "code",
   "execution_count": 18,
   "metadata": {},
   "outputs": [
    {
     "name": "stderr",
     "output_type": "stream",
     "text": [
      "Running: ciftify_recon_all --hcp-data-dir /home/edickie/Documents/ciftify_tests/run_2017-09-08/hcp --fs-subjects-dir /home/edickie/Documents/ciftify_tests/src_data/ds000030_R1.0.4/derivatives/freesurfer sub-50007\n",
      "Running: ciftify_recon_all --hcp-data-dir /home/edickie/Documents/ciftify_tests/run_2017-09-08/hcp --fs-subjects-dir /home/edickie/Documents/ciftify_tests/src_data/ds000030_R1.0.4/derivatives/freesurfer sub-50007\n"
     ]
    },
    {
     "data": {
      "text/plain": [
       "0"
      ]
     },
     "execution_count": 18,
     "metadata": {},
     "output_type": "execute_result"
    }
   ],
   "source": [
    "run(['ciftify_recon_all', '--hcp-data-dir', hcp_data_dir,\n",
    "    '--fs-subjects-dir', fs_subjects_dir, \n",
    "    subids[1]])"
   ]
  },
  {
   "cell_type": "code",
   "execution_count": 19,
   "metadata": {},
   "outputs": [
    {
     "name": "stderr",
     "output_type": "stream",
     "text": [
      "Running: cifti_vis_recon_all snaps --hcp-data-dir /home/edickie/Documents/ciftify_tests/run_2017-09-08/hcp sub-50005\n",
      "Running: cifti_vis_recon_all snaps --hcp-data-dir /home/edickie/Documents/ciftify_tests/run_2017-09-08/hcp sub-50005\n",
      "Running: cifti_vis_recon_all snaps --hcp-data-dir /home/edickie/Documents/ciftify_tests/run_2017-09-08/hcp sub-50007\n",
      "Running: cifti_vis_recon_all snaps --hcp-data-dir /home/edickie/Documents/ciftify_tests/run_2017-09-08/hcp sub-50007\n",
      "Running: cifti_vis_recon_all index --hcp-data-dir /home/edickie/Documents/ciftify_tests/run_2017-09-08/hcp\n",
      "Running: cifti_vis_recon_all index --hcp-data-dir /home/edickie/Documents/ciftify_tests/run_2017-09-08/hcp\n"
     ]
    },
    {
     "data": {
      "text/plain": [
       "0"
      ]
     },
     "execution_count": 19,
     "metadata": {},
     "output_type": "execute_result"
    }
   ],
   "source": [
    "for subid in subids:\n",
    "    run(['cifti_vis_recon_all', 'snaps', '--hcp-data-dir',hcp_data_dir, subid])\n",
    "run(['cifti_vis_recon_all', 'index', '--hcp-data-dir', hcp_data_dir])"
   ]
  },
  {
   "cell_type": "code",
   "execution_count": null,
   "metadata": {
    "collapsed": true
   },
   "outputs": [],
   "source": [
    "# for subid in ['sub-50004','sub-50006', 'sub-50008']:\n",
    "#     run(['ciftify_recon_all', '--hcp-data-dir', hcp_data_dir,\n",
    "#         '--fs-subjects-dir', fs_subjects_dir, \n",
    "#         subid])"
   ]
  },
  {
   "cell_type": "code",
   "execution_count": null,
   "metadata": {
    "collapsed": true
   },
   "outputs": [],
   "source": [
    "# for subid in ['sub-50004','sub-50006', 'sub-50008']:\n",
    "#     run(['cifti_vis_recon_all', 'snaps', '--hcp-data-dir',hcp_data_dir, subid])\n",
    "# run(['cifti_vis_recon_all', 'index', '--hcp-data-dir', hcp_data_dir])"
   ]
  },
  {
   "cell_type": "markdown",
   "metadata": {},
   "source": [
    "# Running ciftify_subject_fmri "
   ]
  },
  {
   "cell_type": "code",
   "execution_count": 38,
   "metadata": {
    "scrolled": true
   },
   "outputs": [
    {
     "name": "stderr",
     "output_type": "stream",
     "text": [
      "Running: ciftify_subject_fmri --SmoothingFWHM 12 --hcp-data-dir /home/edickie/Documents/ciftify_tests/run_2017-09-08/hcp /home/edickie/Documents/ciftify_tests/src_data/ds000030_R1.0.4/derivatives/fmriprep/sub-50005/func/sub-50005_task-rest_bold_space-native_preproc.nii.gz sub-50005 rest_test1\n",
      "Running: ciftify_subject_fmri --SmoothingFWHM 12 --hcp-data-dir /home/edickie/Documents/ciftify_tests/run_2017-09-08/hcp /home/edickie/Documents/ciftify_tests/src_data/ds000030_R1.0.4/derivatives/fmriprep/sub-50005/func/sub-50005_task-rest_bold_space-native_preproc.nii.gz sub-50005 rest_test1\n"
     ]
    },
    {
     "data": {
      "text/plain": [
       "0"
      ]
     },
     "execution_count": 38,
     "metadata": {},
     "output_type": "execute_result"
    }
   ],
   "source": [
    "subid=subids[0]\n",
    "native_func = os.path.join(src_data_dir,'ds000030_R1.0.4','derivatives',\n",
    "                 'fmriprep', subid,'func',\n",
    "                 '{}_task-rest_bold_space-native_preproc.nii.gz'.format(subid))\n",
    "mat_file = os.path.join(src_data_dir, 'ds000030_R1.0.4','derivatives',\n",
    "                            'fmriprep', subid,'func',\n",
    "                            '{}_task-rest_bold_T1_to_EPI.mat'.format(subid))\n",
    "\n",
    "with open(mat_file, \"w\") as text_file:\n",
    "    text_file.write('''1.03  -0.015  0.0025  -15.0\n",
    "0.014  1.01  -0.005  -11.9\n",
    "-0.007 0.01  0.99  2\n",
    "0  0  0  1\n",
    "''')\n",
    "\n",
    "t1_func = os.path.join(src_data_dir,'ds000030_R1.0.4','derivatives',\n",
    "                 'fmriprep', subid,'func',\n",
    "                 '{}_task-rest_bold_space-T1w_preproc.nii.gz'.format(subid))\n",
    "if not os.path.exists(native_func):\n",
    "    run(['flirt', '-in', t1_func, '-ref', t1_func, \n",
    "         '-out', native_func, '-init', mat_file, '-applyxfm'])\n",
    "\n",
    "run(['ciftify_subject_fmri', '--SmoothingFWHM', '12', \n",
    "    '--hcp-data-dir', hcp_data_dir, \n",
    "    native_func, subid, 'rest_test1'])"
   ]
  },
  {
   "cell_type": "code",
   "execution_count": 39,
   "metadata": {},
   "outputs": [
    {
     "name": "stderr",
     "output_type": "stream",
     "text": [
      "Running: cifti_vis_fmri snaps --SmoothingFWHM 12 --hcp-data-dir /home/edickie/Documents/ciftify_tests/run_2017-09-08/hcp rest_test1 sub-50005\n",
      "Running: cifti_vis_fmri snaps --SmoothingFWHM 12 --hcp-data-dir /home/edickie/Documents/ciftify_tests/run_2017-09-08/hcp rest_test1 sub-50005\n"
     ]
    },
    {
     "data": {
      "text/plain": [
       "0"
      ]
     },
     "execution_count": 39,
     "metadata": {},
     "output_type": "execute_result"
    }
   ],
   "source": [
    "subid=subids[0]\n",
    "run(['cifti_vis_fmri', 'snaps', '--SmoothingFWHM', '12', '--hcp-data-dir',hcp_data_dir, 'rest_test1', subid])"
   ]
  },
  {
   "cell_type": "code",
   "execution_count": 40,
   "metadata": {
    "scrolled": true
   },
   "outputs": [
    {
     "name": "stderr",
     "output_type": "stream",
     "text": [
      "Running: fslmaths /home/edickie/Documents/ciftify_tests/src_data/ds000030_R1.0.4/derivatives/fmriprep/sub-50005/func/sub-50005_task-rest_bold_space-native_preproc.nii.gz -Tmean /home/edickie/Documents/ciftify_tests/src_data/ds000030_R1.0.4/derivatives/fmriprep/sub-50005/func/sub-50005_task-rest_bold_space-native_mean.nii.gz\n",
      "Running: fslmaths /home/edickie/Documents/ciftify_tests/src_data/ds000030_R1.0.4/derivatives/fmriprep/sub-50005/func/sub-50005_task-rest_bold_space-native_preproc.nii.gz -Tmean /home/edickie/Documents/ciftify_tests/src_data/ds000030_R1.0.4/derivatives/fmriprep/sub-50005/func/sub-50005_task-rest_bold_space-native_mean.nii.gz\n",
      "Running: ciftify_subject_fmri --hcp-data-dir /home/edickie/Documents/ciftify_tests/run_2017-09-08/hcp --FLIRT-template /home/edickie/Documents/ciftify_tests/src_data/ds000030_R1.0.4/derivatives/fmriprep/sub-50005/func/sub-50005_task-rest_bold_space-native_mean.nii.gz /home/edickie/Documents/ciftify_tests/src_data/ds000030_R1.0.4/derivatives/fmriprep/sub-50005/func/sub-50005_task-rest_bold_space-native_preproc.nii.gz sub-50005 rest_test2\n",
      "Running: ciftify_subject_fmri --hcp-data-dir /home/edickie/Documents/ciftify_tests/run_2017-09-08/hcp --FLIRT-template /home/edickie/Documents/ciftify_tests/src_data/ds000030_R1.0.4/derivatives/fmriprep/sub-50005/func/sub-50005_task-rest_bold_space-native_mean.nii.gz /home/edickie/Documents/ciftify_tests/src_data/ds000030_R1.0.4/derivatives/fmriprep/sub-50005/func/sub-50005_task-rest_bold_space-native_preproc.nii.gz sub-50005 rest_test2\n"
     ]
    },
    {
     "data": {
      "text/plain": [
       "0"
      ]
     },
     "execution_count": 40,
     "metadata": {},
     "output_type": "execute_result"
    }
   ],
   "source": [
    "subid=subids[0]\n",
    "native_func_mean = os.path.join(src_data_dir,'ds000030_R1.0.4','derivatives',\n",
    "                 'fmriprep', subid,'func',\n",
    "                 '{}_task-rest_bold_space-native_mean.nii.gz'.format(subid))\n",
    "\n",
    "run(['fslmaths', native_func, '-Tmean', native_func_mean])\n",
    "\n",
    "run(['ciftify_subject_fmri', '--hcp-data-dir', hcp_data_dir, \n",
    "    '--FLIRT-template', native_func_mean, native_func, subid, 'rest_test2'])\n"
   ]
  },
  {
   "cell_type": "code",
   "execution_count": 41,
   "metadata": {},
   "outputs": [
    {
     "name": "stderr",
     "output_type": "stream",
     "text": [
      "Running: cifti_vis_fmri snaps --smooth-conn 12 --hcp-data-dir /home/edickie/Documents/ciftify_tests/run_2017-09-08/hcp rest_test2 sub-50005\n",
      "Running: cifti_vis_fmri snaps --smooth-conn 12 --hcp-data-dir /home/edickie/Documents/ciftify_tests/run_2017-09-08/hcp rest_test2 sub-50005\n"
     ]
    },
    {
     "data": {
      "text/plain": [
       "0"
      ]
     },
     "execution_count": 41,
     "metadata": {},
     "output_type": "execute_result"
    }
   ],
   "source": [
    "subid=subids[0]\n",
    "run(['cifti_vis_fmri', 'snaps', '--smooth-conn', '12', '--hcp-data-dir',hcp_data_dir, 'rest_test2', subid])"
   ]
  },
  {
   "cell_type": "code",
   "execution_count": 51,
   "metadata": {
    "scrolled": true
   },
   "outputs": [
    {
     "name": "stderr",
     "output_type": "stream",
     "text": [
      "Running: ciftify_subject_fmri --SmoothingFWHM 8 --FLIRT-dof 30 --hcp-data-dir /home/edickie/Documents/ciftify_tests/run_2017-09-08/hcp --OutputSurfDiagnostics /home/edickie/Documents/ciftify_tests/src_data/ds000030_R1.0.4/derivatives/fmriprep/sub-50007/func/sub-50007_task-rest_bold_space-T1w_preproc.nii.gz sub-50007 rest_test_dof30\n",
      "Running: ciftify_subject_fmri --SmoothingFWHM 8 --FLIRT-dof 30 --hcp-data-dir /home/edickie/Documents/ciftify_tests/run_2017-09-08/hcp --OutputSurfDiagnostics /home/edickie/Documents/ciftify_tests/src_data/ds000030_R1.0.4/derivatives/fmriprep/sub-50007/func/sub-50007_task-rest_bold_space-T1w_preproc.nii.gz sub-50007 rest_test_dof30\n"
     ]
    },
    {
     "data": {
      "text/plain": [
       "0"
      ]
     },
     "execution_count": 51,
     "metadata": {},
     "output_type": "execute_result"
    }
   ],
   "source": [
    "\n",
    "subid = subids[1]\n",
    "run(['ciftify_subject_fmri', '--SmoothingFWHM', '8', '--FLIRT-dof', '30',\n",
    "    '--hcp-data-dir', hcp_data_dir, \n",
    "     '--OutputSurfDiagnostics',\n",
    "    os.path.join(src_data_dir,'ds000030_R1.0.4','derivatives',\n",
    "                 'fmriprep', subid,'func',\n",
    "                 '{}_task-rest_bold_space-T1w_preproc.nii.gz'.format(subid)),\n",
    "    subid, 'rest_test_dof30'])"
   ]
  },
  {
   "cell_type": "code",
   "execution_count": 52,
   "metadata": {},
   "outputs": [
    {
     "name": "stderr",
     "output_type": "stream",
     "text": [
      "Running: cifti_vis_fmri snaps --hcp-data-dir /home/edickie/Documents/ciftify_tests/run_2017-09-08/hcp rest_test_dof30 sub-50007\n",
      "Running: cifti_vis_fmri snaps --hcp-data-dir /home/edickie/Documents/ciftify_tests/run_2017-09-08/hcp rest_test_dof30 sub-50007\n"
     ]
    },
    {
     "data": {
      "text/plain": [
       "0"
      ]
     },
     "execution_count": 52,
     "metadata": {},
     "output_type": "execute_result"
    }
   ],
   "source": [
    "subid = subids[1]\n",
    "run(['cifti_vis_fmri', 'snaps', '--hcp-data-dir',hcp_data_dir, 'rest_test_dof30', subid])"
   ]
  },
  {
   "cell_type": "code",
   "execution_count": 44,
   "metadata": {},
   "outputs": [
    {
     "name": "stderr",
     "output_type": "stream",
     "text": [
      "Running: ciftify_subject_fmri --already-in-MNI --SmoothingFWHM 8 --hcp-data-dir /home/edickie/Documents/ciftify_tests/run_2017-09-08/hcp /home/edickie/Documents/ciftify_tests/src_data/ds000030_R1.0.4/derivatives/fmriprep/sub-50007/func/sub-50007_task-rest_bold_space-MNI152NLin2009cAsym_preproc.nii.gz sub-50007 rest_bad_transform\n",
      "Running: ciftify_subject_fmri --already-in-MNI --SmoothingFWHM 8 --hcp-data-dir /home/edickie/Documents/ciftify_tests/run_2017-09-08/hcp /home/edickie/Documents/ciftify_tests/src_data/ds000030_R1.0.4/derivatives/fmriprep/sub-50007/func/sub-50007_task-rest_bold_space-MNI152NLin2009cAsym_preproc.nii.gz sub-50007 rest_bad_transform\n"
     ]
    },
    {
     "data": {
      "text/plain": [
       "0"
      ]
     },
     "execution_count": 44,
     "metadata": {},
     "output_type": "execute_result"
    }
   ],
   "source": [
    "subid = subids[1]\n",
    "run(['ciftify_subject_fmri', '--already-in-MNI', '--SmoothingFWHM', '8', \n",
    "    '--hcp-data-dir', hcp_data_dir, \n",
    "    os.path.join(src_data_dir,'ds000030_R1.0.4','derivatives',\n",
    "                 'fmriprep', subid,'func',\n",
    "                 '{}_task-rest_bold_space-MNI152NLin2009cAsym_preproc.nii.gz'.format(subid)),\n",
    "    subid, 'rest_bad_transform'])"
   ]
  },
  {
   "cell_type": "code",
   "execution_count": 45,
   "metadata": {},
   "outputs": [
    {
     "name": "stderr",
     "output_type": "stream",
     "text": [
      "Running: cifti_vis_fmri snaps --hcp-data-dir /home/edickie/Documents/ciftify_tests/run_2017-09-08/hcp rest_bad_transform sub-50007\n",
      "Running: cifti_vis_fmri snaps --hcp-data-dir /home/edickie/Documents/ciftify_tests/run_2017-09-08/hcp rest_bad_transform sub-50007\n"
     ]
    },
    {
     "data": {
      "text/plain": [
       "0"
      ]
     },
     "execution_count": 45,
     "metadata": {},
     "output_type": "execute_result"
    }
   ],
   "source": [
    "subid = subids[1]\n",
    "run(['cifti_vis_fmri', 'snaps', '--hcp-data-dir',hcp_data_dir, 'rest_bad_transform', subid])"
   ]
  },
  {
   "cell_type": "code",
   "execution_count": 46,
   "metadata": {},
   "outputs": [
    {
     "name": "stderr",
     "output_type": "stream",
     "text": [
      "Running: cifti_vis_fmri index --hcp-data-dir /home/edickie/Documents/ciftify_tests/run_2017-09-08/hcp\n",
      "Running: cifti_vis_fmri index --hcp-data-dir /home/edickie/Documents/ciftify_tests/run_2017-09-08/hcp\n"
     ]
    },
    {
     "data": {
      "text/plain": [
       "0"
      ]
     },
     "execution_count": 46,
     "metadata": {},
     "output_type": "execute_result"
    }
   ],
   "source": [
    "run(['cifti_vis_fmri', 'index', '--hcp-data-dir', hcp_data_dir])"
   ]
  },
  {
   "cell_type": "code",
   "execution_count": 53,
   "metadata": {},
   "outputs": [
    {
     "name": "stderr",
     "output_type": "stream",
     "text": [
      "Running: cifti_vis_RSN cifti-snaps --hcp-data-dir /home/edickie/Documents/ciftify_tests/run_2017-09-08/hcp --colour-palette PSYCH-NO-NONE /home/edickie/Documents/ciftify_tests/run_2017-09-08/hcp/sub-50007/MNINonLinear/Results/rest_test_dof30/rest_test_dof30_Atlas_s0.dtseries.nii sub-50007\n",
      "Running: cifti_vis_RSN cifti-snaps --hcp-data-dir /home/edickie/Documents/ciftify_tests/run_2017-09-08/hcp --colour-palette PSYCH-NO-NONE /home/edickie/Documents/ciftify_tests/run_2017-09-08/hcp/sub-50007/MNINonLinear/Results/rest_test_dof30/rest_test_dof30_Atlas_s0.dtseries.nii sub-50007\n",
      "Running: cifti_vis_RSN cifti-snaps --hcp-data-dir /home/edickie/Documents/ciftify_tests/run_2017-09-08/hcp /home/edickie/Documents/ciftify_tests/run_2017-09-08/hcp/sub-50007/MNINonLinear/Results/rest_test_dof30/rest_test_dof30_Atlas_s8.dtseries.nii sub-50007\n",
      "Running: cifti_vis_RSN cifti-snaps --hcp-data-dir /home/edickie/Documents/ciftify_tests/run_2017-09-08/hcp /home/edickie/Documents/ciftify_tests/run_2017-09-08/hcp/sub-50007/MNINonLinear/Results/rest_test_dof30/rest_test_dof30_Atlas_s8.dtseries.nii sub-50007\n",
      "Running: cifti_vis_RSN cifti-snaps --hcp-data-dir /home/edickie/Documents/ciftify_tests/run_2017-09-08/hcp /home/edickie/Documents/ciftify_tests/run_2017-09-08/hcp/sub-50007/MNINonLinear/Results/rest_bad_transform/rest_bad_transform_Atlas_s8.dtseries.nii sub-50007\n",
      "Running: cifti_vis_RSN cifti-snaps --hcp-data-dir /home/edickie/Documents/ciftify_tests/run_2017-09-08/hcp /home/edickie/Documents/ciftify_tests/run_2017-09-08/hcp/sub-50007/MNINonLinear/Results/rest_bad_transform/rest_bad_transform_Atlas_s8.dtseries.nii sub-50007\n",
      "Running: cifti_vis_RSN cifti-snaps --hcp-data-dir /home/edickie/Documents/ciftify_tests/run_2017-09-08/hcp /home/edickie/Documents/ciftify_tests/run_2017-09-08/hcp/sub-50007/MNINonLinear/Results/rest_bad_transform/rest_bad_transform_Atlas_s0.dtseries.nii sub-50007\n",
      "Running: cifti_vis_RSN cifti-snaps --hcp-data-dir /home/edickie/Documents/ciftify_tests/run_2017-09-08/hcp /home/edickie/Documents/ciftify_tests/run_2017-09-08/hcp/sub-50007/MNINonLinear/Results/rest_bad_transform/rest_bad_transform_Atlas_s0.dtseries.nii sub-50007\n",
      "Running: cifti_vis_RSN cifti-snaps --hcp-data-dir /home/edickie/Documents/ciftify_tests/run_2017-09-08/hcp /home/edickie/Documents/ciftify_tests/run_2017-09-08/hcp/sub-50005/MNINonLinear/Results/rest_test2/rest_test2_Atlas_s0.dtseries.nii sub-50005\n",
      "Running: cifti_vis_RSN cifti-snaps --hcp-data-dir /home/edickie/Documents/ciftify_tests/run_2017-09-08/hcp /home/edickie/Documents/ciftify_tests/run_2017-09-08/hcp/sub-50005/MNINonLinear/Results/rest_test2/rest_test2_Atlas_s0.dtseries.nii sub-50005\n",
      "Running: cifti_vis_RSN cifti-snaps --hcp-data-dir /home/edickie/Documents/ciftify_tests/run_2017-09-08/hcp /home/edickie/Documents/ciftify_tests/run_2017-09-08/hcp/sub-50005/MNINonLinear/Results/rest_test1/rest_test1_Atlas_s0.dtseries.nii sub-50005\n",
      "Running: cifti_vis_RSN cifti-snaps --hcp-data-dir /home/edickie/Documents/ciftify_tests/run_2017-09-08/hcp /home/edickie/Documents/ciftify_tests/run_2017-09-08/hcp/sub-50005/MNINonLinear/Results/rest_test1/rest_test1_Atlas_s0.dtseries.nii sub-50005\n",
      "Running: cifti_vis_RSN cifti-snaps --hcp-data-dir /home/edickie/Documents/ciftify_tests/run_2017-09-08/hcp /home/edickie/Documents/ciftify_tests/run_2017-09-08/hcp/sub-50005/MNINonLinear/Results/rest_test1/rest_test1_Atlas_s12.dtseries.nii sub-50005\n",
      "Running: cifti_vis_RSN cifti-snaps --hcp-data-dir /home/edickie/Documents/ciftify_tests/run_2017-09-08/hcp /home/edickie/Documents/ciftify_tests/run_2017-09-08/hcp/sub-50005/MNINonLinear/Results/rest_test1/rest_test1_Atlas_s12.dtseries.nii sub-50005\n",
      "Running: cifti_vis_RSN index --hcp-data-dir /home/edickie/Documents/ciftify_tests/run_2017-09-08/hcp\n",
      "Running: cifti_vis_RSN index --hcp-data-dir /home/edickie/Documents/ciftify_tests/run_2017-09-08/hcp\n"
     ]
    },
    {
     "data": {
      "text/plain": [
       "0"
      ]
     },
     "execution_count": 53,
     "metadata": {},
     "output_type": "execute_result"
    }
   ],
   "source": [
    "from glob import glob\n",
    "dtseries_files = glob(os.path.join(hcp_data_dir,'*',\n",
    "                                       'MNINonLinear', 'Results',\n",
    "                                       '*', '*Atlas_s*.dtseries.nii'))\n",
    "run(['cifti_vis_RSN', 'cifti-snaps',  \n",
    "         '--hcp-data-dir',hcp_data_dir, \n",
    "         '--colour-palette', 'PSYCH-NO-NONE',\n",
    "         dtseries_files[0], \n",
    "         os.path.basename(os.path.dirname(os.path.dirname(os.path.dirname(os.path.dirname(dtseries_files[0])))))])\n",
    "    \n",
    "for dtseries in dtseries_files[1:]:\n",
    "    run(['cifti_vis_RSN', 'cifti-snaps',  \n",
    "         '--hcp-data-dir',hcp_data_dir, dtseries, \n",
    "         os.path.basename(os.path.dirname(os.path.dirname(os.path.dirname(os.path.dirname(dtseries)))))])\n",
    "run(['cifti_vis_RSN', 'index', \n",
    "     '--hcp-data-dir', hcp_data_dir])"
   ]
  },
  {
   "cell_type": "code",
   "execution_count": 54,
   "metadata": {},
   "outputs": [
    {
     "name": "stderr",
     "output_type": "stream",
     "text": [
      "Running: cifti_vis_RSN index --hcp-data-dir /home/edickie/Documents/ciftify_tests/run_2017-09-08/hcp\n",
      "Running: cifti_vis_RSN index --hcp-data-dir /home/edickie/Documents/ciftify_tests/run_2017-09-08/hcp\n"
     ]
    },
    {
     "data": {
      "text/plain": [
       "0"
      ]
     },
     "execution_count": 54,
     "metadata": {},
     "output_type": "execute_result"
    }
   ],
   "source": [
    "run(['cifti_vis_RSN', 'index', '--hcp-data-dir', hcp_data_dir])"
   ]
  },
  {
   "cell_type": "code",
   "execution_count": 173,
   "metadata": {
    "scrolled": true
   },
   "outputs": [
    {
     "name": "stderr",
     "output_type": "stream",
     "text": [
      "Running: wb_command -volume-label-to-roi /home/edickie/Documents/ciftify_tests/run_2017-09-08/hcp/sub-50007/MNINonLinear/wmparc.nii.gz /home/edickie/Documents/ciftify_tests/run_2017-09-08/ciftify_seed_corr/sub-50007_RIGHT-PUTAMEN_vol.nii.gz -name RIGHT-PUTAMEN\n",
      "Running: wb_command -volume-label-to-roi /home/edickie/Documents/ciftify_tests/run_2017-09-08/hcp/sub-50007/MNINonLinear/wmparc.nii.gz /home/edickie/Documents/ciftify_tests/run_2017-09-08/ciftify_seed_corr/sub-50007_RIGHT-PUTAMEN_vol.nii.gz -name RIGHT-PUTAMEN\n",
      "Running: ciftify_seed_corr /home/edickie/Documents/ciftify_tests/run_2017-09-08/hcp/sub-50007/MNINonLinear/Results/rest_test_dof30/rest_test_dof30_Atlas_s0.dtseries.nii /home/edickie/Documents/ciftify_tests/run_2017-09-08/ciftify_seed_corr/sub-50007_RIGHT-PUTAMEN_vol.nii.gz\n",
      "Running: ciftify_seed_corr /home/edickie/Documents/ciftify_tests/run_2017-09-08/hcp/sub-50007/MNINonLinear/Results/rest_test_dof30/rest_test_dof30_Atlas_s0.dtseries.nii /home/edickie/Documents/ciftify_tests/run_2017-09-08/ciftify_seed_corr/sub-50007_RIGHT-PUTAMEN_vol.nii.gz\n",
      "Running: ciftify_peaktable --min-threshold -0.5 --max-threshold 0.5 --no-cluster-dlabel /home/edickie/Documents/ciftify_tests/run_2017-09-08/hcp/sub-50007/MNINonLinear/Results/rest_test_dof30/rest_test_dof30_Atlas_s0_sub-50007_RIGHT-PUTAMEN_vol.dscalar.nii\n",
      "Running: ciftify_peaktable --min-threshold -0.5 --max-threshold 0.5 --no-cluster-dlabel /home/edickie/Documents/ciftify_tests/run_2017-09-08/hcp/sub-50007/MNINonLinear/Results/rest_test_dof30/rest_test_dof30_Atlas_s0_sub-50007_RIGHT-PUTAMEN_vol.dscalar.nii\n",
      "Running: ciftify_seed_corr /home/edickie/Documents/ciftify_tests/run_2017-09-08/hcp/sub-50007/MNINonLinear/Results/rest_test_dof30/rest_test_dof30_Atlas_s8.dtseries.nii /home/edickie/Documents/ciftify_tests/run_2017-09-08/ciftify_seed_corr/sub-50007_RIGHT-PUTAMEN_vol.nii.gz\n",
      "Running: ciftify_seed_corr /home/edickie/Documents/ciftify_tests/run_2017-09-08/hcp/sub-50007/MNINonLinear/Results/rest_test_dof30/rest_test_dof30_Atlas_s8.dtseries.nii /home/edickie/Documents/ciftify_tests/run_2017-09-08/ciftify_seed_corr/sub-50007_RIGHT-PUTAMEN_vol.nii.gz\n",
      "Running: ciftify_peaktable --min-threshold -0.5 --max-threshold 0.5 --no-cluster-dlabel /home/edickie/Documents/ciftify_tests/run_2017-09-08/hcp/sub-50007/MNINonLinear/Results/rest_test_dof30/rest_test_dof30_Atlas_s8_sub-50007_RIGHT-PUTAMEN_vol.dscalar.nii\n",
      "Running: ciftify_peaktable --min-threshold -0.5 --max-threshold 0.5 --no-cluster-dlabel /home/edickie/Documents/ciftify_tests/run_2017-09-08/hcp/sub-50007/MNINonLinear/Results/rest_test_dof30/rest_test_dof30_Atlas_s8_sub-50007_RIGHT-PUTAMEN_vol.dscalar.nii\n",
      "/home/edickie/code/ciftify/ciftify/bin/ciftify_peaktable:292: RuntimeWarning: invalid value encountered in true_divide\n",
      "  df.loc[pd_idx, overlap_col] = overlap_area/clust_area\n",
      "\n",
      "/home/edickie/code/ciftify/ciftify/bin/ciftify_peaktable:292: RuntimeWarning: invalid value encountered in true_divide\n",
      "  df.loc[pd_idx, overlap_col] = overlap_area/clust_area\n",
      "\n",
      "Running: ciftify_seed_corr /home/edickie/Documents/ciftify_tests/run_2017-09-08/hcp/sub-50007/MNINonLinear/Results/rest_bad_transform/rest_bad_transform_Atlas_s8.dtseries.nii /home/edickie/Documents/ciftify_tests/run_2017-09-08/ciftify_seed_corr/sub-50007_RIGHT-PUTAMEN_vol.nii.gz\n",
      "Running: ciftify_seed_corr /home/edickie/Documents/ciftify_tests/run_2017-09-08/hcp/sub-50007/MNINonLinear/Results/rest_bad_transform/rest_bad_transform_Atlas_s8.dtseries.nii /home/edickie/Documents/ciftify_tests/run_2017-09-08/ciftify_seed_corr/sub-50007_RIGHT-PUTAMEN_vol.nii.gz\n",
      "Running: ciftify_peaktable --min-threshold -0.5 --max-threshold 0.5 --no-cluster-dlabel /home/edickie/Documents/ciftify_tests/run_2017-09-08/hcp/sub-50007/MNINonLinear/Results/rest_bad_transform/rest_bad_transform_Atlas_s8_sub-50007_RIGHT-PUTAMEN_vol.dscalar.nii\n",
      "Running: ciftify_peaktable --min-threshold -0.5 --max-threshold 0.5 --no-cluster-dlabel /home/edickie/Documents/ciftify_tests/run_2017-09-08/hcp/sub-50007/MNINonLinear/Results/rest_bad_transform/rest_bad_transform_Atlas_s8_sub-50007_RIGHT-PUTAMEN_vol.dscalar.nii\n",
      "/home/edickie/code/ciftify/ciftify/bin/ciftify_peaktable:292: RuntimeWarning: invalid value encountered in true_divide\n",
      "  df.loc[pd_idx, overlap_col] = overlap_area/clust_area\n",
      "\n",
      "/home/edickie/code/ciftify/ciftify/bin/ciftify_peaktable:292: RuntimeWarning: invalid value encountered in true_divide\n",
      "  df.loc[pd_idx, overlap_col] = overlap_area/clust_area\n",
      "\n",
      "Running: ciftify_seed_corr /home/edickie/Documents/ciftify_tests/run_2017-09-08/hcp/sub-50007/MNINonLinear/Results/rest_bad_transform/rest_bad_transform_Atlas_s0.dtseries.nii /home/edickie/Documents/ciftify_tests/run_2017-09-08/ciftify_seed_corr/sub-50007_RIGHT-PUTAMEN_vol.nii.gz\n",
      "Running: ciftify_seed_corr /home/edickie/Documents/ciftify_tests/run_2017-09-08/hcp/sub-50007/MNINonLinear/Results/rest_bad_transform/rest_bad_transform_Atlas_s0.dtseries.nii /home/edickie/Documents/ciftify_tests/run_2017-09-08/ciftify_seed_corr/sub-50007_RIGHT-PUTAMEN_vol.nii.gz\n",
      "Running: ciftify_peaktable --min-threshold -0.5 --max-threshold 0.5 --no-cluster-dlabel /home/edickie/Documents/ciftify_tests/run_2017-09-08/hcp/sub-50007/MNINonLinear/Results/rest_bad_transform/rest_bad_transform_Atlas_s0_sub-50007_RIGHT-PUTAMEN_vol.dscalar.nii\n",
      "Running: ciftify_peaktable --min-threshold -0.5 --max-threshold 0.5 --no-cluster-dlabel /home/edickie/Documents/ciftify_tests/run_2017-09-08/hcp/sub-50007/MNINonLinear/Results/rest_bad_transform/rest_bad_transform_Atlas_s0_sub-50007_RIGHT-PUTAMEN_vol.dscalar.nii\n",
      "/home/edickie/code/ciftify/ciftify/bin/ciftify_peaktable:292: RuntimeWarning: invalid value encountered in double_scalars\n",
      "  df.loc[pd_idx, overlap_col] = overlap_area/clust_area\n",
      "\n",
      "/home/edickie/code/ciftify/ciftify/bin/ciftify_peaktable:292: RuntimeWarning: invalid value encountered in double_scalars\n",
      "  df.loc[pd_idx, overlap_col] = overlap_area/clust_area\n",
      "\n",
      "Running: ciftify_seed_corr /home/edickie/Documents/ciftify_tests/run_2017-09-08/hcp/sub-50005/MNINonLinear/Results/rest_test2/rest_test2_Atlas_s0.dtseries.nii /home/edickie/Documents/ciftify_tests/run_2017-09-08/ciftify_seed_corr/sub-50005_RIGHT-PUTAMEN_vol.nii.gz\n",
      "Running: ciftify_seed_corr /home/edickie/Documents/ciftify_tests/run_2017-09-08/hcp/sub-50005/MNINonLinear/Results/rest_test2/rest_test2_Atlas_s0.dtseries.nii /home/edickie/Documents/ciftify_tests/run_2017-09-08/ciftify_seed_corr/sub-50005_RIGHT-PUTAMEN_vol.nii.gz\n",
      "Running: ciftify_peaktable --min-threshold -0.5 --max-threshold 0.5 --no-cluster-dlabel /home/edickie/Documents/ciftify_tests/run_2017-09-08/hcp/sub-50005/MNINonLinear/Results/rest_test2/rest_test2_Atlas_s0_sub-50005_RIGHT-PUTAMEN_vol.dscalar.nii\n",
      "Running: ciftify_peaktable --min-threshold -0.5 --max-threshold 0.5 --no-cluster-dlabel /home/edickie/Documents/ciftify_tests/run_2017-09-08/hcp/sub-50005/MNINonLinear/Results/rest_test2/rest_test2_Atlas_s0_sub-50005_RIGHT-PUTAMEN_vol.dscalar.nii\n",
      "Running: ciftify_seed_corr /home/edickie/Documents/ciftify_tests/run_2017-09-08/hcp/sub-50005/MNINonLinear/Results/rest_test1/rest_test1_Atlas_s0.dtseries.nii /home/edickie/Documents/ciftify_tests/run_2017-09-08/ciftify_seed_corr/sub-50005_RIGHT-PUTAMEN_vol.nii.gz\n",
      "Running: ciftify_seed_corr /home/edickie/Documents/ciftify_tests/run_2017-09-08/hcp/sub-50005/MNINonLinear/Results/rest_test1/rest_test1_Atlas_s0.dtseries.nii /home/edickie/Documents/ciftify_tests/run_2017-09-08/ciftify_seed_corr/sub-50005_RIGHT-PUTAMEN_vol.nii.gz\n",
      "Running: ciftify_peaktable --min-threshold -0.5 --max-threshold 0.5 --no-cluster-dlabel /home/edickie/Documents/ciftify_tests/run_2017-09-08/hcp/sub-50005/MNINonLinear/Results/rest_test1/rest_test1_Atlas_s0_sub-50005_RIGHT-PUTAMEN_vol.dscalar.nii\n",
      "Running: ciftify_peaktable --min-threshold -0.5 --max-threshold 0.5 --no-cluster-dlabel /home/edickie/Documents/ciftify_tests/run_2017-09-08/hcp/sub-50005/MNINonLinear/Results/rest_test1/rest_test1_Atlas_s0_sub-50005_RIGHT-PUTAMEN_vol.dscalar.nii\n",
      "Running: ciftify_seed_corr /home/edickie/Documents/ciftify_tests/run_2017-09-08/hcp/sub-50005/MNINonLinear/Results/rest_test1/rest_test1_Atlas_s12.dtseries.nii /home/edickie/Documents/ciftify_tests/run_2017-09-08/ciftify_seed_corr/sub-50005_RIGHT-PUTAMEN_vol.nii.gz\n"
     ]
    },
    {
     "name": "stderr",
     "output_type": "stream",
     "text": [
      "Running: ciftify_seed_corr /home/edickie/Documents/ciftify_tests/run_2017-09-08/hcp/sub-50005/MNINonLinear/Results/rest_test1/rest_test1_Atlas_s12.dtseries.nii /home/edickie/Documents/ciftify_tests/run_2017-09-08/ciftify_seed_corr/sub-50005_RIGHT-PUTAMEN_vol.nii.gz\n",
      "Running: ciftify_peaktable --min-threshold -0.5 --max-threshold 0.5 --no-cluster-dlabel /home/edickie/Documents/ciftify_tests/run_2017-09-08/hcp/sub-50005/MNINonLinear/Results/rest_test1/rest_test1_Atlas_s12_sub-50005_RIGHT-PUTAMEN_vol.dscalar.nii\n",
      "Running: ciftify_peaktable --min-threshold -0.5 --max-threshold 0.5 --no-cluster-dlabel /home/edickie/Documents/ciftify_tests/run_2017-09-08/hcp/sub-50005/MNINonLinear/Results/rest_test1/rest_test1_Atlas_s12_sub-50005_RIGHT-PUTAMEN_vol.dscalar.nii\n"
     ]
    }
   ],
   "source": [
    "for dtseries in dtseries_files:\n",
    "    run_seed_corr_fmri_test(dtseries, hcp_data_dir)"
   ]
  },
  {
   "cell_type": "code",
   "execution_count": 75,
   "metadata": {
    "scrolled": true
   },
   "outputs": [
    {
     "name": "stderr",
     "output_type": "stream",
     "text": [
      "Running: cifti_vis_RSN nifti-snaps --debug --hcp-data-dir /home/edickie/Documents/ciftify_tests/run_2017-09-08/hcp --qcdir /home/edickie/Documents/ciftify_tests/run_2017-09-08/hcp/RSN_from_nii --colour-palette PSYCH-NO-NONE /home/edickie/Documents/ciftify_tests/src_data/ds000030_R1.0.4/derivatives/fmriprep/sub-50005/func/sub-50005_task-rest_bold_space-MNI152NLin2009cAsym_preproc.nii.gz sub-50005\n",
      "Running: cifti_vis_RSN nifti-snaps --debug --hcp-data-dir /home/edickie/Documents/ciftify_tests/run_2017-09-08/hcp --qcdir /home/edickie/Documents/ciftify_tests/run_2017-09-08/hcp/RSN_from_nii --colour-palette PSYCH-NO-NONE /home/edickie/Documents/ciftify_tests/src_data/ds000030_R1.0.4/derivatives/fmriprep/sub-50005/func/sub-50005_task-rest_bold_space-MNI152NLin2009cAsym_preproc.nii.gz sub-50005\n",
      "[cifti_vis_RSN] DEBUG: {'--colour-palette': 'PSYCH-NO-NONE',\n",
      " '--debug': True,\n",
      " '--hcp-data-dir': '/home/edickie/Documents/ciftify_tests/run_2017-09-08/hcp',\n",
      " '--help': False,\n",
      " '--qcdir': '/home/edickie/Documents/ciftify_tests/run_2017-09-08/hcp/RSN_from_nii',\n",
      " '--subjects-filter': None,\n",
      " '--subjects-list': None,\n",
      " '--verbose': False,\n",
      " '<func.dtseries.nii>': None,\n",
      " '<func.nii.gz>': '/home/edickie/Documents/ciftify_tests/src_data/ds000030_R1.0.4/derivatives/fmriprep/sub-50005/func/sub-50005_task-rest_bold_space-MNI152NLin2009cAsym_preproc.nii.gz',\n",
      " '<subject>': 'sub-50005',\n",
      " 'cifti-snaps': False,\n",
      " 'index': False,\n",
      " 'nifti-snaps': True}\n",
      "[ciftify.utils] INFO: Running: mkdir -p /home/edickie/Documents/ciftify_tests/run_2017-09-08/hcp/RSN_from_nii/sub-50005_sub-50005_task-rest_bold_space-MNI152NLin2009cAsym_preproc\n",
      "[ciftify.utils] INFO: Running: mkdir -p /tmp/tmpa5n59cro/sub-50005\n",
      "[ciftify.utils] INFO: Running: ciftify_vol_result --resample-nifti --hcp-data-dir /home/edickie/Documents/ciftify_tests/run_2017-09-08/hcp sub-50005 /home/edickie/Documents/ciftify_tests/src_data/ds000030_R1.0.4/derivatives/fmriprep/sub-50005/func/sub-50005_task-rest_bold_space-MNI152NLin2009cAsym_preproc.nii.gz /tmp/tmpa5n59cro/sub-50005/sub-50005_task-rest_bold_space-MNI152NLin2009cAsym_preproc.dtseries.nii\n",
      "[ciftify.utils] INFO: Running: wb_command -cifti-convert -to-nifti /tmp/tmpa5n59cro/sub-50005/sub-50005_task-rest_bold_space-MNI152NLin2009cAsym_preproc.dtseries.nii /tmp/tmpa5n59cro/sub-50005/func.nii.gz\n",
      "[ciftify.utils] INFO: Running: wb_command -cifti-reduce /tmp/tmpa5n59cro/sub-50005/sub-50005_task-rest_bold_space-MNI152NLin2009cAsym_preproc.dtseries.nii MIN /tmp/tmpa5n59cro/sub-50005/template.dscalar.nii\n",
      "[ciftify.utils] INFO: Running: wb_command -surface-geodesic-rois /home/edickie/Documents/ciftify_tests/run_2017-09-08/hcp/sub-50005/MNINonLinear/fsaverage_LR32k/sub-50005.L.midthickness.32k_fs_LR.surf.gii 8 /tmp/tmpa5n59cro/sub-50005/seed0vertex.txt /tmp/tmpa5n59cro/sub-50005/roi0.L.shape.gii\n",
      "[ciftify.utils] INFO: Running: wb_command -cifti-roi-average /tmp/tmpa5n59cro/sub-50005/sub-50005_task-rest_bold_space-MNI152NLin2009cAsym_preproc.dtseries.nii /tmp/tmpa5n59cro/sub-50005/roi0.meants.txt -left-roi /tmp/tmpa5n59cro/sub-50005/roi0.L.shape.gii\n",
      "[ciftify.utils] INFO: Running: wb_command -cifti-create-dense-from-template /tmp/tmpa5n59cro/sub-50005/template.dscalar.nii /tmp/tmpa5n59cro/sub-50005/roi0.dscalar.nii -metric CORTEX_LEFT /tmp/tmpa5n59cro/sub-50005/roi0.L.shape.gii\n",
      "[ciftify.utils] INFO: Running: wb_command -cifti-palette /tmp/tmpa5n59cro/sub-50005/roi0.dscalar.nii MODE_AUTO_SCALE /tmp/tmpa5n59cro/sub-50005/roi0.dscalar.nii -palette-name power_surf\n",
      "[ciftify.utils] INFO: Running: wb_command -cifti-convert -from-nifti /tmp/tmpa5n59cro/sub-50005/seedcorr0.nii.gz /tmp/tmpa5n59cro/sub-50005/template.dscalar.nii /tmp/tmpa5n59cro/sub-50005/seedcorr0.dscalar.nii\n",
      "[ciftify.utils] INFO: Running: wb_command -cifti-palette /tmp/tmpa5n59cro/sub-50005/seedcorr0.dscalar.nii MODE_AUTO_SCALE /tmp/tmpa5n59cro/sub-50005/seedcorr0.dscalar.nii -palette-name PSYCH-NO-NONE\n",
      "[ciftify.utils] INFO: Running: wb_command -logging WARNING -show-scene /tmp/tmpa5n59cro/sub-50005/seedcorr_sub-50005_0.scene 1 /tmp/tmpa5n59cro/sub-50005/scene1.png 600 400\n",
      "[ciftify.utils] INFO: Running: convert /tmp/tmpa5n59cro/sub-50005/scene1.png -crop 100x50%+0+0 /tmp/tmpa5n59cro/sub-50005/top.png\n",
      "[ciftify.utils] INFO: Running: convert /tmp/tmpa5n59cro/sub-50005/scene1.png -crop 100x50%+0+200 /tmp/tmpa5n59cro/sub-50005/bottom.png\n",
      "[ciftify.utils] INFO: Running: montage -mode concatenate -tile 2x1 /tmp/tmpa5n59cro/sub-50005/top.png /tmp/tmpa5n59cro/sub-50005/bottom.png /home/edickie/Documents/ciftify_tests/run_2017-09-08/hcp/RSN_from_nii/sub-50005_sub-50005_task-rest_bold_space-MNI152NLin2009cAsym_preproc/L-precuneus_VolAx.png\n",
      "[ciftify.utils] INFO: Running: wb_command -logging WARNING -show-scene /tmp/tmpa5n59cro/sub-50005/seedcorr_sub-50005_0.scene 2 /tmp/tmpa5n59cro/sub-50005/scene2.png 600 400\n",
      "[ciftify.utils] INFO: Running: convert /tmp/tmpa5n59cro/sub-50005/scene2.png -crop 100x50%+0+0 /tmp/tmpa5n59cro/sub-50005/top.png\n",
      "[ciftify.utils] INFO: Running: convert /tmp/tmpa5n59cro/sub-50005/scene2.png -crop 100x50%+0+200 /tmp/tmpa5n59cro/sub-50005/bottom.png\n",
      "[ciftify.utils] INFO: Running: montage -mode concatenate -tile 2x1 /tmp/tmpa5n59cro/sub-50005/top.png /tmp/tmpa5n59cro/sub-50005/bottom.png /home/edickie/Documents/ciftify_tests/run_2017-09-08/hcp/RSN_from_nii/sub-50005_sub-50005_task-rest_bold_space-MNI152NLin2009cAsym_preproc/L-precuneus_VolSag.png\n",
      "[ciftify.utils] INFO: Running: wb_command -logging WARNING -show-scene /tmp/tmpa5n59cro/sub-50005/seedcorr_sub-50005_0.scene 3 /tmp/tmpa5n59cro/sub-50005/scene3.png 600 400\n",
      "[ciftify.utils] INFO: Running: convert /tmp/tmpa5n59cro/sub-50005/scene3.png -crop 100x50%+0+0 /tmp/tmpa5n59cro/sub-50005/top.png\n",
      "[ciftify.utils] INFO: Running: convert /tmp/tmpa5n59cro/sub-50005/scene3.png -crop 100x50%+0+200 /tmp/tmpa5n59cro/sub-50005/bottom.png\n",
      "[ciftify.utils] INFO: Running: montage -mode concatenate -tile 2x1 /tmp/tmpa5n59cro/sub-50005/top.png /tmp/tmpa5n59cro/sub-50005/bottom.png /home/edickie/Documents/ciftify_tests/run_2017-09-08/hcp/RSN_from_nii/sub-50005_sub-50005_task-rest_bold_space-MNI152NLin2009cAsym_preproc/L-precuneus_VolCor.png\n",
      "[ciftify.utils] INFO: Running: wb_command -logging WARNING -show-scene /tmp/tmpa5n59cro/sub-50005/seedcorr_sub-50005_0.scene 4 /tmp/tmpa5n59cro/sub-50005/scene4.png 600 400\n",
      "[ciftify.utils] INFO: Running: convert /tmp/tmpa5n59cro/sub-50005/scene4.png -crop 100x50%+0+0 /tmp/tmpa5n59cro/sub-50005/top.png\n",
      "[ciftify.utils] INFO: Running: convert /tmp/tmpa5n59cro/sub-50005/scene4.png -crop 100x50%+0+200 /tmp/tmpa5n59cro/sub-50005/bottom.png\n",
      "[ciftify.utils] INFO: Running: montage -mode concatenate -tile 2x1 /tmp/tmpa5n59cro/sub-50005/top.png /tmp/tmpa5n59cro/sub-50005/bottom.png /home/edickie/Documents/ciftify_tests/run_2017-09-08/hcp/RSN_from_nii/sub-50005_sub-50005_task-rest_bold_space-MNI152NLin2009cAsym_preproc/L-precuneus_LM.png\n",
      "[ciftify.utils] INFO: Running: wb_command -logging WARNING -show-scene /tmp/tmpa5n59cro/sub-50005/seedcorr_sub-50005_0.scene 5 /tmp/tmpa5n59cro/sub-50005/scene5.png 600 400\n",
      "[ciftify.utils] INFO: Running: convert /tmp/tmpa5n59cro/sub-50005/scene5.png -crop 100x50%+0+0 /tmp/tmpa5n59cro/sub-50005/top.png\n",
      "[ciftify.utils] INFO: Running: convert /tmp/tmpa5n59cro/sub-50005/scene5.png -crop 100x50%+0+200 /tmp/tmpa5n59cro/sub-50005/bottom.png\n",
      "[ciftify.utils] INFO: Running: montage -mode concatenate -tile 2x1 /tmp/tmpa5n59cro/sub-50005/top.png /tmp/tmpa5n59cro/sub-50005/bottom.png /home/edickie/Documents/ciftify_tests/run_2017-09-08/hcp/RSN_from_nii/sub-50005_sub-50005_task-rest_bold_space-MNI152NLin2009cAsym_preproc/L-precuneus_APDV.png\n",
      "[ciftify.utils] INFO: Running: wb_command -surface-geodesic-rois /home/edickie/Documents/ciftify_tests/run_2017-09-08/hcp/sub-50005/MNINonLinear/fsaverage_LR32k/sub-50005.L.midthickness.32k_fs_LR.surf.gii 8 /tmp/tmpa5n59cro/sub-50005/seed1vertex.txt /tmp/tmpa5n59cro/sub-50005/roi1.L.shape.gii\n",
      "[ciftify.utils] INFO: Running: wb_command -cifti-roi-average /tmp/tmpa5n59cro/sub-50005/sub-50005_task-rest_bold_space-MNI152NLin2009cAsym_preproc.dtseries.nii /tmp/tmpa5n59cro/sub-50005/roi1.meants.txt -left-roi /tmp/tmpa5n59cro/sub-50005/roi1.L.shape.gii\n",
      "[ciftify.utils] INFO: Running: wb_command -cifti-create-dense-from-template /tmp/tmpa5n59cro/sub-50005/template.dscalar.nii /tmp/tmpa5n59cro/sub-50005/roi1.dscalar.nii -metric CORTEX_LEFT /tmp/tmpa5n59cro/sub-50005/roi1.L.shape.gii\n",
      "[ciftify.utils] INFO: Running: wb_command -cifti-palette /tmp/tmpa5n59cro/sub-50005/roi1.dscalar.nii MODE_AUTO_SCALE /tmp/tmpa5n59cro/sub-50005/roi1.dscalar.nii -palette-name power_surf\n",
      "[ciftify.utils] INFO: Running: wb_command -cifti-convert -from-nifti /tmp/tmpa5n59cro/sub-50005/seedcorr1.nii.gz /tmp/tmpa5n59cro/sub-50005/template.dscalar.nii /tmp/tmpa5n59cro/sub-50005/seedcorr1.dscalar.nii\n",
      "[ciftify.utils] INFO: Running: wb_command -cifti-palette /tmp/tmpa5n59cro/sub-50005/seedcorr1.dscalar.nii MODE_AUTO_SCALE /tmp/tmpa5n59cro/sub-50005/seedcorr1.dscalar.nii -palette-name PSYCH-NO-NONE\n",
      "[ciftify.utils] INFO: Running: wb_command -logging WARNING -show-scene /tmp/tmpa5n59cro/sub-50005/seedcorr_sub-50005_1.scene 1 /tmp/tmpa5n59cro/sub-50005/scene1.png 600 400\n",
      "[ciftify.utils] INFO: Running: convert /tmp/tmpa5n59cro/sub-50005/scene1.png -crop 100x50%+0+0 /tmp/tmpa5n59cro/sub-50005/top.png\n",
      "[ciftify.utils] INFO: Running: convert /tmp/tmpa5n59cro/sub-50005/scene1.png -crop 100x50%+0+200 /tmp/tmpa5n59cro/sub-50005/bottom.png\n",
      "[ciftify.utils] INFO: Running: montage -mode concatenate -tile 2x1 /tmp/tmpa5n59cro/sub-50005/top.png /tmp/tmpa5n59cro/sub-50005/bottom.png /home/edickie/Documents/ciftify_tests/run_2017-09-08/hcp/RSN_from_nii/sub-50005_sub-50005_task-rest_bold_space-MNI152NLin2009cAsym_preproc/L-superior-parietal_VolAx.png\n",
      "[ciftify.utils] INFO: Running: wb_command -logging WARNING -show-scene /tmp/tmpa5n59cro/sub-50005/seedcorr_sub-50005_1.scene 2 /tmp/tmpa5n59cro/sub-50005/scene2.png 600 400\n",
      "[ciftify.utils] INFO: Running: convert /tmp/tmpa5n59cro/sub-50005/scene2.png -crop 100x50%+0+0 /tmp/tmpa5n59cro/sub-50005/top.png\n",
      "[ciftify.utils] INFO: Running: convert /tmp/tmpa5n59cro/sub-50005/scene2.png -crop 100x50%+0+200 /tmp/tmpa5n59cro/sub-50005/bottom.png\n",
      "[ciftify.utils] INFO: Running: montage -mode concatenate -tile 2x1 /tmp/tmpa5n59cro/sub-50005/top.png /tmp/tmpa5n59cro/sub-50005/bottom.png /home/edickie/Documents/ciftify_tests/run_2017-09-08/hcp/RSN_from_nii/sub-50005_sub-50005_task-rest_bold_space-MNI152NLin2009cAsym_preproc/L-superior-parietal_VolSag.png\n",
      "[ciftify.utils] INFO: Running: wb_command -logging WARNING -show-scene /tmp/tmpa5n59cro/sub-50005/seedcorr_sub-50005_1.scene 3 /tmp/tmpa5n59cro/sub-50005/scene3.png 600 400\n",
      "[ciftify.utils] INFO: Running: convert /tmp/tmpa5n59cro/sub-50005/scene3.png -crop 100x50%+0+0 /tmp/tmpa5n59cro/sub-50005/top.png\n",
      "[ciftify.utils] INFO: Running: convert /tmp/tmpa5n59cro/sub-50005/scene3.png -crop 100x50%+0+200 /tmp/tmpa5n59cro/sub-50005/bottom.png\n",
      "[ciftify.utils] INFO: Running: montage -mode concatenate -tile 2x1 /tmp/tmpa5n59cro/sub-50005/top.png /tmp/tmpa5n59cro/sub-50005/bottom.png /home/edickie/Documents/ciftify_tests/run_2017-09-08/hcp/RSN_from_nii/sub-50005_sub-50005_task-rest_bold_space-MNI152NLin2009cAsym_preproc/L-superior-parietal_VolCor.png\n",
      "[ciftify.utils] INFO: Running: wb_command -logging WARNING -show-scene /tmp/tmpa5n59cro/sub-50005/seedcorr_sub-50005_1.scene 4 /tmp/tmpa5n59cro/sub-50005/scene4.png 600 400\n",
      "[ciftify.utils] INFO: Running: convert /tmp/tmpa5n59cro/sub-50005/scene4.png -crop 100x50%+0+0 /tmp/tmpa5n59cro/sub-50005/top.png\n",
      "[ciftify.utils] INFO: Running: convert /tmp/tmpa5n59cro/sub-50005/scene4.png -crop 100x50%+0+200 /tmp/tmpa5n59cro/sub-50005/bottom.png\n",
      "[ciftify.utils] INFO: Running: montage -mode concatenate -tile 2x1 /tmp/tmpa5n59cro/sub-50005/top.png /tmp/tmpa5n59cro/sub-50005/bottom.png /home/edickie/Documents/ciftify_tests/run_2017-09-08/hcp/RSN_from_nii/sub-50005_sub-50005_task-rest_bold_space-MNI152NLin2009cAsym_preproc/L-superior-parietal_LM.png\n",
      "[ciftify.utils] INFO: Running: wb_command -logging WARNING -show-scene /tmp/tmpa5n59cro/sub-50005/seedcorr_sub-50005_1.scene 5 /tmp/tmpa5n59cro/sub-50005/scene5.png 600 400\n",
      "[ciftify.utils] INFO: Running: convert /tmp/tmpa5n59cro/sub-50005/scene5.png -crop 100x50%+0+0 /tmp/tmpa5n59cro/sub-50005/top.png\n",
      "[ciftify.utils] INFO: Running: convert /tmp/tmpa5n59cro/sub-50005/scene5.png -crop 100x50%+0+200 /tmp/tmpa5n59cro/sub-50005/bottom.png\n",
      "[ciftify.utils] INFO: Running: montage -mode concatenate -tile 2x1 /tmp/tmpa5n59cro/sub-50005/top.png /tmp/tmpa5n59cro/sub-50005/bottom.png /home/edickie/Documents/ciftify_tests/run_2017-09-08/hcp/RSN_from_nii/sub-50005_sub-50005_task-rest_bold_space-MNI152NLin2009cAsym_preproc/L-superior-parietal_APDV.png\n",
      "[ciftify.utils] INFO: Running: wb_command -surface-geodesic-rois /home/edickie/Documents/ciftify_tests/run_2017-09-08/hcp/sub-50005/MNINonLinear/fsaverage_LR32k/sub-50005.L.midthickness.32k_fs_LR.surf.gii 8 /tmp/tmpa5n59cro/sub-50005/seed2vertex.txt /tmp/tmpa5n59cro/sub-50005/roi2.L.shape.gii\n",
      "[ciftify.utils] INFO: Running: wb_command -cifti-roi-average /tmp/tmpa5n59cro/sub-50005/sub-50005_task-rest_bold_space-MNI152NLin2009cAsym_preproc.dtseries.nii /tmp/tmpa5n59cro/sub-50005/roi2.meants.txt -left-roi /tmp/tmpa5n59cro/sub-50005/roi2.L.shape.gii\n",
      "[ciftify.utils] INFO: Running: wb_command -cifti-create-dense-from-template /tmp/tmpa5n59cro/sub-50005/template.dscalar.nii /tmp/tmpa5n59cro/sub-50005/roi2.dscalar.nii -metric CORTEX_LEFT /tmp/tmpa5n59cro/sub-50005/roi2.L.shape.gii\n",
      "[ciftify.utils] INFO: Running: wb_command -cifti-palette /tmp/tmpa5n59cro/sub-50005/roi2.dscalar.nii MODE_AUTO_SCALE /tmp/tmpa5n59cro/sub-50005/roi2.dscalar.nii -palette-name power_surf\n",
      "[ciftify.utils] INFO: Running: wb_command -cifti-convert -from-nifti /tmp/tmpa5n59cro/sub-50005/seedcorr2.nii.gz /tmp/tmpa5n59cro/sub-50005/template.dscalar.nii /tmp/tmpa5n59cro/sub-50005/seedcorr2.dscalar.nii\n",
      "[ciftify.utils] INFO: Running: wb_command -cifti-palette /tmp/tmpa5n59cro/sub-50005/seedcorr2.dscalar.nii MODE_AUTO_SCALE /tmp/tmpa5n59cro/sub-50005/seedcorr2.dscalar.nii -palette-name PSYCH-NO-NONE\n",
      "[ciftify.utils] INFO: Running: wb_command -logging WARNING -show-scene /tmp/tmpa5n59cro/sub-50005/seedcorr_sub-50005_2.scene 1 /tmp/tmpa5n59cro/sub-50005/scene1.png 600 400\n",
      "[ciftify.utils] INFO: Running: convert /tmp/tmpa5n59cro/sub-50005/scene1.png -crop 100x50%+0+0 /tmp/tmpa5n59cro/sub-50005/top.png\n",
      "[ciftify.utils] INFO: Running: convert /tmp/tmpa5n59cro/sub-50005/scene1.png -crop 100x50%+0+200 /tmp/tmpa5n59cro/sub-50005/bottom.png\n",
      "[ciftify.utils] INFO: Running: montage -mode concatenate -tile 2x1 /tmp/tmpa5n59cro/sub-50005/top.png /tmp/tmpa5n59cro/sub-50005/bottom.png /home/edickie/Documents/ciftify_tests/run_2017-09-08/hcp/RSN_from_nii/sub-50005_sub-50005_task-rest_bold_space-MNI152NLin2009cAsym_preproc/L-anterior-insula_VolAx.png\n",
      "[ciftify.utils] INFO: Running: wb_command -logging WARNING -show-scene /tmp/tmpa5n59cro/sub-50005/seedcorr_sub-50005_2.scene 2 /tmp/tmpa5n59cro/sub-50005/scene2.png 600 400\n",
      "[ciftify.utils] INFO: Running: convert /tmp/tmpa5n59cro/sub-50005/scene2.png -crop 100x50%+0+0 /tmp/tmpa5n59cro/sub-50005/top.png\n",
      "[ciftify.utils] INFO: Running: convert /tmp/tmpa5n59cro/sub-50005/scene2.png -crop 100x50%+0+200 /tmp/tmpa5n59cro/sub-50005/bottom.png\n",
      "[ciftify.utils] INFO: Running: montage -mode concatenate -tile 2x1 /tmp/tmpa5n59cro/sub-50005/top.png /tmp/tmpa5n59cro/sub-50005/bottom.png /home/edickie/Documents/ciftify_tests/run_2017-09-08/hcp/RSN_from_nii/sub-50005_sub-50005_task-rest_bold_space-MNI152NLin2009cAsym_preproc/L-anterior-insula_VolSag.png\n",
      "[ciftify.utils] INFO: Running: wb_command -logging WARNING -show-scene /tmp/tmpa5n59cro/sub-50005/seedcorr_sub-50005_2.scene 3 /tmp/tmpa5n59cro/sub-50005/scene3.png 600 400\n",
      "[ciftify.utils] INFO: Running: convert /tmp/tmpa5n59cro/sub-50005/scene3.png -crop 100x50%+0+0 /tmp/tmpa5n59cro/sub-50005/top.png\n",
      "[ciftify.utils] INFO: Running: convert /tmp/tmpa5n59cro/sub-50005/scene3.png -crop 100x50%+0+200 /tmp/tmpa5n59cro/sub-50005/bottom.png\n",
      "[ciftify.utils] INFO: Running: montage -mode concatenate -tile 2x1 /tmp/tmpa5n59cro/sub-50005/top.png /tmp/tmpa5n59cro/sub-50005/bottom.png /home/edickie/Documents/ciftify_tests/run_2017-09-08/hcp/RSN_from_nii/sub-50005_sub-50005_task-rest_bold_space-MNI152NLin2009cAsym_preproc/L-anterior-insula_VolCor.png\n",
      "[ciftify.utils] INFO: Running: wb_command -logging WARNING -show-scene /tmp/tmpa5n59cro/sub-50005/seedcorr_sub-50005_2.scene 4 /tmp/tmpa5n59cro/sub-50005/scene4.png 600 400\n",
      "[ciftify.utils] INFO: Running: convert /tmp/tmpa5n59cro/sub-50005/scene4.png -crop 100x50%+0+0 /tmp/tmpa5n59cro/sub-50005/top.png\n",
      "[ciftify.utils] INFO: Running: convert /tmp/tmpa5n59cro/sub-50005/scene4.png -crop 100x50%+0+200 /tmp/tmpa5n59cro/sub-50005/bottom.png\n",
      "[ciftify.utils] INFO: Running: montage -mode concatenate -tile 2x1 /tmp/tmpa5n59cro/sub-50005/top.png /tmp/tmpa5n59cro/sub-50005/bottom.png /home/edickie/Documents/ciftify_tests/run_2017-09-08/hcp/RSN_from_nii/sub-50005_sub-50005_task-rest_bold_space-MNI152NLin2009cAsym_preproc/L-anterior-insula_LM.png\n",
      "[ciftify.utils] INFO: Running: wb_command -logging WARNING -show-scene /tmp/tmpa5n59cro/sub-50005/seedcorr_sub-50005_2.scene 5 /tmp/tmpa5n59cro/sub-50005/scene5.png 600 400\n",
      "[ciftify.utils] INFO: Running: convert /tmp/tmpa5n59cro/sub-50005/scene5.png -crop 100x50%+0+0 /tmp/tmpa5n59cro/sub-50005/top.png\n",
      "[ciftify.utils] INFO: Running: convert /tmp/tmpa5n59cro/sub-50005/scene5.png -crop 100x50%+0+200 /tmp/tmpa5n59cro/sub-50005/bottom.png\n",
      "[ciftify.utils] INFO: Running: montage -mode concatenate -tile 2x1 /tmp/tmpa5n59cro/sub-50005/top.png /tmp/tmpa5n59cro/sub-50005/bottom.png /home/edickie/Documents/ciftify_tests/run_2017-09-08/hcp/RSN_from_nii/sub-50005_sub-50005_task-rest_bold_space-MNI152NLin2009cAsym_preproc/L-anterior-insula_APDV.png\n",
      "[ciftify.utils] INFO: Running: wb_command -surface-geodesic-rois /home/edickie/Documents/ciftify_tests/run_2017-09-08/hcp/sub-50005/MNINonLinear/fsaverage_LR32k/sub-50005.R.midthickness.32k_fs_LR.surf.gii 8 /tmp/tmpa5n59cro/sub-50005/seed3vertex.txt /tmp/tmpa5n59cro/sub-50005/roi3.R.shape.gii\n",
      "[ciftify.utils] INFO: Running: wb_command -cifti-roi-average /tmp/tmpa5n59cro/sub-50005/sub-50005_task-rest_bold_space-MNI152NLin2009cAsym_preproc.dtseries.nii /tmp/tmpa5n59cro/sub-50005/roi3.meants.txt -right-roi /tmp/tmpa5n59cro/sub-50005/roi3.R.shape.gii\n",
      "[ciftify.utils] INFO: Running: wb_command -cifti-create-dense-from-template /tmp/tmpa5n59cro/sub-50005/template.dscalar.nii /tmp/tmpa5n59cro/sub-50005/roi3.dscalar.nii -metric CORTEX_RIGHT /tmp/tmpa5n59cro/sub-50005/roi3.R.shape.gii\n",
      "[ciftify.utils] INFO: Running: wb_command -cifti-palette /tmp/tmpa5n59cro/sub-50005/roi3.dscalar.nii MODE_AUTO_SCALE /tmp/tmpa5n59cro/sub-50005/roi3.dscalar.nii -palette-name power_surf\n",
      "[ciftify.utils] INFO: Running: wb_command -cifti-convert -from-nifti /tmp/tmpa5n59cro/sub-50005/seedcorr3.nii.gz /tmp/tmpa5n59cro/sub-50005/template.dscalar.nii /tmp/tmpa5n59cro/sub-50005/seedcorr3.dscalar.nii\n",
      "[ciftify.utils] INFO: Running: wb_command -cifti-palette /tmp/tmpa5n59cro/sub-50005/seedcorr3.dscalar.nii MODE_AUTO_SCALE /tmp/tmpa5n59cro/sub-50005/seedcorr3.dscalar.nii -palette-name PSYCH-NO-NONE\n",
      "[ciftify.utils] INFO: Running: wb_command -logging WARNING -show-scene /tmp/tmpa5n59cro/sub-50005/seedcorr_sub-50005_3.scene 1 /tmp/tmpa5n59cro/sub-50005/scene1.png 600 400\n",
      "[ciftify.utils] INFO: Running: convert /tmp/tmpa5n59cro/sub-50005/scene1.png -crop 100x50%+0+0 /tmp/tmpa5n59cro/sub-50005/top.png\n",
      "[ciftify.utils] INFO: Running: convert /tmp/tmpa5n59cro/sub-50005/scene1.png -crop 100x50%+0+200 /tmp/tmpa5n59cro/sub-50005/bottom.png\n",
      "[ciftify.utils] INFO: Running: montage -mode concatenate -tile 2x1 /tmp/tmpa5n59cro/sub-50005/top.png /tmp/tmpa5n59cro/sub-50005/bottom.png /home/edickie/Documents/ciftify_tests/run_2017-09-08/hcp/RSN_from_nii/sub-50005_sub-50005_task-rest_bold_space-MNI152NLin2009cAsym_preproc/R-mpfc_VolAx.png\n",
      "[ciftify.utils] INFO: Running: wb_command -logging WARNING -show-scene /tmp/tmpa5n59cro/sub-50005/seedcorr_sub-50005_3.scene 2 /tmp/tmpa5n59cro/sub-50005/scene2.png 600 400\n",
      "[ciftify.utils] INFO: Running: convert /tmp/tmpa5n59cro/sub-50005/scene2.png -crop 100x50%+0+0 /tmp/tmpa5n59cro/sub-50005/top.png\n",
      "[ciftify.utils] INFO: Running: convert /tmp/tmpa5n59cro/sub-50005/scene2.png -crop 100x50%+0+200 /tmp/tmpa5n59cro/sub-50005/bottom.png\n",
      "[ciftify.utils] INFO: Running: montage -mode concatenate -tile 2x1 /tmp/tmpa5n59cro/sub-50005/top.png /tmp/tmpa5n59cro/sub-50005/bottom.png /home/edickie/Documents/ciftify_tests/run_2017-09-08/hcp/RSN_from_nii/sub-50005_sub-50005_task-rest_bold_space-MNI152NLin2009cAsym_preproc/R-mpfc_VolSag.png\n",
      "[ciftify.utils] INFO: Running: wb_command -logging WARNING -show-scene /tmp/tmpa5n59cro/sub-50005/seedcorr_sub-50005_3.scene 3 /tmp/tmpa5n59cro/sub-50005/scene3.png 600 400\n",
      "[ciftify.utils] INFO: Running: convert /tmp/tmpa5n59cro/sub-50005/scene3.png -crop 100x50%+0+0 /tmp/tmpa5n59cro/sub-50005/top.png\n",
      "[ciftify.utils] INFO: Running: convert /tmp/tmpa5n59cro/sub-50005/scene3.png -crop 100x50%+0+200 /tmp/tmpa5n59cro/sub-50005/bottom.png\n",
      "[ciftify.utils] INFO: Running: montage -mode concatenate -tile 2x1 /tmp/tmpa5n59cro/sub-50005/top.png /tmp/tmpa5n59cro/sub-50005/bottom.png /home/edickie/Documents/ciftify_tests/run_2017-09-08/hcp/RSN_from_nii/sub-50005_sub-50005_task-rest_bold_space-MNI152NLin2009cAsym_preproc/R-mpfc_VolCor.png\n",
      "[ciftify.utils] INFO: Running: wb_command -logging WARNING -show-scene /tmp/tmpa5n59cro/sub-50005/seedcorr_sub-50005_3.scene 4 /tmp/tmpa5n59cro/sub-50005/scene4.png 600 400\n",
      "[ciftify.utils] INFO: Running: convert /tmp/tmpa5n59cro/sub-50005/scene4.png -crop 100x50%+0+0 /tmp/tmpa5n59cro/sub-50005/top.png\n",
      "[ciftify.utils] INFO: Running: convert /tmp/tmpa5n59cro/sub-50005/scene4.png -crop 100x50%+0+200 /tmp/tmpa5n59cro/sub-50005/bottom.png\n",
      "[ciftify.utils] INFO: Running: montage -mode concatenate -tile 2x1 /tmp/tmpa5n59cro/sub-50005/top.png /tmp/tmpa5n59cro/sub-50005/bottom.png /home/edickie/Documents/ciftify_tests/run_2017-09-08/hcp/RSN_from_nii/sub-50005_sub-50005_task-rest_bold_space-MNI152NLin2009cAsym_preproc/R-mpfc_LM.png\n",
      "[ciftify.utils] INFO: Running: wb_command -logging WARNING -show-scene /tmp/tmpa5n59cro/sub-50005/seedcorr_sub-50005_3.scene 5 /tmp/tmpa5n59cro/sub-50005/scene5.png 600 400\n",
      "[ciftify.utils] INFO: Running: convert /tmp/tmpa5n59cro/sub-50005/scene5.png -crop 100x50%+0+0 /tmp/tmpa5n59cro/sub-50005/top.png\n",
      "[ciftify.utils] INFO: Running: convert /tmp/tmpa5n59cro/sub-50005/scene5.png -crop 100x50%+0+200 /tmp/tmpa5n59cro/sub-50005/bottom.png\n",
      "[ciftify.utils] INFO: Running: montage -mode concatenate -tile 2x1 /tmp/tmpa5n59cro/sub-50005/top.png /tmp/tmpa5n59cro/sub-50005/bottom.png /home/edickie/Documents/ciftify_tests/run_2017-09-08/hcp/RSN_from_nii/sub-50005_sub-50005_task-rest_bold_space-MNI152NLin2009cAsym_preproc/R-mpfc_APDV.png\n",
      "\n"
     ]
    },
    {
     "name": "stderr",
     "output_type": "stream",
     "text": [
      "[cifti_vis_RSN] DEBUG: {'--colour-palette': 'PSYCH-NO-NONE',\n",
      " '--debug': True,\n",
      " '--hcp-data-dir': '/home/edickie/Documents/ciftify_tests/run_2017-09-08/hcp',\n",
      " '--help': False,\n",
      " '--qcdir': '/home/edickie/Documents/ciftify_tests/run_2017-09-08/hcp/RSN_from_nii',\n",
      " '--subjects-filter': None,\n",
      " '--subjects-list': None,\n",
      " '--verbose': False,\n",
      " '<func.dtseries.nii>': None,\n",
      " '<func.nii.gz>': '/home/edickie/Documents/ciftify_tests/src_data/ds000030_R1.0.4/derivatives/fmriprep/sub-50005/func/sub-50005_task-rest_bold_space-MNI152NLin2009cAsym_preproc.nii.gz',\n",
      " '<subject>': 'sub-50005',\n",
      " 'cifti-snaps': False,\n",
      " 'index': False,\n",
      " 'nifti-snaps': True}\n",
      "[ciftify.utils] INFO: Running: mkdir -p /home/edickie/Documents/ciftify_tests/run_2017-09-08/hcp/RSN_from_nii/sub-50005_sub-50005_task-rest_bold_space-MNI152NLin2009cAsym_preproc\n",
      "[ciftify.utils] INFO: Running: mkdir -p /tmp/tmpa5n59cro/sub-50005\n",
      "[ciftify.utils] INFO: Running: ciftify_vol_result --resample-nifti --hcp-data-dir /home/edickie/Documents/ciftify_tests/run_2017-09-08/hcp sub-50005 /home/edickie/Documents/ciftify_tests/src_data/ds000030_R1.0.4/derivatives/fmriprep/sub-50005/func/sub-50005_task-rest_bold_space-MNI152NLin2009cAsym_preproc.nii.gz /tmp/tmpa5n59cro/sub-50005/sub-50005_task-rest_bold_space-MNI152NLin2009cAsym_preproc.dtseries.nii\n",
      "[ciftify.utils] INFO: Running: wb_command -cifti-convert -to-nifti /tmp/tmpa5n59cro/sub-50005/sub-50005_task-rest_bold_space-MNI152NLin2009cAsym_preproc.dtseries.nii /tmp/tmpa5n59cro/sub-50005/func.nii.gz\n",
      "[ciftify.utils] INFO: Running: wb_command -cifti-reduce /tmp/tmpa5n59cro/sub-50005/sub-50005_task-rest_bold_space-MNI152NLin2009cAsym_preproc.dtseries.nii MIN /tmp/tmpa5n59cro/sub-50005/template.dscalar.nii\n",
      "[ciftify.utils] INFO: Running: wb_command -surface-geodesic-rois /home/edickie/Documents/ciftify_tests/run_2017-09-08/hcp/sub-50005/MNINonLinear/fsaverage_LR32k/sub-50005.L.midthickness.32k_fs_LR.surf.gii 8 /tmp/tmpa5n59cro/sub-50005/seed0vertex.txt /tmp/tmpa5n59cro/sub-50005/roi0.L.shape.gii\n",
      "[ciftify.utils] INFO: Running: wb_command -cifti-roi-average /tmp/tmpa5n59cro/sub-50005/sub-50005_task-rest_bold_space-MNI152NLin2009cAsym_preproc.dtseries.nii /tmp/tmpa5n59cro/sub-50005/roi0.meants.txt -left-roi /tmp/tmpa5n59cro/sub-50005/roi0.L.shape.gii\n",
      "[ciftify.utils] INFO: Running: wb_command -cifti-create-dense-from-template /tmp/tmpa5n59cro/sub-50005/template.dscalar.nii /tmp/tmpa5n59cro/sub-50005/roi0.dscalar.nii -metric CORTEX_LEFT /tmp/tmpa5n59cro/sub-50005/roi0.L.shape.gii\n",
      "[ciftify.utils] INFO: Running: wb_command -cifti-palette /tmp/tmpa5n59cro/sub-50005/roi0.dscalar.nii MODE_AUTO_SCALE /tmp/tmpa5n59cro/sub-50005/roi0.dscalar.nii -palette-name power_surf\n",
      "[ciftify.utils] INFO: Running: wb_command -cifti-convert -from-nifti /tmp/tmpa5n59cro/sub-50005/seedcorr0.nii.gz /tmp/tmpa5n59cro/sub-50005/template.dscalar.nii /tmp/tmpa5n59cro/sub-50005/seedcorr0.dscalar.nii\n",
      "[ciftify.utils] INFO: Running: wb_command -cifti-palette /tmp/tmpa5n59cro/sub-50005/seedcorr0.dscalar.nii MODE_AUTO_SCALE /tmp/tmpa5n59cro/sub-50005/seedcorr0.dscalar.nii -palette-name PSYCH-NO-NONE\n",
      "[ciftify.utils] INFO: Running: wb_command -logging WARNING -show-scene /tmp/tmpa5n59cro/sub-50005/seedcorr_sub-50005_0.scene 1 /tmp/tmpa5n59cro/sub-50005/scene1.png 600 400\n",
      "[ciftify.utils] INFO: Running: convert /tmp/tmpa5n59cro/sub-50005/scene1.png -crop 100x50%+0+0 /tmp/tmpa5n59cro/sub-50005/top.png\n",
      "[ciftify.utils] INFO: Running: convert /tmp/tmpa5n59cro/sub-50005/scene1.png -crop 100x50%+0+200 /tmp/tmpa5n59cro/sub-50005/bottom.png\n",
      "[ciftify.utils] INFO: Running: montage -mode concatenate -tile 2x1 /tmp/tmpa5n59cro/sub-50005/top.png /tmp/tmpa5n59cro/sub-50005/bottom.png /home/edickie/Documents/ciftify_tests/run_2017-09-08/hcp/RSN_from_nii/sub-50005_sub-50005_task-rest_bold_space-MNI152NLin2009cAsym_preproc/L-precuneus_VolAx.png\n",
      "[ciftify.utils] INFO: Running: wb_command -logging WARNING -show-scene /tmp/tmpa5n59cro/sub-50005/seedcorr_sub-50005_0.scene 2 /tmp/tmpa5n59cro/sub-50005/scene2.png 600 400\n",
      "[ciftify.utils] INFO: Running: convert /tmp/tmpa5n59cro/sub-50005/scene2.png -crop 100x50%+0+0 /tmp/tmpa5n59cro/sub-50005/top.png\n",
      "[ciftify.utils] INFO: Running: convert /tmp/tmpa5n59cro/sub-50005/scene2.png -crop 100x50%+0+200 /tmp/tmpa5n59cro/sub-50005/bottom.png\n",
      "[ciftify.utils] INFO: Running: montage -mode concatenate -tile 2x1 /tmp/tmpa5n59cro/sub-50005/top.png /tmp/tmpa5n59cro/sub-50005/bottom.png /home/edickie/Documents/ciftify_tests/run_2017-09-08/hcp/RSN_from_nii/sub-50005_sub-50005_task-rest_bold_space-MNI152NLin2009cAsym_preproc/L-precuneus_VolSag.png\n",
      "[ciftify.utils] INFO: Running: wb_command -logging WARNING -show-scene /tmp/tmpa5n59cro/sub-50005/seedcorr_sub-50005_0.scene 3 /tmp/tmpa5n59cro/sub-50005/scene3.png 600 400\n",
      "[ciftify.utils] INFO: Running: convert /tmp/tmpa5n59cro/sub-50005/scene3.png -crop 100x50%+0+0 /tmp/tmpa5n59cro/sub-50005/top.png\n",
      "[ciftify.utils] INFO: Running: convert /tmp/tmpa5n59cro/sub-50005/scene3.png -crop 100x50%+0+200 /tmp/tmpa5n59cro/sub-50005/bottom.png\n",
      "[ciftify.utils] INFO: Running: montage -mode concatenate -tile 2x1 /tmp/tmpa5n59cro/sub-50005/top.png /tmp/tmpa5n59cro/sub-50005/bottom.png /home/edickie/Documents/ciftify_tests/run_2017-09-08/hcp/RSN_from_nii/sub-50005_sub-50005_task-rest_bold_space-MNI152NLin2009cAsym_preproc/L-precuneus_VolCor.png\n",
      "[ciftify.utils] INFO: Running: wb_command -logging WARNING -show-scene /tmp/tmpa5n59cro/sub-50005/seedcorr_sub-50005_0.scene 4 /tmp/tmpa5n59cro/sub-50005/scene4.png 600 400\n",
      "[ciftify.utils] INFO: Running: convert /tmp/tmpa5n59cro/sub-50005/scene4.png -crop 100x50%+0+0 /tmp/tmpa5n59cro/sub-50005/top.png\n",
      "[ciftify.utils] INFO: Running: convert /tmp/tmpa5n59cro/sub-50005/scene4.png -crop 100x50%+0+200 /tmp/tmpa5n59cro/sub-50005/bottom.png\n",
      "[ciftify.utils] INFO: Running: montage -mode concatenate -tile 2x1 /tmp/tmpa5n59cro/sub-50005/top.png /tmp/tmpa5n59cro/sub-50005/bottom.png /home/edickie/Documents/ciftify_tests/run_2017-09-08/hcp/RSN_from_nii/sub-50005_sub-50005_task-rest_bold_space-MNI152NLin2009cAsym_preproc/L-precuneus_LM.png\n",
      "[ciftify.utils] INFO: Running: wb_command -logging WARNING -show-scene /tmp/tmpa5n59cro/sub-50005/seedcorr_sub-50005_0.scene 5 /tmp/tmpa5n59cro/sub-50005/scene5.png 600 400\n",
      "[ciftify.utils] INFO: Running: convert /tmp/tmpa5n59cro/sub-50005/scene5.png -crop 100x50%+0+0 /tmp/tmpa5n59cro/sub-50005/top.png\n",
      "[ciftify.utils] INFO: Running: convert /tmp/tmpa5n59cro/sub-50005/scene5.png -crop 100x50%+0+200 /tmp/tmpa5n59cro/sub-50005/bottom.png\n",
      "[ciftify.utils] INFO: Running: montage -mode concatenate -tile 2x1 /tmp/tmpa5n59cro/sub-50005/top.png /tmp/tmpa5n59cro/sub-50005/bottom.png /home/edickie/Documents/ciftify_tests/run_2017-09-08/hcp/RSN_from_nii/sub-50005_sub-50005_task-rest_bold_space-MNI152NLin2009cAsym_preproc/L-precuneus_APDV.png\n",
      "[ciftify.utils] INFO: Running: wb_command -surface-geodesic-rois /home/edickie/Documents/ciftify_tests/run_2017-09-08/hcp/sub-50005/MNINonLinear/fsaverage_LR32k/sub-50005.L.midthickness.32k_fs_LR.surf.gii 8 /tmp/tmpa5n59cro/sub-50005/seed1vertex.txt /tmp/tmpa5n59cro/sub-50005/roi1.L.shape.gii\n",
      "[ciftify.utils] INFO: Running: wb_command -cifti-roi-average /tmp/tmpa5n59cro/sub-50005/sub-50005_task-rest_bold_space-MNI152NLin2009cAsym_preproc.dtseries.nii /tmp/tmpa5n59cro/sub-50005/roi1.meants.txt -left-roi /tmp/tmpa5n59cro/sub-50005/roi1.L.shape.gii\n",
      "[ciftify.utils] INFO: Running: wb_command -cifti-create-dense-from-template /tmp/tmpa5n59cro/sub-50005/template.dscalar.nii /tmp/tmpa5n59cro/sub-50005/roi1.dscalar.nii -metric CORTEX_LEFT /tmp/tmpa5n59cro/sub-50005/roi1.L.shape.gii\n",
      "[ciftify.utils] INFO: Running: wb_command -cifti-palette /tmp/tmpa5n59cro/sub-50005/roi1.dscalar.nii MODE_AUTO_SCALE /tmp/tmpa5n59cro/sub-50005/roi1.dscalar.nii -palette-name power_surf\n",
      "[ciftify.utils] INFO: Running: wb_command -cifti-convert -from-nifti /tmp/tmpa5n59cro/sub-50005/seedcorr1.nii.gz /tmp/tmpa5n59cro/sub-50005/template.dscalar.nii /tmp/tmpa5n59cro/sub-50005/seedcorr1.dscalar.nii\n",
      "[ciftify.utils] INFO: Running: wb_command -cifti-palette /tmp/tmpa5n59cro/sub-50005/seedcorr1.dscalar.nii MODE_AUTO_SCALE /tmp/tmpa5n59cro/sub-50005/seedcorr1.dscalar.nii -palette-name PSYCH-NO-NONE\n",
      "[ciftify.utils] INFO: Running: wb_command -logging WARNING -show-scene /tmp/tmpa5n59cro/sub-50005/seedcorr_sub-50005_1.scene 1 /tmp/tmpa5n59cro/sub-50005/scene1.png 600 400\n",
      "[ciftify.utils] INFO: Running: convert /tmp/tmpa5n59cro/sub-50005/scene1.png -crop 100x50%+0+0 /tmp/tmpa5n59cro/sub-50005/top.png\n",
      "[ciftify.utils] INFO: Running: convert /tmp/tmpa5n59cro/sub-50005/scene1.png -crop 100x50%+0+200 /tmp/tmpa5n59cro/sub-50005/bottom.png\n",
      "[ciftify.utils] INFO: Running: montage -mode concatenate -tile 2x1 /tmp/tmpa5n59cro/sub-50005/top.png /tmp/tmpa5n59cro/sub-50005/bottom.png /home/edickie/Documents/ciftify_tests/run_2017-09-08/hcp/RSN_from_nii/sub-50005_sub-50005_task-rest_bold_space-MNI152NLin2009cAsym_preproc/L-superior-parietal_VolAx.png\n",
      "[ciftify.utils] INFO: Running: wb_command -logging WARNING -show-scene /tmp/tmpa5n59cro/sub-50005/seedcorr_sub-50005_1.scene 2 /tmp/tmpa5n59cro/sub-50005/scene2.png 600 400\n",
      "[ciftify.utils] INFO: Running: convert /tmp/tmpa5n59cro/sub-50005/scene2.png -crop 100x50%+0+0 /tmp/tmpa5n59cro/sub-50005/top.png\n",
      "[ciftify.utils] INFO: Running: convert /tmp/tmpa5n59cro/sub-50005/scene2.png -crop 100x50%+0+200 /tmp/tmpa5n59cro/sub-50005/bottom.png\n",
      "[ciftify.utils] INFO: Running: montage -mode concatenate -tile 2x1 /tmp/tmpa5n59cro/sub-50005/top.png /tmp/tmpa5n59cro/sub-50005/bottom.png /home/edickie/Documents/ciftify_tests/run_2017-09-08/hcp/RSN_from_nii/sub-50005_sub-50005_task-rest_bold_space-MNI152NLin2009cAsym_preproc/L-superior-parietal_VolSag.png\n",
      "[ciftify.utils] INFO: Running: wb_command -logging WARNING -show-scene /tmp/tmpa5n59cro/sub-50005/seedcorr_sub-50005_1.scene 3 /tmp/tmpa5n59cro/sub-50005/scene3.png 600 400\n",
      "[ciftify.utils] INFO: Running: convert /tmp/tmpa5n59cro/sub-50005/scene3.png -crop 100x50%+0+0 /tmp/tmpa5n59cro/sub-50005/top.png\n",
      "[ciftify.utils] INFO: Running: convert /tmp/tmpa5n59cro/sub-50005/scene3.png -crop 100x50%+0+200 /tmp/tmpa5n59cro/sub-50005/bottom.png\n",
      "[ciftify.utils] INFO: Running: montage -mode concatenate -tile 2x1 /tmp/tmpa5n59cro/sub-50005/top.png /tmp/tmpa5n59cro/sub-50005/bottom.png /home/edickie/Documents/ciftify_tests/run_2017-09-08/hcp/RSN_from_nii/sub-50005_sub-50005_task-rest_bold_space-MNI152NLin2009cAsym_preproc/L-superior-parietal_VolCor.png\n",
      "[ciftify.utils] INFO: Running: wb_command -logging WARNING -show-scene /tmp/tmpa5n59cro/sub-50005/seedcorr_sub-50005_1.scene 4 /tmp/tmpa5n59cro/sub-50005/scene4.png 600 400\n",
      "[ciftify.utils] INFO: Running: convert /tmp/tmpa5n59cro/sub-50005/scene4.png -crop 100x50%+0+0 /tmp/tmpa5n59cro/sub-50005/top.png\n",
      "[ciftify.utils] INFO: Running: convert /tmp/tmpa5n59cro/sub-50005/scene4.png -crop 100x50%+0+200 /tmp/tmpa5n59cro/sub-50005/bottom.png\n",
      "[ciftify.utils] INFO: Running: montage -mode concatenate -tile 2x1 /tmp/tmpa5n59cro/sub-50005/top.png /tmp/tmpa5n59cro/sub-50005/bottom.png /home/edickie/Documents/ciftify_tests/run_2017-09-08/hcp/RSN_from_nii/sub-50005_sub-50005_task-rest_bold_space-MNI152NLin2009cAsym_preproc/L-superior-parietal_LM.png\n",
      "[ciftify.utils] INFO: Running: wb_command -logging WARNING -show-scene /tmp/tmpa5n59cro/sub-50005/seedcorr_sub-50005_1.scene 5 /tmp/tmpa5n59cro/sub-50005/scene5.png 600 400\n",
      "[ciftify.utils] INFO: Running: convert /tmp/tmpa5n59cro/sub-50005/scene5.png -crop 100x50%+0+0 /tmp/tmpa5n59cro/sub-50005/top.png\n",
      "[ciftify.utils] INFO: Running: convert /tmp/tmpa5n59cro/sub-50005/scene5.png -crop 100x50%+0+200 /tmp/tmpa5n59cro/sub-50005/bottom.png\n",
      "[ciftify.utils] INFO: Running: montage -mode concatenate -tile 2x1 /tmp/tmpa5n59cro/sub-50005/top.png /tmp/tmpa5n59cro/sub-50005/bottom.png /home/edickie/Documents/ciftify_tests/run_2017-09-08/hcp/RSN_from_nii/sub-50005_sub-50005_task-rest_bold_space-MNI152NLin2009cAsym_preproc/L-superior-parietal_APDV.png\n",
      "[ciftify.utils] INFO: Running: wb_command -surface-geodesic-rois /home/edickie/Documents/ciftify_tests/run_2017-09-08/hcp/sub-50005/MNINonLinear/fsaverage_LR32k/sub-50005.L.midthickness.32k_fs_LR.surf.gii 8 /tmp/tmpa5n59cro/sub-50005/seed2vertex.txt /tmp/tmpa5n59cro/sub-50005/roi2.L.shape.gii\n",
      "[ciftify.utils] INFO: Running: wb_command -cifti-roi-average /tmp/tmpa5n59cro/sub-50005/sub-50005_task-rest_bold_space-MNI152NLin2009cAsym_preproc.dtseries.nii /tmp/tmpa5n59cro/sub-50005/roi2.meants.txt -left-roi /tmp/tmpa5n59cro/sub-50005/roi2.L.shape.gii\n",
      "[ciftify.utils] INFO: Running: wb_command -cifti-create-dense-from-template /tmp/tmpa5n59cro/sub-50005/template.dscalar.nii /tmp/tmpa5n59cro/sub-50005/roi2.dscalar.nii -metric CORTEX_LEFT /tmp/tmpa5n59cro/sub-50005/roi2.L.shape.gii\n",
      "[ciftify.utils] INFO: Running: wb_command -cifti-palette /tmp/tmpa5n59cro/sub-50005/roi2.dscalar.nii MODE_AUTO_SCALE /tmp/tmpa5n59cro/sub-50005/roi2.dscalar.nii -palette-name power_surf\n",
      "[ciftify.utils] INFO: Running: wb_command -cifti-convert -from-nifti /tmp/tmpa5n59cro/sub-50005/seedcorr2.nii.gz /tmp/tmpa5n59cro/sub-50005/template.dscalar.nii /tmp/tmpa5n59cro/sub-50005/seedcorr2.dscalar.nii\n",
      "[ciftify.utils] INFO: Running: wb_command -cifti-palette /tmp/tmpa5n59cro/sub-50005/seedcorr2.dscalar.nii MODE_AUTO_SCALE /tmp/tmpa5n59cro/sub-50005/seedcorr2.dscalar.nii -palette-name PSYCH-NO-NONE\n",
      "[ciftify.utils] INFO: Running: wb_command -logging WARNING -show-scene /tmp/tmpa5n59cro/sub-50005/seedcorr_sub-50005_2.scene 1 /tmp/tmpa5n59cro/sub-50005/scene1.png 600 400\n",
      "[ciftify.utils] INFO: Running: convert /tmp/tmpa5n59cro/sub-50005/scene1.png -crop 100x50%+0+0 /tmp/tmpa5n59cro/sub-50005/top.png\n",
      "[ciftify.utils] INFO: Running: convert /tmp/tmpa5n59cro/sub-50005/scene1.png -crop 100x50%+0+200 /tmp/tmpa5n59cro/sub-50005/bottom.png\n",
      "[ciftify.utils] INFO: Running: montage -mode concatenate -tile 2x1 /tmp/tmpa5n59cro/sub-50005/top.png /tmp/tmpa5n59cro/sub-50005/bottom.png /home/edickie/Documents/ciftify_tests/run_2017-09-08/hcp/RSN_from_nii/sub-50005_sub-50005_task-rest_bold_space-MNI152NLin2009cAsym_preproc/L-anterior-insula_VolAx.png\n",
      "[ciftify.utils] INFO: Running: wb_command -logging WARNING -show-scene /tmp/tmpa5n59cro/sub-50005/seedcorr_sub-50005_2.scene 2 /tmp/tmpa5n59cro/sub-50005/scene2.png 600 400\n",
      "[ciftify.utils] INFO: Running: convert /tmp/tmpa5n59cro/sub-50005/scene2.png -crop 100x50%+0+0 /tmp/tmpa5n59cro/sub-50005/top.png\n",
      "[ciftify.utils] INFO: Running: convert /tmp/tmpa5n59cro/sub-50005/scene2.png -crop 100x50%+0+200 /tmp/tmpa5n59cro/sub-50005/bottom.png\n",
      "[ciftify.utils] INFO: Running: montage -mode concatenate -tile 2x1 /tmp/tmpa5n59cro/sub-50005/top.png /tmp/tmpa5n59cro/sub-50005/bottom.png /home/edickie/Documents/ciftify_tests/run_2017-09-08/hcp/RSN_from_nii/sub-50005_sub-50005_task-rest_bold_space-MNI152NLin2009cAsym_preproc/L-anterior-insula_VolSag.png\n",
      "[ciftify.utils] INFO: Running: wb_command -logging WARNING -show-scene /tmp/tmpa5n59cro/sub-50005/seedcorr_sub-50005_2.scene 3 /tmp/tmpa5n59cro/sub-50005/scene3.png 600 400\n",
      "[ciftify.utils] INFO: Running: convert /tmp/tmpa5n59cro/sub-50005/scene3.png -crop 100x50%+0+0 /tmp/tmpa5n59cro/sub-50005/top.png\n",
      "[ciftify.utils] INFO: Running: convert /tmp/tmpa5n59cro/sub-50005/scene3.png -crop 100x50%+0+200 /tmp/tmpa5n59cro/sub-50005/bottom.png\n",
      "[ciftify.utils] INFO: Running: montage -mode concatenate -tile 2x1 /tmp/tmpa5n59cro/sub-50005/top.png /tmp/tmpa5n59cro/sub-50005/bottom.png /home/edickie/Documents/ciftify_tests/run_2017-09-08/hcp/RSN_from_nii/sub-50005_sub-50005_task-rest_bold_space-MNI152NLin2009cAsym_preproc/L-anterior-insula_VolCor.png\n",
      "[ciftify.utils] INFO: Running: wb_command -logging WARNING -show-scene /tmp/tmpa5n59cro/sub-50005/seedcorr_sub-50005_2.scene 4 /tmp/tmpa5n59cro/sub-50005/scene4.png 600 400\n",
      "[ciftify.utils] INFO: Running: convert /tmp/tmpa5n59cro/sub-50005/scene4.png -crop 100x50%+0+0 /tmp/tmpa5n59cro/sub-50005/top.png\n",
      "[ciftify.utils] INFO: Running: convert /tmp/tmpa5n59cro/sub-50005/scene4.png -crop 100x50%+0+200 /tmp/tmpa5n59cro/sub-50005/bottom.png\n",
      "[ciftify.utils] INFO: Running: montage -mode concatenate -tile 2x1 /tmp/tmpa5n59cro/sub-50005/top.png /tmp/tmpa5n59cro/sub-50005/bottom.png /home/edickie/Documents/ciftify_tests/run_2017-09-08/hcp/RSN_from_nii/sub-50005_sub-50005_task-rest_bold_space-MNI152NLin2009cAsym_preproc/L-anterior-insula_LM.png\n",
      "[ciftify.utils] INFO: Running: wb_command -logging WARNING -show-scene /tmp/tmpa5n59cro/sub-50005/seedcorr_sub-50005_2.scene 5 /tmp/tmpa5n59cro/sub-50005/scene5.png 600 400\n",
      "[ciftify.utils] INFO: Running: convert /tmp/tmpa5n59cro/sub-50005/scene5.png -crop 100x50%+0+0 /tmp/tmpa5n59cro/sub-50005/top.png\n",
      "[ciftify.utils] INFO: Running: convert /tmp/tmpa5n59cro/sub-50005/scene5.png -crop 100x50%+0+200 /tmp/tmpa5n59cro/sub-50005/bottom.png\n",
      "[ciftify.utils] INFO: Running: montage -mode concatenate -tile 2x1 /tmp/tmpa5n59cro/sub-50005/top.png /tmp/tmpa5n59cro/sub-50005/bottom.png /home/edickie/Documents/ciftify_tests/run_2017-09-08/hcp/RSN_from_nii/sub-50005_sub-50005_task-rest_bold_space-MNI152NLin2009cAsym_preproc/L-anterior-insula_APDV.png\n",
      "[ciftify.utils] INFO: Running: wb_command -surface-geodesic-rois /home/edickie/Documents/ciftify_tests/run_2017-09-08/hcp/sub-50005/MNINonLinear/fsaverage_LR32k/sub-50005.R.midthickness.32k_fs_LR.surf.gii 8 /tmp/tmpa5n59cro/sub-50005/seed3vertex.txt /tmp/tmpa5n59cro/sub-50005/roi3.R.shape.gii\n",
      "[ciftify.utils] INFO: Running: wb_command -cifti-roi-average /tmp/tmpa5n59cro/sub-50005/sub-50005_task-rest_bold_space-MNI152NLin2009cAsym_preproc.dtseries.nii /tmp/tmpa5n59cro/sub-50005/roi3.meants.txt -right-roi /tmp/tmpa5n59cro/sub-50005/roi3.R.shape.gii\n",
      "[ciftify.utils] INFO: Running: wb_command -cifti-create-dense-from-template /tmp/tmpa5n59cro/sub-50005/template.dscalar.nii /tmp/tmpa5n59cro/sub-50005/roi3.dscalar.nii -metric CORTEX_RIGHT /tmp/tmpa5n59cro/sub-50005/roi3.R.shape.gii\n",
      "[ciftify.utils] INFO: Running: wb_command -cifti-palette /tmp/tmpa5n59cro/sub-50005/roi3.dscalar.nii MODE_AUTO_SCALE /tmp/tmpa5n59cro/sub-50005/roi3.dscalar.nii -palette-name power_surf\n",
      "[ciftify.utils] INFO: Running: wb_command -cifti-convert -from-nifti /tmp/tmpa5n59cro/sub-50005/seedcorr3.nii.gz /tmp/tmpa5n59cro/sub-50005/template.dscalar.nii /tmp/tmpa5n59cro/sub-50005/seedcorr3.dscalar.nii\n",
      "[ciftify.utils] INFO: Running: wb_command -cifti-palette /tmp/tmpa5n59cro/sub-50005/seedcorr3.dscalar.nii MODE_AUTO_SCALE /tmp/tmpa5n59cro/sub-50005/seedcorr3.dscalar.nii -palette-name PSYCH-NO-NONE\n",
      "[ciftify.utils] INFO: Running: wb_command -logging WARNING -show-scene /tmp/tmpa5n59cro/sub-50005/seedcorr_sub-50005_3.scene 1 /tmp/tmpa5n59cro/sub-50005/scene1.png 600 400\n",
      "[ciftify.utils] INFO: Running: convert /tmp/tmpa5n59cro/sub-50005/scene1.png -crop 100x50%+0+0 /tmp/tmpa5n59cro/sub-50005/top.png\n",
      "[ciftify.utils] INFO: Running: convert /tmp/tmpa5n59cro/sub-50005/scene1.png -crop 100x50%+0+200 /tmp/tmpa5n59cro/sub-50005/bottom.png\n",
      "[ciftify.utils] INFO: Running: montage -mode concatenate -tile 2x1 /tmp/tmpa5n59cro/sub-50005/top.png /tmp/tmpa5n59cro/sub-50005/bottom.png /home/edickie/Documents/ciftify_tests/run_2017-09-08/hcp/RSN_from_nii/sub-50005_sub-50005_task-rest_bold_space-MNI152NLin2009cAsym_preproc/R-mpfc_VolAx.png\n",
      "[ciftify.utils] INFO: Running: wb_command -logging WARNING -show-scene /tmp/tmpa5n59cro/sub-50005/seedcorr_sub-50005_3.scene 2 /tmp/tmpa5n59cro/sub-50005/scene2.png 600 400\n",
      "[ciftify.utils] INFO: Running: convert /tmp/tmpa5n59cro/sub-50005/scene2.png -crop 100x50%+0+0 /tmp/tmpa5n59cro/sub-50005/top.png\n",
      "[ciftify.utils] INFO: Running: convert /tmp/tmpa5n59cro/sub-50005/scene2.png -crop 100x50%+0+200 /tmp/tmpa5n59cro/sub-50005/bottom.png\n",
      "[ciftify.utils] INFO: Running: montage -mode concatenate -tile 2x1 /tmp/tmpa5n59cro/sub-50005/top.png /tmp/tmpa5n59cro/sub-50005/bottom.png /home/edickie/Documents/ciftify_tests/run_2017-09-08/hcp/RSN_from_nii/sub-50005_sub-50005_task-rest_bold_space-MNI152NLin2009cAsym_preproc/R-mpfc_VolSag.png\n",
      "[ciftify.utils] INFO: Running: wb_command -logging WARNING -show-scene /tmp/tmpa5n59cro/sub-50005/seedcorr_sub-50005_3.scene 3 /tmp/tmpa5n59cro/sub-50005/scene3.png 600 400\n",
      "[ciftify.utils] INFO: Running: convert /tmp/tmpa5n59cro/sub-50005/scene3.png -crop 100x50%+0+0 /tmp/tmpa5n59cro/sub-50005/top.png\n",
      "[ciftify.utils] INFO: Running: convert /tmp/tmpa5n59cro/sub-50005/scene3.png -crop 100x50%+0+200 /tmp/tmpa5n59cro/sub-50005/bottom.png\n",
      "[ciftify.utils] INFO: Running: montage -mode concatenate -tile 2x1 /tmp/tmpa5n59cro/sub-50005/top.png /tmp/tmpa5n59cro/sub-50005/bottom.png /home/edickie/Documents/ciftify_tests/run_2017-09-08/hcp/RSN_from_nii/sub-50005_sub-50005_task-rest_bold_space-MNI152NLin2009cAsym_preproc/R-mpfc_VolCor.png\n",
      "[ciftify.utils] INFO: Running: wb_command -logging WARNING -show-scene /tmp/tmpa5n59cro/sub-50005/seedcorr_sub-50005_3.scene 4 /tmp/tmpa5n59cro/sub-50005/scene4.png 600 400\n",
      "[ciftify.utils] INFO: Running: convert /tmp/tmpa5n59cro/sub-50005/scene4.png -crop 100x50%+0+0 /tmp/tmpa5n59cro/sub-50005/top.png\n",
      "[ciftify.utils] INFO: Running: convert /tmp/tmpa5n59cro/sub-50005/scene4.png -crop 100x50%+0+200 /tmp/tmpa5n59cro/sub-50005/bottom.png\n",
      "[ciftify.utils] INFO: Running: montage -mode concatenate -tile 2x1 /tmp/tmpa5n59cro/sub-50005/top.png /tmp/tmpa5n59cro/sub-50005/bottom.png /home/edickie/Documents/ciftify_tests/run_2017-09-08/hcp/RSN_from_nii/sub-50005_sub-50005_task-rest_bold_space-MNI152NLin2009cAsym_preproc/R-mpfc_LM.png\n",
      "[ciftify.utils] INFO: Running: wb_command -logging WARNING -show-scene /tmp/tmpa5n59cro/sub-50005/seedcorr_sub-50005_3.scene 5 /tmp/tmpa5n59cro/sub-50005/scene5.png 600 400\n",
      "[ciftify.utils] INFO: Running: convert /tmp/tmpa5n59cro/sub-50005/scene5.png -crop 100x50%+0+0 /tmp/tmpa5n59cro/sub-50005/top.png\n",
      "[ciftify.utils] INFO: Running: convert /tmp/tmpa5n59cro/sub-50005/scene5.png -crop 100x50%+0+200 /tmp/tmpa5n59cro/sub-50005/bottom.png\n",
      "[ciftify.utils] INFO: Running: montage -mode concatenate -tile 2x1 /tmp/tmpa5n59cro/sub-50005/top.png /tmp/tmpa5n59cro/sub-50005/bottom.png /home/edickie/Documents/ciftify_tests/run_2017-09-08/hcp/RSN_from_nii/sub-50005_sub-50005_task-rest_bold_space-MNI152NLin2009cAsym_preproc/R-mpfc_APDV.png\n",
      "\n"
     ]
    },
    {
     "name": "stderr",
     "output_type": "stream",
     "text": [
      "Running: cifti_vis_RSN nifti-snaps --hcp-data-dir /home/edickie/Documents/ciftify_tests/run_2017-09-08/hcp --qcdir /home/edickie/Documents/ciftify_tests/run_2017-09-08/hcp/RSN_from_nii /home/edickie/Documents/ciftify_tests/src_data/ds000030_R1.0.4/derivatives/fmriprep/sub-50007/func/sub-50007_task-rest_bold_space-MNI152NLin2009cAsym_preproc.nii.gz sub-50007\n",
      "Running: cifti_vis_RSN nifti-snaps --hcp-data-dir /home/edickie/Documents/ciftify_tests/run_2017-09-08/hcp --qcdir /home/edickie/Documents/ciftify_tests/run_2017-09-08/hcp/RSN_from_nii /home/edickie/Documents/ciftify_tests/src_data/ds000030_R1.0.4/derivatives/fmriprep/sub-50007/func/sub-50007_task-rest_bold_space-MNI152NLin2009cAsym_preproc.nii.gz sub-50007\n",
      "Running: cifti_vis_RSN index --qcdir /home/edickie/Documents/ciftify_tests/run_2017-09-08/hcp/RSN_from_nii --hcp-data-dir /home/edickie/Documents/ciftify_tests/run_2017-09-08/hcp\n",
      "Running: cifti_vis_RSN index --qcdir /home/edickie/Documents/ciftify_tests/run_2017-09-08/hcp/RSN_from_nii --hcp-data-dir /home/edickie/Documents/ciftify_tests/run_2017-09-08/hcp\n"
     ]
    },
    {
     "data": {
      "text/plain": [
       "0"
      ]
     },
     "execution_count": 75,
     "metadata": {},
     "output_type": "execute_result"
    }
   ],
   "source": [
    "run(['cifti_vis_RSN', 'nifti-snaps', '--debug', \n",
    "         '--hcp-data-dir',hcp_data_dir, \n",
    "         '--qcdir', os.path.join(hcp_data_dir, 'RSN_from_nii'),\n",
    "         '--colour-palette', 'PSYCH-NO-NONE',\n",
    "     \n",
    "        os.path.join(src_data_dir,'ds000030_R1.0.4','derivatives',\n",
    "                 'fmriprep', subids[0],'func',\n",
    "                 '{}_task-rest_bold_space-MNI152NLin2009cAsym_preproc.nii.gz'.format(subids[0])),\n",
    "        subids[0]])\n",
    "\n",
    "run(['cifti_vis_RSN', 'nifti-snaps',  \n",
    "         '--hcp-data-dir',hcp_data_dir, \n",
    "         '--qcdir', os.path.join(hcp_data_dir, 'RSN_from_nii'),\n",
    "        os.path.join(src_data_dir,'ds000030_R1.0.4','derivatives',\n",
    "                 'fmriprep', subids[1],'func',\n",
    "                 '{}_task-rest_bold_space-MNI152NLin2009cAsym_preproc.nii.gz'.format(subids[1])),\n",
    "        subids[1]])\n",
    "    \n",
    "run(['cifti_vis_RSN', 'index', \n",
    "     '--qcdir', os.path.join(hcp_data_dir, 'RSN_from_nii'),\n",
    "     '--hcp-data-dir', hcp_data_dir])"
   ]
  },
  {
   "cell_type": "code",
   "execution_count": 76,
   "metadata": {},
   "outputs": [
    {
     "name": "stderr",
     "output_type": "stream",
     "text": [
      "Running: ciftify_groupmask /home/edickie/Documents/ciftify_tests/run_2017-09-08/hcp/groupmask.dscalar.nii /home/edickie/Documents/ciftify_tests/run_2017-09-08/hcp/sub-50007/MNINonLinear/Results/rest_test_dof30/rest_test_dof30_Atlas_s0.dtseries.nii /home/edickie/Documents/ciftify_tests/run_2017-09-08/hcp/sub-50007/MNINonLinear/Results/rest_test_dof30/rest_test_dof30_Atlas_s8.dtseries.nii /home/edickie/Documents/ciftify_tests/run_2017-09-08/hcp/sub-50007/MNINonLinear/Results/rest_bad_transform/rest_bad_transform_Atlas_s8.dtseries.nii /home/edickie/Documents/ciftify_tests/run_2017-09-08/hcp/sub-50007/MNINonLinear/Results/rest_bad_transform/rest_bad_transform_Atlas_s0.dtseries.nii /home/edickie/Documents/ciftify_tests/run_2017-09-08/hcp/sub-50005/MNINonLinear/Results/rest_test2/rest_test2_Atlas_s0.dtseries.nii /home/edickie/Documents/ciftify_tests/run_2017-09-08/hcp/sub-50005/MNINonLinear/Results/rest_test1/rest_test1_Atlas_s0.dtseries.nii /home/edickie/Documents/ciftify_tests/run_2017-09-08/hcp/sub-50005/MNINonLinear/Results/rest_test1/rest_test1_Atlas_s12.dtseries.nii\n",
      "Running: ciftify_groupmask /home/edickie/Documents/ciftify_tests/run_2017-09-08/hcp/groupmask.dscalar.nii /home/edickie/Documents/ciftify_tests/run_2017-09-08/hcp/sub-50007/MNINonLinear/Results/rest_test_dof30/rest_test_dof30_Atlas_s0.dtseries.nii /home/edickie/Documents/ciftify_tests/run_2017-09-08/hcp/sub-50007/MNINonLinear/Results/rest_test_dof30/rest_test_dof30_Atlas_s8.dtseries.nii /home/edickie/Documents/ciftify_tests/run_2017-09-08/hcp/sub-50007/MNINonLinear/Results/rest_bad_transform/rest_bad_transform_Atlas_s8.dtseries.nii /home/edickie/Documents/ciftify_tests/run_2017-09-08/hcp/sub-50007/MNINonLinear/Results/rest_bad_transform/rest_bad_transform_Atlas_s0.dtseries.nii /home/edickie/Documents/ciftify_tests/run_2017-09-08/hcp/sub-50005/MNINonLinear/Results/rest_test2/rest_test2_Atlas_s0.dtseries.nii /home/edickie/Documents/ciftify_tests/run_2017-09-08/hcp/sub-50005/MNINonLinear/Results/rest_test1/rest_test1_Atlas_s0.dtseries.nii /home/edickie/Documents/ciftify_tests/run_2017-09-08/hcp/sub-50005/MNINonLinear/Results/rest_test1/rest_test1_Atlas_s12.dtseries.nii\n"
     ]
    },
    {
     "data": {
      "text/plain": [
       "0"
      ]
     },
     "execution_count": 76,
     "metadata": {},
     "output_type": "execute_result"
    }
   ],
   "source": [
    "groupmask_cmd = ['ciftify_groupmask', os.path.join(hcp_data_dir, 'groupmask.dscalar.nii')]\n",
    "groupmask_cmd.extend(dtseries_files)\n",
    "\n",
    "run(groupmask_cmd)     "
   ]
  },
  {
   "cell_type": "markdown",
   "metadata": {
    "collapsed": true
   },
   "source": [
    "# Running PINT and related functions"
   ]
  },
  {
   "cell_type": "code",
   "execution_count": 58,
   "metadata": {},
   "outputs": [
    {
     "name": "stderr",
     "output_type": "stream",
     "text": [
      "Running: mkdir -p /home/edickie/Documents/ciftify_tests/run_2017-09-08/PINT/sub-50005\n",
      "Running: mkdir -p /home/edickie/Documents/ciftify_tests/run_2017-09-08/PINT/sub-50005\n",
      "Running: ciftify_PINT_vertices --pcorr /home/edickie/Documents/ciftify_tests/run_2017-09-08/hcp/sub-50005/MNINonLinear/Results/rest_test1/rest_test1_Atlas_s12.dtseries.nii /home/edickie/Documents/ciftify_tests/run_2017-09-08/hcp/sub-50005/MNINonLinear/fsaverage_LR32k/sub-50005.L.midthickness.32k_fs_LR.surf.gii /home/edickie/Documents/ciftify_tests/run_2017-09-08/hcp/sub-50005/MNINonLinear/fsaverage_LR32k/sub-50005.R.midthickness.32k_fs_LR.surf.gii /home/edickie/code/ciftify/ciftify/data/PINT/Yeo7_2011_80verts.csv /home/edickie/Documents/ciftify_tests/run_2017-09-08/PINT/sub-50005/sub-50005\n",
      "Running: ciftify_PINT_vertices --pcorr /home/edickie/Documents/ciftify_tests/run_2017-09-08/hcp/sub-50005/MNINonLinear/Results/rest_test1/rest_test1_Atlas_s12.dtseries.nii /home/edickie/Documents/ciftify_tests/run_2017-09-08/hcp/sub-50005/MNINonLinear/fsaverage_LR32k/sub-50005.L.midthickness.32k_fs_LR.surf.gii /home/edickie/Documents/ciftify_tests/run_2017-09-08/hcp/sub-50005/MNINonLinear/fsaverage_LR32k/sub-50005.R.midthickness.32k_fs_LR.surf.gii /home/edickie/code/ciftify/ciftify/data/PINT/Yeo7_2011_80verts.csv /home/edickie/Documents/ciftify_tests/run_2017-09-08/PINT/sub-50005/sub-50005\n"
     ]
    },
    {
     "data": {
      "text/plain": [
       "0"
      ]
     },
     "execution_count": 58,
     "metadata": {},
     "output_type": "execute_result"
    }
   ],
   "source": [
    "subid = subids[0]\n",
    "run(['mkdir', '-p', os.path.join(new_outputs, 'PINT', subid)])\n",
    "\n",
    "run(['ciftify_PINT_vertices', '--pcorr', \n",
    "     os.path.join(hcp_data_dir, subid,'MNINonLinear', 'Results',\n",
    "                  'rest_test1', 'rest_test1_Atlas_s12.dtseries.nii'),\n",
    "     os.path.join(hcp_data_dir, subid,'MNINonLinear','fsaverage_LR32k',\n",
    "                  '{}.L.midthickness.32k_fs_LR.surf.gii'.format(subid)),\n",
    "     os.path.join(hcp_data_dir, subid,'MNINonLinear','fsaverage_LR32k',\n",
    "                  '{}.R.midthickness.32k_fs_LR.surf.gii'.format(subid)),\n",
    "     os.path.join(ciftify.config.find_ciftify_global(), 'PINT', 'Yeo7_2011_80verts.csv'),\n",
    "     os.path.join(new_outputs, 'PINT', subid, subid)])\n"
   ]
  },
  {
   "cell_type": "code",
   "execution_count": 59,
   "metadata": {},
   "outputs": [
    {
     "name": "stderr",
     "output_type": "stream",
     "text": [
      "Running: cifti_vis_PINT snaps --hcp-data-dir /home/edickie/Documents/ciftify_tests/run_2017-09-08/hcp /home/edickie/Documents/ciftify_tests/run_2017-09-08/hcp/sub-50005/MNINonLinear/Results/rest_test1/rest_test1_Atlas_s12.dtseries.nii sub-50005 /home/edickie/Documents/ciftify_tests/run_2017-09-08/PINT/sub-50005/sub-50005_summary.csv\n",
      "Running: cifti_vis_PINT snaps --hcp-data-dir /home/edickie/Documents/ciftify_tests/run_2017-09-08/hcp /home/edickie/Documents/ciftify_tests/run_2017-09-08/hcp/sub-50005/MNINonLinear/Results/rest_test1/rest_test1_Atlas_s12.dtseries.nii sub-50005 /home/edickie/Documents/ciftify_tests/run_2017-09-08/PINT/sub-50005/sub-50005_summary.csv\n"
     ]
    },
    {
     "data": {
      "text/plain": [
       "0"
      ]
     },
     "execution_count": 59,
     "metadata": {},
     "output_type": "execute_result"
    }
   ],
   "source": [
    "subid = subids[0]\n",
    "run(['cifti_vis_PINT', 'snaps', '--hcp-data-dir',  hcp_data_dir,\n",
    "     os.path.join(hcp_data_dir, subid,'MNINonLinear', 'Results',\n",
    "                  'rest_test1', 'rest_test1_Atlas_s12.dtseries.nii'),\n",
    "     subid,\n",
    "     os.path.join(new_outputs, 'PINT', subid, '{}_summary.csv'.format(subid))])"
   ]
  },
  {
   "cell_type": "code",
   "execution_count": 60,
   "metadata": {},
   "outputs": [
    {
     "name": "stderr",
     "output_type": "stream",
     "text": [
      "Running: mkdir -p /home/edickie/Documents/ciftify_tests/run_2017-09-08/PINT/sub-50007\n",
      "Running: mkdir -p /home/edickie/Documents/ciftify_tests/run_2017-09-08/PINT/sub-50007\n",
      "Running: ciftify_PINT_vertices /home/edickie/Documents/ciftify_tests/run_2017-09-08/hcp/sub-50007/MNINonLinear/Results/rest_test_dof30/rest_test_dof30_Atlas_s8.dtseries.nii /home/edickie/Documents/ciftify_tests/run_2017-09-08/hcp/sub-50007/MNINonLinear/fsaverage_LR32k/sub-50007.L.midthickness.32k_fs_LR.surf.gii /home/edickie/Documents/ciftify_tests/run_2017-09-08/hcp/sub-50007/MNINonLinear/fsaverage_LR32k/sub-50007.R.midthickness.32k_fs_LR.surf.gii /home/edickie/code/ciftify/ciftify/data/PINT/Yeo7_2011_80verts.csv /home/edickie/Documents/ciftify_tests/run_2017-09-08/PINT/sub-50007/sub-50007\n",
      "Running: ciftify_PINT_vertices /home/edickie/Documents/ciftify_tests/run_2017-09-08/hcp/sub-50007/MNINonLinear/Results/rest_test_dof30/rest_test_dof30_Atlas_s8.dtseries.nii /home/edickie/Documents/ciftify_tests/run_2017-09-08/hcp/sub-50007/MNINonLinear/fsaverage_LR32k/sub-50007.L.midthickness.32k_fs_LR.surf.gii /home/edickie/Documents/ciftify_tests/run_2017-09-08/hcp/sub-50007/MNINonLinear/fsaverage_LR32k/sub-50007.R.midthickness.32k_fs_LR.surf.gii /home/edickie/code/ciftify/ciftify/data/PINT/Yeo7_2011_80verts.csv /home/edickie/Documents/ciftify_tests/run_2017-09-08/PINT/sub-50007/sub-50007\n"
     ]
    },
    {
     "data": {
      "text/plain": [
       "0"
      ]
     },
     "execution_count": 60,
     "metadata": {},
     "output_type": "execute_result"
    }
   ],
   "source": [
    "subid = subids[1]\n",
    "run(['mkdir', '-p', os.path.join(new_outputs, 'PINT', subid)])\n",
    "\n",
    "run(['ciftify_PINT_vertices',\n",
    "     os.path.join(hcp_data_dir, subid,'MNINonLinear', 'Results',\n",
    "                  'rest_test_dof30', 'rest_test_dof30_Atlas_s8.dtseries.nii'),\n",
    "     os.path.join(hcp_data_dir, subid,'MNINonLinear','fsaverage_LR32k',\n",
    "                  '{}.L.midthickness.32k_fs_LR.surf.gii'.format(subid)),\n",
    "     os.path.join(hcp_data_dir, subid,'MNINonLinear','fsaverage_LR32k',\n",
    "                  '{}.R.midthickness.32k_fs_LR.surf.gii'.format(subid)),\n",
    "     os.path.join(ciftify.config.find_ciftify_global(), 'PINT', 'Yeo7_2011_80verts.csv'),\n",
    "     os.path.join(new_outputs, 'PINT', subid, subid)])"
   ]
  },
  {
   "cell_type": "code",
   "execution_count": 61,
   "metadata": {},
   "outputs": [
    {
     "name": "stderr",
     "output_type": "stream",
     "text": [
      "Running: cifti_vis_PINT snaps --hcp-data-dir /home/edickie/Documents/ciftify_tests/run_2017-09-08/hcp /home/edickie/Documents/ciftify_tests/run_2017-09-08/hcp/sub-50007/MNINonLinear/Results/rest_test_dof30/rest_test_dof30_Atlas_s8.dtseries.nii sub-50007 /home/edickie/Documents/ciftify_tests/run_2017-09-08/PINT/sub-50007/sub-50007_summary.csv\n",
      "Running: cifti_vis_PINT snaps --hcp-data-dir /home/edickie/Documents/ciftify_tests/run_2017-09-08/hcp /home/edickie/Documents/ciftify_tests/run_2017-09-08/hcp/sub-50007/MNINonLinear/Results/rest_test_dof30/rest_test_dof30_Atlas_s8.dtseries.nii sub-50007 /home/edickie/Documents/ciftify_tests/run_2017-09-08/PINT/sub-50007/sub-50007_summary.csv\n"
     ]
    },
    {
     "data": {
      "text/plain": [
       "0"
      ]
     },
     "execution_count": 61,
     "metadata": {},
     "output_type": "execute_result"
    }
   ],
   "source": [
    "run(['cifti_vis_PINT', 'snaps', '--hcp-data-dir',  hcp_data_dir,\n",
    "     os.path.join(hcp_data_dir, subid,'MNINonLinear', 'Results',\n",
    "                  'rest_test_dof30', 'rest_test_dof30_Atlas_s8.dtseries.nii'),\n",
    "     subid,\n",
    "     os.path.join(new_outputs, 'PINT', subid, '{}_summary.csv'.format(subid))])"
   ]
  },
  {
   "cell_type": "code",
   "execution_count": 62,
   "metadata": {},
   "outputs": [
    {
     "name": "stderr",
     "output_type": "stream",
     "text": [
      "Running: mkdir -p /home/edickie/Documents/ciftify_tests/run_2017-09-08/PINT/sub-50007\n",
      "Running: mkdir -p /home/edickie/Documents/ciftify_tests/run_2017-09-08/PINT/sub-50007\n",
      "Running: ciftify_PINT_vertices --outputall /home/edickie/Documents/ciftify_tests/run_2017-09-08/hcp/sub-50007/MNINonLinear/Results/rest_test_dof30/rest_test_dof30_Atlas_s8.dtseries.nii /home/edickie/Documents/ciftify_tests/run_2017-09-08/hcp/sub-50007/MNINonLinear/fsaverage_LR32k/sub-50007.L.midthickness.32k_fs_LR.surf.gii /home/edickie/Documents/ciftify_tests/run_2017-09-08/hcp/sub-50007/MNINonLinear/fsaverage_LR32k/sub-50007.R.midthickness.32k_fs_LR.surf.gii /home/edickie/code/ciftify/ciftify/data/PINT/Yeo7_2011_80verts.csv /home/edickie/Documents/ciftify_tests/run_2017-09-08/PINT/sub-50007/sub-50007_all\n",
      "Running: ciftify_PINT_vertices --outputall /home/edickie/Documents/ciftify_tests/run_2017-09-08/hcp/sub-50007/MNINonLinear/Results/rest_test_dof30/rest_test_dof30_Atlas_s8.dtseries.nii /home/edickie/Documents/ciftify_tests/run_2017-09-08/hcp/sub-50007/MNINonLinear/fsaverage_LR32k/sub-50007.L.midthickness.32k_fs_LR.surf.gii /home/edickie/Documents/ciftify_tests/run_2017-09-08/hcp/sub-50007/MNINonLinear/fsaverage_LR32k/sub-50007.R.midthickness.32k_fs_LR.surf.gii /home/edickie/code/ciftify/ciftify/data/PINT/Yeo7_2011_80verts.csv /home/edickie/Documents/ciftify_tests/run_2017-09-08/PINT/sub-50007/sub-50007_all\n"
     ]
    },
    {
     "data": {
      "text/plain": [
       "0"
      ]
     },
     "execution_count": 62,
     "metadata": {},
     "output_type": "execute_result"
    }
   ],
   "source": [
    "subid = subids[1]\n",
    "run(['mkdir', '-p', os.path.join(new_outputs, 'PINT', subid)])\n",
    "\n",
    "run(['ciftify_PINT_vertices', '--outputall',\n",
    "     os.path.join(hcp_data_dir, subid,'MNINonLinear', 'Results',\n",
    "                  'rest_test_dof30', 'rest_test_dof30_Atlas_s8.dtseries.nii'),\n",
    "     os.path.join(hcp_data_dir, subid,'MNINonLinear','fsaverage_LR32k',\n",
    "                  '{}.L.midthickness.32k_fs_LR.surf.gii'.format(subid)),\n",
    "     os.path.join(hcp_data_dir, subid,'MNINonLinear','fsaverage_LR32k',\n",
    "                  '{}.R.midthickness.32k_fs_LR.surf.gii'.format(subid)),\n",
    "     os.path.join(ciftify.config.find_ciftify_global(), 'PINT', 'Yeo7_2011_80verts.csv'),\n",
    "     os.path.join(new_outputs, 'PINT', subid, '{}_all'.format(subid))])"
   ]
  },
  {
   "cell_type": "code",
   "execution_count": 63,
   "metadata": {},
   "outputs": [
    {
     "name": "stderr",
     "output_type": "stream",
     "text": [
      "Running: cifti_vis_PINT snaps --hcp-data-dir /home/edickie/Documents/ciftify_tests/run_2017-09-08/hcp /home/edickie/Documents/ciftify_tests/run_2017-09-08/hcp/sub-50007/MNINonLinear/Results/rest_test_dof30/rest_test_dof30_Atlas_s8.dtseries.nii sub-50007 /home/edickie/Documents/ciftify_tests/run_2017-09-08/PINT/sub-50007/sub-50007_all_summary.csv\n",
      "Running: cifti_vis_PINT snaps --hcp-data-dir /home/edickie/Documents/ciftify_tests/run_2017-09-08/hcp /home/edickie/Documents/ciftify_tests/run_2017-09-08/hcp/sub-50007/MNINonLinear/Results/rest_test_dof30/rest_test_dof30_Atlas_s8.dtseries.nii sub-50007 /home/edickie/Documents/ciftify_tests/run_2017-09-08/PINT/sub-50007/sub-50007_all_summary.csv\n"
     ]
    },
    {
     "data": {
      "text/plain": [
       "0"
      ]
     },
     "execution_count": 63,
     "metadata": {},
     "output_type": "execute_result"
    }
   ],
   "source": [
    "run(['cifti_vis_PINT', 'snaps', '--hcp-data-dir',  hcp_data_dir,\n",
    "     os.path.join(hcp_data_dir, subid,'MNINonLinear', 'Results',\n",
    "                  'rest_test_dof30', 'rest_test_dof30_Atlas_s8.dtseries.nii'),\n",
    "     subid,\n",
    "     os.path.join(new_outputs, 'PINT', subid, '{}_all_summary.csv'.format(subid))])"
   ]
  },
  {
   "cell_type": "code",
   "execution_count": 64,
   "metadata": {},
   "outputs": [
    {
     "name": "stderr",
     "output_type": "stream",
     "text": [
      "Running: cifti_vis_PINT index --hcp-data-dir /home/edickie/Documents/ciftify_tests/run_2017-09-08/hcp\n",
      "Running: cifti_vis_PINT index --hcp-data-dir /home/edickie/Documents/ciftify_tests/run_2017-09-08/hcp\n"
     ]
    },
    {
     "data": {
      "text/plain": [
       "0"
      ]
     },
     "execution_count": 64,
     "metadata": {},
     "output_type": "execute_result"
    }
   ],
   "source": [
    "run(['cifti_vis_PINT', 'index', '--hcp-data-dir',  hcp_data_dir])"
   ]
  },
  {
   "cell_type": "code",
   "execution_count": 65,
   "metadata": {},
   "outputs": [
    {
     "name": "stderr",
     "output_type": "stream",
     "text": [
      "Running: ciftify_postPINT1_concat.py /home/edickie/Documents/ciftify_tests/run_2017-09-08/PINT/concatenated.csv /home/edickie/Documents/ciftify_tests/run_2017-09-08/PINT/sub-50007/sub-50007_summary.csv /home/edickie/Documents/ciftify_tests/run_2017-09-08/PINT/sub-50007/sub-50007_all_summary.csv /home/edickie/Documents/ciftify_tests/run_2017-09-08/PINT/sub-50005/sub-50005_summary.csv\n",
      "Running: ciftify_postPINT1_concat.py /home/edickie/Documents/ciftify_tests/run_2017-09-08/PINT/concatenated.csv /home/edickie/Documents/ciftify_tests/run_2017-09-08/PINT/sub-50007/sub-50007_summary.csv /home/edickie/Documents/ciftify_tests/run_2017-09-08/PINT/sub-50007/sub-50007_all_summary.csv /home/edickie/Documents/ciftify_tests/run_2017-09-08/PINT/sub-50005/sub-50005_summary.csv\n"
     ]
    },
    {
     "data": {
      "text/plain": [
       "0"
      ]
     },
     "execution_count": 65,
     "metadata": {},
     "output_type": "execute_result"
    }
   ],
   "source": [
    "summary_files = glob(os.path.join(new_outputs, 'PINT', '*','*_summary.csv'))\n",
    "concat_cmd = ['ciftify_postPINT1_concat.py',  \n",
    "           os.path.join(new_outputs, 'PINT', 'concatenated.csv')]\n",
    "concat_cmd.extend(summary_files)\n",
    "run(concat_cmd)"
   ]
  },
  {
   "cell_type": "code",
   "execution_count": 66,
   "metadata": {},
   "outputs": [
    {
     "name": "stderr",
     "output_type": "stream",
     "text": [
      "Running: ciftify_postPINT2_sub2sub.py /home/edickie/Documents/ciftify_tests/run_2017-09-08/PINT/concatenated.csv /home/edickie/Documents/ciftify_tests/run_2017-09-08/PINT/ivertex_distances.csv\n",
      "Running: ciftify_postPINT2_sub2sub.py /home/edickie/Documents/ciftify_tests/run_2017-09-08/PINT/concatenated.csv /home/edickie/Documents/ciftify_tests/run_2017-09-08/PINT/ivertex_distances.csv\n"
     ]
    },
    {
     "data": {
      "text/plain": [
       "0"
      ]
     },
     "execution_count": 66,
     "metadata": {},
     "output_type": "execute_result"
    }
   ],
   "source": [
    "run(['ciftify_postPINT2_sub2sub.py', os.path.join(new_outputs, 'PINT', 'concatenated.csv'),\n",
    "     os.path.join(new_outputs, 'PINT', 'ivertex_distances.csv')])"
   ]
  },
  {
   "cell_type": "code",
   "execution_count": 67,
   "metadata": {},
   "outputs": [
    {
     "name": "stderr",
     "output_type": "stream",
     "text": [
      "Running: ciftify_postPINT2_sub2sub.py --roiidx 14 /home/edickie/Documents/ciftify_tests/run_2017-09-08/PINT/concatenated.csv /home/edickie/Documents/ciftify_tests/run_2017-09-08/PINT/ivertex_distances_roiidx14.csv\n",
      "Running: ciftify_postPINT2_sub2sub.py --roiidx 14 /home/edickie/Documents/ciftify_tests/run_2017-09-08/PINT/concatenated.csv /home/edickie/Documents/ciftify_tests/run_2017-09-08/PINT/ivertex_distances_roiidx14.csv\n"
     ]
    },
    {
     "data": {
      "text/plain": [
       "0"
      ]
     },
     "execution_count": 67,
     "metadata": {},
     "output_type": "execute_result"
    }
   ],
   "source": [
    "run(['ciftify_postPINT2_sub2sub.py', '--roiidx', '14',\n",
    "     os.path.join(new_outputs, 'PINT', 'concatenated.csv'),\n",
    "     os.path.join(new_outputs, 'PINT', 'ivertex_distances_roiidx14.csv')])"
   ]
  },
  {
   "cell_type": "markdown",
   "metadata": {},
   "source": [
    "# Running ciftify_surface_rois"
   ]
  },
  {
   "cell_type": "code",
   "execution_count": 77,
   "metadata": {},
   "outputs": [
    {
     "name": "stderr",
     "output_type": "stream",
     "text": [
      "Running: mkdir -p /home/edickie/Documents/ciftify_tests/run_2017-09-08/rois\n",
      "Running: mkdir -p /home/edickie/Documents/ciftify_tests/run_2017-09-08/rois\n",
      "Running: ciftify_surface_rois /home/edickie/Documents/ciftify_tests/src_data/vertices1.csv 10 --gaussian /home/edickie/Documents/ciftify_tests/run_2017-09-08/hcp/sub-50005/MNINonLinear/fsaverage_LR32k/sub-50005.L.midthickness.32k_fs_LR.surf.gii /home/edickie/Documents/ciftify_tests/run_2017-09-08/hcp/sub-50005/MNINonLinear/fsaverage_LR32k/sub-50005.R.midthickness.32k_fs_LR.surf.gii /home/edickie/Documents/ciftify_tests/run_2017-09-08/rois/gaussian_roi.dscalar.nii\n",
      "Running: ciftify_surface_rois /home/edickie/Documents/ciftify_tests/src_data/vertices1.csv 10 --gaussian /home/edickie/Documents/ciftify_tests/run_2017-09-08/hcp/sub-50005/MNINonLinear/fsaverage_LR32k/sub-50005.L.midthickness.32k_fs_LR.surf.gii /home/edickie/Documents/ciftify_tests/run_2017-09-08/hcp/sub-50005/MNINonLinear/fsaverage_LR32k/sub-50005.R.midthickness.32k_fs_LR.surf.gii /home/edickie/Documents/ciftify_tests/run_2017-09-08/rois/gaussian_roi.dscalar.nii\n"
     ]
    },
    {
     "data": {
      "text/plain": [
       "0"
      ]
     },
     "execution_count": 77,
     "metadata": {},
     "output_type": "execute_result"
    }
   ],
   "source": [
    "vertices1_csv = os.path.join(src_data_dir, 'vertices1.csv')\n",
    "\n",
    "with open(vertices1_csv, \"w\") as text_file:\n",
    "    text_file.write('''hemi,vertex\n",
    "L,11801\n",
    "L,26245\n",
    "L,26235\n",
    "L,26257\n",
    "L,13356\n",
    "L,289\n",
    "L,13336\n",
    "L,13337\n",
    "L,26269\n",
    "L,13323\n",
    "L,26204\n",
    "L,26214\n",
    "L,13326\n",
    "L,13085\n",
    "L,13310\n",
    "L,13281\n",
    "L,13394\n",
    "L,13395\n",
    "L,26263\n",
    "L,26265\n",
    "L,13343\n",
    "L,77\n",
    "L,13273\n",
    "L,13342\n",
    "L,26271\n",
    "L,11804\n",
    "L,13322\n",
    "L,13369\n",
    "L,13353\n",
    "L,26268\n",
    "L,26201\n",
    "L,26269\n",
    "L,68\n",
    "L,13391\n",
    "''')\n",
    "\n",
    "subid = subids[0]\n",
    "run(['mkdir', '-p', os.path.join(new_outputs, 'rois')])\n",
    "run(['ciftify_surface_rois', vertices1_csv, '10', '--gaussian',\n",
    "     os.path.join(hcp_data_dir, subid,'MNINonLinear','fsaverage_LR32k',\n",
    "                  '{}.L.midthickness.32k_fs_LR.surf.gii'.format(subid)),\n",
    "     os.path.join(hcp_data_dir, subid,'MNINonLinear','fsaverage_LR32k',\n",
    "                  '{}.R.midthickness.32k_fs_LR.surf.gii'.format(subid)), \n",
    "     os.path.join(new_outputs, 'rois', 'gaussian_roi.dscalar.nii')])"
   ]
  },
  {
   "cell_type": "code",
   "execution_count": 78,
   "metadata": {},
   "outputs": [
    {
     "name": "stderr",
     "output_type": "stream",
     "text": [
      "Running: cifti_vis_map cifti-snaps --hcp-data-dir /home/edickie/Documents/ciftify_tests/run_2017-09-08/hcp /home/edickie/Documents/ciftify_tests/run_2017-09-08/rois/gaussian_roi.dscalar.nii sub-50005 gaussian_roi\n",
      "Running: cifti_vis_map cifti-snaps --hcp-data-dir /home/edickie/Documents/ciftify_tests/run_2017-09-08/hcp /home/edickie/Documents/ciftify_tests/run_2017-09-08/rois/gaussian_roi.dscalar.nii sub-50005 gaussian_roi\n"
     ]
    },
    {
     "data": {
      "text/plain": [
       "0"
      ]
     },
     "execution_count": 78,
     "metadata": {},
     "output_type": "execute_result"
    }
   ],
   "source": [
    "subid = subids[0]\n",
    "run(['cifti_vis_map', 'cifti-snaps', '--hcp-data-dir', \n",
    "     hcp_data_dir, \n",
    "     os.path.join(new_outputs, 'rois', 'gaussian_roi.dscalar.nii'),\n",
    "     subid, \n",
    "     'gaussian_roi'])"
   ]
  },
  {
   "cell_type": "code",
   "execution_count": 79,
   "metadata": {},
   "outputs": [
    {
     "name": "stderr",
     "output_type": "stream",
     "text": [
      "Running: ciftify_peaktable --max-threshold 0.05 --left-surface /home/edickie/Documents/ciftify_tests/run_2017-09-08/hcp/sub-50005/MNINonLinear/fsaverage_LR32k/sub-50005.L.midthickness.32k_fs_LR.surf.gii --right-surface /home/edickie/Documents/ciftify_tests/run_2017-09-08/hcp/sub-50005/MNINonLinear/fsaverage_LR32k/sub-50005.R.midthickness.32k_fs_LR.surf.gii /home/edickie/Documents/ciftify_tests/run_2017-09-08/rois/gaussian_roi.dscalar.nii\n",
      "Running: ciftify_peaktable --max-threshold 0.05 --left-surface /home/edickie/Documents/ciftify_tests/run_2017-09-08/hcp/sub-50005/MNINonLinear/fsaverage_LR32k/sub-50005.L.midthickness.32k_fs_LR.surf.gii --right-surface /home/edickie/Documents/ciftify_tests/run_2017-09-08/hcp/sub-50005/MNINonLinear/fsaverage_LR32k/sub-50005.R.midthickness.32k_fs_LR.surf.gii /home/edickie/Documents/ciftify_tests/run_2017-09-08/rois/gaussian_roi.dscalar.nii\n"
     ]
    },
    {
     "data": {
      "text/plain": [
       "0"
      ]
     },
     "execution_count": 79,
     "metadata": {},
     "output_type": "execute_result"
    }
   ],
   "source": [
    "run(['ciftify_peaktable', '--max-threshold', '0.05',      \n",
    "    '--left-surface', os.path.join(hcp_data_dir, subid,'MNINonLinear','fsaverage_LR32k',\n",
    "                  '{}.L.midthickness.32k_fs_LR.surf.gii'.format(subid)),\n",
    "    '--right-surface', os.path.join(hcp_data_dir, subid,'MNINonLinear','fsaverage_LR32k',\n",
    "                  '{}.R.midthickness.32k_fs_LR.surf.gii'.format(subid)),\n",
    "    os.path.join(new_outputs, 'rois', 'gaussian_roi.dscalar.nii')])"
   ]
  },
  {
   "cell_type": "code",
   "execution_count": 80,
   "metadata": {},
   "outputs": [
    {
     "name": "stderr",
     "output_type": "stream",
     "text": [
      "Running: mkdir -p /home/edickie/Documents/ciftify_tests/run_2017-09-08/rois\n",
      "Running: mkdir -p /home/edickie/Documents/ciftify_tests/run_2017-09-08/rois\n",
      "Running: ciftify_surface_rois /home/edickie/Documents/ciftify_tests/src_data/vertices1.csv 6 --probmap /home/edickie/Documents/ciftify_tests/run_2017-09-08/hcp/sub-50005/MNINonLinear/fsaverage_LR32k/sub-50005.L.midthickness.32k_fs_LR.surf.gii /home/edickie/Documents/ciftify_tests/run_2017-09-08/hcp/sub-50005/MNINonLinear/fsaverage_LR32k/sub-50005.R.midthickness.32k_fs_LR.surf.gii /home/edickie/Documents/ciftify_tests/run_2017-09-08/rois/probmap_roi.dscalar.nii\n",
      "Running: ciftify_surface_rois /home/edickie/Documents/ciftify_tests/src_data/vertices1.csv 6 --probmap /home/edickie/Documents/ciftify_tests/run_2017-09-08/hcp/sub-50005/MNINonLinear/fsaverage_LR32k/sub-50005.L.midthickness.32k_fs_LR.surf.gii /home/edickie/Documents/ciftify_tests/run_2017-09-08/hcp/sub-50005/MNINonLinear/fsaverage_LR32k/sub-50005.R.midthickness.32k_fs_LR.surf.gii /home/edickie/Documents/ciftify_tests/run_2017-09-08/rois/probmap_roi.dscalar.nii\n"
     ]
    },
    {
     "data": {
      "text/plain": [
       "0"
      ]
     },
     "execution_count": 80,
     "metadata": {},
     "output_type": "execute_result"
    }
   ],
   "source": [
    "vertices2_csv = os.path.join(src_data_dir, 'vertices1.csv')\n",
    "\n",
    "with open(vertices2_csv, \"w\") as text_file:\n",
    "    text_file.write('''hemi,vertex\n",
    "R,2379\n",
    "R,2423\n",
    "R,2423\n",
    "R,2629\n",
    "R,29290\n",
    "R,29290\n",
    "R,1794\n",
    "R,29199\n",
    "R,1788\n",
    "R,2380\n",
    "R,2288\n",
    "R,29320\n",
    "R,29274\n",
    "R,29272\n",
    "R,29331\n",
    "R,29356\n",
    "R,2510\n",
    "R,29345\n",
    "R,2506\n",
    "R,2506\n",
    "R,1790\n",
    "R,29305\n",
    "R,2630\n",
    "R,2551\n",
    "R,2334\n",
    "R,2334\n",
    "R,29306\n",
    "R,2551\n",
    "R,2422\n",
    "R,29256\n",
    "R,2468\n",
    "R,29332\n",
    "R,2425\n",
    "R,29356\n",
    "''')\n",
    "    \n",
    "run(['mkdir', '-p', os.path.join(new_outputs, 'rois')])\n",
    "run(['ciftify_surface_rois', vertices1_csv, '6', '--probmap',\n",
    "     os.path.join(hcp_data_dir, subid,'MNINonLinear','fsaverage_LR32k',\n",
    "                  '{}.L.midthickness.32k_fs_LR.surf.gii'.format(subid)),\n",
    "     os.path.join(hcp_data_dir, subid,'MNINonLinear','fsaverage_LR32k',\n",
    "                  '{}.R.midthickness.32k_fs_LR.surf.gii'.format(subid)), \n",
    "     os.path.join(new_outputs, 'rois', 'probmap_roi.dscalar.nii')])"
   ]
  },
  {
   "cell_type": "code",
   "execution_count": 81,
   "metadata": {},
   "outputs": [
    {
     "name": "stderr",
     "output_type": "stream",
     "text": [
      "Running: cifti_vis_map cifti-snaps --hcp-data-dir /home/edickie/Documents/ciftify_tests/run_2017-09-08/hcp /home/edickie/Documents/ciftify_tests/run_2017-09-08/rois/probmap_roi.dscalar.nii sub-50005 probmap_roi\n",
      "Running: cifti_vis_map cifti-snaps --hcp-data-dir /home/edickie/Documents/ciftify_tests/run_2017-09-08/hcp /home/edickie/Documents/ciftify_tests/run_2017-09-08/rois/probmap_roi.dscalar.nii sub-50005 probmap_roi\n"
     ]
    },
    {
     "data": {
      "text/plain": [
       "0"
      ]
     },
     "execution_count": 81,
     "metadata": {},
     "output_type": "execute_result"
    }
   ],
   "source": [
    "subid = subids[0]\n",
    "run(['cifti_vis_map', 'cifti-snaps', '--hcp-data-dir', \n",
    "     hcp_data_dir, \n",
    "     os.path.join(new_outputs, 'rois', 'probmap_roi.dscalar.nii'),\n",
    "     subid, \n",
    "     'probmap_roi'])"
   ]
  },
  {
   "cell_type": "code",
   "execution_count": 82,
   "metadata": {},
   "outputs": [
    {
     "name": "stderr",
     "output_type": "stream",
     "text": [
      "Running: ciftify_peaktable --max-threshold 0.05 --left-surface /home/edickie/Documents/ciftify_tests/run_2017-09-08/hcp/sub-50005/MNINonLinear/fsaverage_LR32k/sub-50005.L.midthickness.32k_fs_LR.surf.gii --right-surface /home/edickie/Documents/ciftify_tests/run_2017-09-08/hcp/sub-50005/MNINonLinear/fsaverage_LR32k/sub-50005.R.midthickness.32k_fs_LR.surf.gii /home/edickie/Documents/ciftify_tests/run_2017-09-08/rois/probmap_roi.dscalar.nii\n",
      "Running: ciftify_peaktable --max-threshold 0.05 --left-surface /home/edickie/Documents/ciftify_tests/run_2017-09-08/hcp/sub-50005/MNINonLinear/fsaverage_LR32k/sub-50005.L.midthickness.32k_fs_LR.surf.gii --right-surface /home/edickie/Documents/ciftify_tests/run_2017-09-08/hcp/sub-50005/MNINonLinear/fsaverage_LR32k/sub-50005.R.midthickness.32k_fs_LR.surf.gii /home/edickie/Documents/ciftify_tests/run_2017-09-08/rois/probmap_roi.dscalar.nii\n"
     ]
    },
    {
     "data": {
      "text/plain": [
       "0"
      ]
     },
     "execution_count": 82,
     "metadata": {},
     "output_type": "execute_result"
    }
   ],
   "source": [
    "run(['ciftify_peaktable', '--max-threshold', '0.05',      \n",
    "    '--left-surface', os.path.join(hcp_data_dir, subid,'MNINonLinear','fsaverage_LR32k',\n",
    "                  '{}.L.midthickness.32k_fs_LR.surf.gii'.format(subid)),\n",
    "    '--right-surface', os.path.join(hcp_data_dir, subid,'MNINonLinear','fsaverage_LR32k',\n",
    "                  '{}.R.midthickness.32k_fs_LR.surf.gii'.format(subid)), \n",
    "   os.path.join(new_outputs, 'rois', 'probmap_roi.dscalar.nii')])"
   ]
  },
  {
   "cell_type": "code",
   "execution_count": 83,
   "metadata": {},
   "outputs": [
    {
     "name": "stderr",
     "output_type": "stream",
     "text": [
      "Running: wb_command -surface-vertex-areas /home/edickie/Documents/ciftify_tests/run_2017-09-08/hcp/sub-50005/MNINonLinear/fsaverage_LR32k/sub-50005.L.midthickness.32k_fs_LR.surf.gii /home/edickie/Documents/ciftify_tests/run_2017-09-08/hcp/sub-50005/MNINonLinear/fsaverage_LR32k/sub-50005.L.midthickness_va.32k_fs_LR.shape.gii\n",
      "Running: wb_command -surface-vertex-areas /home/edickie/Documents/ciftify_tests/run_2017-09-08/hcp/sub-50005/MNINonLinear/fsaverage_LR32k/sub-50005.L.midthickness.32k_fs_LR.surf.gii /home/edickie/Documents/ciftify_tests/run_2017-09-08/hcp/sub-50005/MNINonLinear/fsaverage_LR32k/sub-50005.L.midthickness_va.32k_fs_LR.shape.gii\n",
      "Running: wb_command -surface-vertex-areas /home/edickie/Documents/ciftify_tests/run_2017-09-08/hcp/sub-50005/MNINonLinear/fsaverage_LR32k/sub-50005.R.midthickness.32k_fs_LR.surf.gii /home/edickie/Documents/ciftify_tests/run_2017-09-08/hcp/sub-50005/MNINonLinear/fsaverage_LR32k/sub-50005.R.midthickness_va.32k_fs_LR.shape.gii\n",
      "Running: wb_command -surface-vertex-areas /home/edickie/Documents/ciftify_tests/run_2017-09-08/hcp/sub-50005/MNINonLinear/fsaverage_LR32k/sub-50005.R.midthickness.32k_fs_LR.surf.gii /home/edickie/Documents/ciftify_tests/run_2017-09-08/hcp/sub-50005/MNINonLinear/fsaverage_LR32k/sub-50005.R.midthickness_va.32k_fs_LR.shape.gii\n",
      "Running: ciftify_peaktable --outputbase /home/edickie/Documents/ciftify_tests/run_2017-09-08/rois/probmap_roi_withva --max-threshold 0.05 --left-surface /home/edickie/Documents/ciftify_tests/run_2017-09-08/hcp/sub-50005/MNINonLinear/fsaverage_LR32k/sub-50005.L.midthickness.32k_fs_LR.surf.gii --right-surface /home/edickie/Documents/ciftify_tests/run_2017-09-08/hcp/sub-50005/MNINonLinear/fsaverage_LR32k/sub-50005.R.midthickness.32k_fs_LR.surf.gii --left-surf-area /home/edickie/Documents/ciftify_tests/run_2017-09-08/hcp/sub-50005/MNINonLinear/fsaverage_LR32k/sub-50005.L.midthickness_va.32k_fs_LR.shape.gii --right-surf-area /home/edickie/Documents/ciftify_tests/run_2017-09-08/hcp/sub-50005/MNINonLinear/fsaverage_LR32k/sub-50005.R.midthickness_va.32k_fs_LR.shape.gii /home/edickie/Documents/ciftify_tests/run_2017-09-08/rois/probmap_roi.dscalar.nii\n",
      "Running: ciftify_peaktable --outputbase /home/edickie/Documents/ciftify_tests/run_2017-09-08/rois/probmap_roi_withva --max-threshold 0.05 --left-surface /home/edickie/Documents/ciftify_tests/run_2017-09-08/hcp/sub-50005/MNINonLinear/fsaverage_LR32k/sub-50005.L.midthickness.32k_fs_LR.surf.gii --right-surface /home/edickie/Documents/ciftify_tests/run_2017-09-08/hcp/sub-50005/MNINonLinear/fsaverage_LR32k/sub-50005.R.midthickness.32k_fs_LR.surf.gii --left-surf-area /home/edickie/Documents/ciftify_tests/run_2017-09-08/hcp/sub-50005/MNINonLinear/fsaverage_LR32k/sub-50005.L.midthickness_va.32k_fs_LR.shape.gii --right-surf-area /home/edickie/Documents/ciftify_tests/run_2017-09-08/hcp/sub-50005/MNINonLinear/fsaverage_LR32k/sub-50005.R.midthickness_va.32k_fs_LR.shape.gii /home/edickie/Documents/ciftify_tests/run_2017-09-08/rois/probmap_roi.dscalar.nii\n"
     ]
    },
    {
     "data": {
      "text/plain": [
       "0"
      ]
     },
     "execution_count": 83,
     "metadata": {},
     "output_type": "execute_result"
    }
   ],
   "source": [
    "for hemi in ['L','R']:\n",
    "    run(['wb_command', '-surface-vertex-areas',\n",
    "         os.path.join(hcp_data_dir, subid,'MNINonLinear','fsaverage_LR32k',\n",
    "                  '{}.{}.midthickness.32k_fs_LR.surf.gii'.format(subid, hemi)),\n",
    "         os.path.join(hcp_data_dir, subid,'MNINonLinear','fsaverage_LR32k',\n",
    "                  '{}.{}.midthickness_va.32k_fs_LR.shape.gii'.format(subid, hemi))])\n",
    "\n",
    "run(['ciftify_peaktable', \n",
    "    '--outputbase', os.path.join(new_outputs, 'rois', 'probmap_roi_withva'),\n",
    "    '--max-threshold', '0.05',      \n",
    "    '--left-surface', os.path.join(hcp_data_dir, subid,'MNINonLinear','fsaverage_LR32k',\n",
    "                  '{}.L.midthickness.32k_fs_LR.surf.gii'.format(subid)),\n",
    "    '--right-surface', os.path.join(hcp_data_dir, subid,'MNINonLinear','fsaverage_LR32k',\n",
    "                  '{}.R.midthickness.32k_fs_LR.surf.gii'.format(subid)), \n",
    "    '--left-surf-area', os.path.join(hcp_data_dir, subid,'MNINonLinear','fsaverage_LR32k',\n",
    "                  '{}.L.midthickness_va.32k_fs_LR.shape.gii'.format(subid)),\n",
    "    '--right-surf-area', os.path.join(hcp_data_dir, subid,'MNINonLinear','fsaverage_LR32k',\n",
    "                  '{}.R.midthickness_va.32k_fs_LR.shape.gii'.format(subid)), \n",
    "   os.path.join(new_outputs, 'rois', 'probmap_roi.dscalar.nii')])"
   ]
  },
  {
   "cell_type": "code",
   "execution_count": 84,
   "metadata": {},
   "outputs": [
    {
     "name": "stderr",
     "output_type": "stream",
     "text": [
      "Running: ciftify_surface_rois --debug /home/edickie/code/ciftify/ciftify/data/PINT/Yeo7_2011_80verts.csv 6 --vertex-col tvertex --labels-col NETWORK --overlap-logic EXCLUDE /home/edickie/code/ciftify/ciftify/data/HCP_S1200_GroupAvg_v1/S1200.L.midthickness_MSMAll.32k_fs_LR.surf.gii /home/edickie/code/ciftify/ciftify/data/HCP_S1200_GroupAvg_v1/S1200.R.midthickness_MSMAll.32k_fs_LR.surf.gii /home/edickie/Documents/ciftify_tests/run_2017-09-08/rois/tvertex.dscalar.nii\n",
      "Running: ciftify_surface_rois --debug /home/edickie/code/ciftify/ciftify/data/PINT/Yeo7_2011_80verts.csv 6 --vertex-col tvertex --labels-col NETWORK --overlap-logic EXCLUDE /home/edickie/code/ciftify/ciftify/data/HCP_S1200_GroupAvg_v1/S1200.L.midthickness_MSMAll.32k_fs_LR.surf.gii /home/edickie/code/ciftify/ciftify/data/HCP_S1200_GroupAvg_v1/S1200.R.midthickness_MSMAll.32k_fs_LR.surf.gii /home/edickie/Documents/ciftify_tests/run_2017-09-08/rois/tvertex.dscalar.nii\n"
     ]
    },
    {
     "data": {
      "text/plain": [
       "0"
      ]
     },
     "execution_count": 84,
     "metadata": {},
     "output_type": "execute_result"
    }
   ],
   "source": [
    "run(['ciftify_surface_rois', '--debug',\n",
    "      os.path.join(ciftify.config.find_ciftify_global(), 'PINT', 'Yeo7_2011_80verts.csv'),\n",
    "      '6', '--vertex-col', 'tvertex', '--labels-col', 'NETWORK', '--overlap-logic', 'EXCLUDE',\n",
    "      os.path.join(ciftify.config.find_HCP_S1200_GroupAvg(),\n",
    "                'S1200.L.midthickness_MSMAll.32k_fs_LR.surf.gii'),\n",
    "      os.path.join(ciftify.config.find_HCP_S1200_GroupAvg(),\n",
    "                'S1200.R.midthickness_MSMAll.32k_fs_LR.surf.gii'),\n",
    "      os.path.join(new_outputs, 'rois', 'tvertex.dscalar.nii')])"
   ]
  },
  {
   "cell_type": "code",
   "execution_count": 85,
   "metadata": {},
   "outputs": [
    {
     "name": "stderr",
     "output_type": "stream",
     "text": [
      "Running: cifti_vis_map cifti-snaps --hcp-data-dir /home/edickie/Documents/ciftify_tests/run_2017-09-08/hcp /home/edickie/Documents/ciftify_tests/run_2017-09-08/rois/tvertex.dscalar.nii sub-50005 tvertex\n",
      "Running: cifti_vis_map cifti-snaps --hcp-data-dir /home/edickie/Documents/ciftify_tests/run_2017-09-08/hcp /home/edickie/Documents/ciftify_tests/run_2017-09-08/rois/tvertex.dscalar.nii sub-50005 tvertex\n"
     ]
    },
    {
     "data": {
      "text/plain": [
       "0"
      ]
     },
     "execution_count": 85,
     "metadata": {},
     "output_type": "execute_result"
    }
   ],
   "source": [
    "subid = subids[0]\n",
    "run(['cifti_vis_map', 'cifti-snaps', '--hcp-data-dir', \n",
    "     hcp_data_dir, \n",
    "     os.path.join(new_outputs, 'rois', 'tvertex.dscalar.nii'),\n",
    "     subid, \n",
    "     'tvertex'])"
   ]
  },
  {
   "cell_type": "markdown",
   "metadata": {},
   "source": [
    "# Running ciftify_seed_corr "
   ]
  },
  {
   "cell_type": "code",
   "execution_count": null,
   "metadata": {
    "collapsed": true
   },
   "outputs": [],
   "source": []
  },
  {
   "cell_type": "code",
   "execution_count": 89,
   "metadata": {},
   "outputs": [
    {
     "name": "stderr",
     "output_type": "stream",
     "text": [
      "Running: mkdir -p /home/edickie/Documents/ciftify_tests/run_2017-09-08/ciftify_seed_corr\n",
      "Running: mkdir -p /home/edickie/Documents/ciftify_tests/run_2017-09-08/ciftify_seed_corr\n",
      "Running: wb_command -volume-label-to-roi /home/edickie/Documents/ciftify_tests/run_2017-09-08/hcp/sub-50005/MNINonLinear/wmparc.nii.gz /home/edickie/Documents/ciftify_tests/run_2017-09-08/ciftify_seed_corr/sub-50005_RIGHT-PUTAMEN_vol.nii.gz -name RIGHT-PUTAMEN\n",
      "Running: wb_command -volume-label-to-roi /home/edickie/Documents/ciftify_tests/run_2017-09-08/hcp/sub-50005/MNINonLinear/wmparc.nii.gz /home/edickie/Documents/ciftify_tests/run_2017-09-08/ciftify_seed_corr/sub-50005_RIGHT-PUTAMEN_vol.nii.gz -name RIGHT-PUTAMEN\n"
     ]
    },
    {
     "data": {
      "text/plain": [
       "0"
      ]
     },
     "execution_count": 89,
     "metadata": {},
     "output_type": "execute_result"
    }
   ],
   "source": [
    "subid = subids[0]\n",
    "smoothing = 12\n",
    "func_vol = os.path.join(hcp_data_dir, subid, 'MNINonLinear', 'Results', 'rest_test1', 'rest_test1.nii.gz')\n",
    "func_cifti_sm0 = os.path.join(hcp_data_dir, subid, 'MNINonLinear', 'Results', 'rest_test1', 'rest_test1_Atlas_s0.dtseries.nii')\n",
    "func_cifti_smoothed = os.path.join(hcp_data_dir, subid, 'MNINonLinear', 'Results', 'rest_test1', 'rest_test1_Atlas_s{}.dtseries.nii'.format(smoothing))\n",
    "atlas_vol =  os.path.join(hcp_data_dir, subid, 'MNINonLinear', 'wmparc.nii.gz')\n",
    "\n",
    "seed_corr_dir = os.path.join(new_outputs, 'ciftify_seed_corr')\n",
    "if not os.path.exists(seed_corr_dir):\n",
    "    run(['mkdir', '-p', seed_corr_dir])\n",
    "struct = 'RIGHT-PUTAMEN'\n",
    "putamen_vol_seed_mask = os.path.join(seed_corr_dir, '{}_{}_vol.nii.gz'.format(subid, struct))\n",
    "run(['wb_command', '-volume-label-to-roi', atlas_vol, putamen_vol_seed_mask, '-name', struct])\n",
    "\n"
   ]
  },
  {
   "cell_type": "code",
   "execution_count": 91,
   "metadata": {},
   "outputs": [
    {
     "name": "stderr",
     "output_type": "stream",
     "text": [
      "Running: cifti_vis_map nifti-snaps --hcp-data-dir /home/edickie/Documents/ciftify_tests/run_2017-09-08/hcp /home/edickie/Documents/ciftify_tests/run_2017-09-08/hcp/sub-50005/MNINonLinear/Results/rest_test1/rest_test1_sub-50005_RIGHT-PUTAMEN_vol.nii.gz sub-50005 sub-50005_RIGHT-PUTAMEN_niftitonifti_unmasked\n",
      "Running: cifti_vis_map nifti-snaps --hcp-data-dir /home/edickie/Documents/ciftify_tests/run_2017-09-08/hcp /home/edickie/Documents/ciftify_tests/run_2017-09-08/hcp/sub-50005/MNINonLinear/Results/rest_test1/rest_test1_sub-50005_RIGHT-PUTAMEN_vol.nii.gz sub-50005 sub-50005_RIGHT-PUTAMEN_niftitonifti_unmasked\n"
     ]
    },
    {
     "data": {
      "text/plain": [
       "0"
      ]
     },
     "execution_count": 91,
     "metadata": {},
     "output_type": "execute_result"
    }
   ],
   "source": [
    "run(['ciftify_seed_corr', func_vol, putamen_vol_seed_mask])\n",
    "run(['cifti_vis_map', 'nifti-snaps', '--hcp-data-dir', \n",
    "     hcp_data_dir, \n",
    "     seed_corr_default_out(func_vol, putamen_vol_seed_mask),\n",
    "     subid, \n",
    "     '{}_{}_niftitonifti_unmasked'.format(subid, struct)])"
   ]
  },
  {
   "cell_type": "code",
   "execution_count": 92,
   "metadata": {},
   "outputs": [
    {
     "name": "stderr",
     "output_type": "stream",
     "text": [
      "Running: ciftify_seed_corr --outputname /home/edickie/Documents/ciftify_tests/run_2017-09-08/ciftify_seed_corr/sub-50005_RIGHT-PUTAMEN_niftitonifti_masked.nii.gz --mask /home/edickie/Documents/ciftify_tests/run_2017-09-08/hcp/sub-50005/MNINonLinear/brainmask_fs.nii.gz /home/edickie/Documents/ciftify_tests/run_2017-09-08/hcp/sub-50005/MNINonLinear/Results/rest_test1/rest_test1.nii.gz /home/edickie/Documents/ciftify_tests/run_2017-09-08/ciftify_seed_corr/sub-50005_RIGHT-PUTAMEN_vol.nii.gz\n",
      "Running: ciftify_seed_corr --outputname /home/edickie/Documents/ciftify_tests/run_2017-09-08/ciftify_seed_corr/sub-50005_RIGHT-PUTAMEN_niftitonifti_masked.nii.gz --mask /home/edickie/Documents/ciftify_tests/run_2017-09-08/hcp/sub-50005/MNINonLinear/brainmask_fs.nii.gz /home/edickie/Documents/ciftify_tests/run_2017-09-08/hcp/sub-50005/MNINonLinear/Results/rest_test1/rest_test1.nii.gz /home/edickie/Documents/ciftify_tests/run_2017-09-08/ciftify_seed_corr/sub-50005_RIGHT-PUTAMEN_vol.nii.gz\n"
     ]
    },
    {
     "data": {
      "text/plain": [
       "0"
      ]
     },
     "execution_count": 92,
     "metadata": {},
     "output_type": "execute_result"
    }
   ],
   "source": [
    "run(['ciftify_seed_corr',\n",
    "     '--outputname', os.path.join(seed_corr_dir, '{}_{}_niftitonifti_masked.nii.gz'.format(subid, struct)),\n",
    "     '--mask', os.path.join(hcp_data_dir, subid, 'MNINonLinear', 'brainmask_fs.nii.gz'),\n",
    "     func_vol, putamen_vol_seed_mask])\n",
    "\n",
    "run(['cifti_vis_map', 'nifti-snaps', '--hcp-data-dir', \n",
    "     hcp_data_dir, \n",
    "     os.path.join(seed_corr_dir, '{}_{}_niftitonifti_masked.nii.gz'.format(subid, struct)),\n",
    "     subid, \n",
    "     '{}_{}_niftitonifti_masked'.format(subid, struct)])"
   ]
  },
  {
   "cell_type": "code",
   "execution_count": 94,
   "metadata": {},
   "outputs": [
    {
     "name": "stderr",
     "output_type": "stream",
     "text": [
      "Running: ciftify_seed_corr /home/edickie/Documents/ciftify_tests/run_2017-09-08/hcp/sub-50005/MNINonLinear/Results/rest_test1/rest_test1_Atlas_s12.dtseries.nii /home/edickie/Documents/ciftify_tests/run_2017-09-08/ciftify_seed_corr/sub-50005_RIGHT-PUTAMEN_vol.nii.gz\n",
      "Running: ciftify_seed_corr /home/edickie/Documents/ciftify_tests/run_2017-09-08/hcp/sub-50005/MNINonLinear/Results/rest_test1/rest_test1_Atlas_s12.dtseries.nii /home/edickie/Documents/ciftify_tests/run_2017-09-08/ciftify_seed_corr/sub-50005_RIGHT-PUTAMEN_vol.nii.gz\n"
     ]
    },
    {
     "data": {
      "text/plain": [
       "0"
      ]
     },
     "execution_count": 94,
     "metadata": {},
     "output_type": "execute_result"
    }
   ],
   "source": [
    "run(['ciftify_seed_corr', func_cifti_smoothed, putamen_vol_seed_mask])"
   ]
  },
  {
   "cell_type": "code",
   "execution_count": 95,
   "metadata": {},
   "outputs": [
    {
     "name": "stderr",
     "output_type": "stream",
     "text": [
      "Running: cifti_vis_map cifti-snaps --hcp-data-dir /home/edickie/Documents/ciftify_tests/run_2017-09-08/hcp /home/edickie/Documents/ciftify_tests/run_2017-09-08/hcp/sub-50005/MNINonLinear/Results/rest_test1/rest_test1_Atlas_s12_sub-50005_RIGHT-PUTAMEN_vol.dscalar.nii sub-50005 sub-50005_RIGHT-PUTAMEN_niftitocifti_unmasked\n",
      "Running: cifti_vis_map cifti-snaps --hcp-data-dir /home/edickie/Documents/ciftify_tests/run_2017-09-08/hcp /home/edickie/Documents/ciftify_tests/run_2017-09-08/hcp/sub-50005/MNINonLinear/Results/rest_test1/rest_test1_Atlas_s12_sub-50005_RIGHT-PUTAMEN_vol.dscalar.nii sub-50005 sub-50005_RIGHT-PUTAMEN_niftitocifti_unmasked\n"
     ]
    },
    {
     "data": {
      "text/plain": [
       "0"
      ]
     },
     "execution_count": 95,
     "metadata": {},
     "output_type": "execute_result"
    }
   ],
   "source": [
    "run(['cifti_vis_map', 'cifti-snaps', '--hcp-data-dir', \n",
    "     hcp_data_dir, \n",
    "     seed_corr_default_out(func_cifti_smoothed, putamen_vol_seed_mask),\n",
    "     subid, \n",
    "     '{}_{}_niftitocifti_unmasked'.format(subid, struct)])"
   ]
  },
  {
   "cell_type": "code",
   "execution_count": 96,
   "metadata": {},
   "outputs": [
    {
     "name": "stderr",
     "output_type": "stream",
     "text": [
      "Running: ciftify_peaktable --min-threshold -0.5 --max-threshold 0.5 --no-cluster-dlabel /home/edickie/Documents/ciftify_tests/run_2017-09-08/hcp/sub-50005/MNINonLinear/Results/rest_test1/rest_test1_Atlas_s12_sub-50005_RIGHT-PUTAMEN_vol.dscalar.nii\n",
      "Running: ciftify_peaktable --min-threshold -0.5 --max-threshold 0.5 --no-cluster-dlabel /home/edickie/Documents/ciftify_tests/run_2017-09-08/hcp/sub-50005/MNINonLinear/Results/rest_test1/rest_test1_Atlas_s12_sub-50005_RIGHT-PUTAMEN_vol.dscalar.nii\n"
     ]
    }
   ],
   "source": [
    "run_seedcorr_peaktable(seed_corr_default_out(func_cifti_smoothed, putamen_vol_seed_mask))"
   ]
  },
  {
   "cell_type": "code",
   "execution_count": 97,
   "metadata": {},
   "outputs": [
    {
     "name": "stderr",
     "output_type": "stream",
     "text": [
      "Running: wb_command -cifti-math '(x > 0)' /home/edickie/Documents/ciftify_tests/run_2017-09-08/ciftify_seed_corr/sub-50005_func_mask.dscalar.nii -var x /home/edickie/Documents/ciftify_tests/run_2017-09-08/hcp/sub-50005/MNINonLinear/Results/rest_test1/rest_test1_Atlas_s0.dtseries.nii -select 1 1\n",
      "Running: wb_command -cifti-math '(x > 0)' /home/edickie/Documents/ciftify_tests/run_2017-09-08/ciftify_seed_corr/sub-50005_func_mask.dscalar.nii -var x /home/edickie/Documents/ciftify_tests/run_2017-09-08/hcp/sub-50005/MNINonLinear/Results/rest_test1/rest_test1_Atlas_s0.dtseries.nii -select 1 1\n",
      "parsed '(x > 0)' as '(x>0)'\n",
      "\n",
      "parsed '(x > 0)' as '(x>0)'\n",
      "\n",
      "Running: ciftify_seed_corr --outputname /home/edickie/Documents/ciftify_tests/run_2017-09-08/ciftify_seed_corr/sub-50005_RIGHT-PUTAMEN_niftitocifti_masked.dscalar.nii --mask /home/edickie/Documents/ciftify_tests/run_2017-09-08/ciftify_seed_corr/sub-50005_func_mask.dscalar.nii /home/edickie/Documents/ciftify_tests/run_2017-09-08/hcp/sub-50005/MNINonLinear/Results/rest_test1/rest_test1_Atlas_s12.dtseries.nii /home/edickie/Documents/ciftify_tests/run_2017-09-08/ciftify_seed_corr/sub-50005_RIGHT-PUTAMEN_vol.nii.gz\n",
      "Running: ciftify_seed_corr --outputname /home/edickie/Documents/ciftify_tests/run_2017-09-08/ciftify_seed_corr/sub-50005_RIGHT-PUTAMEN_niftitocifti_masked.dscalar.nii --mask /home/edickie/Documents/ciftify_tests/run_2017-09-08/ciftify_seed_corr/sub-50005_func_mask.dscalar.nii /home/edickie/Documents/ciftify_tests/run_2017-09-08/hcp/sub-50005/MNINonLinear/Results/rest_test1/rest_test1_Atlas_s12.dtseries.nii /home/edickie/Documents/ciftify_tests/run_2017-09-08/ciftify_seed_corr/sub-50005_RIGHT-PUTAMEN_vol.nii.gz\n"
     ]
    },
    {
     "data": {
      "text/plain": [
       "0"
      ]
     },
     "execution_count": 97,
     "metadata": {},
     "output_type": "execute_result"
    }
   ],
   "source": [
    "cifti_mask = os.path.join(seed_corr_dir, '{}_func_mask.dscalar.nii'.format(subid))\n",
    "run(['wb_command', '-cifti-math', \"'(x > 0)'\", cifti_mask,\n",
    "    '-var', 'x', func_cifti_sm0, '-select', '1', '1'])\n",
    "run(['ciftify_seed_corr',\n",
    "     '--outputname', os.path.join(seed_corr_dir, '{}_{}_niftitocifti_masked.dscalar.nii'.format(subid, struct)),\n",
    "     '--mask', cifti_mask,\n",
    "     func_cifti_smoothed, putamen_vol_seed_mask])"
   ]
  },
  {
   "cell_type": "code",
   "execution_count": 98,
   "metadata": {},
   "outputs": [
    {
     "name": "stderr",
     "output_type": "stream",
     "text": [
      "Running: cifti_vis_map cifti-snaps --hcp-data-dir /home/edickie/Documents/ciftify_tests/run_2017-09-08/hcp /home/edickie/Documents/ciftify_tests/run_2017-09-08/ciftify_seed_corr/sub-50005_RIGHT-PUTAMEN_niftitocifti_masked.dscalar.nii sub-50005 sub-50005_RIGHT-PUTAMEN_niftitocifti_masked\n",
      "Running: cifti_vis_map cifti-snaps --hcp-data-dir /home/edickie/Documents/ciftify_tests/run_2017-09-08/hcp /home/edickie/Documents/ciftify_tests/run_2017-09-08/ciftify_seed_corr/sub-50005_RIGHT-PUTAMEN_niftitocifti_masked.dscalar.nii sub-50005 sub-50005_RIGHT-PUTAMEN_niftitocifti_masked\n",
      "Running: ciftify_peaktable --min-threshold -0.5 --max-threshold 0.5 --no-cluster-dlabel /home/edickie/Documents/ciftify_tests/run_2017-09-08/ciftify_seed_corr/sub-50005_RIGHT-PUTAMEN_niftitocifti_masked.dscalar.nii\n",
      "Running: ciftify_peaktable --min-threshold -0.5 --max-threshold 0.5 --no-cluster-dlabel /home/edickie/Documents/ciftify_tests/run_2017-09-08/ciftify_seed_corr/sub-50005_RIGHT-PUTAMEN_niftitocifti_masked.dscalar.nii\n"
     ]
    }
   ],
   "source": [
    "subid = subids[0]\n",
    "run(['cifti_vis_map', 'cifti-snaps', '--hcp-data-dir', hcp_data_dir, \n",
    "     os.path.join(seed_corr_dir, '{}_{}_niftitocifti_masked.dscalar.nii'.format(subid, struct)),\n",
    "     subid, \n",
    "     '{}_{}_niftitocifti_masked'.format(subid, struct)])\n",
    "run_seedcorr_peaktable(os.path.join(seed_corr_dir, '{}_{}_niftitocifti_masked.dscalar.nii'.format(subid, struct)))"
   ]
  },
  {
   "cell_type": "code",
   "execution_count": 99,
   "metadata": {
    "collapsed": true
   },
   "outputs": [],
   "source": [
    "result_map = seed_corr_default_out(func_cifti_smoothed, \n",
    "                                   os.path.join(seed_corr_dir, '{}_{}_cifti.dscalar.nii'.format(subid, struct)))\n",
    "result_prefix = '{}_{}_ciftitocifti_unmasked'.format(subid, struct)\n",
    "result_type = 'cifti'"
   ]
  },
  {
   "cell_type": "code",
   "execution_count": 100,
   "metadata": {},
   "outputs": [
    {
     "name": "stderr",
     "output_type": "stream",
     "text": [
      "Running: wb_command -cifti-create-dense-from-template /home/edickie/Documents/ciftify_tests/run_2017-09-08/hcp/sub-50005/MNINonLinear/Results/rest_test1/rest_test1_Atlas_s0.dtseries.nii /home/edickie/Documents/ciftify_tests/run_2017-09-08/ciftify_seed_corr/sub-50005_RIGHT-PUTAMEN_cifti.dscalar.nii -volume-all /home/edickie/Documents/ciftify_tests/run_2017-09-08/ciftify_seed_corr/sub-50005_RIGHT-PUTAMEN_vol.nii.gz\n",
      "Running: wb_command -cifti-create-dense-from-template /home/edickie/Documents/ciftify_tests/run_2017-09-08/hcp/sub-50005/MNINonLinear/Results/rest_test1/rest_test1_Atlas_s0.dtseries.nii /home/edickie/Documents/ciftify_tests/run_2017-09-08/ciftify_seed_corr/sub-50005_RIGHT-PUTAMEN_cifti.dscalar.nii -volume-all /home/edickie/Documents/ciftify_tests/run_2017-09-08/ciftify_seed_corr/sub-50005_RIGHT-PUTAMEN_vol.nii.gz\n",
      "Running: ciftify_seed_corr /home/edickie/Documents/ciftify_tests/run_2017-09-08/hcp/sub-50005/MNINonLinear/Results/rest_test1/rest_test1_Atlas_s12.dtseries.nii /home/edickie/Documents/ciftify_tests/run_2017-09-08/ciftify_seed_corr/sub-50005_RIGHT-PUTAMEN_cifti.dscalar.nii\n",
      "Running: ciftify_seed_corr /home/edickie/Documents/ciftify_tests/run_2017-09-08/hcp/sub-50005/MNINonLinear/Results/rest_test1/rest_test1_Atlas_s12.dtseries.nii /home/edickie/Documents/ciftify_tests/run_2017-09-08/ciftify_seed_corr/sub-50005_RIGHT-PUTAMEN_cifti.dscalar.nii\n"
     ]
    },
    {
     "data": {
      "text/plain": [
       "0"
      ]
     },
     "execution_count": 100,
     "metadata": {},
     "output_type": "execute_result"
    }
   ],
   "source": [
    "run(['wb_command', '-cifti-create-dense-from-template',\n",
    "     func_cifti_sm0,\n",
    "     os.path.join(seed_corr_dir, \n",
    "                                 '{}_{}_cifti.dscalar.nii'.format(subid, struct)),\n",
    "     '-volume-all', putamen_vol_seed_mask])\n",
    "\n",
    "run(['ciftify_seed_corr', func_cifti_smoothed, \n",
    "    os.path.join(seed_corr_dir, '{}_{}_cifti.dscalar.nii'.format(subid, struct))])"
   ]
  },
  {
   "cell_type": "code",
   "execution_count": 101,
   "metadata": {},
   "outputs": [
    {
     "name": "stderr",
     "output_type": "stream",
     "text": [
      "Running: cifti_vis_map cifti-snaps --hcp-data-dir /home/edickie/Documents/ciftify_tests/run_2017-09-08/hcp /home/edickie/Documents/ciftify_tests/run_2017-09-08/hcp/sub-50005/MNINonLinear/Results/rest_test1/rest_test1_Atlas_s12_sub-50005_RIGHT-PUTAMEN_cifti.dscalar.nii sub-50005 sub-50005_RIGHT-PUTAMEN_ciftitocifti_unmasked\n",
      "Running: cifti_vis_map cifti-snaps --hcp-data-dir /home/edickie/Documents/ciftify_tests/run_2017-09-08/hcp /home/edickie/Documents/ciftify_tests/run_2017-09-08/hcp/sub-50005/MNINonLinear/Results/rest_test1/rest_test1_Atlas_s12_sub-50005_RIGHT-PUTAMEN_cifti.dscalar.nii sub-50005 sub-50005_RIGHT-PUTAMEN_ciftitocifti_unmasked\n",
      "Running: ciftify_peaktable --min-threshold -0.5 --max-threshold 0.5 --no-cluster-dlabel /home/edickie/Documents/ciftify_tests/run_2017-09-08/hcp/sub-50005/MNINonLinear/Results/rest_test1/rest_test1_Atlas_s12_sub-50005_RIGHT-PUTAMEN_cifti.dscalar.nii\n",
      "Running: ciftify_peaktable --min-threshold -0.5 --max-threshold 0.5 --no-cluster-dlabel /home/edickie/Documents/ciftify_tests/run_2017-09-08/hcp/sub-50005/MNINonLinear/Results/rest_test1/rest_test1_Atlas_s12_sub-50005_RIGHT-PUTAMEN_cifti.dscalar.nii\n"
     ]
    }
   ],
   "source": [
    "run_vis_map(result_map, result_prefix, result_type)\n",
    "run_seedcorr_peaktable(result_map)"
   ]
  },
  {
   "cell_type": "code",
   "execution_count": 102,
   "metadata": {
    "collapsed": true
   },
   "outputs": [],
   "source": [
    "result_map = os.path.join(seed_corr_dir, '{}_{}_ciftitocifti_30TRs.dscalar.nii'.format(subid, struct))\n",
    "result_type = 'cifti'\n",
    "result_prefix = '{}_{}_ciftitocifti_30TRs'.format(subid, struct)\n",
    "\n",
    "TR_file = os.path.join(new_outputs, 'rois','TR_file.txt')\n",
    "with open(TR_file, \"w\") as text_file:\n",
    "    text_file.write('''1 2 3 4 5 6 7 8 9 10 11 12 13 14 15 16 17 18 19 20 21 22 23 24 25 26 27 28 29 30''')\n",
    "\n",
    "run(['ciftify_seed_corr',\n",
    "     '--outputname', result_map,\n",
    "     '--use-TRs', TR_file,\n",
    "     func_cifti_smoothed, putamen_vol_seed_mask])\n",
    "run_vis_map(result_map, result_prefix, result_type)\n",
    "run_seedcorr_peaktable(result_map)"
   ]
  },
  {
   "cell_type": "code",
   "execution_count": 104,
   "metadata": {
    "collapsed": true
   },
   "outputs": [],
   "source": [
    "result_map = os.path.join(seed_corr_dir, '{}_{}_ciftitocifti_masked.dscalar.nii'.format(subid, struct))\n",
    "result_type = 'cifti'\n",
    "result_prefix = '{}_{}_ciftitocifti_masked'.format(subid, struct)\n",
    "\n",
    "run(['ciftify_seed_corr',     \n",
    "     '--outputname', result_map,\n",
    "     '--mask', cifti_mask,\n",
    "     func_cifti_smoothed, \n",
    "    os.path.join(seed_corr_dir, '{}_{}_cifti.dscalar.nii'.format(subid, struct))])\n",
    "\n",
    "run_vis_map(result_map, result_prefix, result_type)\n",
    "run_seedcorr_peaktable(result_map)"
   ]
  },
  {
   "cell_type": "code",
   "execution_count": 107,
   "metadata": {
    "collapsed": true
   },
   "outputs": [],
   "source": [
    "result_map = seed_corr_default_out(func_cifti_smoothed, os.path.join(new_outputs, 'rois', 'gaussian_roi.dscalar.nii'))\n",
    "result_type = 'cifti'\n",
    "result_prefix = '{}_gaussian_ciftitocifti_unmasked'.format(subid)\n"
   ]
  },
  {
   "cell_type": "code",
   "execution_count": 108,
   "metadata": {},
   "outputs": [
    {
     "name": "stderr",
     "output_type": "stream",
     "text": [
      "Running: ciftify_seed_corr --weighted /home/edickie/Documents/ciftify_tests/run_2017-09-08/hcp/sub-50005/MNINonLinear/Results/rest_test1/rest_test1_Atlas_s12.dtseries.nii /home/edickie/Documents/ciftify_tests/run_2017-09-08/rois/gaussian_roi.dscalar.nii\n",
      "Running: ciftify_seed_corr --weighted /home/edickie/Documents/ciftify_tests/run_2017-09-08/hcp/sub-50005/MNINonLinear/Results/rest_test1/rest_test1_Atlas_s12.dtseries.nii /home/edickie/Documents/ciftify_tests/run_2017-09-08/rois/gaussian_roi.dscalar.nii\n"
     ]
    },
    {
     "data": {
      "text/plain": [
       "0"
      ]
     },
     "execution_count": 108,
     "metadata": {},
     "output_type": "execute_result"
    }
   ],
   "source": [
    "run(['ciftify_seed_corr', '--weighted', func_cifti_smoothed, \n",
    "     os.path.join(new_outputs, 'rois', 'gaussian_roi.dscalar.nii')])"
   ]
  },
  {
   "cell_type": "code",
   "execution_count": 109,
   "metadata": {},
   "outputs": [
    {
     "name": "stderr",
     "output_type": "stream",
     "text": [
      "Running: cifti_vis_map cifti-snaps --hcp-data-dir /home/edickie/Documents/ciftify_tests/run_2017-09-08/hcp /home/edickie/Documents/ciftify_tests/run_2017-09-08/hcp/sub-50005/MNINonLinear/Results/rest_test1/rest_test1_Atlas_s12_gaussian_roi.dscalar.nii sub-50005 sub-50005_gaussian_ciftitocifti_unmasked\n",
      "Running: cifti_vis_map cifti-snaps --hcp-data-dir /home/edickie/Documents/ciftify_tests/run_2017-09-08/hcp /home/edickie/Documents/ciftify_tests/run_2017-09-08/hcp/sub-50005/MNINonLinear/Results/rest_test1/rest_test1_Atlas_s12_gaussian_roi.dscalar.nii sub-50005 sub-50005_gaussian_ciftitocifti_unmasked\n",
      "Running: ciftify_peaktable --min-threshold -0.5 --max-threshold 0.5 --no-cluster-dlabel /home/edickie/Documents/ciftify_tests/run_2017-09-08/hcp/sub-50005/MNINonLinear/Results/rest_test1/rest_test1_Atlas_s12_gaussian_roi.dscalar.nii\n",
      "Running: ciftify_peaktable --min-threshold -0.5 --max-threshold 0.5 --no-cluster-dlabel /home/edickie/Documents/ciftify_tests/run_2017-09-08/hcp/sub-50005/MNINonLinear/Results/rest_test1/rest_test1_Atlas_s12_gaussian_roi.dscalar.nii\n"
     ]
    }
   ],
   "source": [
    "run_vis_map(result_map, result_prefix, result_type)\n",
    "run_seedcorr_peaktable(result_map)"
   ]
  },
  {
   "cell_type": "code",
   "execution_count": 110,
   "metadata": {
    "collapsed": true
   },
   "outputs": [],
   "source": [
    "result_map = os.path.join(seed_corr_dir, '{}_gaussian_ciftitocifti_masked.dscalar.nii'.format(subid))\n",
    "result_type = 'cifti'\n",
    "result_prefix = '{}_gaussian_ciftitocifti_masked'.format(subid)"
   ]
  },
  {
   "cell_type": "code",
   "execution_count": 111,
   "metadata": {},
   "outputs": [
    {
     "name": "stderr",
     "output_type": "stream",
     "text": [
      "Running: ciftify_seed_corr --weighted --outputname /home/edickie/Documents/ciftify_tests/run_2017-09-08/ciftify_seed_corr/sub-50005_gaussian_ciftitocifti_masked.dscalar.nii --mask /home/edickie/Documents/ciftify_tests/run_2017-09-08/ciftify_seed_corr/sub-50005_func_mask.dscalar.nii /home/edickie/Documents/ciftify_tests/run_2017-09-08/hcp/sub-50005/MNINonLinear/Results/rest_test1/rest_test1_Atlas_s12.dtseries.nii /home/edickie/Documents/ciftify_tests/run_2017-09-08/rois/gaussian_roi.dscalar.nii\n",
      "Running: ciftify_seed_corr --weighted --outputname /home/edickie/Documents/ciftify_tests/run_2017-09-08/ciftify_seed_corr/sub-50005_gaussian_ciftitocifti_masked.dscalar.nii --mask /home/edickie/Documents/ciftify_tests/run_2017-09-08/ciftify_seed_corr/sub-50005_func_mask.dscalar.nii /home/edickie/Documents/ciftify_tests/run_2017-09-08/hcp/sub-50005/MNINonLinear/Results/rest_test1/rest_test1_Atlas_s12.dtseries.nii /home/edickie/Documents/ciftify_tests/run_2017-09-08/rois/gaussian_roi.dscalar.nii\n"
     ]
    },
    {
     "data": {
      "text/plain": [
       "0"
      ]
     },
     "execution_count": 111,
     "metadata": {},
     "output_type": "execute_result"
    }
   ],
   "source": [
    "run(['ciftify_seed_corr', '--weighted', \n",
    "     '--outputname', result_map,\n",
    "     '--mask', cifti_mask,\n",
    "     func_cifti_smoothed, \n",
    "     os.path.join(new_outputs, 'rois', 'gaussian_roi.dscalar.nii')])"
   ]
  },
  {
   "cell_type": "code",
   "execution_count": 112,
   "metadata": {},
   "outputs": [
    {
     "name": "stderr",
     "output_type": "stream",
     "text": [
      "Running: cifti_vis_map cifti-snaps --hcp-data-dir /home/edickie/Documents/ciftify_tests/run_2017-09-08/hcp /home/edickie/Documents/ciftify_tests/run_2017-09-08/ciftify_seed_corr/sub-50005_gaussian_ciftitocifti_masked.dscalar.nii sub-50005 sub-50005_gaussian_ciftitocifti_masked\n",
      "Running: cifti_vis_map cifti-snaps --hcp-data-dir /home/edickie/Documents/ciftify_tests/run_2017-09-08/hcp /home/edickie/Documents/ciftify_tests/run_2017-09-08/ciftify_seed_corr/sub-50005_gaussian_ciftitocifti_masked.dscalar.nii sub-50005 sub-50005_gaussian_ciftitocifti_masked\n",
      "Running: ciftify_peaktable --min-threshold -0.5 --max-threshold 0.5 --no-cluster-dlabel /home/edickie/Documents/ciftify_tests/run_2017-09-08/ciftify_seed_corr/sub-50005_gaussian_ciftitocifti_masked.dscalar.nii\n",
      "Running: ciftify_peaktable --min-threshold -0.5 --max-threshold 0.5 --no-cluster-dlabel /home/edickie/Documents/ciftify_tests/run_2017-09-08/ciftify_seed_corr/sub-50005_gaussian_ciftitocifti_masked.dscalar.nii\n"
     ]
    }
   ],
   "source": [
    "run_vis_map(result_map, result_prefix, result_type)\n",
    "run_seedcorr_peaktable(result_map)"
   ]
  },
  {
   "cell_type": "code",
   "execution_count": 113,
   "metadata": {},
   "outputs": [
    {
     "name": "stderr",
     "output_type": "stream",
     "text": [
      "Running: wb_command -cifti-separate /home/edickie/Documents/ciftify_tests/run_2017-09-08/rois/gaussian_roi.dscalar.nii COLUMN -metric CORTEX_LEFT /home/edickie/Documents/ciftify_tests/run_2017-09-08/rois/gaussian_L_roi.shape.gii\n",
      "Running: wb_command -cifti-separate /home/edickie/Documents/ciftify_tests/run_2017-09-08/rois/gaussian_roi.dscalar.nii COLUMN -metric CORTEX_LEFT /home/edickie/Documents/ciftify_tests/run_2017-09-08/rois/gaussian_L_roi.shape.gii\n",
      "Running: ciftify_seed_corr --weighted --hemi L /home/edickie/Documents/ciftify_tests/run_2017-09-08/hcp/sub-50005/MNINonLinear/Results/rest_test1/rest_test1_Atlas_s12.dtseries.nii /home/edickie/Documents/ciftify_tests/run_2017-09-08/rois/gaussian_L_roi.shape.gii\n",
      "Running: ciftify_seed_corr --weighted --hemi L /home/edickie/Documents/ciftify_tests/run_2017-09-08/hcp/sub-50005/MNINonLinear/Results/rest_test1/rest_test1_Atlas_s12.dtseries.nii /home/edickie/Documents/ciftify_tests/run_2017-09-08/rois/gaussian_L_roi.shape.gii\n"
     ]
    },
    {
     "data": {
      "text/plain": [
       "0"
      ]
     },
     "execution_count": 113,
     "metadata": {},
     "output_type": "execute_result"
    }
   ],
   "source": [
    "L_gaussian_roi = os.path.join(new_outputs, 'rois', 'gaussian_L_roi.shape.gii')\n",
    "\n",
    "result_map = seed_corr_default_out(func_cifti_smoothed, L_gaussian_roi)\n",
    "result_type = 'cifti'\n",
    "result_prefix = '{}_gaussian_giftitocifti_unmasked'.format(subid)\n",
    "\n",
    "\n",
    "run(['wb_command', '-cifti-separate', \n",
    "     os.path.join(new_outputs, 'rois', 'gaussian_roi.dscalar.nii'),\n",
    "     'COLUMN','-metric', 'CORTEX_LEFT', L_gaussian_roi])\n",
    "run(['ciftify_seed_corr', '--weighted', '--hemi', 'L', \n",
    "     func_cifti_smoothed, \n",
    "     L_gaussian_roi])"
   ]
  },
  {
   "cell_type": "code",
   "execution_count": 114,
   "metadata": {},
   "outputs": [
    {
     "name": "stderr",
     "output_type": "stream",
     "text": [
      "Running: cifti_vis_map cifti-snaps --hcp-data-dir /home/edickie/Documents/ciftify_tests/run_2017-09-08/hcp /home/edickie/Documents/ciftify_tests/run_2017-09-08/hcp/sub-50005/MNINonLinear/Results/rest_test1/rest_test1_Atlas_s12_gaussian_L_roi.dscalar.nii sub-50005 sub-50005_gaussian_giftitocifti_unmasked\n",
      "Running: cifti_vis_map cifti-snaps --hcp-data-dir /home/edickie/Documents/ciftify_tests/run_2017-09-08/hcp /home/edickie/Documents/ciftify_tests/run_2017-09-08/hcp/sub-50005/MNINonLinear/Results/rest_test1/rest_test1_Atlas_s12_gaussian_L_roi.dscalar.nii sub-50005 sub-50005_gaussian_giftitocifti_unmasked\n",
      "Running: ciftify_peaktable --min-threshold -0.5 --max-threshold 0.5 --no-cluster-dlabel /home/edickie/Documents/ciftify_tests/run_2017-09-08/hcp/sub-50005/MNINonLinear/Results/rest_test1/rest_test1_Atlas_s12_gaussian_L_roi.dscalar.nii\n",
      "Running: ciftify_peaktable --min-threshold -0.5 --max-threshold 0.5 --no-cluster-dlabel /home/edickie/Documents/ciftify_tests/run_2017-09-08/hcp/sub-50005/MNINonLinear/Results/rest_test1/rest_test1_Atlas_s12_gaussian_L_roi.dscalar.nii\n"
     ]
    }
   ],
   "source": [
    "run_vis_map(result_map, result_prefix, result_type)\n",
    "run_seedcorr_peaktable(result_map)"
   ]
  },
  {
   "cell_type": "code",
   "execution_count": 115,
   "metadata": {
    "collapsed": true
   },
   "outputs": [],
   "source": [
    "result_map = os.path.join(seed_corr_dir, '{}_gaussian_giftitocifti_masked.dscalar.nii'.format(subid))\n",
    "result_type = 'cifti'\n",
    "result_prefix = '{}_gaussian_giftitocifti_masked.dscalar.nii'.format(subid)"
   ]
  },
  {
   "cell_type": "code",
   "execution_count": 116,
   "metadata": {},
   "outputs": [
    {
     "name": "stderr",
     "output_type": "stream",
     "text": [
      "Running: ciftify_seed_corr --weighted --hemi L --outputname /home/edickie/Documents/ciftify_tests/run_2017-09-08/ciftify_seed_corr/sub-50005_gaussian_giftitocifti_masked.dscalar.nii --mask /home/edickie/Documents/ciftify_tests/run_2017-09-08/ciftify_seed_corr/sub-50005_func_mask.dscalar.nii /home/edickie/Documents/ciftify_tests/run_2017-09-08/hcp/sub-50005/MNINonLinear/Results/rest_test1/rest_test1_Atlas_s12.dtseries.nii /home/edickie/Documents/ciftify_tests/run_2017-09-08/rois/gaussian_L_roi.shape.gii\n",
      "Running: ciftify_seed_corr --weighted --hemi L --outputname /home/edickie/Documents/ciftify_tests/run_2017-09-08/ciftify_seed_corr/sub-50005_gaussian_giftitocifti_masked.dscalar.nii --mask /home/edickie/Documents/ciftify_tests/run_2017-09-08/ciftify_seed_corr/sub-50005_func_mask.dscalar.nii /home/edickie/Documents/ciftify_tests/run_2017-09-08/hcp/sub-50005/MNINonLinear/Results/rest_test1/rest_test1_Atlas_s12.dtseries.nii /home/edickie/Documents/ciftify_tests/run_2017-09-08/rois/gaussian_L_roi.shape.gii\n"
     ]
    },
    {
     "data": {
      "text/plain": [
       "0"
      ]
     },
     "execution_count": 116,
     "metadata": {},
     "output_type": "execute_result"
    }
   ],
   "source": [
    "run(['ciftify_seed_corr', '--weighted', '--hemi', 'L', \n",
    "     '--outputname', os.path.join(seed_corr_dir, '{}_gaussian_giftitocifti_masked.dscalar.nii'.format(subid)),\n",
    "     '--mask', cifti_mask,\n",
    "     func_cifti_smoothed, \n",
    "     L_gaussian_roi])"
   ]
  },
  {
   "cell_type": "code",
   "execution_count": 117,
   "metadata": {},
   "outputs": [
    {
     "name": "stderr",
     "output_type": "stream",
     "text": [
      "Running: cifti_vis_map cifti-snaps --hcp-data-dir /home/edickie/Documents/ciftify_tests/run_2017-09-08/hcp /home/edickie/Documents/ciftify_tests/run_2017-09-08/ciftify_seed_corr/sub-50005_gaussian_giftitocifti_masked.dscalar.nii sub-50005 sub-50005_gaussian_giftitocifti_masked.dscalar.nii\n",
      "Running: cifti_vis_map cifti-snaps --hcp-data-dir /home/edickie/Documents/ciftify_tests/run_2017-09-08/hcp /home/edickie/Documents/ciftify_tests/run_2017-09-08/ciftify_seed_corr/sub-50005_gaussian_giftitocifti_masked.dscalar.nii sub-50005 sub-50005_gaussian_giftitocifti_masked.dscalar.nii\n",
      "Running: ciftify_peaktable --min-threshold -0.5 --max-threshold 0.5 --no-cluster-dlabel /home/edickie/Documents/ciftify_tests/run_2017-09-08/ciftify_seed_corr/sub-50005_gaussian_giftitocifti_masked.dscalar.nii\n",
      "Running: ciftify_peaktable --min-threshold -0.5 --max-threshold 0.5 --no-cluster-dlabel /home/edickie/Documents/ciftify_tests/run_2017-09-08/ciftify_seed_corr/sub-50005_gaussian_giftitocifti_masked.dscalar.nii\n"
     ]
    }
   ],
   "source": [
    "run_vis_map(result_map, result_prefix, result_type)\n",
    "run_seedcorr_peaktable(result_map)"
   ]
  },
  {
   "cell_type": "code",
   "execution_count": 118,
   "metadata": {
    "collapsed": true
   },
   "outputs": [],
   "source": [
    "result_map = seed_corr_default_out(func_cifti_smoothed, os.path.join(new_outputs, 'rois', 'probmap_roi.dscalar.nii'))\n",
    "result_type = 'cifti'\n",
    "result_prefix = '{}_promap_ciftitocifti_unmasked.dscalar.nii'.format(subid)"
   ]
  },
  {
   "cell_type": "code",
   "execution_count": 119,
   "metadata": {},
   "outputs": [
    {
     "name": "stderr",
     "output_type": "stream",
     "text": [
      "Running: ciftify_seed_corr --weighted /home/edickie/Documents/ciftify_tests/run_2017-09-08/hcp/sub-50005/MNINonLinear/Results/rest_test1/rest_test1_Atlas_s12.dtseries.nii /home/edickie/Documents/ciftify_tests/run_2017-09-08/rois/probmap_roi.dscalar.nii\n",
      "Running: ciftify_seed_corr --weighted /home/edickie/Documents/ciftify_tests/run_2017-09-08/hcp/sub-50005/MNINonLinear/Results/rest_test1/rest_test1_Atlas_s12.dtseries.nii /home/edickie/Documents/ciftify_tests/run_2017-09-08/rois/probmap_roi.dscalar.nii\n"
     ]
    },
    {
     "data": {
      "text/plain": [
       "0"
      ]
     },
     "execution_count": 119,
     "metadata": {},
     "output_type": "execute_result"
    }
   ],
   "source": [
    "run(['ciftify_seed_corr', '--weighted', func_cifti_smoothed, \n",
    "     os.path.join(new_outputs, 'rois', 'probmap_roi.dscalar.nii')])"
   ]
  },
  {
   "cell_type": "code",
   "execution_count": 120,
   "metadata": {},
   "outputs": [
    {
     "name": "stderr",
     "output_type": "stream",
     "text": [
      "Running: cifti_vis_map cifti-snaps --hcp-data-dir /home/edickie/Documents/ciftify_tests/run_2017-09-08/hcp /home/edickie/Documents/ciftify_tests/run_2017-09-08/hcp/sub-50005/MNINonLinear/Results/rest_test1/rest_test1_Atlas_s12_probmap_roi.dscalar.nii sub-50005 sub-50005_promap_ciftitocifti_unmasked.dscalar.nii\n",
      "Running: cifti_vis_map cifti-snaps --hcp-data-dir /home/edickie/Documents/ciftify_tests/run_2017-09-08/hcp /home/edickie/Documents/ciftify_tests/run_2017-09-08/hcp/sub-50005/MNINonLinear/Results/rest_test1/rest_test1_Atlas_s12_probmap_roi.dscalar.nii sub-50005 sub-50005_promap_ciftitocifti_unmasked.dscalar.nii\n",
      "Running: ciftify_peaktable --min-threshold -0.5 --max-threshold 0.5 --no-cluster-dlabel /home/edickie/Documents/ciftify_tests/run_2017-09-08/hcp/sub-50005/MNINonLinear/Results/rest_test1/rest_test1_Atlas_s12_probmap_roi.dscalar.nii\n",
      "Running: ciftify_peaktable --min-threshold -0.5 --max-threshold 0.5 --no-cluster-dlabel /home/edickie/Documents/ciftify_tests/run_2017-09-08/hcp/sub-50005/MNINonLinear/Results/rest_test1/rest_test1_Atlas_s12_probmap_roi.dscalar.nii\n"
     ]
    }
   ],
   "source": [
    "run_vis_map(result_map, result_prefix, result_type)\n",
    "run_seedcorr_peaktable(result_map)"
   ]
  },
  {
   "cell_type": "code",
   "execution_count": 121,
   "metadata": {
    "collapsed": true
   },
   "outputs": [],
   "source": [
    "result_map = os.path.join(seed_corr_dir, '{}_promap_ciftitocifti_masked.dscalar.nii'.format(subid))\n",
    "result_type = 'cifti'\n",
    "result_prefix = '{}_promap_ciftitocifti_masked.dscalar.nii'.format(subid)"
   ]
  },
  {
   "cell_type": "code",
   "execution_count": 122,
   "metadata": {},
   "outputs": [
    {
     "name": "stderr",
     "output_type": "stream",
     "text": [
      "Running: ciftify_seed_corr --weighted --outputname /home/edickie/Documents/ciftify_tests/run_2017-09-08/ciftify_seed_corr/sub-50005_promap_ciftitocifti_masked.dscalar.nii --mask /home/edickie/Documents/ciftify_tests/run_2017-09-08/ciftify_seed_corr/sub-50005_func_mask.dscalar.nii /home/edickie/Documents/ciftify_tests/run_2017-09-08/hcp/sub-50005/MNINonLinear/Results/rest_test1/rest_test1_Atlas_s12.dtseries.nii /home/edickie/Documents/ciftify_tests/run_2017-09-08/rois/probmap_roi.dscalar.nii\n",
      "Running: ciftify_seed_corr --weighted --outputname /home/edickie/Documents/ciftify_tests/run_2017-09-08/ciftify_seed_corr/sub-50005_promap_ciftitocifti_masked.dscalar.nii --mask /home/edickie/Documents/ciftify_tests/run_2017-09-08/ciftify_seed_corr/sub-50005_func_mask.dscalar.nii /home/edickie/Documents/ciftify_tests/run_2017-09-08/hcp/sub-50005/MNINonLinear/Results/rest_test1/rest_test1_Atlas_s12.dtseries.nii /home/edickie/Documents/ciftify_tests/run_2017-09-08/rois/probmap_roi.dscalar.nii\n"
     ]
    },
    {
     "data": {
      "text/plain": [
       "0"
      ]
     },
     "execution_count": 122,
     "metadata": {},
     "output_type": "execute_result"
    }
   ],
   "source": [
    "run(['ciftify_seed_corr', '--weighted', \n",
    "     '--outputname', result_map,\n",
    "     '--mask', cifti_mask,\n",
    "     func_cifti_smoothed, \n",
    "     os.path.join(new_outputs, 'rois', 'probmap_roi.dscalar.nii')])"
   ]
  },
  {
   "cell_type": "code",
   "execution_count": 123,
   "metadata": {},
   "outputs": [
    {
     "name": "stderr",
     "output_type": "stream",
     "text": [
      "Running: cifti_vis_map cifti-snaps --hcp-data-dir /home/edickie/Documents/ciftify_tests/run_2017-09-08/hcp /home/edickie/Documents/ciftify_tests/run_2017-09-08/ciftify_seed_corr/sub-50005_promap_ciftitocifti_masked.dscalar.nii sub-50005 sub-50005_promap_ciftitocifti_masked.dscalar.nii\n",
      "Running: cifti_vis_map cifti-snaps --hcp-data-dir /home/edickie/Documents/ciftify_tests/run_2017-09-08/hcp /home/edickie/Documents/ciftify_tests/run_2017-09-08/ciftify_seed_corr/sub-50005_promap_ciftitocifti_masked.dscalar.nii sub-50005 sub-50005_promap_ciftitocifti_masked.dscalar.nii\n",
      "Running: ciftify_peaktable --min-threshold -0.5 --max-threshold 0.5 --no-cluster-dlabel /home/edickie/Documents/ciftify_tests/run_2017-09-08/ciftify_seed_corr/sub-50005_promap_ciftitocifti_masked.dscalar.nii\n",
      "Running: ciftify_peaktable --min-threshold -0.5 --max-threshold 0.5 --no-cluster-dlabel /home/edickie/Documents/ciftify_tests/run_2017-09-08/ciftify_seed_corr/sub-50005_promap_ciftitocifti_masked.dscalar.nii\n"
     ]
    }
   ],
   "source": [
    "run_vis_map(result_map, result_prefix, result_type)\n",
    "run_seedcorr_peaktable(result_map)"
   ]
  },
  {
   "cell_type": "code",
   "execution_count": 124,
   "metadata": {},
   "outputs": [
    {
     "name": "stderr",
     "output_type": "stream",
     "text": [
      "Running: wb_command -cifti-separate /home/edickie/Documents/ciftify_tests/run_2017-09-08/rois/probmap_roi.dscalar.nii COLUMN -metric CORTEX_RIGHT /home/edickie/Documents/ciftify_tests/run_2017-09-08/rois/probmap_R_roi.shape.gii\n",
      "Running: wb_command -cifti-separate /home/edickie/Documents/ciftify_tests/run_2017-09-08/rois/probmap_roi.dscalar.nii COLUMN -metric CORTEX_RIGHT /home/edickie/Documents/ciftify_tests/run_2017-09-08/rois/probmap_R_roi.shape.gii\n",
      "Running: ciftify_seed_corr --weighted --hemi R /home/edickie/Documents/ciftify_tests/run_2017-09-08/hcp/sub-50005/MNINonLinear/Results/rest_test1/rest_test1_Atlas_s12.dtseries.nii /home/edickie/Documents/ciftify_tests/run_2017-09-08/rois/probmap_R_roi.shape.gii\n",
      "Running: ciftify_seed_corr --weighted --hemi R /home/edickie/Documents/ciftify_tests/run_2017-09-08/hcp/sub-50005/MNINonLinear/Results/rest_test1/rest_test1_Atlas_s12.dtseries.nii /home/edickie/Documents/ciftify_tests/run_2017-09-08/rois/probmap_R_roi.shape.gii\n"
     ]
    },
    {
     "data": {
      "text/plain": [
       "0"
      ]
     },
     "execution_count": 124,
     "metadata": {},
     "output_type": "execute_result"
    }
   ],
   "source": [
    "R_probmap_roi = os.path.join(new_outputs, 'rois', 'probmap_R_roi.shape.gii')\n",
    "result_map = seed_corr_default_out(func_cifti_smoothed, R_probmap_roi) \n",
    "result_type = 'cifti'\n",
    "result_prefix = '{}_promap_giftitocifti_unmasked.dscalar.nii'.format(subid)\n",
    "                                   \n",
    "run(['wb_command', '-cifti-separate', \n",
    "     os.path.join(new_outputs, 'rois', 'probmap_roi.dscalar.nii'),\n",
    "     'COLUMN','-metric', 'CORTEX_RIGHT', R_probmap_roi])\n",
    "run(['ciftify_seed_corr', '--weighted', '--hemi', 'R', func_cifti_smoothed, \n",
    "     R_probmap_roi])"
   ]
  },
  {
   "cell_type": "code",
   "execution_count": 125,
   "metadata": {
    "collapsed": true
   },
   "outputs": [],
   "source": [
    "result_map = os.path.join(seed_corr_dir, '{}_promap_giftitocifti_masked.dscalar.nii'.format(subid))\n",
    "result_type = 'cifti'\n",
    "result_prefix = '{}_promap_giftitocifti_masked.dscalar.nii'.format(subid)"
   ]
  },
  {
   "cell_type": "code",
   "execution_count": 126,
   "metadata": {},
   "outputs": [
    {
     "name": "stderr",
     "output_type": "stream",
     "text": [
      "Running: ciftify_seed_corr --weighted --hemi R --outputname /home/edickie/Documents/ciftify_tests/run_2017-09-08/ciftify_seed_corr/sub-50005_promap_giftitocifti_masked.dscalar.nii --mask /home/edickie/Documents/ciftify_tests/run_2017-09-08/ciftify_seed_corr/sub-50005_func_mask.dscalar.nii /home/edickie/Documents/ciftify_tests/run_2017-09-08/hcp/sub-50005/MNINonLinear/Results/rest_test1/rest_test1_Atlas_s12.dtseries.nii /home/edickie/Documents/ciftify_tests/run_2017-09-08/rois/probmap_R_roi.shape.gii\n",
      "Running: ciftify_seed_corr --weighted --hemi R --outputname /home/edickie/Documents/ciftify_tests/run_2017-09-08/ciftify_seed_corr/sub-50005_promap_giftitocifti_masked.dscalar.nii --mask /home/edickie/Documents/ciftify_tests/run_2017-09-08/ciftify_seed_corr/sub-50005_func_mask.dscalar.nii /home/edickie/Documents/ciftify_tests/run_2017-09-08/hcp/sub-50005/MNINonLinear/Results/rest_test1/rest_test1_Atlas_s12.dtseries.nii /home/edickie/Documents/ciftify_tests/run_2017-09-08/rois/probmap_R_roi.shape.gii\n"
     ]
    },
    {
     "data": {
      "text/plain": [
       "0"
      ]
     },
     "execution_count": 126,
     "metadata": {},
     "output_type": "execute_result"
    }
   ],
   "source": [
    "run(['ciftify_seed_corr', '--weighted', '--hemi', 'R', \n",
    "     '--outputname', os.path.join(seed_corr_dir, '{}_promap_giftitocifti_masked.dscalar.nii'.format(subid)),\n",
    "     '--mask', cifti_mask,    \n",
    "     func_cifti_smoothed, \n",
    "     R_probmap_roi])"
   ]
  },
  {
   "cell_type": "code",
   "execution_count": 127,
   "metadata": {},
   "outputs": [
    {
     "name": "stderr",
     "output_type": "stream",
     "text": [
      "Running: cifti_vis_map cifti-snaps --hcp-data-dir /home/edickie/Documents/ciftify_tests/run_2017-09-08/hcp /home/edickie/Documents/ciftify_tests/run_2017-09-08/ciftify_seed_corr/sub-50005_promap_giftitocifti_masked.dscalar.nii sub-50005 sub-50005_promap_giftitocifti_masked.dscalar.nii\n",
      "Running: cifti_vis_map cifti-snaps --hcp-data-dir /home/edickie/Documents/ciftify_tests/run_2017-09-08/hcp /home/edickie/Documents/ciftify_tests/run_2017-09-08/ciftify_seed_corr/sub-50005_promap_giftitocifti_masked.dscalar.nii sub-50005 sub-50005_promap_giftitocifti_masked.dscalar.nii\n",
      "Running: ciftify_peaktable --min-threshold -0.5 --max-threshold 0.5 --no-cluster-dlabel /home/edickie/Documents/ciftify_tests/run_2017-09-08/ciftify_seed_corr/sub-50005_promap_giftitocifti_masked.dscalar.nii\n",
      "Running: ciftify_peaktable --min-threshold -0.5 --max-threshold 0.5 --no-cluster-dlabel /home/edickie/Documents/ciftify_tests/run_2017-09-08/ciftify_seed_corr/sub-50005_promap_giftitocifti_masked.dscalar.nii\n"
     ]
    }
   ],
   "source": [
    "run_vis_map(result_map, result_prefix, result_type)\n",
    "run_seedcorr_peaktable(result_map)"
   ]
  },
  {
   "cell_type": "code",
   "execution_count": 128,
   "metadata": {
    "collapsed": true
   },
   "outputs": [],
   "source": [
    "result_map = seed_corr_default_out(func_cifti_smoothed, os.path.join(new_outputs, 'rois', 'tvertex.dscalar.nii'))\n",
    "result_type = 'cifti'\n",
    "result_prefix = '{}_tvertex7_ciftitocifti_unmasked.dscalar.nii'.format(subid)\n",
    "\n",
    "run(['ciftify_seed_corr', '--roi-label', '7', func_cifti_smoothed, \n",
    "     os.path.join(new_outputs, 'rois', 'tvertex.dscalar.nii')])\n",
    "\n",
    "run_vis_map(result_map, result_prefix, result_type)\n",
    "run_seedcorr_peaktable(result_map)"
   ]
  },
  {
   "cell_type": "code",
   "execution_count": 131,
   "metadata": {
    "collapsed": true
   },
   "outputs": [],
   "source": [
    "result_map = os.path.join(seed_corr_dir, '{}_tvertex7_ciftitocifti_masked.dscalar.nii'.format(subid))\n",
    "result_type = 'cifti'\n",
    "result_prefix = '{}_tvertex7_ciftitocifti_masked.dscalar.nii'.format(subid)\n",
    "\n",
    "run(['ciftify_seed_corr', '--roi-label', '7', \n",
    "     '--outputname', result_map,\n",
    "     '--mask', cifti_mask, \n",
    "     func_cifti_smoothed, \n",
    "     os.path.join(new_outputs, 'rois', 'tvertex.dscalar.nii')])\n",
    "\n",
    "run_vis_map(result_map, result_prefix, result_type)\n",
    "run_seedcorr_peaktable(result_map)"
   ]
  },
  {
   "cell_type": "code",
   "execution_count": 134,
   "metadata": {},
   "outputs": [
    {
     "name": "stderr",
     "output_type": "stream",
     "text": [
      "Running: wb_command -cifti-separate /home/edickie/Documents/ciftify_tests/run_2017-09-08/rois/tvertex.dscalar.nii COLUMN -metric CORTEX_RIGHT /home/edickie/Documents/ciftify_tests/run_2017-09-08/rois/tvertex_R_roi.shape.gii\n",
      "Running: wb_command -cifti-separate /home/edickie/Documents/ciftify_tests/run_2017-09-08/rois/tvertex.dscalar.nii COLUMN -metric CORTEX_RIGHT /home/edickie/Documents/ciftify_tests/run_2017-09-08/rois/tvertex_R_roi.shape.gii\n",
      "Running: ciftify_seed_corr --roi-label 7 --hemi R /home/edickie/Documents/ciftify_tests/run_2017-09-08/hcp/sub-50005/MNINonLinear/Results/rest_test1/rest_test1_Atlas_s12.dtseries.nii /home/edickie/Documents/ciftify_tests/run_2017-09-08/rois/tvertex_R_roi.shape.gii\n",
      "Running: ciftify_seed_corr --roi-label 7 --hemi R /home/edickie/Documents/ciftify_tests/run_2017-09-08/hcp/sub-50005/MNINonLinear/Results/rest_test1/rest_test1_Atlas_s12.dtseries.nii /home/edickie/Documents/ciftify_tests/run_2017-09-08/rois/tvertex_R_roi.shape.gii\n"
     ]
    },
    {
     "data": {
      "text/plain": [
       "0"
      ]
     },
     "execution_count": 134,
     "metadata": {},
     "output_type": "execute_result"
    }
   ],
   "source": [
    "R_tvertex_roi = os.path.join(new_outputs, 'rois', 'tvertex_R_roi.shape.gii')\n",
    "result_map = seed_corr_default_out(func_cifti_smoothed, R_tvertex_roi)\n",
    "result_type = 'cifti'\n",
    "result_prefix = '{}_tvertex7_giftitocifti_umasked.dscalar.nii'.format(subid)\n",
    "\n",
    "\n",
    "run(['wb_command', '-cifti-separate', \n",
    "     os.path.join(new_outputs, 'rois', 'tvertex.dscalar.nii'),\n",
    "     'COLUMN','-metric', 'CORTEX_RIGHT', R_tvertex_roi])\n",
    "run(['ciftify_seed_corr', '--roi-label', '7', '--hemi', 'R', \n",
    "     func_cifti_smoothed, R_tvertex_roi])\n",
    "\n",
    "run_vis_map(result_map, result_prefix, result_type)\n",
    "run_seedcorr_peaktable(result_map)"
   ]
  },
  {
   "cell_type": "code",
   "execution_count": 136,
   "metadata": {
    "collapsed": true
   },
   "outputs": [],
   "source": [
    "result_map = os.path.join(seed_corr_dir, '{}_tvertex7_giftitocifti_masked.dscalar.nii'.format(subid))\n",
    "result_type = 'cifti'\n",
    "result_prefix = '{}_tvertex7_giftitocifti_masked.dscalar.nii'.format(subid)\n",
    "\n",
    "run(['ciftify_seed_corr', '--roi-label', '7', '--hemi', 'R', \n",
    "     '--outputname', os.path.join(seed_corr_dir, '{}_tvertex7_giftitocifti_masked.dscalar.nii'.format(subid)),\n",
    "     '--mask', cifti_mask, \n",
    "     func_cifti_smoothed, R_tvertex_roi])\n",
    "\n",
    "run_vis_map(result_map, result_prefix, result_type)\n",
    "run_seedcorr_peaktable(result_map)"
   ]
  },
  {
   "cell_type": "markdown",
   "metadata": {},
   "source": [
    "# ciftify_meants (atlas examples)"
   ]
  },
  {
   "cell_type": "code",
   "execution_count": 139,
   "metadata": {},
   "outputs": [
    {
     "name": "stderr",
     "output_type": "stream",
     "text": [
      "Running: ciftify_meants /home/edickie/Documents/ciftify_tests/run_2017-09-08/hcp/sub-50005/MNINonLinear/Results/rest_test1/rest_test1_Atlas_s0.dtseries.nii /home/edickie/Documents/ciftify_tests/run_2017-09-08/hcp/sub-50005/MNINonLinear/fsaverage_LR32k/sub-50005.aparc.32k_fs_LR.dlabel.nii\n",
      "Running: ciftify_meants /home/edickie/Documents/ciftify_tests/run_2017-09-08/hcp/sub-50005/MNINonLinear/Results/rest_test1/rest_test1_Atlas_s0.dtseries.nii /home/edickie/Documents/ciftify_tests/run_2017-09-08/hcp/sub-50005/MNINonLinear/fsaverage_LR32k/sub-50005.aparc.32k_fs_LR.dlabel.nii\n"
     ]
    },
    {
     "data": {
      "text/plain": [
       "0"
      ]
     },
     "execution_count": 139,
     "metadata": {},
     "output_type": "execute_result"
    }
   ],
   "source": [
    "subject_aparc = os.path.join(hcp_data_dir, subid,\n",
    "                            'MNINonLinear', 'fsaverage_LR32k',\n",
    "                            '{}.aparc.32k_fs_LR.dlabel.nii'.format(subid))\n",
    "subject_thickness = os.path.join(hcp_data_dir, subid,\n",
    "                            'MNINonLinear', 'fsaverage_LR32k',\n",
    "                            '{}.thickness.32k_fs_LR.dscalar.nii'.format(subid))\n",
    "run(['ciftify_meants', func_cifti_sm0, subject_aparc])\n"
   ]
  },
  {
   "cell_type": "code",
   "execution_count": 140,
   "metadata": {},
   "outputs": [
    {
     "name": "stderr",
     "output_type": "stream",
     "text": [
      "Running: ciftify_meants --outputcsv /home/edickie/Documents/ciftify_tests/run_2017-09-08/ciftify_seed_corr/sub-50005_aparc_func_ciftitocifti_masked_meants.csv --mask /home/edickie/Documents/ciftify_tests/run_2017-09-08/ciftify_seed_corr/sub-50005_func_mask.dscalar.nii /home/edickie/Documents/ciftify_tests/run_2017-09-08/hcp/sub-50005/MNINonLinear/Results/rest_test1/rest_test1_Atlas_s0.dtseries.nii /home/edickie/Documents/ciftify_tests/run_2017-09-08/hcp/sub-50005/MNINonLinear/fsaverage_LR32k/sub-50005.aparc.32k_fs_LR.dlabel.nii\n",
      "Running: ciftify_meants --outputcsv /home/edickie/Documents/ciftify_tests/run_2017-09-08/ciftify_seed_corr/sub-50005_aparc_func_ciftitocifti_masked_meants.csv --mask /home/edickie/Documents/ciftify_tests/run_2017-09-08/ciftify_seed_corr/sub-50005_func_mask.dscalar.nii /home/edickie/Documents/ciftify_tests/run_2017-09-08/hcp/sub-50005/MNINonLinear/Results/rest_test1/rest_test1_Atlas_s0.dtseries.nii /home/edickie/Documents/ciftify_tests/run_2017-09-08/hcp/sub-50005/MNINonLinear/fsaverage_LR32k/sub-50005.aparc.32k_fs_LR.dlabel.nii\n"
     ]
    },
    {
     "data": {
      "text/plain": [
       "0"
      ]
     },
     "execution_count": 140,
     "metadata": {},
     "output_type": "execute_result"
    }
   ],
   "source": [
    "run(['ciftify_meants',\n",
    "     '--outputcsv', os.path.join(seed_corr_dir, '{}_aparc_func_ciftitocifti_masked_meants.csv'.format(subid)),\n",
    "     '--mask', cifti_mask, \n",
    "     func_cifti_sm0, subject_aparc])"
   ]
  },
  {
   "cell_type": "code",
   "execution_count": 141,
   "metadata": {},
   "outputs": [
    {
     "name": "stderr",
     "output_type": "stream",
     "text": [
      "Running: ciftify_meants --outputcsv /home/edickie/Documents/ciftify_tests/run_2017-09-08/ciftify_seed_corr/sub-50005_aparc_thickness_ciftitocifti_unmasked_meants.csv --outputlabels /home/edickie/Documents/ciftify_tests/run_2017-09-08/ciftify_seed_corr/sub-50005_aparc_ciftitocifti_unmasked_labels.csv /home/edickie/Documents/ciftify_tests/run_2017-09-08/hcp/sub-50005/MNINonLinear/fsaverage_LR32k/sub-50005.thickness.32k_fs_LR.dscalar.nii /home/edickie/Documents/ciftify_tests/run_2017-09-08/hcp/sub-50005/MNINonLinear/fsaverage_LR32k/sub-50005.aparc.32k_fs_LR.dlabel.nii\n",
      "Running: ciftify_meants --outputcsv /home/edickie/Documents/ciftify_tests/run_2017-09-08/ciftify_seed_corr/sub-50005_aparc_thickness_ciftitocifti_unmasked_meants.csv --outputlabels /home/edickie/Documents/ciftify_tests/run_2017-09-08/ciftify_seed_corr/sub-50005_aparc_ciftitocifti_unmasked_labels.csv /home/edickie/Documents/ciftify_tests/run_2017-09-08/hcp/sub-50005/MNINonLinear/fsaverage_LR32k/sub-50005.thickness.32k_fs_LR.dscalar.nii /home/edickie/Documents/ciftify_tests/run_2017-09-08/hcp/sub-50005/MNINonLinear/fsaverage_LR32k/sub-50005.aparc.32k_fs_LR.dlabel.nii\n",
      "/home/edickie/miniconda3/envs/mripython3.6/lib/python3.6/site-packages/numpy/core/fromnumeric.py:2909: RuntimeWarning: Mean of empty slice.\n",
      "  out=out, **kwargs)\n",
      "/home/edickie/miniconda3/envs/mripython3.6/lib/python3.6/site-packages/numpy/core/_methods.py:73: RuntimeWarning: invalid value encountered in true_divide\n",
      "  ret, rcount, out=ret, casting='unsafe', subok=False)\n",
      "\n",
      "/home/edickie/miniconda3/envs/mripython3.6/lib/python3.6/site-packages/numpy/core/fromnumeric.py:2909: RuntimeWarning: Mean of empty slice.\n",
      "  out=out, **kwargs)\n",
      "/home/edickie/miniconda3/envs/mripython3.6/lib/python3.6/site-packages/numpy/core/_methods.py:73: RuntimeWarning: invalid value encountered in true_divide\n",
      "  ret, rcount, out=ret, casting='unsafe', subok=False)\n",
      "\n"
     ]
    },
    {
     "data": {
      "text/plain": [
       "0"
      ]
     },
     "execution_count": 141,
     "metadata": {},
     "output_type": "execute_result"
    }
   ],
   "source": [
    "run(['ciftify_meants',  \n",
    "     '--outputcsv', os.path.join(seed_corr_dir, \n",
    "                                 '{}_aparc_thickness_ciftitocifti_unmasked_meants.csv'.format(subid)),\n",
    "     '--outputlabels', os.path.join(seed_corr_dir, \n",
    "                                    '{}_aparc_ciftitocifti_unmasked_labels.csv'.format(subid)),\n",
    "         subject_thickness, subject_aparc])"
   ]
  },
  {
   "cell_type": "code",
   "execution_count": 142,
   "metadata": {},
   "outputs": [
    {
     "name": "stderr",
     "output_type": "stream",
     "text": [
      "Running: ciftify_meants --mask /home/edickie/Documents/ciftify_tests/run_2017-09-08/ciftify_seed_corr/sub-50005_func_mask.dscalar.nii --outputcsv /home/edickie/Documents/ciftify_tests/run_2017-09-08/ciftify_seed_corr/sub-50005_aparc_thickness_ciftitocifti_unmasked_meants.csv /home/edickie/Documents/ciftify_tests/run_2017-09-08/hcp/sub-50005/MNINonLinear/fsaverage_LR32k/sub-50005.thickness.32k_fs_LR.dscalar.nii /home/edickie/Documents/ciftify_tests/run_2017-09-08/hcp/sub-50005/MNINonLinear/fsaverage_LR32k/sub-50005.aparc.32k_fs_LR.dlabel.nii\n",
      "Running: ciftify_meants --mask /home/edickie/Documents/ciftify_tests/run_2017-09-08/ciftify_seed_corr/sub-50005_func_mask.dscalar.nii --outputcsv /home/edickie/Documents/ciftify_tests/run_2017-09-08/ciftify_seed_corr/sub-50005_aparc_thickness_ciftitocifti_unmasked_meants.csv /home/edickie/Documents/ciftify_tests/run_2017-09-08/hcp/sub-50005/MNINonLinear/fsaverage_LR32k/sub-50005.thickness.32k_fs_LR.dscalar.nii /home/edickie/Documents/ciftify_tests/run_2017-09-08/hcp/sub-50005/MNINonLinear/fsaverage_LR32k/sub-50005.aparc.32k_fs_LR.dlabel.nii\n",
      "/home/edickie/miniconda3/envs/mripython3.6/lib/python3.6/site-packages/numpy/core/fromnumeric.py:2909: RuntimeWarning: Mean of empty slice.\n",
      "  out=out, **kwargs)\n",
      "/home/edickie/miniconda3/envs/mripython3.6/lib/python3.6/site-packages/numpy/core/_methods.py:73: RuntimeWarning: invalid value encountered in true_divide\n",
      "  ret, rcount, out=ret, casting='unsafe', subok=False)\n",
      "\n",
      "/home/edickie/miniconda3/envs/mripython3.6/lib/python3.6/site-packages/numpy/core/fromnumeric.py:2909: RuntimeWarning: Mean of empty slice.\n",
      "  out=out, **kwargs)\n",
      "/home/edickie/miniconda3/envs/mripython3.6/lib/python3.6/site-packages/numpy/core/_methods.py:73: RuntimeWarning: invalid value encountered in true_divide\n",
      "  ret, rcount, out=ret, casting='unsafe', subok=False)\n",
      "\n"
     ]
    },
    {
     "data": {
      "text/plain": [
       "0"
      ]
     },
     "execution_count": 142,
     "metadata": {},
     "output_type": "execute_result"
    }
   ],
   "source": [
    "run(['ciftify_meants', \n",
    "     '--mask', cifti_mask,\n",
    "     '--outputcsv', os.path.join(seed_corr_dir, \n",
    "                                 '{}_aparc_thickness_ciftitocifti_unmasked_meants.csv'.format(subid)),\n",
    "         subject_thickness, subject_aparc])"
   ]
  },
  {
   "cell_type": "code",
   "execution_count": 143,
   "metadata": {},
   "outputs": [
    {
     "name": "stderr",
     "output_type": "stream",
     "text": [
      "Running: ciftify_meants /home/edickie/Documents/ciftify_tests/run_2017-09-08/hcp/sub-50005/MNINonLinear/Results/rest_test1/rest_test1_Atlas_s0.dtseries.nii /home/edickie/Documents/ciftify_tests/run_2017-09-08/rois/tvertex.dscalar.nii\n",
      "Running: ciftify_meants /home/edickie/Documents/ciftify_tests/run_2017-09-08/hcp/sub-50005/MNINonLinear/Results/rest_test1/rest_test1_Atlas_s0.dtseries.nii /home/edickie/Documents/ciftify_tests/run_2017-09-08/rois/tvertex.dscalar.nii\n"
     ]
    },
    {
     "data": {
      "text/plain": [
       "0"
      ]
     },
     "execution_count": 143,
     "metadata": {},
     "output_type": "execute_result"
    }
   ],
   "source": [
    "run(['ciftify_meants', func_cifti_sm0, \n",
    "     os.path.join(new_outputs, 'rois', 'tvertex.dscalar.nii')])"
   ]
  },
  {
   "cell_type": "code",
   "execution_count": 144,
   "metadata": {},
   "outputs": [
    {
     "name": "stderr",
     "output_type": "stream",
     "text": [
      "Running: ciftify_meants --mask /home/edickie/Documents/ciftify_tests/run_2017-09-08/ciftify_seed_corr/sub-50005_func_mask.dscalar.nii --outputcsv /home/edickie/Documents/ciftify_tests/run_2017-09-08/ciftify_seed_corr/sub-50005_tvertex_func_ciftitocifti_unmasked_meants.csv /home/edickie/Documents/ciftify_tests/run_2017-09-08/hcp/sub-50005/MNINonLinear/Results/rest_test1/rest_test1_Atlas_s0.dtseries.nii /home/edickie/Documents/ciftify_tests/run_2017-09-08/rois/tvertex.dscalar.nii\n",
      "Running: ciftify_meants --mask /home/edickie/Documents/ciftify_tests/run_2017-09-08/ciftify_seed_corr/sub-50005_func_mask.dscalar.nii --outputcsv /home/edickie/Documents/ciftify_tests/run_2017-09-08/ciftify_seed_corr/sub-50005_tvertex_func_ciftitocifti_unmasked_meants.csv /home/edickie/Documents/ciftify_tests/run_2017-09-08/hcp/sub-50005/MNINonLinear/Results/rest_test1/rest_test1_Atlas_s0.dtseries.nii /home/edickie/Documents/ciftify_tests/run_2017-09-08/rois/tvertex.dscalar.nii\n"
     ]
    },
    {
     "data": {
      "text/plain": [
       "0"
      ]
     },
     "execution_count": 144,
     "metadata": {},
     "output_type": "execute_result"
    }
   ],
   "source": [
    "run(['ciftify_meants', \n",
    "     '--mask', cifti_mask,\n",
    "     '--outputcsv', os.path.join(seed_corr_dir, \n",
    "                                 '{}_tvertex_func_ciftitocifti_unmasked_meants.csv'.format(subid)),\n",
    "     func_cifti_sm0, \n",
    "     os.path.join(new_outputs, 'rois', 'tvertex.dscalar.nii')])"
   ]
  },
  {
   "cell_type": "code",
   "execution_count": 153,
   "metadata": {},
   "outputs": [
    {
     "name": "stderr",
     "output_type": "stream",
     "text": [
      "Running: ciftify_vol_result --hcp-data-dir /home/edickie/Documents/ciftify_tests/run_2017-09-08/hcp --integer-labels sub-50005 /home/edickie/Documents/ciftify_tests/run_2017-09-08/hcp/sub-50005/MNINonLinear/wmparc.nii.gz /home/edickie/Documents/ciftify_tests/run_2017-09-08/ciftify_seed_corr/sub-50005_wmparc_MNI_d0.dscalar.nii\n",
      "Running: ciftify_vol_result --hcp-data-dir /home/edickie/Documents/ciftify_tests/run_2017-09-08/hcp --integer-labels sub-50005 /home/edickie/Documents/ciftify_tests/run_2017-09-08/hcp/sub-50005/MNINonLinear/wmparc.nii.gz /home/edickie/Documents/ciftify_tests/run_2017-09-08/ciftify_seed_corr/sub-50005_wmparc_MNI_d0.dscalar.nii\n"
     ]
    },
    {
     "data": {
      "text/plain": [
       "0"
      ]
     },
     "execution_count": 153,
     "metadata": {},
     "output_type": "execute_result"
    }
   ],
   "source": [
    "## project wmparc to subject\n",
    "wmparc_dscalar_d0 = os.path.join(seed_corr_dir, '{}_wmparc_MNI_d0.dscalar.nii'.format(subid))\n",
    "run(['ciftify_vol_result', '--hcp-data-dir', hcp_data_dir,\n",
    "    '--integer-labels', subid, atlas_vol, wmparc_dscalar_d0])"
   ]
  },
  {
   "cell_type": "code",
   "execution_count": 156,
   "metadata": {},
   "outputs": [
    {
     "name": "stderr",
     "output_type": "stream",
     "text": [
      "Running: ciftify_vol_result --hcp-data-dir /home/edickie/Documents/ciftify_tests/run_2017-09-08/hcp --dilate 10 --integer-labels sub-50005 /home/edickie/Documents/ciftify_tests/run_2017-09-08/hcp/sub-50005/MNINonLinear/wmparc.nii.gz /home/edickie/Documents/ciftify_tests/run_2017-09-08/ciftify_seed_corr/sub-50005_wmparc_MNI_d10.dscalar.nii\n",
      "Running: ciftify_vol_result --hcp-data-dir /home/edickie/Documents/ciftify_tests/run_2017-09-08/hcp --dilate 10 --integer-labels sub-50005 /home/edickie/Documents/ciftify_tests/run_2017-09-08/hcp/sub-50005/MNINonLinear/wmparc.nii.gz /home/edickie/Documents/ciftify_tests/run_2017-09-08/ciftify_seed_corr/sub-50005_wmparc_MNI_d10.dscalar.nii\n"
     ]
    },
    {
     "data": {
      "text/plain": [
       "0"
      ]
     },
     "execution_count": 156,
     "metadata": {},
     "output_type": "execute_result"
    }
   ],
   "source": [
    "## project wmparc to subject\n",
    "wmparc_dscalar = os.path.join(seed_corr_dir, '{}_wmparc_MNI_d10.dscalar.nii'.format(subid))\n",
    "run(['ciftify_vol_result', \n",
    "     '--hcp-data-dir', hcp_data_dir,\n",
    "     '--dilate', '10',\n",
    "    '--integer-labels', subid, atlas_vol, wmparc_dscalar])"
   ]
  },
  {
   "cell_type": "code",
   "execution_count": 157,
   "metadata": {},
   "outputs": [
    {
     "name": "stderr",
     "output_type": "stream",
     "text": [
      "Running: ciftify_meants --mask /home/edickie/Documents/ciftify_tests/run_2017-09-08/hcp/sub-50005/MNINonLinear/brainmask_fs.nii.gz --outputcsv /home/edickie/Documents/ciftify_tests/run_2017-09-08/ciftify_seed_corr/sub-50005_wmparc_func_niftitonifti_masked_meants.csv --outputlabels /home/edickie/Documents/ciftify_tests/run_2017-09-08/ciftify_seed_corr/sub-50005_wmparc_func_niftitonifti_masked_labels.csv /home/edickie/Documents/ciftify_tests/run_2017-09-08/hcp/sub-50005/MNINonLinear/Results/rest_test1/rest_test1_Atlas_s0.dtseries.nii /home/edickie/Documents/ciftify_tests/run_2017-09-08/hcp/sub-50005/MNINonLinear/wmparc.nii.gz\n",
      "Running: ciftify_meants --mask /home/edickie/Documents/ciftify_tests/run_2017-09-08/hcp/sub-50005/MNINonLinear/brainmask_fs.nii.gz --outputcsv /home/edickie/Documents/ciftify_tests/run_2017-09-08/ciftify_seed_corr/sub-50005_wmparc_func_niftitonifti_masked_meants.csv --outputlabels /home/edickie/Documents/ciftify_tests/run_2017-09-08/ciftify_seed_corr/sub-50005_wmparc_func_niftitonifti_masked_labels.csv /home/edickie/Documents/ciftify_tests/run_2017-09-08/hcp/sub-50005/MNINonLinear/Results/rest_test1/rest_test1_Atlas_s0.dtseries.nii /home/edickie/Documents/ciftify_tests/run_2017-09-08/hcp/sub-50005/MNINonLinear/wmparc.nii.gz\n",
      "/home/edickie/miniconda3/envs/mripython3.6/lib/python3.6/site-packages/numpy/core/fromnumeric.py:2909: RuntimeWarning: Mean of empty slice.\n",
      "  out=out, **kwargs)\n",
      "/home/edickie/miniconda3/envs/mripython3.6/lib/python3.6/site-packages/numpy/core/_methods.py:73: RuntimeWarning: invalid value encountered in true_divide\n",
      "  ret, rcount, out=ret, casting='unsafe', subok=False)\n",
      "\n",
      "/home/edickie/miniconda3/envs/mripython3.6/lib/python3.6/site-packages/numpy/core/fromnumeric.py:2909: RuntimeWarning: Mean of empty slice.\n",
      "  out=out, **kwargs)\n",
      "/home/edickie/miniconda3/envs/mripython3.6/lib/python3.6/site-packages/numpy/core/_methods.py:73: RuntimeWarning: invalid value encountered in true_divide\n",
      "  ret, rcount, out=ret, casting='unsafe', subok=False)\n",
      "\n"
     ]
    },
    {
     "data": {
      "text/plain": [
       "0"
      ]
     },
     "execution_count": 157,
     "metadata": {},
     "output_type": "execute_result"
    }
   ],
   "source": [
    "run(['ciftify_meants', \n",
    "     '--mask', os.path.join(hcp_data_dir, subid, 'MNINonLinear', 'brainmask_fs.nii.gz'),\n",
    "     '--outputcsv', os.path.join(seed_corr_dir, \n",
    "                                 '{}_wmparc_func_niftitonifti_masked_meants.csv'.format(subid)),\n",
    "     '--outputlabels', os.path.join(seed_corr_dir, \n",
    "                                 '{}_wmparc_func_niftitonifti_masked_labels.csv'.format(subid)),\n",
    "     func_cifti_sm0, atlas_vol])"
   ]
  },
  {
   "cell_type": "code",
   "execution_count": 158,
   "metadata": {},
   "outputs": [
    {
     "name": "stderr",
     "output_type": "stream",
     "text": [
      "Running: ciftify_meants --mask /home/edickie/Documents/ciftify_tests/run_2017-09-08/ciftify_seed_corr/sub-50005_func_mask.dscalar.nii --outputcsv /home/edickie/Documents/ciftify_tests/run_2017-09-08/ciftify_seed_corr/sub-50005_wmparc_func_ciftitocifti_masked_meants.csv --outputlabels /home/edickie/Documents/ciftify_tests/run_2017-09-08/ciftify_seed_corr/sub-50005_wmparc_func_ciftitocifti_masked_labels.csv /home/edickie/Documents/ciftify_tests/run_2017-09-08/hcp/sub-50005/MNINonLinear/Results/rest_test1/rest_test1_Atlas_s0.dtseries.nii /home/edickie/Documents/ciftify_tests/run_2017-09-08/ciftify_seed_corr/sub-50005_wmparc_MNI_d10.dscalar.nii\n",
      "Running: ciftify_meants --mask /home/edickie/Documents/ciftify_tests/run_2017-09-08/ciftify_seed_corr/sub-50005_func_mask.dscalar.nii --outputcsv /home/edickie/Documents/ciftify_tests/run_2017-09-08/ciftify_seed_corr/sub-50005_wmparc_func_ciftitocifti_masked_meants.csv --outputlabels /home/edickie/Documents/ciftify_tests/run_2017-09-08/ciftify_seed_corr/sub-50005_wmparc_func_ciftitocifti_masked_labels.csv /home/edickie/Documents/ciftify_tests/run_2017-09-08/hcp/sub-50005/MNINonLinear/Results/rest_test1/rest_test1_Atlas_s0.dtseries.nii /home/edickie/Documents/ciftify_tests/run_2017-09-08/ciftify_seed_corr/sub-50005_wmparc_MNI_d10.dscalar.nii\n"
     ]
    },
    {
     "data": {
      "text/plain": [
       "0"
      ]
     },
     "execution_count": 158,
     "metadata": {},
     "output_type": "execute_result"
    }
   ],
   "source": [
    "run(['ciftify_meants', \n",
    "     '--mask', cifti_mask,\n",
    "     '--outputcsv', os.path.join(seed_corr_dir, \n",
    "                                 '{}_wmparc_func_ciftitocifti_masked_meants.csv'.format(subid)),\n",
    "     '--outputlabels', os.path.join(seed_corr_dir, \n",
    "                                 '{}_wmparc_func_ciftitocifti_masked_labels.csv'.format(subid)),\n",
    "     func_cifti_sm0, wmparc_dscalar])"
   ]
  },
  {
   "cell_type": "code",
   "execution_count": 163,
   "metadata": {},
   "outputs": [
    {
     "name": "stderr",
     "output_type": "stream",
     "text": [
      "Running: wb_command -cifti-label-import -logging SEVERE /home/edickie/Documents/ciftify_tests/run_2017-09-08/ciftify_seed_corr/sub-50005_wmparc_MNI_d10.dscalar.nii /home/edickie/code/ciftify/ciftify/data/hcp_config/FreeSurferAllLut.txt /home/edickie/Documents/ciftify_tests/run_2017-09-08/ciftify_seed_corr/sub-50005_wmparc_MNI.dlabel.nii\n",
      "Running: wb_command -cifti-label-import -logging SEVERE /home/edickie/Documents/ciftify_tests/run_2017-09-08/ciftify_seed_corr/sub-50005_wmparc_MNI_d10.dscalar.nii /home/edickie/code/ciftify/ciftify/data/hcp_config/FreeSurferAllLut.txt /home/edickie/Documents/ciftify_tests/run_2017-09-08/ciftify_seed_corr/sub-50005_wmparc_MNI.dlabel.nii\n",
      "Running: ciftify_meants --mask /home/edickie/Documents/ciftify_tests/run_2017-09-08/ciftify_seed_corr/sub-50005_func_mask.dscalar.nii --outputcsv /home/edickie/Documents/ciftify_tests/run_2017-09-08/ciftify_seed_corr/sub-50005_wmparc_func_ciftiltocifti_masked_meants.csv --outputlabels /home/edickie/Documents/ciftify_tests/run_2017-09-08/ciftify_seed_corr/sub-50005_wmparc_func_ciftiltocifti_masked_labels.csv /home/edickie/Documents/ciftify_tests/run_2017-09-08/hcp/sub-50005/MNINonLinear/Results/rest_test1/rest_test1_Atlas_s0.dtseries.nii /home/edickie/Documents/ciftify_tests/run_2017-09-08/ciftify_seed_corr/sub-50005_wmparc_MNI.dlabel.nii\n",
      "Running: ciftify_meants --mask /home/edickie/Documents/ciftify_tests/run_2017-09-08/ciftify_seed_corr/sub-50005_func_mask.dscalar.nii --outputcsv /home/edickie/Documents/ciftify_tests/run_2017-09-08/ciftify_seed_corr/sub-50005_wmparc_func_ciftiltocifti_masked_meants.csv --outputlabels /home/edickie/Documents/ciftify_tests/run_2017-09-08/ciftify_seed_corr/sub-50005_wmparc_func_ciftiltocifti_masked_labels.csv /home/edickie/Documents/ciftify_tests/run_2017-09-08/hcp/sub-50005/MNINonLinear/Results/rest_test1/rest_test1_Atlas_s0.dtseries.nii /home/edickie/Documents/ciftify_tests/run_2017-09-08/ciftify_seed_corr/sub-50005_wmparc_MNI.dlabel.nii\n"
     ]
    },
    {
     "data": {
      "text/plain": [
       "0"
      ]
     },
     "execution_count": 163,
     "metadata": {},
     "output_type": "execute_result"
    }
   ],
   "source": [
    "wmparc_dlabel = os.path.join(seed_corr_dir, '{}_wmparc_MNI.dlabel.nii'.format(subid))\n",
    "run(['wb_command', '-cifti-label-import', '-logging', 'SEVERE',\n",
    "     wmparc_dscalar, \n",
    "     os.path.join(ciftify.config.find_ciftify_global(), 'hcp_config', 'FreeSurferAllLut.txt'),\n",
    "    wmparc_dlabel])\n",
    "run(['ciftify_meants', \n",
    "     '--mask', cifti_mask,\n",
    "     '--outputcsv', os.path.join(seed_corr_dir, \n",
    "                                 '{}_wmparc_func_ciftiltocifti_masked_meants.csv'.format(subid)),\n",
    "     '--outputlabels', os.path.join(seed_corr_dir, \n",
    "                                 '{}_wmparc_func_ciftiltocifti_masked_labels.csv'.format(subid)),\n",
    "     func_cifti_sm0, wmparc_dlabel])"
   ]
  },
  {
   "cell_type": "code",
   "execution_count": 160,
   "metadata": {},
   "outputs": [
    {
     "name": "stderr",
     "output_type": "stream",
     "text": [
      "Running: cifti_vis_map index --hcp-data-dir /home/edickie/Documents/ciftify_tests/run_2017-09-08/hcp\n",
      "Running: cifti_vis_map index --hcp-data-dir /home/edickie/Documents/ciftify_tests/run_2017-09-08/hcp\n"
     ]
    },
    {
     "data": {
      "text/plain": [
       "0"
      ]
     },
     "execution_count": 160,
     "metadata": {},
     "output_type": "execute_result"
    }
   ],
   "source": [
    "run(['cifti_vis_map', 'index', '--hcp-data-dir', hcp_data_dir])"
   ]
  },
  {
   "cell_type": "code",
   "execution_count": null,
   "metadata": {
    "collapsed": true
   },
   "outputs": [],
   "source": []
  },
  {
   "cell_type": "code",
   "execution_count": 168,
   "metadata": {
    "scrolled": true
   },
   "outputs": [
    {
     "name": "stderr",
     "output_type": "stream",
     "text": [
      "Running: extract_nuisance_regressors /home/edickie/Documents/ciftify_tests/run_2017-09-08/hcp/sub-50005/MNINonLinear /home/edickie/Documents/ciftify_tests/run_2017-09-08/hcp/sub-50005/MNINonLinear/Results/rest_test1/rest_test1.nii.gz\n",
      "Running: extract_nuisance_regressors /home/edickie/Documents/ciftify_tests/run_2017-09-08/hcp/sub-50005/MNINonLinear /home/edickie/Documents/ciftify_tests/run_2017-09-08/hcp/sub-50005/MNINonLinear/Results/rest_test1/rest_test1.nii.gz\n"
     ]
    },
    {
     "data": {
      "text/plain": [
       "0"
      ]
     },
     "execution_count": 168,
     "metadata": {},
     "output_type": "execute_result"
    }
   ],
   "source": [
    "### All results\n",
    "# ciftify_peaktable - with va input\n",
    "# cifti_vis_map\n",
    "run(['extract_nuisance_regressors', \n",
    "     os.path.join(hcp_data_dir, subid, 'MNINonLinear'), \n",
    "     func_vol])\n"
   ]
  },
  {
   "cell_type": "code",
   "execution_count": 151,
   "metadata": {
    "collapsed": true
   },
   "outputs": [],
   "source": [
    "#group_nifti = '/home/edickie/Documents/ciftify_tests/src_data/working_memory_pFgA_z_FDR_0.01.nii.gz'\n",
    "#group_cifti = '/home/edickie/Documents/ciftify_tests/run_2017-08-17/working_memory_pFgA_z_FDR_0.01.dscalar.nii'\n",
    "#run(['ciftify_vol_result', '--debug', 'HCP_S1200_GroupAvg', group_nifti, group_cifti])"
   ]
  },
  {
   "cell_type": "code",
   "execution_count": 152,
   "metadata": {},
   "outputs": [
    {
     "ename": "NameError",
     "evalue": "name 'test3' is not defined",
     "output_type": "error",
     "traceback": [
      "\u001b[0;31m---------------------------------------------------------------------------\u001b[0m",
      "\u001b[0;31mNameError\u001b[0m                                 Traceback (most recent call last)",
      "\u001b[0;32m<ipython-input-152-daf71702732f>\u001b[0m in \u001b[0;36m<module>\u001b[0;34m()\u001b[0m\n\u001b[0;32m----> 1\u001b[0;31m \u001b[0mrecon_all_always\u001b[0m \u001b[0;34m=\u001b[0m \u001b[0msorted\u001b[0m\u001b[0;34m(\u001b[0m\u001b[0mset\u001b[0m\u001b[0;34m(\u001b[0m\u001b[0mtest3\u001b[0m\u001b[0;34m)\u001b[0m\u001b[0;34m.\u001b[0m\u001b[0mintersection\u001b[0m\u001b[0;34m(\u001b[0m\u001b[0mset\u001b[0m\u001b[0;34m(\u001b[0m\u001b[0mtest1\u001b[0m\u001b[0;34m)\u001b[0m\u001b[0;34m)\u001b[0m\u001b[0;34m)\u001b[0m\u001b[0;34m\u001b[0m\u001b[0m\n\u001b[0m",
      "\u001b[0;31mNameError\u001b[0m: name 'test3' is not defined"
     ]
    }
   ],
   "source": [
    "recon_all_always = sorted(set(test3).intersection(set(test1)))"
   ]
  },
  {
   "cell_type": "code",
   "execution_count": null,
   "metadata": {
    "collapsed": true
   },
   "outputs": [],
   "source": [
    "onlytest2 = set(test2) - set(test1)\n",
    "recon_all_lowres = [ x for x in onlytest2 if 'T1w' in x ]\n",
    "sorted(recon_all_lowres)"
   ]
  },
  {
   "cell_type": "code",
   "execution_count": null,
   "metadata": {
    "collapsed": true
   },
   "outputs": [],
   "source": [
    "only_in_5 = set(test3) - set(test2)"
   ]
  },
  {
   "cell_type": "code",
   "execution_count": null,
   "metadata": {
    "collapsed": true
   },
   "outputs": [],
   "source": [
    "tmp1 = set(test2) - set(test3)\n",
    "tmp1 = [ x for x in tmp1 if 'T1w' not in x ]\n",
    "tmp1 = [ x for x in tmp1 if 'Results' not in x ]\n",
    "tmp1 = [ x for x in tmp1 if 'aseg' not in x ]\n",
    "only_in_6 = sorted(tmp1)\n",
    "only_in_6"
   ]
  },
  {
   "cell_type": "code",
   "execution_count": null,
   "metadata": {
    "collapsed": true
   },
   "outputs": [],
   "source": [
    "ciftify_recon_all = { 'always': recon_all_always,\n",
    "                    'T1w32k': recon_all_lowres,\n",
    "                    'fs5' : only_in_5,\n",
    "                    'fs6' : only_in_6}"
   ]
  },
  {
   "cell_type": "code",
   "execution_count": null,
   "metadata": {
    "collapsed": true
   },
   "outputs": [],
   "source": [
    "with open('/home/edickie/code/ciftify/tests/integration/data/ciftify_recon_all.yml', 'w') as outfile:\n",
    "    yaml.dump(ciftify_recon_all, outfile, default_flow_style=False)"
   ]
  },
  {
   "cell_type": "code",
   "execution_count": null,
   "metadata": {
    "collapsed": true
   },
   "outputs": [],
   "source": [
    "with open('data.yml', 'w') as outfile:\n",
    "    yaml.dump(data, outfile, default_flow_style=False)"
   ]
  }
 ],
 "metadata": {
  "kernelspec": {
   "display_name": "Python 3",
   "language": "python",
   "name": "python3"
  },
  "language_info": {
   "codemirror_mode": {
    "name": "ipython",
    "version": 3
   },
   "file_extension": ".py",
   "mimetype": "text/x-python",
   "name": "python",
   "nbconvert_exporter": "python",
   "pygments_lexer": "ipython3",
   "version": "3.6.2"
  }
 },
 "nbformat": 4,
 "nbformat_minor": 2
}
