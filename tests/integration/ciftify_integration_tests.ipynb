{
 "cells": [
  {
   "cell_type": "code",
   "execution_count": null,
   "metadata": {
    "collapsed": true
   },
   "outputs": [],
   "source": [
    "import ciftify\n",
    "from ciftify.utils import run\n",
    "import os\n",
    "import datetime\n",
    "import logging\n",
    "import glob"
   ]
  },
  {
   "cell_type": "code",
   "execution_count": null,
   "metadata": {},
   "outputs": [],
   "source": [
    "working_dir = '/home/edickie/Documents/ciftify_tests/'\n",
    "#working_dir = '/scratch/edickie/ciftify_intergration_tests/'\n",
    "src_data_dir= os.path.join(working_dir,'src_data')\n",
    "work_from = '/home/edickie/Documents/ciftify_tests/run_2017-09-02/'\n",
    "#work_from = None\n",
    "\n",
    "if work_from:\n",
    "    new_outputs = work_from\n",
    "else:\n",
    "    new_outputs= os.path.join(working_dir,'run_{}'.format(datetime.date.today()))\n",
    "DEBUG = True\n",
    "DRYRUN = True\n",
    "\n",
    "## getting the data\n",
    "\n",
    "freesurfer_webtgz = 'https://s3.amazonaws.com/openneuro/ds000030/ds000030_R1.0.4/compressed/ds000030_R1.0.4_derivatives_freesurfer_sub50004-50008.zip'\n",
    "func_webtgz = 'https://s3.amazonaws.com/openneuro/ds000030/ds000030_R1.0.4/compressed/ds000030_R1.0.4_derivatives_sub50004-50008.zip'\n",
    "\n",
    "subids = ['sub-50005','sub-50007']\n",
    "#subids = ['sub-50005','sub-50006']\n",
    "\n",
    "logger = logging.getLogger('ciftify')\n",
    "logger.setLevel(logging.DEBUG)\n",
    "ch = logging.StreamHandler()\n",
    "ch.setLevel(logging.INFO)\n",
    "formatter = logging.Formatter('%(message)s')\n",
    "ch.setFormatter(formatter)\n",
    "logger.addHandler(ch)  \n",
    "\n",
    "fh = logging.FileHandler(os.path.join(working_dir, 'ciftify_tests.log'))\n",
    "fh.setLevel(logging.INFO)\n",
    "fh.setFormatter(formatter)\n",
    "logger.addHandler(fh)\n",
    "\n",
    "fs_subjects_dir = os.path.join(src_data_dir, 'ds000030_R1.0.4',\n",
    "                               'derivatives','freesurfer')\n",
    "hcp_data_dir = os.path.join(new_outputs, 'hcp')\n",
    "\n",
    "if not os.path.exists(hcp_data_dir):\n",
    "    run(['mkdir','-p',hcp_data_dir])"
   ]
  },
  {
   "cell_type": "code",
   "execution_count": null,
   "metadata": {
    "collapsed": true
   },
   "outputs": [],
   "source": [
    "def download_file(web_address, local_filename):\n",
    "    '''download file if it does not exist'''\n",
    "    if not os.path.isfile(local_filename):\n",
    "        run(['wget', web_address, '-O', local_filename])\n",
    "    if not os.path.getsize(local_filename) > 0:\n",
    "        os.remove(local_filename)"
   ]
  },
  {
   "cell_type": "code",
   "execution_count": null,
   "metadata": {
    "collapsed": true
   },
   "outputs": [],
   "source": [
    "def get_recon_all_outputs(hcp_data_dir, subid):\n",
    "    recon_all_out = folder_contents_list(os.path.join(hcp_data_dir, subid))\n",
    "    recon_all_out = [x.replace(subid, 'subid') for x in recon_all_out]\n",
    "    return(recon_all_out)"
   ]
  },
  {
   "cell_type": "code",
   "execution_count": null,
   "metadata": {
    "collapsed": true
   },
   "outputs": [],
   "source": [
    "def folder_contents_list(path):\n",
    "    '''returns a list of folder contents'''\n",
    "    folder_contents = glob.glob(os.path.join(path, '**'), recursive = True)\n",
    "    folder_contents = [x.replace('{}/'.format(path),'') for x in folder_contents ]\n",
    "    folder_contents = folder_contents[1:] ## the first element is the path name\n",
    "    return(folder_contents)"
   ]
  },
  {
   "cell_type": "markdown",
   "metadata": {},
   "source": [
    "# Getting ABIDE and running recon-all"
   ]
  },
  {
   "cell_type": "code",
   "execution_count": null,
   "metadata": {},
   "outputs": [],
   "source": [
    "abide_amazon_addy = 'https://s3.amazonaws.com/fcp-indi/data/Projects/ABIDE_Initiative/Outputs/freesurfer/5.1'\n",
    "\n",
    "subid = 'NYU_0050954'\n",
    "abide_freesurfer = os.path.join(src_data_dir, 'abide', 'freesurfer')\n",
    "\n",
    "fs_subdir = os.path.join(abide_freesurfer, subid)\n",
    "if not os.path.exists(fs_subdir):    \n",
    "    run(['mkdir', '-p', fs_subdir])\n",
    "\n",
    "for subdir in ['mri', 'surf','label','scripts']:\n",
    "    localdir = os.path.join(fs_subdir, subdir)\n",
    "    if not os.path.exists(localdir):\n",
    "        run(['mkdir', '-p', localdir])\n",
    "    \n",
    "for filename in ['T1.mgz', 'aparc+aseg.mgz', 'aparc.a2009s+aseg.mgz', 'wmparc.mgz', 'brain.finalsurfs.mgz']:\n",
    "    download_file(os.path.join(abide_amazon_addy, subid, 'mri', filename.replace('+','%20')),\n",
    "                               os.path.join(fs_subdir, 'mri', filename))\n",
    "\n",
    "for surface in ['pial', 'white', 'sphere.reg', 'sphere', 'curv', 'sulc', 'thickness']:\n",
    "    for hemi in ['lh', 'rh']:\n",
    "        download_file(os.path.join(abide_amazon_addy, subid, 'surf', '{}.{}'.format(hemi,surface)),\n",
    "                      os.path.join(fs_subdir, 'surf', '{}.{}'.format(hemi,surface)))\n",
    "\n",
    "for labelname in ['aparc', 'aparc.a2009s', 'BA']:\n",
    "    for hemi in ['lh', 'rh']:\n",
    "        download_file(os.path.join(abide_amazon_addy, subid, 'label', '{}.{}.annot'.format(hemi,labelname)),\n",
    "                      os.path.join(fs_subdir, 'label', '{}.{}.annot'.format(hemi,labelname))) \n",
    "\n",
    "for script in ['recon-all.done', 'build-stamp.txt']:\n",
    "    download_file(os.path.join(abide_amazon_addy, subid, 'scripts', script), \n",
    "                  os.path.join(fs_subdir, 'scripts', script))"
   ]
  },
  {
   "cell_type": "code",
   "execution_count": null,
   "metadata": {
    "collapsed": true
   },
   "outputs": [],
   "source": [
    "run(['ciftify_recon_all', '--hcp-data-dir', hcp_data_dir,\n",
    "        '--fs-subjects-dir', abide_freesurfer, \n",
    "        'NYU_0050954'])"
   ]
  },
  {
   "cell_type": "code",
   "execution_count": null,
   "metadata": {},
   "outputs": [],
   "source": [
    "\n",
    "run(['cifti_vis_recon_all', 'snaps', '--hcp-data-dir',hcp_data_dir, 'NYU_0050954'])\n",
    "run(['cifti_vis_recon_all', 'index', '--hcp-data-dir', hcp_data_dir])"
   ]
  },
  {
   "cell_type": "markdown",
   "metadata": {},
   "source": [
    "## Download ABIDE PCP data for ciftify_vol_result tests"
   ]
  },
  {
   "cell_type": "code",
   "execution_count": null,
   "metadata": {
    "collapsed": true,
    "scrolled": true
   },
   "outputs": [],
   "source": [
    "\n",
    "\n",
    "def download_vmhc(subid):\n",
    "    amazon_addy = 'https://s3.amazonaws.com/fcp-indi/data/Projects/ABIDE_Initiative/Outputs/cpac/filt_global/vmhc/{}_vmhc.nii.gz'.format(subid)\n",
    "    sub_vmhc = os.path.join(src_vmhc, '{}_vmhc.nii.gz'.format(subid))\n",
    "    download_file(amazon_addy, sub_vmhc)        \n",
    "\n",
    "src_vmhc = os.path.join(src_data_dir, 'abide', 'vmhc')    \n",
    "if not os.path.exists(src_vmhc): \n",
    "    run(['mkdir', src_vmhc])\n",
    "\n",
    "subjects=['NYU_0050954','NYU_0050955']\n",
    "for subid in subjects:\n",
    "    download_vmhc(subid)"
   ]
  },
  {
   "cell_type": "code",
   "execution_count": null,
   "metadata": {},
   "outputs": [],
   "source": [
    "subject = 'NYU_0050954'\n",
    "run(['cifti_vis_map', 'nifti-snaps',\n",
    "        '--hcp-data-dir', hcp_data_dir,\n",
    "        '--qcdir', os.path.join(hcp_data_dir, 'abide_vmhc_vis'),\n",
    "        '--resample-nifti', '--colour-palette', 'fidl', \n",
    "        os.path.join(src_vmhc, '{}_vmhc.nii.gz'.format(subject)), subject, '{}_vmhc'.format(subject)])"
   ]
  },
  {
   "cell_type": "code",
   "execution_count": null,
   "metadata": {},
   "outputs": [],
   "source": [
    "subject = 'NYU_0050954'\n",
    "run(['cifti_vis_map', 'nifti-snaps',\n",
    "        '--hcp-data-dir', hcp_data_dir,\n",
    "        '--qcdir', os.path.join(hcp_data_dir, 'abide_vmhc_vis'),\n",
    "        '--resample-nifti',  \n",
    "        os.path.join(src_vmhc, '{}_vmhc.nii.gz'.format(subject)), subject, '{}_vmhc_dcol'.format(subject)])"
   ]
  },
  {
   "cell_type": "code",
   "execution_count": null,
   "metadata": {
    "scrolled": true
   },
   "outputs": [],
   "source": [
    "subject = 'NYU_0050954'\n",
    "run(['cifti_vis_map', 'nifti-snaps', '--debug',\n",
    "        '--qcdir', os.path.join(hcp_data_dir, 'abide_vmhc_vis'),\n",
    "        '--resample-nifti', '--colour-palette', 'fidl', \n",
    "        os.path.join(src_vmhc, '{}_vmhc.nii.gz'.format(subject)), 'HCP_S1200_GroupAvg', '{}_vmhc'.format(subject)])"
   ]
  },
  {
   "cell_type": "code",
   "execution_count": null,
   "metadata": {},
   "outputs": [],
   "source": [
    "subject = 'NYU_0050955'\n",
    "run(['cifti_vis_map', 'nifti-snaps',\n",
    "        '--qcdir', os.path.join(hcp_data_dir, 'abide_vmhc_vis'),\n",
    "        '--resample-nifti',\n",
    "        os.path.join(src_vmhc, '{}_vmhc.nii.gz'.format(subject)), 'HCP_S1200_GroupAvg', '{}_vmhc'.format(subject)])"
   ]
  },
  {
   "cell_type": "code",
   "execution_count": null,
   "metadata": {},
   "outputs": [],
   "source": [
    "run(['cifti_vis_map', 'index',\n",
    "        '--hcp-data-dir', '/tmp',\n",
    "        '--qcdir', os.path.join(hcp_data_dir, 'abide_vmhc_vis')])"
   ]
  },
  {
   "cell_type": "markdown",
   "metadata": {},
   "source": [
    "# Download the main dataset"
   ]
  },
  {
   "cell_type": "code",
   "execution_count": null,
   "metadata": {
    "collapsed": true
   },
   "outputs": [],
   "source": [
    "subids = ['sub-50005','sub-50007']\n",
    "\n",
    "if not os.path.exists(src_data_dir):\n",
    "    run(['mkdir','-p',src_data_dir])\n",
    "\n",
    "for subid in subids:\n",
    "    sub_fs_path = os.path.join('ds000030_R1.0.4','derivatives','freesurfer', subid)\n",
    "if not os.path.exists(os.path.join(src_data_dir, sub_fs_path)):\n",
    "    if not os.path.exists(os.path.join(src_data_dir, \n",
    "                                       os.path.basename(freesurfer_webtgz))):        \n",
    "        run(['wget', '-P', src_data_dir, freesurfer_webtgz])\n",
    "\n",
    "    run(['unzip', \n",
    "         os.path.join(src_data_dir, \n",
    "                      os.path.basename(freesurfer_webtgz)), \n",
    "         os.path.join(sub_fs_path,'*'),\n",
    "         '-d', src_data_dir])\n",
    "\n",
    "for subid in subids:\n",
    "    sub_file = os.path.join('ds000030_R1.0.4','derivatives',\n",
    "                            'fmriprep', subid,'func',\n",
    "                            '{}_task-rest_bold_space-T1w_preproc.nii.gz'.format(subid))\n",
    "    if not os.path.exists(os.path.join(src_data_dir,sub_file)):\n",
    "        if not os.path.exists(os.path.join(src_data_dir, \n",
    "                                           os.path.basename(func_webtgz))):\n",
    "            run(['wget', '-P', src_data_dir, func_webtgz])\n",
    "\n",
    "        run(['unzip', \n",
    "             os.path.join(src_data_dir, \n",
    "                          os.path.basename(func_webtgz)), \n",
    "             sub_file,\n",
    "             '-d', src_data_dir])\n",
    "\n",
    "for subid in subids:\n",
    "    sub_file = os.path.join('ds000030_R1.0.4','derivatives',\n",
    "                            'fmriprep', subid,'func',\n",
    "                            '{}_task-rest_bold_space-MNI152NLin2009cAsym_preproc.nii.gz'.format(subid))\n",
    "    if not os.path.exists(os.path.join(src_data_dir,sub_file)):\n",
    "        if not os.path.exists(os.path.join(src_data_dir, \n",
    "                                           os.path.basename(func_webtgz))):\n",
    "            run(['wget', '-P', src_data_dir, func_webtgz])\n",
    "\n",
    "        run(['unzip', \n",
    "             os.path.join(src_data_dir, \n",
    "                          os.path.basename(func_webtgz)), \n",
    "             sub_file,\n",
    "             '-d', src_data_dir])"
   ]
  },
  {
   "cell_type": "code",
   "execution_count": null,
   "metadata": {
    "collapsed": true
   },
   "outputs": [],
   "source": [
    "run(['ciftify_recon_all', '--resample-LowRestoNative', '--hcp-data-dir', hcp_data_dir,\n",
    "    '--fs-subjects-dir', fs_subjects_dir, \n",
    "    subids[0]])"
   ]
  },
  {
   "cell_type": "code",
   "execution_count": null,
   "metadata": {},
   "outputs": [],
   "source": [
    "run(['ciftify_recon_all', '--hcp-data-dir', hcp_data_dir,\n",
    "    '--fs-subjects-dir', fs_subjects_dir, \n",
    "    subids[1]])"
   ]
  },
  {
   "cell_type": "code",
   "execution_count": null,
   "metadata": {},
   "outputs": [],
   "source": [
    "for subid in subids:\n",
    "    run(['cifti_vis_recon_all', 'snaps', '--hcp-data-dir',hcp_data_dir, subid])\n",
    "run(['cifti_vis_recon_all', 'index', '--hcp-data-dir', hcp_data_dir])"
   ]
  },
  {
   "cell_type": "code",
   "execution_count": null,
   "metadata": {
    "collapsed": true
   },
   "outputs": [],
   "source": [
    "# for subid in ['sub-50004','sub-50006', 'sub-50008']:\n",
    "#     run(['ciftify_recon_all', '--hcp-data-dir', hcp_data_dir,\n",
    "#         '--fs-subjects-dir', fs_subjects_dir, \n",
    "#         subid])"
   ]
  },
  {
   "cell_type": "code",
   "execution_count": null,
   "metadata": {
    "collapsed": true
   },
   "outputs": [],
   "source": [
    "# for subid in ['sub-50004','sub-50006', 'sub-50008']:\n",
    "#     run(['cifti_vis_recon_all', 'snaps', '--hcp-data-dir',hcp_data_dir, subid])\n",
    "# run(['cifti_vis_recon_all', 'index', '--hcp-data-dir', hcp_data_dir])"
   ]
  },
  {
   "cell_type": "markdown",
   "metadata": {},
   "source": [
    "# Running ciftify_subject_fmri "
   ]
  },
  {
   "cell_type": "code",
   "execution_count": null,
   "metadata": {
    "scrolled": true
   },
   "outputs": [],
   "source": [
    "subid=subids[0]\n",
    "native_func = os.path.join(src_data_dir,'ds000030_R1.0.4','derivatives',\n",
    "                 'fmriprep', subid,'func',\n",
    "                 '{}_task-rest_bold_space-native_preproc.nii.gz'.format(subid))\n",
    "mat_file = os.path.join(src_data_dir, 'ds000030_R1.0.4','derivatives',\n",
    "                            'fmriprep', subid,'func',\n",
    "                            '{}_task-rest_bold_T1_to_EPI.mat'.format(subid))\n",
    "\n",
    "with open(mat_file, \"w\") as text_file:\n",
    "    text_file.write('''1.03  -0.015  0.0025  -15.0\n",
    "0.014  1.01  -0.005  -11.9\n",
    "-0.007 0.01  0.99  2\n",
    "0  0  0  1\n",
    "''')\n",
    "\n",
    "t1_func = os.path.join(src_data_dir,'ds000030_R1.0.4','derivatives',\n",
    "                 'fmriprep', subid,'func',\n",
    "                 '{}_task-rest_bold_space-T1w_preproc.nii.gz'.format(subid))\n",
    "if not os.path.exists(native_func):\n",
    "    run(['flirt', '-in', t1_func, '-ref', t1_func, \n",
    "         '-out', native_func, '-init', mat_file, '-applyxfm'])\n",
    "\n",
    "run(['ciftify_subject_fmri', '--SmoothingFWHM', '12', \n",
    "    '--hcp-data-dir', hcp_data_dir, \n",
    "    native_func, subid, 'rest_test1'])"
   ]
  },
  {
   "cell_type": "code",
   "execution_count": null,
   "metadata": {},
   "outputs": [],
   "source": [
    "subid=subids[0]\n",
    "run(['cifti_vis_fmri', 'snaps', '--SmoothingFWHM', '12', '--hcp-data-dir',hcp_data_dir, 'rest_test1', subid])"
   ]
  },
  {
   "cell_type": "code",
   "execution_count": null,
   "metadata": {
    "scrolled": true
   },
   "outputs": [],
   "source": [
    "subid=subids[0]\n",
    "native_func_mean = os.path.join(src_data_dir,'ds000030_R1.0.4','derivatives',\n",
    "                 'fmriprep', subid,'func',\n",
    "                 '{}_task-rest_bold_space-native_mean.nii.gz'.format(subid))\n",
    "\n",
    "run(['fslmaths', native_func, '-Tmean', native_func_mean])\n",
    "\n",
    "run(['ciftify_subject_fmri', '--hcp-data-dir', hcp_data_dir, \n",
    "    '--FLIRT-template', native_func_mean, native_func, subid, 'rest_test2'])\n"
   ]
  },
  {
   "cell_type": "code",
   "execution_count": null,
   "metadata": {},
   "outputs": [],
   "source": [
    "subid=subids[0]\n",
    "run(['cifti_vis_fmri', 'snaps', '--smooth-conn', '12', '--hcp-data-dir',hcp_data_dir, 'rest_test2', subid])"
   ]
  },
  {
   "cell_type": "code",
   "execution_count": null,
   "metadata": {
    "collapsed": true
   },
   "outputs": [],
   "source": [
    "\n",
    "subid = subids[1]\n",
    "run(['ciftify_subject_fmri', '--SmoothingFWHM', '8', '--FLIRT-dof', '30',\n",
    "    '--hcp-data-dir', hcp_data_dir, \n",
    "     '--OutputSurfDiagnostics',\n",
    "    os.path.join(src_data_dir,'ds000030_R1.0.4','derivatives',\n",
    "                 'fmriprep', subid,'func',\n",
    "                 '{}_task-rest_bold_space-T1w_preproc.nii.gz'.format(subid)),\n",
    "    subid, 'rest_test_dof30'])"
   ]
  },
  {
   "cell_type": "code",
   "execution_count": null,
   "metadata": {},
   "outputs": [],
   "source": [
    "subid = subids[1]\n",
    "run(['cifti_vis_fmri', 'snaps', '--hcp-data-dir',hcp_data_dir, 'rest_test_dof30', subid])"
   ]
  },
  {
   "cell_type": "code",
   "execution_count": null,
   "metadata": {
    "collapsed": true
   },
   "outputs": [],
   "source": [
    "subid = subids[1]\n",
    "run(['ciftify_subject_fmri', '--already-in-MNI', '--SmoothingFWHM', '8', \n",
    "    '--hcp-data-dir', hcp_data_dir, \n",
    "    os.path.join(src_data_dir,'ds000030_R1.0.4','derivatives',\n",
    "                 'fmriprep', subid,'func',\n",
    "                 '{}_task-rest_bold_space-T1w_preproc.nii.gz'.format(subid)),\n",
    "    subid, 'rest_bad_transform'])"
   ]
  },
  {
   "cell_type": "code",
   "execution_count": null,
   "metadata": {},
   "outputs": [],
   "source": [
    "subid = subids[1]\n",
    "run(['cifti_vis_fmri', 'snaps', '--hcp-data-dir',hcp_data_dir, 'rest_bad_transform', subid])"
   ]
  },
  {
   "cell_type": "code",
   "execution_count": null,
   "metadata": {},
   "outputs": [],
   "source": [
    "run(['cifti_vis_fmri', 'index', '--hcp-data-dir', hcp_data_dir])"
   ]
  },
  {
   "cell_type": "code",
   "execution_count": null,
   "metadata": {},
   "outputs": [],
   "source": [
    "from glob import glob\n",
    "dtseries_files = glob(os.path.join(hcp_data_dir,'*',\n",
    "                                       'MNINonLinear', 'Results',\n",
    "                                       '*', '*Atlas_s*.dtseries.nii'))\n",
    "\n",
    "for dtseries in dtseries_files:\n",
    "    run(['cifti_vis_RSN', 'cifti-snaps',  \n",
    "         '--hcp-data-dir',hcp_data_dir, dtseries, \n",
    "         os.path.basename(os.path.dirname(os.path.dirname(os.path.dirname(os.path.dirname(dtseries)))))])\n",
    "run(['cifti_vis_RSN', 'index', \n",
    "     '--hcp-data-dir', hcp_data_dir])"
   ]
  },
  {
   "cell_type": "code",
   "execution_count": null,
   "metadata": {},
   "outputs": [],
   "source": [
    "run(['cifti_vis_RSN', 'index', '--hcp-data-dir', hcp_data_dir])"
   ]
  },
  {
   "cell_type": "markdown",
   "metadata": {
    "collapsed": true
   },
   "source": [
    "# Running PINT and related functions"
   ]
  },
  {
   "cell_type": "code",
   "execution_count": null,
   "metadata": {
    "collapsed": true
   },
   "outputs": [],
   "source": [
    "subid = subids[0]\n",
    "run(['mkdir', '-p', os.path.join(new_outputs, 'PINT', subid)])\n",
    "\n",
    "run(['ciftify_PINT_vertices', '--pcorr', \n",
    "     os.path.join(hcp_data_dir, subid,'MNINonLinear', 'Results',\n",
    "                  'rest_test1', 'rest_test1_Atlas_s12.dtseries.nii'),\n",
    "     os.path.join(hcp_data_dir, subid,'MNINonLinear','fsaverage_LR32k',\n",
    "                  '{}.L.midthickness.32k_fs_LR.surf.gii'.format(subid)),\n",
    "     os.path.join(hcp_data_dir, subid,'MNINonLinear','fsaverage_LR32k',\n",
    "                  '{}.R.midthickness.32k_fs_LR.surf.gii'.format(subid)),\n",
    "     os.path.join(ciftify.config.find_ciftify_global(), 'PINT', 'Yeo7_2011_80verts.csv'),\n",
    "     os.path.join(new_outputs, 'PINT', subid, subid)])\n"
   ]
  },
  {
   "cell_type": "code",
   "execution_count": null,
   "metadata": {},
   "outputs": [],
   "source": [
    "subid = subids[0]\n",
    "run(['cifti_vis_PINT', 'snaps', '--hcp-data-dir',  hcp_data_dir,\n",
    "     os.path.join(hcp_data_dir, subid,'MNINonLinear', 'Results',\n",
    "                  'rest_test1', 'rest_test1_Atlas_s12.dtseries.nii'),\n",
    "     subid,\n",
    "     os.path.join(new_outputs, 'PINT', subid, '{}_summary.csv'.format(subid))])"
   ]
  },
  {
   "cell_type": "code",
   "execution_count": null,
   "metadata": {
    "collapsed": true
   },
   "outputs": [],
   "source": [
    "subid = subids[1]\n",
    "run(['mkdir', '-p', os.path.join(new_outputs, 'PINT', subid)])\n",
    "\n",
    "run(['ciftify_PINT_vertices',\n",
    "     os.path.join(hcp_data_dir, subid,'MNINonLinear', 'Results',\n",
    "                  'rest_test_dof30', 'rest_test_dof30_Atlas_s8.dtseries.nii'),\n",
    "     os.path.join(hcp_data_dir, subid,'MNINonLinear','fsaverage_LR32k',\n",
    "                  '{}.L.midthickness.32k_fs_LR.surf.gii'.format(subid)),\n",
    "     os.path.join(hcp_data_dir, subid,'MNINonLinear','fsaverage_LR32k',\n",
    "                  '{}.R.midthickness.32k_fs_LR.surf.gii'.format(subid)),\n",
    "     os.path.join(ciftify.config.find_ciftify_global(), 'PINT', 'Yeo7_2011_80verts.csv'),\n",
    "     os.path.join(new_outputs, 'PINT', subid, subid)])"
   ]
  },
  {
   "cell_type": "code",
   "execution_count": null,
   "metadata": {},
   "outputs": [],
   "source": [
    "run(['cifti_vis_PINT', 'snaps', '--hcp-data-dir',  hcp_data_dir,\n",
    "     os.path.join(hcp_data_dir, subid,'MNINonLinear', 'Results',\n",
    "                  'rest_test_dof30', 'rest_test_dof30_Atlas_s8.dtseries.nii'),\n",
    "     subid,\n",
    "     os.path.join(new_outputs, 'PINT', subid, '{}_summary.csv'.format(subid))])"
   ]
  },
  {
   "cell_type": "code",
   "execution_count": null,
   "metadata": {
    "collapsed": true
   },
   "outputs": [],
   "source": [
    "subid = subids[1]\n",
    "run(['mkdir', '-p', os.path.join(new_outputs, 'PINT', subid)])\n",
    "\n",
    "run(['ciftify_PINT_vertices', '--outputall',\n",
    "     os.path.join(hcp_data_dir, subid,'MNINonLinear', 'Results',\n",
    "                  'rest_test_dof30', 'rest_test_dof30_Atlas_s8.dtseries.nii'),\n",
    "     os.path.join(hcp_data_dir, subid,'MNINonLinear','fsaverage_LR32k',\n",
    "                  '{}.L.midthickness.32k_fs_LR.surf.gii'.format(subid)),\n",
    "     os.path.join(hcp_data_dir, subid,'MNINonLinear','fsaverage_LR32k',\n",
    "                  '{}.R.midthickness.32k_fs_LR.surf.gii'.format(subid)),\n",
    "     os.path.join(ciftify.config.find_ciftify_global(), 'PINT', 'Yeo7_2011_80verts.csv'),\n",
    "     os.path.join(new_outputs, 'PINT', subid, '{}_all'.format(subid))])"
   ]
  },
  {
   "cell_type": "code",
   "execution_count": null,
   "metadata": {},
   "outputs": [],
   "source": [
    "run(['cifti_vis_PINT', 'snaps', '--hcp-data-dir',  hcp_data_dir,\n",
    "     os.path.join(hcp_data_dir, subid,'MNINonLinear', 'Results',\n",
    "                  'rest_test_dof30', 'rest_test_dof30_Atlas_s8.dtseries.nii'),\n",
    "     subid,\n",
    "     os.path.join(new_outputs, 'PINT', subid, '{}_all_summary.csv'.format(subid))])"
   ]
  },
  {
   "cell_type": "code",
   "execution_count": null,
   "metadata": {},
   "outputs": [],
   "source": [
    "run(['cifti_vis_PINT', 'index', '--hcp-data-dir',  hcp_data_dir])"
   ]
  },
  {
   "cell_type": "code",
   "execution_count": null,
   "metadata": {
    "collapsed": true
   },
   "outputs": [],
   "source": [
    "summary_files = glob(os.path.join(new_outputs, 'PINT', '*','*_summary.csv'))\n",
    "concat_cmd = ['ciftify_postPINT1_concat.py',  \n",
    "           os.path.join(new_outputs, 'PINT', 'concatenated.csv')]\n",
    "concat_cmd.extend(summary_files)\n",
    "run(concat_cmd)"
   ]
  },
  {
   "cell_type": "code",
   "execution_count": null,
   "metadata": {
    "collapsed": true
   },
   "outputs": [],
   "source": [
    "run(['ciftify_postPINT2_sub2sub.py', os.path.join(new_outputs, 'PINT', 'concatenated.csv'),\n",
    "     os.path.join(new_outputs, 'PINT', 'ivertex_distances.csv')])"
   ]
  },
  {
   "cell_type": "code",
   "execution_count": null,
   "metadata": {
    "collapsed": true
   },
   "outputs": [],
   "source": [
    "run(['ciftify_postPINT2_sub2sub.py', '--roiidx', '14',\n",
    "     os.path.join(new_outputs, 'PINT', 'concatenated.csv'),\n",
    "     os.path.join(new_outputs, 'PINT', 'ivertex_distances_roiidx14.csv')])"
   ]
  },
  {
   "cell_type": "markdown",
   "metadata": {},
   "source": [
    "# Running ciftify_surface_rois"
   ]
  },
  {
   "cell_type": "code",
   "execution_count": null,
   "metadata": {
    "collapsed": true
   },
   "outputs": [],
   "source": [
    "vertices1_csv = os.path.join(src_data_dir, 'vertices1.csv')\n",
    "\n",
    "with open(vertices1_csv, \"w\") as text_file:\n",
    "    text_file.write('''hemi,vertex\n",
    "L,11801\n",
    "L,26245\n",
    "L,26235\n",
    "L,26257\n",
    "L,13356\n",
    "L,289\n",
    "L,13336\n",
    "L,13337\n",
    "L,26269\n",
    "L,13323\n",
    "L,26204\n",
    "L,26214\n",
    "L,13326\n",
    "L,13085\n",
    "L,13310\n",
    "L,13281\n",
    "L,13394\n",
    "L,13395\n",
    "L,26263\n",
    "L,26265\n",
    "L,13343\n",
    "L,77\n",
    "L,13273\n",
    "L,13342\n",
    "L,26271\n",
    "L,11804\n",
    "L,13322\n",
    "L,13369\n",
    "L,13353\n",
    "L,26268\n",
    "L,26201\n",
    "L,26269\n",
    "L,68\n",
    "L,13391\n",
    "''')\n",
    "\n",
    "subid = subids[0]\n",
    "run(['mkdir', '-p', os.path.join(new_outputs, 'rois')])\n",
    "run(['ciftify_surface_rois', vertices1_csv, '10', '--gaussian',\n",
    "     os.path.join(hcp_data_dir, subid,'MNINonLinear','fsaverage_LR32k',\n",
    "                  '{}.L.midthickness.32k_fs_LR.surf.gii'.format(subid)),\n",
    "     os.path.join(hcp_data_dir, subid,'MNINonLinear','fsaverage_LR32k',\n",
    "                  '{}.R.midthickness.32k_fs_LR.surf.gii'.format(subid)), \n",
    "     os.path.join(new_outputs, 'rois', 'gaussian_roi.dscalar.nii')])"
   ]
  },
  {
   "cell_type": "code",
   "execution_count": null,
   "metadata": {},
   "outputs": [],
   "source": [
    "subid = subids[0]\n",
    "run(['cifti_vis_map', 'cifti-snaps', '--hcp-data-dir', \n",
    "     hcp_data_dir, \n",
    "     os.path.join(new_outputs, 'rois', 'gaussian_roi.dscalar.nii'),\n",
    "     subid, \n",
    "     'gaussian_roi'])"
   ]
  },
  {
   "cell_type": "code",
   "execution_count": null,
   "metadata": {
    "collapsed": true
   },
   "outputs": [],
   "source": [
    "run(['ciftify_peaktable', '--max-threshold', '0.05',      \n",
    "    '--left-surface', os.path.join(hcp_data_dir, subid,'MNINonLinear','fsaverage_LR32k',\n",
    "                  '{}.L.midthickness.32k_fs_LR.surf.gii'.format(subid)),\n",
    "    '--right-surface', os.path.join(hcp_data_dir, subid,'MNINonLinear','fsaverage_LR32k',\n",
    "                  '{}.R.midthickness.32k_fs_LR.surf.gii'.format(subid)),\n",
    "    os.path.join(new_outputs, 'rois', 'gaussian_roi.dscalar.nii')])"
   ]
  },
  {
   "cell_type": "code",
   "execution_count": null,
   "metadata": {
    "collapsed": true
   },
   "outputs": [],
   "source": [
    "vertices2_csv = os.path.join(src_data_dir, 'vertices1.csv')\n",
    "\n",
    "with open(vertices2_csv, \"w\") as text_file:\n",
    "    text_file.write('''hemi,vertex\n",
    "R,2379\n",
    "R,2423\n",
    "R,2423\n",
    "R,2629\n",
    "R,29290\n",
    "R,29290\n",
    "R,1794\n",
    "R,29199\n",
    "R,1788\n",
    "R,2380\n",
    "R,2288\n",
    "R,29320\n",
    "R,29274\n",
    "R,29272\n",
    "R,29331\n",
    "R,29356\n",
    "R,2510\n",
    "R,29345\n",
    "R,2506\n",
    "R,2506\n",
    "R,1790\n",
    "R,29305\n",
    "R,2630\n",
    "R,2551\n",
    "R,2334\n",
    "R,2334\n",
    "R,29306\n",
    "R,2551\n",
    "R,2422\n",
    "R,29256\n",
    "R,2468\n",
    "R,29332\n",
    "R,2425\n",
    "R,29356\n",
    "''')\n",
    "    \n",
    "run(['mkdir', '-p', os.path.join(new_outputs, 'rois')])\n",
    "run(['ciftify_surface_rois', vertices1_csv, '6', '--probmap',\n",
    "     os.path.join(hcp_data_dir, subid,'MNINonLinear','fsaverage_LR32k',\n",
    "                  '{}.L.midthickness.32k_fs_LR.surf.gii'.format(subid)),\n",
    "     os.path.join(hcp_data_dir, subid,'MNINonLinear','fsaverage_LR32k',\n",
    "                  '{}.R.midthickness.32k_fs_LR.surf.gii'.format(subid)), \n",
    "     os.path.join(new_outputs, 'rois', 'probmap_roi.dscalar.nii')])"
   ]
  },
  {
   "cell_type": "code",
   "execution_count": null,
   "metadata": {},
   "outputs": [],
   "source": [
    "subid = subids[0]\n",
    "run(['cifti_vis_map', 'cifti-snaps', '--hcp-data-dir', \n",
    "     hcp_data_dir, \n",
    "     os.path.join(new_outputs, 'rois', 'probmap_roi.dscalar.nii'),\n",
    "     subid, \n",
    "     'probmap_roi'])"
   ]
  },
  {
   "cell_type": "code",
   "execution_count": null,
   "metadata": {
    "collapsed": true
   },
   "outputs": [],
   "source": [
    "run(['ciftify_peaktable', '--max-threshold', '0.05',      \n",
    "    '--left-surface', os.path.join(hcp_data_dir, subid,'MNINonLinear','fsaverage_LR32k',\n",
    "                  '{}.L.midthickness.32k_fs_LR.surf.gii'.format(subid)),\n",
    "    '--right-surface', os.path.join(hcp_data_dir, subid,'MNINonLinear','fsaverage_LR32k',\n",
    "                  '{}.R.midthickness.32k_fs_LR.surf.gii'.format(subid)), \n",
    "   os.path.join(new_outputs, 'rois', 'probmap_roi.dscalar.nii')])"
   ]
  },
  {
   "cell_type": "code",
   "execution_count": null,
   "metadata": {
    "collapsed": true
   },
   "outputs": [],
   "source": [
    "for hemi in ['L','R']:\n",
    "    run(['wb_command', '-surface-vertex-areas',\n",
    "         os.path.join(hcp_data_dir, subid,'MNINonLinear','fsaverage_LR32k',\n",
    "                  '{}.{}.midthickness.32k_fs_LR.surf.gii'.format(subid, hemi)),\n",
    "         os.path.join(hcp_data_dir, subid,'MNINonLinear','fsaverage_LR32k',\n",
    "                  '{}.{}.midthickness_va.32k_fs_LR.shape.gii'.format(subid, hemi))])\n",
    "\n",
    "run(['ciftify_peaktable', \n",
    "    '--outputbase', os.path.join(new_outputs, 'rois', 'probmap_roi_withva'),\n",
    "    '--max-threshold', '0.05',      \n",
    "    '--left-surface', os.path.join(hcp_data_dir, subid,'MNINonLinear','fsaverage_LR32k',\n",
    "                  '{}.L.midthickness.32k_fs_LR.surf.gii'.format(subid)),\n",
    "    '--right-surface', os.path.join(hcp_data_dir, subid,'MNINonLinear','fsaverage_LR32k',\n",
    "                  '{}.R.midthickness.32k_fs_LR.surf.gii'.format(subid)), \n",
    "    '--left-surf-area', os.path.join(hcp_data_dir, subid,'MNINonLinear','fsaverage_LR32k',\n",
    "                  '{}.L.midthickness_va.32k_fs_LR.shape.gii'.format(subid)),\n",
    "    '--right-surf-area', os.path.join(hcp_data_dir, subid,'MNINonLinear','fsaverage_LR32k',\n",
    "                  '{}.R.midthickness_va.32k_fs_LR.shape.gii'.format(subid)), \n",
    "   os.path.join(new_outputs, 'rois', 'probmap_roi.dscalar.nii')])"
   ]
  },
  {
   "cell_type": "code",
   "execution_count": null,
   "metadata": {
    "collapsed": true
   },
   "outputs": [],
   "source": [
    "run(['ciftify_surface_rois', '--debug',\n",
    "      os.path.join(ciftify.config.find_ciftify_global(), 'PINT', 'Yeo7_2011_80verts.csv'),\n",
    "      '6', '--vertex-col', 'tvertex', '--labels-col', 'NETWORK', '--overlap-logic', 'EXCLUDE',\n",
    "      os.path.join(ciftify.config.find_HCP_S1200_GroupAvg(),\n",
    "                'S1200.L.midthickness_MSMAll.32k_fs_LR.surf.gii'),\n",
    "      os.path.join(ciftify.config.find_HCP_S1200_GroupAvg(),\n",
    "                'S1200.R.midthickness_MSMAll.32k_fs_LR.surf.gii'),\n",
    "      os.path.join(new_outputs, 'rois', 'tvertex.dscalar.nii')])"
   ]
  },
  {
   "cell_type": "code",
   "execution_count": null,
   "metadata": {},
   "outputs": [],
   "source": [
    "subid = subids[0]\n",
    "run(['cifti_vis_map', 'cifti-snaps', '--hcp-data-dir', \n",
    "     hcp_data_dir, \n",
    "     os.path.join(new_outputs, 'rois', 'tvertex.dscalar.nii'),\n",
    "     subid, \n",
    "     'tvertex'])"
   ]
  },
  {
   "cell_type": "markdown",
   "metadata": {},
   "source": [
    "# Running ciftify_seed_corr "
   ]
  },
  {
   "cell_type": "code",
   "execution_count": null,
   "metadata": {
    "collapsed": true
   },
   "outputs": [],
   "source": [
    "def seed_corr_default_out(func, seed):\n",
    "    functype, funcbase = ciftify.io.determine_filetype(func)\n",
    "    _, seedbase = ciftify.io.determine_filetype(seed)\n",
    "    outputdir = os.path.dirname(func)\n",
    "    outbase = '{}_{}'.format(funcbase, seedbase)\n",
    "    outputname = os.path.join(outputdir, outbase)\n",
    "    if functype == \"nifti\": outputname = '{}.nii.gz'.format(outputname)\n",
    "    if functype == \"cifti\": outputname = '{}.dscalar.nii'.format(outputname)\n",
    "    return(outputname)"
   ]
  },
  {
   "cell_type": "code",
   "execution_count": null,
   "metadata": {
    "collapsed": true
   },
   "outputs": [],
   "source": [
    "def run_vis_map(result_map, result_prefix, result_type):\n",
    "    run(['cifti_vis_map', '{}-snaps'.format(result_type), '--hcp-data-dir', hcp_data_dir, \n",
    "     result_map, subid, result_prefix])"
   ]
  },
  {
   "cell_type": "code",
   "execution_count": null,
   "metadata": {
    "collapsed": true
   },
   "outputs": [],
   "source": [
    "def run_seedcorr_peaktable(result_map):\n",
    "    run(['ciftify_peaktable',  \n",
    "         '--min-threshold', '-0.5', \n",
    "         '--max-threshold', '0.5', \n",
    "         '--no-cluster-dlabel', \n",
    "         result_map])"
   ]
  },
  {
   "cell_type": "code",
   "execution_count": null,
   "metadata": {
    "collapsed": true
   },
   "outputs": [],
   "source": [
    "subid = subids[0]\n",
    "smoothing = 12\n",
    "func_vol = os.path.join(hcp_data_dir, subid, 'MNINonLinear', 'Results', 'rest_test1', 'rest_test1.nii.gz')\n",
    "func_cifti_sm0 = os.path.join(hcp_data_dir, subid, 'MNINonLinear', 'Results', 'rest_test1', 'rest_test1_Atlas_s0.dtseries.nii')\n",
    "func_cifti_smoothed = os.path.join(hcp_data_dir, subid, 'MNINonLinear', 'Results', 'rest_test1', 'rest_test1_Atlas_s{}.dtseries.nii'.format(smoothing))\n",
    "atlas_vol =  os.path.join(hcp_data_dir, subid, 'MNINonLinear', 'wmparc.nii.gz')\n",
    "\n",
    "seed_corr_dir = os.path.join(new_outputs, 'ciftify_seed_corr')\n",
    "if not os.path.exists(seed_corr_dir):\n",
    "    run(['mkdir', '-p', seed_corr_dir])\n",
    "struct = 'RIGHT-PUTAMEN'\n",
    "putamen_vol_seed_mask = os.path.join(seed_corr_dir, '{}_{}_vol.nii.gz'.format(subid, struct))\n",
    "run(['wb_command', '-volume-label-to-roi', atlas_vol, putamen_vol_seed_mask, '-name', struct])"
   ]
  },
  {
   "cell_type": "code",
   "execution_count": null,
   "metadata": {
    "collapsed": true
   },
   "outputs": [],
   "source": [
    "run(['ciftify_seed_corr', func_vol, putamen_vol_seed_mask])"
   ]
  },
  {
   "cell_type": "code",
   "execution_count": null,
   "metadata": {
    "collapsed": true
   },
   "outputs": [],
   "source": [
    "run(['cifti_vis_map', 'nifti-snaps', '--hcp-data-dir', \n",
    "     hcp_data_dir, \n",
    "     seed_corr_default_out(func_vol, putamen_vol_seed_mask),\n",
    "     subid, \n",
    "     '{}_{}_niftitonifti_unmasked'.format(subid, struct)])"
   ]
  },
  {
   "cell_type": "code",
   "execution_count": null,
   "metadata": {
    "collapsed": true
   },
   "outputs": [],
   "source": [
    "run(['ciftify_seed_corr',\n",
    "     '--outputname', os.path.join(seed_corr_dir, '{}_{}_niftitonifti_masked.nii.gz'.format(subid, struct)),\n",
    "     '--mask', os.path.join(hcp_data_dir, subid, 'MNINonLinear', 'brainmask_fs.nii.gz'),\n",
    "     func_vol, putamen_vol_seed_mask])"
   ]
  },
  {
   "cell_type": "code",
   "execution_count": null,
   "metadata": {
    "collapsed": true
   },
   "outputs": [],
   "source": [
    "run(['cifti_vis_map', 'nifti-snaps', '--hcp-data-dir', \n",
    "     hcp_data_dir, \n",
    "     os.path.join(seed_corr_dir, '{}_{}_niftitonifti_masked.nii.gz'.format(subid, struct)),\n",
    "     subid, \n",
    "     '{}_{}_niftitonifti_masked'.format(subid, struct)])"
   ]
  },
  {
   "cell_type": "code",
   "execution_count": null,
   "metadata": {
    "collapsed": true
   },
   "outputs": [],
   "source": [
    "run(['ciftify_seed_corr', func_cifti_smoothed, putamen_vol_seed_mask])"
   ]
  },
  {
   "cell_type": "code",
   "execution_count": null,
   "metadata": {
    "collapsed": true
   },
   "outputs": [],
   "source": [
    "run(['cifti_vis_map', 'cifti-snaps', '--hcp-data-dir', \n",
    "     hcp_data_dir, \n",
    "     seed_corr_default_out(func_cifti_smoothed, putamen_vol_seed_mask),\n",
    "     subid, \n",
    "     '{}_{}_niftitocifti_unmasked'.format(subid, struct)])"
   ]
  },
  {
   "cell_type": "code",
   "execution_count": null,
   "metadata": {
    "collapsed": true
   },
   "outputs": [],
   "source": [
    "run_seedcorr_peaktable(seed_corr_default_out(func_cifti_smoothed, putamen_vol_seed_mask))"
   ]
  },
  {
   "cell_type": "code",
   "execution_count": null,
   "metadata": {
    "collapsed": true
   },
   "outputs": [],
   "source": [
    "cifti_mask = os.path.join(seed_corr_dir, '{}_func_mask.dscalar.nii'.format(subid))\n",
    "run(['wb_command', '-cifti-math', \"'(x > 0)'\", cifti_mask,\n",
    "    '-var', 'x', func_cifti_sm0, '-select', '1', '1'])\n",
    "run(['ciftify_seed_corr',\n",
    "     '--outputname', os.path.join(seed_corr_dir, '{}_{}_niftitocifti_masked.dscalar.nii'.format(subid, struct)),\n",
    "     '--mask', cifti_mask,\n",
    "     func_cifti_smoothed, putamen_vol_seed_mask])"
   ]
  },
  {
   "cell_type": "code",
   "execution_count": null,
   "metadata": {
    "collapsed": true
   },
   "outputs": [],
   "source": [
    "subid = subids[0]\n",
    "run(['cifti_vis_map', 'cifti-snaps', '--hcp-data-dir', hcp_data_dir, \n",
    "     os.path.join(seed_corr_dir, '{}_{}_niftitocifti_masked.dscalar.nii'.format(subid, struct)),\n",
    "     subid, \n",
    "     '{}_{}_niftitocifti_masked'.format(subid, struct)])\n",
    "run_seedcorr_peaktable(os.path.join(seed_corr_dir, '{}_{}_niftitocifti_masked.dscalar.nii'.format(subid, struct)))"
   ]
  },
  {
   "cell_type": "code",
   "execution_count": null,
   "metadata": {
    "collapsed": true
   },
   "outputs": [],
   "source": [
    "result_map = seed_corr_default_out(func_cifti_smoothed, \n",
    "                                   os.path.join(seed_corr_dir, '{}_{}_cifti.dscalar.nii'.format(subid, struct)))\n",
    "result_prefix = '{}_{}_ciftitocifti_unmasked'.format(subid, struct)\n",
    "result_type = 'cifti'"
   ]
  },
  {
   "cell_type": "code",
   "execution_count": null,
   "metadata": {
    "collapsed": true
   },
   "outputs": [],
   "source": [
    "run(['wb_command', '-cifti-create-dense-from-template',\n",
    "     func_cifti_sm0,\n",
    "     os.path.join(seed_corr_dir, \n",
    "                                 '{}_{}_cifti.dscalar.nii'.format(subid, struct)),\n",
    "     '-volume-all', putamen_vol_seed_mask])\n",
    "\n",
    "run(['ciftify_seed_corr', func_cifti_smoothed, \n",
    "    os.path.join(seed_corr_dir, '{}_{}_cifti.dscalar.nii'.format(subid, struct))])"
   ]
  },
  {
   "cell_type": "code",
   "execution_count": null,
   "metadata": {
    "collapsed": true
   },
   "outputs": [],
   "source": [
    "run_vis_map(result_map, result_prefix, result_type)\n",
    "run_seedcorr_peaktable(result_map)"
   ]
  },
  {
   "cell_type": "code",
   "execution_count": null,
   "metadata": {
    "collapsed": true
   },
   "outputs": [],
   "source": [
    "result_map = os.path.join(seed_corr_dir, '{}_{}_ciftitocifti_masked.dscalar.nii'.format(subid, struct))\n",
    "result_type = 'cifti'\n",
    "result_prefix = '{}_{}_ciftitocifti_masked'.format(subid, struct)"
   ]
  },
  {
   "cell_type": "code",
   "execution_count": null,
   "metadata": {
    "collapsed": true
   },
   "outputs": [],
   "source": [
    "run(['ciftify_seed_corr',     \n",
    "     '--outputname', result_map,\n",
    "     '--mask', cifti_mask,\n",
    "     func_cifti_smoothed, \n",
    "    os.path.join(seed_corr_dir, '{}_{}_cifti.dscalar.nii'.format(subid, struct))])"
   ]
  },
  {
   "cell_type": "code",
   "execution_count": null,
   "metadata": {
    "collapsed": true
   },
   "outputs": [],
   "source": [
    "run_vis_map(result_map, result_prefix, result_type)\n",
    "run_seedcorr_peaktable(result_map)"
   ]
  },
  {
   "cell_type": "code",
   "execution_count": null,
   "metadata": {
    "collapsed": true
   },
   "outputs": [],
   "source": [
    "result_map = seed_corr_default_out(func_cifti_smoothed, os.path.join(new_outputs, 'rois', 'gaussian_roi.dscalar.nii'))\n",
    "result_type = 'cifti'\n",
    "result_prefix = '{}_gaussian_ciftitocifti_unmasked'.format(subid)\n"
   ]
  },
  {
   "cell_type": "code",
   "execution_count": null,
   "metadata": {
    "collapsed": true
   },
   "outputs": [],
   "source": [
    "run(['ciftify_seed_corr', '--weighted', func_cifti_smoothed, \n",
    "     os.path.join(new_outputs, 'rois', 'gaussian_roi.dscalar.nii')])"
   ]
  },
  {
   "cell_type": "code",
   "execution_count": null,
   "metadata": {
    "collapsed": true
   },
   "outputs": [],
   "source": [
    "run_vis_map(result_map, result_prefix, result_type)\n",
    "run_seedcorr_peaktable(result_map)"
   ]
  },
  {
   "cell_type": "code",
   "execution_count": null,
   "metadata": {
    "collapsed": true
   },
   "outputs": [],
   "source": [
    "result_map = os.path.join(seed_corr_dir, '{}_gaussian_ciftitocifti_masked.dscalar.nii'.format(subid))\n",
    "result_type = 'cifti'\n",
    "result_prefix = '{}_gaussian_ciftitocifti_masked'.format(subid)"
   ]
  },
  {
   "cell_type": "code",
   "execution_count": null,
   "metadata": {
    "collapsed": true
   },
   "outputs": [],
   "source": [
    "run(['ciftify_seed_corr', '--weighted', \n",
    "     '--outputname', result_map,\n",
    "     '--mask', cifti_mask,\n",
    "     func_cifti_smoothed, \n",
    "     os.path.join(new_outputs, 'rois', 'gaussian_roi.dscalar.nii')])"
   ]
  },
  {
   "cell_type": "code",
   "execution_count": null,
   "metadata": {
    "collapsed": true
   },
   "outputs": [],
   "source": [
    "run_vis_map(result_map, result_prefix, result_type)\n",
    "run_seedcorr_peaktable(result_map)"
   ]
  },
  {
   "cell_type": "code",
   "execution_count": null,
   "metadata": {
    "collapsed": true
   },
   "outputs": [],
   "source": [
    "L_gaussian_roi = os.path.join(new_outputs, 'rois', 'gaussian_L_roi.shape.gii')\n",
    "\n",
    "result_map = seed_corr_default_out(func_cifti_smoothed, L_gaussian_roi)\n",
    "result_type = 'cifti'\n",
    "result_prefix = '{}_gaussian_giftitocifti_unmasked'.format(subid)\n",
    "\n",
    "\n",
    "run(['wb_command', '-cifti-separate', \n",
    "     os.path.join(new_outputs, 'rois', 'gaussian_roi.dscalar.nii'),\n",
    "     'COLUMN','-metric', 'CORTEX_LEFT', L_gaussian_roi])\n",
    "run(['ciftify_seed_corr', '--weighted', '--hemi', 'L', \n",
    "     func_cifti_smoothed, \n",
    "     L_gaussian_roi])"
   ]
  },
  {
   "cell_type": "code",
   "execution_count": null,
   "metadata": {
    "collapsed": true
   },
   "outputs": [],
   "source": [
    "run_vis_map(result_map, result_prefix, result_type)\n",
    "run_seedcorr_peaktable(result_map)"
   ]
  },
  {
   "cell_type": "code",
   "execution_count": null,
   "metadata": {
    "collapsed": true
   },
   "outputs": [],
   "source": [
    "result_map = os.path.join(seed_corr_dir, '{}_gaussian_giftitocifti_masked.dscalar.nii'.format(subid))\n",
    "result_type = 'cifti'\n",
    "result_prefix = '{}_gaussian_giftitocifti_masked.dscalar.nii'.format(subid)"
   ]
  },
  {
   "cell_type": "code",
   "execution_count": null,
   "metadata": {
    "collapsed": true
   },
   "outputs": [],
   "source": [
    "run(['ciftify_seed_corr', '--weighted', '--hemi', 'L', \n",
    "     '--outputname', os.path.join(seed_corr_dir, '{}_gaussian_giftitocifti_masked.dscalar.nii'.format(subid)),\n",
    "     '--mask', cifti_mask,\n",
    "     func_cifti_smoothed, \n",
    "     L_gaussian_roi])"
   ]
  },
  {
   "cell_type": "code",
   "execution_count": null,
   "metadata": {
    "collapsed": true
   },
   "outputs": [],
   "source": [
    "run_vis_map(result_map, result_prefix, result_type)\n",
    "run_seedcorr_peaktable(result_map)"
   ]
  },
  {
   "cell_type": "code",
   "execution_count": null,
   "metadata": {
    "collapsed": true
   },
   "outputs": [],
   "source": [
    "result_map = seed_corr_default_out(func_cifti_smoothed, os.path.join(new_outputs, 'rois', 'probmap_roi.dscalar.nii'))\n",
    "result_type = 'cifti'\n",
    "result_prefix = '{}_promap_ciftitocifti_unmasked.dscalar.nii'.format(subid)"
   ]
  },
  {
   "cell_type": "code",
   "execution_count": null,
   "metadata": {
    "collapsed": true
   },
   "outputs": [],
   "source": [
    "run(['ciftify_seed_corr', '--weighted', func_cifti_smoothed, \n",
    "     os.path.join(new_outputs, 'rois', 'probmap_roi.dscalar.nii')])"
   ]
  },
  {
   "cell_type": "code",
   "execution_count": null,
   "metadata": {
    "collapsed": true
   },
   "outputs": [],
   "source": [
    "run_vis_map(result_map, result_prefix, result_type)\n",
    "run_seedcorr_peaktable(result_map)"
   ]
  },
  {
   "cell_type": "code",
   "execution_count": null,
   "metadata": {
    "collapsed": true
   },
   "outputs": [],
   "source": [
    "result_map = os.path.join(seed_corr_dir, '{}_promap_ciftitocifti_masked.dscalar.nii'.format(subid))\n",
    "result_type = 'cifti'\n",
    "result_prefix = '{}_promap_ciftitocifti_masked.dscalar.nii'.format(subid)"
   ]
  },
  {
   "cell_type": "code",
   "execution_count": null,
   "metadata": {
    "collapsed": true
   },
   "outputs": [],
   "source": [
    "run(['ciftify_seed_corr', '--weighted', \n",
    "     '--outputname', result_map,\n",
    "     '--mask', cifti_mask,\n",
    "     func_cifti_smoothed, \n",
    "     os.path.join(new_outputs, 'rois', 'probmap_roi.dscalar.nii')])"
   ]
  },
  {
   "cell_type": "code",
   "execution_count": null,
   "metadata": {
    "collapsed": true
   },
   "outputs": [],
   "source": [
    "run_vis_map(result_map, result_prefix, result_type)\n",
    "run_seedcorr_peaktable(result_map)"
   ]
  },
  {
   "cell_type": "code",
   "execution_count": null,
   "metadata": {
    "collapsed": true
   },
   "outputs": [],
   "source": [
    "R_probmap_roi = os.path.join(new_outputs, 'rois', 'probmap_R_roi.shape.gii')\n",
    "result_map = seed_corr_default_out(func_cifti_smoothed, R_probmap_roi) \n",
    "result_type = 'cifti'\n",
    "result_prefix = '{}_promap_giftitocifti_unmasked.dscalar.nii'.format(subid)\n",
    "                                   \n",
    "run(['wb_command', '-cifti-separate', \n",
    "     os.path.join(new_outputs, 'rois', 'probmap_roi.dscalar.nii'),\n",
    "     'COLUMN','-metric', 'CORTEX_RIGHT', R_probmap_roi])\n",
    "run(['ciftify_seed_corr', '--weighted', '--hemi', 'R', func_cifti_smoothed, \n",
    "     R_probmap_roi])"
   ]
  },
  {
   "cell_type": "code",
   "execution_count": null,
   "metadata": {
    "collapsed": true
   },
   "outputs": [],
   "source": [
    "result_map = os.path.join(seed_corr_dir, '{}_promap_giftitocifti_masked.dscalar.nii'.format(subid))\n",
    "result_type = 'cifti'\n",
    "result_prefix = '{}_promap_giftitocifti_masked.dscalar.nii'.format(subid)"
   ]
  },
  {
   "cell_type": "code",
   "execution_count": null,
   "metadata": {
    "collapsed": true
   },
   "outputs": [],
   "source": [
    "run(['ciftify_seed_corr', '--weighted', '--hemi', 'R', \n",
    "     '--outputname', os.path.join(seed_corr_dir, '{}_promap_giftitocifti_masked.dscalar.nii'.format(subid)),\n",
    "     '--mask', cifti_mask,    \n",
    "     func_cifti_smoothed, \n",
    "     R_probmap_roi])"
   ]
  },
  {
   "cell_type": "code",
   "execution_count": null,
   "metadata": {
    "collapsed": true
   },
   "outputs": [],
   "source": [
    "run_vis_map(result_map, result_prefix, result_type)\n",
    "run_seedcorr_peaktable(result_map)"
   ]
  },
  {
   "cell_type": "code",
   "execution_count": null,
   "metadata": {
    "collapsed": true
   },
   "outputs": [],
   "source": [
    "result_map = seed_corr_default_out(func_cifti_smoothed, os.path.join(new_outputs, 'rois', 'tvertex.dscalar.nii'))\n",
    "result_type = 'cifti'\n",
    "result_prefix = '{}_tvertex7_ciftitocifti_unmasked.dscalar.nii'.format(subid)"
   ]
  },
  {
   "cell_type": "code",
   "execution_count": null,
   "metadata": {
    "collapsed": true
   },
   "outputs": [],
   "source": [
    "run(['ciftify_seed_corr', '--roi-label', '7', func_cifti_smoothed, \n",
    "     os.path.join(new_outputs, 'rois', 'tvertex.dscalar.nii')])"
   ]
  },
  {
   "cell_type": "code",
   "execution_count": null,
   "metadata": {
    "collapsed": true
   },
   "outputs": [],
   "source": [
    "run_vis_map(result_map, result_prefix, result_type)\n",
    "run_seedcorr_peaktable(result_map)"
   ]
  },
  {
   "cell_type": "code",
   "execution_count": null,
   "metadata": {
    "collapsed": true
   },
   "outputs": [],
   "source": [
    "result_map = os.path.join(seed_corr_dir, '{}_tvertex7_ciftitocifti_masked.dscalar.nii'.format(subid))\n",
    "result_type = 'cifti'\n",
    "result_prefix = '{}_tvertex7_ciftitocifti_masked.dscalar.nii'.format(subid)"
   ]
  },
  {
   "cell_type": "code",
   "execution_count": null,
   "metadata": {
    "collapsed": true
   },
   "outputs": [],
   "source": [
    "run(['ciftify_seed_corr', '--roi-label', '7', \n",
    "     '--outputname', result_map,\n",
    "     '--mask', cifti_mask, \n",
    "     func_cifti_smoothed, \n",
    "     os.path.join(new_outputs, 'rois', 'tvertex.dscalar.nii')])"
   ]
  },
  {
   "cell_type": "code",
   "execution_count": null,
   "metadata": {
    "collapsed": true
   },
   "outputs": [],
   "source": [
    "run_vis_map(result_map, result_prefix, result_type)\n",
    "run_seedcorr_peaktable(result_map)"
   ]
  },
  {
   "cell_type": "code",
   "execution_count": null,
   "metadata": {
    "collapsed": true
   },
   "outputs": [],
   "source": [
    "R_tvertex_roi = os.path.join(new_outputs, 'rois', 'tvertex_R_roi.shape.gii')\n",
    "result_map = seed_corr_default_out(func_cifti_smoothed, R_tvertex_roi)\n",
    "result_type = 'cifti'\n",
    "result_prefix = '{}_tvertex7_giftitocifti_umasked.dscalar.nii'.format(subid)\n",
    "\n",
    "\n",
    "run(['wb_command', '-cifti-separate', \n",
    "     os.path.join(new_outputs, 'rois', 'tvertex.dscalar.nii'),\n",
    "     'COLUMN','-metric', 'CORTEX_RIGHT', R_tvertex_roi])\n",
    "run(['ciftify_seed_corr', '--roi-label', '7', '--hemi', 'R', \n",
    "     func_cifti_smoothed, R_tvertex_roi])"
   ]
  },
  {
   "cell_type": "code",
   "execution_count": null,
   "metadata": {
    "collapsed": true
   },
   "outputs": [],
   "source": [
    "run_vis_map(result_map, result_prefix, result_type)\n",
    "run_seedcorr_peaktable(result_map)"
   ]
  },
  {
   "cell_type": "code",
   "execution_count": null,
   "metadata": {
    "collapsed": true
   },
   "outputs": [],
   "source": [
    "result_map = os.path.join(seed_corr_dir, '{}_tvertex7_giftitocifti_masked.dscalar.nii'.format(subid))\n",
    "result_type = 'cifti'\n",
    "result_prefix = '{}_tvertex7_giftitocifti_masked.dscalar.nii'.format(subid)"
   ]
  },
  {
   "cell_type": "code",
   "execution_count": null,
   "metadata": {
    "collapsed": true
   },
   "outputs": [],
   "source": [
    "run(['ciftify_seed_corr', '--roi-label', '7', '--hemi', 'R', \n",
    "     '--outputname', os.path.join(seed_corr_dir, '{}_tvertex7_giftitocifti_masked.dscalar.nii'.format(subid)),\n",
    "     '--mask', cifti_mask, \n",
    "     func_cifti_smoothed, R_tvertex_roi])"
   ]
  },
  {
   "cell_type": "code",
   "execution_count": null,
   "metadata": {
    "collapsed": true
   },
   "outputs": [],
   "source": [
    "run_vis_map(result_map, result_prefix, result_type)\n",
    "run_seedcorr_peaktable(result_map)"
   ]
  },
  {
   "cell_type": "markdown",
   "metadata": {},
   "source": [
    "# ciftify_meants (atlas examples)"
   ]
  },
  {
   "cell_type": "code",
   "execution_count": null,
   "metadata": {
    "collapsed": true
   },
   "outputs": [],
   "source": [
    "subject_aparc = os.path.join(hcp_data_dir, subid,\n",
    "                            'MNINonLinear', 'fsaverage_LR32k',\n",
    "                            '{}.aparc.32k_fs_LR.dlabel.nii'.format(subid))\n",
    "subject_thickness = os.path.join(hcp_data_dir, subid,\n",
    "                            'MNINonLinear', 'fsaverage_LR32k',\n",
    "                            '{}.thickness.32k_fs_LR.dscalar.nii'.format(subid))\n",
    "run(['ciftify_meants', func_cifti_sm0, subject_aparc])\n"
   ]
  },
  {
   "cell_type": "code",
   "execution_count": null,
   "metadata": {
    "collapsed": true
   },
   "outputs": [],
   "source": [
    "run(['ciftify_meants',\n",
    "     '--outputcsv', os.path.join(seed_corr_dir, '{}_aparc_func_ciftitocifti_masked_meants.csv'.format(subid)),\n",
    "     '--mask', cifti_mask, \n",
    "     func_cifti_sm0, subject_aparc])"
   ]
  },
  {
   "cell_type": "code",
   "execution_count": null,
   "metadata": {
    "collapsed": true
   },
   "outputs": [],
   "source": [
    "run(['ciftify_meants',  \n",
    "     '--outputcsv', os.path.join(seed_corr_dir, \n",
    "                                 '{}_aparc_thickness_ciftitocifti_unmasked_meants.csv'.format(subid)),\n",
    "     '--outputlabels', os.path.join(seed_corr_dir, \n",
    "                                    '{}_aparc_ciftitocifti_unmasked_labels.csv'.format(subid)),\n",
    "         subject_thickness, subject_aparc])"
   ]
  },
  {
   "cell_type": "code",
   "execution_count": null,
   "metadata": {
    "collapsed": true
   },
   "outputs": [],
   "source": [
    "run(['ciftify_meants', \n",
    "     '--mask', cifti_mask,\n",
    "     '--outputcsv', os.path.join(seed_corr_dir, \n",
    "                                 '{}_aparc_thickness_ciftitocifti_unmasked_meants.csv'.format(subid)),\n",
    "         subject_thickness, subject_aparc])"
   ]
  },
  {
   "cell_type": "code",
   "execution_count": null,
   "metadata": {
    "collapsed": true
   },
   "outputs": [],
   "source": [
    "run(['ciftify_meants', func_cifti_sm0, \n",
    "     os.path.join(new_outputs, 'rois', 'tvertex.dscalar.nii')])"
   ]
  },
  {
   "cell_type": "code",
   "execution_count": null,
   "metadata": {
    "collapsed": true
   },
   "outputs": [],
   "source": [
    "run(['ciftify_meants', \n",
    "     '--mask', cifti_mask,\n",
    "     '--outputcsv', os.path.join(seed_corr_dir, \n",
    "                                 '{}_tvertex_func_ciftitocifti_unmasked_meants.csv'.format(subid)),\n",
    "     func_cifti_sm0, \n",
    "     os.path.join(new_outputs, 'rois', 'tvertex.dscalar.nii')])"
   ]
  },
  {
   "cell_type": "code",
   "execution_count": null,
   "metadata": {
    "collapsed": true
   },
   "outputs": [],
   "source": [
    "## project wmparc to subject\n",
    "wmparc_dscalar = os.path.join(seed_corr_dir, '{}_wmparc_MNI.dscalar.nii'.format(subid))\n",
    "run(['ciftify_vol_result', '--hcp-data-dir', hcp_data_dir,\n",
    "    '--integer-labels', subid, atlas_vol, wmparc_dscalar])"
   ]
  },
  {
   "cell_type": "code",
   "execution_count": null,
   "metadata": {
    "collapsed": true
   },
   "outputs": [],
   "source": [
    "run(['ciftify_meants', \n",
    "     '--mask', os.path.join(hcp_data_dir, subid, 'MNINonLinear', 'brainmask_fs.nii.gz'),\n",
    "     '--outputcsv', os.path.join(seed_corr_dir, \n",
    "                                 '{}_wmparc_func_niftitonifti_masked_meants.csv'.format(subid)),\n",
    "     '--outputlabels', os.path.join(seed_corr_dir, \n",
    "                                 '{}_wmparc_func_niftitonifti_masked_labels.csv'.format(subid)),\n",
    "     func_cifti_sm0, atlas_vol])"
   ]
  },
  {
   "cell_type": "code",
   "execution_count": null,
   "metadata": {
    "collapsed": true
   },
   "outputs": [],
   "source": [
    "run(['ciftify_meants', \n",
    "     '--mask', cifti_mask,\n",
    "     '--outputcsv', os.path.join(seed_corr_dir, \n",
    "                                 '{}_wmparc_func_ciftitocifti_masked_meants.csv'.format(subid)),\n",
    "     '--outputlabels', os.path.join(seed_corr_dir, \n",
    "                                 '{}_wmparc_func_ciftitocifti_masked_labels.csv'.format(subid)),\n",
    "     func_cifti_sm0, wmparc_dscalar])"
   ]
  },
  {
   "cell_type": "code",
   "execution_count": null,
   "metadata": {
    "collapsed": true
   },
   "outputs": [],
   "source": [
    "wmparc_dlabel = os.path.join(seed_corr_dir, '{}_wmparc_MNI.dlabel.nii'.format(subid))\n",
    "run(['wb_command', '-cifti-label-import', '-logging', 'SEVERE',\n",
    "     wmparc_dscalar, \n",
    "     os.path.join(ciftify.config.find_ciftify_global(), 'hcp_config', 'FreeSurferAllLut.txt'),\n",
    "    wmparc_dlabel])\n",
    "run(['ciftify_meants', \n",
    "     '--mask', cifti_mask,\n",
    "     '--outputcsv', os.path.join(seed_corr_dir, \n",
    "                                 '{}_wmparc_func_ciftiltocifti_masked_meants.csv'.format(subid)),\n",
    "     '--outputlabels', os.path.join(seed_corr_dir, \n",
    "                                 '{}_wmparc_func_ciftiltocifti_masked_labels.csv'.format(subid)),\n",
    "     func_cifti_sm0, wmparc_dlabel])"
   ]
  },
  {
   "cell_type": "code",
   "execution_count": null,
   "metadata": {},
   "outputs": [],
   "source": [
    "run(['cifti_vis_map', 'index', '--hcp-data-dir', hcp_data_dir])"
   ]
  },
  {
   "cell_type": "code",
   "execution_count": null,
   "metadata": {
    "collapsed": true
   },
   "outputs": [],
   "source": [
    "### All results\n",
    "# ciftify_peaktable - with va input\n",
    "# cifti_vis_map\n",
    "\n"
   ]
  },
  {
   "cell_type": "code",
   "execution_count": null,
   "metadata": {
    "collapsed": true
   },
   "outputs": [],
   "source": [
    "#group_nifti = '/home/edickie/Documents/ciftify_tests/src_data/working_memory_pFgA_z_FDR_0.01.nii.gz'\n",
    "#group_cifti = '/home/edickie/Documents/ciftify_tests/run_2017-08-17/working_memory_pFgA_z_FDR_0.01.dscalar.nii'\n",
    "#run(['ciftify_vol_result', '--debug', 'HCP_S1200_GroupAvg', group_nifti, group_cifti])"
   ]
  },
  {
   "cell_type": "code",
   "execution_count": null,
   "metadata": {
    "collapsed": true
   },
   "outputs": [],
   "source": [
    "recon_all_always = sorted(set(test3).intersection(set(test1)))"
   ]
  },
  {
   "cell_type": "code",
   "execution_count": null,
   "metadata": {
    "collapsed": true
   },
   "outputs": [],
   "source": [
    "onlytest2 = set(test2) - set(test1)\n",
    "recon_all_lowres = [ x for x in onlytest2 if 'T1w' in x ]\n",
    "sorted(recon_all_lowres)"
   ]
  },
  {
   "cell_type": "code",
   "execution_count": null,
   "metadata": {
    "collapsed": true
   },
   "outputs": [],
   "source": [
    "only_in_5 = set(test3) - set(test2)"
   ]
  },
  {
   "cell_type": "code",
   "execution_count": null,
   "metadata": {
    "collapsed": true
   },
   "outputs": [],
   "source": [
    "tmp1 = set(test2) - set(test3)\n",
    "tmp1 = [ x for x in tmp1 if 'T1w' not in x ]\n",
    "tmp1 = [ x for x in tmp1 if 'Results' not in x ]\n",
    "tmp1 = [ x for x in tmp1 if 'aseg' not in x ]\n",
    "only_in_6 = sorted(tmp1)\n",
    "only_in_6"
   ]
  },
  {
   "cell_type": "code",
   "execution_count": null,
   "metadata": {
    "collapsed": true
   },
   "outputs": [],
   "source": [
    "ciftify_recon_all = { 'always': recon_all_always,\n",
    "                    'T1w32k': recon_all_lowres,\n",
    "                    'fs5' : only_in_5,\n",
    "                    'fs6' : only_in_6}"
   ]
  },
  {
   "cell_type": "code",
   "execution_count": null,
   "metadata": {
    "collapsed": true
   },
   "outputs": [],
   "source": [
    "with open('/home/edickie/code/ciftify/tests/integration/data/ciftify_recon_all.yml', 'w') as outfile:\n",
    "    yaml.dump(ciftify_recon_all, outfile, default_flow_style=False)"
   ]
  },
  {
   "cell_type": "code",
   "execution_count": null,
   "metadata": {
    "collapsed": true
   },
   "outputs": [],
   "source": [
    "with open('data.yml', 'w') as outfile:\n",
    "    yaml.dump(data, outfile, default_flow_style=False)"
   ]
  }
 ],
 "metadata": {
  "kernelspec": {
   "display_name": "Python 3",
   "language": "python",
   "name": "python3"
  },
  "language_info": {
   "codemirror_mode": {
    "name": "ipython",
    "version": 3
   },
   "file_extension": ".py",
   "mimetype": "text/x-python",
   "name": "python",
   "nbconvert_exporter": "python",
   "pygments_lexer": "ipython3",
   "version": "3.6.2"
  }
 },
 "nbformat": 4,
 "nbformat_minor": 2
}
