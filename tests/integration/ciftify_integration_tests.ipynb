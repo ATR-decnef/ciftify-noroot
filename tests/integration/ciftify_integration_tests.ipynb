{
 "cells": [
  {
   "cell_type": "code",
   "execution_count": 1,
   "metadata": {
    "collapsed": true
   },
   "outputs": [],
   "source": [
    "import ciftify\n",
    "from ciftify.utils import run\n",
    "import os\n",
    "import datetime\n",
    "import logging\n",
    "import glob"
   ]
  },
  {
   "cell_type": "code",
   "execution_count": 75,
   "metadata": {},
   "outputs": [],
   "source": [
    "#working_dir = '/home/edickie/Documents/ciftify_tests/'\n",
    "working_dir = '/scratch/edickie/ciftify_intergration_tests/'\n",
    "src_data_dir= os.path.join(working_dir,'src_data')\n",
    "#work_from = '/home/edickie/Documents/ciftify_tests/run_2017-09-02/'\n",
    "work_from = '/scratch/edickie/ciftify_intergration_tests/run_2017-09-11/'\n",
    "#work_from = None\n",
    "\n",
    "if work_from:\n",
    "    new_outputs = work_from\n",
    "else:\n",
    "    new_outputs= os.path.join(working_dir,'run_{}'.format(datetime.date.today()))\n",
    "DEBUG = True\n",
    "DRYRUN = True\n",
    "\n",
    "## getting the data\n",
    "\n",
    "freesurfer_webtgz = 'https://s3.amazonaws.com/openneuro/ds000030/ds000030_R1.0.4/compressed/ds000030_R1.0.4_derivatives_freesurfer_sub50004-50008.zip'\n",
    "func_webtgz = 'https://s3.amazonaws.com/openneuro/ds000030/ds000030_R1.0.4/compressed/ds000030_R1.0.4_derivatives_sub50004-50008.zip'\n",
    "\n",
    "subids = ['sub-50005','sub-50007']\n",
    "#subids = ['sub-50005','sub-50006']\n",
    "\n",
    "logger = logging.getLogger('ciftify')\n",
    "logger.setLevel(logging.DEBUG)\n",
    "ch = logging.StreamHandler()\n",
    "ch.setLevel(logging.INFO)\n",
    "formatter = logging.Formatter('%(message)s')\n",
    "ch.setFormatter(formatter)\n",
    "logger.addHandler(ch)\n",
    "\n",
    "# Get settings, and add an extra handler for the subject log\n",
    "fh = logging.FileHandler(os.path.join(working_dir, 'ciftify_tests.log'))\n",
    "logger.addHandler(fh)\n",
    "\n",
    "fs_subjects_dir = os.path.join(src_data_dir, 'ds000030_R1.0.4',\n",
    "                               'derivatives','freesurfer')\n",
    "hcp_data_dir = os.path.join(new_outputs, 'hcp')\n",
    "\n",
    "if not os.path.exists(hcp_data_dir):\n",
    "    run(['mkdir','-p',hcp_data_dir])"
   ]
  },
  {
   "cell_type": "code",
   "execution_count": 4,
   "metadata": {
    "collapsed": true
   },
   "outputs": [],
   "source": [
    "def download_file(web_address, local_filename):\n",
    "    '''download file if it does not exist'''\n",
    "    if not os.path.isfile(local_filename):\n",
    "        run(['wget', web_address, '-O', local_filename])\n",
    "    if not os.path.getsize(local_filename) > 0:\n",
    "        os.remove(local_filename)"
   ]
  },
  {
   "cell_type": "code",
   "execution_count": 5,
   "metadata": {
    "collapsed": true
   },
   "outputs": [],
   "source": [
    "def get_recon_all_outputs(hcp_data_dir, subid):\n",
    "    recon_all_out = folder_contents_list(os.path.join(hcp_data_dir, subid))\n",
    "    recon_all_out = [x.replace(subid, 'subid') for x in recon_all_out]\n",
    "    return(recon_all_out)"
   ]
  },
  {
   "cell_type": "code",
   "execution_count": 6,
   "metadata": {
    "collapsed": true
   },
   "outputs": [],
   "source": [
    "def folder_contents_list(path):\n",
    "    '''returns a list of folder contents'''\n",
    "    folder_contents = glob.glob(os.path.join(path, '**'), recursive = True)\n",
    "    folder_contents = [x.replace('{}/'.format(path),'') for x in folder_contents ]\n",
    "    folder_contents = folder_contents[1:] ## the first element is the path name\n",
    "    return(folder_contents)"
   ]
  },
  {
   "cell_type": "code",
   "execution_count": 7,
   "metadata": {
    "collapsed": true
   },
   "outputs": [],
   "source": [
    "def seed_corr_default_out(func, seed):\n",
    "    functype, funcbase = ciftify.io.determine_filetype(func)\n",
    "    _, seedbase = ciftify.io.determine_filetype(seed)\n",
    "    outputdir = os.path.dirname(func)\n",
    "    outbase = '{}_{}'.format(funcbase, seedbase)\n",
    "    outputname = os.path.join(outputdir, outbase)\n",
    "    if functype == \"nifti\": outputname = '{}.nii.gz'.format(outputname)\n",
    "    if functype == \"cifti\": outputname = '{}.dscalar.nii'.format(outputname)\n",
    "    return(outputname)\n",
    "\n",
    "def run_vis_map(result_map, result_prefix, result_type):\n",
    "    run(['cifti_vis_map', '{}-snaps'.format(result_type), '--hcp-data-dir', hcp_data_dir, \n",
    "     result_map, subid, result_prefix])\n",
    "\n",
    "def run_seedcorr_peaktable(result_map):\n",
    "    run(['ciftify_peaktable',  \n",
    "         '--min-threshold', '-0.5', \n",
    "         '--max-threshold', '0.5', \n",
    "         '--no-cluster-dlabel', \n",
    "         result_map])\n",
    "\n",
    "def run_seed_corr_fmri_test(func_cifti, hcp_data_dir, roi_dir):\n",
    "    ''' runs one of the seed corrs and then peak table to get a csv to test for each dtseries'''\n",
    "    subid = os.path.basename(os.path.dirname(os.path.dirname(os.path.dirname(os.path.dirname(func_cifti)))))\n",
    "    atlas_vol =  os.path.join(hcp_data_dir, subid, 'MNINonLinear', 'wmparc.nii.gz')\n",
    "    struct = 'RIGHT-PUTAMEN'\n",
    "    putamen_vol_seed_mask = os.path.join(roi_dir, '{}_{}_vol.nii.gz'.format(subid, struct))\n",
    "    if not os.path.exists(putamen_vol_seed_mask):\n",
    "        run(['wb_command', '-volume-label-to-roi', atlas_vol, putamen_vol_seed_mask, '-name', struct])\n",
    "    run(['ciftify_seed_corr', func_cifti, putamen_vol_seed_mask])\n",
    "    run_seedcorr_peaktable(seed_corr_default_out(func_cifti, putamen_vol_seed_mask))"
   ]
  },
  {
   "cell_type": "markdown",
   "metadata": {},
   "source": [
    "# Getting ABIDE and running recon-all"
   ]
  },
  {
   "cell_type": "code",
   "execution_count": 8,
   "metadata": {},
   "outputs": [],
   "source": [
    "abide_amazon_addy = 'https://s3.amazonaws.com/fcp-indi/data/Projects/ABIDE_Initiative/Outputs/freesurfer/5.1'\n",
    "\n",
    "subid = 'NYU_0050954'\n",
    "abide_freesurfer = os.path.join(src_data_dir, 'abide', 'freesurfer')\n",
    "\n",
    "fs_subdir = os.path.join(abide_freesurfer, subid)\n",
    "if not os.path.exists(fs_subdir):    \n",
    "    run(['mkdir', '-p', fs_subdir])\n",
    "\n",
    "for subdir in ['mri', 'surf','label','scripts']:\n",
    "    localdir = os.path.join(fs_subdir, subdir)\n",
    "    if not os.path.exists(localdir):\n",
    "        run(['mkdir', '-p', localdir])\n",
    "    \n",
    "for filename in ['T1.mgz', 'aparc+aseg.mgz', 'aparc.a2009s+aseg.mgz', 'wmparc.mgz', 'brain.finalsurfs.mgz']:\n",
    "    download_file(os.path.join(abide_amazon_addy, subid, 'mri', filename.replace('+','%20')),\n",
    "                               os.path.join(fs_subdir, 'mri', filename))\n",
    "\n",
    "for surface in ['pial', 'white', 'sphere.reg', 'sphere', 'curv', 'sulc', 'thickness']:\n",
    "    for hemi in ['lh', 'rh']:\n",
    "        download_file(os.path.join(abide_amazon_addy, subid, 'surf', '{}.{}'.format(hemi,surface)),\n",
    "                      os.path.join(fs_subdir, 'surf', '{}.{}'.format(hemi,surface)))\n",
    "\n",
    "for labelname in ['aparc', 'aparc.a2009s', 'BA']:\n",
    "    for hemi in ['lh', 'rh']:\n",
    "        download_file(os.path.join(abide_amazon_addy, subid, 'label', '{}.{}.annot'.format(hemi,labelname)),\n",
    "                      os.path.join(fs_subdir, 'label', '{}.{}.annot'.format(hemi,labelname))) \n",
    "\n",
    "for script in ['recon-all.done', 'build-stamp.txt']:\n",
    "    download_file(os.path.join(abide_amazon_addy, subid, 'scripts', script), \n",
    "                  os.path.join(fs_subdir, 'scripts', script))"
   ]
  },
  {
   "cell_type": "code",
   "execution_count": null,
   "metadata": {},
   "outputs": [],
   "source": [
    "run(['ciftify_recon_all', '--hcp-data-dir', hcp_data_dir,\n",
    "        '--fs-subjects-dir', abide_freesurfer, \n",
    "        'NYU_0050954'])"
   ]
  },
  {
   "cell_type": "code",
   "execution_count": null,
   "metadata": {},
   "outputs": [],
   "source": [
    "\n",
    "run(['cifti_vis_recon_all', 'snaps', '--hcp-data-dir',hcp_data_dir, 'NYU_0050954'])\n",
    "run(['cifti_vis_recon_all', 'index', '--hcp-data-dir', hcp_data_dir])"
   ]
  },
  {
   "cell_type": "markdown",
   "metadata": {},
   "source": [
    "## Download ABIDE PCP data for ciftify_vol_result tests"
   ]
  },
  {
   "cell_type": "code",
   "execution_count": 9,
   "metadata": {
    "collapsed": true,
    "scrolled": true
   },
   "outputs": [],
   "source": [
    "def download_vmhc(subid):\n",
    "    amazon_addy = 'https://s3.amazonaws.com/fcp-indi/data/Projects/ABIDE_Initiative/Outputs/cpac/filt_global/vmhc/{}_vmhc.nii.gz'.format(subid)\n",
    "    sub_vmhc = os.path.join(src_vmhc, '{}_vmhc.nii.gz'.format(subid))\n",
    "    download_file(amazon_addy, sub_vmhc)        \n",
    "\n",
    "src_vmhc = os.path.join(src_data_dir, 'abide', 'vmhc')    \n",
    "if not os.path.exists(src_vmhc): \n",
    "    run(['mkdir', src_vmhc])\n",
    "\n",
    "subjects=['NYU_0050954','NYU_0050955']\n",
    "for subid in subjects:\n",
    "    download_vmhc(subid)"
   ]
  },
  {
   "cell_type": "code",
   "execution_count": 10,
   "metadata": {},
   "outputs": [
    {
     "data": {
      "text/plain": [
       "0"
      ]
     },
     "execution_count": 10,
     "metadata": {},
     "output_type": "execute_result"
    }
   ],
   "source": [
    "subject = 'NYU_0050954'\n",
    "run(['cifti_vis_map', 'nifti-snaps',\n",
    "        '--hcp-data-dir', hcp_data_dir,\n",
    "        '--qcdir', os.path.join(hcp_data_dir, 'abide_vmhc_vis'),\n",
    "        '--resample-nifti', '--colour-palette', 'fidl', \n",
    "        os.path.join(src_vmhc, '{}_vmhc.nii.gz'.format(subject)), subject, '{}_vmhc'.format(subject)])"
   ]
  },
  {
   "cell_type": "code",
   "execution_count": 11,
   "metadata": {},
   "outputs": [
    {
     "data": {
      "text/plain": [
       "0"
      ]
     },
     "execution_count": 11,
     "metadata": {},
     "output_type": "execute_result"
    }
   ],
   "source": [
    "subject = 'NYU_0050954'\n",
    "run(['cifti_vis_map', 'nifti-snaps',\n",
    "        '--hcp-data-dir', hcp_data_dir,\n",
    "        '--qcdir', os.path.join(hcp_data_dir, 'abide_vmhc_vis'),\n",
    "        '--resample-nifti',  \n",
    "        os.path.join(src_vmhc, '{}_vmhc.nii.gz'.format(subject)), subject, '{}_vmhc_dcol'.format(subject)])"
   ]
  },
  {
   "cell_type": "code",
   "execution_count": 12,
   "metadata": {
    "scrolled": true
   },
   "outputs": [
    {
     "data": {
      "text/plain": [
       "0"
      ]
     },
     "execution_count": 12,
     "metadata": {},
     "output_type": "execute_result"
    }
   ],
   "source": [
    "subject = 'NYU_0050954'\n",
    "run(['cifti_vis_map', 'nifti-snaps', '--debug',\n",
    "        '--qcdir', os.path.join(hcp_data_dir, 'abide_vmhc_vis'),\n",
    "        '--resample-nifti', '--colour-palette', 'fidl', \n",
    "        os.path.join(src_vmhc, '{}_vmhc.nii.gz'.format(subject)), 'HCP_S1200_GroupAvg', '{}_vmhc'.format(subject)])"
   ]
  },
  {
   "cell_type": "code",
   "execution_count": 13,
   "metadata": {},
   "outputs": [
    {
     "data": {
      "text/plain": [
       "0"
      ]
     },
     "execution_count": 13,
     "metadata": {},
     "output_type": "execute_result"
    }
   ],
   "source": [
    "subject = 'NYU_0050955'\n",
    "run(['cifti_vis_map', 'nifti-snaps',\n",
    "        '--qcdir', os.path.join(hcp_data_dir, 'abide_vmhc_vis'),\n",
    "        '--resample-nifti',\n",
    "        os.path.join(src_vmhc, '{}_vmhc.nii.gz'.format(subject)), 'HCP_S1200_GroupAvg', '{}_vmhc'.format(subject)])"
   ]
  },
  {
   "cell_type": "code",
   "execution_count": 14,
   "metadata": {},
   "outputs": [
    {
     "data": {
      "text/plain": [
       "0"
      ]
     },
     "execution_count": 14,
     "metadata": {},
     "output_type": "execute_result"
    }
   ],
   "source": [
    "run(['cifti_vis_map', 'index',\n",
    "        '--hcp-data-dir', '/tmp',\n",
    "        '--qcdir', os.path.join(hcp_data_dir, 'abide_vmhc_vis')])"
   ]
  },
  {
   "cell_type": "markdown",
   "metadata": {},
   "source": [
    "# Testing ciftify_vol_result with HCP data..if data in src"
   ]
  },
  {
   "cell_type": "code",
   "execution_count": 15,
   "metadata": {},
   "outputs": [],
   "source": [
    "HCP_subid = '100307'\n",
    "HCP_src_dir = os.path.join(src_data_dir, 'HCP') \n",
    "label_vol = os.path.join(HCP_src_dir, HCP_subid, 'MNINonLinear', 'aparc+aseg.nii.gz')\n",
    "scalar_vol = os.path.join(HCP_src_dir, HCP_subid, 'MNINonLinear', 'T2w_restore.nii.gz')\n",
    "\n",
    "run_HCP_tests = True if os.path.exists(HCP_src_dir) else False\n",
    "\n",
    "if run_HCP_tests:\n",
    "    HCP_out_dir = os.path.join(new_outputs, 'HCP')\n",
    "    run(['mkdir', '-p', HCP_out_dir])\n",
    "    run(['ciftify_vol_result', '--debug','--HCP-Pipelines', '--resample-nifti',\n",
    "         '--hcp-data-dir', HCP_src_dir,\n",
    "        '--integer-labels', HCP_subid, label_vol, \n",
    "         os.path.join(HCP_out_dir, '{}.aparc+aseg.32k_fs_LR.dscalar.nii'.format(HCP_subid))])"
   ]
  },
  {
   "cell_type": "code",
   "execution_count": 16,
   "metadata": {},
   "outputs": [],
   "source": [
    "if run_HCP_tests:\n",
    "    run(['ciftify_vol_result','--HCP-Pipelines', '--HCP-MSMAll','--resample-nifti',\n",
    "         '--hcp-data-dir', HCP_src_dir,\n",
    "        '--integer-labels', HCP_subid, label_vol, \n",
    "         os.path.join(HCP_out_dir, '{}.aparc+aseg_MSMAll.32k_fs_LR.dscalar.nii'.format(HCP_subid))])"
   ]
  },
  {
   "cell_type": "code",
   "execution_count": 17,
   "metadata": {},
   "outputs": [],
   "source": [
    "if run_HCP_tests:\n",
    "    run(['ciftify_vol_result','--HCP-Pipelines', '--resample-nifti',\n",
    "         '--hcp-data-dir', HCP_src_dir, HCP_subid, \n",
    "         os.path.join(HCP_src_dir, HCP_subid, 'MNINonLinear', 'T2w_restore.nii.gz'),\n",
    "         os.path.join(HCP_out_dir, '{}.T2w_restore.32k_fs_LR.dscalar.nii'.format(HCP_subid))])"
   ]
  },
  {
   "cell_type": "code",
   "execution_count": 18,
   "metadata": {},
   "outputs": [],
   "source": [
    "if run_HCP_tests:\n",
    "    run(['ciftify_vol_result','--HCP-Pipelines', '--HCP-MSMAll',\n",
    "         '--hcp-data-dir', HCP_src_dir, HCP_subid, \n",
    "         os.path.join(HCP_src_dir, HCP_subid, 'MNINonLinear', 'T2w_restore.2.nii.gz'),\n",
    "         os.path.join(HCP_out_dir, '{}.T2w_restore_MSMAll.32k_fs_LR.dscalar.nii'.format(HCP_subid))])"
   ]
  },
  {
   "cell_type": "markdown",
   "metadata": {},
   "source": [
    "# Download the main dataset"
   ]
  },
  {
   "cell_type": "code",
   "execution_count": 19,
   "metadata": {
    "collapsed": true
   },
   "outputs": [],
   "source": [
    "subids = ['sub-50005','sub-50007']\n",
    "\n",
    "if not os.path.exists(src_data_dir):\n",
    "    run(['mkdir','-p',src_data_dir])\n",
    "\n",
    "for subid in subids:\n",
    "    sub_fs_path = os.path.join('ds000030_R1.0.4','derivatives','freesurfer', subid)\n",
    "if not os.path.exists(os.path.join(src_data_dir, sub_fs_path)):\n",
    "    if not os.path.exists(os.path.join(src_data_dir, \n",
    "                                       os.path.basename(freesurfer_webtgz))):        \n",
    "        run(['wget', '-P', src_data_dir, freesurfer_webtgz])\n",
    "\n",
    "    run(['unzip', \n",
    "         os.path.join(src_data_dir, \n",
    "                      os.path.basename(freesurfer_webtgz)), \n",
    "         os.path.join(sub_fs_path,'*'),\n",
    "         '-d', src_data_dir])\n",
    "\n",
    "for subid in subids:\n",
    "    sub_file = os.path.join('ds000030_R1.0.4','derivatives',\n",
    "                            'fmriprep', subid,'func',\n",
    "                            '{}_task-rest_bold_space-T1w_preproc.nii.gz'.format(subid))\n",
    "    if not os.path.exists(os.path.join(src_data_dir,sub_file)):\n",
    "        if not os.path.exists(os.path.join(src_data_dir, \n",
    "                                           os.path.basename(func_webtgz))):\n",
    "            run(['wget', '-P', src_data_dir, func_webtgz])\n",
    "\n",
    "        run(['unzip', \n",
    "             os.path.join(src_data_dir, \n",
    "                          os.path.basename(func_webtgz)), \n",
    "             sub_file,\n",
    "             '-d', src_data_dir])\n",
    "\n",
    "for subid in subids:\n",
    "    sub_file = os.path.join('ds000030_R1.0.4','derivatives',\n",
    "                            'fmriprep', subid,'func',\n",
    "                            '{}_task-rest_bold_space-MNI152NLin2009cAsym_preproc.nii.gz'.format(subid))\n",
    "    if not os.path.exists(os.path.join(src_data_dir,sub_file)):\n",
    "        if not os.path.exists(os.path.join(src_data_dir, \n",
    "                                           os.path.basename(func_webtgz))):\n",
    "            run(['wget', '-P', src_data_dir, func_webtgz])\n",
    "\n",
    "        run(['unzip', \n",
    "             os.path.join(src_data_dir, \n",
    "                          os.path.basename(func_webtgz)), \n",
    "             sub_file,\n",
    "             '-d', src_data_dir])"
   ]
  },
  {
   "cell_type": "code",
   "execution_count": null,
   "metadata": {},
   "outputs": [],
   "source": [
    "run(['ciftify_recon_all', '--resample-to-T1w32k', '--hcp-data-dir', hcp_data_dir,\n",
    "    '--fs-subjects-dir', fs_subjects_dir, \n",
    "    subids[0]])"
   ]
  },
  {
   "cell_type": "code",
   "execution_count": null,
   "metadata": {},
   "outputs": [],
   "source": [
    "run(['ciftify_recon_all', '--hcp-data-dir', hcp_data_dir,\n",
    "    '--fs-subjects-dir', fs_subjects_dir, \n",
    "    subids[1]])"
   ]
  },
  {
   "cell_type": "code",
   "execution_count": null,
   "metadata": {},
   "outputs": [],
   "source": [
    "for subid in subids:\n",
    "    run(['cifti_vis_recon_all', 'snaps', '--hcp-data-dir',hcp_data_dir, subid])\n",
    "run(['cifti_vis_recon_all', 'index', '--hcp-data-dir', hcp_data_dir])"
   ]
  },
  {
   "cell_type": "code",
   "execution_count": null,
   "metadata": {
    "collapsed": true
   },
   "outputs": [],
   "source": [
    "# for subid in ['sub-50004','sub-50006', 'sub-50008']:\n",
    "#     run(['ciftify_recon_all', '--hcp-data-dir', hcp_data_dir,\n",
    "#         '--fs-subjects-dir', fs_subjects_dir, \n",
    "#         subid])"
   ]
  },
  {
   "cell_type": "code",
   "execution_count": null,
   "metadata": {
    "collapsed": true
   },
   "outputs": [],
   "source": [
    "# for subid in ['sub-50004','sub-50006', 'sub-50008']:\n",
    "#     run(['cifti_vis_recon_all', 'snaps', '--hcp-data-dir',hcp_data_dir, subid])\n",
    "# run(['cifti_vis_recon_all', 'index', '--hcp-data-dir', hcp_data_dir])"
   ]
  },
  {
   "cell_type": "markdown",
   "metadata": {},
   "source": [
    "# Running ciftify_subject_fmri "
   ]
  },
  {
   "cell_type": "code",
   "execution_count": null,
   "metadata": {
    "scrolled": true
   },
   "outputs": [],
   "source": [
    "subid=subids[0]\n",
    "native_func = os.path.join(src_data_dir,'ds000030_R1.0.4','derivatives',\n",
    "                 'fmriprep', subid,'func',\n",
    "                 '{}_task-rest_bold_space-native_preproc.nii.gz'.format(subid))\n",
    "mat_file = os.path.join(src_data_dir, 'ds000030_R1.0.4','derivatives',\n",
    "                            'fmriprep', subid,'func',\n",
    "                            '{}_task-rest_bold_T1_to_EPI.mat'.format(subid))\n",
    "\n",
    "with open(mat_file, \"w\") as text_file:\n",
    "    text_file.write('''1.03  -0.015  0.0025  -15.0\n",
    "0.014  1.01  -0.005  -11.9\n",
    "-0.007 0.01  0.99  2\n",
    "0  0  0  1\n",
    "''')\n",
    "\n",
    "t1_func = os.path.join(src_data_dir,'ds000030_R1.0.4','derivatives',\n",
    "                 'fmriprep', subid,'func',\n",
    "                 '{}_task-rest_bold_space-T1w_preproc.nii.gz'.format(subid))\n",
    "if not os.path.exists(native_func):\n",
    "    run(['flirt', '-in', t1_func, '-ref', t1_func, \n",
    "         '-out', native_func, '-init', mat_file, '-applyxfm'])\n",
    "\n",
    "run(['ciftify_subject_fmri', '--SmoothingFWHM', '12', \n",
    "    '--hcp-data-dir', hcp_data_dir, \n",
    "    native_func, subid, 'rest_test1'])"
   ]
  },
  {
   "cell_type": "code",
   "execution_count": null,
   "metadata": {},
   "outputs": [],
   "source": [
    "subid=subids[0]\n",
    "run(['cifti_vis_fmri', 'snaps', '--SmoothingFWHM', '12', '--hcp-data-dir',hcp_data_dir, 'rest_test1', subid])"
   ]
  },
  {
   "cell_type": "code",
   "execution_count": null,
   "metadata": {
    "scrolled": true
   },
   "outputs": [],
   "source": [
    "subid=subids[0]\n",
    "native_func_mean = os.path.join(src_data_dir,'ds000030_R1.0.4','derivatives',\n",
    "                 'fmriprep', subid,'func',\n",
    "                 '{}_task-rest_bold_space-native_mean.nii.gz'.format(subid))\n",
    "\n",
    "run(['fslmaths', native_func, '-Tmean', native_func_mean])\n",
    "\n",
    "run(['ciftify_subject_fmri', '--hcp-data-dir', hcp_data_dir, \n",
    "    '--FLIRT-template', native_func_mean, native_func, subid, 'rest_test2'])\n"
   ]
  },
  {
   "cell_type": "code",
   "execution_count": null,
   "metadata": {},
   "outputs": [],
   "source": [
    "subid=subids[0]\n",
    "run(['cifti_vis_fmri', 'snaps', '--smooth-conn', '12', '--hcp-data-dir',hcp_data_dir, 'rest_test2', subid])"
   ]
  },
  {
   "cell_type": "code",
   "execution_count": null,
   "metadata": {
    "scrolled": true
   },
   "outputs": [],
   "source": [
    "subid = subids[1]\n",
    "run(['ciftify_subject_fmri', '--SmoothingFWHM', '8', '--FLIRT-dof', '30',\n",
    "    '--hcp-data-dir', hcp_data_dir, \n",
    "     '--OutputSurfDiagnostics',\n",
    "    os.path.join(src_data_dir,'ds000030_R1.0.4','derivatives',\n",
    "                 'fmriprep', subid,'func',\n",
    "                 '{}_task-rest_bold_space-T1w_preproc.nii.gz'.format(subid)),\n",
    "    subid, 'rest_test_dof30'])"
   ]
  },
  {
   "cell_type": "code",
   "execution_count": null,
   "metadata": {},
   "outputs": [],
   "source": [
    "subid = subids[1]\n",
    "run(['cifti_vis_fmri', 'snaps', '--hcp-data-dir',hcp_data_dir, 'rest_test_dof30', subid])"
   ]
  },
  {
   "cell_type": "code",
   "execution_count": null,
   "metadata": {},
   "outputs": [],
   "source": [
    "subid = subids[1]\n",
    "run(['ciftify_subject_fmri', '--already-in-MNI', '--SmoothingFWHM', '8', \n",
    "    '--hcp-data-dir', hcp_data_dir, \n",
    "    os.path.join(src_data_dir,'ds000030_R1.0.4','derivatives',\n",
    "                 'fmriprep', subid,'func',\n",
    "                 '{}_task-rest_bold_space-MNI152NLin2009cAsym_preproc.nii.gz'.format(subid)),\n",
    "    subid, 'rest_bad_transform'])"
   ]
  },
  {
   "cell_type": "code",
   "execution_count": null,
   "metadata": {},
   "outputs": [],
   "source": [
    "subid = subids[1]\n",
    "run(['cifti_vis_fmri', 'snaps', '--hcp-data-dir',hcp_data_dir, 'rest_bad_transform', subid])"
   ]
  },
  {
   "cell_type": "code",
   "execution_count": null,
   "metadata": {},
   "outputs": [],
   "source": [
    "run(['cifti_vis_fmri', 'index', '--hcp-data-dir', hcp_data_dir])"
   ]
  },
  {
   "cell_type": "code",
   "execution_count": 21,
   "metadata": {},
   "outputs": [
    {
     "data": {
      "text/plain": [
       "0"
      ]
     },
     "execution_count": 21,
     "metadata": {},
     "output_type": "execute_result"
    }
   ],
   "source": [
    "from glob import glob\n",
    "dtseries_files = glob(os.path.join(hcp_data_dir,'*',\n",
    "                                       'MNINonLinear', 'Results',\n",
    "                                       '*', '*Atlas_s*.dtseries.nii'))\n",
    "run(['cifti_vis_RSN', 'cifti-snaps',  \n",
    "         '--hcp-data-dir',hcp_data_dir, \n",
    "         '--colour-palette', 'PSYCH-NO-NONE',\n",
    "         dtseries_files[0], \n",
    "         os.path.basename(os.path.dirname(os.path.dirname(os.path.dirname(os.path.dirname(dtseries_files[0])))))])\n",
    "    \n",
    "for dtseries in dtseries_files[1:]:\n",
    "    run(['cifti_vis_RSN', 'cifti-snaps',  \n",
    "         '--hcp-data-dir',hcp_data_dir, dtseries, \n",
    "         os.path.basename(os.path.dirname(os.path.dirname(os.path.dirname(os.path.dirname(dtseries)))))])\n",
    "run(['cifti_vis_RSN', 'index', \n",
    "     '--hcp-data-dir', hcp_data_dir])"
   ]
  },
  {
   "cell_type": "code",
   "execution_count": 22,
   "metadata": {},
   "outputs": [
    {
     "data": {
      "text/plain": [
       "0"
      ]
     },
     "execution_count": 22,
     "metadata": {},
     "output_type": "execute_result"
    }
   ],
   "source": [
    "run(['cifti_vis_RSN', 'index', '--hcp-data-dir', hcp_data_dir])"
   ]
  },
  {
   "cell_type": "code",
   "execution_count": 117,
   "metadata": {
    "scrolled": true
   },
   "outputs": [
    {
     "name": "stderr",
     "output_type": "stream",
     "text": [
      "Running: ciftify_seed_corr /scratch/edickie/ciftify_intergration_tests/run_2017-09-11/hcp/sub-50005/MNINonLinear/Results/rest_test2/rest_test2_Atlas_s0.dtseries.nii /scratch/edickie/ciftify_intergration_tests/run_2017-09-11/rois/sub-50005_RIGHT-PUTAMEN_vol.nii.gz\n",
      "Running: ciftify_seed_corr /scratch/edickie/ciftify_intergration_tests/run_2017-09-11/hcp/sub-50005/MNINonLinear/Results/rest_test2/rest_test2_Atlas_s0.dtseries.nii /scratch/edickie/ciftify_intergration_tests/run_2017-09-11/rois/sub-50005_RIGHT-PUTAMEN_vol.nii.gz\n",
      "Running: ciftify_peaktable --min-threshold -0.5 --max-threshold 0.5 --no-cluster-dlabel /scratch/edickie/ciftify_intergration_tests/run_2017-09-11/hcp/sub-50005/MNINonLinear/Results/rest_test2/rest_test2_Atlas_s0_sub-50005_RIGHT-PUTAMEN_vol.dscalar.nii\n",
      "Running: ciftify_peaktable --min-threshold -0.5 --max-threshold 0.5 --no-cluster-dlabel /scratch/edickie/ciftify_intergration_tests/run_2017-09-11/hcp/sub-50005/MNINonLinear/Results/rest_test2/rest_test2_Atlas_s0_sub-50005_RIGHT-PUTAMEN_vol.dscalar.nii\n",
      "Running: ciftify_seed_corr /scratch/edickie/ciftify_intergration_tests/run_2017-09-11/hcp/sub-50005/MNINonLinear/Results/rest_test1/rest_test1_Atlas_s0.dtseries.nii /scratch/edickie/ciftify_intergration_tests/run_2017-09-11/rois/sub-50005_RIGHT-PUTAMEN_vol.nii.gz\n",
      "Running: ciftify_seed_corr /scratch/edickie/ciftify_intergration_tests/run_2017-09-11/hcp/sub-50005/MNINonLinear/Results/rest_test1/rest_test1_Atlas_s0.dtseries.nii /scratch/edickie/ciftify_intergration_tests/run_2017-09-11/rois/sub-50005_RIGHT-PUTAMEN_vol.nii.gz\n",
      "Running: ciftify_peaktable --min-threshold -0.5 --max-threshold 0.5 --no-cluster-dlabel /scratch/edickie/ciftify_intergration_tests/run_2017-09-11/hcp/sub-50005/MNINonLinear/Results/rest_test1/rest_test1_Atlas_s0_sub-50005_RIGHT-PUTAMEN_vol.dscalar.nii\n",
      "Running: ciftify_peaktable --min-threshold -0.5 --max-threshold 0.5 --no-cluster-dlabel /scratch/edickie/ciftify_intergration_tests/run_2017-09-11/hcp/sub-50005/MNINonLinear/Results/rest_test1/rest_test1_Atlas_s0_sub-50005_RIGHT-PUTAMEN_vol.dscalar.nii\n",
      "Running: ciftify_seed_corr /scratch/edickie/ciftify_intergration_tests/run_2017-09-11/hcp/sub-50005/MNINonLinear/Results/rest_test1/rest_test1_Atlas_s12.dtseries.nii /scratch/edickie/ciftify_intergration_tests/run_2017-09-11/rois/sub-50005_RIGHT-PUTAMEN_vol.nii.gz\n",
      "Running: ciftify_seed_corr /scratch/edickie/ciftify_intergration_tests/run_2017-09-11/hcp/sub-50005/MNINonLinear/Results/rest_test1/rest_test1_Atlas_s12.dtseries.nii /scratch/edickie/ciftify_intergration_tests/run_2017-09-11/rois/sub-50005_RIGHT-PUTAMEN_vol.nii.gz\n",
      "Running: ciftify_peaktable --min-threshold -0.5 --max-threshold 0.5 --no-cluster-dlabel /scratch/edickie/ciftify_intergration_tests/run_2017-09-11/hcp/sub-50005/MNINonLinear/Results/rest_test1/rest_test1_Atlas_s12_sub-50005_RIGHT-PUTAMEN_vol.dscalar.nii\n",
      "Running: ciftify_peaktable --min-threshold -0.5 --max-threshold 0.5 --no-cluster-dlabel /scratch/edickie/ciftify_intergration_tests/run_2017-09-11/hcp/sub-50005/MNINonLinear/Results/rest_test1/rest_test1_Atlas_s12_sub-50005_RIGHT-PUTAMEN_vol.dscalar.nii\n",
      "Running: ciftify_seed_corr /scratch/edickie/ciftify_intergration_tests/run_2017-09-11/hcp/sub-50007/MNINonLinear/Results/rest_bad_transform/rest_bad_transform_Atlas_s0.dtseries.nii /scratch/edickie/ciftify_intergration_tests/run_2017-09-11/rois/sub-50007_RIGHT-PUTAMEN_vol.nii.gz\n",
      "Running: ciftify_seed_corr /scratch/edickie/ciftify_intergration_tests/run_2017-09-11/hcp/sub-50007/MNINonLinear/Results/rest_bad_transform/rest_bad_transform_Atlas_s0.dtseries.nii /scratch/edickie/ciftify_intergration_tests/run_2017-09-11/rois/sub-50007_RIGHT-PUTAMEN_vol.nii.gz\n",
      "Running: ciftify_peaktable --min-threshold -0.5 --max-threshold 0.5 --no-cluster-dlabel /scratch/edickie/ciftify_intergration_tests/run_2017-09-11/hcp/sub-50007/MNINonLinear/Results/rest_bad_transform/rest_bad_transform_Atlas_s0_sub-50007_RIGHT-PUTAMEN_vol.dscalar.nii\n",
      "Running: ciftify_peaktable --min-threshold -0.5 --max-threshold 0.5 --no-cluster-dlabel /scratch/edickie/ciftify_intergration_tests/run_2017-09-11/hcp/sub-50007/MNINonLinear/Results/rest_bad_transform/rest_bad_transform_Atlas_s0_sub-50007_RIGHT-PUTAMEN_vol.dscalar.nii\n",
      "Running: ciftify_seed_corr /scratch/edickie/ciftify_intergration_tests/run_2017-09-11/hcp/sub-50007/MNINonLinear/Results/rest_bad_transform/rest_bad_transform_Atlas_s8.dtseries.nii /scratch/edickie/ciftify_intergration_tests/run_2017-09-11/rois/sub-50007_RIGHT-PUTAMEN_vol.nii.gz\n",
      "Running: ciftify_seed_corr /scratch/edickie/ciftify_intergration_tests/run_2017-09-11/hcp/sub-50007/MNINonLinear/Results/rest_bad_transform/rest_bad_transform_Atlas_s8.dtseries.nii /scratch/edickie/ciftify_intergration_tests/run_2017-09-11/rois/sub-50007_RIGHT-PUTAMEN_vol.nii.gz\n",
      "Running: ciftify_peaktable --min-threshold -0.5 --max-threshold 0.5 --no-cluster-dlabel /scratch/edickie/ciftify_intergration_tests/run_2017-09-11/hcp/sub-50007/MNINonLinear/Results/rest_bad_transform/rest_bad_transform_Atlas_s8_sub-50007_RIGHT-PUTAMEN_vol.dscalar.nii\n",
      "Running: ciftify_peaktable --min-threshold -0.5 --max-threshold 0.5 --no-cluster-dlabel /scratch/edickie/ciftify_intergration_tests/run_2017-09-11/hcp/sub-50007/MNINonLinear/Results/rest_bad_transform/rest_bad_transform_Atlas_s8_sub-50007_RIGHT-PUTAMEN_vol.dscalar.nii\n",
      "Running: ciftify_seed_corr /scratch/edickie/ciftify_intergration_tests/run_2017-09-11/hcp/sub-50007/MNINonLinear/Results/rest_test_dof30/rest_test_dof30_Atlas_s8.dtseries.nii /scratch/edickie/ciftify_intergration_tests/run_2017-09-11/rois/sub-50007_RIGHT-PUTAMEN_vol.nii.gz\n",
      "Running: ciftify_seed_corr /scratch/edickie/ciftify_intergration_tests/run_2017-09-11/hcp/sub-50007/MNINonLinear/Results/rest_test_dof30/rest_test_dof30_Atlas_s8.dtseries.nii /scratch/edickie/ciftify_intergration_tests/run_2017-09-11/rois/sub-50007_RIGHT-PUTAMEN_vol.nii.gz\n",
      "Running: ciftify_peaktable --min-threshold -0.5 --max-threshold 0.5 --no-cluster-dlabel /scratch/edickie/ciftify_intergration_tests/run_2017-09-11/hcp/sub-50007/MNINonLinear/Results/rest_test_dof30/rest_test_dof30_Atlas_s8_sub-50007_RIGHT-PUTAMEN_vol.dscalar.nii\n",
      "Running: ciftify_peaktable --min-threshold -0.5 --max-threshold 0.5 --no-cluster-dlabel /scratch/edickie/ciftify_intergration_tests/run_2017-09-11/hcp/sub-50007/MNINonLinear/Results/rest_test_dof30/rest_test_dof30_Atlas_s8_sub-50007_RIGHT-PUTAMEN_vol.dscalar.nii\n",
      "Running: ciftify_seed_corr /scratch/edickie/ciftify_intergration_tests/run_2017-09-11/hcp/sub-50007/MNINonLinear/Results/rest_test_dof30/rest_test_dof30_Atlas_s0.dtseries.nii /scratch/edickie/ciftify_intergration_tests/run_2017-09-11/rois/sub-50007_RIGHT-PUTAMEN_vol.nii.gz\n",
      "Running: ciftify_seed_corr /scratch/edickie/ciftify_intergration_tests/run_2017-09-11/hcp/sub-50007/MNINonLinear/Results/rest_test_dof30/rest_test_dof30_Atlas_s0.dtseries.nii /scratch/edickie/ciftify_intergration_tests/run_2017-09-11/rois/sub-50007_RIGHT-PUTAMEN_vol.nii.gz\n",
      "Running: ciftify_peaktable --min-threshold -0.5 --max-threshold 0.5 --no-cluster-dlabel /scratch/edickie/ciftify_intergration_tests/run_2017-09-11/hcp/sub-50007/MNINonLinear/Results/rest_test_dof30/rest_test_dof30_Atlas_s0_sub-50007_RIGHT-PUTAMEN_vol.dscalar.nii\n",
      "Running: ciftify_peaktable --min-threshold -0.5 --max-threshold 0.5 --no-cluster-dlabel /scratch/edickie/ciftify_intergration_tests/run_2017-09-11/hcp/sub-50007/MNINonLinear/Results/rest_test_dof30/rest_test_dof30_Atlas_s0_sub-50007_RIGHT-PUTAMEN_vol.dscalar.nii\n"
     ]
    }
   ],
   "source": [
    "roi_dir = os.path.join(new_outputs, 'rois')\n",
    "if not os.path.exists(roi_dir):\n",
    "    run(['mkdir', roi_dir])\n",
    "for dtseries in dtseries_files:\n",
    "    run_seed_corr_fmri_test(dtseries, hcp_data_dir, roi_dir)"
   ]
  },
  {
   "cell_type": "code",
   "execution_count": 24,
   "metadata": {
    "scrolled": true
   },
   "outputs": [
    {
     "data": {
      "text/plain": [
       "0"
      ]
     },
     "execution_count": 24,
     "metadata": {},
     "output_type": "execute_result"
    }
   ],
   "source": [
    "run(['cifti_vis_RSN', 'nifti-snaps', '--debug', \n",
    "         '--hcp-data-dir',hcp_data_dir, \n",
    "         '--qcdir', os.path.join(hcp_data_dir, 'RSN_from_nii'),\n",
    "         '--colour-palette', 'PSYCH-NO-NONE',\n",
    "     \n",
    "        os.path.join(src_data_dir,'ds000030_R1.0.4','derivatives',\n",
    "                 'fmriprep', subids[0],'func',\n",
    "                 '{}_task-rest_bold_space-MNI152NLin2009cAsym_preproc.nii.gz'.format(subids[0])),\n",
    "        subids[0]])\n",
    "\n",
    "run(['cifti_vis_RSN', 'nifti-snaps',  \n",
    "         '--hcp-data-dir',hcp_data_dir, \n",
    "         '--qcdir', os.path.join(hcp_data_dir, 'RSN_from_nii'),\n",
    "        os.path.join(src_data_dir,'ds000030_R1.0.4','derivatives',\n",
    "                 'fmriprep', subids[1],'func',\n",
    "                 '{}_task-rest_bold_space-MNI152NLin2009cAsym_preproc.nii.gz'.format(subids[1])),\n",
    "        subids[1]])\n",
    "    \n",
    "run(['cifti_vis_RSN', 'index', \n",
    "     '--qcdir', os.path.join(hcp_data_dir, 'RSN_from_nii'),\n",
    "     '--hcp-data-dir', hcp_data_dir])"
   ]
  },
  {
   "cell_type": "code",
   "execution_count": 116,
   "metadata": {},
   "outputs": [
    {
     "name": "stderr",
     "output_type": "stream",
     "text": [
      "Running: ciftify_groupmask /scratch/edickie/ciftify_intergration_tests/run_2017-09-11/hcp/groupmask.dscalar.nii /scratch/edickie/ciftify_intergration_tests/run_2017-09-11/hcp/sub-50005/MNINonLinear/Results/rest_test2/rest_test2_Atlas_s0.dtseries.nii /scratch/edickie/ciftify_intergration_tests/run_2017-09-11/hcp/sub-50005/MNINonLinear/Results/rest_test1/rest_test1_Atlas_s0.dtseries.nii /scratch/edickie/ciftify_intergration_tests/run_2017-09-11/hcp/sub-50005/MNINonLinear/Results/rest_test1/rest_test1_Atlas_s12.dtseries.nii /scratch/edickie/ciftify_intergration_tests/run_2017-09-11/hcp/sub-50007/MNINonLinear/Results/rest_bad_transform/rest_bad_transform_Atlas_s0.dtseries.nii /scratch/edickie/ciftify_intergration_tests/run_2017-09-11/hcp/sub-50007/MNINonLinear/Results/rest_bad_transform/rest_bad_transform_Atlas_s8.dtseries.nii /scratch/edickie/ciftify_intergration_tests/run_2017-09-11/hcp/sub-50007/MNINonLinear/Results/rest_test_dof30/rest_test_dof30_Atlas_s8.dtseries.nii /scratch/edickie/ciftify_intergration_tests/run_2017-09-11/hcp/sub-50007/MNINonLinear/Results/rest_test_dof30/rest_test_dof30_Atlas_s0.dtseries.nii\n",
      "Running: ciftify_groupmask /scratch/edickie/ciftify_intergration_tests/run_2017-09-11/hcp/groupmask.dscalar.nii /scratch/edickie/ciftify_intergration_tests/run_2017-09-11/hcp/sub-50005/MNINonLinear/Results/rest_test2/rest_test2_Atlas_s0.dtseries.nii /scratch/edickie/ciftify_intergration_tests/run_2017-09-11/hcp/sub-50005/MNINonLinear/Results/rest_test1/rest_test1_Atlas_s0.dtseries.nii /scratch/edickie/ciftify_intergration_tests/run_2017-09-11/hcp/sub-50005/MNINonLinear/Results/rest_test1/rest_test1_Atlas_s12.dtseries.nii /scratch/edickie/ciftify_intergration_tests/run_2017-09-11/hcp/sub-50007/MNINonLinear/Results/rest_bad_transform/rest_bad_transform_Atlas_s0.dtseries.nii /scratch/edickie/ciftify_intergration_tests/run_2017-09-11/hcp/sub-50007/MNINonLinear/Results/rest_bad_transform/rest_bad_transform_Atlas_s8.dtseries.nii /scratch/edickie/ciftify_intergration_tests/run_2017-09-11/hcp/sub-50007/MNINonLinear/Results/rest_test_dof30/rest_test_dof30_Atlas_s8.dtseries.nii /scratch/edickie/ciftify_intergration_tests/run_2017-09-11/hcp/sub-50007/MNINonLinear/Results/rest_test_dof30/rest_test_dof30_Atlas_s0.dtseries.nii\n"
     ]
    },
    {
     "data": {
      "text/plain": [
       "0"
      ]
     },
     "execution_count": 116,
     "metadata": {},
     "output_type": "execute_result"
    }
   ],
   "source": [
    "groupmask_cmd = ['ciftify_groupmask', os.path.join(hcp_data_dir, 'groupmask.dscalar.nii')]\n",
    "groupmask_cmd.extend(dtseries_files)\n",
    "\n",
    "run(groupmask_cmd)     "
   ]
  },
  {
   "cell_type": "markdown",
   "metadata": {
    "collapsed": true
   },
   "source": [
    "# Running PINT and related functions"
   ]
  },
  {
   "cell_type": "code",
   "execution_count": 26,
   "metadata": {},
   "outputs": [
    {
     "data": {
      "text/plain": [
       "0"
      ]
     },
     "execution_count": 26,
     "metadata": {},
     "output_type": "execute_result"
    }
   ],
   "source": [
    "subid = subids[0]\n",
    "run(['mkdir', '-p', os.path.join(new_outputs, 'PINT', subid)])\n",
    "\n",
    "run(['ciftify_PINT_vertices', '--pcorr', \n",
    "     os.path.join(hcp_data_dir, subid,'MNINonLinear', 'Results',\n",
    "                  'rest_test1', 'rest_test1_Atlas_s12.dtseries.nii'),\n",
    "     os.path.join(hcp_data_dir, subid,'MNINonLinear','fsaverage_LR32k',\n",
    "                  '{}.L.midthickness.32k_fs_LR.surf.gii'.format(subid)),\n",
    "     os.path.join(hcp_data_dir, subid,'MNINonLinear','fsaverage_LR32k',\n",
    "                  '{}.R.midthickness.32k_fs_LR.surf.gii'.format(subid)),\n",
    "     os.path.join(ciftify.config.find_ciftify_global(), 'PINT', 'Yeo7_2011_80verts.csv'),\n",
    "     os.path.join(new_outputs, 'PINT', subid, subid)])\n"
   ]
  },
  {
   "cell_type": "code",
   "execution_count": 27,
   "metadata": {
    "scrolled": true
   },
   "outputs": [
    {
     "data": {
      "text/plain": [
       "0"
      ]
     },
     "execution_count": 27,
     "metadata": {},
     "output_type": "execute_result"
    }
   ],
   "source": [
    "subid = subids[0]\n",
    "run(['cifti_vis_PINT', 'snaps', '--hcp-data-dir',  hcp_data_dir,\n",
    "     os.path.join(hcp_data_dir, subid,'MNINonLinear', 'Results',\n",
    "                  'rest_test1', 'rest_test1_Atlas_s12.dtseries.nii'),\n",
    "     subid,\n",
    "     os.path.join(new_outputs, 'PINT', subid, '{}_summary.csv'.format(subid))])"
   ]
  },
  {
   "cell_type": "code",
   "execution_count": 28,
   "metadata": {},
   "outputs": [
    {
     "data": {
      "text/plain": [
       "0"
      ]
     },
     "execution_count": 28,
     "metadata": {},
     "output_type": "execute_result"
    }
   ],
   "source": [
    "subid = subids[1]\n",
    "run(['mkdir', '-p', os.path.join(new_outputs, 'PINT', subid)])\n",
    "\n",
    "run(['ciftify_PINT_vertices',\n",
    "     os.path.join(hcp_data_dir, subid,'MNINonLinear', 'Results',\n",
    "                  'rest_test_dof30', 'rest_test_dof30_Atlas_s8.dtseries.nii'),\n",
    "     os.path.join(hcp_data_dir, subid,'MNINonLinear','fsaverage_LR32k',\n",
    "                  '{}.L.midthickness.32k_fs_LR.surf.gii'.format(subid)),\n",
    "     os.path.join(hcp_data_dir, subid,'MNINonLinear','fsaverage_LR32k',\n",
    "                  '{}.R.midthickness.32k_fs_LR.surf.gii'.format(subid)),\n",
    "     os.path.join(ciftify.config.find_ciftify_global(), 'PINT', 'Yeo7_2011_80verts.csv'),\n",
    "     os.path.join(new_outputs, 'PINT', subid, subid)])"
   ]
  },
  {
   "cell_type": "code",
   "execution_count": 29,
   "metadata": {},
   "outputs": [
    {
     "data": {
      "text/plain": [
       "0"
      ]
     },
     "execution_count": 29,
     "metadata": {},
     "output_type": "execute_result"
    }
   ],
   "source": [
    "run(['cifti_vis_PINT', 'snaps', '--hcp-data-dir',  hcp_data_dir,\n",
    "     os.path.join(hcp_data_dir, subid,'MNINonLinear', 'Results',\n",
    "                  'rest_test_dof30', 'rest_test_dof30_Atlas_s8.dtseries.nii'),\n",
    "     subid,\n",
    "     os.path.join(new_outputs, 'PINT', subid, '{}_summary.csv'.format(subid))])"
   ]
  },
  {
   "cell_type": "code",
   "execution_count": 120,
   "metadata": {},
   "outputs": [
    {
     "name": "stderr",
     "output_type": "stream",
     "text": [
      "Running: mkdir -p /scratch/edickie/ciftify_intergration_tests/run_2017-09-11/PINT/sub-50007\n",
      "Running: mkdir -p /scratch/edickie/ciftify_intergration_tests/run_2017-09-11/PINT/sub-50007\n",
      "Running: ciftify_PINT_vertices --outputall /scratch/edickie/ciftify_intergration_tests/run_2017-09-11/hcp/sub-50007/MNINonLinear/Results/rest_test_dof30/rest_test_dof30_Atlas_s8.dtseries.nii /scratch/edickie/ciftify_intergration_tests/run_2017-09-11/hcp/sub-50007/MNINonLinear/fsaverage_LR32k/sub-50007.L.midthickness.32k_fs_LR.surf.gii /scratch/edickie/ciftify_intergration_tests/run_2017-09-11/hcp/sub-50007/MNINonLinear/fsaverage_LR32k/sub-50007.R.midthickness.32k_fs_LR.surf.gii /projects/edickie/code/ciftify/ciftify/data/PINT/Yeo7_2011_80verts.csv /scratch/edickie/ciftify_intergration_tests/run_2017-09-11/PINT/sub-50007/sub-50007_all\n",
      "Running: ciftify_PINT_vertices --outputall /scratch/edickie/ciftify_intergration_tests/run_2017-09-11/hcp/sub-50007/MNINonLinear/Results/rest_test_dof30/rest_test_dof30_Atlas_s8.dtseries.nii /scratch/edickie/ciftify_intergration_tests/run_2017-09-11/hcp/sub-50007/MNINonLinear/fsaverage_LR32k/sub-50007.L.midthickness.32k_fs_LR.surf.gii /scratch/edickie/ciftify_intergration_tests/run_2017-09-11/hcp/sub-50007/MNINonLinear/fsaverage_LR32k/sub-50007.R.midthickness.32k_fs_LR.surf.gii /projects/edickie/code/ciftify/ciftify/data/PINT/Yeo7_2011_80verts.csv /scratch/edickie/ciftify_intergration_tests/run_2017-09-11/PINT/sub-50007/sub-50007_all\n"
     ]
    },
    {
     "data": {
      "text/plain": [
       "0"
      ]
     },
     "execution_count": 120,
     "metadata": {},
     "output_type": "execute_result"
    }
   ],
   "source": [
    "subid = subids[1]\n",
    "run(['mkdir', '-p', os.path.join(new_outputs, 'PINT', subid)])\n",
    "\n",
    "run(['ciftify_PINT_vertices', '--outputall',\n",
    "     os.path.join(hcp_data_dir, subid,'MNINonLinear', 'Results',\n",
    "                  'rest_test_dof30', 'rest_test_dof30_Atlas_s8.dtseries.nii'),\n",
    "     os.path.join(hcp_data_dir, subid,'MNINonLinear','fsaverage_LR32k',\n",
    "                  '{}.L.midthickness.32k_fs_LR.surf.gii'.format(subid)),\n",
    "     os.path.join(hcp_data_dir, subid,'MNINonLinear','fsaverage_LR32k',\n",
    "                  '{}.R.midthickness.32k_fs_LR.surf.gii'.format(subid)),\n",
    "     os.path.join(ciftify.config.find_ciftify_global(), 'PINT', 'Yeo7_2011_80verts.csv'),\n",
    "     os.path.join(new_outputs, 'PINT', subid, '{}_all'.format(subid))])"
   ]
  },
  {
   "cell_type": "code",
   "execution_count": 121,
   "metadata": {},
   "outputs": [
    {
     "name": "stderr",
     "output_type": "stream",
     "text": [
      "Running: cifti_vis_PINT snaps --hcp-data-dir /scratch/edickie/ciftify_intergration_tests/run_2017-09-11/hcp /scratch/edickie/ciftify_intergration_tests/run_2017-09-11/hcp/sub-50007/MNINonLinear/Results/rest_test_dof30/rest_test_dof30_Atlas_s8.dtseries.nii sub-50007 /scratch/edickie/ciftify_intergration_tests/run_2017-09-11/PINT/sub-50007/sub-50007_all_summary.csv\n",
      "Running: cifti_vis_PINT snaps --hcp-data-dir /scratch/edickie/ciftify_intergration_tests/run_2017-09-11/hcp /scratch/edickie/ciftify_intergration_tests/run_2017-09-11/hcp/sub-50007/MNINonLinear/Results/rest_test_dof30/rest_test_dof30_Atlas_s8.dtseries.nii sub-50007 /scratch/edickie/ciftify_intergration_tests/run_2017-09-11/PINT/sub-50007/sub-50007_all_summary.csv\n"
     ]
    },
    {
     "data": {
      "text/plain": [
       "0"
      ]
     },
     "execution_count": 121,
     "metadata": {},
     "output_type": "execute_result"
    }
   ],
   "source": [
    "run(['cifti_vis_PINT', 'snaps', '--hcp-data-dir',  hcp_data_dir,\n",
    "     os.path.join(hcp_data_dir, subid,'MNINonLinear', 'Results',\n",
    "                  'rest_test_dof30', 'rest_test_dof30_Atlas_s8.dtseries.nii'),\n",
    "     subid,\n",
    "     os.path.join(new_outputs, 'PINT', subid, '{}_all_summary.csv'.format(subid))])"
   ]
  },
  {
   "cell_type": "code",
   "execution_count": 122,
   "metadata": {},
   "outputs": [
    {
     "name": "stderr",
     "output_type": "stream",
     "text": [
      "Running: cifti_vis_PINT index --hcp-data-dir /scratch/edickie/ciftify_intergration_tests/run_2017-09-11/hcp\n",
      "Running: cifti_vis_PINT index --hcp-data-dir /scratch/edickie/ciftify_intergration_tests/run_2017-09-11/hcp\n"
     ]
    },
    {
     "data": {
      "text/plain": [
       "0"
      ]
     },
     "execution_count": 122,
     "metadata": {},
     "output_type": "execute_result"
    }
   ],
   "source": [
    "run(['cifti_vis_PINT', 'index', '--hcp-data-dir',  hcp_data_dir])"
   ]
  },
  {
   "cell_type": "code",
   "execution_count": 123,
   "metadata": {},
   "outputs": [
    {
     "name": "stderr",
     "output_type": "stream",
     "text": [
      "Running: ciftify_postPINT1_concat --debug /scratch/edickie/ciftify_intergration_tests/run_2017-09-11/PINT/concatenated.csv /scratch/edickie/ciftify_intergration_tests/run_2017-09-11/PINT/sub-50005/sub-50005_summary.csv /scratch/edickie/ciftify_intergration_tests/run_2017-09-11/PINT/sub-50007/sub-50007_summary.csv /scratch/edickie/ciftify_intergration_tests/run_2017-09-11/PINT/sub-50007/sub-50007_all_summary.csv\n",
      "Running: ciftify_postPINT1_concat --debug /scratch/edickie/ciftify_intergration_tests/run_2017-09-11/PINT/concatenated.csv /scratch/edickie/ciftify_intergration_tests/run_2017-09-11/PINT/sub-50005/sub-50005_summary.csv /scratch/edickie/ciftify_intergration_tests/run_2017-09-11/PINT/sub-50007/sub-50007_summary.csv /scratch/edickie/ciftify_intergration_tests/run_2017-09-11/PINT/sub-50007/sub-50007_all_summary.csv\n",
      "[ciftify_postPINT1_concat] INFO: \n",
      "'||'''|, |''||''| '||\\   ||` |''||''|\n",
      " ||   ||    ||     ||\\  ||     ||\n",
      " ||...|'    ||     || \\ ||     ||\n",
      " ||         ||     ||  \\||     ||\n",
      ".||      |..||..| .||   \\||.   .||.\n",
      "\n",
      "-------------------------------------------------------------\n",
      "2017-09-18 15:15:23.544650 : Starting ciftify_postPINT1_concat\n",
      "-------------------------------------------------------------\n",
      "\n",
      "[ciftify.utils] INFO: Arguments:\n",
      "    !!python/object/new:docopt.Dict\n",
      "    dictitems:\n",
      "      --debug: true\n",
      "      --dry-run: false\n",
      "      --help: false\n",
      "      --no-distance-calc: false\n",
      "      --surfL: null\n",
      "      --surfR: null\n",
      "      <PINT_summary.csv>:\n",
      "      - /scratch/edickie/ciftify_intergration_tests/run_2017-09-11/PINT/sub-50005/sub-50005_summary.csv\n",
      "      - /scratch/edickie/ciftify_intergration_tests/run_2017-09-11/PINT/sub-50007/sub-50007_summary.csv\n",
      "      - /scratch/edickie/ciftify_intergration_tests/run_2017-09-11/PINT/sub-50007/sub-50007_all_summary.csv\n",
      "      <concatenated-pint>: /scratch/edickie/ciftify_intergration_tests/run_2017-09-11/PINT/concatenated.csv\n",
      "    \n",
      "[ciftify.utils] INFO: Running: wb_command -surface-geodesic-distance /projects/edickie/code/ciftify/ciftify/data/HCP_S1200_GroupAvg_v1/S1200.L.midthickness_MSMAll.32k_fs_LR.surf.gii 6111 /tmp/tmpl5fm2_sl/distancecalc.shape.gii -limit 100\n",
      "[ciftify.utils] INFO: Running: wb_command -surface-geodesic-distance /projects/edickie/code/ciftify/ciftify/data/HCP_S1200_GroupAvg_v1/S1200.R.midthickness_MSMAll.32k_fs_LR.surf.gii 6141 /tmp/tmp_txif7hi/distancecalc.shape.gii -limit 100\n",
      "[ciftify.utils] INFO: Running: wb_command -surface-geodesic-distance /projects/edickie/code/ciftify/ciftify/data/HCP_S1200_GroupAvg_v1/S1200.L.midthickness_MSMAll.32k_fs_LR.surf.gii 19598 /tmp/tmp1f29wz2t/distancecalc.shape.gii -limit 100\n",
      "[ciftify.utils] INFO: Running: wb_command -surface-geodesic-distance /projects/edickie/code/ciftify/ciftify/data/HCP_S1200_GroupAvg_v1/S1200.R.midthickness_MSMAll.32k_fs_LR.surf.gii 19537 /tmp/tmph_znbs6u/distancecalc.shape.gii -limit 100\n",
      "[ciftify.utils] INFO: Running: wb_command -surface-geodesic-distance /projects/edickie/code/ciftify/ciftify/data/HCP_S1200_GroupAvg_v1/S1200.L.midthickness_MSMAll.32k_fs_LR.surf.gii 13828 /tmp/tmp3kdm3ru6/distancecalc.shape.gii -limit 100\n",
      "[ciftify.utils] INFO: Running: wb_command -surface-geodesic-distance /projects/edickie/code/ciftify/ciftify/data/HCP_S1200_GroupAvg_v1/S1200.R.midthickness_MSMAll.32k_fs_LR.surf.gii 13828 /tmp/tmpkpvnz37x/distancecalc.shape.gii -limit 100\n",
      "[ciftify.utils] INFO: Running: wb_command -surface-geodesic-distance /projects/edickie/code/ciftify/ciftify/data/HCP_S1200_GroupAvg_v1/S1200.L.midthickness_MSMAll.32k_fs_LR.surf.gii 14785 /tmp/tmpjnuja_bk/distancecalc.shape.gii -limit 100\n",
      "[ciftify.utils] INFO: Running: wb_command -surface-geodesic-distance /projects/edickie/code/ciftify/ciftify/data/HCP_S1200_GroupAvg_v1/S1200.R.midthickness_MSMAll.32k_fs_LR.surf.gii 12052 /tmp/tmp27_1iqbh/distancecalc.shape.gii -limit 100\n",
      "[ciftify.utils] INFO: Running: wb_command -surface-geodesic-distance /projects/edickie/code/ciftify/ciftify/data/HCP_S1200_GroupAvg_v1/S1200.L.midthickness_MSMAll.32k_fs_LR.surf.gii 7417 /tmp/tmptm4c4p7o/distancecalc.shape.gii -limit 100\n",
      "[ciftify.utils] INFO: Running: wb_command -surface-geodesic-distance /projects/edickie/code/ciftify/ciftify/data/HCP_S1200_GroupAvg_v1/S1200.R.midthickness_MSMAll.32k_fs_LR.surf.gii 7507 /tmp/tmp0tg35x6i/distancecalc.shape.gii -limit 100\n",
      "[ciftify.utils] INFO: Running: wb_command -surface-geodesic-distance /projects/edickie/code/ciftify/ciftify/data/HCP_S1200_GroupAvg_v1/S1200.L.midthickness_MSMAll.32k_fs_LR.surf.gii 23315 /tmp/tmp3f8issy0/distancecalc.shape.gii -limit 100\n",
      "[ciftify.utils] INFO: Running: wb_command -surface-geodesic-distance /projects/edickie/code/ciftify/ciftify/data/HCP_S1200_GroupAvg_v1/S1200.R.midthickness_MSMAll.32k_fs_LR.surf.gii 23315 /tmp/tmpxmg25k13/distancecalc.shape.gii -limit 100\n",
      "[ciftify.utils] INFO: Running: wb_command -surface-geodesic-distance /projects/edickie/code/ciftify/ciftify/data/HCP_S1200_GroupAvg_v1/S1200.L.midthickness_MSMAll.32k_fs_LR.surf.gii 30442 /tmp/tmpd3ullzwb/distancecalc.shape.gii -limit 100\n",
      "[ciftify.utils] INFO: Running: wb_command -surface-geodesic-distance /projects/edickie/code/ciftify/ciftify/data/HCP_S1200_GroupAvg_v1/S1200.R.midthickness_MSMAll.32k_fs_LR.surf.gii 27830 /tmp/tmpgaehv9n4/distancecalc.shape.gii -limit 100\n",
      "[ciftify.utils] INFO: Running: wb_command -surface-geodesic-distance /projects/edickie/code/ciftify/ciftify/data/HCP_S1200_GroupAvg_v1/S1200.L.midthickness_MSMAll.32k_fs_LR.surf.gii 28834 /tmp/tmp4odo2ckz/distancecalc.shape.gii -limit 100\n",
      "[ciftify.utils] INFO: Running: wb_command -surface-geodesic-distance /projects/edickie/code/ciftify/ciftify/data/HCP_S1200_GroupAvg_v1/S1200.R.midthickness_MSMAll.32k_fs_LR.surf.gii 28834 /tmp/tmp9r5zpi2t/distancecalc.shape.gii -limit 100\n",
      "[ciftify.utils] INFO: Running: wb_command -surface-geodesic-distance /projects/edickie/code/ciftify/ciftify/data/HCP_S1200_GroupAvg_v1/S1200.L.midthickness_MSMAll.32k_fs_LR.surf.gii 28175 /tmp/tmpbxgmbuqh/distancecalc.shape.gii -limit 100\n",
      "[ciftify.utils] INFO: Running: wb_command -surface-geodesic-distance /projects/edickie/code/ciftify/ciftify/data/HCP_S1200_GroupAvg_v1/S1200.R.midthickness_MSMAll.32k_fs_LR.surf.gii 28175 /tmp/tmp_bh43gb9/distancecalc.shape.gii -limit 100\n",
      "[ciftify.utils] INFO: Running: wb_command -surface-geodesic-distance /projects/edickie/code/ciftify/ciftify/data/HCP_S1200_GroupAvg_v1/S1200.L.midthickness_MSMAll.32k_fs_LR.surf.gii 13363 /tmp/tmp5rqmar22/distancecalc.shape.gii -limit 100\n",
      "[ciftify.utils] INFO: Running: wb_command -surface-geodesic-distance /projects/edickie/code/ciftify/ciftify/data/HCP_S1200_GroupAvg_v1/S1200.R.midthickness_MSMAll.32k_fs_LR.surf.gii 11809 /tmp/tmpgp4aq10u/distancecalc.shape.gii -limit 100\n",
      "[ciftify.utils] INFO: Running: wb_command -surface-geodesic-distance /projects/edickie/code/ciftify/ciftify/data/HCP_S1200_GroupAvg_v1/S1200.L.midthickness_MSMAll.32k_fs_LR.surf.gii 16429 /tmp/tmp86w71jz5/distancecalc.shape.gii -limit 100\n",
      "[ciftify.utils] INFO: Running: wb_command -surface-geodesic-distance /projects/edickie/code/ciftify/ciftify/data/HCP_S1200_GroupAvg_v1/S1200.R.midthickness_MSMAll.32k_fs_LR.surf.gii 16195 /tmp/tmpbrqk1y44/distancecalc.shape.gii -limit 100\n",
      "[ciftify.utils] INFO: Running: wb_command -surface-geodesic-distance /projects/edickie/code/ciftify/ciftify/data/HCP_S1200_GroupAvg_v1/S1200.L.midthickness_MSMAll.32k_fs_LR.surf.gii 9000 /tmp/tmpq0dq2mc3/distancecalc.shape.gii -limit 100\n",
      "[ciftify.utils] INFO: Running: wb_command -surface-geodesic-distance /projects/edickie/code/ciftify/ciftify/data/HCP_S1200_GroupAvg_v1/S1200.R.midthickness_MSMAll.32k_fs_LR.surf.gii 9000 /tmp/tmpws0eqwhf/distancecalc.shape.gii -limit 100\n",
      "[ciftify.utils] INFO: Running: wb_command -surface-geodesic-distance /projects/edickie/code/ciftify/ciftify/data/HCP_S1200_GroupAvg_v1/S1200.L.midthickness_MSMAll.32k_fs_LR.surf.gii 32170 /tmp/tmpjsg8zpy5/distancecalc.shape.gii -limit 100\n",
      "[ciftify.utils] INFO: Running: wb_command -surface-geodesic-distance /projects/edickie/code/ciftify/ciftify/data/HCP_S1200_GroupAvg_v1/S1200.R.midthickness_MSMAll.32k_fs_LR.surf.gii 32221 /tmp/tmpwuvz8orv/distancecalc.shape.gii -limit 100\n",
      "[ciftify.utils] INFO: Running: wb_command -surface-geodesic-distance /projects/edickie/code/ciftify/ciftify/data/HCP_S1200_GroupAvg_v1/S1200.L.midthickness_MSMAll.32k_fs_LR.surf.gii 2465 /tmp/tmpm9a37p2x/distancecalc.shape.gii -limit 100\n",
      "[ciftify.utils] INFO: Running: wb_command -surface-geodesic-distance /projects/edickie/code/ciftify/ciftify/data/HCP_S1200_GroupAvg_v1/S1200.R.midthickness_MSMAll.32k_fs_LR.surf.gii 2424 /tmp/tmppy5ohvca/distancecalc.shape.gii -limit 100\n",
      "[ciftify.utils] INFO: Running: wb_command -surface-geodesic-distance /projects/edickie/code/ciftify/ciftify/data/HCP_S1200_GroupAvg_v1/S1200.L.midthickness_MSMAll.32k_fs_LR.surf.gii 30321 /tmp/tmp9beg5z2f/distancecalc.shape.gii -limit 100\n",
      "[ciftify.utils] INFO: Running: wb_command -surface-geodesic-distance /projects/edickie/code/ciftify/ciftify/data/HCP_S1200_GroupAvg_v1/S1200.R.midthickness_MSMAll.32k_fs_LR.surf.gii 30321 /tmp/tmpp5n67efh/distancecalc.shape.gii -limit 100\n",
      "[ciftify.utils] INFO: Running: wb_command -surface-geodesic-distance /projects/edickie/code/ciftify/ciftify/data/HCP_S1200_GroupAvg_v1/S1200.L.midthickness_MSMAll.32k_fs_LR.surf.gii 30458 /tmp/tmp6xal79vz/distancecalc.shape.gii -limit 100\n",
      "[ciftify.utils] INFO: Running: wb_command -surface-geodesic-distance /projects/edickie/code/ciftify/ciftify/data/HCP_S1200_GroupAvg_v1/S1200.R.midthickness_MSMAll.32k_fs_LR.surf.gii 30458 /tmp/tmp05t2l8wi/distancecalc.shape.gii -limit 100\n",
      "[ciftify.utils] INFO: Running: wb_command -surface-geodesic-distance /projects/edickie/code/ciftify/ciftify/data/HCP_S1200_GroupAvg_v1/S1200.L.midthickness_MSMAll.32k_fs_LR.surf.gii 29627 /tmp/tmpgy8o0kn_/distancecalc.shape.gii -limit 100\n",
      "[ciftify.utils] INFO: Running: wb_command -surface-geodesic-distance /projects/edickie/code/ciftify/ciftify/data/HCP_S1200_GroupAvg_v1/S1200.R.midthickness_MSMAll.32k_fs_LR.surf.gii 19783 /tmp/tmp_lzf_jnk/distancecalc.shape.gii -limit 100\n",
      "[ciftify.utils] INFO: Running: wb_command -surface-geodesic-distance /projects/edickie/code/ciftify/ciftify/data/HCP_S1200_GroupAvg_v1/S1200.L.midthickness_MSMAll.32k_fs_LR.surf.gii 10957 /tmp/tmpuz50mcdw/distancecalc.shape.gii -limit 100\n",
      "[ciftify.utils] INFO: Running: wb_command -surface-geodesic-distance /projects/edickie/code/ciftify/ciftify/data/HCP_S1200_GroupAvg_v1/S1200.R.midthickness_MSMAll.32k_fs_LR.surf.gii 11073 /tmp/tmpgtxu9ysn/distancecalc.shape.gii -limit 100\n",
      "[ciftify.utils] INFO: Running: wb_command -surface-geodesic-distance /projects/edickie/code/ciftify/ciftify/data/HCP_S1200_GroupAvg_v1/S1200.L.midthickness_MSMAll.32k_fs_LR.surf.gii 12812 /tmp/tmpm8qmbud1/distancecalc.shape.gii -limit 100\n",
      "[ciftify.utils] INFO: Running: wb_command -surface-geodesic-distance /projects/edickie/code/ciftify/ciftify/data/HCP_S1200_GroupAvg_v1/S1200.R.midthickness_MSMAll.32k_fs_LR.surf.gii 12848 /tmp/tmpwdxgcfkd/distancecalc.shape.gii -limit 100\n",
      "[ciftify.utils] INFO: Running: wb_command -surface-geodesic-distance /projects/edickie/code/ciftify/ciftify/data/HCP_S1200_GroupAvg_v1/S1200.L.midthickness_MSMAll.32k_fs_LR.surf.gii 6841 /tmp/tmpi774nfdq/distancecalc.shape.gii -limit 100\n",
      "[ciftify.utils] INFO: Running: wb_command -surface-geodesic-distance /projects/edickie/code/ciftify/ciftify/data/HCP_S1200_GroupAvg_v1/S1200.R.midthickness_MSMAll.32k_fs_LR.surf.gii 13895 /tmp/tmp989394xe/distancecalc.shape.gii -limit 100\n",
      "[ciftify.utils] INFO: Running: wb_command -surface-geodesic-distance /projects/edickie/code/ciftify/ciftify/data/HCP_S1200_GroupAvg_v1/S1200.L.midthickness_MSMAll.32k_fs_LR.surf.gii 22055 /tmp/tmpr7ghzjps/distancecalc.shape.gii -limit 100\n",
      "[ciftify.utils] INFO: Running: wb_command -surface-geodesic-distance /projects/edickie/code/ciftify/ciftify/data/HCP_S1200_GroupAvg_v1/S1200.R.midthickness_MSMAll.32k_fs_LR.surf.gii 21912 /tmp/tmp3190cpmy/distancecalc.shape.gii -limit 100\n",
      "[ciftify.utils] INFO: Running: wb_command -surface-geodesic-distance /projects/edickie/code/ciftify/ciftify/data/HCP_S1200_GroupAvg_v1/S1200.L.midthickness_MSMAll.32k_fs_LR.surf.gii 2453 /tmp/tmpq4a2cqb6/distancecalc.shape.gii -limit 100\n",
      "[ciftify.utils] INFO: Running: wb_command -surface-geodesic-distance /projects/edickie/code/ciftify/ciftify/data/HCP_S1200_GroupAvg_v1/S1200.R.midthickness_MSMAll.32k_fs_LR.surf.gii 2411 /tmp/tmprpeh9_jz/distancecalc.shape.gii -limit 100\n",
      "[ciftify.utils] INFO: Running: wb_command -surface-geodesic-distance /projects/edickie/code/ciftify/ciftify/data/HCP_S1200_GroupAvg_v1/S1200.L.midthickness_MSMAll.32k_fs_LR.surf.gii 3469 /tmp/tmp9t1qdxmk/distancecalc.shape.gii -limit 100\n",
      "[ciftify.utils] INFO: Running: wb_command -surface-geodesic-distance /projects/edickie/code/ciftify/ciftify/data/HCP_S1200_GroupAvg_v1/S1200.R.midthickness_MSMAll.32k_fs_LR.surf.gii 3469 /tmp/tmp8d_kc_v1/distancecalc.shape.gii -limit 100\n",
      "[ciftify.utils] INFO: Running: wb_command -surface-geodesic-distance /projects/edickie/code/ciftify/ciftify/data/HCP_S1200_GroupAvg_v1/S1200.L.midthickness_MSMAll.32k_fs_LR.surf.gii 5450 /tmp/tmp6c1_qogf/distancecalc.shape.gii -limit 100\n",
      "[ciftify.utils] INFO: Running: wb_command -surface-geodesic-distance /projects/edickie/code/ciftify/ciftify/data/HCP_S1200_GroupAvg_v1/S1200.R.midthickness_MSMAll.32k_fs_LR.surf.gii 30946 /tmp/tmp3e5ar3os/distancecalc.shape.gii -limit 100\n",
      "[ciftify.utils] INFO: Running: wb_command -surface-geodesic-distance /projects/edickie/code/ciftify/ciftify/data/HCP_S1200_GroupAvg_v1/S1200.L.midthickness_MSMAll.32k_fs_LR.surf.gii 18804 /tmp/tmprnxjux7a/distancecalc.shape.gii -limit 100\n",
      "[ciftify.utils] INFO: Running: wb_command -surface-geodesic-distance /projects/edickie/code/ciftify/ciftify/data/HCP_S1200_GroupAvg_v1/S1200.R.midthickness_MSMAll.32k_fs_LR.surf.gii 18804 /tmp/tmp75sz4tbv/distancecalc.shape.gii -limit 100\n",
      "[ciftify.utils] INFO: Running: wb_command -surface-geodesic-distance /projects/edickie/code/ciftify/ciftify/data/HCP_S1200_GroupAvg_v1/S1200.L.midthickness_MSMAll.32k_fs_LR.surf.gii 29837 /tmp/tmp16lmt46q/distancecalc.shape.gii -limit 100\n",
      "[ciftify.utils] INFO: Running: wb_command -surface-geodesic-distance /projects/edickie/code/ciftify/ciftify/data/HCP_S1200_GroupAvg_v1/S1200.R.midthickness_MSMAll.32k_fs_LR.surf.gii 29591 /tmp/tmp5s9n59w7/distancecalc.shape.gii -limit 100\n",
      "[ciftify.utils] INFO: Running: wb_command -surface-geodesic-distance /projects/edickie/code/ciftify/ciftify/data/HCP_S1200_GroupAvg_v1/S1200.L.midthickness_MSMAll.32k_fs_LR.surf.gii 10782 /tmp/tmpujoybctn/distancecalc.shape.gii -limit 100\n",
      "[ciftify.utils] INFO: Running: wb_command -surface-geodesic-distance /projects/edickie/code/ciftify/ciftify/data/HCP_S1200_GroupAvg_v1/S1200.R.midthickness_MSMAll.32k_fs_LR.surf.gii 10782 /tmp/tmp6pwxry5d/distancecalc.shape.gii -limit 100\n",
      "[ciftify.utils] INFO: Running: wb_command -surface-geodesic-distance /projects/edickie/code/ciftify/ciftify/data/HCP_S1200_GroupAvg_v1/S1200.L.midthickness_MSMAll.32k_fs_LR.surf.gii 4089 /tmp/tmptv0fcwtq/distancecalc.shape.gii -limit 100\n",
      "[ciftify.utils] INFO: Running: wb_command -surface-geodesic-distance /projects/edickie/code/ciftify/ciftify/data/HCP_S1200_GroupAvg_v1/S1200.R.midthickness_MSMAll.32k_fs_LR.surf.gii 4130 /tmp/tmp9u0oje3x/distancecalc.shape.gii -limit 100\n",
      "[ciftify.utils] INFO: Running: wb_command -surface-geodesic-distance /projects/edickie/code/ciftify/ciftify/data/HCP_S1200_GroupAvg_v1/S1200.L.midthickness_MSMAll.32k_fs_LR.surf.gii 17169 /tmp/tmp3upnfar7/distancecalc.shape.gii -limit 100\n",
      "[ciftify.utils] INFO: Running: wb_command -surface-geodesic-distance /projects/edickie/code/ciftify/ciftify/data/HCP_S1200_GroupAvg_v1/S1200.R.midthickness_MSMAll.32k_fs_LR.surf.gii 9371 /tmp/tmp67mdxneg/distancecalc.shape.gii -limit 100\n",
      "[ciftify.utils] INFO: Running: wb_command -surface-geodesic-distance /projects/edickie/code/ciftify/ciftify/data/HCP_S1200_GroupAvg_v1/S1200.L.midthickness_MSMAll.32k_fs_LR.surf.gii 15764 /tmp/tmpn7emzimi/distancecalc.shape.gii -limit 100\n",
      "[ciftify.utils] INFO: Running: wb_command -surface-geodesic-distance /projects/edickie/code/ciftify/ciftify/data/HCP_S1200_GroupAvg_v1/S1200.R.midthickness_MSMAll.32k_fs_LR.surf.gii 15844 /tmp/tmpnzdirge7/distancecalc.shape.gii -limit 100\n",
      "[ciftify.utils] INFO: Running: wb_command -surface-geodesic-distance /projects/edickie/code/ciftify/ciftify/data/HCP_S1200_GroupAvg_v1/S1200.L.midthickness_MSMAll.32k_fs_LR.surf.gii 4632 /tmp/tmp7vgh08l1/distancecalc.shape.gii -limit 100\n",
      "[ciftify.utils] INFO: Running: wb_command -surface-geodesic-distance /projects/edickie/code/ciftify/ciftify/data/HCP_S1200_GroupAvg_v1/S1200.R.midthickness_MSMAll.32k_fs_LR.surf.gii 4632 /tmp/tmpjfbt1qr_/distancecalc.shape.gii -limit 100\n",
      "[ciftify.utils] INFO: Running: wb_command -surface-geodesic-distance /projects/edickie/code/ciftify/ciftify/data/HCP_S1200_GroupAvg_v1/S1200.L.midthickness_MSMAll.32k_fs_LR.surf.gii 7662 /tmp/tmp2s49xebu/distancecalc.shape.gii -limit 100\n",
      "[ciftify.utils] INFO: Running: wb_command -surface-geodesic-distance /projects/edickie/code/ciftify/ciftify/data/HCP_S1200_GroupAvg_v1/S1200.R.midthickness_MSMAll.32k_fs_LR.surf.gii 7662 /tmp/tmpijfkj8t8/distancecalc.shape.gii -limit 100\n",
      "[ciftify.utils] INFO: Running: wb_command -surface-geodesic-distance /projects/edickie/code/ciftify/ciftify/data/HCP_S1200_GroupAvg_v1/S1200.L.midthickness_MSMAll.32k_fs_LR.surf.gii 17981 /tmp/tmpaadan4bv/distancecalc.shape.gii -limit 100\n",
      "[ciftify.utils] INFO: Running: wb_command -surface-geodesic-distance /projects/edickie/code/ciftify/ciftify/data/HCP_S1200_GroupAvg_v1/S1200.R.midthickness_MSMAll.32k_fs_LR.surf.gii 17981 /tmp/tmpa0tbvski/distancecalc.shape.gii -limit 100\n",
      "[ciftify.utils] INFO: Running: wb_command -surface-geodesic-distance /projects/edickie/code/ciftify/ciftify/data/HCP_S1200_GroupAvg_v1/S1200.L.midthickness_MSMAll.32k_fs_LR.surf.gii 10427 /tmp/tmpcuhu77ii/distancecalc.shape.gii -limit 100\n",
      "[ciftify.utils] INFO: Running: wb_command -surface-geodesic-distance /projects/edickie/code/ciftify/ciftify/data/HCP_S1200_GroupAvg_v1/S1200.R.midthickness_MSMAll.32k_fs_LR.surf.gii 10427 /tmp/tmp90zn0g5c/distancecalc.shape.gii -limit 100\n",
      "[ciftify.utils] INFO: Running: wb_command -surface-geodesic-distance /projects/edickie/code/ciftify/ciftify/data/HCP_S1200_GroupAvg_v1/S1200.L.midthickness_MSMAll.32k_fs_LR.surf.gii 31742 /tmp/tmpsxh7w_rd/distancecalc.shape.gii -limit 100\n",
      "[ciftify.utils] INFO: Running: wb_command -surface-geodesic-distance /projects/edickie/code/ciftify/ciftify/data/HCP_S1200_GroupAvg_v1/S1200.R.midthickness_MSMAll.32k_fs_LR.surf.gii 31742 /tmp/tmp9_6k4f0c/distancecalc.shape.gii -limit 100\n",
      "[ciftify.utils] INFO: Running: wb_command -surface-geodesic-distance /projects/edickie/code/ciftify/ciftify/data/HCP_S1200_GroupAvg_v1/S1200.L.midthickness_MSMAll.32k_fs_LR.surf.gii 15123 /tmp/tmptl2dug3l/distancecalc.shape.gii -limit 100\n",
      "[ciftify.utils] INFO: Running: wb_command -surface-geodesic-distance /projects/edickie/code/ciftify/ciftify/data/HCP_S1200_GroupAvg_v1/S1200.R.midthickness_MSMAll.32k_fs_LR.surf.gii 15123 /tmp/tmp3iww_fqw/distancecalc.shape.gii -limit 100\n",
      "[ciftify.utils] INFO: Running: wb_command -surface-geodesic-distance /projects/edickie/code/ciftify/ciftify/data/HCP_S1200_GroupAvg_v1/S1200.L.midthickness_MSMAll.32k_fs_LR.surf.gii 11965 /tmp/tmp_ko4i7vq/distancecalc.shape.gii -limit 100\n",
      "[ciftify.utils] INFO: Running: wb_command -surface-geodesic-distance /projects/edickie/code/ciftify/ciftify/data/HCP_S1200_GroupAvg_v1/S1200.R.midthickness_MSMAll.32k_fs_LR.surf.gii 11965 /tmp/tmphrtk7jja/distancecalc.shape.gii -limit 100\n",
      "[ciftify.utils] INFO: Running: wb_command -surface-geodesic-distance /projects/edickie/code/ciftify/ciftify/data/HCP_S1200_GroupAvg_v1/S1200.L.midthickness_MSMAll.32k_fs_LR.surf.gii 25314 /tmp/tmptp4aml8t/distancecalc.shape.gii -limit 100\n",
      "[ciftify.utils] INFO: Running: wb_command -surface-geodesic-distance /projects/edickie/code/ciftify/ciftify/data/HCP_S1200_GroupAvg_v1/S1200.R.midthickness_MSMAll.32k_fs_LR.surf.gii 25314 /tmp/tmpyv34d8zd/distancecalc.shape.gii -limit 100\n",
      "[ciftify.utils] INFO: Running: wb_command -surface-geodesic-distance /projects/edickie/code/ciftify/ciftify/data/HCP_S1200_GroupAvg_v1/S1200.L.midthickness_MSMAll.32k_fs_LR.surf.gii 24579 /tmp/tmp9y4_9cc1/distancecalc.shape.gii -limit 100\n",
      "[ciftify.utils] INFO: Running: wb_command -surface-geodesic-distance /projects/edickie/code/ciftify/ciftify/data/HCP_S1200_GroupAvg_v1/S1200.R.midthickness_MSMAll.32k_fs_LR.surf.gii 24579 /tmp/tmpe87tp5l3/distancecalc.shape.gii -limit 100\n",
      "[ciftify.utils] INFO: Running: wb_command -surface-geodesic-distance /projects/edickie/code/ciftify/ciftify/data/HCP_S1200_GroupAvg_v1/S1200.L.midthickness_MSMAll.32k_fs_LR.surf.gii 24616 /tmp/tmpzypwilkj/distancecalc.shape.gii -limit 100\n",
      "[ciftify.utils] INFO: Running: wb_command -surface-geodesic-distance /projects/edickie/code/ciftify/ciftify/data/HCP_S1200_GroupAvg_v1/S1200.R.midthickness_MSMAll.32k_fs_LR.surf.gii 24616 /tmp/tmpqsh3m6l7/distancecalc.shape.gii -limit 100\n",
      "[ciftify_postPINT1_concat] INFO: \n",
      "-------------------------------------------------------------\n",
      "2017-09-18 15:15:36.585665 : Done ciftify_postPINT1_concat\n",
      "-------------------------------------------------------------\n",
      "\n",
      "\n"
     ]
    },
    {
     "name": "stderr",
     "output_type": "stream",
     "text": [
      "[ciftify_postPINT1_concat] INFO: \n",
      "'||'''|, |''||''| '||\\   ||` |''||''|\n",
      " ||   ||    ||     ||\\  ||     ||\n",
      " ||...|'    ||     || \\ ||     ||\n",
      " ||         ||     ||  \\||     ||\n",
      ".||      |..||..| .||   \\||.   .||.\n",
      "\n",
      "-------------------------------------------------------------\n",
      "2017-09-18 15:15:23.544650 : Starting ciftify_postPINT1_concat\n",
      "-------------------------------------------------------------\n",
      "\n",
      "[ciftify.utils] INFO: Arguments:\n",
      "    !!python/object/new:docopt.Dict\n",
      "    dictitems:\n",
      "      --debug: true\n",
      "      --dry-run: false\n",
      "      --help: false\n",
      "      --no-distance-calc: false\n",
      "      --surfL: null\n",
      "      --surfR: null\n",
      "      <PINT_summary.csv>:\n",
      "      - /scratch/edickie/ciftify_intergration_tests/run_2017-09-11/PINT/sub-50005/sub-50005_summary.csv\n",
      "      - /scratch/edickie/ciftify_intergration_tests/run_2017-09-11/PINT/sub-50007/sub-50007_summary.csv\n",
      "      - /scratch/edickie/ciftify_intergration_tests/run_2017-09-11/PINT/sub-50007/sub-50007_all_summary.csv\n",
      "      <concatenated-pint>: /scratch/edickie/ciftify_intergration_tests/run_2017-09-11/PINT/concatenated.csv\n",
      "    \n",
      "[ciftify.utils] INFO: Running: wb_command -surface-geodesic-distance /projects/edickie/code/ciftify/ciftify/data/HCP_S1200_GroupAvg_v1/S1200.L.midthickness_MSMAll.32k_fs_LR.surf.gii 6111 /tmp/tmpl5fm2_sl/distancecalc.shape.gii -limit 100\n",
      "[ciftify.utils] INFO: Running: wb_command -surface-geodesic-distance /projects/edickie/code/ciftify/ciftify/data/HCP_S1200_GroupAvg_v1/S1200.R.midthickness_MSMAll.32k_fs_LR.surf.gii 6141 /tmp/tmp_txif7hi/distancecalc.shape.gii -limit 100\n",
      "[ciftify.utils] INFO: Running: wb_command -surface-geodesic-distance /projects/edickie/code/ciftify/ciftify/data/HCP_S1200_GroupAvg_v1/S1200.L.midthickness_MSMAll.32k_fs_LR.surf.gii 19598 /tmp/tmp1f29wz2t/distancecalc.shape.gii -limit 100\n",
      "[ciftify.utils] INFO: Running: wb_command -surface-geodesic-distance /projects/edickie/code/ciftify/ciftify/data/HCP_S1200_GroupAvg_v1/S1200.R.midthickness_MSMAll.32k_fs_LR.surf.gii 19537 /tmp/tmph_znbs6u/distancecalc.shape.gii -limit 100\n",
      "[ciftify.utils] INFO: Running: wb_command -surface-geodesic-distance /projects/edickie/code/ciftify/ciftify/data/HCP_S1200_GroupAvg_v1/S1200.L.midthickness_MSMAll.32k_fs_LR.surf.gii 13828 /tmp/tmp3kdm3ru6/distancecalc.shape.gii -limit 100\n",
      "[ciftify.utils] INFO: Running: wb_command -surface-geodesic-distance /projects/edickie/code/ciftify/ciftify/data/HCP_S1200_GroupAvg_v1/S1200.R.midthickness_MSMAll.32k_fs_LR.surf.gii 13828 /tmp/tmpkpvnz37x/distancecalc.shape.gii -limit 100\n",
      "[ciftify.utils] INFO: Running: wb_command -surface-geodesic-distance /projects/edickie/code/ciftify/ciftify/data/HCP_S1200_GroupAvg_v1/S1200.L.midthickness_MSMAll.32k_fs_LR.surf.gii 14785 /tmp/tmpjnuja_bk/distancecalc.shape.gii -limit 100\n",
      "[ciftify.utils] INFO: Running: wb_command -surface-geodesic-distance /projects/edickie/code/ciftify/ciftify/data/HCP_S1200_GroupAvg_v1/S1200.R.midthickness_MSMAll.32k_fs_LR.surf.gii 12052 /tmp/tmp27_1iqbh/distancecalc.shape.gii -limit 100\n",
      "[ciftify.utils] INFO: Running: wb_command -surface-geodesic-distance /projects/edickie/code/ciftify/ciftify/data/HCP_S1200_GroupAvg_v1/S1200.L.midthickness_MSMAll.32k_fs_LR.surf.gii 7417 /tmp/tmptm4c4p7o/distancecalc.shape.gii -limit 100\n",
      "[ciftify.utils] INFO: Running: wb_command -surface-geodesic-distance /projects/edickie/code/ciftify/ciftify/data/HCP_S1200_GroupAvg_v1/S1200.R.midthickness_MSMAll.32k_fs_LR.surf.gii 7507 /tmp/tmp0tg35x6i/distancecalc.shape.gii -limit 100\n",
      "[ciftify.utils] INFO: Running: wb_command -surface-geodesic-distance /projects/edickie/code/ciftify/ciftify/data/HCP_S1200_GroupAvg_v1/S1200.L.midthickness_MSMAll.32k_fs_LR.surf.gii 23315 /tmp/tmp3f8issy0/distancecalc.shape.gii -limit 100\n",
      "[ciftify.utils] INFO: Running: wb_command -surface-geodesic-distance /projects/edickie/code/ciftify/ciftify/data/HCP_S1200_GroupAvg_v1/S1200.R.midthickness_MSMAll.32k_fs_LR.surf.gii 23315 /tmp/tmpxmg25k13/distancecalc.shape.gii -limit 100\n",
      "[ciftify.utils] INFO: Running: wb_command -surface-geodesic-distance /projects/edickie/code/ciftify/ciftify/data/HCP_S1200_GroupAvg_v1/S1200.L.midthickness_MSMAll.32k_fs_LR.surf.gii 30442 /tmp/tmpd3ullzwb/distancecalc.shape.gii -limit 100\n",
      "[ciftify.utils] INFO: Running: wb_command -surface-geodesic-distance /projects/edickie/code/ciftify/ciftify/data/HCP_S1200_GroupAvg_v1/S1200.R.midthickness_MSMAll.32k_fs_LR.surf.gii 27830 /tmp/tmpgaehv9n4/distancecalc.shape.gii -limit 100\n",
      "[ciftify.utils] INFO: Running: wb_command -surface-geodesic-distance /projects/edickie/code/ciftify/ciftify/data/HCP_S1200_GroupAvg_v1/S1200.L.midthickness_MSMAll.32k_fs_LR.surf.gii 28834 /tmp/tmp4odo2ckz/distancecalc.shape.gii -limit 100\n",
      "[ciftify.utils] INFO: Running: wb_command -surface-geodesic-distance /projects/edickie/code/ciftify/ciftify/data/HCP_S1200_GroupAvg_v1/S1200.R.midthickness_MSMAll.32k_fs_LR.surf.gii 28834 /tmp/tmp9r5zpi2t/distancecalc.shape.gii -limit 100\n",
      "[ciftify.utils] INFO: Running: wb_command -surface-geodesic-distance /projects/edickie/code/ciftify/ciftify/data/HCP_S1200_GroupAvg_v1/S1200.L.midthickness_MSMAll.32k_fs_LR.surf.gii 28175 /tmp/tmpbxgmbuqh/distancecalc.shape.gii -limit 100\n",
      "[ciftify.utils] INFO: Running: wb_command -surface-geodesic-distance /projects/edickie/code/ciftify/ciftify/data/HCP_S1200_GroupAvg_v1/S1200.R.midthickness_MSMAll.32k_fs_LR.surf.gii 28175 /tmp/tmp_bh43gb9/distancecalc.shape.gii -limit 100\n",
      "[ciftify.utils] INFO: Running: wb_command -surface-geodesic-distance /projects/edickie/code/ciftify/ciftify/data/HCP_S1200_GroupAvg_v1/S1200.L.midthickness_MSMAll.32k_fs_LR.surf.gii 13363 /tmp/tmp5rqmar22/distancecalc.shape.gii -limit 100\n",
      "[ciftify.utils] INFO: Running: wb_command -surface-geodesic-distance /projects/edickie/code/ciftify/ciftify/data/HCP_S1200_GroupAvg_v1/S1200.R.midthickness_MSMAll.32k_fs_LR.surf.gii 11809 /tmp/tmpgp4aq10u/distancecalc.shape.gii -limit 100\n",
      "[ciftify.utils] INFO: Running: wb_command -surface-geodesic-distance /projects/edickie/code/ciftify/ciftify/data/HCP_S1200_GroupAvg_v1/S1200.L.midthickness_MSMAll.32k_fs_LR.surf.gii 16429 /tmp/tmp86w71jz5/distancecalc.shape.gii -limit 100\n",
      "[ciftify.utils] INFO: Running: wb_command -surface-geodesic-distance /projects/edickie/code/ciftify/ciftify/data/HCP_S1200_GroupAvg_v1/S1200.R.midthickness_MSMAll.32k_fs_LR.surf.gii 16195 /tmp/tmpbrqk1y44/distancecalc.shape.gii -limit 100\n",
      "[ciftify.utils] INFO: Running: wb_command -surface-geodesic-distance /projects/edickie/code/ciftify/ciftify/data/HCP_S1200_GroupAvg_v1/S1200.L.midthickness_MSMAll.32k_fs_LR.surf.gii 9000 /tmp/tmpq0dq2mc3/distancecalc.shape.gii -limit 100\n",
      "[ciftify.utils] INFO: Running: wb_command -surface-geodesic-distance /projects/edickie/code/ciftify/ciftify/data/HCP_S1200_GroupAvg_v1/S1200.R.midthickness_MSMAll.32k_fs_LR.surf.gii 9000 /tmp/tmpws0eqwhf/distancecalc.shape.gii -limit 100\n",
      "[ciftify.utils] INFO: Running: wb_command -surface-geodesic-distance /projects/edickie/code/ciftify/ciftify/data/HCP_S1200_GroupAvg_v1/S1200.L.midthickness_MSMAll.32k_fs_LR.surf.gii 32170 /tmp/tmpjsg8zpy5/distancecalc.shape.gii -limit 100\n",
      "[ciftify.utils] INFO: Running: wb_command -surface-geodesic-distance /projects/edickie/code/ciftify/ciftify/data/HCP_S1200_GroupAvg_v1/S1200.R.midthickness_MSMAll.32k_fs_LR.surf.gii 32221 /tmp/tmpwuvz8orv/distancecalc.shape.gii -limit 100\n",
      "[ciftify.utils] INFO: Running: wb_command -surface-geodesic-distance /projects/edickie/code/ciftify/ciftify/data/HCP_S1200_GroupAvg_v1/S1200.L.midthickness_MSMAll.32k_fs_LR.surf.gii 2465 /tmp/tmpm9a37p2x/distancecalc.shape.gii -limit 100\n",
      "[ciftify.utils] INFO: Running: wb_command -surface-geodesic-distance /projects/edickie/code/ciftify/ciftify/data/HCP_S1200_GroupAvg_v1/S1200.R.midthickness_MSMAll.32k_fs_LR.surf.gii 2424 /tmp/tmppy5ohvca/distancecalc.shape.gii -limit 100\n",
      "[ciftify.utils] INFO: Running: wb_command -surface-geodesic-distance /projects/edickie/code/ciftify/ciftify/data/HCP_S1200_GroupAvg_v1/S1200.L.midthickness_MSMAll.32k_fs_LR.surf.gii 30321 /tmp/tmp9beg5z2f/distancecalc.shape.gii -limit 100\n",
      "[ciftify.utils] INFO: Running: wb_command -surface-geodesic-distance /projects/edickie/code/ciftify/ciftify/data/HCP_S1200_GroupAvg_v1/S1200.R.midthickness_MSMAll.32k_fs_LR.surf.gii 30321 /tmp/tmpp5n67efh/distancecalc.shape.gii -limit 100\n",
      "[ciftify.utils] INFO: Running: wb_command -surface-geodesic-distance /projects/edickie/code/ciftify/ciftify/data/HCP_S1200_GroupAvg_v1/S1200.L.midthickness_MSMAll.32k_fs_LR.surf.gii 30458 /tmp/tmp6xal79vz/distancecalc.shape.gii -limit 100\n",
      "[ciftify.utils] INFO: Running: wb_command -surface-geodesic-distance /projects/edickie/code/ciftify/ciftify/data/HCP_S1200_GroupAvg_v1/S1200.R.midthickness_MSMAll.32k_fs_LR.surf.gii 30458 /tmp/tmp05t2l8wi/distancecalc.shape.gii -limit 100\n",
      "[ciftify.utils] INFO: Running: wb_command -surface-geodesic-distance /projects/edickie/code/ciftify/ciftify/data/HCP_S1200_GroupAvg_v1/S1200.L.midthickness_MSMAll.32k_fs_LR.surf.gii 29627 /tmp/tmpgy8o0kn_/distancecalc.shape.gii -limit 100\n",
      "[ciftify.utils] INFO: Running: wb_command -surface-geodesic-distance /projects/edickie/code/ciftify/ciftify/data/HCP_S1200_GroupAvg_v1/S1200.R.midthickness_MSMAll.32k_fs_LR.surf.gii 19783 /tmp/tmp_lzf_jnk/distancecalc.shape.gii -limit 100\n",
      "[ciftify.utils] INFO: Running: wb_command -surface-geodesic-distance /projects/edickie/code/ciftify/ciftify/data/HCP_S1200_GroupAvg_v1/S1200.L.midthickness_MSMAll.32k_fs_LR.surf.gii 10957 /tmp/tmpuz50mcdw/distancecalc.shape.gii -limit 100\n",
      "[ciftify.utils] INFO: Running: wb_command -surface-geodesic-distance /projects/edickie/code/ciftify/ciftify/data/HCP_S1200_GroupAvg_v1/S1200.R.midthickness_MSMAll.32k_fs_LR.surf.gii 11073 /tmp/tmpgtxu9ysn/distancecalc.shape.gii -limit 100\n",
      "[ciftify.utils] INFO: Running: wb_command -surface-geodesic-distance /projects/edickie/code/ciftify/ciftify/data/HCP_S1200_GroupAvg_v1/S1200.L.midthickness_MSMAll.32k_fs_LR.surf.gii 12812 /tmp/tmpm8qmbud1/distancecalc.shape.gii -limit 100\n",
      "[ciftify.utils] INFO: Running: wb_command -surface-geodesic-distance /projects/edickie/code/ciftify/ciftify/data/HCP_S1200_GroupAvg_v1/S1200.R.midthickness_MSMAll.32k_fs_LR.surf.gii 12848 /tmp/tmpwdxgcfkd/distancecalc.shape.gii -limit 100\n",
      "[ciftify.utils] INFO: Running: wb_command -surface-geodesic-distance /projects/edickie/code/ciftify/ciftify/data/HCP_S1200_GroupAvg_v1/S1200.L.midthickness_MSMAll.32k_fs_LR.surf.gii 6841 /tmp/tmpi774nfdq/distancecalc.shape.gii -limit 100\n",
      "[ciftify.utils] INFO: Running: wb_command -surface-geodesic-distance /projects/edickie/code/ciftify/ciftify/data/HCP_S1200_GroupAvg_v1/S1200.R.midthickness_MSMAll.32k_fs_LR.surf.gii 13895 /tmp/tmp989394xe/distancecalc.shape.gii -limit 100\n",
      "[ciftify.utils] INFO: Running: wb_command -surface-geodesic-distance /projects/edickie/code/ciftify/ciftify/data/HCP_S1200_GroupAvg_v1/S1200.L.midthickness_MSMAll.32k_fs_LR.surf.gii 22055 /tmp/tmpr7ghzjps/distancecalc.shape.gii -limit 100\n",
      "[ciftify.utils] INFO: Running: wb_command -surface-geodesic-distance /projects/edickie/code/ciftify/ciftify/data/HCP_S1200_GroupAvg_v1/S1200.R.midthickness_MSMAll.32k_fs_LR.surf.gii 21912 /tmp/tmp3190cpmy/distancecalc.shape.gii -limit 100\n",
      "[ciftify.utils] INFO: Running: wb_command -surface-geodesic-distance /projects/edickie/code/ciftify/ciftify/data/HCP_S1200_GroupAvg_v1/S1200.L.midthickness_MSMAll.32k_fs_LR.surf.gii 2453 /tmp/tmpq4a2cqb6/distancecalc.shape.gii -limit 100\n",
      "[ciftify.utils] INFO: Running: wb_command -surface-geodesic-distance /projects/edickie/code/ciftify/ciftify/data/HCP_S1200_GroupAvg_v1/S1200.R.midthickness_MSMAll.32k_fs_LR.surf.gii 2411 /tmp/tmprpeh9_jz/distancecalc.shape.gii -limit 100\n",
      "[ciftify.utils] INFO: Running: wb_command -surface-geodesic-distance /projects/edickie/code/ciftify/ciftify/data/HCP_S1200_GroupAvg_v1/S1200.L.midthickness_MSMAll.32k_fs_LR.surf.gii 3469 /tmp/tmp9t1qdxmk/distancecalc.shape.gii -limit 100\n",
      "[ciftify.utils] INFO: Running: wb_command -surface-geodesic-distance /projects/edickie/code/ciftify/ciftify/data/HCP_S1200_GroupAvg_v1/S1200.R.midthickness_MSMAll.32k_fs_LR.surf.gii 3469 /tmp/tmp8d_kc_v1/distancecalc.shape.gii -limit 100\n",
      "[ciftify.utils] INFO: Running: wb_command -surface-geodesic-distance /projects/edickie/code/ciftify/ciftify/data/HCP_S1200_GroupAvg_v1/S1200.L.midthickness_MSMAll.32k_fs_LR.surf.gii 5450 /tmp/tmp6c1_qogf/distancecalc.shape.gii -limit 100\n",
      "[ciftify.utils] INFO: Running: wb_command -surface-geodesic-distance /projects/edickie/code/ciftify/ciftify/data/HCP_S1200_GroupAvg_v1/S1200.R.midthickness_MSMAll.32k_fs_LR.surf.gii 30946 /tmp/tmp3e5ar3os/distancecalc.shape.gii -limit 100\n",
      "[ciftify.utils] INFO: Running: wb_command -surface-geodesic-distance /projects/edickie/code/ciftify/ciftify/data/HCP_S1200_GroupAvg_v1/S1200.L.midthickness_MSMAll.32k_fs_LR.surf.gii 18804 /tmp/tmprnxjux7a/distancecalc.shape.gii -limit 100\n",
      "[ciftify.utils] INFO: Running: wb_command -surface-geodesic-distance /projects/edickie/code/ciftify/ciftify/data/HCP_S1200_GroupAvg_v1/S1200.R.midthickness_MSMAll.32k_fs_LR.surf.gii 18804 /tmp/tmp75sz4tbv/distancecalc.shape.gii -limit 100\n",
      "[ciftify.utils] INFO: Running: wb_command -surface-geodesic-distance /projects/edickie/code/ciftify/ciftify/data/HCP_S1200_GroupAvg_v1/S1200.L.midthickness_MSMAll.32k_fs_LR.surf.gii 29837 /tmp/tmp16lmt46q/distancecalc.shape.gii -limit 100\n",
      "[ciftify.utils] INFO: Running: wb_command -surface-geodesic-distance /projects/edickie/code/ciftify/ciftify/data/HCP_S1200_GroupAvg_v1/S1200.R.midthickness_MSMAll.32k_fs_LR.surf.gii 29591 /tmp/tmp5s9n59w7/distancecalc.shape.gii -limit 100\n",
      "[ciftify.utils] INFO: Running: wb_command -surface-geodesic-distance /projects/edickie/code/ciftify/ciftify/data/HCP_S1200_GroupAvg_v1/S1200.L.midthickness_MSMAll.32k_fs_LR.surf.gii 10782 /tmp/tmpujoybctn/distancecalc.shape.gii -limit 100\n",
      "[ciftify.utils] INFO: Running: wb_command -surface-geodesic-distance /projects/edickie/code/ciftify/ciftify/data/HCP_S1200_GroupAvg_v1/S1200.R.midthickness_MSMAll.32k_fs_LR.surf.gii 10782 /tmp/tmp6pwxry5d/distancecalc.shape.gii -limit 100\n",
      "[ciftify.utils] INFO: Running: wb_command -surface-geodesic-distance /projects/edickie/code/ciftify/ciftify/data/HCP_S1200_GroupAvg_v1/S1200.L.midthickness_MSMAll.32k_fs_LR.surf.gii 4089 /tmp/tmptv0fcwtq/distancecalc.shape.gii -limit 100\n",
      "[ciftify.utils] INFO: Running: wb_command -surface-geodesic-distance /projects/edickie/code/ciftify/ciftify/data/HCP_S1200_GroupAvg_v1/S1200.R.midthickness_MSMAll.32k_fs_LR.surf.gii 4130 /tmp/tmp9u0oje3x/distancecalc.shape.gii -limit 100\n",
      "[ciftify.utils] INFO: Running: wb_command -surface-geodesic-distance /projects/edickie/code/ciftify/ciftify/data/HCP_S1200_GroupAvg_v1/S1200.L.midthickness_MSMAll.32k_fs_LR.surf.gii 17169 /tmp/tmp3upnfar7/distancecalc.shape.gii -limit 100\n",
      "[ciftify.utils] INFO: Running: wb_command -surface-geodesic-distance /projects/edickie/code/ciftify/ciftify/data/HCP_S1200_GroupAvg_v1/S1200.R.midthickness_MSMAll.32k_fs_LR.surf.gii 9371 /tmp/tmp67mdxneg/distancecalc.shape.gii -limit 100\n",
      "[ciftify.utils] INFO: Running: wb_command -surface-geodesic-distance /projects/edickie/code/ciftify/ciftify/data/HCP_S1200_GroupAvg_v1/S1200.L.midthickness_MSMAll.32k_fs_LR.surf.gii 15764 /tmp/tmpn7emzimi/distancecalc.shape.gii -limit 100\n",
      "[ciftify.utils] INFO: Running: wb_command -surface-geodesic-distance /projects/edickie/code/ciftify/ciftify/data/HCP_S1200_GroupAvg_v1/S1200.R.midthickness_MSMAll.32k_fs_LR.surf.gii 15844 /tmp/tmpnzdirge7/distancecalc.shape.gii -limit 100\n",
      "[ciftify.utils] INFO: Running: wb_command -surface-geodesic-distance /projects/edickie/code/ciftify/ciftify/data/HCP_S1200_GroupAvg_v1/S1200.L.midthickness_MSMAll.32k_fs_LR.surf.gii 4632 /tmp/tmp7vgh08l1/distancecalc.shape.gii -limit 100\n",
      "[ciftify.utils] INFO: Running: wb_command -surface-geodesic-distance /projects/edickie/code/ciftify/ciftify/data/HCP_S1200_GroupAvg_v1/S1200.R.midthickness_MSMAll.32k_fs_LR.surf.gii 4632 /tmp/tmpjfbt1qr_/distancecalc.shape.gii -limit 100\n",
      "[ciftify.utils] INFO: Running: wb_command -surface-geodesic-distance /projects/edickie/code/ciftify/ciftify/data/HCP_S1200_GroupAvg_v1/S1200.L.midthickness_MSMAll.32k_fs_LR.surf.gii 7662 /tmp/tmp2s49xebu/distancecalc.shape.gii -limit 100\n",
      "[ciftify.utils] INFO: Running: wb_command -surface-geodesic-distance /projects/edickie/code/ciftify/ciftify/data/HCP_S1200_GroupAvg_v1/S1200.R.midthickness_MSMAll.32k_fs_LR.surf.gii 7662 /tmp/tmpijfkj8t8/distancecalc.shape.gii -limit 100\n",
      "[ciftify.utils] INFO: Running: wb_command -surface-geodesic-distance /projects/edickie/code/ciftify/ciftify/data/HCP_S1200_GroupAvg_v1/S1200.L.midthickness_MSMAll.32k_fs_LR.surf.gii 17981 /tmp/tmpaadan4bv/distancecalc.shape.gii -limit 100\n",
      "[ciftify.utils] INFO: Running: wb_command -surface-geodesic-distance /projects/edickie/code/ciftify/ciftify/data/HCP_S1200_GroupAvg_v1/S1200.R.midthickness_MSMAll.32k_fs_LR.surf.gii 17981 /tmp/tmpa0tbvski/distancecalc.shape.gii -limit 100\n",
      "[ciftify.utils] INFO: Running: wb_command -surface-geodesic-distance /projects/edickie/code/ciftify/ciftify/data/HCP_S1200_GroupAvg_v1/S1200.L.midthickness_MSMAll.32k_fs_LR.surf.gii 10427 /tmp/tmpcuhu77ii/distancecalc.shape.gii -limit 100\n",
      "[ciftify.utils] INFO: Running: wb_command -surface-geodesic-distance /projects/edickie/code/ciftify/ciftify/data/HCP_S1200_GroupAvg_v1/S1200.R.midthickness_MSMAll.32k_fs_LR.surf.gii 10427 /tmp/tmp90zn0g5c/distancecalc.shape.gii -limit 100\n",
      "[ciftify.utils] INFO: Running: wb_command -surface-geodesic-distance /projects/edickie/code/ciftify/ciftify/data/HCP_S1200_GroupAvg_v1/S1200.L.midthickness_MSMAll.32k_fs_LR.surf.gii 31742 /tmp/tmpsxh7w_rd/distancecalc.shape.gii -limit 100\n",
      "[ciftify.utils] INFO: Running: wb_command -surface-geodesic-distance /projects/edickie/code/ciftify/ciftify/data/HCP_S1200_GroupAvg_v1/S1200.R.midthickness_MSMAll.32k_fs_LR.surf.gii 31742 /tmp/tmp9_6k4f0c/distancecalc.shape.gii -limit 100\n",
      "[ciftify.utils] INFO: Running: wb_command -surface-geodesic-distance /projects/edickie/code/ciftify/ciftify/data/HCP_S1200_GroupAvg_v1/S1200.L.midthickness_MSMAll.32k_fs_LR.surf.gii 15123 /tmp/tmptl2dug3l/distancecalc.shape.gii -limit 100\n",
      "[ciftify.utils] INFO: Running: wb_command -surface-geodesic-distance /projects/edickie/code/ciftify/ciftify/data/HCP_S1200_GroupAvg_v1/S1200.R.midthickness_MSMAll.32k_fs_LR.surf.gii 15123 /tmp/tmp3iww_fqw/distancecalc.shape.gii -limit 100\n",
      "[ciftify.utils] INFO: Running: wb_command -surface-geodesic-distance /projects/edickie/code/ciftify/ciftify/data/HCP_S1200_GroupAvg_v1/S1200.L.midthickness_MSMAll.32k_fs_LR.surf.gii 11965 /tmp/tmp_ko4i7vq/distancecalc.shape.gii -limit 100\n",
      "[ciftify.utils] INFO: Running: wb_command -surface-geodesic-distance /projects/edickie/code/ciftify/ciftify/data/HCP_S1200_GroupAvg_v1/S1200.R.midthickness_MSMAll.32k_fs_LR.surf.gii 11965 /tmp/tmphrtk7jja/distancecalc.shape.gii -limit 100\n",
      "[ciftify.utils] INFO: Running: wb_command -surface-geodesic-distance /projects/edickie/code/ciftify/ciftify/data/HCP_S1200_GroupAvg_v1/S1200.L.midthickness_MSMAll.32k_fs_LR.surf.gii 25314 /tmp/tmptp4aml8t/distancecalc.shape.gii -limit 100\n",
      "[ciftify.utils] INFO: Running: wb_command -surface-geodesic-distance /projects/edickie/code/ciftify/ciftify/data/HCP_S1200_GroupAvg_v1/S1200.R.midthickness_MSMAll.32k_fs_LR.surf.gii 25314 /tmp/tmpyv34d8zd/distancecalc.shape.gii -limit 100\n",
      "[ciftify.utils] INFO: Running: wb_command -surface-geodesic-distance /projects/edickie/code/ciftify/ciftify/data/HCP_S1200_GroupAvg_v1/S1200.L.midthickness_MSMAll.32k_fs_LR.surf.gii 24579 /tmp/tmp9y4_9cc1/distancecalc.shape.gii -limit 100\n",
      "[ciftify.utils] INFO: Running: wb_command -surface-geodesic-distance /projects/edickie/code/ciftify/ciftify/data/HCP_S1200_GroupAvg_v1/S1200.R.midthickness_MSMAll.32k_fs_LR.surf.gii 24579 /tmp/tmpe87tp5l3/distancecalc.shape.gii -limit 100\n",
      "[ciftify.utils] INFO: Running: wb_command -surface-geodesic-distance /projects/edickie/code/ciftify/ciftify/data/HCP_S1200_GroupAvg_v1/S1200.L.midthickness_MSMAll.32k_fs_LR.surf.gii 24616 /tmp/tmpzypwilkj/distancecalc.shape.gii -limit 100\n",
      "[ciftify.utils] INFO: Running: wb_command -surface-geodesic-distance /projects/edickie/code/ciftify/ciftify/data/HCP_S1200_GroupAvg_v1/S1200.R.midthickness_MSMAll.32k_fs_LR.surf.gii 24616 /tmp/tmpqsh3m6l7/distancecalc.shape.gii -limit 100\n",
      "[ciftify_postPINT1_concat] INFO: \n",
      "-------------------------------------------------------------\n",
      "2017-09-18 15:15:36.585665 : Done ciftify_postPINT1_concat\n",
      "-------------------------------------------------------------\n",
      "\n",
      "\n"
     ]
    },
    {
     "data": {
      "text/plain": [
       "0"
      ]
     },
     "execution_count": 123,
     "metadata": {},
     "output_type": "execute_result"
    }
   ],
   "source": [
    "summary_files = glob(os.path.join(new_outputs, 'PINT', '*','*_summary.csv'))\n",
    "concat_cmd = ['ciftify_postPINT1_concat', '--debug',\n",
    "           os.path.join(new_outputs, 'PINT', 'concatenated.csv')]\n",
    "concat_cmd.extend(summary_files)\n",
    "run(concat_cmd)"
   ]
  },
  {
   "cell_type": "code",
   "execution_count": 124,
   "metadata": {},
   "outputs": [
    {
     "name": "stderr",
     "output_type": "stream",
     "text": [
      "Running: ciftify_postPINT2_sub2sub /scratch/edickie/ciftify_intergration_tests/run_2017-09-11/PINT/concatenated.csv /scratch/edickie/ciftify_intergration_tests/run_2017-09-11/PINT/ivertex_distances.csv\n",
      "Running: ciftify_postPINT2_sub2sub /scratch/edickie/ciftify_intergration_tests/run_2017-09-11/PINT/concatenated.csv /scratch/edickie/ciftify_intergration_tests/run_2017-09-11/PINT/ivertex_distances.csv\n"
     ]
    },
    {
     "data": {
      "text/plain": [
       "0"
      ]
     },
     "execution_count": 124,
     "metadata": {},
     "output_type": "execute_result"
    }
   ],
   "source": [
    "run(['ciftify_postPINT2_sub2sub', os.path.join(new_outputs, 'PINT', 'concatenated.csv'),\n",
    "     os.path.join(new_outputs, 'PINT', 'ivertex_distances.csv')])"
   ]
  },
  {
   "cell_type": "code",
   "execution_count": 125,
   "metadata": {},
   "outputs": [
    {
     "name": "stderr",
     "output_type": "stream",
     "text": [
      "Running: ciftify_postPINT2_sub2sub --roiidx 14 --debug /scratch/edickie/ciftify_intergration_tests/run_2017-09-11/PINT/concatenated.csv /scratch/edickie/ciftify_intergration_tests/run_2017-09-11/PINT/ivertex_distances_roiidx14.csv\n",
      "Running: ciftify_postPINT2_sub2sub --roiidx 14 --debug /scratch/edickie/ciftify_intergration_tests/run_2017-09-11/PINT/concatenated.csv /scratch/edickie/ciftify_intergration_tests/run_2017-09-11/PINT/ivertex_distances_roiidx14.csv\n",
      "[ciftify.utils] INFO: Arguments:\n",
      "    !!python/object/new:docopt.Dict\n",
      "    dictitems:\n",
      "      --debug: true\n",
      "      --dry-run: false\n",
      "      --help: false\n",
      "      --roiidx: '14'\n",
      "      --surfL: null\n",
      "      --surfR: null\n",
      "      <concatenated-pint>: /scratch/edickie/ciftify_intergration_tests/run_2017-09-11/PINT/concatenated.csv\n",
      "      <output_sub2sub.csv>: /scratch/edickie/ciftify_intergration_tests/run_2017-09-11/PINT/ivertex_distances_roiidx14.csv\n",
      "    \n",
      "[ciftify.utils] INFO: Running: wb_command -surface-geodesic-distance /projects/edickie/code/ciftify/ciftify/data/HCP_S1200_GroupAvg_v1/S1200.R.midthickness_MSMAll.32k_fs_LR.surf.gii 29205 /tmp/tmpqelnnpna/distancecalc.shape.gii -limit 100\n",
      "[ciftify.utils] INFO: Running: wb_command -surface-geodesic-distance /projects/edickie/code/ciftify/ciftify/data/HCP_S1200_GroupAvg_v1/S1200.R.midthickness_MSMAll.32k_fs_LR.surf.gii 29713 /tmp/tmpx9fzgkfa/distancecalc.shape.gii -limit 100\n",
      "[ciftify.utils] INFO: Running: wb_command -surface-geodesic-distance /projects/edickie/code/ciftify/ciftify/data/HCP_S1200_GroupAvg_v1/S1200.R.midthickness_MSMAll.32k_fs_LR.surf.gii 29713 /tmp/tmpo5lcodao/distancecalc.shape.gii -limit 100\n",
      "\n",
      "[ciftify.utils] INFO: Arguments:\n",
      "    !!python/object/new:docopt.Dict\n",
      "    dictitems:\n",
      "      --debug: true\n",
      "      --dry-run: false\n",
      "      --help: false\n",
      "      --roiidx: '14'\n",
      "      --surfL: null\n",
      "      --surfR: null\n",
      "      <concatenated-pint>: /scratch/edickie/ciftify_intergration_tests/run_2017-09-11/PINT/concatenated.csv\n",
      "      <output_sub2sub.csv>: /scratch/edickie/ciftify_intergration_tests/run_2017-09-11/PINT/ivertex_distances_roiidx14.csv\n",
      "    \n",
      "[ciftify.utils] INFO: Running: wb_command -surface-geodesic-distance /projects/edickie/code/ciftify/ciftify/data/HCP_S1200_GroupAvg_v1/S1200.R.midthickness_MSMAll.32k_fs_LR.surf.gii 29205 /tmp/tmpqelnnpna/distancecalc.shape.gii -limit 100\n",
      "[ciftify.utils] INFO: Running: wb_command -surface-geodesic-distance /projects/edickie/code/ciftify/ciftify/data/HCP_S1200_GroupAvg_v1/S1200.R.midthickness_MSMAll.32k_fs_LR.surf.gii 29713 /tmp/tmpx9fzgkfa/distancecalc.shape.gii -limit 100\n",
      "[ciftify.utils] INFO: Running: wb_command -surface-geodesic-distance /projects/edickie/code/ciftify/ciftify/data/HCP_S1200_GroupAvg_v1/S1200.R.midthickness_MSMAll.32k_fs_LR.surf.gii 29713 /tmp/tmpo5lcodao/distancecalc.shape.gii -limit 100\n",
      "\n"
     ]
    },
    {
     "data": {
      "text/plain": [
       "0"
      ]
     },
     "execution_count": 125,
     "metadata": {},
     "output_type": "execute_result"
    }
   ],
   "source": [
    "run(['ciftify_postPINT2_sub2sub', '--roiidx', '14', '--debug',\n",
    "     os.path.join(new_outputs, 'PINT', 'concatenated.csv'),\n",
    "     os.path.join(new_outputs, 'PINT', 'ivertex_distances_roiidx14.csv')])"
   ]
  },
  {
   "cell_type": "markdown",
   "metadata": {},
   "source": [
    "# Running ciftify_surface_rois"
   ]
  },
  {
   "cell_type": "code",
   "execution_count": 126,
   "metadata": {},
   "outputs": [
    {
     "name": "stderr",
     "output_type": "stream",
     "text": [
      "Running: mkdir -p /scratch/edickie/ciftify_intergration_tests/run_2017-09-11/rois\n",
      "Running: mkdir -p /scratch/edickie/ciftify_intergration_tests/run_2017-09-11/rois\n",
      "Running: ciftify_surface_rois /scratch/edickie/ciftify_intergration_tests/src_data/vertices1.csv 10 --gaussian /scratch/edickie/ciftify_intergration_tests/run_2017-09-11/hcp/sub-50005/MNINonLinear/fsaverage_LR32k/sub-50005.L.midthickness.32k_fs_LR.surf.gii /scratch/edickie/ciftify_intergration_tests/run_2017-09-11/hcp/sub-50005/MNINonLinear/fsaverage_LR32k/sub-50005.R.midthickness.32k_fs_LR.surf.gii /scratch/edickie/ciftify_intergration_tests/run_2017-09-11/rois/gaussian_roi.dscalar.nii\n",
      "Running: ciftify_surface_rois /scratch/edickie/ciftify_intergration_tests/src_data/vertices1.csv 10 --gaussian /scratch/edickie/ciftify_intergration_tests/run_2017-09-11/hcp/sub-50005/MNINonLinear/fsaverage_LR32k/sub-50005.L.midthickness.32k_fs_LR.surf.gii /scratch/edickie/ciftify_intergration_tests/run_2017-09-11/hcp/sub-50005/MNINonLinear/fsaverage_LR32k/sub-50005.R.midthickness.32k_fs_LR.surf.gii /scratch/edickie/ciftify_intergration_tests/run_2017-09-11/rois/gaussian_roi.dscalar.nii\n"
     ]
    },
    {
     "data": {
      "text/plain": [
       "0"
      ]
     },
     "execution_count": 126,
     "metadata": {},
     "output_type": "execute_result"
    }
   ],
   "source": [
    "vertices1_csv = os.path.join(src_data_dir, 'vertices1.csv')\n",
    "\n",
    "with open(vertices1_csv, \"w\") as text_file:\n",
    "    text_file.write('''hemi,vertex\n",
    "L,11801\n",
    "L,26245\n",
    "L,26235\n",
    "L,26257\n",
    "L,13356\n",
    "L,289\n",
    "L,13336\n",
    "L,13337\n",
    "L,26269\n",
    "L,13323\n",
    "L,26204\n",
    "L,26214\n",
    "L,13326\n",
    "L,13085\n",
    "L,13310\n",
    "L,13281\n",
    "L,13394\n",
    "L,13395\n",
    "L,26263\n",
    "L,26265\n",
    "L,13343\n",
    "L,77\n",
    "L,13273\n",
    "L,13342\n",
    "L,26271\n",
    "L,11804\n",
    "L,13322\n",
    "L,13369\n",
    "L,13353\n",
    "L,26268\n",
    "L,26201\n",
    "L,26269\n",
    "L,68\n",
    "L,13391\n",
    "''')\n",
    "\n",
    "subid = subids[0]\n",
    "run(['mkdir', '-p', os.path.join(new_outputs, 'rois')])\n",
    "run(['ciftify_surface_rois', vertices1_csv, '10', '--gaussian',\n",
    "     os.path.join(hcp_data_dir, subid,'MNINonLinear','fsaverage_LR32k',\n",
    "                  '{}.L.midthickness.32k_fs_LR.surf.gii'.format(subid)),\n",
    "     os.path.join(hcp_data_dir, subid,'MNINonLinear','fsaverage_LR32k',\n",
    "                  '{}.R.midthickness.32k_fs_LR.surf.gii'.format(subid)), \n",
    "     os.path.join(new_outputs, 'rois', 'gaussian_roi.dscalar.nii')])"
   ]
  },
  {
   "cell_type": "code",
   "execution_count": 37,
   "metadata": {},
   "outputs": [
    {
     "data": {
      "text/plain": [
       "0"
      ]
     },
     "execution_count": 37,
     "metadata": {},
     "output_type": "execute_result"
    }
   ],
   "source": [
    "subid = subids[0]\n",
    "run(['cifti_vis_map', 'cifti-snaps', '--hcp-data-dir', \n",
    "     hcp_data_dir, \n",
    "     os.path.join(new_outputs, 'rois', 'gaussian_roi.dscalar.nii'),\n",
    "     subid, \n",
    "     'gaussian_roi'])"
   ]
  },
  {
   "cell_type": "code",
   "execution_count": 38,
   "metadata": {
    "scrolled": true
   },
   "outputs": [
    {
     "data": {
      "text/plain": [
       "0"
      ]
     },
     "execution_count": 38,
     "metadata": {},
     "output_type": "execute_result"
    }
   ],
   "source": [
    "run(['ciftify_peaktable', '--max-threshold', '0.05',      \n",
    "    '--left-surface', os.path.join(hcp_data_dir, subid,'MNINonLinear','fsaverage_LR32k',\n",
    "                  '{}.L.midthickness.32k_fs_LR.surf.gii'.format(subid)),\n",
    "    '--right-surface', os.path.join(hcp_data_dir, subid,'MNINonLinear','fsaverage_LR32k',\n",
    "                  '{}.R.midthickness.32k_fs_LR.surf.gii'.format(subid)),\n",
    "    os.path.join(new_outputs, 'rois', 'gaussian_roi.dscalar.nii')])"
   ]
  },
  {
   "cell_type": "code",
   "execution_count": 39,
   "metadata": {},
   "outputs": [
    {
     "data": {
      "text/plain": [
       "0"
      ]
     },
     "execution_count": 39,
     "metadata": {},
     "output_type": "execute_result"
    }
   ],
   "source": [
    "vertices2_csv = os.path.join(src_data_dir, 'vertices1.csv')\n",
    "\n",
    "with open(vertices2_csv, \"w\") as text_file:\n",
    "    text_file.write('''hemi,vertex\n",
    "R,2379\n",
    "R,2423\n",
    "R,2423\n",
    "R,2629\n",
    "R,29290\n",
    "R,29290\n",
    "R,1794\n",
    "R,29199\n",
    "R,1788\n",
    "R,2380\n",
    "R,2288\n",
    "R,29320\n",
    "R,29274\n",
    "R,29272\n",
    "R,29331\n",
    "R,29356\n",
    "R,2510\n",
    "R,29345\n",
    "R,2506\n",
    "R,2506\n",
    "R,1790\n",
    "R,29305\n",
    "R,2630\n",
    "R,2551\n",
    "R,2334\n",
    "R,2334\n",
    "R,29306\n",
    "R,2551\n",
    "R,2422\n",
    "R,29256\n",
    "R,2468\n",
    "R,29332\n",
    "R,2425\n",
    "R,29356\n",
    "''')\n",
    "    \n",
    "run(['mkdir', '-p', os.path.join(new_outputs, 'rois')])\n",
    "run(['ciftify_surface_rois', vertices1_csv, '6', '--probmap',\n",
    "     os.path.join(hcp_data_dir, subid,'MNINonLinear','fsaverage_LR32k',\n",
    "                  '{}.L.midthickness.32k_fs_LR.surf.gii'.format(subid)),\n",
    "     os.path.join(hcp_data_dir, subid,'MNINonLinear','fsaverage_LR32k',\n",
    "                  '{}.R.midthickness.32k_fs_LR.surf.gii'.format(subid)), \n",
    "     os.path.join(new_outputs, 'rois', 'probmap_roi.dscalar.nii')])"
   ]
  },
  {
   "cell_type": "code",
   "execution_count": 40,
   "metadata": {},
   "outputs": [
    {
     "data": {
      "text/plain": [
       "0"
      ]
     },
     "execution_count": 40,
     "metadata": {},
     "output_type": "execute_result"
    }
   ],
   "source": [
    "subid = subids[0]\n",
    "run(['cifti_vis_map', 'cifti-snaps', '--hcp-data-dir', \n",
    "     hcp_data_dir, \n",
    "     os.path.join(new_outputs, 'rois', 'probmap_roi.dscalar.nii'),\n",
    "     subid, \n",
    "     'probmap_roi'])"
   ]
  },
  {
   "cell_type": "code",
   "execution_count": 41,
   "metadata": {},
   "outputs": [
    {
     "data": {
      "text/plain": [
       "0"
      ]
     },
     "execution_count": 41,
     "metadata": {},
     "output_type": "execute_result"
    }
   ],
   "source": [
    "run(['ciftify_peaktable', '--max-threshold', '0.05',      \n",
    "    '--left-surface', os.path.join(hcp_data_dir, subid,'MNINonLinear','fsaverage_LR32k',\n",
    "                  '{}.L.midthickness.32k_fs_LR.surf.gii'.format(subid)),\n",
    "    '--right-surface', os.path.join(hcp_data_dir, subid,'MNINonLinear','fsaverage_LR32k',\n",
    "                  '{}.R.midthickness.32k_fs_LR.surf.gii'.format(subid)), \n",
    "   os.path.join(new_outputs, 'rois', 'probmap_roi.dscalar.nii')])"
   ]
  },
  {
   "cell_type": "code",
   "execution_count": 42,
   "metadata": {},
   "outputs": [
    {
     "data": {
      "text/plain": [
       "0"
      ]
     },
     "execution_count": 42,
     "metadata": {},
     "output_type": "execute_result"
    }
   ],
   "source": [
    "for hemi in ['L','R']:\n",
    "    run(['wb_command', '-surface-vertex-areas',\n",
    "         os.path.join(hcp_data_dir, subid,'MNINonLinear','fsaverage_LR32k',\n",
    "                  '{}.{}.midthickness.32k_fs_LR.surf.gii'.format(subid, hemi)),\n",
    "         os.path.join(hcp_data_dir, subid,'MNINonLinear','fsaverage_LR32k',\n",
    "                  '{}.{}.midthickness_va.32k_fs_LR.shape.gii'.format(subid, hemi))])\n",
    "\n",
    "run(['ciftify_peaktable', \n",
    "    '--outputbase', os.path.join(new_outputs, 'rois', 'probmap_roi_withva'),\n",
    "    '--max-threshold', '0.05',      \n",
    "    '--left-surface', os.path.join(hcp_data_dir, subid,'MNINonLinear','fsaverage_LR32k',\n",
    "                  '{}.L.midthickness.32k_fs_LR.surf.gii'.format(subid)),\n",
    "    '--right-surface', os.path.join(hcp_data_dir, subid,'MNINonLinear','fsaverage_LR32k',\n",
    "                  '{}.R.midthickness.32k_fs_LR.surf.gii'.format(subid)), \n",
    "    '--left-surf-area', os.path.join(hcp_data_dir, subid,'MNINonLinear','fsaverage_LR32k',\n",
    "                  '{}.L.midthickness_va.32k_fs_LR.shape.gii'.format(subid)),\n",
    "    '--right-surf-area', os.path.join(hcp_data_dir, subid,'MNINonLinear','fsaverage_LR32k',\n",
    "                  '{}.R.midthickness_va.32k_fs_LR.shape.gii'.format(subid)), \n",
    "   os.path.join(new_outputs, 'rois', 'probmap_roi.dscalar.nii')])"
   ]
  },
  {
   "cell_type": "code",
   "execution_count": 43,
   "metadata": {},
   "outputs": [
    {
     "data": {
      "text/plain": [
       "0"
      ]
     },
     "execution_count": 43,
     "metadata": {},
     "output_type": "execute_result"
    }
   ],
   "source": [
    "run(['ciftify_surface_rois', '--debug',\n",
    "      os.path.join(ciftify.config.find_ciftify_global(), 'PINT', 'Yeo7_2011_80verts.csv'),\n",
    "      '6', '--vertex-col', 'tvertex', '--labels-col', 'NETWORK', '--overlap-logic', 'EXCLUDE',\n",
    "      os.path.join(ciftify.config.find_HCP_S1200_GroupAvg(),\n",
    "                'S1200.L.midthickness_MSMAll.32k_fs_LR.surf.gii'),\n",
    "      os.path.join(ciftify.config.find_HCP_S1200_GroupAvg(),\n",
    "                'S1200.R.midthickness_MSMAll.32k_fs_LR.surf.gii'),\n",
    "      os.path.join(new_outputs, 'rois', 'tvertex.dscalar.nii')])"
   ]
  },
  {
   "cell_type": "code",
   "execution_count": 44,
   "metadata": {},
   "outputs": [
    {
     "data": {
      "text/plain": [
       "0"
      ]
     },
     "execution_count": 44,
     "metadata": {},
     "output_type": "execute_result"
    }
   ],
   "source": [
    "subid = subids[0]\n",
    "run(['cifti_vis_map', 'cifti-snaps', '--hcp-data-dir', \n",
    "     hcp_data_dir, \n",
    "     os.path.join(new_outputs, 'rois', 'tvertex.dscalar.nii'),\n",
    "     subid, \n",
    "     'tvertex'])"
   ]
  },
  {
   "cell_type": "markdown",
   "metadata": {},
   "source": [
    "# Running ciftify_seed_corr "
   ]
  },
  {
   "cell_type": "code",
   "execution_count": 77,
   "metadata": {},
   "outputs": [
    {
     "name": "stderr",
     "output_type": "stream",
     "text": [
      "Running: wb_command -volume-label-to-roi /scratch/edickie/ciftify_intergration_tests/run_2017-09-11/hcp/sub-50005/MNINonLinear/wmparc.nii.gz /scratch/edickie/ciftify_intergration_tests/run_2017-09-11/ciftify_seed_corr/sub-50005_RIGHT-PUTAMEN_vol.nii.gz -name RIGHT-PUTAMEN\n",
      "Running: wb_command -volume-label-to-roi /scratch/edickie/ciftify_intergration_tests/run_2017-09-11/hcp/sub-50005/MNINonLinear/wmparc.nii.gz /scratch/edickie/ciftify_intergration_tests/run_2017-09-11/ciftify_seed_corr/sub-50005_RIGHT-PUTAMEN_vol.nii.gz -name RIGHT-PUTAMEN\n"
     ]
    },
    {
     "data": {
      "text/plain": [
       "0"
      ]
     },
     "execution_count": 77,
     "metadata": {},
     "output_type": "execute_result"
    }
   ],
   "source": [
    "subid = subids[0]\n",
    "smoothing = 12\n",
    "func_vol = os.path.join(hcp_data_dir, subid, 'MNINonLinear', 'Results', 'rest_test1', 'rest_test1.nii.gz')\n",
    "func_cifti_sm0 = os.path.join(hcp_data_dir, subid, 'MNINonLinear', 'Results', 'rest_test1', 'rest_test1_Atlas_s0.dtseries.nii')\n",
    "func_cifti_smoothed = os.path.join(hcp_data_dir, subid, 'MNINonLinear', 'Results', 'rest_test1', 'rest_test1_Atlas_s{}.dtseries.nii'.format(smoothing))\n",
    "atlas_vol =  os.path.join(hcp_data_dir, subid, 'MNINonLinear', 'wmparc.nii.gz')\n",
    "\n",
    "seed_corr_dir = os.path.join(new_outputs, 'ciftify_seed_corr')\n",
    "if not os.path.exists(seed_corr_dir):\n",
    "    run(['mkdir', '-p', seed_corr_dir])\n",
    "struct = 'RIGHT-PUTAMEN'\n",
    "putamen_vol_seed_mask = os.path.join(seed_corr_dir, '{}_{}_vol.nii.gz'.format(subid, struct))\n",
    "run(['wb_command', '-volume-label-to-roi', atlas_vol, putamen_vol_seed_mask, '-name', struct])\n",
    "\n"
   ]
  },
  {
   "cell_type": "code",
   "execution_count": 76,
   "metadata": {
    "scrolled": true
   },
   "outputs": [
    {
     "name": "stderr",
     "output_type": "stream",
     "text": [
      "Running: extract_nuisance_regressors /scratch/edickie/ciftify_intergration_tests/run_2017-09-11/hcp/sub-50005/MNINonLinear /scratch/edickie/ciftify_intergration_tests/run_2017-09-11/hcp/sub-50005/MNINonLinear/Results/rest_test1/rest_test1.nii.gz\n",
      "Running: extract_nuisance_regressors /scratch/edickie/ciftify_intergration_tests/run_2017-09-11/hcp/sub-50005/MNINonLinear /scratch/edickie/ciftify_intergration_tests/run_2017-09-11/hcp/sub-50005/MNINonLinear/Results/rest_test1/rest_test1.nii.gz\n"
     ]
    },
    {
     "data": {
      "text/plain": [
       "0"
      ]
     },
     "execution_count": 76,
     "metadata": {},
     "output_type": "execute_result"
    }
   ],
   "source": [
    "### All results\n",
    "# ciftify_peaktable - with va input\n",
    "# cifti_vis_map\n",
    "run(['extract_nuisance_regressors', \n",
    "     os.path.join(hcp_data_dir, subid, 'MNINonLinear'), \n",
    "     func_vol])\n"
   ]
  },
  {
   "cell_type": "code",
   "execution_count": 78,
   "metadata": {
    "scrolled": true
   },
   "outputs": [
    {
     "name": "stderr",
     "output_type": "stream",
     "text": [
      "Running: ciftify_seed_corr --fisher-z /scratch/edickie/ciftify_intergration_tests/run_2017-09-11/hcp/sub-50005/MNINonLinear/Results/rest_test1/rest_test1.nii.gz /scratch/edickie/ciftify_intergration_tests/run_2017-09-11/ciftify_seed_corr/sub-50005_RIGHT-PUTAMEN_vol.nii.gz\n",
      "Running: ciftify_seed_corr --fisher-z /scratch/edickie/ciftify_intergration_tests/run_2017-09-11/hcp/sub-50005/MNINonLinear/Results/rest_test1/rest_test1.nii.gz /scratch/edickie/ciftify_intergration_tests/run_2017-09-11/ciftify_seed_corr/sub-50005_RIGHT-PUTAMEN_vol.nii.gz\n",
      "Running: cifti_vis_map nifti-snaps --hcp-data-dir /scratch/edickie/ciftify_intergration_tests/run_2017-09-11/hcp /scratch/edickie/ciftify_intergration_tests/run_2017-09-11/hcp/sub-50005/MNINonLinear/Results/rest_test1/rest_test1_sub-50005_RIGHT-PUTAMEN_vol.nii.gz sub-50005 sub-50005_RIGHT-PUTAMEN_niftitoniftiZ_unmasked\n",
      "Running: cifti_vis_map nifti-snaps --hcp-data-dir /scratch/edickie/ciftify_intergration_tests/run_2017-09-11/hcp /scratch/edickie/ciftify_intergration_tests/run_2017-09-11/hcp/sub-50005/MNINonLinear/Results/rest_test1/rest_test1_sub-50005_RIGHT-PUTAMEN_vol.nii.gz sub-50005 sub-50005_RIGHT-PUTAMEN_niftitoniftiZ_unmasked\n"
     ]
    },
    {
     "data": {
      "text/plain": [
       "0"
      ]
     },
     "execution_count": 78,
     "metadata": {},
     "output_type": "execute_result"
    }
   ],
   "source": [
    "run(['ciftify_seed_corr', '--fisher-z', func_vol, putamen_vol_seed_mask])\n",
    "run(['cifti_vis_map', 'nifti-snaps', '--hcp-data-dir', \n",
    "     hcp_data_dir, \n",
    "     seed_corr_default_out(func_vol, putamen_vol_seed_mask),\n",
    "     subid, \n",
    "     '{}_{}_niftitoniftiZ_unmasked'.format(subid, struct)])"
   ]
  },
  {
   "cell_type": "code",
   "execution_count": 79,
   "metadata": {
    "scrolled": true
   },
   "outputs": [
    {
     "name": "stderr",
     "output_type": "stream",
     "text": [
      "Running: ciftify_seed_corr /scratch/edickie/ciftify_intergration_tests/run_2017-09-11/hcp/sub-50005/MNINonLinear/Results/rest_test1/rest_test1.nii.gz /scratch/edickie/ciftify_intergration_tests/run_2017-09-11/ciftify_seed_corr/sub-50005_RIGHT-PUTAMEN_vol.nii.gz\n",
      "Running: ciftify_seed_corr /scratch/edickie/ciftify_intergration_tests/run_2017-09-11/hcp/sub-50005/MNINonLinear/Results/rest_test1/rest_test1.nii.gz /scratch/edickie/ciftify_intergration_tests/run_2017-09-11/ciftify_seed_corr/sub-50005_RIGHT-PUTAMEN_vol.nii.gz\n",
      "Running: cifti_vis_map nifti-snaps --hcp-data-dir /scratch/edickie/ciftify_intergration_tests/run_2017-09-11/hcp /scratch/edickie/ciftify_intergration_tests/run_2017-09-11/hcp/sub-50005/MNINonLinear/Results/rest_test1/rest_test1_sub-50005_RIGHT-PUTAMEN_vol.nii.gz sub-50005 sub-50005_RIGHT-PUTAMEN_niftitonifti_unmasked\n",
      "Running: cifti_vis_map nifti-snaps --hcp-data-dir /scratch/edickie/ciftify_intergration_tests/run_2017-09-11/hcp /scratch/edickie/ciftify_intergration_tests/run_2017-09-11/hcp/sub-50005/MNINonLinear/Results/rest_test1/rest_test1_sub-50005_RIGHT-PUTAMEN_vol.nii.gz sub-50005 sub-50005_RIGHT-PUTAMEN_niftitonifti_unmasked\n"
     ]
    },
    {
     "data": {
      "text/plain": [
       "0"
      ]
     },
     "execution_count": 79,
     "metadata": {},
     "output_type": "execute_result"
    }
   ],
   "source": [
    "run(['ciftify_seed_corr', func_vol, putamen_vol_seed_mask])\n",
    "run(['cifti_vis_map', 'nifti-snaps', '--hcp-data-dir', \n",
    "     hcp_data_dir, \n",
    "     seed_corr_default_out(func_vol, putamen_vol_seed_mask),\n",
    "     subid, \n",
    "     '{}_{}_niftitonifti_unmasked'.format(subid, struct)])"
   ]
  },
  {
   "cell_type": "code",
   "execution_count": 80,
   "metadata": {},
   "outputs": [
    {
     "name": "stderr",
     "output_type": "stream",
     "text": [
      "Running: ciftify_seed_corr --outputname /scratch/edickie/ciftify_intergration_tests/run_2017-09-11/ciftify_seed_corr/sub-50005_RIGHT-PUTAMEN_niftitonifti_masked.nii.gz --mask /scratch/edickie/ciftify_intergration_tests/run_2017-09-11/hcp/sub-50005/MNINonLinear/brainmask_fs.nii.gz /scratch/edickie/ciftify_intergration_tests/run_2017-09-11/hcp/sub-50005/MNINonLinear/Results/rest_test1/rest_test1.nii.gz /scratch/edickie/ciftify_intergration_tests/run_2017-09-11/ciftify_seed_corr/sub-50005_RIGHT-PUTAMEN_vol.nii.gz\n",
      "Running: ciftify_seed_corr --outputname /scratch/edickie/ciftify_intergration_tests/run_2017-09-11/ciftify_seed_corr/sub-50005_RIGHT-PUTAMEN_niftitonifti_masked.nii.gz --mask /scratch/edickie/ciftify_intergration_tests/run_2017-09-11/hcp/sub-50005/MNINonLinear/brainmask_fs.nii.gz /scratch/edickie/ciftify_intergration_tests/run_2017-09-11/hcp/sub-50005/MNINonLinear/Results/rest_test1/rest_test1.nii.gz /scratch/edickie/ciftify_intergration_tests/run_2017-09-11/ciftify_seed_corr/sub-50005_RIGHT-PUTAMEN_vol.nii.gz\n",
      "Running: cifti_vis_map nifti-snaps --hcp-data-dir /scratch/edickie/ciftify_intergration_tests/run_2017-09-11/hcp /scratch/edickie/ciftify_intergration_tests/run_2017-09-11/ciftify_seed_corr/sub-50005_RIGHT-PUTAMEN_niftitonifti_masked.nii.gz sub-50005 sub-50005_RIGHT-PUTAMEN_niftitonifti_masked\n",
      "Running: cifti_vis_map nifti-snaps --hcp-data-dir /scratch/edickie/ciftify_intergration_tests/run_2017-09-11/hcp /scratch/edickie/ciftify_intergration_tests/run_2017-09-11/ciftify_seed_corr/sub-50005_RIGHT-PUTAMEN_niftitonifti_masked.nii.gz sub-50005 sub-50005_RIGHT-PUTAMEN_niftitonifti_masked\n"
     ]
    },
    {
     "data": {
      "text/plain": [
       "0"
      ]
     },
     "execution_count": 80,
     "metadata": {},
     "output_type": "execute_result"
    }
   ],
   "source": [
    "run(['ciftify_seed_corr',\n",
    "     '--outputname', os.path.join(seed_corr_dir, '{}_{}_niftitonifti_masked.nii.gz'.format(subid, struct)),\n",
    "     '--mask', os.path.join(hcp_data_dir, subid, 'MNINonLinear', 'brainmask_fs.nii.gz'),\n",
    "     func_vol, putamen_vol_seed_mask])\n",
    "\n",
    "run(['cifti_vis_map', 'nifti-snaps', '--hcp-data-dir', \n",
    "     hcp_data_dir, \n",
    "     os.path.join(seed_corr_dir, '{}_{}_niftitonifti_masked.nii.gz'.format(subid, struct)),\n",
    "     subid, \n",
    "     '{}_{}_niftitonifti_masked'.format(subid, struct)])"
   ]
  },
  {
   "cell_type": "code",
   "execution_count": 81,
   "metadata": {},
   "outputs": [
    {
     "name": "stderr",
     "output_type": "stream",
     "text": [
      "Running: ciftify_seed_corr --fisher-z --outputname /scratch/edickie/ciftify_intergration_tests/run_2017-09-11/ciftify_seed_corr/sub-50005_RIGHT-PUTAMEN_niftitoniftiZ_masked.nii.gz --mask /scratch/edickie/ciftify_intergration_tests/run_2017-09-11/hcp/sub-50005/MNINonLinear/brainmask_fs.nii.gz /scratch/edickie/ciftify_intergration_tests/run_2017-09-11/hcp/sub-50005/MNINonLinear/Results/rest_test1/rest_test1.nii.gz /scratch/edickie/ciftify_intergration_tests/run_2017-09-11/ciftify_seed_corr/sub-50005_RIGHT-PUTAMEN_vol.nii.gz\n",
      "Running: ciftify_seed_corr --fisher-z --outputname /scratch/edickie/ciftify_intergration_tests/run_2017-09-11/ciftify_seed_corr/sub-50005_RIGHT-PUTAMEN_niftitoniftiZ_masked.nii.gz --mask /scratch/edickie/ciftify_intergration_tests/run_2017-09-11/hcp/sub-50005/MNINonLinear/brainmask_fs.nii.gz /scratch/edickie/ciftify_intergration_tests/run_2017-09-11/hcp/sub-50005/MNINonLinear/Results/rest_test1/rest_test1.nii.gz /scratch/edickie/ciftify_intergration_tests/run_2017-09-11/ciftify_seed_corr/sub-50005_RIGHT-PUTAMEN_vol.nii.gz\n",
      "Running: cifti_vis_map nifti-snaps --hcp-data-dir /scratch/edickie/ciftify_intergration_tests/run_2017-09-11/hcp /scratch/edickie/ciftify_intergration_tests/run_2017-09-11/ciftify_seed_corr/sub-50005_RIGHT-PUTAMEN_niftitoniftiZ_masked.nii.gz sub-50005 sub-50005_RIGHT-PUTAMEN_niftitonifti_masked\n",
      "Running: cifti_vis_map nifti-snaps --hcp-data-dir /scratch/edickie/ciftify_intergration_tests/run_2017-09-11/hcp /scratch/edickie/ciftify_intergration_tests/run_2017-09-11/ciftify_seed_corr/sub-50005_RIGHT-PUTAMEN_niftitoniftiZ_masked.nii.gz sub-50005 sub-50005_RIGHT-PUTAMEN_niftitonifti_masked\n"
     ]
    },
    {
     "data": {
      "text/plain": [
       "0"
      ]
     },
     "execution_count": 81,
     "metadata": {},
     "output_type": "execute_result"
    }
   ],
   "source": [
    "run(['ciftify_seed_corr', '--fisher-z',\n",
    "     '--outputname', os.path.join(seed_corr_dir, '{}_{}_niftitoniftiZ_masked.nii.gz'.format(subid, struct)),\n",
    "     '--mask', os.path.join(hcp_data_dir, subid, 'MNINonLinear', 'brainmask_fs.nii.gz'),\n",
    "     func_vol, putamen_vol_seed_mask])\n",
    "\n",
    "run(['cifti_vis_map', 'nifti-snaps', '--hcp-data-dir', \n",
    "     hcp_data_dir, \n",
    "     os.path.join(seed_corr_dir, '{}_{}_niftitoniftiZ_masked.nii.gz'.format(subid, struct)),\n",
    "     subid, \n",
    "     '{}_{}_niftitonifti_masked'.format(subid, struct)])"
   ]
  },
  {
   "cell_type": "code",
   "execution_count": 82,
   "metadata": {},
   "outputs": [
    {
     "name": "stderr",
     "output_type": "stream",
     "text": [
      "Running: ciftify_seed_corr --fisher-z /scratch/edickie/ciftify_intergration_tests/run_2017-09-11/hcp/sub-50005/MNINonLinear/Results/rest_test1/rest_test1_Atlas_s12.dtseries.nii /scratch/edickie/ciftify_intergration_tests/run_2017-09-11/ciftify_seed_corr/sub-50005_RIGHT-PUTAMEN_vol.nii.gz\n",
      "Running: ciftify_seed_corr --fisher-z /scratch/edickie/ciftify_intergration_tests/run_2017-09-11/hcp/sub-50005/MNINonLinear/Results/rest_test1/rest_test1_Atlas_s12.dtseries.nii /scratch/edickie/ciftify_intergration_tests/run_2017-09-11/ciftify_seed_corr/sub-50005_RIGHT-PUTAMEN_vol.nii.gz\n",
      "Running: cifti_vis_map cifti-snaps --hcp-data-dir /scratch/edickie/ciftify_intergration_tests/run_2017-09-11/hcp /scratch/edickie/ciftify_intergration_tests/run_2017-09-11/hcp/sub-50005/MNINonLinear/Results/rest_test1/rest_test1_Atlas_s12_sub-50005_RIGHT-PUTAMEN_vol.dscalar.nii sub-50005 sub-50005_RIGHT-PUTAMEN_niftitociftiZ_unmasked\n",
      "Running: cifti_vis_map cifti-snaps --hcp-data-dir /scratch/edickie/ciftify_intergration_tests/run_2017-09-11/hcp /scratch/edickie/ciftify_intergration_tests/run_2017-09-11/hcp/sub-50005/MNINonLinear/Results/rest_test1/rest_test1_Atlas_s12_sub-50005_RIGHT-PUTAMEN_vol.dscalar.nii sub-50005 sub-50005_RIGHT-PUTAMEN_niftitociftiZ_unmasked\n",
      "Running: ciftify_peaktable --min-threshold -0.5 --max-threshold 0.5 --no-cluster-dlabel /scratch/edickie/ciftify_intergration_tests/run_2017-09-11/hcp/sub-50005/MNINonLinear/Results/rest_test1/rest_test1_Atlas_s12_sub-50005_RIGHT-PUTAMEN_vol.dscalar.nii\n",
      "Running: ciftify_peaktable --min-threshold -0.5 --max-threshold 0.5 --no-cluster-dlabel /scratch/edickie/ciftify_intergration_tests/run_2017-09-11/hcp/sub-50005/MNINonLinear/Results/rest_test1/rest_test1_Atlas_s12_sub-50005_RIGHT-PUTAMEN_vol.dscalar.nii\n"
     ]
    }
   ],
   "source": [
    "run(['ciftify_seed_corr', '--fisher-z', func_cifti_smoothed, putamen_vol_seed_mask])\n",
    "\n",
    "run(['cifti_vis_map', 'cifti-snaps', '--hcp-data-dir', \n",
    "     hcp_data_dir, \n",
    "     seed_corr_default_out(func_cifti_smoothed, putamen_vol_seed_mask),\n",
    "     subid, \n",
    "     '{}_{}_niftitociftiZ_unmasked'.format(subid, struct)])\n",
    "\n",
    "run_seedcorr_peaktable(seed_corr_default_out(func_cifti_smoothed, putamen_vol_seed_mask))"
   ]
  },
  {
   "cell_type": "code",
   "execution_count": 83,
   "metadata": {
    "scrolled": true
   },
   "outputs": [
    {
     "name": "stderr",
     "output_type": "stream",
     "text": [
      "Running: wb_command -cifti-math '(x > 0)' /scratch/edickie/ciftify_intergration_tests/run_2017-09-11/ciftify_seed_corr/sub-50005_func_mask.dscalar.nii -var x /scratch/edickie/ciftify_intergration_tests/run_2017-09-11/hcp/sub-50005/MNINonLinear/Results/rest_test1/rest_test1_Atlas_s0.dtseries.nii -select 1 1\n",
      "Running: wb_command -cifti-math '(x > 0)' /scratch/edickie/ciftify_intergration_tests/run_2017-09-11/ciftify_seed_corr/sub-50005_func_mask.dscalar.nii -var x /scratch/edickie/ciftify_intergration_tests/run_2017-09-11/hcp/sub-50005/MNINonLinear/Results/rest_test1/rest_test1_Atlas_s0.dtseries.nii -select 1 1\n",
      "parsed '(x > 0)' as '(x>0)'\n",
      "\n",
      "parsed '(x > 0)' as '(x>0)'\n",
      "\n",
      "Running: ciftify_seed_corr --outputname /scratch/edickie/ciftify_intergration_tests/run_2017-09-11/ciftify_seed_corr/sub-50005_RIGHT-PUTAMEN_niftitocifti_masked.dscalar.nii --mask /scratch/edickie/ciftify_intergration_tests/run_2017-09-11/ciftify_seed_corr/sub-50005_func_mask.dscalar.nii /scratch/edickie/ciftify_intergration_tests/run_2017-09-11/hcp/sub-50005/MNINonLinear/Results/rest_test1/rest_test1_Atlas_s12.dtseries.nii /scratch/edickie/ciftify_intergration_tests/run_2017-09-11/ciftify_seed_corr/sub-50005_RIGHT-PUTAMEN_vol.nii.gz\n",
      "Running: ciftify_seed_corr --outputname /scratch/edickie/ciftify_intergration_tests/run_2017-09-11/ciftify_seed_corr/sub-50005_RIGHT-PUTAMEN_niftitocifti_masked.dscalar.nii --mask /scratch/edickie/ciftify_intergration_tests/run_2017-09-11/ciftify_seed_corr/sub-50005_func_mask.dscalar.nii /scratch/edickie/ciftify_intergration_tests/run_2017-09-11/hcp/sub-50005/MNINonLinear/Results/rest_test1/rest_test1_Atlas_s12.dtseries.nii /scratch/edickie/ciftify_intergration_tests/run_2017-09-11/ciftify_seed_corr/sub-50005_RIGHT-PUTAMEN_vol.nii.gz\n",
      "Running: cifti_vis_map cifti-snaps --hcp-data-dir /scratch/edickie/ciftify_intergration_tests/run_2017-09-11/hcp /scratch/edickie/ciftify_intergration_tests/run_2017-09-11/ciftify_seed_corr/sub-50005_RIGHT-PUTAMEN_niftitocifti_masked.dscalar.nii sub-50005 sub-50005_RIGHT-PUTAMEN_niftitocifti_masked\n",
      "Running: cifti_vis_map cifti-snaps --hcp-data-dir /scratch/edickie/ciftify_intergration_tests/run_2017-09-11/hcp /scratch/edickie/ciftify_intergration_tests/run_2017-09-11/ciftify_seed_corr/sub-50005_RIGHT-PUTAMEN_niftitocifti_masked.dscalar.nii sub-50005 sub-50005_RIGHT-PUTAMEN_niftitocifti_masked\n",
      "Running: ciftify_peaktable --min-threshold -0.5 --max-threshold 0.5 --no-cluster-dlabel /scratch/edickie/ciftify_intergration_tests/run_2017-09-11/ciftify_seed_corr/sub-50005_RIGHT-PUTAMEN_niftitocifti_masked.dscalar.nii\n",
      "Running: ciftify_peaktable --min-threshold -0.5 --max-threshold 0.5 --no-cluster-dlabel /scratch/edickie/ciftify_intergration_tests/run_2017-09-11/ciftify_seed_corr/sub-50005_RIGHT-PUTAMEN_niftitocifti_masked.dscalar.nii\n"
     ]
    }
   ],
   "source": [
    "cifti_mask = os.path.join(seed_corr_dir, '{}_func_mask.dscalar.nii'.format(subid))\n",
    "run(['wb_command', '-cifti-math', \"'(x > 0)'\", cifti_mask,\n",
    "    '-var', 'x', func_cifti_sm0, '-select', '1', '1'])\n",
    "run(['ciftify_seed_corr',\n",
    "     '--outputname', os.path.join(seed_corr_dir, '{}_{}_niftitocifti_masked.dscalar.nii'.format(subid, struct)),\n",
    "     '--mask', cifti_mask,\n",
    "     func_cifti_smoothed, putamen_vol_seed_mask])\n",
    "\n",
    "subid = subids[0]\n",
    "run(['cifti_vis_map', 'cifti-snaps', '--hcp-data-dir', hcp_data_dir, \n",
    "     os.path.join(seed_corr_dir, '{}_{}_niftitocifti_masked.dscalar.nii'.format(subid, struct)),\n",
    "     subid, \n",
    "     '{}_{}_niftitocifti_masked'.format(subid, struct)])\n",
    "run_seedcorr_peaktable(os.path.join(seed_corr_dir, '{}_{}_niftitocifti_masked.dscalar.nii'.format(subid, struct)))\n"
   ]
  },
  {
   "cell_type": "code",
   "execution_count": 84,
   "metadata": {
    "scrolled": true
   },
   "outputs": [
    {
     "name": "stderr",
     "output_type": "stream",
     "text": [
      "Running: ciftify_seed_corr --fisher-z --outputname /scratch/edickie/ciftify_intergration_tests/run_2017-09-11/ciftify_seed_corr/sub-50005_RIGHT-PUTAMEN_niftitociftiZ_masked.dscalar.nii --mask /scratch/edickie/ciftify_intergration_tests/run_2017-09-11/ciftify_seed_corr/sub-50005_func_mask.dscalar.nii /scratch/edickie/ciftify_intergration_tests/run_2017-09-11/hcp/sub-50005/MNINonLinear/Results/rest_test1/rest_test1_Atlas_s12.dtseries.nii /scratch/edickie/ciftify_intergration_tests/run_2017-09-11/ciftify_seed_corr/sub-50005_RIGHT-PUTAMEN_vol.nii.gz\n",
      "Running: ciftify_seed_corr --fisher-z --outputname /scratch/edickie/ciftify_intergration_tests/run_2017-09-11/ciftify_seed_corr/sub-50005_RIGHT-PUTAMEN_niftitociftiZ_masked.dscalar.nii --mask /scratch/edickie/ciftify_intergration_tests/run_2017-09-11/ciftify_seed_corr/sub-50005_func_mask.dscalar.nii /scratch/edickie/ciftify_intergration_tests/run_2017-09-11/hcp/sub-50005/MNINonLinear/Results/rest_test1/rest_test1_Atlas_s12.dtseries.nii /scratch/edickie/ciftify_intergration_tests/run_2017-09-11/ciftify_seed_corr/sub-50005_RIGHT-PUTAMEN_vol.nii.gz\n",
      "Running: cifti_vis_map cifti-snaps --hcp-data-dir /scratch/edickie/ciftify_intergration_tests/run_2017-09-11/hcp /scratch/edickie/ciftify_intergration_tests/run_2017-09-11/ciftify_seed_corr/sub-50005_RIGHT-PUTAMEN_niftitociftiZ_masked.dscalar.nii sub-50005 sub-50005_RIGHT-PUTAMEN_niftitociftiZ_masked\n",
      "Running: cifti_vis_map cifti-snaps --hcp-data-dir /scratch/edickie/ciftify_intergration_tests/run_2017-09-11/hcp /scratch/edickie/ciftify_intergration_tests/run_2017-09-11/ciftify_seed_corr/sub-50005_RIGHT-PUTAMEN_niftitociftiZ_masked.dscalar.nii sub-50005 sub-50005_RIGHT-PUTAMEN_niftitociftiZ_masked\n",
      "Running: ciftify_peaktable --min-threshold -0.5 --max-threshold 0.5 --no-cluster-dlabel /scratch/edickie/ciftify_intergration_tests/run_2017-09-11/ciftify_seed_corr/sub-50005_RIGHT-PUTAMEN_niftitociftiZ_masked.dscalar.nii\n",
      "Running: ciftify_peaktable --min-threshold -0.5 --max-threshold 0.5 --no-cluster-dlabel /scratch/edickie/ciftify_intergration_tests/run_2017-09-11/ciftify_seed_corr/sub-50005_RIGHT-PUTAMEN_niftitociftiZ_masked.dscalar.nii\n"
     ]
    }
   ],
   "source": [
    "run(['ciftify_seed_corr', '--fisher-z',\n",
    "     '--outputname', os.path.join(seed_corr_dir, '{}_{}_niftitociftiZ_masked.dscalar.nii'.format(subid, struct)),\n",
    "     '--mask', cifti_mask,\n",
    "     func_cifti_smoothed, putamen_vol_seed_mask])\n",
    "\n",
    "subid = subids[0]\n",
    "run(['cifti_vis_map', 'cifti-snaps', '--hcp-data-dir', hcp_data_dir, \n",
    "     os.path.join(seed_corr_dir, '{}_{}_niftitociftiZ_masked.dscalar.nii'.format(subid, struct)),\n",
    "     subid, \n",
    "     '{}_{}_niftitociftiZ_masked'.format(subid, struct)])\n",
    "run_seedcorr_peaktable(os.path.join(seed_corr_dir, '{}_{}_niftitociftiZ_masked.dscalar.nii'.format(subid, struct)))\n"
   ]
  },
  {
   "cell_type": "code",
   "execution_count": 85,
   "metadata": {},
   "outputs": [
    {
     "name": "stderr",
     "output_type": "stream",
     "text": [
      "Running: wb_command -cifti-create-dense-from-template /scratch/edickie/ciftify_intergration_tests/run_2017-09-11/hcp/sub-50005/MNINonLinear/Results/rest_test1/rest_test1_Atlas_s0.dtseries.nii /scratch/edickie/ciftify_intergration_tests/run_2017-09-11/ciftify_seed_corr/sub-50005_RIGHT-PUTAMEN_cifti.dscalar.nii -volume-all /scratch/edickie/ciftify_intergration_tests/run_2017-09-11/ciftify_seed_corr/sub-50005_RIGHT-PUTAMEN_vol.nii.gz\n",
      "Running: wb_command -cifti-create-dense-from-template /scratch/edickie/ciftify_intergration_tests/run_2017-09-11/hcp/sub-50005/MNINonLinear/Results/rest_test1/rest_test1_Atlas_s0.dtseries.nii /scratch/edickie/ciftify_intergration_tests/run_2017-09-11/ciftify_seed_corr/sub-50005_RIGHT-PUTAMEN_cifti.dscalar.nii -volume-all /scratch/edickie/ciftify_intergration_tests/run_2017-09-11/ciftify_seed_corr/sub-50005_RIGHT-PUTAMEN_vol.nii.gz\n",
      "Running: ciftify_seed_corr /scratch/edickie/ciftify_intergration_tests/run_2017-09-11/hcp/sub-50005/MNINonLinear/Results/rest_test1/rest_test1_Atlas_s12.dtseries.nii /scratch/edickie/ciftify_intergration_tests/run_2017-09-11/ciftify_seed_corr/sub-50005_RIGHT-PUTAMEN_cifti.dscalar.nii\n",
      "Running: ciftify_seed_corr /scratch/edickie/ciftify_intergration_tests/run_2017-09-11/hcp/sub-50005/MNINonLinear/Results/rest_test1/rest_test1_Atlas_s12.dtseries.nii /scratch/edickie/ciftify_intergration_tests/run_2017-09-11/ciftify_seed_corr/sub-50005_RIGHT-PUTAMEN_cifti.dscalar.nii\n"
     ]
    },
    {
     "data": {
      "text/plain": [
       "0"
      ]
     },
     "execution_count": 85,
     "metadata": {},
     "output_type": "execute_result"
    }
   ],
   "source": [
    "func = func_cifti_smoothed\n",
    "seed = os.path.join(seed_corr_dir, '{}_{}_cifti.dscalar.nii'.format(subid, struct))\n",
    "result_map = seed_corr_default_out(func, seed)\n",
    "result_type = 'cifti'\n",
    "result_prefix = '{}_{}_ciftitocifti_unmasked'.format(subid, struct)\n",
    "run(['wb_command', '-cifti-create-dense-from-template',\n",
    "     func_cifti_sm0, seed,\n",
    "     '-volume-all', putamen_vol_seed_mask])\n",
    "\n",
    "run(['ciftify_seed_corr', func, seed]) \n"
   ]
  },
  {
   "cell_type": "code",
   "execution_count": 86,
   "metadata": {},
   "outputs": [
    {
     "name": "stderr",
     "output_type": "stream",
     "text": [
      "Running: cifti_vis_map cifti-snaps --hcp-data-dir /scratch/edickie/ciftify_intergration_tests/run_2017-09-11/hcp /scratch/edickie/ciftify_intergration_tests/run_2017-09-11/hcp/sub-50005/MNINonLinear/Results/rest_test1/rest_test1_Atlas_s12_sub-50005_RIGHT-PUTAMEN_cifti.dscalar.nii sub-50005 sub-50005_RIGHT-PUTAMEN_ciftitocifti_unmasked\n",
      "Running: cifti_vis_map cifti-snaps --hcp-data-dir /scratch/edickie/ciftify_intergration_tests/run_2017-09-11/hcp /scratch/edickie/ciftify_intergration_tests/run_2017-09-11/hcp/sub-50005/MNINonLinear/Results/rest_test1/rest_test1_Atlas_s12_sub-50005_RIGHT-PUTAMEN_cifti.dscalar.nii sub-50005 sub-50005_RIGHT-PUTAMEN_ciftitocifti_unmasked\n",
      "Running: ciftify_peaktable --min-threshold -0.5 --max-threshold 0.5 --no-cluster-dlabel /scratch/edickie/ciftify_intergration_tests/run_2017-09-11/hcp/sub-50005/MNINonLinear/Results/rest_test1/rest_test1_Atlas_s12_sub-50005_RIGHT-PUTAMEN_cifti.dscalar.nii\n",
      "Running: ciftify_peaktable --min-threshold -0.5 --max-threshold 0.5 --no-cluster-dlabel /scratch/edickie/ciftify_intergration_tests/run_2017-09-11/hcp/sub-50005/MNINonLinear/Results/rest_test1/rest_test1_Atlas_s12_sub-50005_RIGHT-PUTAMEN_cifti.dscalar.nii\n"
     ]
    }
   ],
   "source": [
    "run_vis_map(result_map, result_prefix, result_type)\n",
    "run_seedcorr_peaktable(result_map)"
   ]
  },
  {
   "cell_type": "code",
   "execution_count": 87,
   "metadata": {},
   "outputs": [
    {
     "name": "stderr",
     "output_type": "stream",
     "text": [
      "Running: ciftify_seed_corr --outputname /scratch/edickie/ciftify_intergration_tests/run_2017-09-11/ciftify_seed_corr/sub-50005_RIGHT-PUTAMEN_ciftitocifti_30TRs.dscalar.nii --use-TRs /scratch/edickie/ciftify_intergration_tests/run_2017-09-11/rois/TR_file.txt /scratch/edickie/ciftify_intergration_tests/run_2017-09-11/hcp/sub-50005/MNINonLinear/Results/rest_test1/rest_test1_Atlas_s12.dtseries.nii /scratch/edickie/ciftify_intergration_tests/run_2017-09-11/ciftify_seed_corr/sub-50005_RIGHT-PUTAMEN_vol.nii.gz\n",
      "Running: ciftify_seed_corr --outputname /scratch/edickie/ciftify_intergration_tests/run_2017-09-11/ciftify_seed_corr/sub-50005_RIGHT-PUTAMEN_ciftitocifti_30TRs.dscalar.nii --use-TRs /scratch/edickie/ciftify_intergration_tests/run_2017-09-11/rois/TR_file.txt /scratch/edickie/ciftify_intergration_tests/run_2017-09-11/hcp/sub-50005/MNINonLinear/Results/rest_test1/rest_test1_Atlas_s12.dtseries.nii /scratch/edickie/ciftify_intergration_tests/run_2017-09-11/ciftify_seed_corr/sub-50005_RIGHT-PUTAMEN_vol.nii.gz\n",
      "Running: cifti_vis_map cifti-snaps --hcp-data-dir /scratch/edickie/ciftify_intergration_tests/run_2017-09-11/hcp /scratch/edickie/ciftify_intergration_tests/run_2017-09-11/ciftify_seed_corr/sub-50005_RIGHT-PUTAMEN_ciftitocifti_30TRs.dscalar.nii sub-50005 sub-50005_RIGHT-PUTAMEN_ciftitocifti_30TRs\n",
      "Running: cifti_vis_map cifti-snaps --hcp-data-dir /scratch/edickie/ciftify_intergration_tests/run_2017-09-11/hcp /scratch/edickie/ciftify_intergration_tests/run_2017-09-11/ciftify_seed_corr/sub-50005_RIGHT-PUTAMEN_ciftitocifti_30TRs.dscalar.nii sub-50005 sub-50005_RIGHT-PUTAMEN_ciftitocifti_30TRs\n",
      "Running: ciftify_peaktable --min-threshold -0.5 --max-threshold 0.5 --no-cluster-dlabel /scratch/edickie/ciftify_intergration_tests/run_2017-09-11/ciftify_seed_corr/sub-50005_RIGHT-PUTAMEN_ciftitocifti_30TRs.dscalar.nii\n",
      "Running: ciftify_peaktable --min-threshold -0.5 --max-threshold 0.5 --no-cluster-dlabel /scratch/edickie/ciftify_intergration_tests/run_2017-09-11/ciftify_seed_corr/sub-50005_RIGHT-PUTAMEN_ciftitocifti_30TRs.dscalar.nii\n"
     ]
    }
   ],
   "source": [
    "result_map = os.path.join(seed_corr_dir, '{}_{}_ciftitocifti_30TRs.dscalar.nii'.format(subid, struct))\n",
    "result_type = 'cifti'\n",
    "result_prefix = '{}_{}_ciftitocifti_30TRs'.format(subid, struct)\n",
    "\n",
    "TR_file = os.path.join(new_outputs, 'rois','TR_file.txt')\n",
    "with open(TR_file, \"w\") as text_file:\n",
    "    text_file.write('''1 2 3 4 5 6 7 8 9 10 11 12 13 14 15 16 17 18 19 20 21 22 23 24 25 26 27 28 29 30''')\n",
    "\n",
    "run(['ciftify_seed_corr',\n",
    "     '--outputname', result_map,\n",
    "     '--use-TRs', TR_file,\n",
    "     func_cifti_smoothed, putamen_vol_seed_mask])\n",
    "run_vis_map(result_map, result_prefix, result_type)\n",
    "run_seedcorr_peaktable(result_map)"
   ]
  },
  {
   "cell_type": "code",
   "execution_count": 88,
   "metadata": {},
   "outputs": [
    {
     "name": "stderr",
     "output_type": "stream",
     "text": [
      "Running: ciftify_seed_corr --outputname /scratch/edickie/ciftify_intergration_tests/run_2017-09-11/ciftify_seed_corr/sub-50005_RIGHT-PUTAMEN_ciftitocifti_masked.dscalar.nii --mask /scratch/edickie/ciftify_intergration_tests/run_2017-09-11/ciftify_seed_corr/sub-50005_func_mask.dscalar.nii /scratch/edickie/ciftify_intergration_tests/run_2017-09-11/hcp/sub-50005/MNINonLinear/Results/rest_test1/rest_test1_Atlas_s12.dtseries.nii /scratch/edickie/ciftify_intergration_tests/run_2017-09-11/ciftify_seed_corr/sub-50005_RIGHT-PUTAMEN_cifti.dscalar.nii\n",
      "Running: ciftify_seed_corr --outputname /scratch/edickie/ciftify_intergration_tests/run_2017-09-11/ciftify_seed_corr/sub-50005_RIGHT-PUTAMEN_ciftitocifti_masked.dscalar.nii --mask /scratch/edickie/ciftify_intergration_tests/run_2017-09-11/ciftify_seed_corr/sub-50005_func_mask.dscalar.nii /scratch/edickie/ciftify_intergration_tests/run_2017-09-11/hcp/sub-50005/MNINonLinear/Results/rest_test1/rest_test1_Atlas_s12.dtseries.nii /scratch/edickie/ciftify_intergration_tests/run_2017-09-11/ciftify_seed_corr/sub-50005_RIGHT-PUTAMEN_cifti.dscalar.nii\n",
      "Running: cifti_vis_map cifti-snaps --hcp-data-dir /scratch/edickie/ciftify_intergration_tests/run_2017-09-11/hcp /scratch/edickie/ciftify_intergration_tests/run_2017-09-11/ciftify_seed_corr/sub-50005_RIGHT-PUTAMEN_ciftitocifti_masked.dscalar.nii sub-50005 sub-50005_RIGHT-PUTAMEN_ciftitocifti_masked\n",
      "Running: cifti_vis_map cifti-snaps --hcp-data-dir /scratch/edickie/ciftify_intergration_tests/run_2017-09-11/hcp /scratch/edickie/ciftify_intergration_tests/run_2017-09-11/ciftify_seed_corr/sub-50005_RIGHT-PUTAMEN_ciftitocifti_masked.dscalar.nii sub-50005 sub-50005_RIGHT-PUTAMEN_ciftitocifti_masked\n",
      "Running: ciftify_peaktable --min-threshold -0.5 --max-threshold 0.5 --no-cluster-dlabel /scratch/edickie/ciftify_intergration_tests/run_2017-09-11/ciftify_seed_corr/sub-50005_RIGHT-PUTAMEN_ciftitocifti_masked.dscalar.nii\n",
      "Running: ciftify_peaktable --min-threshold -0.5 --max-threshold 0.5 --no-cluster-dlabel /scratch/edickie/ciftify_intergration_tests/run_2017-09-11/ciftify_seed_corr/sub-50005_RIGHT-PUTAMEN_ciftitocifti_masked.dscalar.nii\n"
     ]
    }
   ],
   "source": [
    "result_map = os.path.join(seed_corr_dir, '{}_{}_ciftitocifti_masked.dscalar.nii'.format(subid, struct))\n",
    "result_type = 'cifti'\n",
    "result_prefix = '{}_{}_ciftitocifti_masked'.format(subid, struct)\n",
    "\n",
    "run(['ciftify_seed_corr',     \n",
    "     '--outputname', result_map,\n",
    "     '--mask', cifti_mask,\n",
    "     func_cifti_smoothed, \n",
    "    os.path.join(seed_corr_dir, '{}_{}_cifti.dscalar.nii'.format(subid, struct))])\n",
    "\n",
    "run_vis_map(result_map, result_prefix, result_type)\n",
    "run_seedcorr_peaktable(result_map)"
   ]
  },
  {
   "cell_type": "code",
   "execution_count": 89,
   "metadata": {},
   "outputs": [
    {
     "name": "stderr",
     "output_type": "stream",
     "text": [
      "Running: ciftify_seed_corr --weighted /scratch/edickie/ciftify_intergration_tests/run_2017-09-11/hcp/sub-50005/MNINonLinear/Results/rest_test1/rest_test1_Atlas_s12.dtseries.nii /scratch/edickie/ciftify_intergration_tests/run_2017-09-11/rois/gaussian_roi.dscalar.nii\n",
      "Running: ciftify_seed_corr --weighted /scratch/edickie/ciftify_intergration_tests/run_2017-09-11/hcp/sub-50005/MNINonLinear/Results/rest_test1/rest_test1_Atlas_s12.dtseries.nii /scratch/edickie/ciftify_intergration_tests/run_2017-09-11/rois/gaussian_roi.dscalar.nii\n",
      "Running: cifti_vis_map cifti-snaps --hcp-data-dir /scratch/edickie/ciftify_intergration_tests/run_2017-09-11/hcp /scratch/edickie/ciftify_intergration_tests/run_2017-09-11/hcp/sub-50005/MNINonLinear/Results/rest_test1/rest_test1_Atlas_s12_gaussian_roi.dscalar.nii sub-50005 sub-50005_gaussian_ciftitocifti_unmasked\n",
      "Running: cifti_vis_map cifti-snaps --hcp-data-dir /scratch/edickie/ciftify_intergration_tests/run_2017-09-11/hcp /scratch/edickie/ciftify_intergration_tests/run_2017-09-11/hcp/sub-50005/MNINonLinear/Results/rest_test1/rest_test1_Atlas_s12_gaussian_roi.dscalar.nii sub-50005 sub-50005_gaussian_ciftitocifti_unmasked\n",
      "Running: ciftify_peaktable --min-threshold -0.5 --max-threshold 0.5 --no-cluster-dlabel /scratch/edickie/ciftify_intergration_tests/run_2017-09-11/hcp/sub-50005/MNINonLinear/Results/rest_test1/rest_test1_Atlas_s12_gaussian_roi.dscalar.nii\n",
      "Running: ciftify_peaktable --min-threshold -0.5 --max-threshold 0.5 --no-cluster-dlabel /scratch/edickie/ciftify_intergration_tests/run_2017-09-11/hcp/sub-50005/MNINonLinear/Results/rest_test1/rest_test1_Atlas_s12_gaussian_roi.dscalar.nii\n"
     ]
    }
   ],
   "source": [
    "result_map = seed_corr_default_out(func_cifti_smoothed, os.path.join(new_outputs, 'rois', 'gaussian_roi.dscalar.nii'))\n",
    "result_type = 'cifti'\n",
    "result_prefix = '{}_gaussian_ciftitocifti_unmasked'.format(subid)\n",
    "\n",
    "\n",
    "run(['ciftify_seed_corr', '--weighted', func_cifti_smoothed, \n",
    "     os.path.join(new_outputs, 'rois', 'gaussian_roi.dscalar.nii')])\n",
    "\n",
    "run_vis_map(result_map, result_prefix, result_type)\n",
    "run_seedcorr_peaktable(result_map)"
   ]
  },
  {
   "cell_type": "code",
   "execution_count": 90,
   "metadata": {},
   "outputs": [
    {
     "name": "stderr",
     "output_type": "stream",
     "text": [
      "Running: ciftify_seed_corr --weighted --outputname /scratch/edickie/ciftify_intergration_tests/run_2017-09-11/ciftify_seed_corr/sub-50005_gaussian_ciftitocifti_masked.dscalar.nii --mask /scratch/edickie/ciftify_intergration_tests/run_2017-09-11/ciftify_seed_corr/sub-50005_func_mask.dscalar.nii /scratch/edickie/ciftify_intergration_tests/run_2017-09-11/hcp/sub-50005/MNINonLinear/Results/rest_test1/rest_test1_Atlas_s12.dtseries.nii /scratch/edickie/ciftify_intergration_tests/run_2017-09-11/rois/gaussian_roi.dscalar.nii\n",
      "Running: ciftify_seed_corr --weighted --outputname /scratch/edickie/ciftify_intergration_tests/run_2017-09-11/ciftify_seed_corr/sub-50005_gaussian_ciftitocifti_masked.dscalar.nii --mask /scratch/edickie/ciftify_intergration_tests/run_2017-09-11/ciftify_seed_corr/sub-50005_func_mask.dscalar.nii /scratch/edickie/ciftify_intergration_tests/run_2017-09-11/hcp/sub-50005/MNINonLinear/Results/rest_test1/rest_test1_Atlas_s12.dtseries.nii /scratch/edickie/ciftify_intergration_tests/run_2017-09-11/rois/gaussian_roi.dscalar.nii\n",
      "Running: cifti_vis_map cifti-snaps --hcp-data-dir /scratch/edickie/ciftify_intergration_tests/run_2017-09-11/hcp /scratch/edickie/ciftify_intergration_tests/run_2017-09-11/ciftify_seed_corr/sub-50005_gaussian_ciftitocifti_masked.dscalar.nii sub-50005 sub-50005_gaussian_ciftitocifti_masked\n",
      "Running: cifti_vis_map cifti-snaps --hcp-data-dir /scratch/edickie/ciftify_intergration_tests/run_2017-09-11/hcp /scratch/edickie/ciftify_intergration_tests/run_2017-09-11/ciftify_seed_corr/sub-50005_gaussian_ciftitocifti_masked.dscalar.nii sub-50005 sub-50005_gaussian_ciftitocifti_masked\n",
      "Running: ciftify_peaktable --min-threshold -0.5 --max-threshold 0.5 --no-cluster-dlabel /scratch/edickie/ciftify_intergration_tests/run_2017-09-11/ciftify_seed_corr/sub-50005_gaussian_ciftitocifti_masked.dscalar.nii\n",
      "Running: ciftify_peaktable --min-threshold -0.5 --max-threshold 0.5 --no-cluster-dlabel /scratch/edickie/ciftify_intergration_tests/run_2017-09-11/ciftify_seed_corr/sub-50005_gaussian_ciftitocifti_masked.dscalar.nii\n"
     ]
    }
   ],
   "source": [
    "result_map = os.path.join(seed_corr_dir, '{}_gaussian_ciftitocifti_masked.dscalar.nii'.format(subid))\n",
    "result_type = 'cifti'\n",
    "result_prefix = '{}_gaussian_ciftitocifti_masked'.format(subid)\n",
    "\n",
    "run(['ciftify_seed_corr', '--weighted', \n",
    "     '--outputname', result_map,\n",
    "     '--mask', cifti_mask,\n",
    "     func_cifti_smoothed, \n",
    "     os.path.join(new_outputs, 'rois', 'gaussian_roi.dscalar.nii')])\n",
    "\n",
    "run_vis_map(result_map, result_prefix, result_type)\n",
    "run_seedcorr_peaktable(result_map)"
   ]
  },
  {
   "cell_type": "code",
   "execution_count": 91,
   "metadata": {},
   "outputs": [
    {
     "name": "stderr",
     "output_type": "stream",
     "text": [
      "Running: wb_command -cifti-separate /scratch/edickie/ciftify_intergration_tests/run_2017-09-11/rois/gaussian_roi.dscalar.nii COLUMN -metric CORTEX_LEFT /scratch/edickie/ciftify_intergration_tests/run_2017-09-11/rois/gaussian_L_roi.shape.gii\n",
      "Running: wb_command -cifti-separate /scratch/edickie/ciftify_intergration_tests/run_2017-09-11/rois/gaussian_roi.dscalar.nii COLUMN -metric CORTEX_LEFT /scratch/edickie/ciftify_intergration_tests/run_2017-09-11/rois/gaussian_L_roi.shape.gii\n",
      "Running: ciftify_seed_corr --weighted --hemi L /scratch/edickie/ciftify_intergration_tests/run_2017-09-11/hcp/sub-50005/MNINonLinear/Results/rest_test1/rest_test1_Atlas_s12.dtseries.nii /scratch/edickie/ciftify_intergration_tests/run_2017-09-11/rois/gaussian_L_roi.shape.gii\n",
      "Running: ciftify_seed_corr --weighted --hemi L /scratch/edickie/ciftify_intergration_tests/run_2017-09-11/hcp/sub-50005/MNINonLinear/Results/rest_test1/rest_test1_Atlas_s12.dtseries.nii /scratch/edickie/ciftify_intergration_tests/run_2017-09-11/rois/gaussian_L_roi.shape.gii\n",
      "Running: cifti_vis_map cifti-snaps --hcp-data-dir /scratch/edickie/ciftify_intergration_tests/run_2017-09-11/hcp /scratch/edickie/ciftify_intergration_tests/run_2017-09-11/hcp/sub-50005/MNINonLinear/Results/rest_test1/rest_test1_Atlas_s12_gaussian_L_roi.dscalar.nii sub-50005 sub-50005_gaussian_giftitocifti_unmasked\n",
      "Running: cifti_vis_map cifti-snaps --hcp-data-dir /scratch/edickie/ciftify_intergration_tests/run_2017-09-11/hcp /scratch/edickie/ciftify_intergration_tests/run_2017-09-11/hcp/sub-50005/MNINonLinear/Results/rest_test1/rest_test1_Atlas_s12_gaussian_L_roi.dscalar.nii sub-50005 sub-50005_gaussian_giftitocifti_unmasked\n",
      "Running: ciftify_peaktable --min-threshold -0.5 --max-threshold 0.5 --no-cluster-dlabel /scratch/edickie/ciftify_intergration_tests/run_2017-09-11/hcp/sub-50005/MNINonLinear/Results/rest_test1/rest_test1_Atlas_s12_gaussian_L_roi.dscalar.nii\n",
      "Running: ciftify_peaktable --min-threshold -0.5 --max-threshold 0.5 --no-cluster-dlabel /scratch/edickie/ciftify_intergration_tests/run_2017-09-11/hcp/sub-50005/MNINonLinear/Results/rest_test1/rest_test1_Atlas_s12_gaussian_L_roi.dscalar.nii\n"
     ]
    }
   ],
   "source": [
    "L_gaussian_roi = os.path.join(new_outputs, 'rois', 'gaussian_L_roi.shape.gii')\n",
    "\n",
    "result_map = seed_corr_default_out(func_cifti_smoothed, L_gaussian_roi)\n",
    "result_type = 'cifti'\n",
    "result_prefix = '{}_gaussian_giftitocifti_unmasked'.format(subid)\n",
    "\n",
    "\n",
    "run(['wb_command', '-cifti-separate', \n",
    "     os.path.join(new_outputs, 'rois', 'gaussian_roi.dscalar.nii'),\n",
    "     'COLUMN','-metric', 'CORTEX_LEFT', L_gaussian_roi])\n",
    "run(['ciftify_seed_corr', '--weighted', '--hemi', 'L', \n",
    "     func_cifti_smoothed, \n",
    "     L_gaussian_roi])\n",
    "\n",
    "run_vis_map(result_map, result_prefix, result_type)\n",
    "run_seedcorr_peaktable(result_map)"
   ]
  },
  {
   "cell_type": "code",
   "execution_count": 92,
   "metadata": {},
   "outputs": [
    {
     "name": "stderr",
     "output_type": "stream",
     "text": [
      "Running: ciftify_seed_corr --weighted --hemi L --outputname /scratch/edickie/ciftify_intergration_tests/run_2017-09-11/ciftify_seed_corr/sub-50005_gaussian_giftitocifti_masked.dscalar.nii --mask /scratch/edickie/ciftify_intergration_tests/run_2017-09-11/ciftify_seed_corr/sub-50005_func_mask.dscalar.nii /scratch/edickie/ciftify_intergration_tests/run_2017-09-11/hcp/sub-50005/MNINonLinear/Results/rest_test1/rest_test1_Atlas_s12.dtseries.nii /scratch/edickie/ciftify_intergration_tests/run_2017-09-11/rois/gaussian_L_roi.shape.gii\n",
      "Running: ciftify_seed_corr --weighted --hemi L --outputname /scratch/edickie/ciftify_intergration_tests/run_2017-09-11/ciftify_seed_corr/sub-50005_gaussian_giftitocifti_masked.dscalar.nii --mask /scratch/edickie/ciftify_intergration_tests/run_2017-09-11/ciftify_seed_corr/sub-50005_func_mask.dscalar.nii /scratch/edickie/ciftify_intergration_tests/run_2017-09-11/hcp/sub-50005/MNINonLinear/Results/rest_test1/rest_test1_Atlas_s12.dtseries.nii /scratch/edickie/ciftify_intergration_tests/run_2017-09-11/rois/gaussian_L_roi.shape.gii\n",
      "Running: cifti_vis_map cifti-snaps --hcp-data-dir /scratch/edickie/ciftify_intergration_tests/run_2017-09-11/hcp /scratch/edickie/ciftify_intergration_tests/run_2017-09-11/ciftify_seed_corr/sub-50005_gaussian_giftitocifti_masked.dscalar.nii sub-50005 sub-50005_gaussian_giftitocifti_masked\n",
      "Running: cifti_vis_map cifti-snaps --hcp-data-dir /scratch/edickie/ciftify_intergration_tests/run_2017-09-11/hcp /scratch/edickie/ciftify_intergration_tests/run_2017-09-11/ciftify_seed_corr/sub-50005_gaussian_giftitocifti_masked.dscalar.nii sub-50005 sub-50005_gaussian_giftitocifti_masked\n",
      "Running: ciftify_peaktable --min-threshold -0.5 --max-threshold 0.5 --no-cluster-dlabel /scratch/edickie/ciftify_intergration_tests/run_2017-09-11/ciftify_seed_corr/sub-50005_gaussian_giftitocifti_masked.dscalar.nii\n",
      "Running: ciftify_peaktable --min-threshold -0.5 --max-threshold 0.5 --no-cluster-dlabel /scratch/edickie/ciftify_intergration_tests/run_2017-09-11/ciftify_seed_corr/sub-50005_gaussian_giftitocifti_masked.dscalar.nii\n"
     ]
    }
   ],
   "source": [
    "result_map = os.path.join(seed_corr_dir, '{}_gaussian_giftitocifti_masked.dscalar.nii'.format(subid))\n",
    "result_type = 'cifti'\n",
    "result_prefix = '{}_gaussian_giftitocifti_masked'.format(subid)\n",
    "\n",
    "run(['ciftify_seed_corr', '--weighted', '--hemi', 'L', \n",
    "     '--outputname', result_map,\n",
    "     '--mask', cifti_mask,\n",
    "     func_cifti_smoothed, \n",
    "     L_gaussian_roi])\n",
    "\n",
    "run_vis_map(result_map, result_prefix, result_type)\n",
    "run_seedcorr_peaktable(result_map)"
   ]
  },
  {
   "cell_type": "code",
   "execution_count": 93,
   "metadata": {},
   "outputs": [
    {
     "name": "stderr",
     "output_type": "stream",
     "text": [
      "Running: ciftify_seed_corr --weighted /scratch/edickie/ciftify_intergration_tests/run_2017-09-11/hcp/sub-50005/MNINonLinear/Results/rest_test1/rest_test1_Atlas_s12.dtseries.nii /scratch/edickie/ciftify_intergration_tests/run_2017-09-11/rois/probmap_roi.dscalar.nii\n",
      "Running: ciftify_seed_corr --weighted /scratch/edickie/ciftify_intergration_tests/run_2017-09-11/hcp/sub-50005/MNINonLinear/Results/rest_test1/rest_test1_Atlas_s12.dtseries.nii /scratch/edickie/ciftify_intergration_tests/run_2017-09-11/rois/probmap_roi.dscalar.nii\n",
      "Running: cifti_vis_map cifti-snaps --hcp-data-dir /scratch/edickie/ciftify_intergration_tests/run_2017-09-11/hcp /scratch/edickie/ciftify_intergration_tests/run_2017-09-11/hcp/sub-50005/MNINonLinear/Results/rest_test1/rest_test1_Atlas_s12_probmap_roi.dscalar.nii sub-50005 sub-50005_promap_ciftitocifti_unmasked.dscalar.nii\n",
      "Running: cifti_vis_map cifti-snaps --hcp-data-dir /scratch/edickie/ciftify_intergration_tests/run_2017-09-11/hcp /scratch/edickie/ciftify_intergration_tests/run_2017-09-11/hcp/sub-50005/MNINonLinear/Results/rest_test1/rest_test1_Atlas_s12_probmap_roi.dscalar.nii sub-50005 sub-50005_promap_ciftitocifti_unmasked.dscalar.nii\n",
      "Running: ciftify_peaktable --min-threshold -0.5 --max-threshold 0.5 --no-cluster-dlabel /scratch/edickie/ciftify_intergration_tests/run_2017-09-11/hcp/sub-50005/MNINonLinear/Results/rest_test1/rest_test1_Atlas_s12_probmap_roi.dscalar.nii\n",
      "Running: ciftify_peaktable --min-threshold -0.5 --max-threshold 0.5 --no-cluster-dlabel /scratch/edickie/ciftify_intergration_tests/run_2017-09-11/hcp/sub-50005/MNINonLinear/Results/rest_test1/rest_test1_Atlas_s12_probmap_roi.dscalar.nii\n"
     ]
    }
   ],
   "source": [
    "result_map = seed_corr_default_out(func_cifti_smoothed, os.path.join(new_outputs, 'rois', 'probmap_roi.dscalar.nii'))\n",
    "result_type = 'cifti'\n",
    "result_prefix = '{}_promap_ciftitocifti_unmasked.dscalar.nii'.format(subid)\n",
    "\n",
    "run(['ciftify_seed_corr', '--weighted', func_cifti_smoothed, \n",
    "     os.path.join(new_outputs, 'rois', 'probmap_roi.dscalar.nii')])\n",
    "\n",
    "run_vis_map(result_map, result_prefix, result_type)\n",
    "run_seedcorr_peaktable(result_map)"
   ]
  },
  {
   "cell_type": "code",
   "execution_count": 94,
   "metadata": {},
   "outputs": [
    {
     "name": "stderr",
     "output_type": "stream",
     "text": [
      "Running: ciftify_seed_corr --weighted --outputname /scratch/edickie/ciftify_intergration_tests/run_2017-09-11/ciftify_seed_corr/sub-50005_probmap_ciftitocifti_masked.dscalar.nii --mask /scratch/edickie/ciftify_intergration_tests/run_2017-09-11/ciftify_seed_corr/sub-50005_func_mask.dscalar.nii /scratch/edickie/ciftify_intergration_tests/run_2017-09-11/hcp/sub-50005/MNINonLinear/Results/rest_test1/rest_test1_Atlas_s12.dtseries.nii /scratch/edickie/ciftify_intergration_tests/run_2017-09-11/rois/probmap_roi.dscalar.nii\n",
      "Running: ciftify_seed_corr --weighted --outputname /scratch/edickie/ciftify_intergration_tests/run_2017-09-11/ciftify_seed_corr/sub-50005_probmap_ciftitocifti_masked.dscalar.nii --mask /scratch/edickie/ciftify_intergration_tests/run_2017-09-11/ciftify_seed_corr/sub-50005_func_mask.dscalar.nii /scratch/edickie/ciftify_intergration_tests/run_2017-09-11/hcp/sub-50005/MNINonLinear/Results/rest_test1/rest_test1_Atlas_s12.dtseries.nii /scratch/edickie/ciftify_intergration_tests/run_2017-09-11/rois/probmap_roi.dscalar.nii\n",
      "Running: cifti_vis_map cifti-snaps --hcp-data-dir /scratch/edickie/ciftify_intergration_tests/run_2017-09-11/hcp /scratch/edickie/ciftify_intergration_tests/run_2017-09-11/ciftify_seed_corr/sub-50005_probmap_ciftitocifti_masked.dscalar.nii sub-50005 sub-50005_probmap_ciftitocifti_masked\n",
      "Running: cifti_vis_map cifti-snaps --hcp-data-dir /scratch/edickie/ciftify_intergration_tests/run_2017-09-11/hcp /scratch/edickie/ciftify_intergration_tests/run_2017-09-11/ciftify_seed_corr/sub-50005_probmap_ciftitocifti_masked.dscalar.nii sub-50005 sub-50005_probmap_ciftitocifti_masked\n",
      "Running: ciftify_peaktable --min-threshold -0.5 --max-threshold 0.5 --no-cluster-dlabel /scratch/edickie/ciftify_intergration_tests/run_2017-09-11/ciftify_seed_corr/sub-50005_probmap_ciftitocifti_masked.dscalar.nii\n",
      "Running: ciftify_peaktable --min-threshold -0.5 --max-threshold 0.5 --no-cluster-dlabel /scratch/edickie/ciftify_intergration_tests/run_2017-09-11/ciftify_seed_corr/sub-50005_probmap_ciftitocifti_masked.dscalar.nii\n"
     ]
    }
   ],
   "source": [
    "result_map = os.path.join(seed_corr_dir, '{}_probmap_ciftitocifti_masked.dscalar.nii'.format(subid))\n",
    "result_type = 'cifti'\n",
    "result_prefix = '{}_probmap_ciftitocifti_masked'.format(subid)\n",
    "\n",
    "run(['ciftify_seed_corr', '--weighted', \n",
    "     '--outputname', result_map,\n",
    "     '--mask', cifti_mask,\n",
    "     func_cifti_smoothed, \n",
    "     os.path.join(new_outputs, 'rois', 'probmap_roi.dscalar.nii')])\n",
    "\n",
    "run_vis_map(result_map, result_prefix, result_type)\n",
    "run_seedcorr_peaktable(result_map)"
   ]
  },
  {
   "cell_type": "code",
   "execution_count": 95,
   "metadata": {},
   "outputs": [
    {
     "name": "stderr",
     "output_type": "stream",
     "text": [
      "Running: wb_command -cifti-separate /scratch/edickie/ciftify_intergration_tests/run_2017-09-11/rois/probmap_roi.dscalar.nii COLUMN -metric CORTEX_RIGHT /scratch/edickie/ciftify_intergration_tests/run_2017-09-11/rois/probmap_R_roi.shape.gii\n",
      "Running: wb_command -cifti-separate /scratch/edickie/ciftify_intergration_tests/run_2017-09-11/rois/probmap_roi.dscalar.nii COLUMN -metric CORTEX_RIGHT /scratch/edickie/ciftify_intergration_tests/run_2017-09-11/rois/probmap_R_roi.shape.gii\n",
      "Running: ciftify_seed_corr --weighted --hemi R /scratch/edickie/ciftify_intergration_tests/run_2017-09-11/hcp/sub-50005/MNINonLinear/Results/rest_test1/rest_test1_Atlas_s12.dtseries.nii /scratch/edickie/ciftify_intergration_tests/run_2017-09-11/rois/probmap_R_roi.shape.gii\n",
      "Running: ciftify_seed_corr --weighted --hemi R /scratch/edickie/ciftify_intergration_tests/run_2017-09-11/hcp/sub-50005/MNINonLinear/Results/rest_test1/rest_test1_Atlas_s12.dtseries.nii /scratch/edickie/ciftify_intergration_tests/run_2017-09-11/rois/probmap_R_roi.shape.gii\n",
      "Running: cifti_vis_map cifti-snaps --hcp-data-dir /scratch/edickie/ciftify_intergration_tests/run_2017-09-11/hcp /scratch/edickie/ciftify_intergration_tests/run_2017-09-11/hcp/sub-50005/MNINonLinear/Results/rest_test1/rest_test1_Atlas_s12_probmap_R_roi.dscalar.nii sub-50005 sub-50005_promap_giftitocifti_unmasked.dscalar.nii\n",
      "Running: cifti_vis_map cifti-snaps --hcp-data-dir /scratch/edickie/ciftify_intergration_tests/run_2017-09-11/hcp /scratch/edickie/ciftify_intergration_tests/run_2017-09-11/hcp/sub-50005/MNINonLinear/Results/rest_test1/rest_test1_Atlas_s12_probmap_R_roi.dscalar.nii sub-50005 sub-50005_promap_giftitocifti_unmasked.dscalar.nii\n",
      "Running: ciftify_peaktable --min-threshold -0.5 --max-threshold 0.5 --no-cluster-dlabel /scratch/edickie/ciftify_intergration_tests/run_2017-09-11/hcp/sub-50005/MNINonLinear/Results/rest_test1/rest_test1_Atlas_s12_probmap_R_roi.dscalar.nii\n",
      "Running: ciftify_peaktable --min-threshold -0.5 --max-threshold 0.5 --no-cluster-dlabel /scratch/edickie/ciftify_intergration_tests/run_2017-09-11/hcp/sub-50005/MNINonLinear/Results/rest_test1/rest_test1_Atlas_s12_probmap_R_roi.dscalar.nii\n"
     ]
    }
   ],
   "source": [
    "R_probmap_roi = os.path.join(new_outputs, 'rois', 'probmap_R_roi.shape.gii')\n",
    "result_map = seed_corr_default_out(func_cifti_smoothed, R_probmap_roi) \n",
    "result_type = 'cifti'\n",
    "result_prefix = '{}_promap_giftitocifti_unmasked.dscalar.nii'.format(subid)\n",
    "                                   \n",
    "run(['wb_command', '-cifti-separate', \n",
    "     os.path.join(new_outputs, 'rois', 'probmap_roi.dscalar.nii'),\n",
    "     'COLUMN','-metric', 'CORTEX_RIGHT', R_probmap_roi])\n",
    "run(['ciftify_seed_corr', '--weighted', '--hemi', 'R', func_cifti_smoothed, \n",
    "     R_probmap_roi])\n",
    "\n",
    "run_vis_map(result_map, result_prefix, result_type)\n",
    "run_seedcorr_peaktable(result_map)"
   ]
  },
  {
   "cell_type": "code",
   "execution_count": 96,
   "metadata": {},
   "outputs": [
    {
     "name": "stderr",
     "output_type": "stream",
     "text": [
      "Running: ciftify_seed_corr --weighted --hemi R --outputname /scratch/edickie/ciftify_intergration_tests/run_2017-09-11/ciftify_seed_corr/sub-50005_probmap_giftitocifti_masked.dscalar.nii --mask /scratch/edickie/ciftify_intergration_tests/run_2017-09-11/ciftify_seed_corr/sub-50005_func_mask.dscalar.nii /scratch/edickie/ciftify_intergration_tests/run_2017-09-11/hcp/sub-50005/MNINonLinear/Results/rest_test1/rest_test1_Atlas_s12.dtseries.nii /scratch/edickie/ciftify_intergration_tests/run_2017-09-11/rois/probmap_R_roi.shape.gii\n",
      "Running: ciftify_seed_corr --weighted --hemi R --outputname /scratch/edickie/ciftify_intergration_tests/run_2017-09-11/ciftify_seed_corr/sub-50005_probmap_giftitocifti_masked.dscalar.nii --mask /scratch/edickie/ciftify_intergration_tests/run_2017-09-11/ciftify_seed_corr/sub-50005_func_mask.dscalar.nii /scratch/edickie/ciftify_intergration_tests/run_2017-09-11/hcp/sub-50005/MNINonLinear/Results/rest_test1/rest_test1_Atlas_s12.dtseries.nii /scratch/edickie/ciftify_intergration_tests/run_2017-09-11/rois/probmap_R_roi.shape.gii\n",
      "Running: cifti_vis_map cifti-snaps --hcp-data-dir /scratch/edickie/ciftify_intergration_tests/run_2017-09-11/hcp /scratch/edickie/ciftify_intergration_tests/run_2017-09-11/ciftify_seed_corr/sub-50005_probmap_giftitocifti_masked.dscalar.nii sub-50005 sub-50005_probmap_giftitocifti_masked\n",
      "Running: cifti_vis_map cifti-snaps --hcp-data-dir /scratch/edickie/ciftify_intergration_tests/run_2017-09-11/hcp /scratch/edickie/ciftify_intergration_tests/run_2017-09-11/ciftify_seed_corr/sub-50005_probmap_giftitocifti_masked.dscalar.nii sub-50005 sub-50005_probmap_giftitocifti_masked\n",
      "Running: ciftify_peaktable --min-threshold -0.5 --max-threshold 0.5 --no-cluster-dlabel /scratch/edickie/ciftify_intergration_tests/run_2017-09-11/ciftify_seed_corr/sub-50005_probmap_giftitocifti_masked.dscalar.nii\n",
      "Running: ciftify_peaktable --min-threshold -0.5 --max-threshold 0.5 --no-cluster-dlabel /scratch/edickie/ciftify_intergration_tests/run_2017-09-11/ciftify_seed_corr/sub-50005_probmap_giftitocifti_masked.dscalar.nii\n"
     ]
    }
   ],
   "source": [
    "result_map = os.path.join(seed_corr_dir, '{}_probmap_giftitocifti_masked.dscalar.nii'.format(subid))\n",
    "result_type = 'cifti'\n",
    "result_prefix = '{}_probmap_giftitocifti_masked'.format(subid)\n",
    "\n",
    "run(['ciftify_seed_corr', '--weighted', '--hemi', 'R', \n",
    "     '--outputname', result_map,\n",
    "     '--mask', cifti_mask,    \n",
    "     func_cifti_smoothed, \n",
    "     R_probmap_roi])\n",
    "\n",
    "run_vis_map(result_map, result_prefix, result_type)\n",
    "run_seedcorr_peaktable(result_map)"
   ]
  },
  {
   "cell_type": "code",
   "execution_count": 97,
   "metadata": {},
   "outputs": [
    {
     "name": "stderr",
     "output_type": "stream",
     "text": [
      "Running: ciftify_seed_corr --roi-label 7 /scratch/edickie/ciftify_intergration_tests/run_2017-09-11/hcp/sub-50005/MNINonLinear/Results/rest_test1/rest_test1_Atlas_s12.dtseries.nii /scratch/edickie/ciftify_intergration_tests/run_2017-09-11/rois/tvertex.dscalar.nii\n",
      "Running: ciftify_seed_corr --roi-label 7 /scratch/edickie/ciftify_intergration_tests/run_2017-09-11/hcp/sub-50005/MNINonLinear/Results/rest_test1/rest_test1_Atlas_s12.dtseries.nii /scratch/edickie/ciftify_intergration_tests/run_2017-09-11/rois/tvertex.dscalar.nii\n",
      "Running: cifti_vis_map cifti-snaps --hcp-data-dir /scratch/edickie/ciftify_intergration_tests/run_2017-09-11/hcp /scratch/edickie/ciftify_intergration_tests/run_2017-09-11/hcp/sub-50005/MNINonLinear/Results/rest_test1/rest_test1_Atlas_s12_tvertex.dscalar.nii sub-50005 sub-50005_tvertex7_ciftitocifti_unmasked\n",
      "Running: cifti_vis_map cifti-snaps --hcp-data-dir /scratch/edickie/ciftify_intergration_tests/run_2017-09-11/hcp /scratch/edickie/ciftify_intergration_tests/run_2017-09-11/hcp/sub-50005/MNINonLinear/Results/rest_test1/rest_test1_Atlas_s12_tvertex.dscalar.nii sub-50005 sub-50005_tvertex7_ciftitocifti_unmasked\n",
      "Running: ciftify_peaktable --min-threshold -0.5 --max-threshold 0.5 --no-cluster-dlabel /scratch/edickie/ciftify_intergration_tests/run_2017-09-11/hcp/sub-50005/MNINonLinear/Results/rest_test1/rest_test1_Atlas_s12_tvertex.dscalar.nii\n",
      "Running: ciftify_peaktable --min-threshold -0.5 --max-threshold 0.5 --no-cluster-dlabel /scratch/edickie/ciftify_intergration_tests/run_2017-09-11/hcp/sub-50005/MNINonLinear/Results/rest_test1/rest_test1_Atlas_s12_tvertex.dscalar.nii\n"
     ]
    }
   ],
   "source": [
    "result_map = seed_corr_default_out(func_cifti_smoothed, os.path.join(new_outputs, 'rois', 'tvertex.dscalar.nii'))\n",
    "result_type = 'cifti'\n",
    "result_prefix = '{}_tvertex7_ciftitocifti_unmasked'.format(subid)\n",
    "\n",
    "run(['ciftify_seed_corr', '--roi-label', '7', func_cifti_smoothed, \n",
    "     os.path.join(new_outputs, 'rois', 'tvertex.dscalar.nii')])\n",
    "\n",
    "run_vis_map(result_map, result_prefix, result_type)\n",
    "run_seedcorr_peaktable(result_map)"
   ]
  },
  {
   "cell_type": "code",
   "execution_count": 98,
   "metadata": {},
   "outputs": [
    {
     "name": "stderr",
     "output_type": "stream",
     "text": [
      "Running: ciftify_seed_corr --roi-label 7 --outputname /scratch/edickie/ciftify_intergration_tests/run_2017-09-11/ciftify_seed_corr/sub-50005_tvertex7_ciftitocifti_masked.dscalar.nii --mask /scratch/edickie/ciftify_intergration_tests/run_2017-09-11/ciftify_seed_corr/sub-50005_func_mask.dscalar.nii /scratch/edickie/ciftify_intergration_tests/run_2017-09-11/hcp/sub-50005/MNINonLinear/Results/rest_test1/rest_test1_Atlas_s12.dtseries.nii /scratch/edickie/ciftify_intergration_tests/run_2017-09-11/rois/tvertex.dscalar.nii\n",
      "Running: ciftify_seed_corr --roi-label 7 --outputname /scratch/edickie/ciftify_intergration_tests/run_2017-09-11/ciftify_seed_corr/sub-50005_tvertex7_ciftitocifti_masked.dscalar.nii --mask /scratch/edickie/ciftify_intergration_tests/run_2017-09-11/ciftify_seed_corr/sub-50005_func_mask.dscalar.nii /scratch/edickie/ciftify_intergration_tests/run_2017-09-11/hcp/sub-50005/MNINonLinear/Results/rest_test1/rest_test1_Atlas_s12.dtseries.nii /scratch/edickie/ciftify_intergration_tests/run_2017-09-11/rois/tvertex.dscalar.nii\n",
      "Running: cifti_vis_map cifti-snaps --hcp-data-dir /scratch/edickie/ciftify_intergration_tests/run_2017-09-11/hcp /scratch/edickie/ciftify_intergration_tests/run_2017-09-11/ciftify_seed_corr/sub-50005_tvertex7_ciftitocifti_masked.dscalar.nii sub-50005 sub-50005_tvertex7_ciftitocifti_masked\n",
      "Running: cifti_vis_map cifti-snaps --hcp-data-dir /scratch/edickie/ciftify_intergration_tests/run_2017-09-11/hcp /scratch/edickie/ciftify_intergration_tests/run_2017-09-11/ciftify_seed_corr/sub-50005_tvertex7_ciftitocifti_masked.dscalar.nii sub-50005 sub-50005_tvertex7_ciftitocifti_masked\n",
      "Running: ciftify_peaktable --min-threshold -0.5 --max-threshold 0.5 --no-cluster-dlabel /scratch/edickie/ciftify_intergration_tests/run_2017-09-11/ciftify_seed_corr/sub-50005_tvertex7_ciftitocifti_masked.dscalar.nii\n",
      "Running: ciftify_peaktable --min-threshold -0.5 --max-threshold 0.5 --no-cluster-dlabel /scratch/edickie/ciftify_intergration_tests/run_2017-09-11/ciftify_seed_corr/sub-50005_tvertex7_ciftitocifti_masked.dscalar.nii\n"
     ]
    }
   ],
   "source": [
    "result_map = os.path.join(seed_corr_dir, '{}_tvertex7_ciftitocifti_masked.dscalar.nii'.format(subid))\n",
    "result_type = 'cifti'\n",
    "result_prefix = '{}_tvertex7_ciftitocifti_masked'.format(subid)\n",
    "\n",
    "run(['ciftify_seed_corr', '--roi-label', '7', \n",
    "     '--outputname', result_map,\n",
    "     '--mask', cifti_mask, \n",
    "     func_cifti_smoothed, \n",
    "     os.path.join(new_outputs, 'rois', 'tvertex.dscalar.nii')])\n",
    "\n",
    "run_vis_map(result_map, result_prefix, result_type)\n",
    "run_seedcorr_peaktable(result_map)"
   ]
  },
  {
   "cell_type": "code",
   "execution_count": 99,
   "metadata": {},
   "outputs": [
    {
     "name": "stderr",
     "output_type": "stream",
     "text": [
      "Running: wb_command -cifti-separate /scratch/edickie/ciftify_intergration_tests/run_2017-09-11/rois/tvertex.dscalar.nii COLUMN -metric CORTEX_RIGHT /scratch/edickie/ciftify_intergration_tests/run_2017-09-11/rois/tvertex_R_roi.shape.gii\n",
      "Running: wb_command -cifti-separate /scratch/edickie/ciftify_intergration_tests/run_2017-09-11/rois/tvertex.dscalar.nii COLUMN -metric CORTEX_RIGHT /scratch/edickie/ciftify_intergration_tests/run_2017-09-11/rois/tvertex_R_roi.shape.gii\n",
      "Running: ciftify_seed_corr --roi-label 7 --hemi R /scratch/edickie/ciftify_intergration_tests/run_2017-09-11/hcp/sub-50005/MNINonLinear/Results/rest_test1/rest_test1_Atlas_s12.dtseries.nii /scratch/edickie/ciftify_intergration_tests/run_2017-09-11/rois/tvertex_R_roi.shape.gii\n",
      "Running: ciftify_seed_corr --roi-label 7 --hemi R /scratch/edickie/ciftify_intergration_tests/run_2017-09-11/hcp/sub-50005/MNINonLinear/Results/rest_test1/rest_test1_Atlas_s12.dtseries.nii /scratch/edickie/ciftify_intergration_tests/run_2017-09-11/rois/tvertex_R_roi.shape.gii\n",
      "Running: cifti_vis_map cifti-snaps --hcp-data-dir /scratch/edickie/ciftify_intergration_tests/run_2017-09-11/hcp /scratch/edickie/ciftify_intergration_tests/run_2017-09-11/hcp/sub-50005/MNINonLinear/Results/rest_test1/rest_test1_Atlas_s12_tvertex_R_roi.dscalar.nii sub-50005 sub-50005_tvertex7_giftitocifti_umasked\n",
      "Running: cifti_vis_map cifti-snaps --hcp-data-dir /scratch/edickie/ciftify_intergration_tests/run_2017-09-11/hcp /scratch/edickie/ciftify_intergration_tests/run_2017-09-11/hcp/sub-50005/MNINonLinear/Results/rest_test1/rest_test1_Atlas_s12_tvertex_R_roi.dscalar.nii sub-50005 sub-50005_tvertex7_giftitocifti_umasked\n",
      "Running: ciftify_peaktable --min-threshold -0.5 --max-threshold 0.5 --no-cluster-dlabel /scratch/edickie/ciftify_intergration_tests/run_2017-09-11/hcp/sub-50005/MNINonLinear/Results/rest_test1/rest_test1_Atlas_s12_tvertex_R_roi.dscalar.nii\n",
      "Running: ciftify_peaktable --min-threshold -0.5 --max-threshold 0.5 --no-cluster-dlabel /scratch/edickie/ciftify_intergration_tests/run_2017-09-11/hcp/sub-50005/MNINonLinear/Results/rest_test1/rest_test1_Atlas_s12_tvertex_R_roi.dscalar.nii\n"
     ]
    }
   ],
   "source": [
    "R_tvertex_roi = os.path.join(new_outputs, 'rois', 'tvertex_R_roi.shape.gii')\n",
    "result_map = seed_corr_default_out(func_cifti_smoothed, R_tvertex_roi)\n",
    "result_type = 'cifti'\n",
    "result_prefix = '{}_tvertex7_giftitocifti_umasked'.format(subid)\n",
    "\n",
    "\n",
    "run(['wb_command', '-cifti-separate', \n",
    "     os.path.join(new_outputs, 'rois', 'tvertex.dscalar.nii'),\n",
    "     'COLUMN','-metric', 'CORTEX_RIGHT', R_tvertex_roi])\n",
    "run(['ciftify_seed_corr', '--roi-label', '7', '--hemi', 'R', \n",
    "     func_cifti_smoothed, R_tvertex_roi])\n",
    "\n",
    "run_vis_map(result_map, result_prefix, result_type)\n",
    "run_seedcorr_peaktable(result_map)"
   ]
  },
  {
   "cell_type": "code",
   "execution_count": 100,
   "metadata": {},
   "outputs": [
    {
     "name": "stderr",
     "output_type": "stream",
     "text": [
      "Running: ciftify_seed_corr --roi-label 7 --hemi R --outputname /scratch/edickie/ciftify_intergration_tests/run_2017-09-11/ciftify_seed_corr/sub-50005_tvertex7_giftitocifti_masked.dscalar.nii --mask /scratch/edickie/ciftify_intergration_tests/run_2017-09-11/ciftify_seed_corr/sub-50005_func_mask.dscalar.nii /scratch/edickie/ciftify_intergration_tests/run_2017-09-11/hcp/sub-50005/MNINonLinear/Results/rest_test1/rest_test1_Atlas_s12.dtseries.nii /scratch/edickie/ciftify_intergration_tests/run_2017-09-11/rois/tvertex_R_roi.shape.gii\n",
      "Running: ciftify_seed_corr --roi-label 7 --hemi R --outputname /scratch/edickie/ciftify_intergration_tests/run_2017-09-11/ciftify_seed_corr/sub-50005_tvertex7_giftitocifti_masked.dscalar.nii --mask /scratch/edickie/ciftify_intergration_tests/run_2017-09-11/ciftify_seed_corr/sub-50005_func_mask.dscalar.nii /scratch/edickie/ciftify_intergration_tests/run_2017-09-11/hcp/sub-50005/MNINonLinear/Results/rest_test1/rest_test1_Atlas_s12.dtseries.nii /scratch/edickie/ciftify_intergration_tests/run_2017-09-11/rois/tvertex_R_roi.shape.gii\n",
      "Running: cifti_vis_map cifti-snaps --hcp-data-dir /scratch/edickie/ciftify_intergration_tests/run_2017-09-11/hcp /scratch/edickie/ciftify_intergration_tests/run_2017-09-11/ciftify_seed_corr/sub-50005_tvertex7_giftitocifti_masked.dscalar.nii sub-50005 sub-50005_tvertex7_giftitocifti_masked\n",
      "Running: cifti_vis_map cifti-snaps --hcp-data-dir /scratch/edickie/ciftify_intergration_tests/run_2017-09-11/hcp /scratch/edickie/ciftify_intergration_tests/run_2017-09-11/ciftify_seed_corr/sub-50005_tvertex7_giftitocifti_masked.dscalar.nii sub-50005 sub-50005_tvertex7_giftitocifti_masked\n",
      "Running: ciftify_peaktable --min-threshold -0.5 --max-threshold 0.5 --no-cluster-dlabel /scratch/edickie/ciftify_intergration_tests/run_2017-09-11/ciftify_seed_corr/sub-50005_tvertex7_giftitocifti_masked.dscalar.nii\n",
      "Running: ciftify_peaktable --min-threshold -0.5 --max-threshold 0.5 --no-cluster-dlabel /scratch/edickie/ciftify_intergration_tests/run_2017-09-11/ciftify_seed_corr/sub-50005_tvertex7_giftitocifti_masked.dscalar.nii\n"
     ]
    }
   ],
   "source": [
    "result_map = os.path.join(seed_corr_dir, '{}_tvertex7_giftitocifti_masked.dscalar.nii'.format(subid))\n",
    "result_type = 'cifti'\n",
    "result_prefix = '{}_tvertex7_giftitocifti_masked'.format(subid)\n",
    "\n",
    "run(['ciftify_seed_corr', '--roi-label', '7', '--hemi', 'R', \n",
    "     '--outputname', result_map,\n",
    "     '--mask', cifti_mask, \n",
    "     func_cifti_smoothed, R_tvertex_roi])\n",
    "\n",
    "run_vis_map(result_map, result_prefix, result_type)\n",
    "run_seedcorr_peaktable(result_map)"
   ]
  },
  {
   "cell_type": "code",
   "execution_count": 101,
   "metadata": {},
   "outputs": [
    {
     "name": "stderr",
     "output_type": "stream",
     "text": [
      "Running: cifti_vis_map index --hcp-data-dir /scratch/edickie/ciftify_intergration_tests/run_2017-09-11/hcp\n",
      "Running: cifti_vis_map index --hcp-data-dir /scratch/edickie/ciftify_intergration_tests/run_2017-09-11/hcp\n"
     ]
    },
    {
     "data": {
      "text/plain": [
       "0"
      ]
     },
     "execution_count": 101,
     "metadata": {},
     "output_type": "execute_result"
    }
   ],
   "source": [
    "run(['cifti_vis_map', 'index', '--hcp-data-dir', hcp_data_dir])"
   ]
  },
  {
   "cell_type": "markdown",
   "metadata": {},
   "source": [
    "# ciftify_meants (atlas examples)"
   ]
  },
  {
   "cell_type": "code",
   "execution_count": 102,
   "metadata": {},
   "outputs": [
    {
     "name": "stderr",
     "output_type": "stream",
     "text": [
      "Running: ciftify_meants /scratch/edickie/ciftify_intergration_tests/run_2017-09-11/hcp/sub-50005/MNINonLinear/Results/rest_test1/rest_test1_Atlas_s0.dtseries.nii /scratch/edickie/ciftify_intergration_tests/run_2017-09-11/hcp/sub-50005/MNINonLinear/fsaverage_LR32k/sub-50005.aparc.32k_fs_LR.dlabel.nii\n",
      "Running: ciftify_meants /scratch/edickie/ciftify_intergration_tests/run_2017-09-11/hcp/sub-50005/MNINonLinear/Results/rest_test1/rest_test1_Atlas_s0.dtseries.nii /scratch/edickie/ciftify_intergration_tests/run_2017-09-11/hcp/sub-50005/MNINonLinear/fsaverage_LR32k/sub-50005.aparc.32k_fs_LR.dlabel.nii\n"
     ]
    },
    {
     "data": {
      "text/plain": [
       "0"
      ]
     },
     "execution_count": 102,
     "metadata": {},
     "output_type": "execute_result"
    }
   ],
   "source": [
    "subject_aparc = os.path.join(hcp_data_dir, subid,\n",
    "                            'MNINonLinear', 'fsaverage_LR32k',\n",
    "                            '{}.aparc.32k_fs_LR.dlabel.nii'.format(subid))\n",
    "subject_thickness = os.path.join(hcp_data_dir, subid,\n",
    "                            'MNINonLinear', 'fsaverage_LR32k',\n",
    "                            '{}.thickness.32k_fs_LR.dscalar.nii'.format(subid))\n",
    "run(['ciftify_meants', func_cifti_sm0, subject_aparc])\n"
   ]
  },
  {
   "cell_type": "code",
   "execution_count": 112,
   "metadata": {},
   "outputs": [
    {
     "name": "stderr",
     "output_type": "stream",
     "text": [
      "Running: ciftify_meants --outputcsv /scratch/edickie/ciftify_intergration_tests/run_2017-09-11/ciftify_seed_corr/sub-50005_aparc_thickness_ciftitocifti_unmasked_meants.csv --outputlabels /scratch/edickie/ciftify_intergration_tests/run_2017-09-11/ciftify_seed_corr/sub-50005_aparc_ciftitocifti_unmasked_labels.csv /scratch/edickie/ciftify_intergration_tests/run_2017-09-11/hcp/sub-50005/MNINonLinear/fsaverage_LR32k/sub-50005.thickness.32k_fs_LR.dscalar.nii /scratch/edickie/ciftify_intergration_tests/run_2017-09-11/hcp/sub-50005/MNINonLinear/fsaverage_LR32k/sub-50005.aparc.32k_fs_LR.dlabel.nii\n",
      "Running: ciftify_meants --outputcsv /scratch/edickie/ciftify_intergration_tests/run_2017-09-11/ciftify_seed_corr/sub-50005_aparc_thickness_ciftitocifti_unmasked_meants.csv --outputlabels /scratch/edickie/ciftify_intergration_tests/run_2017-09-11/ciftify_seed_corr/sub-50005_aparc_ciftitocifti_unmasked_labels.csv /scratch/edickie/ciftify_intergration_tests/run_2017-09-11/hcp/sub-50005/MNINonLinear/fsaverage_LR32k/sub-50005.thickness.32k_fs_LR.dscalar.nii /scratch/edickie/ciftify_intergration_tests/run_2017-09-11/hcp/sub-50005/MNINonLinear/fsaverage_LR32k/sub-50005.aparc.32k_fs_LR.dlabel.nii\n"
     ]
    },
    {
     "data": {
      "text/plain": [
       "0"
      ]
     },
     "execution_count": 112,
     "metadata": {},
     "output_type": "execute_result"
    }
   ],
   "source": [
    "run(['ciftify_meants',  \n",
    "     '--outputcsv', os.path.join(seed_corr_dir, \n",
    "                                 '{}_aparc_thickness_ciftitocifti_unmasked_meants.csv'.format(subid)),\n",
    "     '--outputlabels', os.path.join(seed_corr_dir, \n",
    "                                    '{}_aparc_ciftitocifti_unmasked_labels.csv'.format(subid)),\n",
    "         subject_thickness, subject_aparc])"
   ]
  },
  {
   "cell_type": "code",
   "execution_count": 104,
   "metadata": {},
   "outputs": [
    {
     "name": "stderr",
     "output_type": "stream",
     "text": [
      "Running: ciftify_meants /scratch/edickie/ciftify_intergration_tests/run_2017-09-11/hcp/sub-50005/MNINonLinear/Results/rest_test1/rest_test1_Atlas_s0.dtseries.nii /scratch/edickie/ciftify_intergration_tests/run_2017-09-11/rois/tvertex.dscalar.nii\n",
      "Running: ciftify_meants /scratch/edickie/ciftify_intergration_tests/run_2017-09-11/hcp/sub-50005/MNINonLinear/Results/rest_test1/rest_test1_Atlas_s0.dtseries.nii /scratch/edickie/ciftify_intergration_tests/run_2017-09-11/rois/tvertex.dscalar.nii\n"
     ]
    },
    {
     "data": {
      "text/plain": [
       "0"
      ]
     },
     "execution_count": 104,
     "metadata": {},
     "output_type": "execute_result"
    }
   ],
   "source": [
    "run(['ciftify_meants', func_cifti_sm0, \n",
    "     os.path.join(new_outputs, 'rois', 'tvertex.dscalar.nii')])"
   ]
  },
  {
   "cell_type": "code",
   "execution_count": 105,
   "metadata": {},
   "outputs": [
    {
     "name": "stderr",
     "output_type": "stream",
     "text": [
      "Running: ciftify_meants --mask /scratch/edickie/ciftify_intergration_tests/run_2017-09-11/ciftify_seed_corr/sub-50005_func_mask.dscalar.nii --outputcsv /scratch/edickie/ciftify_intergration_tests/run_2017-09-11/ciftify_seed_corr/sub-50005_tvertex_func_ciftitocifti_unmasked_meants.csv /scratch/edickie/ciftify_intergration_tests/run_2017-09-11/hcp/sub-50005/MNINonLinear/Results/rest_test1/rest_test1_Atlas_s0.dtseries.nii /scratch/edickie/ciftify_intergration_tests/run_2017-09-11/rois/tvertex.dscalar.nii\n",
      "Running: ciftify_meants --mask /scratch/edickie/ciftify_intergration_tests/run_2017-09-11/ciftify_seed_corr/sub-50005_func_mask.dscalar.nii --outputcsv /scratch/edickie/ciftify_intergration_tests/run_2017-09-11/ciftify_seed_corr/sub-50005_tvertex_func_ciftitocifti_unmasked_meants.csv /scratch/edickie/ciftify_intergration_tests/run_2017-09-11/hcp/sub-50005/MNINonLinear/Results/rest_test1/rest_test1_Atlas_s0.dtseries.nii /scratch/edickie/ciftify_intergration_tests/run_2017-09-11/rois/tvertex.dscalar.nii\n"
     ]
    },
    {
     "data": {
      "text/plain": [
       "0"
      ]
     },
     "execution_count": 105,
     "metadata": {},
     "output_type": "execute_result"
    }
   ],
   "source": [
    "run(['ciftify_meants', \n",
    "     '--mask', cifti_mask,\n",
    "     '--outputcsv', os.path.join(seed_corr_dir, \n",
    "                                 '{}_tvertex_func_ciftitocifti_unmasked_meants.csv'.format(subid)),\n",
    "     func_cifti_sm0, \n",
    "     os.path.join(new_outputs, 'rois', 'tvertex.dscalar.nii')])"
   ]
  },
  {
   "cell_type": "code",
   "execution_count": 106,
   "metadata": {},
   "outputs": [
    {
     "name": "stderr",
     "output_type": "stream",
     "text": [
      "Running: ciftify_vol_result --hcp-data-dir /scratch/edickie/ciftify_intergration_tests/run_2017-09-11/hcp --integer-labels sub-50005 /scratch/edickie/ciftify_intergration_tests/run_2017-09-11/hcp/sub-50005/MNINonLinear/wmparc.nii.gz /scratch/edickie/ciftify_intergration_tests/run_2017-09-11/ciftify_seed_corr/sub-50005_wmparc_MNI_d0.dscalar.nii\n",
      "Running: ciftify_vol_result --hcp-data-dir /scratch/edickie/ciftify_intergration_tests/run_2017-09-11/hcp --integer-labels sub-50005 /scratch/edickie/ciftify_intergration_tests/run_2017-09-11/hcp/sub-50005/MNINonLinear/wmparc.nii.gz /scratch/edickie/ciftify_intergration_tests/run_2017-09-11/ciftify_seed_corr/sub-50005_wmparc_MNI_d0.dscalar.nii\n"
     ]
    },
    {
     "data": {
      "text/plain": [
       "0"
      ]
     },
     "execution_count": 106,
     "metadata": {},
     "output_type": "execute_result"
    }
   ],
   "source": [
    "## project wmparc to subject\n",
    "wmparc_dscalar_d0 = os.path.join(seed_corr_dir, '{}_wmparc_MNI_d0.dscalar.nii'.format(subid))\n",
    "run(['ciftify_vol_result', '--hcp-data-dir', hcp_data_dir,\n",
    "    '--integer-labels', subid, atlas_vol, wmparc_dscalar_d0])"
   ]
  },
  {
   "cell_type": "code",
   "execution_count": 107,
   "metadata": {},
   "outputs": [
    {
     "name": "stderr",
     "output_type": "stream",
     "text": [
      "Running: ciftify_vol_result --hcp-data-dir /scratch/edickie/ciftify_intergration_tests/run_2017-09-11/hcp --dilate 10 --integer-labels sub-50005 /scratch/edickie/ciftify_intergration_tests/run_2017-09-11/hcp/sub-50005/MNINonLinear/wmparc.nii.gz /scratch/edickie/ciftify_intergration_tests/run_2017-09-11/ciftify_seed_corr/sub-50005_wmparc_MNI_d10.dscalar.nii\n",
      "Running: ciftify_vol_result --hcp-data-dir /scratch/edickie/ciftify_intergration_tests/run_2017-09-11/hcp --dilate 10 --integer-labels sub-50005 /scratch/edickie/ciftify_intergration_tests/run_2017-09-11/hcp/sub-50005/MNINonLinear/wmparc.nii.gz /scratch/edickie/ciftify_intergration_tests/run_2017-09-11/ciftify_seed_corr/sub-50005_wmparc_MNI_d10.dscalar.nii\n"
     ]
    },
    {
     "data": {
      "text/plain": [
       "0"
      ]
     },
     "execution_count": 107,
     "metadata": {},
     "output_type": "execute_result"
    }
   ],
   "source": [
    "## project wmparc to subject\n",
    "wmparc_dscalar = os.path.join(seed_corr_dir, '{}_wmparc_MNI_d10.dscalar.nii'.format(subid))\n",
    "run(['ciftify_vol_result', \n",
    "     '--hcp-data-dir', hcp_data_dir,\n",
    "     '--dilate', '10',\n",
    "    '--integer-labels', subid, atlas_vol, wmparc_dscalar])"
   ]
  },
  {
   "cell_type": "code",
   "execution_count": 115,
   "metadata": {},
   "outputs": [
    {
     "name": "stderr",
     "output_type": "stream",
     "text": [
      "Running: ciftify_meants --mask /scratch/edickie/ciftify_intergration_tests/run_2017-09-11/hcp/sub-50005/MNINonLinear/brainmask_fs.nii.gz --outputcsv /scratch/edickie/ciftify_intergration_tests/run_2017-09-11/ciftify_seed_corr/sub-50005_wmparc_func_niftitonifti_masked_meants.csv --outputlabels /scratch/edickie/ciftify_intergration_tests/run_2017-09-11/ciftify_seed_corr/sub-50005_wmparc_func_niftitonifti_masked_labels.csv /scratch/edickie/ciftify_intergration_tests/run_2017-09-11/hcp/sub-50005/MNINonLinear/Results/rest_test1/rest_test1.nii.gz /scratch/edickie/ciftify_intergration_tests/run_2017-09-11/hcp/sub-50005/MNINonLinear/wmparc.nii.gz\n",
      "Running: ciftify_meants --mask /scratch/edickie/ciftify_intergration_tests/run_2017-09-11/hcp/sub-50005/MNINonLinear/brainmask_fs.nii.gz --outputcsv /scratch/edickie/ciftify_intergration_tests/run_2017-09-11/ciftify_seed_corr/sub-50005_wmparc_func_niftitonifti_masked_meants.csv --outputlabels /scratch/edickie/ciftify_intergration_tests/run_2017-09-11/ciftify_seed_corr/sub-50005_wmparc_func_niftitonifti_masked_labels.csv /scratch/edickie/ciftify_intergration_tests/run_2017-09-11/hcp/sub-50005/MNINonLinear/Results/rest_test1/rest_test1.nii.gz /scratch/edickie/ciftify_intergration_tests/run_2017-09-11/hcp/sub-50005/MNINonLinear/wmparc.nii.gz\n"
     ]
    },
    {
     "data": {
      "text/plain": [
       "0"
      ]
     },
     "execution_count": 115,
     "metadata": {},
     "output_type": "execute_result"
    }
   ],
   "source": [
    "run(['ciftify_meants', \n",
    "     '--mask', os.path.join(hcp_data_dir, subid, 'MNINonLinear', 'brainmask_fs.nii.gz'),\n",
    "     '--outputcsv', os.path.join(seed_corr_dir, \n",
    "                                 '{}_wmparc_func_niftitonifti_masked_meants.csv'.format(subid)),\n",
    "     '--outputlabels', os.path.join(seed_corr_dir, \n",
    "                                 '{}_wmparc_func_niftitonifti_masked_labels.csv'.format(subid)),\n",
    "     func_vol, atlas_vol])"
   ]
  },
  {
   "cell_type": "code",
   "execution_count": 114,
   "metadata": {},
   "outputs": [
    {
     "name": "stderr",
     "output_type": "stream",
     "text": [
      "Running: ciftify_meants --mask /scratch/edickie/ciftify_intergration_tests/run_2017-09-11/ciftify_seed_corr/sub-50005_func_mask.dscalar.nii --outputcsv /scratch/edickie/ciftify_intergration_tests/run_2017-09-11/ciftify_seed_corr/sub-50005_wmparc_func_ciftitocifti_masked_meants.csv --outputlabels /scratch/edickie/ciftify_intergration_tests/run_2017-09-11/ciftify_seed_corr/sub-50005_wmparc_func_ciftitocifti_masked_labels.csv /scratch/edickie/ciftify_intergration_tests/run_2017-09-11/hcp/sub-50005/MNINonLinear/Results/rest_test1/rest_test1_Atlas_s0.dtseries.nii /scratch/edickie/ciftify_intergration_tests/run_2017-09-11/ciftify_seed_corr/sub-50005_wmparc_MNI_d10.dscalar.nii\n",
      "Running: ciftify_meants --mask /scratch/edickie/ciftify_intergration_tests/run_2017-09-11/ciftify_seed_corr/sub-50005_func_mask.dscalar.nii --outputcsv /scratch/edickie/ciftify_intergration_tests/run_2017-09-11/ciftify_seed_corr/sub-50005_wmparc_func_ciftitocifti_masked_meants.csv --outputlabels /scratch/edickie/ciftify_intergration_tests/run_2017-09-11/ciftify_seed_corr/sub-50005_wmparc_func_ciftitocifti_masked_labels.csv /scratch/edickie/ciftify_intergration_tests/run_2017-09-11/hcp/sub-50005/MNINonLinear/Results/rest_test1/rest_test1_Atlas_s0.dtseries.nii /scratch/edickie/ciftify_intergration_tests/run_2017-09-11/ciftify_seed_corr/sub-50005_wmparc_MNI_d10.dscalar.nii\n"
     ]
    },
    {
     "data": {
      "text/plain": [
       "0"
      ]
     },
     "execution_count": 114,
     "metadata": {},
     "output_type": "execute_result"
    }
   ],
   "source": [
    "run(['ciftify_meants', \n",
    "     '--mask', cifti_mask,\n",
    "     '--outputcsv', os.path.join(seed_corr_dir, \n",
    "                                 '{}_wmparc_func_ciftitocifti_masked_meants.csv'.format(subid)),\n",
    "     '--outputlabels', os.path.join(seed_corr_dir, \n",
    "                                 '{}_wmparc_func_ciftitocifti_masked_labels.csv'.format(subid)),\n",
    "     func_cifti_sm0, wmparc_dscalar])"
   ]
  },
  {
   "cell_type": "code",
   "execution_count": 113,
   "metadata": {},
   "outputs": [
    {
     "name": "stderr",
     "output_type": "stream",
     "text": [
      "Running: wb_command -cifti-label-import -logging SEVERE /scratch/edickie/ciftify_intergration_tests/run_2017-09-11/ciftify_seed_corr/sub-50005_wmparc_MNI_d10.dscalar.nii /projects/edickie/code/ciftify/ciftify/data/hcp_config/FreeSurferAllLut.txt /scratch/edickie/ciftify_intergration_tests/run_2017-09-11/ciftify_seed_corr/sub-50005_wmparc_MNI.dlabel.nii\n",
      "Running: wb_command -cifti-label-import -logging SEVERE /scratch/edickie/ciftify_intergration_tests/run_2017-09-11/ciftify_seed_corr/sub-50005_wmparc_MNI_d10.dscalar.nii /projects/edickie/code/ciftify/ciftify/data/hcp_config/FreeSurferAllLut.txt /scratch/edickie/ciftify_intergration_tests/run_2017-09-11/ciftify_seed_corr/sub-50005_wmparc_MNI.dlabel.nii\n",
      "Running: ciftify_meants --outputcsv /scratch/edickie/ciftify_intergration_tests/run_2017-09-11/ciftify_seed_corr/sub-50005_wmparc_func_ciftiltocifti_dlabel_meants.csv --outputlabels /scratch/edickie/ciftify_intergration_tests/run_2017-09-11/ciftify_seed_corr/sub-50005_wmparc_func_ciftiltocifti_dlabel_labels.csv /scratch/edickie/ciftify_intergration_tests/run_2017-09-11/hcp/sub-50005/MNINonLinear/Results/rest_test1/rest_test1_Atlas_s0.dtseries.nii /scratch/edickie/ciftify_intergration_tests/run_2017-09-11/ciftify_seed_corr/sub-50005_wmparc_MNI.dlabel.nii\n",
      "Running: ciftify_meants --outputcsv /scratch/edickie/ciftify_intergration_tests/run_2017-09-11/ciftify_seed_corr/sub-50005_wmparc_func_ciftiltocifti_dlabel_meants.csv --outputlabels /scratch/edickie/ciftify_intergration_tests/run_2017-09-11/ciftify_seed_corr/sub-50005_wmparc_func_ciftiltocifti_dlabel_labels.csv /scratch/edickie/ciftify_intergration_tests/run_2017-09-11/hcp/sub-50005/MNINonLinear/Results/rest_test1/rest_test1_Atlas_s0.dtseries.nii /scratch/edickie/ciftify_intergration_tests/run_2017-09-11/ciftify_seed_corr/sub-50005_wmparc_MNI.dlabel.nii\n"
     ]
    },
    {
     "data": {
      "text/plain": [
       "0"
      ]
     },
     "execution_count": 113,
     "metadata": {},
     "output_type": "execute_result"
    }
   ],
   "source": [
    "wmparc_dlabel = os.path.join(seed_corr_dir, '{}_wmparc_MNI.dlabel.nii'.format(subid))\n",
    "run(['wb_command', '-cifti-label-import', '-logging', 'SEVERE',\n",
    "     wmparc_dscalar, \n",
    "     os.path.join(ciftify.config.find_ciftify_global(), 'hcp_config', 'FreeSurferAllLut.txt'),\n",
    "    wmparc_dlabel])\n",
    "run(['ciftify_meants', \n",
    "     '--outputcsv', os.path.join(seed_corr_dir, \n",
    "                                 '{}_wmparc_func_ciftiltocifti_dlabel_meants.csv'.format(subid)),\n",
    "     '--outputlabels', os.path.join(seed_corr_dir, \n",
    "                                 '{}_wmparc_func_ciftiltocifti_dlabel_labels.csv'.format(subid)),\n",
    "     func_cifti_sm0, wmparc_dlabel])"
   ]
  },
  {
   "cell_type": "code",
   "execution_count": 128,
   "metadata": {
    "collapsed": true
   },
   "outputs": [],
   "source": [
    "import pandas as pd\n",
    "\n",
    "fixtures_dir = os.path.join(os.path.dirname(os.path.dirname(ciftify.config.find_ciftify_global())),\n",
    "                                  'tests','integration','fixtures')\n",
    "csv_df = pd.read_csv(os.path.join(os.path.dirname(os.path.dirname(ciftify.config.find_ciftify_global())),\n",
    "                                  'tests','integration','expected_csvs.csv'))\n",
    "csv_df['num_rows'] = ''\n",
    "csv_df['num_cols'] = ''\n",
    "csv_df['exists'] = ''\n",
    "csv_df['matches'] = ''"
   ]
  },
  {
   "cell_type": "code",
   "execution_count": 129,
   "metadata": {
    "collapsed": true
   },
   "outputs": [],
   "source": [
    "for row in csv_df.index:\n",
    "    expected_csv = os.path.join(new_outputs, csv_df.loc[row, 'expected_output'])\n",
    "    if os.path.isfile(expected_csv):\n",
    "        compare_csv = os.path.join(fixtures_dir, csv_df.loc[row, 'compare_to'])\n",
    "        header_col = 0\n",
    "        if expected_csv.endswith('_meants.csv'): header_col = None\n",
    "        if expected_csv.endswith('_labels.csv'): header_col = None\n",
    "        if expected_csv.endswith('_CSF.csv'): header_col = None\n",
    "        if expected_csv.endswith('_WM.csv'): header_col = None\n",
    "        if expected_csv.endswith('_GM.csv'): header_col = None\n",
    "        testdf = pd.read_csv(expected_csv, header = header_col)\n",
    "        csv_df.loc[row, 'exists'] = True\n",
    "        csv_df.loc[row, 'num_rows'] = testdf.shape[0]\n",
    "        csv_df.loc[row, 'num_cols'] = testdf.shape[1]\n",
    "        comparedf = pd.read_csv(compare_csv, header = header_col)\n",
    "        try:\n",
    "            csv_df.loc[row, 'matches'] = (comparedf == testdf).all().all()\n",
    "        except:\n",
    "            csv_df.loc[row, 'matches'] = False\n",
    "    else:\n",
    "        csv_df.loc[row, 'exists'] = False"
   ]
  },
  {
   "cell_type": "code",
   "execution_count": 131,
   "metadata": {},
   "outputs": [],
   "source": [
    "csv_df.to_csv(os.path.join(new_outputs, 'csv_compare_results.csv'))"
   ]
  },
  {
   "cell_type": "code",
   "execution_count": 134,
   "metadata": {},
   "outputs": [
    {
     "name": "stderr",
     "output_type": "stream",
     "text": [
      "All expected csv were generated\n",
      "All expected csv were generated\n"
     ]
    }
   ],
   "source": [
    "if csv_df.exists.all(): \n",
    "    logger.info('All expected csv were generated')\n",
    "else:\n",
    "    logger.error('Some expected csv outputs were not generated')"
   ]
  },
  {
   "cell_type": "code",
   "execution_count": 135,
   "metadata": {},
   "outputs": [
    {
     "name": "stderr",
     "output_type": "stream",
     "text": [
      "All expected csv outputs match expected\n",
      "All expected csv outputs match expected\n"
     ]
    }
   ],
   "source": [
    "if csv_df.matches.all():\n",
    "    logger.info('All expected csv outputs match expected')\n",
    "else:\n",
    "    logger.info('Some csv outputs do not match..see csv_compare_results.csv of more details')"
   ]
  },
  {
   "cell_type": "code",
   "execution_count": 136,
   "metadata": {},
   "outputs": [
    {
     "name": "stderr",
     "output_type": "stream",
     "text": [
      "\n",
      "-------------------------------------------------------------\n",
      "2017-09-18 16:34:46.059357 : Done\n",
      "-------------------------------------------------------------\n",
      "\n",
      "\n",
      "-------------------------------------------------------------\n",
      "2017-09-18 16:34:46.059357 : Done\n",
      "-------------------------------------------------------------\n",
      "\n"
     ]
    }
   ],
   "source": [
    "logger.info(ciftify.utils.section_header('Done'))"
   ]
  },
  {
   "cell_type": "code",
   "execution_count": null,
   "metadata": {
    "collapsed": true
   },
   "outputs": [],
   "source": []
  }
 ],
 "metadata": {
  "kernelspec": {
   "display_name": "Python 3",
   "language": "python",
   "name": "python3"
  },
  "language_info": {
   "codemirror_mode": {
    "name": "ipython",
    "version": 3
   },
   "file_extension": ".py",
   "mimetype": "text/x-python",
   "name": "python",
   "nbconvert_exporter": "python",
   "pygments_lexer": "ipython3",
   "version": "3.6.1"
  }
 },
 "nbformat": 4,
 "nbformat_minor": 2
}
