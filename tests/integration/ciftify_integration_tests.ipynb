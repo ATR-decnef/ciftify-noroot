{
 "cells": [
  {
   "cell_type": "code",
   "execution_count": 1,
   "metadata": {
    "collapsed": true
   },
   "outputs": [],
   "source": [
    "import ciftify\n",
    "from ciftify.utils import run\n",
    "import os\n",
    "import datetime\n",
    "import logging\n",
    "import glob"
   ]
  },
  {
   "cell_type": "code",
   "execution_count": 2,
   "metadata": {
    "collapsed": true
   },
   "outputs": [],
   "source": [
    "#working_dir = '/home/edickie/Documents/ciftify_tests/'\n",
    "working_dir = '/scratch/edickie/ciftify_intergration_tests/'\n",
    "src_data_dir= os.path.join(working_dir,'src_data')\n",
    "#work_from = '/home/edickie/Documents/ciftify_tests/run_2017-09-08/'\n",
    "work_from = '/scratch/edickie/ciftify_intergration_tests/run_2017-09-25_py36_sc2017-10-13/'\n",
    "#work_from = None\n",
    "\n",
    "fixtures_dir = '/projects/edickie/code/ciftify/tests/integration/fixtures/'\n",
    "\n",
    "if work_from:\n",
    "    new_outputs = work_from\n",
    "else:\n",
    "    new_outputs= os.path.join(working_dir,'run_{}'.format(datetime.date.today()))\n",
    "DEBUG = True\n",
    "DRYRUN = True\n",
    "\n",
    "## getting the data\n",
    "\n",
    "freesurfer_webtgz = 'https://s3.amazonaws.com/openneuro/ds000030/ds000030_R1.0.4/compressed/ds000030_R1.0.4_derivatives_freesurfer_sub50004-50008.zip'\n",
    "func_webtgz = 'https://s3.amazonaws.com/openneuro/ds000030/ds000030_R1.0.4/compressed/ds000030_R1.0.4_derivatives_sub50004-50008.zip'\n",
    "\n",
    "subids = ['sub-50005','sub-50007']\n",
    "#subids = ['sub-50005','sub-50006']\n",
    "\n",
    "logger = logging.getLogger('ciftify')\n",
    "logger.setLevel(logging.DEBUG)\n",
    "ch = logging.StreamHandler()\n",
    "ch.setLevel(logging.INFO)\n",
    "formatter = logging.Formatter('%(message)s')\n",
    "ch.setFormatter(formatter)\n",
    "logger.addHandler(ch)\n",
    "\n",
    "# Get settings, and add an extra handler for the subject log\n",
    "fh = logging.FileHandler(os.path.join(working_dir, 'ciftify_tests.log'))\n",
    "logger.addHandler(fh)\n",
    "\n",
    "fs_subjects_dir = os.path.join(src_data_dir, 'ds000030_R1.0.4',\n",
    "                               'derivatives','freesurfer')\n",
    "hcp_data_dir = os.path.join(new_outputs, 'hcp')\n",
    "\n",
    "if not os.path.exists(hcp_data_dir):\n",
    "    run(['mkdir','-p',hcp_data_dir])"
   ]
  },
  {
   "cell_type": "code",
   "execution_count": 3,
   "metadata": {
    "collapsed": true
   },
   "outputs": [],
   "source": [
    "def download_file(web_address, local_filename):\n",
    "    '''download file if it does not exist'''\n",
    "    if not os.path.isfile(local_filename):\n",
    "        run(['wget', web_address, '-O', local_filename])\n",
    "    if not os.path.getsize(local_filename) > 0:\n",
    "        os.remove(local_filename)"
   ]
  },
  {
   "cell_type": "code",
   "execution_count": 4,
   "metadata": {
    "collapsed": true
   },
   "outputs": [],
   "source": [
    "def get_recon_all_outputs(hcp_data_dir, subid):\n",
    "    recon_all_out = folder_contents_list(os.path.join(hcp_data_dir, subid))\n",
    "    recon_all_out = [x.replace(subid, 'subid') for x in recon_all_out]\n",
    "    return(recon_all_out)"
   ]
  },
  {
   "cell_type": "code",
   "execution_count": 5,
   "metadata": {
    "collapsed": true
   },
   "outputs": [],
   "source": [
    "def folder_contents_list(path):\n",
    "    '''returns a list of folder contents'''\n",
    "    folder_contents = glob.glob(os.path.join(path, '**'), recursive = True)\n",
    "    folder_contents = [x.replace('{}/'.format(path),'') for x in folder_contents ]\n",
    "    folder_contents = folder_contents[1:] ## the first element is the path name\n",
    "    return(folder_contents)"
   ]
  },
  {
   "cell_type": "code",
   "execution_count": 6,
   "metadata": {
    "collapsed": true
   },
   "outputs": [],
   "source": [
    "def seed_corr_default_out(func, seed):\n",
    "    func = ciftify.meants.NibInput(func)\n",
    "    seed = ciftify.meants.NibInput(seed)\n",
    "    outputdir = os.path.dirname(func.path)\n",
    "    outbase = '{}_{}'.format(func.base, seed.base)\n",
    "    outputname = os.path.join(outputdir, outbase)\n",
    "    if func.type == \"nifti\": outputname = '{}.nii.gz'.format(outputname)\n",
    "    if func.type == \"cifti\": outputname = '{}.dscalar.nii'.format(outputname)\n",
    "    return(outputname)\n",
    "\n",
    "def run_vis_map(result_map, result_prefix, result_type):\n",
    "    run(['cifti_vis_map', '{}-snaps'.format(result_type), '--hcp-data-dir', hcp_data_dir, \n",
    "     result_map, subid, result_prefix])\n",
    "\n",
    "def run_seedcorr_peaktable(result_map):\n",
    "    run(['ciftify_peaktable',  \n",
    "         '--min-threshold', '-0.5', \n",
    "         '--max-threshold', '0.5', \n",
    "         '--no-cluster-dlabel', \n",
    "         result_map])\n",
    "\n",
    "def run_seed_corr_fmri_test(func_cifti, hcp_data_dir, roi_dir):\n",
    "    ''' runs one of the seed corrs and then peak table to get a csv to test for each dtseries'''\n",
    "    subid = os.path.basename(os.path.dirname(os.path.dirname(os.path.dirname(os.path.dirname(func_cifti)))))\n",
    "    atlas_vol =  os.path.join(hcp_data_dir, subid, 'MNINonLinear', 'wmparc.nii.gz')\n",
    "    struct = 'RIGHT-PUTAMEN'\n",
    "    putamen_vol_seed_mask = os.path.join(roi_dir, '{}_{}_vol.nii.gz'.format(subid, struct))\n",
    "    if not os.path.exists(putamen_vol_seed_mask):\n",
    "        run(['wb_command', '-volume-label-to-roi', atlas_vol, putamen_vol_seed_mask, '-name', struct])\n",
    "    run(['ciftify_seed_corr', func_cifti, putamen_vol_seed_mask])\n",
    "    run_seedcorr_peaktable(seed_corr_default_out(func_cifti, putamen_vol_seed_mask))"
   ]
  },
  {
   "cell_type": "markdown",
   "metadata": {},
   "source": [
    "# Getting ABIDE and running recon-all"
   ]
  },
  {
   "cell_type": "code",
   "execution_count": null,
   "metadata": {
    "collapsed": true
   },
   "outputs": [],
   "source": [
    "abide_amazon_addy = 'https://s3.amazonaws.com/fcp-indi/data/Projects/ABIDE_Initiative/Outputs/freesurfer/5.1'\n",
    "\n",
    "subid = 'NYU_0050954'\n",
    "abide_freesurfer = os.path.join(src_data_dir, 'abide', 'freesurfer')\n",
    "\n",
    "fs_subdir = os.path.join(abide_freesurfer, subid)\n",
    "if not os.path.exists(fs_subdir):    \n",
    "    run(['mkdir', '-p', fs_subdir])\n",
    "\n",
    "for subdir in ['mri', 'surf','label','scripts']:\n",
    "    localdir = os.path.join(fs_subdir, subdir)\n",
    "    if not os.path.exists(localdir):\n",
    "        run(['mkdir', '-p', localdir])\n",
    "    \n",
    "for filename in ['T1.mgz', 'aparc+aseg.mgz', 'aparc.a2009s+aseg.mgz', 'wmparc.mgz', 'brain.finalsurfs.mgz']:\n",
    "    download_file(os.path.join(abide_amazon_addy, subid, 'mri', filename.replace('+','%20')),\n",
    "                               os.path.join(fs_subdir, 'mri', filename))\n",
    "\n",
    "for surface in ['pial', 'white', 'sphere.reg', 'sphere', 'curv', 'sulc', 'thickness']:\n",
    "    for hemi in ['lh', 'rh']:\n",
    "        download_file(os.path.join(abide_amazon_addy, subid, 'surf', '{}.{}'.format(hemi,surface)),\n",
    "                      os.path.join(fs_subdir, 'surf', '{}.{}'.format(hemi,surface)))\n",
    "\n",
    "for labelname in ['aparc', 'aparc.a2009s', 'BA']:\n",
    "    for hemi in ['lh', 'rh']:\n",
    "        download_file(os.path.join(abide_amazon_addy, subid, 'label', '{}.{}.annot'.format(hemi,labelname)),\n",
    "                      os.path.join(fs_subdir, 'label', '{}.{}.annot'.format(hemi,labelname))) \n",
    "\n",
    "for script in ['recon-all.done', 'build-stamp.txt']:\n",
    "    download_file(os.path.join(abide_amazon_addy, subid, 'scripts', script), \n",
    "                  os.path.join(fs_subdir, 'scripts', script))"
   ]
  },
  {
   "cell_type": "code",
   "execution_count": null,
   "metadata": {
    "collapsed": true
   },
   "outputs": [],
   "source": [
    "run(['ciftify_recon_all', '--hcp-data-dir', hcp_data_dir,\n",
    "        '--fs-subjects-dir', abide_freesurfer, \n",
    "        'NYU_0050954'])"
   ]
  },
  {
   "cell_type": "code",
   "execution_count": null,
   "metadata": {
    "collapsed": true
   },
   "outputs": [],
   "source": [
    "\n",
    "run(['cifti_vis_recon_all', 'snaps', '--hcp-data-dir',hcp_data_dir, 'NYU_0050954'])\n",
    "run(['cifti_vis_recon_all', 'index', '--hcp-data-dir', hcp_data_dir])"
   ]
  },
  {
   "cell_type": "markdown",
   "metadata": {},
   "source": [
    "## Download ABIDE PCP data for ciftify_vol_result tests"
   ]
  },
  {
   "cell_type": "code",
   "execution_count": null,
   "metadata": {
    "collapsed": true,
    "scrolled": true
   },
   "outputs": [],
   "source": [
    "def download_vmhc(subid):\n",
    "    amazon_addy = 'https://s3.amazonaws.com/fcp-indi/data/Projects/ABIDE_Initiative/Outputs/cpac/filt_global/vmhc/{}_vmhc.nii.gz'.format(subid)\n",
    "    sub_vmhc = os.path.join(src_vmhc, '{}_vmhc.nii.gz'.format(subid))\n",
    "    download_file(amazon_addy, sub_vmhc)        \n",
    "\n",
    "src_vmhc = os.path.join(src_data_dir, 'abide', 'vmhc')    \n",
    "if not os.path.exists(src_vmhc): \n",
    "    run(['mkdir', src_vmhc])\n",
    "\n",
    "subjects=['NYU_0050954','NYU_0050955']\n",
    "for subid in subjects:\n",
    "    download_vmhc(subid)"
   ]
  },
  {
   "cell_type": "code",
   "execution_count": null,
   "metadata": {
    "collapsed": true
   },
   "outputs": [],
   "source": [
    "subject = 'NYU_0050954'\n",
    "run(['cifti_vis_map', 'nifti-snaps',\n",
    "        '--hcp-data-dir', hcp_data_dir,\n",
    "        '--qcdir', os.path.join(hcp_data_dir, 'abide_vmhc_vis'),\n",
    "        '--resample-nifti', '--colour-palette', 'fidl', \n",
    "        os.path.join(src_vmhc, '{}_vmhc.nii.gz'.format(subject)), subject, '{}_vmhc'.format(subject)])"
   ]
  },
  {
   "cell_type": "code",
   "execution_count": null,
   "metadata": {
    "collapsed": true
   },
   "outputs": [],
   "source": [
    "subject = 'NYU_0050954'\n",
    "run(['cifti_vis_map', 'nifti-snaps',\n",
    "        '--hcp-data-dir', hcp_data_dir,\n",
    "        '--qcdir', os.path.join(hcp_data_dir, 'abide_vmhc_vis'),\n",
    "        '--resample-nifti',  \n",
    "        os.path.join(src_vmhc, '{}_vmhc.nii.gz'.format(subject)), subject, '{}_vmhc_dcol'.format(subject)])"
   ]
  },
  {
   "cell_type": "code",
   "execution_count": null,
   "metadata": {
    "collapsed": true,
    "scrolled": true
   },
   "outputs": [],
   "source": [
    "subject = 'NYU_0050954'\n",
    "run(['cifti_vis_map', 'nifti-snaps', \n",
    "        '--qcdir', os.path.join(hcp_data_dir, 'abide_vmhc_vis'),\n",
    "        '--resample-nifti', '--colour-palette', 'fidl', \n",
    "        os.path.join(src_vmhc, '{}_vmhc.nii.gz'.format(subject)), 'HCP_S1200_GroupAvg', '{}_vmhc'.format(subject)])"
   ]
  },
  {
   "cell_type": "code",
   "execution_count": null,
   "metadata": {
    "collapsed": true
   },
   "outputs": [],
   "source": [
    "subject = 'NYU_0050955'\n",
    "run(['cifti_vis_map', 'nifti-snaps',\n",
    "        '--qcdir', os.path.join(hcp_data_dir, 'abide_vmhc_vis'),\n",
    "        '--resample-nifti',\n",
    "        os.path.join(src_vmhc, '{}_vmhc.nii.gz'.format(subject)), 'HCP_S1200_GroupAvg', '{}_vmhc'.format(subject)])"
   ]
  },
  {
   "cell_type": "code",
   "execution_count": null,
   "metadata": {
    "collapsed": true
   },
   "outputs": [],
   "source": [
    "run(['cifti_vis_map', 'index',\n",
    "        '--hcp-data-dir', '/tmp',\n",
    "        '--qcdir', os.path.join(hcp_data_dir, 'abide_vmhc_vis')])"
   ]
  },
  {
   "cell_type": "markdown",
   "metadata": {},
   "source": [
    "# Testing ciftify_vol_result with HCP data..if data in src"
   ]
  },
  {
   "cell_type": "code",
   "execution_count": null,
   "metadata": {
    "collapsed": true
   },
   "outputs": [],
   "source": [
    "HCP_subid = '100307'\n",
    "HCP_src_dir = os.path.join(src_data_dir, 'HCP') \n",
    "label_vol = os.path.join(HCP_src_dir, HCP_subid, 'MNINonLinear', 'aparc+aseg.nii.gz')\n",
    "scalar_vol = os.path.join(HCP_src_dir, HCP_subid, 'MNINonLinear', 'T2w_restore.nii.gz')\n",
    "\n",
    "run_HCP_tests = True if os.path.exists(HCP_src_dir) else False\n",
    "\n",
    "if run_HCP_tests:\n",
    "    HCP_out_dir = os.path.join(new_outputs, 'HCP')\n",
    "    run(['mkdir', '-p', HCP_out_dir])\n",
    "    run(['ciftify_vol_result', '--debug','--HCP-Pipelines', '--resample-nifti',\n",
    "         '--hcp-data-dir', HCP_src_dir,\n",
    "        '--integer-labels', HCP_subid, label_vol, \n",
    "         os.path.join(HCP_out_dir, '{}.aparc+aseg.32k_fs_LR.dscalar.nii'.format(HCP_subid))])"
   ]
  },
  {
   "cell_type": "code",
   "execution_count": null,
   "metadata": {
    "collapsed": true
   },
   "outputs": [],
   "source": [
    "if run_HCP_tests:\n",
    "    run(['ciftify_vol_result','--HCP-Pipelines', '--HCP-MSMAll','--resample-nifti',\n",
    "         '--hcp-data-dir', HCP_src_dir,\n",
    "        '--integer-labels', HCP_subid, label_vol, \n",
    "         os.path.join(HCP_out_dir, '{}.aparc+aseg_MSMAll.32k_fs_LR.dscalar.nii'.format(HCP_subid))])"
   ]
  },
  {
   "cell_type": "code",
   "execution_count": null,
   "metadata": {
    "collapsed": true
   },
   "outputs": [],
   "source": [
    "if run_HCP_tests:\n",
    "    run(['ciftify_vol_result','--HCP-Pipelines', '--resample-nifti',\n",
    "         '--hcp-data-dir', HCP_src_dir, HCP_subid, \n",
    "         os.path.join(HCP_src_dir, HCP_subid, 'MNINonLinear', 'T2w_restore.nii.gz'),\n",
    "         os.path.join(HCP_out_dir, '{}.T2w_restore.32k_fs_LR.dscalar.nii'.format(HCP_subid))])"
   ]
  },
  {
   "cell_type": "code",
   "execution_count": null,
   "metadata": {
    "collapsed": true
   },
   "outputs": [],
   "source": [
    "if run_HCP_tests:\n",
    "    run(['ciftify_vol_result','--HCP-Pipelines', '--HCP-MSMAll',\n",
    "         '--hcp-data-dir', HCP_src_dir, HCP_subid, \n",
    "         os.path.join(HCP_src_dir, HCP_subid, 'MNINonLinear', 'T2w_restore.2.nii.gz'),\n",
    "         os.path.join(HCP_out_dir, '{}.T2w_restore_MSMAll.32k_fs_LR.dscalar.nii'.format(HCP_subid))])"
   ]
  },
  {
   "cell_type": "markdown",
   "metadata": {},
   "source": [
    "# Download the main dataset"
   ]
  },
  {
   "cell_type": "code",
   "execution_count": null,
   "metadata": {
    "collapsed": true
   },
   "outputs": [],
   "source": [
    "subids = ['sub-50005','sub-50007']\n",
    "\n",
    "if not os.path.exists(src_data_dir):\n",
    "    run(['mkdir','-p',src_data_dir])\n",
    "\n",
    "for subid in subids:\n",
    "    sub_fs_path = os.path.join('ds000030_R1.0.4','derivatives','freesurfer', subid)\n",
    "if not os.path.exists(os.path.join(src_data_dir, sub_fs_path)):\n",
    "    if not os.path.exists(os.path.join(src_data_dir, \n",
    "                                       os.path.basename(freesurfer_webtgz))):        \n",
    "        run(['wget', '-P', src_data_dir, freesurfer_webtgz])\n",
    "\n",
    "    run(['unzip', \n",
    "         os.path.join(src_data_dir, \n",
    "                      os.path.basename(freesurfer_webtgz)), \n",
    "         os.path.join(sub_fs_path,'*'),\n",
    "         '-d', src_data_dir])\n",
    "\n",
    "for subid in subids:\n",
    "    sub_file = os.path.join('ds000030_R1.0.4','derivatives',\n",
    "                            'fmriprep', subid,'func',\n",
    "                            '{}_task-rest_bold_space-T1w_preproc.nii.gz'.format(subid))\n",
    "    if not os.path.exists(os.path.join(src_data_dir,sub_file)):\n",
    "        if not os.path.exists(os.path.join(src_data_dir, \n",
    "                                           os.path.basename(func_webtgz))):\n",
    "            run(['wget', '-P', src_data_dir, func_webtgz])\n",
    "\n",
    "        run(['unzip', \n",
    "             os.path.join(src_data_dir, \n",
    "                          os.path.basename(func_webtgz)), \n",
    "             sub_file,\n",
    "             '-d', src_data_dir])\n",
    "\n",
    "for subid in subids:\n",
    "    sub_file = os.path.join('ds000030_R1.0.4','derivatives',\n",
    "                            'fmriprep', subid,'func',\n",
    "                            '{}_task-rest_bold_space-MNI152NLin2009cAsym_preproc.nii.gz'.format(subid))\n",
    "    if not os.path.exists(os.path.join(src_data_dir,sub_file)):\n",
    "        if not os.path.exists(os.path.join(src_data_dir, \n",
    "                                           os.path.basename(func_webtgz))):\n",
    "            run(['wget', '-P', src_data_dir, func_webtgz])\n",
    "\n",
    "        run(['unzip', \n",
    "             os.path.join(src_data_dir, \n",
    "                          os.path.basename(func_webtgz)), \n",
    "             sub_file,\n",
    "             '-d', src_data_dir])"
   ]
  },
  {
   "cell_type": "code",
   "execution_count": null,
   "metadata": {
    "collapsed": true
   },
   "outputs": [],
   "source": [
    "run(['ciftify_recon_all', '--resample-to-T1w32k', '--hcp-data-dir', hcp_data_dir,\n",
    "    '--fs-subjects-dir', fs_subjects_dir, \n",
    "    subids[0]])"
   ]
  },
  {
   "cell_type": "code",
   "execution_count": null,
   "metadata": {
    "collapsed": true
   },
   "outputs": [],
   "source": [
    "run(['ciftify_recon_all', '--hcp-data-dir', hcp_data_dir,\n",
    "    '--fs-subjects-dir', fs_subjects_dir, \n",
    "    subids[1]])"
   ]
  },
  {
   "cell_type": "code",
   "execution_count": null,
   "metadata": {
    "collapsed": true
   },
   "outputs": [],
   "source": [
    "for subid in subids:\n",
    "    run(['cifti_vis_recon_all', 'snaps', '--hcp-data-dir',hcp_data_dir, subid])\n",
    "run(['cifti_vis_recon_all', 'index', '--hcp-data-dir', hcp_data_dir])"
   ]
  },
  {
   "cell_type": "code",
   "execution_count": null,
   "metadata": {
    "collapsed": true
   },
   "outputs": [],
   "source": [
    "# for subid in ['sub-50004','sub-50006', 'sub-50008']:\n",
    "#     run(['ciftify_recon_all', '--hcp-data-dir', hcp_data_dir,\n",
    "#         '--fs-subjects-dir', fs_subjects_dir, \n",
    "#         subid])"
   ]
  },
  {
   "cell_type": "code",
   "execution_count": null,
   "metadata": {
    "collapsed": true
   },
   "outputs": [],
   "source": [
    "# for subid in ['sub-50004','sub-50006', 'sub-50008']:\n",
    "#     run(['cifti_vis_recon_all', 'snaps', '--hcp-data-dir',hcp_data_dir, subid])\n",
    "# run(['cifti_vis_recon_all', 'index', '--hcp-data-dir', hcp_data_dir])"
   ]
  },
  {
   "cell_type": "markdown",
   "metadata": {},
   "source": [
    "# Running ciftify_subject_fmri "
   ]
  },
  {
   "cell_type": "code",
   "execution_count": 7,
   "metadata": {
    "scrolled": true
   },
   "outputs": [
    {
     "name": "stderr",
     "output_type": "stream",
     "text": [
      "Running: ciftify_subject_fmri --SmoothingFWHM 12 --hcp-data-dir /scratch/edickie/ciftify_intergration_tests/run_2017-09-25_py36_sc2017-10-13/hcp /scratch/edickie/ciftify_intergration_tests/src_data/ds000030_R1.0.4/derivatives/fmriprep/sub-50005/func/sub-50005_task-rest_bold_space-native_preproc.nii.gz sub-50005 rest_test1\n",
      "cmd: ciftify_subject_fmri --SmoothingFWHM 12 --hcp-data-dir /scratch/edickie/ciftify_intergration_tests/run_2017-09-25_py36_sc2017-10-13/hcp /scratch/edickie/ciftify_intergration_tests/src_data/ds000030_R1.0.4/derivatives/fmriprep/sub-50005/func/sub-50005_task-rest_bold_space-native_preproc.nii.gz sub-50005 rest_test1 \n",
      " Failed with returncode 1\n",
      "Subject output already exits.\n",
      " To force rerun, delete or rename the logfile:\n",
      "\t/scratch/edickie/ciftify_intergration_tests/run_2017-09-25_py36_sc2017-10-13/hcp/sub-50005/MNINonLinear/Results/rest_test1/ciftify_subject_fmri.log\n",
      "\n"
     ]
    },
    {
     "data": {
      "text/plain": [
       "1"
      ]
     },
     "execution_count": 7,
     "metadata": {},
     "output_type": "execute_result"
    }
   ],
   "source": [
    "subid=subids[0]\n",
    "native_func = os.path.join(src_data_dir,'ds000030_R1.0.4','derivatives',\n",
    "                 'fmriprep', subid,'func',\n",
    "                 '{}_task-rest_bold_space-native_preproc.nii.gz'.format(subid))\n",
    "mat_file = os.path.join(src_data_dir, 'ds000030_R1.0.4','derivatives',\n",
    "                            'fmriprep', subid,'func',\n",
    "                            '{}_task-rest_bold_T1_to_EPI.mat'.format(subid))\n",
    "\n",
    "with open(mat_file, \"w\") as text_file:\n",
    "    text_file.write('''1.03  -0.015  0.0025  -15.0\n",
    "0.014  1.01  -0.005  -11.9\n",
    "-0.007 0.01  0.99  2\n",
    "0  0  0  1\n",
    "''')\n",
    "\n",
    "t1_func = os.path.join(src_data_dir,'ds000030_R1.0.4','derivatives',\n",
    "                 'fmriprep', subid,'func',\n",
    "                 '{}_task-rest_bold_space-T1w_preproc.nii.gz'.format(subid))\n",
    "if not os.path.exists(native_func):\n",
    "    run(['flirt', '-in', t1_func, '-ref', t1_func, \n",
    "         '-out', native_func, '-init', mat_file, '-applyxfm'])\n",
    "\n",
    "run(['ciftify_subject_fmri', '--SmoothingFWHM', '12', \n",
    "    '--hcp-data-dir', hcp_data_dir, \n",
    "    native_func, subid, 'rest_test1'])"
   ]
  },
  {
   "cell_type": "code",
   "execution_count": null,
   "metadata": {
    "collapsed": true
   },
   "outputs": [],
   "source": [
    "subid=subids[0]\n",
    "run(['cifti_vis_fmri', 'snaps', '--SmoothingFWHM', '12', '--hcp-data-dir',hcp_data_dir, 'rest_test1', subid])"
   ]
  },
  {
   "cell_type": "code",
   "execution_count": null,
   "metadata": {
    "collapsed": true,
    "scrolled": true
   },
   "outputs": [],
   "source": [
    "subid=subids[0]\n",
    "native_func_mean = os.path.join(src_data_dir,'ds000030_R1.0.4','derivatives',\n",
    "                 'fmriprep', subid,'func',\n",
    "                 '{}_task-rest_bold_space-native_mean.nii.gz'.format(subid))\n",
    "\n",
    "run(['fslmaths', native_func, '-Tmean', native_func_mean])\n",
    "\n",
    "run(['ciftify_subject_fmri', '--hcp-data-dir', hcp_data_dir, \n",
    "    '--FLIRT-template', native_func_mean, native_func, subid, 'rest_test2'])\n"
   ]
  },
  {
   "cell_type": "code",
   "execution_count": null,
   "metadata": {
    "collapsed": true
   },
   "outputs": [],
   "source": [
    "subid=subids[0]\n",
    "run(['cifti_vis_fmri', 'snaps', '--smooth-conn', '12', '--hcp-data-dir',hcp_data_dir, 'rest_test2', subid])"
   ]
  },
  {
   "cell_type": "code",
   "execution_count": null,
   "metadata": {
    "collapsed": true,
    "scrolled": true
   },
   "outputs": [],
   "source": [
    "subid = subids[1]\n",
    "run(['ciftify_subject_fmri', '--SmoothingFWHM', '8', '--FLIRT-dof', '30',\n",
    "    '--hcp-data-dir', hcp_data_dir, \n",
    "     '--OutputSurfDiagnostics',\n",
    "    os.path.join(src_data_dir,'ds000030_R1.0.4','derivatives',\n",
    "                 'fmriprep', subid,'func',\n",
    "                 '{}_task-rest_bold_space-T1w_preproc.nii.gz'.format(subid)),\n",
    "    subid, 'rest_test_dof30'])"
   ]
  },
  {
   "cell_type": "code",
   "execution_count": null,
   "metadata": {
    "collapsed": true
   },
   "outputs": [],
   "source": [
    "subid = subids[1]\n",
    "run(['cifti_vis_fmri', 'snaps', '--hcp-data-dir',hcp_data_dir, 'rest_test_dof30', subid])"
   ]
  },
  {
   "cell_type": "code",
   "execution_count": null,
   "metadata": {
    "collapsed": true
   },
   "outputs": [],
   "source": [
    "subid = subids[1]\n",
    "run(['ciftify_subject_fmri', '--already-in-MNI', '--SmoothingFWHM', '8', \n",
    "    '--hcp-data-dir', hcp_data_dir, \n",
    "    os.path.join(src_data_dir,'ds000030_R1.0.4','derivatives',\n",
    "                 'fmriprep', subid,'func',\n",
    "                 '{}_task-rest_bold_space-MNI152NLin2009cAsym_preproc.nii.gz'.format(subid)),\n",
    "    subid, 'rest_bad_transform'])"
   ]
  },
  {
   "cell_type": "code",
   "execution_count": null,
   "metadata": {
    "collapsed": true
   },
   "outputs": [],
   "source": [
    "subid = subids[1]\n",
    "run(['cifti_vis_fmri', 'snaps', '--hcp-data-dir',hcp_data_dir, 'rest_bad_transform', subid])"
   ]
  },
  {
   "cell_type": "code",
   "execution_count": null,
   "metadata": {
    "collapsed": true
   },
   "outputs": [],
   "source": [
    "run(['cifti_vis_fmri', 'index', '--hcp-data-dir', hcp_data_dir])"
   ]
  },
  {
   "cell_type": "code",
   "execution_count": null,
   "metadata": {
    "collapsed": true
   },
   "outputs": [],
   "source": [
    "from glob import glob\n",
    "dtseries_files = glob(os.path.join(hcp_data_dir,'*',\n",
    "                                       'MNINonLinear', 'Results',\n",
    "                                       '*', '*Atlas_s*.dtseries.nii'))\n",
    "run(['cifti_vis_RSN', 'cifti-snaps',  \n",
    "         '--hcp-data-dir',hcp_data_dir, \n",
    "         '--colour-palette', 'PSYCH-NO-NONE',\n",
    "         dtseries_files[0], \n",
    "         os.path.basename(os.path.dirname(os.path.dirname(os.path.dirname(os.path.dirname(dtseries_files[0])))))])\n",
    "    \n",
    "for dtseries in dtseries_files[1:]:\n",
    "    run(['cifti_vis_RSN', 'cifti-snaps',  \n",
    "         '--hcp-data-dir',hcp_data_dir, dtseries, \n",
    "         os.path.basename(os.path.dirname(os.path.dirname(os.path.dirname(os.path.dirname(dtseries)))))])\n",
    "run(['cifti_vis_RSN', 'index', \n",
    "     '--hcp-data-dir', hcp_data_dir])"
   ]
  },
  {
   "cell_type": "code",
   "execution_count": null,
   "metadata": {
    "collapsed": true
   },
   "outputs": [],
   "source": [
    "run(['cifti_vis_RSN', 'index', '--hcp-data-dir', hcp_data_dir])"
   ]
  },
  {
   "cell_type": "code",
   "execution_count": null,
   "metadata": {
    "collapsed": true,
    "scrolled": true
   },
   "outputs": [],
   "source": [
    "roi_dir = os.path.join(new_outputs, 'rois')\n",
    "if not os.path.exists(roi_dir):\n",
    "    run(['mkdir', roi_dir])\n",
    "for dtseries in dtseries_files:\n",
    "    run_seed_corr_fmri_test(dtseries, hcp_data_dir, roi_dir)"
   ]
  },
  {
   "cell_type": "code",
   "execution_count": null,
   "metadata": {
    "collapsed": true,
    "scrolled": true
   },
   "outputs": [],
   "source": [
    "run(['cifti_vis_RSN', 'nifti-snaps', '--debug', \n",
    "         '--hcp-data-dir',hcp_data_dir, \n",
    "         '--qcdir', os.path.join(hcp_data_dir, 'RSN_from_nii'),\n",
    "         '--colour-palette', 'PSYCH-NO-NONE',\n",
    "     \n",
    "        os.path.join(src_data_dir,'ds000030_R1.0.4','derivatives',\n",
    "                 'fmriprep', subids[0],'func',\n",
    "                 '{}_task-rest_bold_space-MNI152NLin2009cAsym_preproc.nii.gz'.format(subids[0])),\n",
    "        subids[0]])\n",
    "\n",
    "run(['cifti_vis_RSN', 'nifti-snaps',  \n",
    "         '--hcp-data-dir',hcp_data_dir, \n",
    "         '--qcdir', os.path.join(hcp_data_dir, 'RSN_from_nii'),\n",
    "        os.path.join(src_data_dir,'ds000030_R1.0.4','derivatives',\n",
    "                 'fmriprep', subids[1],'func',\n",
    "                 '{}_task-rest_bold_space-MNI152NLin2009cAsym_preproc.nii.gz'.format(subids[1])),\n",
    "        subids[1]])\n",
    "    \n",
    "run(['cifti_vis_RSN', 'index', \n",
    "     '--qcdir', os.path.join(hcp_data_dir, 'RSN_from_nii'),\n",
    "     '--hcp-data-dir', hcp_data_dir])"
   ]
  },
  {
   "cell_type": "code",
   "execution_count": null,
   "metadata": {
    "collapsed": true
   },
   "outputs": [],
   "source": [
    "groupmask_cmd = ['ciftify_groupmask', os.path.join(hcp_data_dir, 'groupmask.dscalar.nii')]\n",
    "groupmask_cmd.extend(dtseries_files)\n",
    "\n",
    "run(groupmask_cmd)     "
   ]
  },
  {
   "cell_type": "markdown",
   "metadata": {
    "collapsed": true
   },
   "source": [
    "# Running PINT and related functions"
   ]
  },
  {
   "cell_type": "code",
   "execution_count": null,
   "metadata": {
    "collapsed": true
   },
   "outputs": [],
   "source": [
    "subid = subids[0]\n",
    "run(['mkdir', '-p', os.path.join(new_outputs, 'PINT', subid)])\n",
    "\n",
    "run(['ciftify_PINT_vertices', '--pcorr', \n",
    "     os.path.join(hcp_data_dir, subid,'MNINonLinear', 'Results',\n",
    "                  'rest_test1', 'rest_test1_Atlas_s12.dtseries.nii'),\n",
    "     os.path.join(hcp_data_dir, subid,'MNINonLinear','fsaverage_LR32k',\n",
    "                  '{}.L.midthickness.32k_fs_LR.surf.gii'.format(subid)),\n",
    "     os.path.join(hcp_data_dir, subid,'MNINonLinear','fsaverage_LR32k',\n",
    "                  '{}.R.midthickness.32k_fs_LR.surf.gii'.format(subid)),\n",
    "     os.path.join(ciftify.config.find_ciftify_global(), 'PINT', 'Yeo7_2011_80verts.csv'),\n",
    "     os.path.join(new_outputs, 'PINT', subid, subid)])\n"
   ]
  },
  {
   "cell_type": "code",
   "execution_count": null,
   "metadata": {
    "collapsed": true,
    "scrolled": true
   },
   "outputs": [],
   "source": [
    "subid = subids[0]\n",
    "run(['cifti_vis_PINT', 'snaps', '--hcp-data-dir',  hcp_data_dir,\n",
    "     os.path.join(hcp_data_dir, subid,'MNINonLinear', 'Results',\n",
    "                  'rest_test1', 'rest_test1_Atlas_s12.dtseries.nii'),\n",
    "     subid,\n",
    "     os.path.join(new_outputs, 'PINT', subid, '{}_summary.csv'.format(subid))])"
   ]
  },
  {
   "cell_type": "code",
   "execution_count": null,
   "metadata": {
    "collapsed": true
   },
   "outputs": [],
   "source": [
    "subid = subids[1]\n",
    "run(['mkdir', '-p', os.path.join(new_outputs, 'PINT', subid)])\n",
    "\n",
    "run(['ciftify_PINT_vertices',\n",
    "     os.path.join(hcp_data_dir, subid,'MNINonLinear', 'Results',\n",
    "                  'rest_test_dof30', 'rest_test_dof30_Atlas_s8.dtseries.nii'),\n",
    "     os.path.join(hcp_data_dir, subid,'MNINonLinear','fsaverage_LR32k',\n",
    "                  '{}.L.midthickness.32k_fs_LR.surf.gii'.format(subid)),\n",
    "     os.path.join(hcp_data_dir, subid,'MNINonLinear','fsaverage_LR32k',\n",
    "                  '{}.R.midthickness.32k_fs_LR.surf.gii'.format(subid)),\n",
    "     os.path.join(ciftify.config.find_ciftify_global(), 'PINT', 'Yeo7_2011_80verts.csv'),\n",
    "     os.path.join(new_outputs, 'PINT', subid, subid)])"
   ]
  },
  {
   "cell_type": "code",
   "execution_count": null,
   "metadata": {
    "collapsed": true
   },
   "outputs": [],
   "source": [
    "run(['cifti_vis_PINT', 'snaps', '--hcp-data-dir',  hcp_data_dir,\n",
    "     os.path.join(hcp_data_dir, subid,'MNINonLinear', 'Results',\n",
    "                  'rest_test_dof30', 'rest_test_dof30_Atlas_s8.dtseries.nii'),\n",
    "     subid,\n",
    "     os.path.join(new_outputs, 'PINT', subid, '{}_summary.csv'.format(subid))])"
   ]
  },
  {
   "cell_type": "code",
   "execution_count": null,
   "metadata": {
    "collapsed": true
   },
   "outputs": [],
   "source": [
    "subid = subids[1]\n",
    "run(['mkdir', '-p', os.path.join(new_outputs, 'PINT', subid)])\n",
    "\n",
    "run(['ciftify_PINT_vertices', '--outputall',\n",
    "     os.path.join(hcp_data_dir, subid,'MNINonLinear', 'Results',\n",
    "                  'rest_test_dof30', 'rest_test_dof30_Atlas_s8.dtseries.nii'),\n",
    "     os.path.join(hcp_data_dir, subid,'MNINonLinear','fsaverage_LR32k',\n",
    "                  '{}.L.midthickness.32k_fs_LR.surf.gii'.format(subid)),\n",
    "     os.path.join(hcp_data_dir, subid,'MNINonLinear','fsaverage_LR32k',\n",
    "                  '{}.R.midthickness.32k_fs_LR.surf.gii'.format(subid)),\n",
    "     os.path.join(ciftify.config.find_ciftify_global(), 'PINT', 'Yeo7_2011_80verts.csv'),\n",
    "     os.path.join(new_outputs, 'PINT', subid, '{}_all'.format(subid))])"
   ]
  },
  {
   "cell_type": "code",
   "execution_count": null,
   "metadata": {
    "collapsed": true
   },
   "outputs": [],
   "source": [
    "run(['cifti_vis_PINT', 'snaps', '--hcp-data-dir',  hcp_data_dir,\n",
    "     os.path.join(hcp_data_dir, subid,'MNINonLinear', 'Results',\n",
    "                  'rest_test_dof30', 'rest_test_dof30_Atlas_s8.dtseries.nii'),\n",
    "     subid,\n",
    "     os.path.join(new_outputs, 'PINT', subid, '{}_all_summary.csv'.format(subid))])"
   ]
  },
  {
   "cell_type": "code",
   "execution_count": null,
   "metadata": {
    "collapsed": true
   },
   "outputs": [],
   "source": [
    "run(['cifti_vis_PINT', 'index', '--hcp-data-dir',  hcp_data_dir])"
   ]
  },
  {
   "cell_type": "code",
   "execution_count": null,
   "metadata": {
    "collapsed": true
   },
   "outputs": [],
   "source": [
    "summary_files = glob(os.path.join(new_outputs, 'PINT', '*','*_summary.csv'))\n",
    "concat_cmd = ['ciftify_postPINT1_concat', '--debug',\n",
    "           os.path.join(new_outputs, 'PINT', 'concatenated.csv')]\n",
    "concat_cmd.extend(summary_files)\n",
    "run(concat_cmd)"
   ]
  },
  {
   "cell_type": "code",
   "execution_count": null,
   "metadata": {
    "collapsed": true
   },
   "outputs": [],
   "source": [
    "run(['ciftify_postPINT2_sub2sub', os.path.join(new_outputs, 'PINT', 'concatenated.csv'),\n",
    "     os.path.join(new_outputs, 'PINT', 'ivertex_distances.csv')])"
   ]
  },
  {
   "cell_type": "code",
   "execution_count": null,
   "metadata": {
    "collapsed": true
   },
   "outputs": [],
   "source": [
    "run(['ciftify_postPINT2_sub2sub', '--roiidx', '14',\n",
    "     os.path.join(new_outputs, 'PINT', 'concatenated.csv'),\n",
    "     os.path.join(new_outputs, 'PINT', 'ivertex_distances_roiidx14.csv')])"
   ]
  },
  {
   "cell_type": "markdown",
   "metadata": {},
   "source": [
    "# Running ciftify_surface_rois"
   ]
  },
  {
   "cell_type": "code",
   "execution_count": null,
   "metadata": {
    "collapsed": true
   },
   "outputs": [],
   "source": [
    "vertices1_csv = os.path.join(src_data_dir, 'vertices1.csv')\n",
    "\n",
    "with open(vertices1_csv, \"w\") as text_file:\n",
    "    text_file.write('''hemi,vertex\n",
    "L,11801\n",
    "L,26245\n",
    "L,26235\n",
    "L,26257\n",
    "L,13356\n",
    "L,289\n",
    "L,13336\n",
    "L,13337\n",
    "L,26269\n",
    "L,13323\n",
    "L,26204\n",
    "L,26214\n",
    "L,13326\n",
    "L,13085\n",
    "L,13310\n",
    "L,13281\n",
    "L,13394\n",
    "L,13395\n",
    "L,26263\n",
    "L,26265\n",
    "L,13343\n",
    "L,77\n",
    "L,13273\n",
    "L,13342\n",
    "L,26271\n",
    "L,11804\n",
    "L,13322\n",
    "L,13369\n",
    "L,13353\n",
    "L,26268\n",
    "L,26201\n",
    "L,26269\n",
    "L,68\n",
    "L,13391\n",
    "''')\n",
    "\n",
    "subid = subids[0]\n",
    "run(['mkdir', '-p', os.path.join(new_outputs, 'rois')])\n",
    "run(['ciftify_surface_rois', vertices1_csv, '10', '--gaussian',\n",
    "     os.path.join(hcp_data_dir, subid,'MNINonLinear','fsaverage_LR32k',\n",
    "                  '{}.L.midthickness.32k_fs_LR.surf.gii'.format(subid)),\n",
    "     os.path.join(hcp_data_dir, subid,'MNINonLinear','fsaverage_LR32k',\n",
    "                  '{}.R.midthickness.32k_fs_LR.surf.gii'.format(subid)), \n",
    "     os.path.join(new_outputs, 'rois', 'gaussian_roi.dscalar.nii')])"
   ]
  },
  {
   "cell_type": "code",
   "execution_count": null,
   "metadata": {
    "collapsed": true
   },
   "outputs": [],
   "source": [
    "subid = subids[0]\n",
    "run(['cifti_vis_map', 'cifti-snaps', '--hcp-data-dir', \n",
    "     hcp_data_dir, \n",
    "     os.path.join(new_outputs, 'rois', 'gaussian_roi.dscalar.nii'),\n",
    "     subid, \n",
    "     'gaussian_roi'])"
   ]
  },
  {
   "cell_type": "code",
   "execution_count": 27,
   "metadata": {
    "scrolled": true
   },
   "outputs": [
    {
     "name": "stderr",
     "output_type": "stream",
     "text": [
      "Running: ciftify_peaktable --debug --max-threshold 0.05 --left-surface /scratch/edickie/ciftify_intergration_tests/run_2017-09-25_py36_sc2017-10-13/hcp/sub-50005/MNINonLinear/fsaverage_LR32k/sub-50005.L.midthickness.32k_fs_LR.surf.gii --right-surface /scratch/edickie/ciftify_intergration_tests/run_2017-09-25_py36_sc2017-10-13/hcp/sub-50005/MNINonLinear/fsaverage_LR32k/sub-50005.R.midthickness.32k_fs_LR.surf.gii /scratch/edickie/ciftify_intergration_tests/run_2017-09-25_py36_sc2017-10-13/rois/gaussian_roi.dscalar.nii\n",
      "[ciftify_peaktable] INFO: \n",
      "\n",
      "            .|';   ||          .|';\n",
      "       ''   ||     ||     ''   ||\n",
      ".|'',  ||  '||'  ''||''   ||  '||'  '||  ||`\n",
      "||     ||   ||     ||     ||   ||    `|..||\n",
      "`|..' .||. .||.    `|..' .||. .||.       ||\n",
      "                                      ,  |'\n",
      "                                       ''   \n",
      "-------------------------------------------------------------\n",
      "2017-10-16 12:12:36.040510 : Starting ciftify_peaktable\n",
      "-------------------------------------------------------------\n",
      "\n",
      "[ciftify.utils] INFO: Arguments:\n",
      "    !!python/object/new:docopt.Dict\n",
      "    dictitems:\n",
      "      --area-threshold: '20'\n",
      "      --debug: true\n",
      "      --dry-run: false\n",
      "      --help: false\n",
      "      --left-surf-area: null\n",
      "      --left-surface: /scratch/edickie/ciftify_intergration_tests/run_2017-09-25_py36_sc2017-10-13/hcp/sub-50005/MNINonLinear/fsaverage_LR32k/sub-50005.L.midthickness.32k_fs_LR.surf.gii\n",
      "      --max-threshold: '0.05'\n",
      "      --min-threshold: '-2.85'\n",
      "      --no-cluster-dlabel: false\n",
      "      --outputbase: null\n",
      "      --right-surf-area: null\n",
      "      --right-surface: /scratch/edickie/ciftify_intergration_tests/run_2017-09-25_py36_sc2017-10-13/hcp/sub-50005/MNINonLinear/fsaverage_LR32k/sub-50005.R.midthickness.32k_fs_LR.surf.gii\n",
      "      --surface-distance: '20'\n",
      "      --volume-distance: '20'\n",
      "      <func.dscalar.nii>: /scratch/edickie/ciftify_intergration_tests/run_2017-09-25_py36_sc2017-10-13/rois/gaussian_roi.dscalar.nii\n",
      "    \n",
      "[ciftify.utils] INFO: Running: wb_command -surface-vertex-areas /scratch/edickie/ciftify_intergration_tests/run_2017-09-25_py36_sc2017-10-13/hcp/sub-50005/MNINonLinear/fsaverage_LR32k/sub-50005.L.midthickness.32k_fs_LR.surf.gii /tmp/tmpflxqpx2x/surfL_va.shape.gii\n",
      "[ciftify.utils] INFO: Running: wb_command -surface-vertex-areas /scratch/edickie/ciftify_intergration_tests/run_2017-09-25_py36_sc2017-10-13/hcp/sub-50005/MNINonLinear/fsaverage_LR32k/sub-50005.R.midthickness.32k_fs_LR.surf.gii /tmp/tmpflxqpx2x/surfR_va.shape.gii\n",
      "[ciftify.utils] INFO: Running: wb_command -cifti-extrema /scratch/edickie/ciftify_intergration_tests/run_2017-09-25_py36_sc2017-10-13/rois/gaussian_roi.dscalar.nii 20 20 COLUMN /tmp/tmpflxqpx2x/extrema.dscalar.nii -left-surface /scratch/edickie/ciftify_intergration_tests/run_2017-09-25_py36_sc2017-10-13/hcp/sub-50005/MNINonLinear/fsaverage_LR32k/sub-50005.L.midthickness.32k_fs_LR.surf.gii -right-surface /scratch/edickie/ciftify_intergration_tests/run_2017-09-25_py36_sc2017-10-13/hcp/sub-50005/MNINonLinear/fsaverage_LR32k/sub-50005.R.midthickness.32k_fs_LR.surf.gii -threshold -2.85 0.05\n",
      "[ciftify.utils] INFO: Evaluating: wb_command -file-information /scratch/edickie/ciftify_intergration_tests/run_2017-09-25_py36_sc2017-10-13/rois/gaussian_roi.dscalar.nii -no-map-info\n",
      "[ciftify.utils] INFO: Running: wb_command -cifti-find-clusters /scratch/edickie/ciftify_intergration_tests/run_2017-09-25_py36_sc2017-10-13/rois/gaussian_roi.dscalar.nii 0.05 20 0.05 20 COLUMN /tmp/tmpflxqpx2x/pclusters.dscalar.nii -left-surface /scratch/edickie/ciftify_intergration_tests/run_2017-09-25_py36_sc2017-10-13/hcp/sub-50005/MNINonLinear/fsaverage_LR32k/sub-50005.L.midthickness.32k_fs_LR.surf.gii -corrected-areas /tmp/tmpflxqpx2x/surfL_va.shape.gii -right-surface /scratch/edickie/ciftify_intergration_tests/run_2017-09-25_py36_sc2017-10-13/hcp/sub-50005/MNINonLinear/fsaverage_LR32k/sub-50005.R.midthickness.32k_fs_LR.surf.gii -corrected-areas /tmp/tmpflxqpx2x/surfR_va.shape.gii -start 1\n",
      "[ciftify.utils] INFO: Running: wb_command -cifti-separate /tmp/tmpflxqpx2x/pclusters.dscalar.nii COLUMN -metric CORTEX_LEFT /tmp/tmp3nogtfqc/Ldata.func.gii -metric CORTEX_RIGHT /tmp/tmp3nogtfqc/Rdata.func.gii\n",
      "[ciftify.utils] INFO: Evaluating: wb_command -file-information /scratch/edickie/ciftify_intergration_tests/run_2017-09-25_py36_sc2017-10-13/rois/gaussian_roi.dscalar.nii -no-map-info\n",
      "[ciftify.utils] INFO: Running: wb_command -cifti-find-clusters /scratch/edickie/ciftify_intergration_tests/run_2017-09-25_py36_sc2017-10-13/rois/gaussian_roi.dscalar.nii -2.85 20 -2.85 20 COLUMN /tmp/tmpflxqpx2x/nclusters.dscalar.nii -left-surface /scratch/edickie/ciftify_intergration_tests/run_2017-09-25_py36_sc2017-10-13/hcp/sub-50005/MNINonLinear/fsaverage_LR32k/sub-50005.L.midthickness.32k_fs_LR.surf.gii -corrected-areas /tmp/tmpflxqpx2x/surfL_va.shape.gii -right-surface /scratch/edickie/ciftify_intergration_tests/run_2017-09-25_py36_sc2017-10-13/hcp/sub-50005/MNINonLinear/fsaverage_LR32k/sub-50005.R.midthickness.32k_fs_LR.surf.gii -corrected-areas /tmp/tmpflxqpx2x/surfR_va.shape.gii -start 2 -less-than\n",
      "[ciftify.utils] INFO: Running: wb_command -cifti-math \"(x+y)\" /tmp/tmpflxqpx2x/clusters.dscalar.nii -var x /tmp/tmpflxqpx2x/pclusters.dscalar.nii -var y /tmp/tmpflxqpx2x/nclusters.dscalar.nii\n",
      "[ciftify.utils] INFO: parsed '(x+y)' as '(x+y)'\n",
      "\n",
      "[ciftify.utils] INFO: Running: wb_command -cifti-math \"(abs(x*y))\" /tmp/tmpflxqpx2x/lab_extrema.dscalar.nii -var x /tmp/tmpflxqpx2x/clusters.dscalar.nii -var y /tmp/tmpflxqpx2x/extrema.dscalar.nii\n",
      "[ciftify.utils] INFO: parsed '(abs(x*y))' as 'abs((x*y))'\n",
      "\n",
      "[ciftify.utils] INFO: Running: wb_command -cifti-separate /tmp/tmpflxqpx2x/lab_extrema.dscalar.nii COLUMN -metric CORTEX_LEFT /tmp/tmpo7hwou0g/data.func.gii\n",
      "[ciftify.utils] INFO: Running: wb_command -cifti-separate /scratch/edickie/ciftify_intergration_tests/run_2017-09-25_py36_sc2017-10-13/rois/gaussian_roi.dscalar.nii COLUMN -metric CORTEX_LEFT /tmp/tmpkm64iv4n/data.func.gii\n",
      "[ciftify.utils] INFO: Running: wb_command -cifti-separate /tmp/tmpflxqpx2x/clusters.dscalar.nii COLUMN -metric CORTEX_LEFT /tmp/tmp9srdmu5i/data.func.gii\n",
      "[ciftify.utils] INFO: Running: wb_command -cifti-separate /projects/edickie/code/ciftify/ciftify/data/HCP_S1200_GroupAvg_v1/cvs_avg35_inMNI152.aparc.32k_fs_LR.dlabel.nii COLUMN -label CORTEX_LEFT /tmp/tmpkes0_vbe/data.label.gii\n",
      "[ciftify.utils] INFO: Running: wb_command -cifti-separate /projects/edickie/code/ciftify/ciftify/data/HCP_S1200_GroupAvg_v1/RSN-networks.32k_fs_LR.dlabel.nii COLUMN -label CORTEX_LEFT /tmp/tmp9fa7e56f/data.label.gii\n",
      "[ciftify.utils] INFO: Running: wb_command -cifti-separate /projects/edickie/code/ciftify/ciftify/data/HCP_S1200_GroupAvg_v1/Q1-Q6_RelatedValidation210.CorticalAreas_dil_Final_Final_Areas_Group_Colors.32k_fs_LR.dlabel.nii COLUMN -label CORTEX_LEFT /tmp/tmpzorulz4y/data.label.gii\n",
      "[ciftify.utils] INFO: Running: wb_command -cifti-separate /tmp/tmpflxqpx2x/lab_extrema.dscalar.nii COLUMN -metric CORTEX_RIGHT /tmp/tmpbk9p97p5/data.func.gii\n",
      "[ciftify.utils] INFO: Running: wb_command -cifti-separate /scratch/edickie/ciftify_intergration_tests/run_2017-09-25_py36_sc2017-10-13/rois/gaussian_roi.dscalar.nii COLUMN -metric CORTEX_RIGHT /tmp/tmpw3fgrmj2/data.func.gii\n",
      "[ciftify.utils] INFO: Running: wb_command -cifti-separate /tmp/tmpflxqpx2x/clusters.dscalar.nii COLUMN -metric CORTEX_RIGHT /tmp/tmp35y5f5w6/data.func.gii\n",
      "[ciftify.utils] INFO: Running: wb_command -cifti-separate /projects/edickie/code/ciftify/ciftify/data/HCP_S1200_GroupAvg_v1/cvs_avg35_inMNI152.aparc.32k_fs_LR.dlabel.nii COLUMN -label CORTEX_RIGHT /tmp/tmp0u2odfoz/data.label.gii\n",
      "[ciftify.utils] INFO: Running: wb_command -cifti-separate /projects/edickie/code/ciftify/ciftify/data/HCP_S1200_GroupAvg_v1/RSN-networks.32k_fs_LR.dlabel.nii COLUMN -label CORTEX_RIGHT /tmp/tmparanqjva/data.label.gii\n",
      "[ciftify.utils] INFO: Running: wb_command -cifti-separate /projects/edickie/code/ciftify/ciftify/data/HCP_S1200_GroupAvg_v1/Q1-Q6_RelatedValidation210.CorticalAreas_dil_Final_Final_Areas_Group_Colors.32k_fs_LR.dlabel.nii COLUMN -label CORTEX_RIGHT /tmp/tmp149945fn/data.label.gii\n",
      "[ciftify.utils] INFO: Running: touch /tmp/tmpflxqpx2x/empty_labels.txt\n",
      "[ciftify.utils] INFO: Running: wb_command -cifti-label-import /tmp/tmpflxqpx2x/clusters.dscalar.nii /tmp/tmpflxqpx2x/empty_labels.txt /scratch/edickie/ciftify_intergration_tests/run_2017-09-25_py36_sc2017-10-13/rois/gaussian_roi_clust.dlabel.nii\n",
      "[ciftify.utils] INFO: Evaluating: wb_command -file-information /scratch/edickie/ciftify_intergration_tests/run_2017-09-25_py36_sc2017-10-13/rois/gaussian_roi.dscalar.nii -no-map-info\n",
      "[ciftify_peaktable] INFO: No subcortical volume data in /scratch/edickie/ciftify_intergration_tests/run_2017-09-25_py36_sc2017-10-13/rois/gaussian_roi.dscalar.nii\n",
      "[ciftify_peaktable] INFO: \n",
      "-------------------------------------------------------------\n",
      "2017-10-16 12:12:44.687857 : Done ciftify_peaktable\n",
      "-------------------------------------------------------------\n",
      "\n",
      "\n"
     ]
    },
    {
     "data": {
      "text/plain": [
       "0"
      ]
     },
     "execution_count": 27,
     "metadata": {},
     "output_type": "execute_result"
    }
   ],
   "source": [
    "run(['ciftify_peaktable', '--debug', '--max-threshold', '0.05',      \n",
    "    '--left-surface', os.path.join(hcp_data_dir, subid,'MNINonLinear','fsaverage_LR32k',\n",
    "                  '{}.L.midthickness.32k_fs_LR.surf.gii'.format(subid)),\n",
    "    '--right-surface', os.path.join(hcp_data_dir, subid,'MNINonLinear','fsaverage_LR32k',\n",
    "                  '{}.R.midthickness.32k_fs_LR.surf.gii'.format(subid)),\n",
    "    os.path.join(new_outputs, 'rois', 'gaussian_roi.dscalar.nii')])"
   ]
  },
  {
   "cell_type": "code",
   "execution_count": null,
   "metadata": {
    "collapsed": true
   },
   "outputs": [],
   "source": [
    "vertices2_csv = os.path.join(src_data_dir, 'vertices1.csv')\n",
    "\n",
    "with open(vertices2_csv, \"w\") as text_file:\n",
    "    text_file.write('''hemi,vertex\n",
    "R,2379\n",
    "R,2423\n",
    "R,2423\n",
    "R,2629\n",
    "R,29290\n",
    "R,29290\n",
    "R,1794\n",
    "R,29199\n",
    "R,1788\n",
    "R,2380\n",
    "R,2288\n",
    "R,29320\n",
    "R,29274\n",
    "R,29272\n",
    "R,29331\n",
    "R,29356\n",
    "R,2510\n",
    "R,29345\n",
    "R,2506\n",
    "R,2506\n",
    "R,1790\n",
    "R,29305\n",
    "R,2630\n",
    "R,2551\n",
    "R,2334\n",
    "R,2334\n",
    "R,29306\n",
    "R,2551\n",
    "R,2422\n",
    "R,29256\n",
    "R,2468\n",
    "R,29332\n",
    "R,2425\n",
    "R,29356\n",
    "''')\n",
    "    \n",
    "run(['mkdir', '-p', os.path.join(new_outputs, 'rois')])\n",
    "run(['ciftify_surface_rois', vertices1_csv, '6', '--probmap',\n",
    "     os.path.join(hcp_data_dir, subid,'MNINonLinear','fsaverage_LR32k',\n",
    "                  '{}.L.midthickness.32k_fs_LR.surf.gii'.format(subid)),\n",
    "     os.path.join(hcp_data_dir, subid,'MNINonLinear','fsaverage_LR32k',\n",
    "                  '{}.R.midthickness.32k_fs_LR.surf.gii'.format(subid)), \n",
    "     os.path.join(new_outputs, 'rois', 'probmap_roi.dscalar.nii')])"
   ]
  },
  {
   "cell_type": "code",
   "execution_count": null,
   "metadata": {
    "collapsed": true
   },
   "outputs": [],
   "source": [
    "subid = subids[0]\n",
    "run(['cifti_vis_map', 'cifti-snaps', '--hcp-data-dir', \n",
    "     hcp_data_dir, \n",
    "     os.path.join(new_outputs, 'rois', 'probmap_roi.dscalar.nii'),\n",
    "     subid, \n",
    "     'probmap_roi'])"
   ]
  },
  {
   "cell_type": "code",
   "execution_count": null,
   "metadata": {
    "collapsed": true
   },
   "outputs": [],
   "source": [
    "run(['ciftify_peaktable', '--max-threshold', '0.05',      \n",
    "    '--left-surface', os.path.join(hcp_data_dir, subid,'MNINonLinear','fsaverage_LR32k',\n",
    "                  '{}.L.midthickness.32k_fs_LR.surf.gii'.format(subid)),\n",
    "    '--right-surface', os.path.join(hcp_data_dir, subid,'MNINonLinear','fsaverage_LR32k',\n",
    "                  '{}.R.midthickness.32k_fs_LR.surf.gii'.format(subid)), \n",
    "   os.path.join(new_outputs, 'rois', 'probmap_roi.dscalar.nii')])"
   ]
  },
  {
   "cell_type": "code",
   "execution_count": null,
   "metadata": {
    "collapsed": true
   },
   "outputs": [],
   "source": [
    "for hemi in ['L','R']:\n",
    "    run(['wb_command', '-surface-vertex-areas',\n",
    "         os.path.join(hcp_data_dir, subid,'MNINonLinear','fsaverage_LR32k',\n",
    "                  '{}.{}.midthickness.32k_fs_LR.surf.gii'.format(subid, hemi)),\n",
    "         os.path.join(hcp_data_dir, subid,'MNINonLinear','fsaverage_LR32k',\n",
    "                  '{}.{}.midthickness_va.32k_fs_LR.shape.gii'.format(subid, hemi))])\n",
    "\n",
    "run(['ciftify_peaktable', \n",
    "    '--outputbase', os.path.join(new_outputs, 'rois', 'probmap_roi_withva'),\n",
    "    '--max-threshold', '0.05',      \n",
    "    '--left-surface', os.path.join(hcp_data_dir, subid,'MNINonLinear','fsaverage_LR32k',\n",
    "                  '{}.L.midthickness.32k_fs_LR.surf.gii'.format(subid)),\n",
    "    '--right-surface', os.path.join(hcp_data_dir, subid,'MNINonLinear','fsaverage_LR32k',\n",
    "                  '{}.R.midthickness.32k_fs_LR.surf.gii'.format(subid)), \n",
    "    '--left-surf-area', os.path.join(hcp_data_dir, subid,'MNINonLinear','fsaverage_LR32k',\n",
    "                  '{}.L.midthickness_va.32k_fs_LR.shape.gii'.format(subid)),\n",
    "    '--right-surf-area', os.path.join(hcp_data_dir, subid,'MNINonLinear','fsaverage_LR32k',\n",
    "                  '{}.R.midthickness_va.32k_fs_LR.shape.gii'.format(subid)), \n",
    "   os.path.join(new_outputs, 'rois', 'probmap_roi.dscalar.nii')])"
   ]
  },
  {
   "cell_type": "code",
   "execution_count": null,
   "metadata": {
    "collapsed": true
   },
   "outputs": [],
   "source": [
    "run(['ciftify_surface_rois',\n",
    "      os.path.join(ciftify.config.find_ciftify_global(), 'PINT', 'Yeo7_2011_80verts.csv'),\n",
    "      '6', '--vertex-col', 'tvertex', '--labels-col', 'NETWORK', '--overlap-logic', 'EXCLUDE',\n",
    "      os.path.join(ciftify.config.find_HCP_S1200_GroupAvg(),\n",
    "                'S1200.L.midthickness_MSMAll.32k_fs_LR.surf.gii'),\n",
    "      os.path.join(ciftify.config.find_HCP_S1200_GroupAvg(),\n",
    "                'S1200.R.midthickness_MSMAll.32k_fs_LR.surf.gii'),\n",
    "      os.path.join(new_outputs, 'rois', 'tvertex.dscalar.nii')])"
   ]
  },
  {
   "cell_type": "code",
   "execution_count": null,
   "metadata": {
    "collapsed": true
   },
   "outputs": [],
   "source": [
    "subid = subids[0]\n",
    "run(['cifti_vis_map', 'cifti-snaps', '--hcp-data-dir', \n",
    "     hcp_data_dir, \n",
    "     os.path.join(new_outputs, 'rois', 'tvertex.dscalar.nii'),\n",
    "     subid, \n",
    "     'tvertex'])"
   ]
  },
  {
   "cell_type": "markdown",
   "metadata": {},
   "source": [
    "# Running ciftify_seed_corr "
   ]
  },
  {
   "cell_type": "code",
   "execution_count": 9,
   "metadata": {},
   "outputs": [
    {
     "name": "stderr",
     "output_type": "stream",
     "text": [
      "Running: wb_command -cifti-math '(x > 0)' /scratch/edickie/ciftify_intergration_tests/run_2017-09-25_py36_sc2017-10-13/ciftify_seed_corr/sub-50005_func_mask.dscalar.nii -var x /scratch/edickie/ciftify_intergration_tests/run_2017-09-25_py36_sc2017-10-13/hcp/sub-50005/MNINonLinear/Results/rest_test1/rest_test1_Atlas_s0.dtseries.nii -select 1 1\n",
      "parsed '(x > 0)' as '(x>0)'\n",
      "\n"
     ]
    },
    {
     "data": {
      "text/plain": [
       "0"
      ]
     },
     "execution_count": 9,
     "metadata": {},
     "output_type": "execute_result"
    }
   ],
   "source": [
    "subid = subids[0]\n",
    "smoothing = 12\n",
    "func_vol = os.path.join(hcp_data_dir, subid, 'MNINonLinear', 'Results', 'rest_test1', 'rest_test1.nii.gz')\n",
    "func_cifti_sm0 = os.path.join(hcp_data_dir, subid, 'MNINonLinear', 'Results', 'rest_test1', 'rest_test1_Atlas_s0.dtseries.nii')\n",
    "func_cifti_smoothed = os.path.join(hcp_data_dir, subid, 'MNINonLinear', 'Results', 'rest_test1', 'rest_test1_Atlas_s{}.dtseries.nii'.format(smoothing))\n",
    "atlas_vol =  os.path.join(hcp_data_dir, subid, 'MNINonLinear', 'wmparc.nii.gz')\n",
    "seed_corr_dir = os.path.join(new_outputs, 'ciftify_seed_corr')\n",
    "if not os.path.exists(seed_corr_dir):\n",
    "    run(['mkdir', '-p', seed_corr_dir])\n",
    "cifti_mask = os.path.join(seed_corr_dir, '{}_func_mask.dscalar.nii'.format(subid))\n",
    "run(['wb_command', '-cifti-math', \"'(x > 0)'\", cifti_mask,\n",
    "    '-var', 'x', func_cifti_sm0, '-select', '1', '1'])"
   ]
  },
  {
   "cell_type": "code",
   "execution_count": null,
   "metadata": {
    "collapsed": true,
    "scrolled": true
   },
   "outputs": [],
   "source": [
    "### All results\n",
    "# ciftify_peaktable - with va input\n",
    "# cifti_vis_map\n",
    "run(['extract_nuisance_regressors', \n",
    "     os.path.join(hcp_data_dir, subid, 'MNINonLinear'), \n",
    "     func_vol])\n"
   ]
  },
  {
   "cell_type": "code",
   "execution_count": 10,
   "metadata": {},
   "outputs": [
    {
     "name": "stderr",
     "output_type": "stream",
     "text": [
      "Running: wb_command -volume-label-to-roi /scratch/edickie/ciftify_intergration_tests/run_2017-09-25_py36_sc2017-10-13/hcp/sub-50005/MNINonLinear/wmparc.nii.gz /scratch/edickie/ciftify_intergration_tests/run_2017-09-25_py36_sc2017-10-13/ciftify_seed_corr/sub-50005_LEFT-HIPPOCAMPUS_vol.nii.gz -name LEFT-HIPPOCAMPUS\n"
     ]
    },
    {
     "data": {
      "text/plain": [
       "0"
      ]
     },
     "execution_count": 10,
     "metadata": {},
     "output_type": "execute_result"
    }
   ],
   "source": [
    "hipp_struct = 'LEFT-HIPPOCAMPUS'\n",
    "hipp_vol_seed_mask = os.path.join(seed_corr_dir, '{}_{}_vol.nii.gz'.format(subid, hipp_struct))\n",
    "run(['wb_command', '-volume-label-to-roi', atlas_vol, hipp_vol_seed_mask, '-name', hipp_struct])"
   ]
  },
  {
   "cell_type": "code",
   "execution_count": null,
   "metadata": {
    "collapsed": true,
    "scrolled": true
   },
   "outputs": [],
   "source": [
    "run(['ciftify_seed_corr', '--debug', '--fisher-z', func_vol, hipp_vol_seed_mask])"
   ]
  },
  {
   "cell_type": "code",
   "execution_count": 91,
   "metadata": {},
   "outputs": [],
   "source": [
    "class MeantsTest(object):\n",
    "    def __init__(self, func, seed, subid, sc_type, hcp_data_dir, outputdir = None, extra_args = None, mask = None):\n",
    "        self.func = ciftify.meants.NibInput(func)\n",
    "        self.seed = ciftify.meants.NibInput(seed)\n",
    "        self.mask = mask\n",
    "        self.outputdir = outputdir\n",
    "        self.prefix = self.get_output_prefix(sc_type)\n",
    "        self.result_map, self.result_csv = self.get_result_paths()\n",
    "        self.seed_corr_pass = self.test_ciftify_seed_corr(extra_args)\n",
    "        self.meants_pass = self.test_ciftify_meants(extra_args)\n",
    "        self.vis_map_ran = self.run_vis_map(hcp_data_dir, subid)\n",
    "        self.peaktable_pass = self.run_seedcorr_peaktable()\n",
    "    \n",
    "    def get_output_prefix(self, sc_type):\n",
    "        ''' puts the other info together into an output prefix'''\n",
    "        masked = \"umasked\" if self.mask == None else \"masked\" \n",
    "        prefix = \"{}_{}_{}_{}\".format(self.func.base,\n",
    "                                     self.seed.base,\n",
    "                                     sc_type,\n",
    "                                     masked)\n",
    "        return(prefix)\n",
    "    \n",
    "    def get_result_paths(self):\n",
    "        ''' set outputdir to location of func if not speficified'''\n",
    "        if self.outputdir:\n",
    "            expected_path = self.outputdir\n",
    "            outbase = self.prefix\n",
    "        else:\n",
    "            expected_path = os.path.dirname(self.func.path)\n",
    "            outbase = '{}_{}'.format(self.func.base, self.seed.base)\n",
    "        output_path = os.path.join(expected_path, outbase)\n",
    "        if self.func.type == \"cifti\":\n",
    "           result_map = \"{}.dscalar.nii\".format(output_path)\n",
    "        elif self.func.type == \"nifti\":\n",
    "           result_map = \"{}.nii.gz\".format(output_path)\n",
    "        else:\n",
    "          logger.error(\"func should be nifti or cifti\")\n",
    "        result_csv = \"{}.csv\".format(output_path)\n",
    "        return(result_map, result_csv)\n",
    "    \n",
    "    def test_ciftify_seed_corr(self, extra_args):\n",
    "        '''run ciftify_seed_corr'''\n",
    "        sc_cmd = ['ciftify_seed_corr', self.func.path, self.seed.path]\n",
    "        if extra_args:\n",
    "            sc_cmd.insert(1, extra_args)\n",
    "        if self.outputdir:\n",
    "            sc_cmd.insert(1, '--outputname')\n",
    "            sc_cmd.insert(2, self.result_map)\n",
    "        if self.mask:\n",
    "            sc_cmd.insert(1, '--mask')\n",
    "            sc_cmd.insert(2, self.mask)\n",
    "        run(sc_cmd)\n",
    "        return(os.path.exists(self.result_map))\n",
    "    \n",
    "    def test_ciftify_meants(self, extra_args):\n",
    "        ''' runs ciftify_meants'''\n",
    "        meants_cmd = ['ciftify_meants', self.func.path, self.seed.path]\n",
    "        if extra_args:\n",
    "            meants_cmd.insert(1, extra_args)\n",
    "        if self.outputdir:\n",
    "            meants_cmd.insert(1, '--outputcsv')\n",
    "            meants_cmd.insert(2, self.result_csv)\n",
    "        if self.mask:\n",
    "            meants_cmd.insert(1, '--mask')\n",
    "            meants_cmd.insert(2, self.mask)\n",
    "        run(meants_cmd)\n",
    "        return(os.path.exists(self.result_csv))\n",
    "        \n",
    "    def run_vis_map(self, hcp_data_dir, subid):\n",
    "        ''' runs vis map to make visual of this process'''\n",
    "        run(['cifti_vis_map', '{}-snaps'.format(self.func.type), \n",
    "             '--hcp-data-dir', hcp_data_dir, \n",
    "             self.result_map, \n",
    "             subid, \n",
    "             self.prefix])\n",
    "        return(True)\n",
    "\n",
    "    def run_seedcorr_peaktable(self):\n",
    "        ''' runs peaktable with correlation style threshold'''\n",
    "        run(['ciftify_peaktable',  \n",
    "             '--min-threshold', '-0.5', \n",
    "             '--max-threshold', '0.5', \n",
    "             '--no-cluster-dlabel', \n",
    "             self.result_map])\n",
    "        return(True)\n",
    "    \n",
    "    "
   ]
  },
  {
   "cell_type": "code",
   "execution_count": 15,
   "metadata": {
    "scrolled": true
   },
   "outputs": [
    {
     "name": "stderr",
     "output_type": "stream",
     "text": [
      "Running: ciftify_meants --debug /scratch/edickie/ciftify_intergration_tests/run_2017-09-25_py36_sc2017-10-13/hcp/sub-50005/MNINonLinear/Results/rest_test1/rest_test1.nii.gz /scratch/edickie/ciftify_intergration_tests/run_2017-09-25_py36_sc2017-10-13/ciftify_seed_corr/sub-50005_LEFT-HIPPOCAMPUS_vol.nii.gz\n",
      "\n",
      "\n",
      "            .|';   ||          .|';\n",
      "       ''   ||     ||     ''   ||\n",
      ".|'',  ||  '||'  ''||''   ||  '||'  '||  ||`\n",
      "||     ||   ||     ||     ||   ||    `|..||\n",
      "`|..' .||. .||.    `|..' .||. .||.       ||\n",
      "                                      ,  |'\n",
      "                                       ''   \n",
      "-------------------------------------------------------------\n",
      "2017-10-13 17:32:06.432133 : Starting ciftify_meants\n",
      "-------------------------------------------------------------\n",
      "\n",
      "Arguments:\n",
      "    !!python/object/new:docopt.Dict\n",
      "    dictitems:\n",
      "      --debug: true\n",
      "      --help: false\n",
      "      --hemi: null\n",
      "      --mask: null\n",
      "      --outputcsv: null\n",
      "      --outputlabels: null\n",
      "      --roi-label: null\n",
      "      --verbose: false\n",
      "      --weighted: false\n",
      "      <func>: /scratch/edickie/ciftify_intergration_tests/run_2017-09-25_py36_sc2017-10-13/hcp/sub-50005/MNINonLinear/Results/rest_test1/rest_test1.nii.gz\n",
      "      <seed>: /scratch/edickie/ciftify_intergration_tests/run_2017-09-25_py36_sc2017-10-13/ciftify_seed_corr/sub-50005_LEFT-HIPPOCAMPUS_vol.nii.gz\n",
      "    \n",
      "\n",
      "-------------------------------------------------------------\n",
      "2017-10-13 17:32:14.424885 : Done ciftify_meants\n",
      "-------------------------------------------------------------\n",
      "\n",
      "\n"
     ]
    },
    {
     "data": {
      "text/plain": [
       "0"
      ]
     },
     "execution_count": 15,
     "metadata": {},
     "output_type": "execute_result"
    }
   ],
   "source": [
    "run(['ciftify_meants', '--debug', func_vol, hipp_vol_seed_mask])"
   ]
  },
  {
   "cell_type": "code",
   "execution_count": 9,
   "metadata": {},
   "outputs": [
    {
     "name": "stderr",
     "output_type": "stream",
     "text": [
      "Running: cifti_vis_map nifti-snaps --hcp-data-dir /scratch/edickie/ciftify_intergration_tests/run_2017-09-25_py36_sc2017-10-13/hcp /scratch/edickie/ciftify_intergration_tests/run_2017-09-25_py36_sc2017-10-13/hcp/sub-50005/MNINonLinear/Results/rest_test1/rest_test1_sub-50005_LEFT-HIPPOCAMPUS_vol.nii.gz sub-50005 sub-50005_LEFT-HIPPOCAMPUS_niftitoniftiZ_unmasked\n"
     ]
    },
    {
     "data": {
      "text/plain": [
       "0"
      ]
     },
     "execution_count": 9,
     "metadata": {},
     "output_type": "execute_result"
    }
   ],
   "source": [
    "run(['cifti_vis_map', 'nifti-snaps', '--hcp-data-dir', \n",
    "     hcp_data_dir, \n",
    "     seed_corr_default_out(func_vol, hipp_vol_seed_mask),\n",
    "     subid, \n",
    "     '{}_{}_niftitoniftiZ_unmasked'.format(subid, hipp_struct)])"
   ]
  },
  {
   "cell_type": "code",
   "execution_count": 13,
   "metadata": {},
   "outputs": [
    {
     "name": "stderr",
     "output_type": "stream",
     "text": [
      "Running: ciftify_meants --outputcsv /scratch/edickie/ciftify_intergration_tests/run_2017-09-25_py36_sc2017-10-13/ciftify_seed_corr/sub-50005_LEFT-HIPPOCAMPUS_niftitoniftiZ_masked.csv --mask /scratch/edickie/ciftify_intergration_tests/run_2017-09-25_py36_sc2017-10-13/hcp/sub-50005/MNINonLinear/brainmask_fs.nii.gz /scratch/edickie/ciftify_intergration_tests/run_2017-09-25_py36_sc2017-10-13/hcp/sub-50005/MNINonLinear/Results/rest_test1/rest_test1.nii.gz /scratch/edickie/ciftify_intergration_tests/run_2017-09-25_py36_sc2017-10-13/ciftify_seed_corr/sub-50005_LEFT-HIPPOCAMPUS_vol.nii.gz\n"
     ]
    },
    {
     "data": {
      "text/plain": [
       "0"
      ]
     },
     "execution_count": 13,
     "metadata": {},
     "output_type": "execute_result"
    }
   ],
   "source": [
    "run(['ciftify_meants',\n",
    "     '--outputcsv', os.path.join(seed_corr_dir, '{}_{}_niftitoniftiZ_masked.csv'.format(subid, hipp_struct)),\n",
    "     '--mask', os.path.join(hcp_data_dir, subid, 'MNINonLinear', 'brainmask_fs.nii.gz'),\n",
    "     func_vol, hipp_vol_seed_mask])"
   ]
  },
  {
   "cell_type": "code",
   "execution_count": 13,
   "metadata": {},
   "outputs": [
    {
     "name": "stderr",
     "output_type": "stream",
     "text": [
      "Running: ciftify_meants --outputcsv /scratch/edickie/ciftify_intergration_tests/run_2017-09-25_py36_sc2017-10-13/ciftify_seed_corr/sub-50005_LEFT-HIPPOCAMPUS_niftitoniftiZ_masked.csv --mask /scratch/edickie/ciftify_intergration_tests/run_2017-09-25_py36_sc2017-10-13/hcp/sub-50005/MNINonLinear/brainmask_fs.nii.gz /scratch/edickie/ciftify_intergration_tests/run_2017-09-25_py36_sc2017-10-13/hcp/sub-50005/MNINonLinear/Results/rest_test1/rest_test1.nii.gz /scratch/edickie/ciftify_intergration_tests/run_2017-09-25_py36_sc2017-10-13/ciftify_seed_corr/sub-50005_LEFT-HIPPOCAMPUS_vol.nii.gz\n"
     ]
    },
    {
     "data": {
      "text/plain": [
       "0"
      ]
     },
     "execution_count": 13,
     "metadata": {},
     "output_type": "execute_result"
    }
   ],
   "source": [
    "run(['ciftify_meants',\n",
    "     '--outputcsv', os.path.join(seed_corr_dir, '{}_{}_niftitoniftiZ_masked.csv'.format(subid, hipp_struct)),\n",
    "     '--mask', os.path.join(hcp_data_dir, subid, 'MNINonLinear', 'brainmask_fs.nii.gz'),\n",
    "     func_vol, hipp_vol_seed_mask])"
   ]
  },
  {
   "cell_type": "code",
   "execution_count": 11,
   "metadata": {},
   "outputs": [
    {
     "name": "stderr",
     "output_type": "stream",
     "text": [
      "Running: ciftify_seed_corr --fisher-z --outputname /scratch/edickie/ciftify_intergration_tests/run_2017-09-25_py36_sc2017-10-13/ciftify_seed_corr/sub-50005_LEFT-HIPPOCAMPUS_niftitoniftiZ_masked.nii.gz --mask /scratch/edickie/ciftify_intergration_tests/run_2017-09-25_py36_sc2017-10-13/hcp/sub-50005/MNINonLinear/brainmask_fs.nii.gz /scratch/edickie/ciftify_intergration_tests/run_2017-09-25_py36_sc2017-10-13/hcp/sub-50005/MNINonLinear/Results/rest_test1/rest_test1.nii.gz /scratch/edickie/ciftify_intergration_tests/run_2017-09-25_py36_sc2017-10-13/ciftify_seed_corr/sub-50005_LEFT-HIPPOCAMPUS_vol.nii.gz\n",
      "Running: cifti_vis_map nifti-snaps --hcp-data-dir /scratch/edickie/ciftify_intergration_tests/run_2017-09-25_py36_sc2017-10-13/hcp /scratch/edickie/ciftify_intergration_tests/run_2017-09-25_py36_sc2017-10-13/ciftify_seed_corr/sub-50005_LEFT-HIPPOCAMPUS_niftitoniftiZ_masked.nii.gz sub-50005 sub-50005_LEFT-HIPPOCAMPUS_niftitonifti_masked\n"
     ]
    },
    {
     "data": {
      "text/plain": [
       "0"
      ]
     },
     "execution_count": 11,
     "metadata": {},
     "output_type": "execute_result"
    }
   ],
   "source": [
    "run(['ciftify_seed_corr', '--fisher-z',\n",
    "     '--outputname', os.path.join(seed_corr_dir, '{}_{}_niftitoniftiZ_masked.nii.gz'.format(subid, hipp_struct)),\n",
    "     '--mask', os.path.join(hcp_data_dir, subid, 'MNINonLinear', 'brainmask_fs.nii.gz'),\n",
    "     func_vol, hipp_vol_seed_mask])\n",
    "\n",
    "run(['cifti_vis_map', 'nifti-snaps', '--hcp-data-dir', \n",
    "     hcp_data_dir, \n",
    "     os.path.join(seed_corr_dir, '{}_{}_niftitoniftiZ_masked.nii.gz'.format(subid, hipp_struct)),\n",
    "     subid, \n",
    "     '{}_{}_niftitonifti_masked'.format(subid, hipp_struct)])"
   ]
  },
  {
   "cell_type": "code",
   "execution_count": 14,
   "metadata": {},
   "outputs": [
    {
     "name": "stderr",
     "output_type": "stream",
     "text": [
      "Running: ciftify_seed_corr --fisher-z /scratch/edickie/ciftify_intergration_tests/run_2017-09-25_py36_sc2017-10-13/hcp/sub-50005/MNINonLinear/Results/rest_test1/rest_test1_Atlas_s12.dtseries.nii /scratch/edickie/ciftify_intergration_tests/run_2017-09-25_py36_sc2017-10-13/ciftify_seed_corr/sub-50005_LEFT-HIPPOCAMPUS_vol.nii.gz\n",
      "Running: ciftify_meants /scratch/edickie/ciftify_intergration_tests/run_2017-09-25_py36_sc2017-10-13/hcp/sub-50005/MNINonLinear/Results/rest_test1/rest_test1_Atlas_s12.dtseries.nii /scratch/edickie/ciftify_intergration_tests/run_2017-09-25_py36_sc2017-10-13/ciftify_seed_corr/sub-50005_LEFT-HIPPOCAMPUS_vol.nii.gz\n",
      "Running: cifti_vis_map cifti-snaps --hcp-data-dir /scratch/edickie/ciftify_intergration_tests/run_2017-09-25_py36_sc2017-10-13/hcp /scratch/edickie/ciftify_intergration_tests/run_2017-09-25_py36_sc2017-10-13/hcp/sub-50005/MNINonLinear/Results/rest_test1/rest_test1_Atlas_s12_sub-50005_LEFT-HIPPOCAMPUS_vol.dscalar.nii sub-50005 sub-50005_LEFT-HIPPOCAMPUS_niftitociftiZ_unmasked\n",
      "Running: ciftify_peaktable --min-threshold -0.5 --max-threshold 0.5 --no-cluster-dlabel /scratch/edickie/ciftify_intergration_tests/run_2017-09-25_py36_sc2017-10-13/hcp/sub-50005/MNINonLinear/Results/rest_test1/rest_test1_Atlas_s12_sub-50005_LEFT-HIPPOCAMPUS_vol.dscalar.nii\n"
     ]
    }
   ],
   "source": [
    "run(['ciftify_seed_corr', '--fisher-z', func_cifti_smoothed, hipp_vol_seed_mask])\n",
    "\n",
    "run(['ciftify_meants', func_cifti_smoothed, hipp_vol_seed_mask])\n",
    "\n",
    "run(['cifti_vis_map', 'cifti-snaps', '--hcp-data-dir', \n",
    "     hcp_data_dir, \n",
    "     seed_corr_default_out(func_cifti_smoothed, hipp_vol_seed_mask),\n",
    "     subid, \n",
    "     '{}_{}_niftitociftiZ_unmasked'.format(subid, hipp_struct)])\n",
    "\n",
    "run_seedcorr_peaktable(seed_corr_default_out(func_cifti_smoothed, hipp_vol_seed_mask))"
   ]
  },
  {
   "cell_type": "code",
   "execution_count": 19,
   "metadata": {
    "scrolled": true
   },
   "outputs": [
    {
     "name": "stderr",
     "output_type": "stream",
     "text": [
      "Running: ciftify_seed_corr --fisher-z --outputname /scratch/edickie/ciftify_intergration_tests/run_2017-09-25_py36_sc2017-10-13/ciftify_seed_corr/sub-50005_LEFT-HIPPOCAMPUS_niftitociftiZ_masked.dscalar.nii --mask /scratch/edickie/ciftify_intergration_tests/run_2017-09-25_py36_sc2017-10-13/ciftify_seed_corr/sub-50005_func_mask.dscalar.nii /scratch/edickie/ciftify_intergration_tests/run_2017-09-25_py36_sc2017-10-13/hcp/sub-50005/MNINonLinear/Results/rest_test1/rest_test1_Atlas_s12.dtseries.nii /scratch/edickie/ciftify_intergration_tests/run_2017-09-25_py36_sc2017-10-13/ciftify_seed_corr/sub-50005_LEFT-HIPPOCAMPUS_vol.nii.gz\n",
      "Running: ciftify_meants --outputcsv /scratch/edickie/ciftify_intergration_tests/run_2017-09-25_py36_sc2017-10-13/ciftify_seed_corr/sub-50005_LEFT-HIPPOCAMPUS_niftitociftiZ_masked.csv --mask /scratch/edickie/ciftify_intergration_tests/run_2017-09-25_py36_sc2017-10-13/ciftify_seed_corr/sub-50005_func_mask.dscalar.nii /scratch/edickie/ciftify_intergration_tests/run_2017-09-25_py36_sc2017-10-13/hcp/sub-50005/MNINonLinear/Results/rest_test1/rest_test1_Atlas_s12.dtseries.nii /scratch/edickie/ciftify_intergration_tests/run_2017-09-25_py36_sc2017-10-13/ciftify_seed_corr/sub-50005_LEFT-HIPPOCAMPUS_vol.nii.gz\n",
      "Running: cifti_vis_map cifti-snaps --hcp-data-dir /scratch/edickie/ciftify_intergration_tests/run_2017-09-25_py36_sc2017-10-13/hcp /scratch/edickie/ciftify_intergration_tests/run_2017-09-25_py36_sc2017-10-13/ciftify_seed_corr/sub-50005_LEFT-HIPPOCAMPUS_niftitociftiZ_masked.dscalar.nii sub-50005 sub-50005_LEFT-HIPPOCAMPUS_niftitociftiZ_masked\n",
      "Running: ciftify_peaktable --min-threshold -0.5 --max-threshold 0.5 --no-cluster-dlabel /scratch/edickie/ciftify_intergration_tests/run_2017-09-25_py36_sc2017-10-13/ciftify_seed_corr/sub-50005_LEFT-HIPPOCAMPUS_niftitociftiZ_masked.dscalar.nii\n"
     ]
    }
   ],
   "source": [
    "run(['ciftify_seed_corr', '--fisher-z',\n",
    "     '--outputname', os.path.join(seed_corr_dir, '{}_{}_niftitociftiZ_masked.dscalar.nii'.format(subid, hipp_struct)),\n",
    "     '--mask', cifti_mask,\n",
    "     func_cifti_smoothed, hipp_vol_seed_mask])\n",
    "\n",
    "run(['ciftify_meants',\n",
    "     '--outputcsv', os.path.join(seed_corr_dir, '{}_{}_niftitociftiZ_masked.csv'.format(subid, hipp_struct)),\n",
    "     '--mask', cifti_mask,\n",
    "     func_cifti_smoothed, hipp_vol_seed_mask])\n",
    "\n",
    "subid = subids[0]\n",
    "run(['cifti_vis_map', 'cifti-snaps', '--hcp-data-dir', hcp_data_dir, \n",
    "     os.path.join(seed_corr_dir, '{}_{}_niftitociftiZ_masked.dscalar.nii'.format(subid, hipp_struct)),\n",
    "     subid, \n",
    "     '{}_{}_niftitociftiZ_masked'.format(subid, hipp_struct)])\n",
    "run_seedcorr_peaktable(os.path.join(seed_corr_dir, '{}_{}_niftitociftiZ_masked.dscalar.nii'.format(subid, hipp_struct)))\n"
   ]
  },
  {
   "cell_type": "code",
   "execution_count": 20,
   "metadata": {},
   "outputs": [
    {
     "name": "stderr",
     "output_type": "stream",
     "text": [
      "Running: wb_command -volume-label-to-roi /scratch/edickie/ciftify_intergration_tests/run_2017-09-25_py36_sc2017-10-13/hcp/sub-50005/MNINonLinear/wmparc.nii.gz /scratch/edickie/ciftify_intergration_tests/run_2017-09-25_py36_sc2017-10-13/ciftify_seed_corr/sub-50005_RIGHT-PUTAMEN_vol.nii.gz -name RIGHT-PUTAMEN\n"
     ]
    },
    {
     "data": {
      "text/plain": [
       "0"
      ]
     },
     "execution_count": 20,
     "metadata": {},
     "output_type": "execute_result"
    }
   ],
   "source": [
    "struct = 'RIGHT-PUTAMEN'\n",
    "putamen_vol_seed_mask = os.path.join(seed_corr_dir, '{}_{}_vol.nii.gz'.format(subid, struct))\n",
    "run(['wb_command', '-volume-label-to-roi', atlas_vol, putamen_vol_seed_mask, '-name', struct])"
   ]
  },
  {
   "cell_type": "code",
   "execution_count": 21,
   "metadata": {
    "scrolled": true
   },
   "outputs": [
    {
     "name": "stderr",
     "output_type": "stream",
     "text": [
      "Running: ciftify_seed_corr /scratch/edickie/ciftify_intergration_tests/run_2017-09-25_py36_sc2017-10-13/hcp/sub-50005/MNINonLinear/Results/rest_test1/rest_test1.nii.gz /scratch/edickie/ciftify_intergration_tests/run_2017-09-25_py36_sc2017-10-13/ciftify_seed_corr/sub-50005_RIGHT-PUTAMEN_vol.nii.gz\n",
      "Running: ciftify_meants /scratch/edickie/ciftify_intergration_tests/run_2017-09-25_py36_sc2017-10-13/hcp/sub-50005/MNINonLinear/Results/rest_test1/rest_test1.nii.gz /scratch/edickie/ciftify_intergration_tests/run_2017-09-25_py36_sc2017-10-13/ciftify_seed_corr/sub-50005_RIGHT-PUTAMEN_vol.nii.gz\n",
      "Running: cifti_vis_map nifti-snaps --hcp-data-dir /scratch/edickie/ciftify_intergration_tests/run_2017-09-25_py36_sc2017-10-13/hcp /scratch/edickie/ciftify_intergration_tests/run_2017-09-25_py36_sc2017-10-13/hcp/sub-50005/MNINonLinear/Results/rest_test1/rest_test1_sub-50005_RIGHT-PUTAMEN_vol.nii.gz sub-50005 sub-50005_RIGHT-PUTAMEN_niftitonifti_unmasked\n"
     ]
    },
    {
     "data": {
      "text/plain": [
       "0"
      ]
     },
     "execution_count": 21,
     "metadata": {},
     "output_type": "execute_result"
    }
   ],
   "source": [
    "run(['ciftify_seed_corr', func_vol, putamen_vol_seed_mask])\n",
    "run(['ciftify_meants', func_vol, putamen_vol_seed_mask])\n",
    "run(['cifti_vis_map', 'nifti-snaps', '--hcp-data-dir', \n",
    "     hcp_data_dir, \n",
    "     seed_corr_default_out(func_vol, putamen_vol_seed_mask),\n",
    "     subid, \n",
    "     '{}_{}_niftitonifti_unmasked'.format(subid, struct)])"
   ]
  },
  {
   "cell_type": "code",
   "execution_count": 22,
   "metadata": {},
   "outputs": [
    {
     "name": "stderr",
     "output_type": "stream",
     "text": [
      "Running: ciftify_seed_corr --outputname /scratch/edickie/ciftify_intergration_tests/run_2017-09-25_py36_sc2017-10-13/ciftify_seed_corr/sub-50005_RIGHT-PUTAMEN_niftitonifti_masked.nii.gz --mask /scratch/edickie/ciftify_intergration_tests/run_2017-09-25_py36_sc2017-10-13/hcp/sub-50005/MNINonLinear/brainmask_fs.nii.gz /scratch/edickie/ciftify_intergration_tests/run_2017-09-25_py36_sc2017-10-13/hcp/sub-50005/MNINonLinear/Results/rest_test1/rest_test1.nii.gz /scratch/edickie/ciftify_intergration_tests/run_2017-09-25_py36_sc2017-10-13/ciftify_seed_corr/sub-50005_RIGHT-PUTAMEN_vol.nii.gz\n",
      "Running: ciftify_meants --outputcsv /scratch/edickie/ciftify_intergration_tests/run_2017-09-25_py36_sc2017-10-13/ciftify_seed_corr/sub-50005_RIGHT-PUTAMEN_niftitonifti_masked.csv --mask /scratch/edickie/ciftify_intergration_tests/run_2017-09-25_py36_sc2017-10-13/hcp/sub-50005/MNINonLinear/brainmask_fs.nii.gz /scratch/edickie/ciftify_intergration_tests/run_2017-09-25_py36_sc2017-10-13/hcp/sub-50005/MNINonLinear/Results/rest_test1/rest_test1.nii.gz /scratch/edickie/ciftify_intergration_tests/run_2017-09-25_py36_sc2017-10-13/ciftify_seed_corr/sub-50005_RIGHT-PUTAMEN_vol.nii.gz\n",
      "Running: cifti_vis_map nifti-snaps --hcp-data-dir /scratch/edickie/ciftify_intergration_tests/run_2017-09-25_py36_sc2017-10-13/hcp /scratch/edickie/ciftify_intergration_tests/run_2017-09-25_py36_sc2017-10-13/ciftify_seed_corr/sub-50005_RIGHT-PUTAMEN_niftitonifti_masked.nii.gz sub-50005 sub-50005_RIGHT-PUTAMEN_niftitonifti_masked\n"
     ]
    },
    {
     "data": {
      "text/plain": [
       "0"
      ]
     },
     "execution_count": 22,
     "metadata": {},
     "output_type": "execute_result"
    }
   ],
   "source": [
    "run(['ciftify_seed_corr',\n",
    "     '--outputname', os.path.join(seed_corr_dir, '{}_{}_niftitonifti_masked.nii.gz'.format(subid, struct)),\n",
    "     '--mask', os.path.join(hcp_data_dir, subid, 'MNINonLinear', 'brainmask_fs.nii.gz'),\n",
    "     func_vol, putamen_vol_seed_mask])\n",
    "\n",
    "run(['ciftify_meants',\n",
    "     '--outputcsv', os.path.join(seed_corr_dir, '{}_{}_niftitonifti_masked.csv'.format(subid, struct)),\n",
    "     '--mask', os.path.join(hcp_data_dir, subid, 'MNINonLinear', 'brainmask_fs.nii.gz'),\n",
    "     func_vol, putamen_vol_seed_mask])\n",
    "\n",
    "run(['cifti_vis_map', 'nifti-snaps', '--hcp-data-dir', \n",
    "     hcp_data_dir, \n",
    "     os.path.join(seed_corr_dir, '{}_{}_niftitonifti_masked.nii.gz'.format(subid, struct)),\n",
    "     subid, \n",
    "     '{}_{}_niftitonifti_masked'.format(subid, struct)])"
   ]
  },
  {
   "cell_type": "code",
   "execution_count": 23,
   "metadata": {},
   "outputs": [
    {
     "name": "stderr",
     "output_type": "stream",
     "text": [
      "Running: ciftify_seed_corr /scratch/edickie/ciftify_intergration_tests/run_2017-09-25_py36_sc2017-10-13/hcp/sub-50005/MNINonLinear/Results/rest_test1/rest_test1_Atlas_s12.dtseries.nii /scratch/edickie/ciftify_intergration_tests/run_2017-09-25_py36_sc2017-10-13/ciftify_seed_corr/sub-50005_RIGHT-PUTAMEN_vol.nii.gz\n",
      "Running: ciftify_meants /scratch/edickie/ciftify_intergration_tests/run_2017-09-25_py36_sc2017-10-13/hcp/sub-50005/MNINonLinear/Results/rest_test1/rest_test1_Atlas_s12.dtseries.nii /scratch/edickie/ciftify_intergration_tests/run_2017-09-25_py36_sc2017-10-13/ciftify_seed_corr/sub-50005_RIGHT-PUTAMEN_vol.nii.gz\n",
      "Running: cifti_vis_map cifti-snaps --hcp-data-dir /scratch/edickie/ciftify_intergration_tests/run_2017-09-25_py36_sc2017-10-13/hcp /scratch/edickie/ciftify_intergration_tests/run_2017-09-25_py36_sc2017-10-13/hcp/sub-50005/MNINonLinear/Results/rest_test1/rest_test1_Atlas_s12_sub-50005_RIGHT-PUTAMEN_vol.dscalar.nii sub-50005 sub-50005_RIGHT-PUTAMEN_niftitocifti_unmasked\n",
      "Running: ciftify_peaktable --min-threshold -0.5 --max-threshold 0.5 --no-cluster-dlabel /scratch/edickie/ciftify_intergration_tests/run_2017-09-25_py36_sc2017-10-13/hcp/sub-50005/MNINonLinear/Results/rest_test1/rest_test1_Atlas_s12_sub-50005_RIGHT-PUTAMEN_vol.dscalar.nii\n"
     ]
    }
   ],
   "source": [
    "run(['ciftify_seed_corr', func_cifti_smoothed, putamen_vol_seed_mask])\n",
    "\n",
    "run(['ciftify_meants', func_cifti_smoothed, putamen_vol_seed_mask])\n",
    "\n",
    "run(['cifti_vis_map', 'cifti-snaps', '--hcp-data-dir', \n",
    "     hcp_data_dir, \n",
    "     seed_corr_default_out(func_cifti_smoothed, putamen_vol_seed_mask),\n",
    "     subid, \n",
    "     '{}_{}_niftitocifti_unmasked'.format(subid, struct)])\n",
    "\n",
    "run_seedcorr_peaktable(seed_corr_default_out(func_cifti_smoothed, putamen_vol_seed_mask))"
   ]
  },
  {
   "cell_type": "code",
   "execution_count": 24,
   "metadata": {
    "scrolled": true
   },
   "outputs": [
    {
     "name": "stderr",
     "output_type": "stream",
     "text": [
      "Running: ciftify_seed_corr --outputname /scratch/edickie/ciftify_intergration_tests/run_2017-09-25_py36_sc2017-10-13/ciftify_seed_corr/sub-50005_RIGHT-PUTAMEN_niftitocifti_masked.dscalar.nii --mask /scratch/edickie/ciftify_intergration_tests/run_2017-09-25_py36_sc2017-10-13/ciftify_seed_corr/sub-50005_func_mask.dscalar.nii /scratch/edickie/ciftify_intergration_tests/run_2017-09-25_py36_sc2017-10-13/hcp/sub-50005/MNINonLinear/Results/rest_test1/rest_test1_Atlas_s12.dtseries.nii /scratch/edickie/ciftify_intergration_tests/run_2017-09-25_py36_sc2017-10-13/ciftify_seed_corr/sub-50005_RIGHT-PUTAMEN_vol.nii.gz\n",
      "Running: ciftify_meants --outputcsv /scratch/edickie/ciftify_intergration_tests/run_2017-09-25_py36_sc2017-10-13/ciftify_seed_corr/sub-50005_RIGHT-PUTAMEN_niftitocifti_masked.csv --mask /scratch/edickie/ciftify_intergration_tests/run_2017-09-25_py36_sc2017-10-13/ciftify_seed_corr/sub-50005_func_mask.dscalar.nii /scratch/edickie/ciftify_intergration_tests/run_2017-09-25_py36_sc2017-10-13/hcp/sub-50005/MNINonLinear/Results/rest_test1/rest_test1_Atlas_s12.dtseries.nii /scratch/edickie/ciftify_intergration_tests/run_2017-09-25_py36_sc2017-10-13/ciftify_seed_corr/sub-50005_RIGHT-PUTAMEN_vol.nii.gz\n",
      "Running: cifti_vis_map cifti-snaps --hcp-data-dir /scratch/edickie/ciftify_intergration_tests/run_2017-09-25_py36_sc2017-10-13/hcp /scratch/edickie/ciftify_intergration_tests/run_2017-09-25_py36_sc2017-10-13/ciftify_seed_corr/sub-50005_RIGHT-PUTAMEN_niftitocifti_masked.dscalar.nii sub-50005 sub-50005_RIGHT-PUTAMEN_niftitocifti_masked\n",
      "Running: ciftify_peaktable --min-threshold -0.5 --max-threshold 0.5 --no-cluster-dlabel /scratch/edickie/ciftify_intergration_tests/run_2017-09-25_py36_sc2017-10-13/ciftify_seed_corr/sub-50005_RIGHT-PUTAMEN_niftitocifti_masked.dscalar.nii\n"
     ]
    }
   ],
   "source": [
    "run(['ciftify_seed_corr',\n",
    "     '--outputname', os.path.join(seed_corr_dir, '{}_{}_niftitocifti_masked.dscalar.nii'.format(subid, struct)),\n",
    "     '--mask', cifti_mask,\n",
    "     func_cifti_smoothed, putamen_vol_seed_mask])\n",
    "\n",
    "run(['ciftify_meants',\n",
    "     '--outputcsv', os.path.join(seed_corr_dir, '{}_{}_niftitocifti_masked.csv'.format(subid, struct)),\n",
    "     '--mask', cifti_mask,\n",
    "     func_cifti_smoothed, putamen_vol_seed_mask])\n",
    "\n",
    "subid = subids[0]\n",
    "run(['cifti_vis_map', 'cifti-snaps', '--hcp-data-dir', hcp_data_dir, \n",
    "     os.path.join(seed_corr_dir, '{}_{}_niftitocifti_masked.dscalar.nii'.format(subid, struct)),\n",
    "     subid, \n",
    "     '{}_{}_niftitocifti_masked'.format(subid, struct)])\n",
    "run_seedcorr_peaktable(os.path.join(seed_corr_dir, '{}_{}_niftitocifti_masked.dscalar.nii'.format(subid, struct)))\n"
   ]
  },
  {
   "cell_type": "code",
   "execution_count": 30,
   "metadata": {},
   "outputs": [
    {
     "name": "stderr",
     "output_type": "stream",
     "text": [
      "Running: wb_command -cifti-create-dense-from-template /scratch/edickie/ciftify_intergration_tests/run_2017-09-25_py36_sc2017-10-13/hcp/sub-50005/MNINonLinear/Results/rest_test1/rest_test1_Atlas_s0.dtseries.nii /scratch/edickie/ciftify_intergration_tests/run_2017-09-25_py36_sc2017-10-13/ciftify_seed_corr/sub-50005_RIGHT-PUTAMEN_cifti.dscalar.nii -volume-all /scratch/edickie/ciftify_intergration_tests/run_2017-09-25_py36_sc2017-10-13/ciftify_seed_corr/sub-50005_RIGHT-PUTAMEN_vol.nii.gz\n",
      "Running: ciftify_seed_corr /scratch/edickie/ciftify_intergration_tests/run_2017-09-25_py36_sc2017-10-13/hcp/sub-50005/MNINonLinear/Results/rest_test1/rest_test1_Atlas_s12.dtseries.nii /scratch/edickie/ciftify_intergration_tests/run_2017-09-25_py36_sc2017-10-13/ciftify_seed_corr/sub-50005_RIGHT-PUTAMEN_cifti.dscalar.nii\n"
     ]
    },
    {
     "data": {
      "text/plain": [
       "0"
      ]
     },
     "execution_count": 30,
     "metadata": {},
     "output_type": "execute_result"
    }
   ],
   "source": [
    "func = func_cifti_smoothed\n",
    "seed = os.path.join(seed_corr_dir, '{}_{}_cifti.dscalar.nii'.format(subid, struct))\n",
    "result_type = 'cifti'\n",
    "result_prefix = '{}_{}_ciftitocifti_unmasked'.format(subid, struct)\n",
    "run(['wb_command', '-cifti-create-dense-from-template',\n",
    "     func_cifti_sm0, seed,\n",
    "     '-volume-all', putamen_vol_seed_mask])\n",
    "\n",
    "result_map = seed_corr_default_out(func, seed)\n",
    "run(['ciftify_seed_corr', func, seed]) \n"
   ]
  },
  {
   "cell_type": "code",
   "execution_count": 31,
   "metadata": {},
   "outputs": [
    {
     "name": "stderr",
     "output_type": "stream",
     "text": [
      "Running: ciftify_meants /scratch/edickie/ciftify_intergration_tests/run_2017-09-25_py36_sc2017-10-13/hcp/sub-50005/MNINonLinear/Results/rest_test1/rest_test1_Atlas_s12.dtseries.nii /scratch/edickie/ciftify_intergration_tests/run_2017-09-25_py36_sc2017-10-13/ciftify_seed_corr/sub-50005_RIGHT-PUTAMEN_cifti.dscalar.nii\n",
      "Running: cifti_vis_map cifti-snaps --hcp-data-dir /scratch/edickie/ciftify_intergration_tests/run_2017-09-25_py36_sc2017-10-13/hcp /scratch/edickie/ciftify_intergration_tests/run_2017-09-25_py36_sc2017-10-13/hcp/sub-50005/MNINonLinear/Results/rest_test1/rest_test1_Atlas_s12_sub-50005_RIGHT-PUTAMEN_cifti.dscalar.nii sub-50005 sub-50005_RIGHT-PUTAMEN_ciftitocifti_unmasked\n",
      "Running: ciftify_peaktable --min-threshold -0.5 --max-threshold 0.5 --no-cluster-dlabel /scratch/edickie/ciftify_intergration_tests/run_2017-09-25_py36_sc2017-10-13/hcp/sub-50005/MNINonLinear/Results/rest_test1/rest_test1_Atlas_s12_sub-50005_RIGHT-PUTAMEN_cifti.dscalar.nii\n"
     ]
    }
   ],
   "source": [
    "run(['ciftify_meants', func, seed])\n",
    "run_vis_map(result_map, result_prefix, result_type)\n",
    "run_seedcorr_peaktable(result_map)"
   ]
  },
  {
   "cell_type": "code",
   "execution_count": 32,
   "metadata": {},
   "outputs": [
    {
     "name": "stderr",
     "output_type": "stream",
     "text": [
      "Running: ciftify_seed_corr --outputname /scratch/edickie/ciftify_intergration_tests/run_2017-09-25_py36_sc2017-10-13/ciftify_seed_corr/sub-50005_RIGHT-PUTAMEN_ciftitocifti_30TRs.dscalar.nii --use-TRs /scratch/edickie/ciftify_intergration_tests/run_2017-09-25_py36_sc2017-10-13/rois/TR_file.txt /scratch/edickie/ciftify_intergration_tests/run_2017-09-25_py36_sc2017-10-13/hcp/sub-50005/MNINonLinear/Results/rest_test1/rest_test1_Atlas_s12.dtseries.nii /scratch/edickie/ciftify_intergration_tests/run_2017-09-25_py36_sc2017-10-13/ciftify_seed_corr/sub-50005_RIGHT-PUTAMEN_vol.nii.gz\n",
      "Running: cifti_vis_map cifti-snaps --hcp-data-dir /scratch/edickie/ciftify_intergration_tests/run_2017-09-25_py36_sc2017-10-13/hcp /scratch/edickie/ciftify_intergration_tests/run_2017-09-25_py36_sc2017-10-13/ciftify_seed_corr/sub-50005_RIGHT-PUTAMEN_ciftitocifti_30TRs.dscalar.nii sub-50005 sub-50005_RIGHT-PUTAMEN_ciftitocifti_30TRs\n",
      "Running: ciftify_peaktable --min-threshold -0.5 --max-threshold 0.5 --no-cluster-dlabel /scratch/edickie/ciftify_intergration_tests/run_2017-09-25_py36_sc2017-10-13/ciftify_seed_corr/sub-50005_RIGHT-PUTAMEN_ciftitocifti_30TRs.dscalar.nii\n"
     ]
    }
   ],
   "source": [
    "result_map = os.path.join(seed_corr_dir, '{}_{}_ciftitocifti_30TRs.dscalar.nii'.format(subid, struct))\n",
    "result_type = 'cifti'\n",
    "result_prefix = '{}_{}_ciftitocifti_30TRs'.format(subid, struct)\n",
    "\n",
    "TR_file = os.path.join(new_outputs, 'rois','TR_file.txt')\n",
    "with open(TR_file, \"w\") as text_file:\n",
    "    text_file.write('''1 2 3 4 5 6 7 8 9 10 11 12 13 14 15 16 17 18 19 20 21 22 23 24 25 26 27 28 29 30''')\n",
    "\n",
    "run(['ciftify_seed_corr',\n",
    "     '--outputname', result_map,\n",
    "     '--use-TRs', TR_file,\n",
    "     func_cifti_smoothed, putamen_vol_seed_mask])\n",
    "run_vis_map(result_map, result_prefix, result_type)\n",
    "run_seedcorr_peaktable(result_map)"
   ]
  },
  {
   "cell_type": "code",
   "execution_count": 33,
   "metadata": {},
   "outputs": [
    {
     "name": "stderr",
     "output_type": "stream",
     "text": [
      "Running: ciftify_seed_corr --outputname /scratch/edickie/ciftify_intergration_tests/run_2017-09-25_py36_sc2017-10-13/ciftify_seed_corr/sub-50005_RIGHT-PUTAMEN_ciftitocifti_masked.dscalar.nii --mask /scratch/edickie/ciftify_intergration_tests/run_2017-09-25_py36_sc2017-10-13/ciftify_seed_corr/sub-50005_func_mask.dscalar.nii /scratch/edickie/ciftify_intergration_tests/run_2017-09-25_py36_sc2017-10-13/hcp/sub-50005/MNINonLinear/Results/rest_test1/rest_test1_Atlas_s12.dtseries.nii /scratch/edickie/ciftify_intergration_tests/run_2017-09-25_py36_sc2017-10-13/ciftify_seed_corr/sub-50005_RIGHT-PUTAMEN_cifti.dscalar.nii\n",
      "Running: cifti_vis_map cifti-snaps --hcp-data-dir /scratch/edickie/ciftify_intergration_tests/run_2017-09-25_py36_sc2017-10-13/hcp /scratch/edickie/ciftify_intergration_tests/run_2017-09-25_py36_sc2017-10-13/ciftify_seed_corr/sub-50005_RIGHT-PUTAMEN_ciftitocifti_masked.dscalar.nii sub-50005 sub-50005_RIGHT-PUTAMEN_ciftitocifti_masked\n",
      "Running: ciftify_peaktable --min-threshold -0.5 --max-threshold 0.5 --no-cluster-dlabel /scratch/edickie/ciftify_intergration_tests/run_2017-09-25_py36_sc2017-10-13/ciftify_seed_corr/sub-50005_RIGHT-PUTAMEN_ciftitocifti_masked.dscalar.nii\n"
     ]
    }
   ],
   "source": [
    "result_map = os.path.join(seed_corr_dir, '{}_{}_ciftitocifti_masked.dscalar.nii'.format(subid, struct))\n",
    "result_type = 'cifti'\n",
    "result_prefix = '{}_{}_ciftitocifti_masked'.format(subid, struct)\n",
    "\n",
    "run(['ciftify_seed_corr',     \n",
    "     '--outputname', result_map,\n",
    "     '--mask', cifti_mask,\n",
    "     func_cifti_smoothed, \n",
    "    os.path.join(seed_corr_dir, '{}_{}_cifti.dscalar.nii'.format(subid, struct))])\n",
    "\n",
    "run_vis_map(result_map, result_prefix, result_type)\n",
    "run_seedcorr_peaktable(result_map)"
   ]
  },
  {
   "cell_type": "code",
   "execution_count": 114,
   "metadata": {},
   "outputs": [
    {
     "name": "stderr",
     "output_type": "stream",
     "text": [
      "Running: ciftify_seed_corr --weighted /scratch/edickie/ciftify_intergration_tests/run_2017-09-25_py36_sc2017-10-13/hcp/sub-50005/MNINonLinear/Results/rest_test1/rest_test1_Atlas_s12.dtseries.nii /scratch/edickie/ciftify_intergration_tests/run_2017-09-25_py36_sc2017-10-13/rois/gaussian_roi.dscalar.nii\n",
      "Running: ciftify_meants --weighted /scratch/edickie/ciftify_intergration_tests/run_2017-09-25_py36_sc2017-10-13/hcp/sub-50005/MNINonLinear/Results/rest_test1/rest_test1_Atlas_s12.dtseries.nii /scratch/edickie/ciftify_intergration_tests/run_2017-09-25_py36_sc2017-10-13/rois/gaussian_roi.dscalar.nii\n",
      "Running: cifti_vis_map cifti-snaps --hcp-data-dir /scratch/edickie/ciftify_intergration_tests/run_2017-09-25_py36_sc2017-10-13/hcp /scratch/edickie/ciftify_intergration_tests/run_2017-09-25_py36_sc2017-10-13/hcp/sub-50005/MNINonLinear/Results/rest_test1/rest_test1_Atlas_s12_gaussian_roi.dscalar.nii sub-50005 rest_test1_Atlas_s12_gaussian_roi_ciftitocifti_umasked\n",
      "Running: ciftify_peaktable --min-threshold -0.5 --max-threshold 0.5 --no-cluster-dlabel /scratch/edickie/ciftify_intergration_tests/run_2017-09-25_py36_sc2017-10-13/hcp/sub-50005/MNINonLinear/Results/rest_test1/rest_test1_Atlas_s12_gaussian_roi.dscalar.nii\n",
      "Running: ciftify_seed_corr --mask /scratch/edickie/ciftify_intergration_tests/run_2017-09-25_py36_sc2017-10-13/ciftify_seed_corr/sub-50005_func_mask.dscalar.nii --outputname /scratch/edickie/ciftify_intergration_tests/run_2017-09-25_py36_sc2017-10-13/ciftify_seed_corr/rest_test1_Atlas_s12_gaussian_roi_ciftitocifti_masked.dscalar.nii --weighted /scratch/edickie/ciftify_intergration_tests/run_2017-09-25_py36_sc2017-10-13/hcp/sub-50005/MNINonLinear/Results/rest_test1/rest_test1_Atlas_s12.dtseries.nii /scratch/edickie/ciftify_intergration_tests/run_2017-09-25_py36_sc2017-10-13/rois/gaussian_roi.dscalar.nii\n",
      "Running: ciftify_meants --mask /scratch/edickie/ciftify_intergration_tests/run_2017-09-25_py36_sc2017-10-13/ciftify_seed_corr/sub-50005_func_mask.dscalar.nii --outputcsv /scratch/edickie/ciftify_intergration_tests/run_2017-09-25_py36_sc2017-10-13/ciftify_seed_corr/rest_test1_Atlas_s12_gaussian_roi_ciftitocifti_masked.csv --weighted /scratch/edickie/ciftify_intergration_tests/run_2017-09-25_py36_sc2017-10-13/hcp/sub-50005/MNINonLinear/Results/rest_test1/rest_test1_Atlas_s12.dtseries.nii /scratch/edickie/ciftify_intergration_tests/run_2017-09-25_py36_sc2017-10-13/rois/gaussian_roi.dscalar.nii\n",
      "Running: cifti_vis_map cifti-snaps --hcp-data-dir /scratch/edickie/ciftify_intergration_tests/run_2017-09-25_py36_sc2017-10-13/hcp /scratch/edickie/ciftify_intergration_tests/run_2017-09-25_py36_sc2017-10-13/ciftify_seed_corr/rest_test1_Atlas_s12_gaussian_roi_ciftitocifti_masked.dscalar.nii sub-50005 rest_test1_Atlas_s12_gaussian_roi_ciftitocifti_masked\n",
      "Running: ciftify_peaktable --min-threshold -0.5 --max-threshold 0.5 --no-cluster-dlabel /scratch/edickie/ciftify_intergration_tests/run_2017-09-25_py36_sc2017-10-13/ciftify_seed_corr/rest_test1_Atlas_s12_gaussian_roi_ciftitocifti_masked.dscalar.nii\n"
     ]
    }
   ],
   "source": [
    "test1 = MeantsTest(func_cifti_smoothed, \n",
    "                   os.path.join(new_outputs, 'rois', 'gaussian_roi.dscalar.nii'), \n",
    "                   subid, \n",
    "                   'ciftitocifti', \n",
    "                   hcp_data_dir, \n",
    "                   outputdir = None, \n",
    "                   extra_args = '--weighted', \n",
    "                   mask = None)\n",
    "\n",
    "test2 = MeantsTest(func_cifti_smoothed, \n",
    "                   os.path.join(new_outputs, 'rois', 'gaussian_roi.dscalar.nii'), \n",
    "                   subid, \n",
    "                   'ciftitocifti', \n",
    "                   hcp_data_dir, \n",
    "                   outputdir = seed_corr_dir, \n",
    "                   extra_args = '--weighted', \n",
    "                   mask = cifti_mask)"
   ]
  },
  {
   "cell_type": "code",
   "execution_count": 40,
   "metadata": {},
   "outputs": [
    {
     "name": "stderr",
     "output_type": "stream",
     "text": [
      "Running: ciftify_seed_corr --weighted --outputname /scratch/edickie/ciftify_intergration_tests/run_2017-09-25_py36_sc2017-10-13/ciftify_seed_corr/sub-50005_gaussian_ciftitocifti_masked.dscalar.nii --mask /scratch/edickie/ciftify_intergration_tests/run_2017-09-25_py36_sc2017-10-13/ciftify_seed_corr/sub-50005_func_mask.dscalar.nii /scratch/edickie/ciftify_intergration_tests/run_2017-09-25_py36_sc2017-10-13/hcp/sub-50005/MNINonLinear/Results/rest_test1/rest_test1_Atlas_s12.dtseries.nii /scratch/edickie/ciftify_intergration_tests/run_2017-09-25_py36_sc2017-10-13/rois/gaussian_roi.dscalar.nii\n",
      "Running: cifti_vis_map cifti-snaps --hcp-data-dir /scratch/edickie/ciftify_intergration_tests/run_2017-09-25_py36_sc2017-10-13/hcp /scratch/edickie/ciftify_intergration_tests/run_2017-09-25_py36_sc2017-10-13/ciftify_seed_corr/sub-50005_gaussian_ciftitocifti_masked.dscalar.nii sub-50005 sub-50005_gaussian_ciftitocifti_masked\n",
      "Running: ciftify_peaktable --min-threshold -0.5 --max-threshold 0.5 --no-cluster-dlabel /scratch/edickie/ciftify_intergration_tests/run_2017-09-25_py36_sc2017-10-13/ciftify_seed_corr/sub-50005_gaussian_ciftitocifti_masked.dscalar.nii\n"
     ]
    }
   ],
   "source": [
    "result_map = os.path.join(seed_corr_dir, '{}_gaussian_ciftitocifti_masked.dscalar.nii'.format(subid))\n",
    "result_type = 'cifti'\n",
    "result_prefix = '{}_gaussian_ciftitocifti_masked'.format(subid)\n",
    "\n",
    "run(['ciftify_seed_corr', '--weighted', \n",
    "     '--outputname', result_map,\n",
    "     '--mask', cifti_mask,\n",
    "     func_cifti_smoothed, \n",
    "     os.path.join(new_outputs, 'rois', 'gaussian_roi.dscalar.nii')])\n",
    "\n",
    "run_vis_map(result_map, result_prefix, result_type)\n",
    "run_seedcorr_peaktable(result_map)"
   ]
  },
  {
   "cell_type": "code",
   "execution_count": 43,
   "metadata": {},
   "outputs": [
    {
     "name": "stderr",
     "output_type": "stream",
     "text": [
      "Running: wb_command -cifti-separate /scratch/edickie/ciftify_intergration_tests/run_2017-09-25_py36_sc2017-10-13/rois/gaussian_roi.dscalar.nii COLUMN -metric CORTEX_LEFT /scratch/edickie/ciftify_intergration_tests/run_2017-09-25_py36_sc2017-10-13/rois/gaussian_L_roi.shape.gii\n",
      "Running: ciftify_seed_corr --weighted --hemi L /scratch/edickie/ciftify_intergration_tests/run_2017-09-25_py36_sc2017-10-13/hcp/sub-50005/MNINonLinear/Results/rest_test1/rest_test1_Atlas_s12.dtseries.nii /scratch/edickie/ciftify_intergration_tests/run_2017-09-25_py36_sc2017-10-13/rois/gaussian_L_roi.shape.gii\n",
      "Running: ciftify_meants --weighted --hemi L /scratch/edickie/ciftify_intergration_tests/run_2017-09-25_py36_sc2017-10-13/hcp/sub-50005/MNINonLinear/Results/rest_test1/rest_test1_Atlas_s12.dtseries.nii /scratch/edickie/ciftify_intergration_tests/run_2017-09-25_py36_sc2017-10-13/rois/gaussian_L_roi.shape.gii\n",
      "Running: cifti_vis_map cifti-snaps --hcp-data-dir /scratch/edickie/ciftify_intergration_tests/run_2017-09-25_py36_sc2017-10-13/hcp /scratch/edickie/ciftify_intergration_tests/run_2017-09-25_py36_sc2017-10-13/hcp/sub-50005/MNINonLinear/Results/rest_test1/rest_test1_Atlas_s12_gaussian_L_roi.dscalar.nii sub-50005 sub-50005_gaussian_giftitocifti_unmasked\n",
      "Running: ciftify_peaktable --min-threshold -0.5 --max-threshold 0.5 --no-cluster-dlabel /scratch/edickie/ciftify_intergration_tests/run_2017-09-25_py36_sc2017-10-13/hcp/sub-50005/MNINonLinear/Results/rest_test1/rest_test1_Atlas_s12_gaussian_L_roi.dscalar.nii\n"
     ]
    }
   ],
   "source": [
    "L_gaussian_roi = os.path.join(new_outputs, 'rois', 'gaussian_L_roi.shape.gii')\n",
    "\n",
    "run(['wb_command', '-cifti-separate', \n",
    "     os.path.join(new_outputs, 'rois', 'gaussian_roi.dscalar.nii'),\n",
    "     'COLUMN','-metric', 'CORTEX_LEFT', L_gaussian_roi])"
   ]
  },
  {
   "cell_type": "code",
   "execution_count": 113,
   "metadata": {},
   "outputs": [
    {
     "name": "stderr",
     "output_type": "stream",
     "text": [
      "Running: ciftify_seed_corr --weighted --hemi L /scratch/edickie/ciftify_intergration_tests/run_2017-09-25_py36_sc2017-10-13/hcp/sub-50005/MNINonLinear/Results/rest_test1/rest_test1_Atlas_s12.dtseries.nii /scratch/edickie/ciftify_intergration_tests/run_2017-09-25_py36_sc2017-10-13/rois/gaussian_L_roi.shape.gii\n",
      "Running: ciftify_meants --weighted --hemi L /scratch/edickie/ciftify_intergration_tests/run_2017-09-25_py36_sc2017-10-13/hcp/sub-50005/MNINonLinear/Results/rest_test1/rest_test1_Atlas_s12.dtseries.nii /scratch/edickie/ciftify_intergration_tests/run_2017-09-25_py36_sc2017-10-13/rois/gaussian_L_roi.shape.gii\n",
      "Running: cifti_vis_map cifti-snaps --hcp-data-dir /scratch/edickie/ciftify_intergration_tests/run_2017-09-25_py36_sc2017-10-13/hcp /scratch/edickie/ciftify_intergration_tests/run_2017-09-25_py36_sc2017-10-13/hcp/sub-50005/MNINonLinear/Results/rest_test1/rest_test1_Atlas_s12_gaussian_L_roi.dscalar.nii sub-50005 rest_test1_Atlas_s12_gaussian_L_roi_giftitocifti_umasked\n",
      "Running: ciftify_peaktable --min-threshold -0.5 --max-threshold 0.5 --no-cluster-dlabel /scratch/edickie/ciftify_intergration_tests/run_2017-09-25_py36_sc2017-10-13/hcp/sub-50005/MNINonLinear/Results/rest_test1/rest_test1_Atlas_s12_gaussian_L_roi.dscalar.nii\n",
      "Running: ciftify_seed_corr --mask /scratch/edickie/ciftify_intergration_tests/run_2017-09-25_py36_sc2017-10-13/ciftify_seed_corr/sub-50005_func_mask.dscalar.nii --outputname /scratch/edickie/ciftify_intergration_tests/run_2017-09-25_py36_sc2017-10-13/ciftify_seed_corr/rest_test1_Atlas_s12_gaussian_L_roi_giftitocifti_masked.dscalar.nii --weighted --hemi L /scratch/edickie/ciftify_intergration_tests/run_2017-09-25_py36_sc2017-10-13/hcp/sub-50005/MNINonLinear/Results/rest_test1/rest_test1_Atlas_s12.dtseries.nii /scratch/edickie/ciftify_intergration_tests/run_2017-09-25_py36_sc2017-10-13/rois/gaussian_L_roi.shape.gii\n",
      "Running: ciftify_meants --mask /scratch/edickie/ciftify_intergration_tests/run_2017-09-25_py36_sc2017-10-13/ciftify_seed_corr/sub-50005_func_mask.dscalar.nii --outputcsv /scratch/edickie/ciftify_intergration_tests/run_2017-09-25_py36_sc2017-10-13/ciftify_seed_corr/rest_test1_Atlas_s12_gaussian_L_roi_giftitocifti_masked.csv --weighted --hemi L /scratch/edickie/ciftify_intergration_tests/run_2017-09-25_py36_sc2017-10-13/hcp/sub-50005/MNINonLinear/Results/rest_test1/rest_test1_Atlas_s12.dtseries.nii /scratch/edickie/ciftify_intergration_tests/run_2017-09-25_py36_sc2017-10-13/rois/gaussian_L_roi.shape.gii\n",
      "Running: cifti_vis_map cifti-snaps --hcp-data-dir /scratch/edickie/ciftify_intergration_tests/run_2017-09-25_py36_sc2017-10-13/hcp /scratch/edickie/ciftify_intergration_tests/run_2017-09-25_py36_sc2017-10-13/ciftify_seed_corr/rest_test1_Atlas_s12_gaussian_L_roi_giftitocifti_masked.dscalar.nii sub-50005 rest_test1_Atlas_s12_gaussian_L_roi_giftitocifti_masked\n",
      "Running: ciftify_peaktable --min-threshold -0.5 --max-threshold 0.5 --no-cluster-dlabel /scratch/edickie/ciftify_intergration_tests/run_2017-09-25_py36_sc2017-10-13/ciftify_seed_corr/rest_test1_Atlas_s12_gaussian_L_roi_giftitocifti_masked.dscalar.nii\n"
     ]
    }
   ],
   "source": [
    "test1 = MeantsTest(func_cifti_smoothed, \n",
    "                   L_gaussian_roi, \n",
    "                   subid, \n",
    "                   'giftitocifti', \n",
    "                   hcp_data_dir, \n",
    "                   outputdir = None, \n",
    "                   extra_args = '--weighted --hemi L', \n",
    "                   mask = None)\n",
    "\n",
    "test1 = MeantsTest(func_cifti_smoothed, \n",
    "                   L_gaussian_roi, \n",
    "                   subid, \n",
    "                   'giftitocifti', \n",
    "                   hcp_data_dir, \n",
    "                   outputdir = seed_corr_dir, \n",
    "                   extra_args = '--weighted --hemi L', \n",
    "                   mask = cifti_mask)"
   ]
  },
  {
   "cell_type": "code",
   "execution_count": 112,
   "metadata": {},
   "outputs": [
    {
     "name": "stderr",
     "output_type": "stream",
     "text": [
      "Running: ciftify_seed_corr --weighted /scratch/edickie/ciftify_intergration_tests/run_2017-09-25_py36_sc2017-10-13/hcp/sub-50005/MNINonLinear/Results/rest_test1/rest_test1_Atlas_s12.dtseries.nii /scratch/edickie/ciftify_intergration_tests/run_2017-09-25_py36_sc2017-10-13/rois/probmap_roi.dscalar.nii\n",
      "Running: ciftify_meants --weighted /scratch/edickie/ciftify_intergration_tests/run_2017-09-25_py36_sc2017-10-13/hcp/sub-50005/MNINonLinear/Results/rest_test1/rest_test1_Atlas_s12.dtseries.nii /scratch/edickie/ciftify_intergration_tests/run_2017-09-25_py36_sc2017-10-13/rois/probmap_roi.dscalar.nii\n",
      "Running: cifti_vis_map cifti-snaps --hcp-data-dir /scratch/edickie/ciftify_intergration_tests/run_2017-09-25_py36_sc2017-10-13/hcp /scratch/edickie/ciftify_intergration_tests/run_2017-09-25_py36_sc2017-10-13/hcp/sub-50005/MNINonLinear/Results/rest_test1/rest_test1_Atlas_s12_probmap_roi.dscalar.nii sub-50005 rest_test1_Atlas_s12_probmap_roi_ciftitocifti_umasked\n",
      "Running: ciftify_peaktable --min-threshold -0.5 --max-threshold 0.5 --no-cluster-dlabel /scratch/edickie/ciftify_intergration_tests/run_2017-09-25_py36_sc2017-10-13/hcp/sub-50005/MNINonLinear/Results/rest_test1/rest_test1_Atlas_s12_probmap_roi.dscalar.nii\n",
      "Running: ciftify_seed_corr --mask /scratch/edickie/ciftify_intergration_tests/run_2017-09-25_py36_sc2017-10-13/ciftify_seed_corr/sub-50005_func_mask.dscalar.nii --outputname /scratch/edickie/ciftify_intergration_tests/run_2017-09-25_py36_sc2017-10-13/ciftify_seed_corr/rest_test1_Atlas_s12_probmap_roi_ciftitocifti_masked.dscalar.nii --weighted /scratch/edickie/ciftify_intergration_tests/run_2017-09-25_py36_sc2017-10-13/hcp/sub-50005/MNINonLinear/Results/rest_test1/rest_test1_Atlas_s12.dtseries.nii /scratch/edickie/ciftify_intergration_tests/run_2017-09-25_py36_sc2017-10-13/rois/probmap_roi.dscalar.nii\n",
      "Running: ciftify_meants --mask /scratch/edickie/ciftify_intergration_tests/run_2017-09-25_py36_sc2017-10-13/ciftify_seed_corr/sub-50005_func_mask.dscalar.nii --outputcsv /scratch/edickie/ciftify_intergration_tests/run_2017-09-25_py36_sc2017-10-13/ciftify_seed_corr/rest_test1_Atlas_s12_probmap_roi_ciftitocifti_masked.csv --weighted /scratch/edickie/ciftify_intergration_tests/run_2017-09-25_py36_sc2017-10-13/hcp/sub-50005/MNINonLinear/Results/rest_test1/rest_test1_Atlas_s12.dtseries.nii /scratch/edickie/ciftify_intergration_tests/run_2017-09-25_py36_sc2017-10-13/rois/probmap_roi.dscalar.nii\n",
      "Running: cifti_vis_map cifti-snaps --hcp-data-dir /scratch/edickie/ciftify_intergration_tests/run_2017-09-25_py36_sc2017-10-13/hcp /scratch/edickie/ciftify_intergration_tests/run_2017-09-25_py36_sc2017-10-13/ciftify_seed_corr/rest_test1_Atlas_s12_probmap_roi_ciftitocifti_masked.dscalar.nii sub-50005 rest_test1_Atlas_s12_probmap_roi_ciftitocifti_masked\n",
      "Running: ciftify_peaktable --min-threshold -0.5 --max-threshold 0.5 --no-cluster-dlabel /scratch/edickie/ciftify_intergration_tests/run_2017-09-25_py36_sc2017-10-13/ciftify_seed_corr/rest_test1_Atlas_s12_probmap_roi_ciftitocifti_masked.dscalar.nii\n"
     ]
    }
   ],
   "source": [
    "test1 = MeantsTest(func_cifti_smoothed, \n",
    "                   os.path.join(new_outputs, 'rois', 'probmap_roi.dscalar.nii'), \n",
    "                   subid, \n",
    "                   'ciftitocifti', \n",
    "                   hcp_data_dir, \n",
    "                   outputdir = None, \n",
    "                   extra_args = '--weighted', \n",
    "                   mask = None)\n",
    "\n",
    "test1 = MeantsTest(func_cifti_smoothed, \n",
    "                   os.path.join(new_outputs, 'rois', 'probmap_roi.dscalar.nii'), \n",
    "                   subid, \n",
    "                   'ciftitocifti', \n",
    "                   hcp_data_dir, \n",
    "                   outputdir = seed_corr_dir, \n",
    "                   extra_args = '--weighted', \n",
    "                   mask = cifti_mask)"
   ]
  },
  {
   "cell_type": "code",
   "execution_count": 111,
   "metadata": {},
   "outputs": [
    {
     "name": "stderr",
     "output_type": "stream",
     "text": [
      "Running: wb_command -cifti-separate /scratch/edickie/ciftify_intergration_tests/run_2017-09-25_py36_sc2017-10-13/rois/probmap_roi.dscalar.nii COLUMN -metric CORTEX_RIGHT /scratch/edickie/ciftify_intergration_tests/run_2017-09-25_py36_sc2017-10-13/rois/probmap_R_roi.shape.gii\n",
      "Running: ciftify_seed_corr --weighted --hemi R /scratch/edickie/ciftify_intergration_tests/run_2017-09-25_py36_sc2017-10-13/hcp/sub-50005/MNINonLinear/Results/rest_test1/rest_test1_Atlas_s12.dtseries.nii /scratch/edickie/ciftify_intergration_tests/run_2017-09-25_py36_sc2017-10-13/rois/probmap_R_roi.shape.gii\n",
      "Running: ciftify_meants --weighted --hemi R /scratch/edickie/ciftify_intergration_tests/run_2017-09-25_py36_sc2017-10-13/hcp/sub-50005/MNINonLinear/Results/rest_test1/rest_test1_Atlas_s12.dtseries.nii /scratch/edickie/ciftify_intergration_tests/run_2017-09-25_py36_sc2017-10-13/rois/probmap_R_roi.shape.gii\n",
      "Running: cifti_vis_map cifti-snaps --hcp-data-dir /scratch/edickie/ciftify_intergration_tests/run_2017-09-25_py36_sc2017-10-13/hcp /scratch/edickie/ciftify_intergration_tests/run_2017-09-25_py36_sc2017-10-13/hcp/sub-50005/MNINonLinear/Results/rest_test1/rest_test1_Atlas_s12_probmap_R_roi.dscalar.nii sub-50005 rest_test1_Atlas_s12_probmap_R_roi_giftitocifti_umasked\n",
      "Running: ciftify_peaktable --min-threshold -0.5 --max-threshold 0.5 --no-cluster-dlabel /scratch/edickie/ciftify_intergration_tests/run_2017-09-25_py36_sc2017-10-13/hcp/sub-50005/MNINonLinear/Results/rest_test1/rest_test1_Atlas_s12_probmap_R_roi.dscalar.nii\n",
      "Running: ciftify_seed_corr --mask /scratch/edickie/ciftify_intergration_tests/run_2017-09-25_py36_sc2017-10-13/ciftify_seed_corr/sub-50005_func_mask.dscalar.nii --outputname /scratch/edickie/ciftify_intergration_tests/run_2017-09-25_py36_sc2017-10-13/ciftify_seed_corr/rest_test1_Atlas_s12_probmap_R_roi_giftitocifti_masked.dscalar.nii --weighted --hemi R /scratch/edickie/ciftify_intergration_tests/run_2017-09-25_py36_sc2017-10-13/hcp/sub-50005/MNINonLinear/Results/rest_test1/rest_test1_Atlas_s12.dtseries.nii /scratch/edickie/ciftify_intergration_tests/run_2017-09-25_py36_sc2017-10-13/rois/probmap_R_roi.shape.gii\n",
      "Running: ciftify_meants --mask /scratch/edickie/ciftify_intergration_tests/run_2017-09-25_py36_sc2017-10-13/ciftify_seed_corr/sub-50005_func_mask.dscalar.nii --outputcsv /scratch/edickie/ciftify_intergration_tests/run_2017-09-25_py36_sc2017-10-13/ciftify_seed_corr/rest_test1_Atlas_s12_probmap_R_roi_giftitocifti_masked.csv --weighted --hemi R /scratch/edickie/ciftify_intergration_tests/run_2017-09-25_py36_sc2017-10-13/hcp/sub-50005/MNINonLinear/Results/rest_test1/rest_test1_Atlas_s12.dtseries.nii /scratch/edickie/ciftify_intergration_tests/run_2017-09-25_py36_sc2017-10-13/rois/probmap_R_roi.shape.gii\n",
      "Running: cifti_vis_map cifti-snaps --hcp-data-dir /scratch/edickie/ciftify_intergration_tests/run_2017-09-25_py36_sc2017-10-13/hcp /scratch/edickie/ciftify_intergration_tests/run_2017-09-25_py36_sc2017-10-13/ciftify_seed_corr/rest_test1_Atlas_s12_probmap_R_roi_giftitocifti_masked.dscalar.nii sub-50005 rest_test1_Atlas_s12_probmap_R_roi_giftitocifti_masked\n",
      "Running: ciftify_peaktable --min-threshold -0.5 --max-threshold 0.5 --no-cluster-dlabel /scratch/edickie/ciftify_intergration_tests/run_2017-09-25_py36_sc2017-10-13/ciftify_seed_corr/rest_test1_Atlas_s12_probmap_R_roi_giftitocifti_masked.dscalar.nii\n"
     ]
    }
   ],
   "source": [
    "R_probmap_roi = os.path.join(new_outputs, 'rois', 'probmap_R_roi.shape.gii')\n",
    "                                   \n",
    "run(['wb_command', '-cifti-separate', \n",
    "     os.path.join(new_outputs, 'rois', 'probmap_roi.dscalar.nii'),\n",
    "     'COLUMN','-metric', 'CORTEX_RIGHT', R_probmap_roi])\n",
    "\n",
    "test1 = MeantsTest(func_cifti_smoothed, \n",
    "                   R_probmap_roi, \n",
    "                   subid, \n",
    "                   'giftitocifti', \n",
    "                   hcp_data_dir, \n",
    "                   outputdir = None, \n",
    "                   extra_args = '--weighted --hemi R', \n",
    "                   mask = None)\n",
    "\n",
    "test1 = MeantsTest(func_cifti_smoothed, \n",
    "                   R_probmap_roi, \n",
    "                   subid, \n",
    "                   'giftitocifti', \n",
    "                   hcp_data_dir, \n",
    "                   outputdir = seed_corr_dir, \n",
    "                   extra_args = '--weighted --hemi R', \n",
    "                   mask = cifti_mask)"
   ]
  },
  {
   "cell_type": "code",
   "execution_count": 89,
   "metadata": {},
   "outputs": [
    {
     "name": "stderr",
     "output_type": "stream",
     "text": [
      "Running: ciftify_seed_corr --roi-label 7 /scratch/edickie/ciftify_intergration_tests/run_2017-09-25_py36_sc2017-10-13/hcp/sub-50005/MNINonLinear/Results/rest_test1/rest_test1_Atlas_s12.dtseries.nii /scratch/edickie/ciftify_intergration_tests/run_2017-09-25_py36_sc2017-10-13/rois/tvertex.dscalar.nii\n",
      "Running: ciftify_meants --roi-label 7 /scratch/edickie/ciftify_intergration_tests/run_2017-09-25_py36_sc2017-10-13/hcp/sub-50005/MNINonLinear/Results/rest_test1/rest_test1_Atlas_s12.dtseries.nii /scratch/edickie/ciftify_intergration_tests/run_2017-09-25_py36_sc2017-10-13/rois/tvertex.dscalar.nii\n",
      "Running: cifti_vis_map cifti-snaps --hcp-data-dir /scratch/edickie/ciftify_intergration_tests/run_2017-09-25_py36_sc2017-10-13/hcp /scratch/edickie/ciftify_intergration_tests/run_2017-09-25_py36_sc2017-10-13/hcp/sub-50005/MNINonLinear/Results/rest_test1/rest_test1_Atlas_s12_tvertex.dscalar.nii sub-50005 rest_test1_Atlas_s12_tvertex_7_ciftitocifti_umasked\n",
      "Running: ciftify_peaktable --min-threshold -0.5 --max-threshold 0.5 --no-cluster-dlabel /scratch/edickie/ciftify_intergration_tests/run_2017-09-25_py36_sc2017-10-13/hcp/sub-50005/MNINonLinear/Results/rest_test1/rest_test1_Atlas_s12_tvertex.dscalar.nii\n"
     ]
    }
   ],
   "source": [
    "test1 = MeantsTest(func_cifti_smoothed, \n",
    "                   os.path.join(new_outputs, 'rois', 'tvertex.dscalar.nii'), \n",
    "                   subid, \n",
    "                   '7_ciftitocifti', \n",
    "                   hcp_data_dir, \n",
    "                   outputdir = None, \n",
    "                   extra_args = '--roi-label 7', \n",
    "                   mask = None)\n",
    "\n",
    "test1 = MeantsTest(func_cifti_smoothed, \n",
    "                   os.path.join(new_outputs, 'rois', 'tvertex.dscalar.nii'), \n",
    "                   subid, \n",
    "                   '7_ciftitocifti', \n",
    "                   hcp_data_dir, \n",
    "                   outputdir = seed_corr_dir, \n",
    "                   extra_args = '--roi-label 7', \n",
    "                   mask = cifti_mask)"
   ]
  },
  {
   "cell_type": "code",
   "execution_count": 94,
   "metadata": {},
   "outputs": [
    {
     "name": "stderr",
     "output_type": "stream",
     "text": [
      "Running: wb_command -cifti-separate /scratch/edickie/ciftify_intergration_tests/run_2017-09-25_py36_sc2017-10-13/rois/tvertex.dscalar.nii COLUMN -metric CORTEX_RIGHT /scratch/edickie/ciftify_intergration_tests/run_2017-09-25_py36_sc2017-10-13/rois/tvertex_R_roi.shape.gii\n",
      "Running: ciftify_seed_corr --roi-label 7 --hemi R /scratch/edickie/ciftify_intergration_tests/run_2017-09-25_py36_sc2017-10-13/hcp/sub-50005/MNINonLinear/Results/rest_test1/rest_test1_Atlas_s12.dtseries.nii /scratch/edickie/ciftify_intergration_tests/run_2017-09-25_py36_sc2017-10-13/rois/tvertex_R_roi.shape.gii\n",
      "Running: ciftify_meants --roi-label 7 --hemi R /scratch/edickie/ciftify_intergration_tests/run_2017-09-25_py36_sc2017-10-13/hcp/sub-50005/MNINonLinear/Results/rest_test1/rest_test1_Atlas_s12.dtseries.nii /scratch/edickie/ciftify_intergration_tests/run_2017-09-25_py36_sc2017-10-13/rois/tvertex_R_roi.shape.gii\n",
      "Running: cifti_vis_map cifti-snaps --hcp-data-dir /scratch/edickie/ciftify_intergration_tests/run_2017-09-25_py36_sc2017-10-13/hcp /scratch/edickie/ciftify_intergration_tests/run_2017-09-25_py36_sc2017-10-13/hcp/sub-50005/MNINonLinear/Results/rest_test1/rest_test1_Atlas_s12_tvertex_R_roi.dscalar.nii sub-50005 rest_test1_Atlas_s12_tvertex_R_roi_7_giftitocifti_umasked\n",
      "Running: ciftify_peaktable --min-threshold -0.5 --max-threshold 0.5 --no-cluster-dlabel /scratch/edickie/ciftify_intergration_tests/run_2017-09-25_py36_sc2017-10-13/hcp/sub-50005/MNINonLinear/Results/rest_test1/rest_test1_Atlas_s12_tvertex_R_roi.dscalar.nii\n",
      "Running: ciftify_seed_corr --mask /scratch/edickie/ciftify_intergration_tests/run_2017-09-25_py36_sc2017-10-13/ciftify_seed_corr/sub-50005_func_mask.dscalar.nii --outputname /scratch/edickie/ciftify_intergration_tests/run_2017-09-25_py36_sc2017-10-13/ciftify_seed_corr/rest_test1_Atlas_s12_tvertex_R_roi_7_giftitocifti_masked.dscalar.nii --roi-label 7 --hemi R /scratch/edickie/ciftify_intergration_tests/run_2017-09-25_py36_sc2017-10-13/hcp/sub-50005/MNINonLinear/Results/rest_test1/rest_test1_Atlas_s12.dtseries.nii /scratch/edickie/ciftify_intergration_tests/run_2017-09-25_py36_sc2017-10-13/rois/tvertex_R_roi.shape.gii\n",
      "Running: ciftify_meants --mask /scratch/edickie/ciftify_intergration_tests/run_2017-09-25_py36_sc2017-10-13/ciftify_seed_corr/sub-50005_func_mask.dscalar.nii --outputcsv /scratch/edickie/ciftify_intergration_tests/run_2017-09-25_py36_sc2017-10-13/ciftify_seed_corr/rest_test1_Atlas_s12_tvertex_R_roi_7_giftitocifti_masked.csv --roi-label 7 --hemi R /scratch/edickie/ciftify_intergration_tests/run_2017-09-25_py36_sc2017-10-13/hcp/sub-50005/MNINonLinear/Results/rest_test1/rest_test1_Atlas_s12.dtseries.nii /scratch/edickie/ciftify_intergration_tests/run_2017-09-25_py36_sc2017-10-13/rois/tvertex_R_roi.shape.gii\n",
      "Running: cifti_vis_map cifti-snaps --hcp-data-dir /scratch/edickie/ciftify_intergration_tests/run_2017-09-25_py36_sc2017-10-13/hcp /scratch/edickie/ciftify_intergration_tests/run_2017-09-25_py36_sc2017-10-13/ciftify_seed_corr/rest_test1_Atlas_s12_tvertex_R_roi_7_giftitocifti_masked.dscalar.nii sub-50005 rest_test1_Atlas_s12_tvertex_R_roi_7_giftitocifti_masked\n",
      "Running: ciftify_peaktable --min-threshold -0.5 --max-threshold 0.5 --no-cluster-dlabel /scratch/edickie/ciftify_intergration_tests/run_2017-09-25_py36_sc2017-10-13/ciftify_seed_corr/rest_test1_Atlas_s12_tvertex_R_roi_7_giftitocifti_masked.dscalar.nii\n"
     ]
    }
   ],
   "source": [
    "R_tvertex_roi = os.path.join(new_outputs, 'rois', 'tvertex_R_roi.shape.gii')\n",
    "run(['wb_command', '-cifti-separate', \n",
    "     os.path.join(new_outputs, 'rois', 'tvertex.dscalar.nii'),\n",
    "     'COLUMN','-metric', 'CORTEX_RIGHT', R_tvertex_roi])\n",
    "\n",
    "test3 = MeantsTest(func_cifti_smoothed, \n",
    "                   R_tvertex_roi, \n",
    "                   subid, \n",
    "                   '7_giftitocifti', \n",
    "                   hcp_data_dir, \n",
    "                   outputdir = None, \n",
    "                   extra_args = '--roi-label 7 --hemi R', \n",
    "                   mask = None)\n",
    "\n",
    "test4 = MeantsTest(func_cifti_smoothed, \n",
    "                   R_tvertex_roi, \n",
    "                   subid, \n",
    "                   '7_giftitocifti', \n",
    "                   hcp_data_dir, \n",
    "                   outputdir = seed_corr_dir, \n",
    "                   extra_args = '--roi-label 7 --hemi R', \n",
    "                   mask = cifti_mask)"
   ]
  },
  {
   "cell_type": "code",
   "execution_count": 95,
   "metadata": {},
   "outputs": [
    {
     "name": "stderr",
     "output_type": "stream",
     "text": [
      "Running: cifti_vis_map index --hcp-data-dir /scratch/edickie/ciftify_intergration_tests/run_2017-09-25_py36_sc2017-10-13/hcp\n"
     ]
    },
    {
     "data": {
      "text/plain": [
       "0"
      ]
     },
     "execution_count": 95,
     "metadata": {},
     "output_type": "execute_result"
    }
   ],
   "source": [
    "run(['cifti_vis_map', 'index', '--hcp-data-dir', hcp_data_dir])"
   ]
  },
  {
   "cell_type": "markdown",
   "metadata": {},
   "source": [
    "# ciftify_meants (atlas examples)"
   ]
  },
  {
   "cell_type": "code",
   "execution_count": 98,
   "metadata": {},
   "outputs": [
    {
     "name": "stderr",
     "output_type": "stream",
     "text": [
      "Running: ciftify_meants /scratch/edickie/ciftify_intergration_tests/run_2017-09-25_py36_sc2017-10-13/hcp/sub-50005/MNINonLinear/Results/rest_test1/rest_test1_Atlas_s0.dtseries.nii /scratch/edickie/ciftify_intergration_tests/run_2017-09-25_py36_sc2017-10-13/hcp/sub-50005/MNINonLinear/fsaverage_LR32k/sub-50005.aparc.32k_fs_LR.dlabel.nii\n"
     ]
    },
    {
     "data": {
      "text/plain": [
       "0"
      ]
     },
     "execution_count": 98,
     "metadata": {},
     "output_type": "execute_result"
    }
   ],
   "source": [
    "subject_aparc = os.path.join(hcp_data_dir, subid,\n",
    "                            'MNINonLinear', 'fsaverage_LR32k',\n",
    "                            '{}.aparc.32k_fs_LR.dlabel.nii'.format(subid))\n",
    "subject_thickness = os.path.join(hcp_data_dir, subid,\n",
    "                            'MNINonLinear', 'fsaverage_LR32k',\n",
    "                            '{}.thickness.32k_fs_LR.dscalar.nii'.format(subid))\n",
    "run(['ciftify_meants', func_cifti_sm0, subject_aparc])\n"
   ]
  },
  {
   "cell_type": "code",
   "execution_count": 99,
   "metadata": {},
   "outputs": [
    {
     "name": "stderr",
     "output_type": "stream",
     "text": [
      "Running: ciftify_meants --outputcsv /scratch/edickie/ciftify_intergration_tests/run_2017-09-25_py36_sc2017-10-13/ciftify_seed_corr/sub-50005_aparc_thickness_ciftitocifti_unmasked_meants.csv --outputlabels /scratch/edickie/ciftify_intergration_tests/run_2017-09-25_py36_sc2017-10-13/ciftify_seed_corr/sub-50005_aparc_ciftitocifti_unmasked_labels.csv /scratch/edickie/ciftify_intergration_tests/run_2017-09-25_py36_sc2017-10-13/hcp/sub-50005/MNINonLinear/fsaverage_LR32k/sub-50005.thickness.32k_fs_LR.dscalar.nii /scratch/edickie/ciftify_intergration_tests/run_2017-09-25_py36_sc2017-10-13/hcp/sub-50005/MNINonLinear/fsaverage_LR32k/sub-50005.aparc.32k_fs_LR.dlabel.nii\n"
     ]
    },
    {
     "data": {
      "text/plain": [
       "0"
      ]
     },
     "execution_count": 99,
     "metadata": {},
     "output_type": "execute_result"
    }
   ],
   "source": [
    "run(['ciftify_meants',  \n",
    "     '--outputcsv', os.path.join(seed_corr_dir, \n",
    "                                 '{}_aparc_thickness_ciftitocifti_unmasked_meants.csv'.format(subid)),\n",
    "     '--outputlabels', os.path.join(seed_corr_dir, \n",
    "                                    '{}_aparc_ciftitocifti_unmasked_labels.csv'.format(subid)),\n",
    "         subject_thickness, subject_aparc])"
   ]
  },
  {
   "cell_type": "code",
   "execution_count": 100,
   "metadata": {},
   "outputs": [
    {
     "name": "stderr",
     "output_type": "stream",
     "text": [
      "Running: ciftify_meants /scratch/edickie/ciftify_intergration_tests/run_2017-09-25_py36_sc2017-10-13/hcp/sub-50005/MNINonLinear/Results/rest_test1/rest_test1_Atlas_s0.dtseries.nii /scratch/edickie/ciftify_intergration_tests/run_2017-09-25_py36_sc2017-10-13/rois/tvertex.dscalar.nii\n"
     ]
    },
    {
     "data": {
      "text/plain": [
       "0"
      ]
     },
     "execution_count": 100,
     "metadata": {},
     "output_type": "execute_result"
    }
   ],
   "source": [
    "run(['ciftify_meants', func_cifti_sm0, \n",
    "     os.path.join(new_outputs, 'rois', 'tvertex.dscalar.nii')])"
   ]
  },
  {
   "cell_type": "code",
   "execution_count": 101,
   "metadata": {},
   "outputs": [
    {
     "name": "stderr",
     "output_type": "stream",
     "text": [
      "Running: ciftify_meants --mask /scratch/edickie/ciftify_intergration_tests/run_2017-09-25_py36_sc2017-10-13/ciftify_seed_corr/sub-50005_func_mask.dscalar.nii --outputcsv /scratch/edickie/ciftify_intergration_tests/run_2017-09-25_py36_sc2017-10-13/ciftify_seed_corr/sub-50005_tvertex_func_ciftitocifti_unmasked_meants.csv /scratch/edickie/ciftify_intergration_tests/run_2017-09-25_py36_sc2017-10-13/hcp/sub-50005/MNINonLinear/Results/rest_test1/rest_test1_Atlas_s0.dtseries.nii /scratch/edickie/ciftify_intergration_tests/run_2017-09-25_py36_sc2017-10-13/rois/tvertex.dscalar.nii\n"
     ]
    },
    {
     "data": {
      "text/plain": [
       "0"
      ]
     },
     "execution_count": 101,
     "metadata": {},
     "output_type": "execute_result"
    }
   ],
   "source": [
    "run(['ciftify_meants', \n",
    "     '--mask', cifti_mask,\n",
    "     '--outputcsv', os.path.join(seed_corr_dir, \n",
    "                                 '{}_tvertex_func_ciftitocifti_unmasked_meants.csv'.format(subid)),\n",
    "     func_cifti_sm0, \n",
    "     os.path.join(new_outputs, 'rois', 'tvertex.dscalar.nii')])"
   ]
  },
  {
   "cell_type": "code",
   "execution_count": 102,
   "metadata": {},
   "outputs": [
    {
     "name": "stderr",
     "output_type": "stream",
     "text": [
      "Running: ciftify_vol_result --hcp-data-dir /scratch/edickie/ciftify_intergration_tests/run_2017-09-25_py36_sc2017-10-13/hcp --integer-labels sub-50005 /scratch/edickie/ciftify_intergration_tests/run_2017-09-25_py36_sc2017-10-13/hcp/sub-50005/MNINonLinear/wmparc.nii.gz /scratch/edickie/ciftify_intergration_tests/run_2017-09-25_py36_sc2017-10-13/ciftify_seed_corr/sub-50005_wmparc_MNI_d0.dscalar.nii\n"
     ]
    },
    {
     "data": {
      "text/plain": [
       "0"
      ]
     },
     "execution_count": 102,
     "metadata": {},
     "output_type": "execute_result"
    }
   ],
   "source": [
    "## project wmparc to subject\n",
    "wmparc_dscalar_d0 = os.path.join(seed_corr_dir, '{}_wmparc_MNI_d0.dscalar.nii'.format(subid))\n",
    "run(['ciftify_vol_result', '--hcp-data-dir', hcp_data_dir,\n",
    "    '--integer-labels', subid, atlas_vol, wmparc_dscalar_d0])"
   ]
  },
  {
   "cell_type": "code",
   "execution_count": 103,
   "metadata": {},
   "outputs": [
    {
     "name": "stderr",
     "output_type": "stream",
     "text": [
      "Running: ciftify_vol_result --hcp-data-dir /scratch/edickie/ciftify_intergration_tests/run_2017-09-25_py36_sc2017-10-13/hcp --dilate 10 --integer-labels sub-50005 /scratch/edickie/ciftify_intergration_tests/run_2017-09-25_py36_sc2017-10-13/hcp/sub-50005/MNINonLinear/wmparc.nii.gz /scratch/edickie/ciftify_intergration_tests/run_2017-09-25_py36_sc2017-10-13/ciftify_seed_corr/sub-50005_wmparc_MNI_d10.dscalar.nii\n"
     ]
    },
    {
     "data": {
      "text/plain": [
       "0"
      ]
     },
     "execution_count": 103,
     "metadata": {},
     "output_type": "execute_result"
    }
   ],
   "source": [
    "## project wmparc to subject\n",
    "wmparc_dscalar = os.path.join(seed_corr_dir, '{}_wmparc_MNI_d10.dscalar.nii'.format(subid))\n",
    "run(['ciftify_vol_result', \n",
    "     '--hcp-data-dir', hcp_data_dir,\n",
    "     '--dilate', '10',\n",
    "    '--integer-labels', subid, atlas_vol, wmparc_dscalar])"
   ]
  },
  {
   "cell_type": "code",
   "execution_count": 104,
   "metadata": {},
   "outputs": [
    {
     "name": "stderr",
     "output_type": "stream",
     "text": [
      "Running: ciftify_meants --mask /scratch/edickie/ciftify_intergration_tests/run_2017-09-25_py36_sc2017-10-13/hcp/sub-50005/MNINonLinear/brainmask_fs.nii.gz --outputcsv /scratch/edickie/ciftify_intergration_tests/run_2017-09-25_py36_sc2017-10-13/ciftify_seed_corr/sub-50005_wmparc_func_niftitonifti_masked_meants.csv --outputlabels /scratch/edickie/ciftify_intergration_tests/run_2017-09-25_py36_sc2017-10-13/ciftify_seed_corr/sub-50005_wmparc_func_niftitonifti_masked_labels.csv /scratch/edickie/ciftify_intergration_tests/run_2017-09-25_py36_sc2017-10-13/hcp/sub-50005/MNINonLinear/Results/rest_test1/rest_test1.nii.gz /scratch/edickie/ciftify_intergration_tests/run_2017-09-25_py36_sc2017-10-13/hcp/sub-50005/MNINonLinear/wmparc.nii.gz\n"
     ]
    },
    {
     "data": {
      "text/plain": [
       "0"
      ]
     },
     "execution_count": 104,
     "metadata": {},
     "output_type": "execute_result"
    }
   ],
   "source": [
    "run(['ciftify_meants', \n",
    "     '--mask', os.path.join(hcp_data_dir, subid, 'MNINonLinear', 'brainmask_fs.nii.gz'),\n",
    "     '--outputcsv', os.path.join(seed_corr_dir, \n",
    "                                 '{}_wmparc_func_niftitonifti_masked_meants.csv'.format(subid)),\n",
    "     '--outputlabels', os.path.join(seed_corr_dir, \n",
    "                                 '{}_wmparc_func_niftitonifti_masked_labels.csv'.format(subid)),\n",
    "     func_vol, atlas_vol])"
   ]
  },
  {
   "cell_type": "code",
   "execution_count": 105,
   "metadata": {},
   "outputs": [
    {
     "name": "stderr",
     "output_type": "stream",
     "text": [
      "Running: ciftify_meants --mask /scratch/edickie/ciftify_intergration_tests/run_2017-09-25_py36_sc2017-10-13/ciftify_seed_corr/sub-50005_func_mask.dscalar.nii --outputcsv /scratch/edickie/ciftify_intergration_tests/run_2017-09-25_py36_sc2017-10-13/ciftify_seed_corr/sub-50005_wmparc_func_ciftitocifti_masked_meants.csv --outputlabels /scratch/edickie/ciftify_intergration_tests/run_2017-09-25_py36_sc2017-10-13/ciftify_seed_corr/sub-50005_wmparc_func_ciftitocifti_masked_labels.csv /scratch/edickie/ciftify_intergration_tests/run_2017-09-25_py36_sc2017-10-13/hcp/sub-50005/MNINonLinear/Results/rest_test1/rest_test1_Atlas_s0.dtseries.nii /scratch/edickie/ciftify_intergration_tests/run_2017-09-25_py36_sc2017-10-13/ciftify_seed_corr/sub-50005_wmparc_MNI_d10.dscalar.nii\n"
     ]
    },
    {
     "data": {
      "text/plain": [
       "0"
      ]
     },
     "execution_count": 105,
     "metadata": {},
     "output_type": "execute_result"
    }
   ],
   "source": [
    "run(['ciftify_meants', \n",
    "     '--mask', cifti_mask,\n",
    "     '--outputcsv', os.path.join(seed_corr_dir, \n",
    "                                 '{}_wmparc_func_ciftitocifti_masked_meants.csv'.format(subid)),\n",
    "     '--outputlabels', os.path.join(seed_corr_dir, \n",
    "                                 '{}_wmparc_func_ciftitocifti_masked_labels.csv'.format(subid)),\n",
    "     func_cifti_sm0, wmparc_dscalar])"
   ]
  },
  {
   "cell_type": "code",
   "execution_count": 106,
   "metadata": {},
   "outputs": [
    {
     "name": "stderr",
     "output_type": "stream",
     "text": [
      "Running: wb_command -cifti-label-import -logging SEVERE /scratch/edickie/ciftify_intergration_tests/run_2017-09-25_py36_sc2017-10-13/ciftify_seed_corr/sub-50005_wmparc_MNI_d10.dscalar.nii /projects/edickie/code/ciftify/ciftify/data/hcp_config/FreeSurferAllLut.txt /scratch/edickie/ciftify_intergration_tests/run_2017-09-25_py36_sc2017-10-13/ciftify_seed_corr/sub-50005_wmparc_MNI.dlabel.nii\n",
      "Running: ciftify_meants --outputcsv /scratch/edickie/ciftify_intergration_tests/run_2017-09-25_py36_sc2017-10-13/ciftify_seed_corr/sub-50005_wmparc_func_ciftiltocifti_dlabel_meants.csv --outputlabels /scratch/edickie/ciftify_intergration_tests/run_2017-09-25_py36_sc2017-10-13/ciftify_seed_corr/sub-50005_wmparc_func_ciftiltocifti_dlabel_labels.csv /scratch/edickie/ciftify_intergration_tests/run_2017-09-25_py36_sc2017-10-13/hcp/sub-50005/MNINonLinear/Results/rest_test1/rest_test1_Atlas_s0.dtseries.nii /scratch/edickie/ciftify_intergration_tests/run_2017-09-25_py36_sc2017-10-13/ciftify_seed_corr/sub-50005_wmparc_MNI.dlabel.nii\n"
     ]
    },
    {
     "data": {
      "text/plain": [
       "0"
      ]
     },
     "execution_count": 106,
     "metadata": {},
     "output_type": "execute_result"
    }
   ],
   "source": [
    "wmparc_dlabel = os.path.join(seed_corr_dir, '{}_wmparc_MNI.dlabel.nii'.format(subid))\n",
    "run(['wb_command', '-cifti-label-import', '-logging', 'SEVERE',\n",
    "     wmparc_dscalar, \n",
    "     os.path.join(ciftify.config.find_ciftify_global(), 'hcp_config', 'FreeSurferAllLut.txt'),\n",
    "    wmparc_dlabel])\n",
    "run(['ciftify_meants', \n",
    "     '--outputcsv', os.path.join(seed_corr_dir, \n",
    "                                 '{}_wmparc_func_ciftiltocifti_dlabel_meants.csv'.format(subid)),\n",
    "     '--outputlabels', os.path.join(seed_corr_dir, \n",
    "                                 '{}_wmparc_func_ciftiltocifti_dlabel_labels.csv'.format(subid)),\n",
    "     func_cifti_sm0, wmparc_dlabel])"
   ]
  },
  {
   "cell_type": "code",
   "execution_count": 107,
   "metadata": {
    "collapsed": true
   },
   "outputs": [],
   "source": [
    "import pandas as pd\n",
    "\n",
    "csv_df = pd.read_csv(os.path.join(fixtures_dir, 'expected_csvs.csv'))\n",
    "\n",
    "csv_df['num_rows'] = ''\n",
    "csv_df['num_cols'] = ''\n",
    "csv_df['exists'] = ''\n",
    "csv_df['matches'] = ''"
   ]
  },
  {
   "cell_type": "code",
   "execution_count": 108,
   "metadata": {
    "collapsed": true
   },
   "outputs": [],
   "source": [
    "for row in csv_df.index:\n",
    "    expected_csv = os.path.join(new_outputs, csv_df.loc[row, 'expected_output'])\n",
    "    if os.path.isfile(expected_csv):\n",
    "        compare_csv = os.path.join(fixtures_dir, csv_df.loc[row, 'compare_to'])\n",
    "        header_col = 0\n",
    "        if expected_csv.endswith('_meants.csv'): header_col = None\n",
    "        if expected_csv.endswith('_labels.csv'): header_col = None\n",
    "        if expected_csv.endswith('_CSF.csv'): header_col = None\n",
    "        if expected_csv.endswith('_WM.csv'): header_col = None\n",
    "        if expected_csv.endswith('_GM.csv'): header_col = None\n",
    "        testdf = pd.read_csv(expected_csv, header = header_col)\n",
    "        csv_df.loc[row, 'exists'] = True\n",
    "        csv_df.loc[row, 'num_rows'] = testdf.shape[0]\n",
    "        csv_df.loc[row, 'num_cols'] = testdf.shape[1]\n",
    "        comparedf = pd.read_csv(compare_csv, header = header_col)\n",
    "        try:\n",
    "            csv_df.loc[row, 'matches'] = (comparedf == testdf).all().all()\n",
    "        except:\n",
    "            csv_df.loc[row, 'matches'] = False\n",
    "    else:\n",
    "        csv_df.loc[row, 'exists'] = False"
   ]
  },
  {
   "cell_type": "code",
   "execution_count": null,
   "metadata": {
    "collapsed": true
   },
   "outputs": [],
   "source": [
    "csv_df.to_csv(os.path.join(new_outputs, 'csv_compare_results.csv'))"
   ]
  },
  {
   "cell_type": "code",
   "execution_count": null,
   "metadata": {
    "collapsed": true
   },
   "outputs": [],
   "source": [
    "if csv_df.exists.all(): \n",
    "    logger.info('All expected csv were generated')\n",
    "else:\n",
    "    logger.error('Some expected csv outputs were not generated')"
   ]
  },
  {
   "cell_type": "code",
   "execution_count": null,
   "metadata": {
    "collapsed": true
   },
   "outputs": [],
   "source": [
    "if csv_df.matches.all():\n",
    "    logger.info('All expected csv outputs match expected')\n",
    "else:\n",
    "    logger.info('Some csv outputs do not match..see csv_compare_results.csv of more details')"
   ]
  },
  {
   "cell_type": "code",
   "execution_count": null,
   "metadata": {
    "collapsed": true
   },
   "outputs": [],
   "source": [
    "logger.info(ciftify.utils.section_header('Done'))"
   ]
  },
  {
   "cell_type": "code",
   "execution_count": null,
   "metadata": {
    "collapsed": true
   },
   "outputs": [],
   "source": [
    "csv_df.loc[csv_df.matches == False]"
   ]
  },
  {
   "cell_type": "code",
   "execution_count": 110,
   "metadata": {},
   "outputs": [
    {
     "data": {
      "text/html": [
       "<div>\n",
       "<style>\n",
       "    .dataframe thead tr:only-child th {\n",
       "        text-align: right;\n",
       "    }\n",
       "\n",
       "    .dataframe thead th {\n",
       "        text-align: left;\n",
       "    }\n",
       "\n",
       "    .dataframe tbody tr th {\n",
       "        vertical-align: top;\n",
       "    }\n",
       "</style>\n",
       "<table border=\"1\" class=\"dataframe\">\n",
       "  <thead>\n",
       "    <tr style=\"text-align: right;\">\n",
       "      <th></th>\n",
       "      <th>compare_to</th>\n",
       "      <th>expected_output</th>\n",
       "      <th>num_rows</th>\n",
       "      <th>num_cols</th>\n",
       "      <th>exists</th>\n",
       "      <th>matches</th>\n",
       "    </tr>\n",
       "  </thead>\n",
       "  <tbody>\n",
       "    <tr>\n",
       "      <th>0</th>\n",
       "      <td>./ciftify_seed_corr/sub-50005_aparc_ciftitocif...</td>\n",
       "      <td>./ciftify_seed_corr/sub-50005_aparc_ciftitocif...</td>\n",
       "      <td>71</td>\n",
       "      <td>6</td>\n",
       "      <td>True</td>\n",
       "      <td>True</td>\n",
       "    </tr>\n",
       "    <tr>\n",
       "      <th>1</th>\n",
       "      <td>./ciftify_seed_corr/sub-50005_aparc_thickness_...</td>\n",
       "      <td>./ciftify_seed_corr/sub-50005_aparc_thickness_...</td>\n",
       "      <td>68</td>\n",
       "      <td>1</td>\n",
       "      <td>True</td>\n",
       "      <td>True</td>\n",
       "    </tr>\n",
       "    <tr>\n",
       "      <th>2</th>\n",
       "      <td>./hcp/sub-50005/MNINonLinear/Results/rest_test...</td>\n",
       "      <td>./ciftify_seed_corr/sub-50005_gaussian_ciftito...</td>\n",
       "      <td>26</td>\n",
       "      <td>14</td>\n",
       "      <td>True</td>\n",
       "      <td>True</td>\n",
       "    </tr>\n",
       "    <tr>\n",
       "      <th>3</th>\n",
       "      <td>./hcp/sub-50005/MNINonLinear/Results/rest_test...</td>\n",
       "      <td>./ciftify_seed_corr/sub-50005_gaussian_ciftito...</td>\n",
       "      <td>5</td>\n",
       "      <td>1</td>\n",
       "      <td>True</td>\n",
       "      <td>True</td>\n",
       "    </tr>\n",
       "    <tr>\n",
       "      <th>4</th>\n",
       "      <td>./hcp/sub-50005/MNINonLinear/Results/rest_test...</td>\n",
       "      <td>./ciftify_seed_corr/sub-50005_gaussian_giftito...</td>\n",
       "      <td>26</td>\n",
       "      <td>14</td>\n",
       "      <td>True</td>\n",
       "      <td>True</td>\n",
       "    </tr>\n",
       "    <tr>\n",
       "      <th>5</th>\n",
       "      <td>./hcp/sub-50005/MNINonLinear/Results/rest_test...</td>\n",
       "      <td>./ciftify_seed_corr/sub-50005_gaussian_giftito...</td>\n",
       "      <td>5</td>\n",
       "      <td>1</td>\n",
       "      <td>True</td>\n",
       "      <td>True</td>\n",
       "    </tr>\n",
       "    <tr>\n",
       "      <th>6</th>\n",
       "      <td>./hcp/sub-50005/MNINonLinear/Results/rest_test...</td>\n",
       "      <td>./ciftify_seed_corr/sub-50005_probmap_ciftitoc...</td>\n",
       "      <td>12</td>\n",
       "      <td>14</td>\n",
       "      <td>True</td>\n",
       "      <td>True</td>\n",
       "    </tr>\n",
       "    <tr>\n",
       "      <th>7</th>\n",
       "      <td>./hcp/sub-50005/MNINonLinear/Results/rest_test...</td>\n",
       "      <td>./ciftify_seed_corr/sub-50005_probmap_ciftitoc...</td>\n",
       "      <td>0</td>\n",
       "      <td>1</td>\n",
       "      <td>True</td>\n",
       "      <td>True</td>\n",
       "    </tr>\n",
       "    <tr>\n",
       "      <th>8</th>\n",
       "      <td>./hcp/sub-50005/MNINonLinear/Results/rest_test...</td>\n",
       "      <td>./ciftify_seed_corr/sub-50005_probmap_giftitoc...</td>\n",
       "      <td>12</td>\n",
       "      <td>14</td>\n",
       "      <td>True</td>\n",
       "      <td>True</td>\n",
       "    </tr>\n",
       "    <tr>\n",
       "      <th>9</th>\n",
       "      <td>./hcp/sub-50005/MNINonLinear/Results/rest_test...</td>\n",
       "      <td>./ciftify_seed_corr/sub-50005_probmap_giftitoc...</td>\n",
       "      <td>0</td>\n",
       "      <td>1</td>\n",
       "      <td>True</td>\n",
       "      <td>True</td>\n",
       "    </tr>\n",
       "    <tr>\n",
       "      <th>10</th>\n",
       "      <td>./ciftify_seed_corr/sub-50005_RIGHT-PUTAMEN_ci...</td>\n",
       "      <td>./ciftify_seed_corr/sub-50005_RIGHT-PUTAMEN_ci...</td>\n",
       "      <td>45</td>\n",
       "      <td>14</td>\n",
       "      <td>True</td>\n",
       "      <td>True</td>\n",
       "    </tr>\n",
       "    <tr>\n",
       "      <th>11</th>\n",
       "      <td>./ciftify_seed_corr/sub-50005_RIGHT-PUTAMEN_ci...</td>\n",
       "      <td>./ciftify_seed_corr/sub-50005_RIGHT-PUTAMEN_ci...</td>\n",
       "      <td>5</td>\n",
       "      <td>1</td>\n",
       "      <td>True</td>\n",
       "      <td>True</td>\n",
       "    </tr>\n",
       "    <tr>\n",
       "      <th>12</th>\n",
       "      <td>./hcp/sub-50005/MNINonLinear/Results/rest_test...</td>\n",
       "      <td>./ciftify_seed_corr/sub-50005_RIGHT-PUTAMEN_ci...</td>\n",
       "      <td>19</td>\n",
       "      <td>14</td>\n",
       "      <td>True</td>\n",
       "      <td>True</td>\n",
       "    </tr>\n",
       "    <tr>\n",
       "      <th>13</th>\n",
       "      <td>./hcp/sub-50005/MNINonLinear/Results/rest_test...</td>\n",
       "      <td>./ciftify_seed_corr/sub-50005_RIGHT-PUTAMEN_ci...</td>\n",
       "      <td>6</td>\n",
       "      <td>1</td>\n",
       "      <td>True</td>\n",
       "      <td>True</td>\n",
       "    </tr>\n",
       "    <tr>\n",
       "      <th>14</th>\n",
       "      <td>./hcp/sub-50005/MNINonLinear/Results/rest_test...</td>\n",
       "      <td>./ciftify_seed_corr/sub-50005_RIGHT-PUTAMEN_ni...</td>\n",
       "      <td>19</td>\n",
       "      <td>14</td>\n",
       "      <td>True</td>\n",
       "      <td>True</td>\n",
       "    </tr>\n",
       "    <tr>\n",
       "      <th>15</th>\n",
       "      <td>./hcp/sub-50005/MNINonLinear/Results/rest_test...</td>\n",
       "      <td>./ciftify_seed_corr/sub-50005_RIGHT-PUTAMEN_ni...</td>\n",
       "      <td>6</td>\n",
       "      <td>1</td>\n",
       "      <td>True</td>\n",
       "      <td>True</td>\n",
       "    </tr>\n",
       "    <tr>\n",
       "      <th>16</th>\n",
       "      <td>./ciftify_seed_corr/sub-50005_tvertex_func_cif...</td>\n",
       "      <td>./ciftify_seed_corr/sub-50005_tvertex_func_cif...</td>\n",
       "      <td>6</td>\n",
       "      <td>152</td>\n",
       "      <td>True</td>\n",
       "      <td>True</td>\n",
       "    </tr>\n",
       "    <tr>\n",
       "      <th>17</th>\n",
       "      <td>./hcp/sub-50005/MNINonLinear/Results/rest_test...</td>\n",
       "      <td>./ciftify_seed_corr/sub-50005_tvertex7_ciftito...</td>\n",
       "      <td></td>\n",
       "      <td></td>\n",
       "      <td>False</td>\n",
       "      <td></td>\n",
       "    </tr>\n",
       "    <tr>\n",
       "      <th>18</th>\n",
       "      <td>./hcp/sub-50005/MNINonLinear/Results/rest_test...</td>\n",
       "      <td>./ciftify_seed_corr/sub-50005_tvertex7_ciftito...</td>\n",
       "      <td></td>\n",
       "      <td></td>\n",
       "      <td>False</td>\n",
       "      <td></td>\n",
       "    </tr>\n",
       "    <tr>\n",
       "      <th>19</th>\n",
       "      <td>./hcp/sub-50005/MNINonLinear/Results/rest_test...</td>\n",
       "      <td>./ciftify_seed_corr/sub-50005_tvertex7_giftito...</td>\n",
       "      <td></td>\n",
       "      <td></td>\n",
       "      <td>False</td>\n",
       "      <td></td>\n",
       "    </tr>\n",
       "    <tr>\n",
       "      <th>20</th>\n",
       "      <td>./hcp/sub-50005/MNINonLinear/Results/rest_test...</td>\n",
       "      <td>./ciftify_seed_corr/sub-50005_tvertex7_giftito...</td>\n",
       "      <td></td>\n",
       "      <td></td>\n",
       "      <td>False</td>\n",
       "      <td></td>\n",
       "    </tr>\n",
       "    <tr>\n",
       "      <th>21</th>\n",
       "      <td>./ciftify_seed_corr/sub-50005_wmparc_func_cift...</td>\n",
       "      <td>./ciftify_seed_corr/sub-50005_wmparc_func_cift...</td>\n",
       "      <td>1266</td>\n",
       "      <td>6</td>\n",
       "      <td>True</td>\n",
       "      <td>True</td>\n",
       "    </tr>\n",
       "    <tr>\n",
       "      <th>22</th>\n",
       "      <td>./ciftify_seed_corr/sub-50005_wmparc_func_cift...</td>\n",
       "      <td>./ciftify_seed_corr/sub-50005_wmparc_func_cift...</td>\n",
       "      <td>170</td>\n",
       "      <td>152</td>\n",
       "      <td>True</td>\n",
       "      <td>True</td>\n",
       "    </tr>\n",
       "    <tr>\n",
       "      <th>23</th>\n",
       "      <td>./ciftify_seed_corr/sub-50005_wmparc_func_cift...</td>\n",
       "      <td>./ciftify_seed_corr/sub-50005_wmparc_func_cift...</td>\n",
       "      <td>170</td>\n",
       "      <td>1</td>\n",
       "      <td>True</td>\n",
       "      <td>True</td>\n",
       "    </tr>\n",
       "    <tr>\n",
       "      <th>24</th>\n",
       "      <td>./ciftify_seed_corr/sub-50005_wmparc_func_cift...</td>\n",
       "      <td>./ciftify_seed_corr/sub-50005_wmparc_func_cift...</td>\n",
       "      <td>170</td>\n",
       "      <td>152</td>\n",
       "      <td>True</td>\n",
       "      <td>True</td>\n",
       "    </tr>\n",
       "    <tr>\n",
       "      <th>25</th>\n",
       "      <td>./ciftify_seed_corr/sub-50005_wmparc_func_nift...</td>\n",
       "      <td>./ciftify_seed_corr/sub-50005_wmparc_func_nift...</td>\n",
       "      <td>181</td>\n",
       "      <td>1</td>\n",
       "      <td>True</td>\n",
       "      <td>True</td>\n",
       "    </tr>\n",
       "    <tr>\n",
       "      <th>26</th>\n",
       "      <td>./ciftify_seed_corr/sub-50005_wmparc_func_nift...</td>\n",
       "      <td>./ciftify_seed_corr/sub-50005_wmparc_func_nift...</td>\n",
       "      <td>181</td>\n",
       "      <td>152</td>\n",
       "      <td>True</td>\n",
       "      <td>True</td>\n",
       "    </tr>\n",
       "    <tr>\n",
       "      <th>27</th>\n",
       "      <td>./hcp/sub-50005/MNINonLinear/Results/rest_test...</td>\n",
       "      <td>./hcp/sub-50005/MNINonLinear/Results/rest_test...</td>\n",
       "      <td></td>\n",
       "      <td></td>\n",
       "      <td>False</td>\n",
       "      <td></td>\n",
       "    </tr>\n",
       "    <tr>\n",
       "      <th>28</th>\n",
       "      <td>./hcp/sub-50005/MNINonLinear/Results/rest_test...</td>\n",
       "      <td>./hcp/sub-50005/MNINonLinear/Results/rest_test...</td>\n",
       "      <td></td>\n",
       "      <td></td>\n",
       "      <td>False</td>\n",
       "      <td></td>\n",
       "    </tr>\n",
       "    <tr>\n",
       "      <th>29</th>\n",
       "      <td>./hcp/sub-50005/MNINonLinear/Results/rest_test...</td>\n",
       "      <td>./hcp/sub-50005/MNINonLinear/Results/rest_test...</td>\n",
       "      <td>68</td>\n",
       "      <td>152</td>\n",
       "      <td>True</td>\n",
       "      <td>True</td>\n",
       "    </tr>\n",
       "    <tr>\n",
       "      <th>...</th>\n",
       "      <td>...</td>\n",
       "      <td>...</td>\n",
       "      <td>...</td>\n",
       "      <td>...</td>\n",
       "      <td>...</td>\n",
       "      <td>...</td>\n",
       "    </tr>\n",
       "    <tr>\n",
       "      <th>49</th>\n",
       "      <td>./hcp/sub-50005/MNINonLinear/Results/rest_test...</td>\n",
       "      <td>./hcp/sub-50005/MNINonLinear/Results/rest_test...</td>\n",
       "      <td>1</td>\n",
       "      <td>152</td>\n",
       "      <td>True</td>\n",
       "      <td>True</td>\n",
       "    </tr>\n",
       "    <tr>\n",
       "      <th>50</th>\n",
       "      <td>./hcp/sub-50005/MNINonLinear/Results/rest_test...</td>\n",
       "      <td>./hcp/sub-50005/MNINonLinear/Results/rest_test...</td>\n",
       "      <td>7</td>\n",
       "      <td>14</td>\n",
       "      <td>True</td>\n",
       "      <td>True</td>\n",
       "    </tr>\n",
       "    <tr>\n",
       "      <th>51</th>\n",
       "      <td>./hcp/sub-50005/MNINonLinear/Results/rest_test...</td>\n",
       "      <td>./hcp/sub-50005/MNINonLinear/Results/rest_test...</td>\n",
       "      <td>50</td>\n",
       "      <td>1</td>\n",
       "      <td>True</td>\n",
       "      <td>True</td>\n",
       "    </tr>\n",
       "    <tr>\n",
       "      <th>52</th>\n",
       "      <td>./hcp/sub-50007/MNINonLinear/Results/rest_bad_...</td>\n",
       "      <td>./hcp/sub-50007/MNINonLinear/Results/rest_bad_...</td>\n",
       "      <td>61</td>\n",
       "      <td>14</td>\n",
       "      <td>True</td>\n",
       "      <td>True</td>\n",
       "    </tr>\n",
       "    <tr>\n",
       "      <th>53</th>\n",
       "      <td>./hcp/sub-50007/MNINonLinear/Results/rest_bad_...</td>\n",
       "      <td>./hcp/sub-50007/MNINonLinear/Results/rest_bad_...</td>\n",
       "      <td>186</td>\n",
       "      <td>1</td>\n",
       "      <td>True</td>\n",
       "      <td>True</td>\n",
       "    </tr>\n",
       "    <tr>\n",
       "      <th>54</th>\n",
       "      <td>./hcp/sub-50007/MNINonLinear/Results/rest_bad_...</td>\n",
       "      <td>./hcp/sub-50007/MNINonLinear/Results/rest_bad_...</td>\n",
       "      <td>58</td>\n",
       "      <td>14</td>\n",
       "      <td>True</td>\n",
       "      <td>True</td>\n",
       "    </tr>\n",
       "    <tr>\n",
       "      <th>55</th>\n",
       "      <td>./hcp/sub-50007/MNINonLinear/Results/rest_bad_...</td>\n",
       "      <td>./hcp/sub-50007/MNINonLinear/Results/rest_bad_...</td>\n",
       "      <td>20</td>\n",
       "      <td>1</td>\n",
       "      <td>True</td>\n",
       "      <td>True</td>\n",
       "    </tr>\n",
       "    <tr>\n",
       "      <th>56</th>\n",
       "      <td>./hcp/sub-50007/MNINonLinear/Results/rest_test...</td>\n",
       "      <td>./hcp/sub-50007/MNINonLinear/Results/rest_test...</td>\n",
       "      <td>49</td>\n",
       "      <td>14</td>\n",
       "      <td>True</td>\n",
       "      <td>True</td>\n",
       "    </tr>\n",
       "    <tr>\n",
       "      <th>57</th>\n",
       "      <td>./hcp/sub-50007/MNINonLinear/Results/rest_test...</td>\n",
       "      <td>./hcp/sub-50007/MNINonLinear/Results/rest_test...</td>\n",
       "      <td>157</td>\n",
       "      <td>1</td>\n",
       "      <td>True</td>\n",
       "      <td>True</td>\n",
       "    </tr>\n",
       "    <tr>\n",
       "      <th>58</th>\n",
       "      <td>./hcp/sub-50007/MNINonLinear/Results/rest_test...</td>\n",
       "      <td>./hcp/sub-50007/MNINonLinear/Results/rest_test...</td>\n",
       "      <td>53</td>\n",
       "      <td>14</td>\n",
       "      <td>True</td>\n",
       "      <td>True</td>\n",
       "    </tr>\n",
       "    <tr>\n",
       "      <th>59</th>\n",
       "      <td>./hcp/sub-50007/MNINonLinear/Results/rest_test...</td>\n",
       "      <td>./hcp/sub-50007/MNINonLinear/Results/rest_test...</td>\n",
       "      <td>10</td>\n",
       "      <td>1</td>\n",
       "      <td>True</td>\n",
       "      <td>True</td>\n",
       "    </tr>\n",
       "    <tr>\n",
       "      <th>60</th>\n",
       "      <td>./PINT/concatenated.csv</td>\n",
       "      <td>./PINT/concatenated.csv</td>\n",
       "      <td>240</td>\n",
       "      <td>9</td>\n",
       "      <td>True</td>\n",
       "      <td>True</td>\n",
       "    </tr>\n",
       "    <tr>\n",
       "      <th>61</th>\n",
       "      <td>./PINT/ivertex_distances_roiidx14.csv</td>\n",
       "      <td>./PINT/ivertex_distances_roiidx14.csv</td>\n",
       "      <td>9</td>\n",
       "      <td>4</td>\n",
       "      <td>True</td>\n",
       "      <td>True</td>\n",
       "    </tr>\n",
       "    <tr>\n",
       "      <th>62</th>\n",
       "      <td>./PINT/ivertex_distances.csv</td>\n",
       "      <td>./PINT/ivertex_distances.csv</td>\n",
       "      <td>720</td>\n",
       "      <td>4</td>\n",
       "      <td>True</td>\n",
       "      <td>True</td>\n",
       "    </tr>\n",
       "    <tr>\n",
       "      <th>63</th>\n",
       "      <td>./PINT/sub-50005/sub-50005_ivertex_meants.csv</td>\n",
       "      <td>./PINT/sub-50005/sub-50005_ivertex_meants.csv</td>\n",
       "      <td>80</td>\n",
       "      <td>152</td>\n",
       "      <td>True</td>\n",
       "      <td>True</td>\n",
       "    </tr>\n",
       "    <tr>\n",
       "      <th>64</th>\n",
       "      <td>./PINT/sub-50005/sub-50005_summary.csv</td>\n",
       "      <td>./PINT/sub-50005/sub-50005_summary.csv</td>\n",
       "      <td>80</td>\n",
       "      <td>8</td>\n",
       "      <td>True</td>\n",
       "      <td>True</td>\n",
       "    </tr>\n",
       "    <tr>\n",
       "      <th>65</th>\n",
       "      <td>./PINT/sub-50005/sub-50005_tvertex_meants.csv</td>\n",
       "      <td>./PINT/sub-50005/sub-50005_tvertex_meants.csv</td>\n",
       "      <td>80</td>\n",
       "      <td>152</td>\n",
       "      <td>True</td>\n",
       "      <td>True</td>\n",
       "    </tr>\n",
       "    <tr>\n",
       "      <th>66</th>\n",
       "      <td>./PINT/sub-50007/sub-50007_all_ivertex_meants.csv</td>\n",
       "      <td>./PINT/sub-50007/sub-50007_all_ivertex_meants.csv</td>\n",
       "      <td>80</td>\n",
       "      <td>152</td>\n",
       "      <td>True</td>\n",
       "      <td>True</td>\n",
       "    </tr>\n",
       "    <tr>\n",
       "      <th>67</th>\n",
       "      <td>./PINT/sub-50007/sub-50007_all_summary.csv</td>\n",
       "      <td>./PINT/sub-50007/sub-50007_all_summary.csv</td>\n",
       "      <td>80</td>\n",
       "      <td>112</td>\n",
       "      <td>True</td>\n",
       "      <td>True</td>\n",
       "    </tr>\n",
       "    <tr>\n",
       "      <th>68</th>\n",
       "      <td>./PINT/sub-50007/sub-50007_all_tvertex_meants.csv</td>\n",
       "      <td>./PINT/sub-50007/sub-50007_all_tvertex_meants.csv</td>\n",
       "      <td>80</td>\n",
       "      <td>152</td>\n",
       "      <td>True</td>\n",
       "      <td>True</td>\n",
       "    </tr>\n",
       "    <tr>\n",
       "      <th>69</th>\n",
       "      <td>./PINT/sub-50007/sub-50007_ivertex_meants.csv</td>\n",
       "      <td>./PINT/sub-50007/sub-50007_ivertex_meants.csv</td>\n",
       "      <td>80</td>\n",
       "      <td>152</td>\n",
       "      <td>True</td>\n",
       "      <td>True</td>\n",
       "    </tr>\n",
       "    <tr>\n",
       "      <th>70</th>\n",
       "      <td>./PINT/sub-50007/sub-50007_summary.csv</td>\n",
       "      <td>./PINT/sub-50007/sub-50007_summary.csv</td>\n",
       "      <td>80</td>\n",
       "      <td>8</td>\n",
       "      <td>True</td>\n",
       "      <td>True</td>\n",
       "    </tr>\n",
       "    <tr>\n",
       "      <th>71</th>\n",
       "      <td>./PINT/sub-50007/sub-50007_tvertex_meants.csv</td>\n",
       "      <td>./PINT/sub-50007/sub-50007_tvertex_meants.csv</td>\n",
       "      <td>80</td>\n",
       "      <td>152</td>\n",
       "      <td>True</td>\n",
       "      <td>True</td>\n",
       "    </tr>\n",
       "    <tr>\n",
       "      <th>72</th>\n",
       "      <td>./rois/gaussian_roi_cortex.csv</td>\n",
       "      <td>./rois/gaussian_roi_cortex.csv</td>\n",
       "      <td>1</td>\n",
       "      <td>14</td>\n",
       "      <td>True</td>\n",
       "      <td>True</td>\n",
       "    </tr>\n",
       "    <tr>\n",
       "      <th>73</th>\n",
       "      <td>./rois/probmap_roi_cortex.csv</td>\n",
       "      <td>./rois/probmap_roi_cortex.csv</td>\n",
       "      <td>1</td>\n",
       "      <td>14</td>\n",
       "      <td>True</td>\n",
       "      <td>True</td>\n",
       "    </tr>\n",
       "    <tr>\n",
       "      <th>74</th>\n",
       "      <td>./rois/probmap_roi_withva_cortex.csv</td>\n",
       "      <td>./rois/probmap_roi_withva_cortex.csv</td>\n",
       "      <td>1</td>\n",
       "      <td>14</td>\n",
       "      <td>True</td>\n",
       "      <td>True</td>\n",
       "    </tr>\n",
       "    <tr>\n",
       "      <th>75</th>\n",
       "      <td>./hcp/sub-50005/MNINonLinear/Results/rest_test...</td>\n",
       "      <td>./ciftify_seed_corr/sub-50005_LEFT-HIPPOCAMPUS...</td>\n",
       "      <td>19</td>\n",
       "      <td>14</td>\n",
       "      <td>True</td>\n",
       "      <td>True</td>\n",
       "    </tr>\n",
       "    <tr>\n",
       "      <th>76</th>\n",
       "      <td>./hcp/sub-50005/MNINonLinear/Results/rest_test...</td>\n",
       "      <td>./ciftify_seed_corr/sub-50005_LEFT-HIPPOCAMPUS...</td>\n",
       "      <td>7</td>\n",
       "      <td>1</td>\n",
       "      <td>True</td>\n",
       "      <td>True</td>\n",
       "    </tr>\n",
       "    <tr>\n",
       "      <th>77</th>\n",
       "      <td>./hcp/sub-50005/MNINonLinear/Results/rest_test...</td>\n",
       "      <td>./hcp/sub-50005/MNINonLinear/Results/rest_test...</td>\n",
       "      <td>19</td>\n",
       "      <td>14</td>\n",
       "      <td>True</td>\n",
       "      <td>True</td>\n",
       "    </tr>\n",
       "    <tr>\n",
       "      <th>78</th>\n",
       "      <td>./hcp/sub-50005/MNINonLinear/Results/rest_test...</td>\n",
       "      <td>./hcp/sub-50005/MNINonLinear/Results/rest_test...</td>\n",
       "      <td>7</td>\n",
       "      <td>1</td>\n",
       "      <td>True</td>\n",
       "      <td>True</td>\n",
       "    </tr>\n",
       "  </tbody>\n",
       "</table>\n",
       "<p>79 rows × 6 columns</p>\n",
       "</div>"
      ],
      "text/plain": [
       "                                           compare_to  \\\n",
       "0   ./ciftify_seed_corr/sub-50005_aparc_ciftitocif...   \n",
       "1   ./ciftify_seed_corr/sub-50005_aparc_thickness_...   \n",
       "2   ./hcp/sub-50005/MNINonLinear/Results/rest_test...   \n",
       "3   ./hcp/sub-50005/MNINonLinear/Results/rest_test...   \n",
       "4   ./hcp/sub-50005/MNINonLinear/Results/rest_test...   \n",
       "5   ./hcp/sub-50005/MNINonLinear/Results/rest_test...   \n",
       "6   ./hcp/sub-50005/MNINonLinear/Results/rest_test...   \n",
       "7   ./hcp/sub-50005/MNINonLinear/Results/rest_test...   \n",
       "8   ./hcp/sub-50005/MNINonLinear/Results/rest_test...   \n",
       "9   ./hcp/sub-50005/MNINonLinear/Results/rest_test...   \n",
       "10  ./ciftify_seed_corr/sub-50005_RIGHT-PUTAMEN_ci...   \n",
       "11  ./ciftify_seed_corr/sub-50005_RIGHT-PUTAMEN_ci...   \n",
       "12  ./hcp/sub-50005/MNINonLinear/Results/rest_test...   \n",
       "13  ./hcp/sub-50005/MNINonLinear/Results/rest_test...   \n",
       "14  ./hcp/sub-50005/MNINonLinear/Results/rest_test...   \n",
       "15  ./hcp/sub-50005/MNINonLinear/Results/rest_test...   \n",
       "16  ./ciftify_seed_corr/sub-50005_tvertex_func_cif...   \n",
       "17  ./hcp/sub-50005/MNINonLinear/Results/rest_test...   \n",
       "18  ./hcp/sub-50005/MNINonLinear/Results/rest_test...   \n",
       "19  ./hcp/sub-50005/MNINonLinear/Results/rest_test...   \n",
       "20  ./hcp/sub-50005/MNINonLinear/Results/rest_test...   \n",
       "21  ./ciftify_seed_corr/sub-50005_wmparc_func_cift...   \n",
       "22  ./ciftify_seed_corr/sub-50005_wmparc_func_cift...   \n",
       "23  ./ciftify_seed_corr/sub-50005_wmparc_func_cift...   \n",
       "24  ./ciftify_seed_corr/sub-50005_wmparc_func_cift...   \n",
       "25  ./ciftify_seed_corr/sub-50005_wmparc_func_nift...   \n",
       "26  ./ciftify_seed_corr/sub-50005_wmparc_func_nift...   \n",
       "27  ./hcp/sub-50005/MNINonLinear/Results/rest_test...   \n",
       "28  ./hcp/sub-50005/MNINonLinear/Results/rest_test...   \n",
       "29  ./hcp/sub-50005/MNINonLinear/Results/rest_test...   \n",
       "..                                                ...   \n",
       "49  ./hcp/sub-50005/MNINonLinear/Results/rest_test...   \n",
       "50  ./hcp/sub-50005/MNINonLinear/Results/rest_test...   \n",
       "51  ./hcp/sub-50005/MNINonLinear/Results/rest_test...   \n",
       "52  ./hcp/sub-50007/MNINonLinear/Results/rest_bad_...   \n",
       "53  ./hcp/sub-50007/MNINonLinear/Results/rest_bad_...   \n",
       "54  ./hcp/sub-50007/MNINonLinear/Results/rest_bad_...   \n",
       "55  ./hcp/sub-50007/MNINonLinear/Results/rest_bad_...   \n",
       "56  ./hcp/sub-50007/MNINonLinear/Results/rest_test...   \n",
       "57  ./hcp/sub-50007/MNINonLinear/Results/rest_test...   \n",
       "58  ./hcp/sub-50007/MNINonLinear/Results/rest_test...   \n",
       "59  ./hcp/sub-50007/MNINonLinear/Results/rest_test...   \n",
       "60                            ./PINT/concatenated.csv   \n",
       "61              ./PINT/ivertex_distances_roiidx14.csv   \n",
       "62                       ./PINT/ivertex_distances.csv   \n",
       "63      ./PINT/sub-50005/sub-50005_ivertex_meants.csv   \n",
       "64             ./PINT/sub-50005/sub-50005_summary.csv   \n",
       "65      ./PINT/sub-50005/sub-50005_tvertex_meants.csv   \n",
       "66  ./PINT/sub-50007/sub-50007_all_ivertex_meants.csv   \n",
       "67         ./PINT/sub-50007/sub-50007_all_summary.csv   \n",
       "68  ./PINT/sub-50007/sub-50007_all_tvertex_meants.csv   \n",
       "69      ./PINT/sub-50007/sub-50007_ivertex_meants.csv   \n",
       "70             ./PINT/sub-50007/sub-50007_summary.csv   \n",
       "71      ./PINT/sub-50007/sub-50007_tvertex_meants.csv   \n",
       "72                     ./rois/gaussian_roi_cortex.csv   \n",
       "73                      ./rois/probmap_roi_cortex.csv   \n",
       "74               ./rois/probmap_roi_withva_cortex.csv   \n",
       "75  ./hcp/sub-50005/MNINonLinear/Results/rest_test...   \n",
       "76  ./hcp/sub-50005/MNINonLinear/Results/rest_test...   \n",
       "77  ./hcp/sub-50005/MNINonLinear/Results/rest_test...   \n",
       "78  ./hcp/sub-50005/MNINonLinear/Results/rest_test...   \n",
       "\n",
       "                                      expected_output num_rows num_cols  \\\n",
       "0   ./ciftify_seed_corr/sub-50005_aparc_ciftitocif...       71        6   \n",
       "1   ./ciftify_seed_corr/sub-50005_aparc_thickness_...       68        1   \n",
       "2   ./ciftify_seed_corr/sub-50005_gaussian_ciftito...       26       14   \n",
       "3   ./ciftify_seed_corr/sub-50005_gaussian_ciftito...        5        1   \n",
       "4   ./ciftify_seed_corr/sub-50005_gaussian_giftito...       26       14   \n",
       "5   ./ciftify_seed_corr/sub-50005_gaussian_giftito...        5        1   \n",
       "6   ./ciftify_seed_corr/sub-50005_probmap_ciftitoc...       12       14   \n",
       "7   ./ciftify_seed_corr/sub-50005_probmap_ciftitoc...        0        1   \n",
       "8   ./ciftify_seed_corr/sub-50005_probmap_giftitoc...       12       14   \n",
       "9   ./ciftify_seed_corr/sub-50005_probmap_giftitoc...        0        1   \n",
       "10  ./ciftify_seed_corr/sub-50005_RIGHT-PUTAMEN_ci...       45       14   \n",
       "11  ./ciftify_seed_corr/sub-50005_RIGHT-PUTAMEN_ci...        5        1   \n",
       "12  ./ciftify_seed_corr/sub-50005_RIGHT-PUTAMEN_ci...       19       14   \n",
       "13  ./ciftify_seed_corr/sub-50005_RIGHT-PUTAMEN_ci...        6        1   \n",
       "14  ./ciftify_seed_corr/sub-50005_RIGHT-PUTAMEN_ni...       19       14   \n",
       "15  ./ciftify_seed_corr/sub-50005_RIGHT-PUTAMEN_ni...        6        1   \n",
       "16  ./ciftify_seed_corr/sub-50005_tvertex_func_cif...        6      152   \n",
       "17  ./ciftify_seed_corr/sub-50005_tvertex7_ciftito...                     \n",
       "18  ./ciftify_seed_corr/sub-50005_tvertex7_ciftito...                     \n",
       "19  ./ciftify_seed_corr/sub-50005_tvertex7_giftito...                     \n",
       "20  ./ciftify_seed_corr/sub-50005_tvertex7_giftito...                     \n",
       "21  ./ciftify_seed_corr/sub-50005_wmparc_func_cift...     1266        6   \n",
       "22  ./ciftify_seed_corr/sub-50005_wmparc_func_cift...      170      152   \n",
       "23  ./ciftify_seed_corr/sub-50005_wmparc_func_cift...      170        1   \n",
       "24  ./ciftify_seed_corr/sub-50005_wmparc_func_cift...      170      152   \n",
       "25  ./ciftify_seed_corr/sub-50005_wmparc_func_nift...      181        1   \n",
       "26  ./ciftify_seed_corr/sub-50005_wmparc_func_nift...      181      152   \n",
       "27  ./hcp/sub-50005/MNINonLinear/Results/rest_test...                     \n",
       "28  ./hcp/sub-50005/MNINonLinear/Results/rest_test...                     \n",
       "29  ./hcp/sub-50005/MNINonLinear/Results/rest_test...       68      152   \n",
       "..                                                ...      ...      ...   \n",
       "49  ./hcp/sub-50005/MNINonLinear/Results/rest_test...        1      152   \n",
       "50  ./hcp/sub-50005/MNINonLinear/Results/rest_test...        7       14   \n",
       "51  ./hcp/sub-50005/MNINonLinear/Results/rest_test...       50        1   \n",
       "52  ./hcp/sub-50007/MNINonLinear/Results/rest_bad_...       61       14   \n",
       "53  ./hcp/sub-50007/MNINonLinear/Results/rest_bad_...      186        1   \n",
       "54  ./hcp/sub-50007/MNINonLinear/Results/rest_bad_...       58       14   \n",
       "55  ./hcp/sub-50007/MNINonLinear/Results/rest_bad_...       20        1   \n",
       "56  ./hcp/sub-50007/MNINonLinear/Results/rest_test...       49       14   \n",
       "57  ./hcp/sub-50007/MNINonLinear/Results/rest_test...      157        1   \n",
       "58  ./hcp/sub-50007/MNINonLinear/Results/rest_test...       53       14   \n",
       "59  ./hcp/sub-50007/MNINonLinear/Results/rest_test...       10        1   \n",
       "60                            ./PINT/concatenated.csv      240        9   \n",
       "61              ./PINT/ivertex_distances_roiidx14.csv        9        4   \n",
       "62                       ./PINT/ivertex_distances.csv      720        4   \n",
       "63      ./PINT/sub-50005/sub-50005_ivertex_meants.csv       80      152   \n",
       "64             ./PINT/sub-50005/sub-50005_summary.csv       80        8   \n",
       "65      ./PINT/sub-50005/sub-50005_tvertex_meants.csv       80      152   \n",
       "66  ./PINT/sub-50007/sub-50007_all_ivertex_meants.csv       80      152   \n",
       "67         ./PINT/sub-50007/sub-50007_all_summary.csv       80      112   \n",
       "68  ./PINT/sub-50007/sub-50007_all_tvertex_meants.csv       80      152   \n",
       "69      ./PINT/sub-50007/sub-50007_ivertex_meants.csv       80      152   \n",
       "70             ./PINT/sub-50007/sub-50007_summary.csv       80        8   \n",
       "71      ./PINT/sub-50007/sub-50007_tvertex_meants.csv       80      152   \n",
       "72                     ./rois/gaussian_roi_cortex.csv        1       14   \n",
       "73                      ./rois/probmap_roi_cortex.csv        1       14   \n",
       "74               ./rois/probmap_roi_withva_cortex.csv        1       14   \n",
       "75  ./ciftify_seed_corr/sub-50005_LEFT-HIPPOCAMPUS...       19       14   \n",
       "76  ./ciftify_seed_corr/sub-50005_LEFT-HIPPOCAMPUS...        7        1   \n",
       "77  ./hcp/sub-50005/MNINonLinear/Results/rest_test...       19       14   \n",
       "78  ./hcp/sub-50005/MNINonLinear/Results/rest_test...        7        1   \n",
       "\n",
       "   exists matches  \n",
       "0    True    True  \n",
       "1    True    True  \n",
       "2    True    True  \n",
       "3    True    True  \n",
       "4    True    True  \n",
       "5    True    True  \n",
       "6    True    True  \n",
       "7    True    True  \n",
       "8    True    True  \n",
       "9    True    True  \n",
       "10   True    True  \n",
       "11   True    True  \n",
       "12   True    True  \n",
       "13   True    True  \n",
       "14   True    True  \n",
       "15   True    True  \n",
       "16   True    True  \n",
       "17  False          \n",
       "18  False          \n",
       "19  False          \n",
       "20  False          \n",
       "21   True    True  \n",
       "22   True    True  \n",
       "23   True    True  \n",
       "24   True    True  \n",
       "25   True    True  \n",
       "26   True    True  \n",
       "27  False          \n",
       "28  False          \n",
       "29   True    True  \n",
       "..    ...     ...  \n",
       "49   True    True  \n",
       "50   True    True  \n",
       "51   True    True  \n",
       "52   True    True  \n",
       "53   True    True  \n",
       "54   True    True  \n",
       "55   True    True  \n",
       "56   True    True  \n",
       "57   True    True  \n",
       "58   True    True  \n",
       "59   True    True  \n",
       "60   True    True  \n",
       "61   True    True  \n",
       "62   True    True  \n",
       "63   True    True  \n",
       "64   True    True  \n",
       "65   True    True  \n",
       "66   True    True  \n",
       "67   True    True  \n",
       "68   True    True  \n",
       "69   True    True  \n",
       "70   True    True  \n",
       "71   True    True  \n",
       "72   True    True  \n",
       "73   True    True  \n",
       "74   True    True  \n",
       "75   True    True  \n",
       "76   True    True  \n",
       "77   True    True  \n",
       "78   True    True  \n",
       "\n",
       "[79 rows x 6 columns]"
      ]
     },
     "execution_count": 110,
     "metadata": {},
     "output_type": "execute_result"
    }
   ],
   "source": [
    "csv_df"
   ]
  },
  {
   "cell_type": "code",
   "execution_count": null,
   "metadata": {
    "collapsed": true
   },
   "outputs": [],
   "source": []
  }
 ],
 "metadata": {
  "kernelspec": {
   "display_name": "Python 3",
   "language": "python",
   "name": "python3"
  },
  "language_info": {
   "codemirror_mode": {
    "name": "ipython",
    "version": 3
   },
   "file_extension": ".py",
   "mimetype": "text/x-python",
   "name": "python",
   "nbconvert_exporter": "python",
   "pygments_lexer": "ipython3",
   "version": "3.6.1"
  }
 },
 "nbformat": 4,
 "nbformat_minor": 2
}
