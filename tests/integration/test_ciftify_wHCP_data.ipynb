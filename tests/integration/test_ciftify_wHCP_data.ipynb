{
 "cells": [
  {
   "cell_type": "markdown",
   "metadata": {},
   "source": [
    "# Test HCP data relevant scripts with ciftify"
   ]
  },
  {
   "cell_type": "code",
   "execution_count": 1,
   "metadata": {
    "collapsed": true
   },
   "outputs": [],
   "source": [
    "import ciftify\n",
    "from ciftify.utils import run\n",
    "import os\n",
    "import datetime\n",
    "import logging\n",
    "from glob import glob"
   ]
  },
  {
   "cell_type": "code",
   "execution_count": 2,
   "metadata": {},
   "outputs": [],
   "source": [
    "#working_dir = '/home/edickie/Documents/ciftify_tests/'\n",
    "working_dir = '/scratch/edickie/ciftify_intergration_tests/'\n",
    "src_data_dir= os.path.join(working_dir,'src_data')\n",
    "#work_from = '/home/edickie/Documents/ciftify_tests/run_2017-09/'\n",
    "work_from = '/scratch/edickie/ciftify_intergration_tests/run_2018-04-16/'\n",
    "#work_from = None\n",
    "\n",
    "fixtures_dir = '/projects/edickie/code/ciftify/tests/integration/fixtures/'\n",
    "\n",
    "if work_from:\n",
    "    new_outputs = work_from\n",
    "else:\n",
    "    new_outputs= os.path.join(working_dir,'run_{}'.format(datetime.date.today()))\n",
    "DEBUG = True\n",
    "DRYRUN = True\n",
    "\n",
    "## getting the data\n",
    "\n",
    "freesurfer_webtgz = 'https://s3.amazonaws.com/openneuro/ds000030/ds000030_R1.0.4/compressed/ds000030_R1.0.4_derivatives_freesurfer_sub50004-50008.zip'\n",
    "func_webtgz = 'https://s3.amazonaws.com/openneuro/ds000030/ds000030_R1.0.4/compressed/ds000030_R1.0.4_derivatives_sub50004-50008.zip'\n",
    "\n",
    "subids = ['sub-50005','sub-50007']\n",
    "#subids = ['sub-50005','sub-50006']\n",
    "\n",
    "logger = logging.getLogger('ciftify')\n",
    "logger.setLevel(logging.DEBUG)\n",
    "ch = logging.StreamHandler()\n",
    "ch.setLevel(logging.INFO)\n",
    "formatter = logging.Formatter('%(message)s')\n",
    "ch.setFormatter(formatter)\n",
    "logger.addHandler(ch)\n",
    "\n",
    "# Get settings, and add an extra handler for the subject log\n",
    "fh = logging.FileHandler(os.path.join(working_dir, 'ciftify_tests.log'))\n",
    "logger.addHandler(fh)\n",
    "\n",
    "fs_subjects_dir = os.path.join(src_data_dir, 'ds000030_R1.0.4',\n",
    "                               'derivatives','freesurfer')\n",
    "hcp_data_dir = os.path.join(new_outputs, 'hcp')\n",
    "\n",
    "if not os.path.exists(hcp_data_dir):\n",
    "    run(['mkdir','-p',hcp_data_dir])"
   ]
  },
  {
   "cell_type": "code",
   "execution_count": 3,
   "metadata": {
    "collapsed": true
   },
   "outputs": [],
   "source": [
    "def download_file(web_address, local_filename):\n",
    "    '''download file if it does not exist'''\n",
    "    if not os.path.isfile(local_filename):\n",
    "        run(['wget', web_address, '-O', local_filename])\n",
    "    if not os.path.getsize(local_filename) > 0:\n",
    "        os.remove(local_filename)"
   ]
  },
  {
   "cell_type": "code",
   "execution_count": 4,
   "metadata": {},
   "outputs": [
    {
     "name": "stderr",
     "output_type": "stream",
     "text": [
      "Running: mkdir -p /scratch/edickie/ciftify_intergration_tests/run_2018-04-16/HCP\n",
      "Running: ciftify_vol_result --debug --HCP-Pipelines --resample-nifti --hcp-data-dir /scratch/edickie/ciftify_intergration_tests/src_data/HCP --integer-labels 100307 /scratch/edickie/ciftify_intergration_tests/src_data/HCP/100307/MNINonLinear/aparc+aseg.nii.gz /scratch/edickie/ciftify_intergration_tests/run_2018-04-16/HCP/100307.aparc+aseg.32k_fs_LR.dscalar.nii\n",
      "[ciftify_vol_result] INFO: \n",
      "\n",
      "            .|';   ||          .|';\n",
      "       ''   ||     ||     ''   ||\n",
      ".|'',  ||  '||'  ''||''   ||  '||'  '||  ||`\n",
      "||     ||   ||     ||     ||   ||    `|..||\n",
      "`|..' .||. .||.    `|..' .||. .||.       ||\n",
      "                                      ,  |'\n",
      "                                       ''   \n",
      "-------------------------------------------------------------\n",
      "2018-04-23 16:59:06.385333 : Starting ciftify_vol_result\n",
      "-------------------------------------------------------------\n",
      "\n",
      "[ciftify.utils] INFO: Arguments:\n",
      "    !!python/object/new:docopt.Dict\n",
      "    dictitems:\n",
      "      --HCP-MSMAll: false\n",
      "      --HCP-Pipelines: true\n",
      "      --ciftify-work-dir: null\n",
      "      --debug: true\n",
      "      --dilate: null\n",
      "      --dry-run: false\n",
      "      --hcp-data-dir: /scratch/edickie/ciftify_intergration_tests/src_data/HCP\n",
      "      --help: false\n",
      "      --integer-labels: true\n",
      "      --resample-nifti: true\n",
      "      --subcortical-vol: null\n",
      "      --surface-vol: null\n",
      "      <output.dscalar.nii>: /scratch/edickie/ciftify_intergration_tests/run_2018-04-16/HCP/100307.aparc+aseg.32k_fs_LR.dscalar.nii\n",
      "      <subject>: '100307'\n",
      "      <vol.nii.gz>: /scratch/edickie/ciftify_intergration_tests/src_data/HCP/100307/MNINonLinear/aparc+aseg.nii.gz\n",
      "    \n",
      "[ciftify.utils] WARNING: Argument --hcp-data-dir has been deprecated. Please instead use --ciftify-work-dir in the future.\n",
      "[ciftify_vol_result] INFO: Creating tempdir:/tmp/tmp8oufi1_q on host:kandel.camhres.ca\n",
      "[ciftify.utils] INFO: Running: wb_command -volume-to-surface-mapping /scratch/edickie/ciftify_intergration_tests/src_data/HCP/100307/MNINonLinear/aparc+aseg.nii.gz /mnt/tigrlab/scratch/edickie/ciftify_intergration_tests/src_data/HCP/100307/MNINonLinear/fsaverage_LR32k/100307.L.midthickness.32k_fs_LR.surf.gii /tmp/tmp8oufi1_q/L.func.gii -enclosing\n",
      "[ciftify.utils] INFO: Running: wb_command -volume-to-surface-mapping /scratch/edickie/ciftify_intergration_tests/src_data/HCP/100307/MNINonLinear/aparc+aseg.nii.gz /mnt/tigrlab/scratch/edickie/ciftify_intergration_tests/src_data/HCP/100307/MNINonLinear/fsaverage_LR32k/100307.R.midthickness.32k_fs_LR.surf.gii /tmp/tmp8oufi1_q/R.func.gii -enclosing\n",
      "[ciftify.utils] INFO: Running: wb_command -volume-affine-resample /scratch/edickie/ciftify_intergration_tests/src_data/HCP/100307/MNINonLinear/aparc+aseg.nii.gz /opt/quarantine/FSL/5.0.10/build/etc/flirtsch/ident.mat /mnt/tigrlab/scratch/edickie/ciftify_intergration_tests/src_data/HCP/100307/MNINonLinear/ROIs/Atlas_ROIs.2.nii.gz ENCLOSING_VOXEL /tmp/tmp8oufi1_q/input_nii_r.nii.gz\n",
      "[ciftify.utils] INFO: Running: wb_command -cifti-create-dense-scalar /mnt/tigrlab/scratch/edickie/ciftify_intergration_tests/run_2018-04-16/HCP/100307.aparc+aseg.32k_fs_LR.dscalar.nii -volume /tmp/tmp8oufi1_q/input_nii_r.nii.gz /mnt/tigrlab/scratch/edickie/ciftify_intergration_tests/src_data/HCP/100307/MNINonLinear/ROIs/Atlas_ROIs.2.nii.gz -left-metric /tmp/tmp8oufi1_q/L.func.gii -roi-left /mnt/tigrlab/scratch/edickie/ciftify_intergration_tests/src_data/HCP/100307/MNINonLinear/fsaverage_LR32k/100307.L.atlasroi.32k_fs_LR.shape.gii -right-metric /tmp/tmp8oufi1_q/R.func.gii -roi-right /mnt/tigrlab/scratch/edickie/ciftify_intergration_tests/src_data/HCP/100307/MNINonLinear/fsaverage_LR32k/100307.R.atlasroi.32k_fs_LR.shape.gii\n",
      "[ciftify_vol_result] INFO: \n",
      "-------------------------------------------------------------\n",
      "2018-04-23 16:59:11.071605 : Done ciftify_vol_result\n",
      "-------------------------------------------------------------\n",
      "\n",
      "\n"
     ]
    }
   ],
   "source": [
    "HCP_subid = '100307'\n",
    "HCP_src_dir = os.path.join(src_data_dir, 'HCP') \n",
    "label_vol = os.path.join(HCP_src_dir, HCP_subid, 'MNINonLinear', 'aparc+aseg.nii.gz')\n",
    "scalar_vol = os.path.join(HCP_src_dir, HCP_subid, 'MNINonLinear', 'T2w_restore.nii.gz')\n",
    "\n",
    "run_HCP_tests = True if os.path.exists(HCP_src_dir) else False\n",
    "\n",
    "if run_HCP_tests:\n",
    "    HCP_out_dir = os.path.join(new_outputs, 'HCP')\n",
    "    run(['mkdir', '-p', HCP_out_dir])\n",
    "    run(['ciftify_vol_result', '--debug','--HCP-Pipelines', '--resample-nifti',\n",
    "         '--hcp-data-dir', HCP_src_dir,\n",
    "        '--integer-labels', HCP_subid, label_vol, \n",
    "         os.path.join(HCP_out_dir, '{}.aparc+aseg.32k_fs_LR.dscalar.nii'.format(HCP_subid))])"
   ]
  },
  {
   "cell_type": "code",
   "execution_count": 5,
   "metadata": {},
   "outputs": [
    {
     "name": "stderr",
     "output_type": "stream",
     "text": [
      "Running: ciftify_vol_result --HCP-Pipelines --HCP-MSMAll --resample-nifti --ciftify-work-dir /scratch/edickie/ciftify_intergration_tests/src_data/HCP --integer-labels 100307 /scratch/edickie/ciftify_intergration_tests/src_data/HCP/100307/MNINonLinear/aparc+aseg.nii.gz /scratch/edickie/ciftify_intergration_tests/run_2018-04-16/HCP/100307.aparc+aseg_MSMAll.32k_fs_LR.dscalar.nii\n"
     ]
    }
   ],
   "source": [
    "if run_HCP_tests:\n",
    "    run(['ciftify_vol_result','--HCP-Pipelines', '--HCP-MSMAll','--resample-nifti',\n",
    "         '--ciftify-work-dir', HCP_src_dir,\n",
    "        '--integer-labels', HCP_subid, label_vol, \n",
    "         os.path.join(HCP_out_dir, '{}.aparc+aseg_MSMAll.32k_fs_LR.dscalar.nii'.format(HCP_subid))])"
   ]
  },
  {
   "cell_type": "code",
   "execution_count": 6,
   "metadata": {},
   "outputs": [
    {
     "name": "stderr",
     "output_type": "stream",
     "text": [
      "Running: ciftify_vol_result --HCP-Pipelines --HCP-MSMAll --resample-nifti --ciftify-work-dir /scratch/edickie/ciftify_intergration_tests/src_data/HCP --integer-labels 100307 /scratch/edickie/ciftify_intergration_tests/src_data/HCP/100307/MNINonLinear/aparc+aseg.nii.gz /scratch/edickie/ciftify_intergration_tests/run_2018-04-16/HCP/100307.aparc+aseg_MSMAll.32k_fs_LR.dscalar.nii\n"
     ]
    }
   ],
   "source": [
    "if run_HCP_tests:\n",
    "    run(['ciftify_vol_result','--HCP-Pipelines', '--HCP-MSMAll','--resample-nifti',\n",
    "         '--ciftify-work-dir', HCP_src_dir,\n",
    "        '--integer-labels', HCP_subid, label_vol, \n",
    "         os.path.join(HCP_out_dir, '{}.aparc+aseg_MSMAll.32k_fs_LR.dscalar.nii'.format(HCP_subid))])"
   ]
  },
  {
   "cell_type": "code",
   "execution_count": 7,
   "metadata": {},
   "outputs": [
    {
     "name": "stderr",
     "output_type": "stream",
     "text": [
      "Running: ciftify_vol_result --HCP-Pipelines --resample-nifti --ciftify-work-dir /scratch/edickie/ciftify_intergration_tests/src_data/HCP 100307 /scratch/edickie/ciftify_intergration_tests/src_data/HCP/100307/MNINonLinear/T2w_restore.nii.gz /scratch/edickie/ciftify_intergration_tests/run_2018-04-16/HCP/100307.T2w_restore.32k_fs_LR.dscalar.nii\n"
     ]
    }
   ],
   "source": [
    "if run_HCP_tests:\n",
    "    run(['ciftify_vol_result','--HCP-Pipelines', '--resample-nifti',\n",
    "         '--ciftify-work-dir', HCP_src_dir, HCP_subid, \n",
    "         os.path.join(HCP_src_dir, HCP_subid, 'MNINonLinear', 'T2w_restore.nii.gz'),\n",
    "         os.path.join(HCP_out_dir, '{}.T2w_restore.32k_fs_LR.dscalar.nii'.format(HCP_subid))])"
   ]
  },
  {
   "cell_type": "code",
   "execution_count": 8,
   "metadata": {},
   "outputs": [
    {
     "name": "stderr",
     "output_type": "stream",
     "text": [
      "Running: ciftify_vol_result --HCP-Pipelines --HCP-MSMAll --ciftify-work-dir /scratch/edickie/ciftify_intergration_tests/src_data/HCP 100307 /scratch/edickie/ciftify_intergration_tests/src_data/HCP/100307/MNINonLinear/T2w_restore.2.nii.gz /scratch/edickie/ciftify_intergration_tests/run_2018-04-16/HCP/100307.T2w_restore_MSMAll.32k_fs_LR.dscalar.nii\n"
     ]
    }
   ],
   "source": [
    "if run_HCP_tests:\n",
    "    run(['ciftify_vol_result','--HCP-Pipelines', '--HCP-MSMAll',\n",
    "         '--ciftify-work-dir', HCP_src_dir, HCP_subid, \n",
    "         os.path.join(HCP_src_dir, HCP_subid, 'MNINonLinear', 'T2w_restore.2.nii.gz'),\n",
    "         os.path.join(HCP_out_dir, '{}.T2w_restore_MSMAll.32k_fs_LR.dscalar.nii'.format(HCP_subid))])"
   ]
  }
 ],
 "metadata": {
  "kernelspec": {
   "display_name": "Python 3",
   "language": "python",
   "name": "python3"
  },
  "language_info": {
   "codemirror_mode": {
    "name": "ipython",
    "version": 3
   },
   "file_extension": ".py",
   "mimetype": "text/x-python",
   "name": "python",
   "nbconvert_exporter": "python",
   "pygments_lexer": "ipython3",
   "version": "3.6.1"
  }
 },
 "nbformat": 4,
 "nbformat_minor": 2
}
