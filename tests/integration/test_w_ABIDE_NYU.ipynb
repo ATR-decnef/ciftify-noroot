{
 "cells": [
  {
   "cell_type": "markdown",
   "metadata": {},
   "source": [
    "# Running ciftify integration tests using the ABIDE NYU data\n",
    "\n",
    "Here we are splitting out the bit of the integration test that can be run on ABIDE NYU data in prep for running some tests in parallel\n",
    "\n",
    "The purpose of the tests run with ABIDE NYU Data are:\n",
    "+ to test ciftify_recon_all on a freesurfer 5.3 outputs \n",
    "+ to test some of cifti_vis functions that plot nifti results"
   ]
  },
  {
   "cell_type": "code",
   "execution_count": 2,
   "metadata": {},
   "outputs": [],
   "source": [
    "import ciftify\n",
    "from ciftify.utils import run\n",
    "import os\n",
    "import datetime\n",
    "import logging\n",
    "from glob import glob"
   ]
  },
  {
   "cell_type": "code",
   "execution_count": 4,
   "metadata": {
    "collapsed": true
   },
   "outputs": [],
   "source": [
    "#working_dir = '/home/edickie/Documents/ciftify_tests/'\n",
    "working_dir = '/scratch/edickie/ciftify_intergration_tests/'\n",
    "src_data_dir= os.path.join(working_dir,'src_data')\n",
    "#work_from = '/home/edickie/Documents/ciftify_tests/run_2017-09-08/'\n",
    "#work_from = '/scratch/edickie/ciftify_intergration_tests/run_2017-09-25_py36_sc2017-10-13/'\n",
    "work_from = None\n",
    "\n",
    "fixtures_dir = '/projects/edickie/code/ciftify/tests/integration/fixtures/'\n",
    "\n",
    "if work_from:\n",
    "    new_outputs = work_from\n",
    "else:\n",
    "    new_outputs= os.path.join(working_dir,'run_{}'.format(datetime.date.today()))\n",
    "DEBUG = True\n",
    "DRYRUN = True"
   ]
  },
  {
   "cell_type": "code",
   "execution_count": 5,
   "metadata": {},
   "outputs": [
    {
     "name": "stderr",
     "output_type": "stream",
     "text": [
      "Running: mkdir -p /scratch/edickie/ciftify_intergration_tests/run_2018-04-16/hcp\n"
     ]
    }
   ],
   "source": [
    "logger = logging.getLogger('ciftify')\n",
    "logger.setLevel(logging.DEBUG)\n",
    "ch = logging.StreamHandler()\n",
    "ch.setLevel(logging.INFO)\n",
    "formatter = logging.Formatter('%(message)s')\n",
    "ch.setFormatter(formatter)\n",
    "logger.addHandler(ch)\n",
    "\n",
    "# Get settings, and add an extra handler for the subject log\n",
    "fh = logging.FileHandler(os.path.join(working_dir, 'ciftify_tests.log'))\n",
    "logger.addHandler(fh)\n",
    "\n",
    "hcp_data_dir = os.path.join(new_outputs, 'hcp')\n",
    "\n",
    "if not os.path.exists(hcp_data_dir):\n",
    "    run(['mkdir','-p',hcp_data_dir])"
   ]
  },
  {
   "cell_type": "code",
   "execution_count": 6,
   "metadata": {
    "collapsed": true
   },
   "outputs": [],
   "source": [
    "def download_file(web_address, local_filename):\n",
    "    '''download file if it does not exist'''\n",
    "    if not os.path.isfile(local_filename):\n",
    "        run(['wget', web_address, '-O', local_filename])\n",
    "    if not os.path.getsize(local_filename) > 0:\n",
    "        os.remove(local_filename)"
   ]
  },
  {
   "cell_type": "code",
   "execution_count": 7,
   "metadata": {
    "collapsed": true
   },
   "outputs": [],
   "source": [
    "def get_recon_all_outputs(hcp_data_dir, subid):\n",
    "    recon_all_out = folder_contents_list(os.path.join(hcp_data_dir, subid))\n",
    "    recon_all_out = [x.replace(subid, 'subid') for x in recon_all_out]\n",
    "    return(recon_all_out)"
   ]
  },
  {
   "cell_type": "code",
   "execution_count": 8,
   "metadata": {},
   "outputs": [
    {
     "name": "stderr",
     "output_type": "stream",
     "text": [
      "Running: wget https://s3.amazonaws.com/fcp-indi/data/Projects/ABIDE_Initiative/Outputs/freesurfer/5.1/NYU_0050954/mri/aparc%20aseg.mgz -O /scratch/edickie/ciftify_intergration_tests/src_data/abide/freesurfer/NYU_0050954/mri/aparc+aseg.mgz\n",
      "cmd: wget https://s3.amazonaws.com/fcp-indi/data/Projects/ABIDE_Initiative/Outputs/freesurfer/5.1/NYU_0050954/mri/aparc%20aseg.mgz -O /scratch/edickie/ciftify_intergration_tests/src_data/abide/freesurfer/NYU_0050954/mri/aparc+aseg.mgz \n",
      " Failed with returncode 8\n",
      "--2018-04-16 12:05:03--  https://s3.amazonaws.com/fcp-indi/data/Projects/ABIDE_Initiative/Outputs/freesurfer/5.1/NYU_0050954/mri/aparc%20aseg.mgz\n",
      "Resolving s3.amazonaws.com (s3.amazonaws.com)... 52.216.64.131\n",
      "Connecting to s3.amazonaws.com (s3.amazonaws.com)|52.216.64.131|:443... connected.\n",
      "HTTP request sent, awaiting response... 404 Not Found\n",
      "2018-04-16 12:05:03 ERROR 404: Not Found.\n",
      "\n",
      "\n",
      "Running: wget https://s3.amazonaws.com/fcp-indi/data/Projects/ABIDE_Initiative/Outputs/freesurfer/5.1/NYU_0050954/mri/aparc.a2009s%20aseg.mgz -O /scratch/edickie/ciftify_intergration_tests/src_data/abide/freesurfer/NYU_0050954/mri/aparc.a2009s+aseg.mgz\n",
      "cmd: wget https://s3.amazonaws.com/fcp-indi/data/Projects/ABIDE_Initiative/Outputs/freesurfer/5.1/NYU_0050954/mri/aparc.a2009s%20aseg.mgz -O /scratch/edickie/ciftify_intergration_tests/src_data/abide/freesurfer/NYU_0050954/mri/aparc.a2009s+aseg.mgz \n",
      " Failed with returncode 8\n",
      "--2018-04-16 12:05:03--  https://s3.amazonaws.com/fcp-indi/data/Projects/ABIDE_Initiative/Outputs/freesurfer/5.1/NYU_0050954/mri/aparc.a2009s%20aseg.mgz\n",
      "Resolving s3.amazonaws.com (s3.amazonaws.com)... 52.216.64.131\n",
      "Connecting to s3.amazonaws.com (s3.amazonaws.com)|52.216.64.131|:443... connected.\n",
      "HTTP request sent, awaiting response... 404 Not Found\n",
      "2018-04-16 12:05:03 ERROR 404: Not Found.\n",
      "\n",
      "\n"
     ]
    }
   ],
   "source": [
    "abide_amazon_addy = 'https://s3.amazonaws.com/fcp-indi/data/Projects/ABIDE_Initiative/Outputs/freesurfer/5.1'\n",
    "\n",
    "subid = 'NYU_0050954'\n",
    "abide_freesurfer = os.path.join(src_data_dir, 'abide', 'freesurfer')\n",
    "\n",
    "fs_subdir = os.path.join(abide_freesurfer, subid)\n",
    "if not os.path.exists(fs_subdir):    \n",
    "    run(['mkdir', '-p', fs_subdir])\n",
    "\n",
    "for subdir in ['mri', 'surf','label','scripts']:\n",
    "    localdir = os.path.join(fs_subdir, subdir)\n",
    "    if not os.path.exists(localdir):\n",
    "        run(['mkdir', '-p', localdir])\n",
    "    \n",
    "for filename in ['T1.mgz', 'aparc+aseg.mgz', 'aparc.a2009s+aseg.mgz', 'wmparc.mgz', 'brain.finalsurfs.mgz']:\n",
    "    download_file(os.path.join(abide_amazon_addy, subid, 'mri', filename.replace('+','%20')),\n",
    "                               os.path.join(fs_subdir, 'mri', filename))\n",
    "\n",
    "for surface in ['pial', 'white', 'sphere.reg', 'sphere', 'curv', 'sulc', 'thickness']:\n",
    "    for hemi in ['lh', 'rh']:\n",
    "        download_file(os.path.join(abide_amazon_addy, subid, 'surf', '{}.{}'.format(hemi,surface)),\n",
    "                      os.path.join(fs_subdir, 'surf', '{}.{}'.format(hemi,surface)))\n",
    "\n",
    "for labelname in ['aparc', 'aparc.a2009s', 'BA']:\n",
    "    for hemi in ['lh', 'rh']:\n",
    "        download_file(os.path.join(abide_amazon_addy, subid, 'label', '{}.{}.annot'.format(hemi,labelname)),\n",
    "                      os.path.join(fs_subdir, 'label', '{}.{}.annot'.format(hemi,labelname))) \n",
    "\n",
    "for script in ['recon-all.done', 'build-stamp.txt']:\n",
    "    download_file(os.path.join(abide_amazon_addy, subid, 'scripts', script), \n",
    "                  os.path.join(fs_subdir, 'scripts', script))"
   ]
  },
  {
   "cell_type": "code",
   "execution_count": 33,
   "metadata": {},
   "outputs": [
    {
     "name": "stderr",
     "output_type": "stream",
     "text": [
      "Running: ciftify_recon_all --hcp-data-dir /scratch/edickie/ciftify_intergration_tests/run_2018-04-16/hcp --fs-subjects-dir /scratch/edickie/ciftify_intergration_tests/src_data/abide/freesurfer NYU_0050954\n",
      "Argument --hcp-data-dir has been deprecated. Please instead use --ciftify-work-dir in the future.\n",
      "/scratch/edickie/ciftify_intergration_tests/src_data/abide/freesurfer/NYU_0050954/mri/aparc.a2009s+aseg.mgz not found\n",
      "/scratch/edickie/ciftify_intergration_tests/src_data/abide/freesurfer/NYU_0050954/mri/aparc+aseg.mgz not found\n",
      "\n"
     ]
    },
    {
     "data": {
      "text/plain": [
       "0"
      ]
     },
     "execution_count": 33,
     "metadata": {},
     "output_type": "execute_result"
    }
   ],
   "source": [
    "run(['ciftify_recon_all', '--hcp-data-dir', hcp_data_dir,\n",
    "        '--fs-subjects-dir', abide_freesurfer, \n",
    "        'NYU_0050954'])"
   ]
  },
  {
   "cell_type": "code",
   "execution_count": 34,
   "metadata": {},
   "outputs": [
    {
     "name": "stderr",
     "output_type": "stream",
     "text": [
      "Running: cifti_vis_recon_all snaps --hcp-data-dir /scratch/edickie/ciftify_intergration_tests/run_2018-04-16/hcp NYU_0050954\n",
      "[cifti_vis_recon_all] WARNING: The 'snaps' argument has be deprecated. Please use 'subject' in the future.\n",
      "[ciftify.utils] WARNING: Argument --hcp-data-dir has been deprecated. Please instead use --ciftify-work-dir in the future.\n",
      "\n",
      "Running: cifti_vis_recon_all index --hcp-data-dir /scratch/edickie/ciftify_intergration_tests/run_2018-04-16/hcp\n",
      "[ciftify.utils] WARNING: Argument --hcp-data-dir has been deprecated. Please instead use --ciftify-work-dir in the future.\n",
      "\n"
     ]
    },
    {
     "data": {
      "text/plain": [
       "0"
      ]
     },
     "execution_count": 34,
     "metadata": {},
     "output_type": "execute_result"
    }
   ],
   "source": [
    "run(['cifti_vis_recon_all', 'snaps', '--hcp-data-dir',hcp_data_dir, 'NYU_0050954'])\n",
    "run(['cifti_vis_recon_all', 'index', '--hcp-data-dir', hcp_data_dir])"
   ]
  },
  {
   "cell_type": "code",
   "execution_count": 41,
   "metadata": {},
   "outputs": [
    {
     "name": "stderr",
     "output_type": "stream",
     "text": [
      "Running: mkdir /scratch/edickie/ciftify_intergration_tests/run_2018-04-16/hcp_msm\n",
      "Running: ciftify_recon_all --hcp-data-dir /scratch/edickie/ciftify_intergration_tests/run_2018-04-16/hcp_msm --fs-subjects-dir /scratch/edickie/ciftify_intergration_tests/src_data/abide/freesurfer NYU_0050954\n",
      "Argument --hcp-data-dir has been deprecated. Please instead use --ciftify-work-dir in the future.\n",
      "/scratch/edickie/ciftify_intergration_tests/src_data/abide/freesurfer/NYU_0050954/mri/aparc.a2009s+aseg.mgz not found\n",
      "/scratch/edickie/ciftify_intergration_tests/src_data/abide/freesurfer/NYU_0050954/mri/aparc+aseg.mgz not found\n",
      "\n"
     ]
    },
    {
     "data": {
      "text/plain": [
       "0"
      ]
     },
     "execution_count": 41,
     "metadata": {},
     "output_type": "execute_result"
    }
   ],
   "source": [
    "msm_hcp = '{}_msm'.format(hcp_data_dir)\n",
    "run(['mkdir', msm_hcp])\n",
    "run(['ciftify_recon_all', '--hcp-data-dir', msm_hcp,\n",
    "        '--fs-subjects-dir', abide_freesurfer, \n",
    "        'NYU_0050954'])"
   ]
  },
  {
   "cell_type": "markdown",
   "metadata": {},
   "source": [
    "##  Download ABIDE PCP data for ciftify_vol_result tests"
   ]
  },
  {
   "cell_type": "code",
   "execution_count": 35,
   "metadata": {
    "collapsed": true
   },
   "outputs": [],
   "source": [
    "def download_vmhc(subid):\n",
    "    amazon_addy = 'https://s3.amazonaws.com/fcp-indi/data/Projects/ABIDE_Initiative/Outputs/cpac/filt_global/vmhc/{}_vmhc.nii.gz'.format(subid)\n",
    "    sub_vmhc = os.path.join(src_vmhc, '{}_vmhc.nii.gz'.format(subid))\n",
    "    download_file(amazon_addy, sub_vmhc)        \n",
    "\n",
    "src_vmhc = os.path.join(src_data_dir, 'abide', 'vmhc')    \n",
    "if not os.path.exists(src_vmhc): \n",
    "    run(['mkdir', src_vmhc])\n",
    "\n",
    "subjects=['NYU_0050954','NYU_0050955']\n",
    "for subid in subjects:\n",
    "    download_vmhc(subid)"
   ]
  },
  {
   "cell_type": "code",
   "execution_count": 36,
   "metadata": {},
   "outputs": [
    {
     "name": "stderr",
     "output_type": "stream",
     "text": [
      "Running: cifti_vis_map nifti-snaps --hcp-data-dir /scratch/edickie/ciftify_intergration_tests/run_2018-04-16/hcp --qcdir /scratch/edickie/ciftify_intergration_tests/run_2018-04-16/hcp/abide_vmhc_vis --resample-nifti --colour-palette fidl /scratch/edickie/ciftify_intergration_tests/src_data/abide/vmhc/NYU_0050954_vmhc.nii.gz NYU_0050954 NYU_0050954_vmhc\n",
      "[cifti_vis_map] WARNING: The 'snaps' argument has be deprecated. Please use 'subject' in the future.\n",
      "[ciftify.utils] WARNING: Argument --hcp-data-dir has been deprecated. Please instead use --ciftify-work-dir in the future.\n",
      "\n"
     ]
    },
    {
     "data": {
      "text/plain": [
       "0"
      ]
     },
     "execution_count": 36,
     "metadata": {},
     "output_type": "execute_result"
    }
   ],
   "source": [
    "subject = 'NYU_0050954'\n",
    "run(['cifti_vis_map', 'nifti-snaps',\n",
    "        '--hcp-data-dir', hcp_data_dir,\n",
    "        '--qcdir', os.path.join(hcp_data_dir, 'abide_vmhc_vis'),\n",
    "        '--resample-nifti', '--colour-palette', 'fidl', \n",
    "        os.path.join(src_vmhc, '{}_vmhc.nii.gz'.format(subject)), subject, '{}_vmhc'.format(subject)])"
   ]
  },
  {
   "cell_type": "code",
   "execution_count": 37,
   "metadata": {},
   "outputs": [
    {
     "name": "stderr",
     "output_type": "stream",
     "text": [
      "Running: cifti_vis_map nifti-snaps --hcp-data-dir /scratch/edickie/ciftify_intergration_tests/run_2018-04-16/hcp --qcdir /scratch/edickie/ciftify_intergration_tests/run_2018-04-16/hcp/abide_vmhc_vis --resample-nifti /scratch/edickie/ciftify_intergration_tests/src_data/abide/vmhc/NYU_0050954_vmhc.nii.gz NYU_0050954 NYU_0050954_vmhc_dcol\n",
      "[cifti_vis_map] WARNING: The 'snaps' argument has be deprecated. Please use 'subject' in the future.\n",
      "[ciftify.utils] WARNING: Argument --hcp-data-dir has been deprecated. Please instead use --ciftify-work-dir in the future.\n",
      "\n"
     ]
    },
    {
     "data": {
      "text/plain": [
       "0"
      ]
     },
     "execution_count": 37,
     "metadata": {},
     "output_type": "execute_result"
    }
   ],
   "source": [
    "subject = 'NYU_0050954'\n",
    "run(['cifti_vis_map', 'nifti-snaps',\n",
    "        '--hcp-data-dir', hcp_data_dir,\n",
    "        '--qcdir', os.path.join(hcp_data_dir, 'abide_vmhc_vis'),\n",
    "        '--resample-nifti',  \n",
    "        os.path.join(src_vmhc, '{}_vmhc.nii.gz'.format(subject)), subject, '{}_vmhc_dcol'.format(subject)])"
   ]
  },
  {
   "cell_type": "code",
   "execution_count": 38,
   "metadata": {},
   "outputs": [
    {
     "name": "stderr",
     "output_type": "stream",
     "text": [
      "Running: cifti_vis_map nifti-snaps --qcdir /scratch/edickie/ciftify_intergration_tests/run_2018-04-16/hcp/abide_vmhc_vis --resample-nifti --colour-palette fidl /scratch/edickie/ciftify_intergration_tests/src_data/abide/vmhc/NYU_0050954_vmhc.nii.gz HCP_S1200_GroupAvg NYU_0050954_vmhc\n",
      "[cifti_vis_map] WARNING: The 'snaps' argument has be deprecated. Please use 'subject' in the future.\n",
      "\n"
     ]
    },
    {
     "data": {
      "text/plain": [
       "0"
      ]
     },
     "execution_count": 38,
     "metadata": {},
     "output_type": "execute_result"
    }
   ],
   "source": [
    "subject = 'NYU_0050954'\n",
    "run(['cifti_vis_map', 'nifti-snaps', \n",
    "        '--qcdir', os.path.join(hcp_data_dir, 'abide_vmhc_vis'),\n",
    "        '--resample-nifti', '--colour-palette', 'fidl', \n",
    "        os.path.join(src_vmhc, '{}_vmhc.nii.gz'.format(subject)), 'HCP_S1200_GroupAvg', '{}_vmhc'.format(subject)])"
   ]
  },
  {
   "cell_type": "code",
   "execution_count": 39,
   "metadata": {},
   "outputs": [
    {
     "name": "stderr",
     "output_type": "stream",
     "text": [
      "Running: cifti_vis_map nifti-snaps --qcdir /scratch/edickie/ciftify_intergration_tests/run_2018-04-16/hcp/abide_vmhc_vis --resample-nifti /scratch/edickie/ciftify_intergration_tests/src_data/abide/vmhc/NYU_0050955_vmhc.nii.gz HCP_S1200_GroupAvg NYU_0050955_vmhc\n",
      "[cifti_vis_map] WARNING: The 'snaps' argument has be deprecated. Please use 'subject' in the future.\n",
      "\n"
     ]
    },
    {
     "data": {
      "text/plain": [
       "0"
      ]
     },
     "execution_count": 39,
     "metadata": {},
     "output_type": "execute_result"
    }
   ],
   "source": [
    "subject = 'NYU_0050955'\n",
    "run(['cifti_vis_map', 'nifti-snaps',\n",
    "        '--qcdir', os.path.join(hcp_data_dir, 'abide_vmhc_vis'),\n",
    "        '--resample-nifti',\n",
    "        os.path.join(src_vmhc, '{}_vmhc.nii.gz'.format(subject)), 'HCP_S1200_GroupAvg', '{}_vmhc'.format(subject)])"
   ]
  },
  {
   "cell_type": "code",
   "execution_count": 40,
   "metadata": {},
   "outputs": [
    {
     "name": "stderr",
     "output_type": "stream",
     "text": [
      "Running: cifti_vis_map index --hcp-data-dir /tmp --qcdir /scratch/edickie/ciftify_intergration_tests/run_2018-04-16/hcp/abide_vmhc_vis\n",
      "[ciftify.utils] WARNING: Argument --hcp-data-dir has been deprecated. Please instead use --ciftify-work-dir in the future.\n",
      "\n"
     ]
    },
    {
     "data": {
      "text/plain": [
       "0"
      ]
     },
     "execution_count": 40,
     "metadata": {},
     "output_type": "execute_result"
    }
   ],
   "source": [
    "run(['cifti_vis_map', 'index',\n",
    "        '--hcp-data-dir', '/tmp',\n",
    "        '--qcdir', os.path.join(hcp_data_dir, 'abide_vmhc_vis')])"
   ]
  }
 ],
 "metadata": {
  "kernelspec": {
   "display_name": "Python 3",
   "language": "python",
   "name": "python3"
  },
  "language_info": {
   "codemirror_mode": {
    "name": "ipython",
    "version": 3
   },
   "file_extension": ".py",
   "mimetype": "text/x-python",
   "name": "python",
   "nbconvert_exporter": "python",
   "pygments_lexer": "ipython3",
   "version": "3.6.1"
  }
 },
 "nbformat": 4,
 "nbformat_minor": 2
}
